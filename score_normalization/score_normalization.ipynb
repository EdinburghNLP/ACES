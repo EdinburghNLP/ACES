{
 "cells": [
  {
   "cell_type": "code",
   "execution_count": 1,
   "id": "aa50da46",
   "metadata": {},
   "outputs": [],
   "source": [
    "#!/usr/bin/env python3\n",
    "import os, sys\n",
    "sys.path.append(os.path.abspath(os.path.join(os.getcwd(), \"ACES_private/score_normalization\")))\n",
    "from normalize_scores_utils import *"
   ]
  },
  {
   "cell_type": "markdown",
   "id": "a7dd8810",
   "metadata": {},
   "source": [
    "# Normalize the Metric Names: Should be same for all"
   ]
  },
  {
   "cell_type": "code",
   "execution_count": 52,
   "id": "6c4782ed",
   "metadata": {},
   "outputs": [],
   "source": [
    "# get the metric names from WMT scores\n",
    "lang_dir = os.path.join(WMT_scores_path, 'cs-en')\n",
    "files = os.listdir(lang_dir)\n",
    "WMT_metric_names = []\n",
    "os.listdir(lang_dir)\n",
    "for file in files:\n",
    "    if '-refC.seg.score' in file:\n",
    "        WMT_metric_names.append(file[:-15])\n",
    "    elif '-src.seg.score' in file:\n",
    "        WMT_metric_names.append(file[:-14])"
   ]
  },
  {
   "cell_type": "code",
   "execution_count": 58,
   "id": "d86bb7d2",
   "metadata": {},
   "outputs": [],
   "source": [
    "# NOTE: These ones are not in WMT metrics: 'MATESE', 'MATESE-QE', 'MEE', 'MEE2', 'MEE4'\n",
    "# The scores are also missing in the ACES 2022 scores\n",
    "\n",
    "# NOTE: Also these from the ACES-2023 (but they are not listed in the metrics shared task paper anyway):\n",
    "# 'Calibri-COMET22', 'Calibri-COMET22-QE'\n",
    "# These don't exist in WMT yet: 'CometKiwi-XL', 'CometKiwi-XXL','GEMBA-MQM','MEE4','MEE4_stsb_xlm',\n",
    "# 'MetricX-23', 'MetricX-23-QE','MetricX-23-QE-b','MetricX-23-QE-c','MetricX-23-b','MetricX-23-c','Random-sysname',\n",
    "# and more..\n",
    "\n",
    "METRIC_NAMES_MAPPING = {\n",
    "    # For ACES 2022\n",
    "    'COMET-QE-Baseline':'COMET-QE',\n",
    "    # For ACES 2023\n",
    "    'BERTscore':'BERTScore',\n",
    "    'COMET':'COMET-22',\n",
    "    'CometKiwi':'COMETKiwi',\n",
    "    'MaTESe':'MATESE', \n",
    "}"
   ]
  },
  {
   "cell_type": "code",
   "execution_count": 55,
   "id": "1e105b88",
   "metadata": {},
   "outputs": [
    {
     "data": {
      "text/plain": [
       "{'BERTscore',\n",
       " 'COMET',\n",
       " 'Calibri-COMET22',\n",
       " 'Calibri-COMET22-QE',\n",
       " 'CometKiwi',\n",
       " 'CometKiwi-XL',\n",
       " 'CometKiwi-XXL',\n",
       " 'GEMBA-MQM',\n",
       " 'MEE4',\n",
       " 'MEE4_stsb_xlm',\n",
       " 'MaTESe',\n",
       " 'MetricX-23',\n",
       " 'MetricX-23-QE',\n",
       " 'MetricX-23-QE-b',\n",
       " 'MetricX-23-QE-c',\n",
       " 'MetricX-23-b',\n",
       " 'MetricX-23-c',\n",
       " 'Random-sysname',\n",
       " 'XCOMET-Ensemble',\n",
       " 'XCOMET-QE-Ensemble',\n",
       " 'XCOMET-XL',\n",
       " 'XCOMET-XXL',\n",
       " 'XLsim',\n",
       " 'XLsimQE',\n",
       " 'cometoid22-wmt21',\n",
       " 'cometoid22-wmt22',\n",
       " 'cometoid22-wmt23',\n",
       " 'eBLEU',\n",
       " 'embed_llama',\n",
       " 'mt0regressor',\n",
       " 'mtsamp-bleurt0p2p1-qe',\n",
       " 'mtsamp-bleurtxv1p-qe',\n",
       " 'partokengram_F',\n",
       " 'prismRef',\n",
       " 'prismSrc2',\n",
       " 'spBLEU',\n",
       " 'tokengram_F'}"
      ]
     },
     "execution_count": 55,
     "metadata": {},
     "output_type": "execute_result"
    }
   ],
   "source": [
    "set(ACES_scores_2023.keys()) - set(np.unique(WMT_metric_names))"
   ]
  },
  {
   "cell_type": "code",
   "execution_count": 57,
   "id": "2e82b7ad",
   "metadata": {},
   "outputs": [
    {
     "name": "stdout",
     "output_type": "stream",
     "text": [
      "['mtsamp-bleurtxv1p-qe', 'tokengram_F', 'mtsamp-bleurt0p2p1-qe', 'CometKiwi', 'CometKiwi-XL', 'prismRef', 'BERTscore', 'MaTESe', 'cometoid22-wmt23', 'COMET', 'prismSrc2', 'BLEURT-20', 'MetricX-23-QE', 'BLEU', 'Random-sysname', 'KG-BERTScore', 'spBLEU', 'XCOMET-XL', 'CometKiwi-XXL', 'cometoid22-wmt21', 'embed_llama', 'YiSi-1', 'XLsimQE', 'XCOMET-XXL', 'Calibri-COMET22', 'mt0regressor', 'MetricX-23-QE-c', 'partokengram_F', 'MetricX-23', 'XCOMET-QE-Ensemble', 'cometoid22-wmt22', 'MetricX-23-QE-b', 'MetricX-23-b', 'chrF', 'MS-COMET-QE-22', 'eBLEU', 'MetricX-23-c', 'XCOMET-Ensemble', 'GEMBA-MQM', 'XLsim', 'Calibri-COMET22-QE', 'MEE4_stsb_xlm', 'MEE4']\n"
     ]
    }
   ],
   "source": [
    "print(list(set(ACES_scores_2023.keys())))"
   ]
  },
  {
   "cell_type": "code",
   "execution_count": 10,
   "id": "09e701dd",
   "metadata": {},
   "outputs": [
    {
     "data": {
      "text/plain": [
       "{'BERTScore',\n",
       " 'BLEU',\n",
       " 'BLEURT-20',\n",
       " 'COMET-20',\n",
       " 'COMET-22',\n",
       " 'COMET-QE-Baseline',\n",
       " 'COMETKiwi',\n",
       " 'Cross-QE',\n",
       " 'HWTSC-TLM',\n",
       " 'HWTSC-Teacher-Sim',\n",
       " 'KG-BERTScore',\n",
       " 'MATESE',\n",
       " 'MATESE-QE',\n",
       " 'MEE',\n",
       " 'MEE2',\n",
       " 'MEE4',\n",
       " 'MS-COMET-22',\n",
       " 'MS-COMET-QE-22',\n",
       " 'REUSE',\n",
       " 'UniTE',\n",
       " 'UniTE-ref',\n",
       " 'UniTE-src',\n",
       " 'YiSi-1',\n",
       " 'chrF',\n",
       " 'f101spBLEU',\n",
       " 'f200spBLEU',\n",
       " 'metricx_xl_DA_2019',\n",
       " 'metricx_xl_MQM_2020',\n",
       " 'metricx_xxl_DA_2019',\n",
       " 'metricx_xxl_MQM_2020'}"
      ]
     },
     "execution_count": 10,
     "metadata": {},
     "output_type": "execute_result"
    }
   ],
   "source": [
    "set(ACES_scores_2022.keys())"
   ]
  },
  {
   "cell_type": "code",
   "execution_count": 53,
   "id": "a3c2d694",
   "metadata": {},
   "outputs": [
    {
     "data": {
      "text/plain": [
       "{'BERTScore',\n",
       " 'BLEU',\n",
       " 'BLEURT-20',\n",
       " 'COMET-20',\n",
       " 'COMET-22',\n",
       " 'COMET-QE',\n",
       " 'COMETKiwi',\n",
       " 'Cross-QE',\n",
       " 'HWTSC-TLM',\n",
       " 'HWTSC-Teacher-Sim',\n",
       " 'KG-BERTScore',\n",
       " 'MS-COMET-22',\n",
       " 'MS-COMET-QE-22',\n",
       " 'REUSE',\n",
       " 'UniTE',\n",
       " 'UniTE-ref',\n",
       " 'UniTE-src',\n",
       " 'YiSi-1',\n",
       " 'chrF',\n",
       " 'f101spBLEU',\n",
       " 'f200spBLEU',\n",
       " 'metricx_xl_DA_2019',\n",
       " 'metricx_xl_MQM_2020',\n",
       " 'metricx_xxl_DA_2019',\n",
       " 'metricx_xxl_MQM_2020'}"
      ]
     },
     "execution_count": 53,
     "metadata": {},
     "output_type": "execute_result"
    }
   ],
   "source": [
    "set(np.unique(WMT_metric_names))"
   ]
  },
  {
   "cell_type": "markdown",
   "id": "0e247e3a",
   "metadata": {},
   "source": [
    "# Main Part: Table and Correlations"
   ]
  },
  {
   "cell_type": "code",
   "execution_count": 61,
   "id": "aa5b6318",
   "metadata": {},
   "outputs": [
    {
     "name": "stdout",
     "output_type": "stream",
     "text": [
      "en-uk\n"
     ]
    },
    {
     "name": "stderr",
     "output_type": "stream",
     "text": [
      "100%|██████████| 30/30 [00:00<00:00, 222.72it/s]\n"
     ]
    },
    {
     "name": "stdout",
     "output_type": "stream",
     "text": [
      "en-ja\n"
     ]
    },
    {
     "name": "stderr",
     "output_type": "stream",
     "text": [
      "100%|██████████| 30/30 [00:00<00:00, 158.93it/s]\n"
     ]
    },
    {
     "name": "stdout",
     "output_type": "stream",
     "text": [
      "liv-en\n"
     ]
    },
    {
     "name": "stderr",
     "output_type": "stream",
     "text": [
      "100%|██████████| 30/30 [00:00<00:00, 1485.81it/s]\n"
     ]
    },
    {
     "name": "stdout",
     "output_type": "stream",
     "text": [
      "uk-cs\n"
     ]
    },
    {
     "name": "stderr",
     "output_type": "stream",
     "text": [
      "100%|██████████| 30/30 [00:00<00:00, 141.04it/s]\n"
     ]
    },
    {
     "name": "stdout",
     "output_type": "stream",
     "text": [
      "zh-en\n"
     ]
    },
    {
     "name": "stderr",
     "output_type": "stream",
     "text": [
      "100%|██████████| 30/30 [00:00<00:00, 54.41it/s]\n"
     ]
    },
    {
     "name": "stdout",
     "output_type": "stream",
     "text": [
      "en-ru\n"
     ]
    },
    {
     "name": "stderr",
     "output_type": "stream",
     "text": [
      "100%|██████████| 30/30 [00:00<00:00, 98.59it/s]\n"
     ]
    },
    {
     "name": "stdout",
     "output_type": "stream",
     "text": [
      "de-fr\n"
     ]
    },
    {
     "name": "stderr",
     "output_type": "stream",
     "text": [
      "100%|██████████| 30/30 [00:00<00:00, 334.34it/s]\n"
     ]
    },
    {
     "name": "stdout",
     "output_type": "stream",
     "text": [
      "en-cs\n"
     ]
    },
    {
     "name": "stderr",
     "output_type": "stream",
     "text": [
      "100%|██████████| 30/30 [00:00<00:00, 112.93it/s]\n"
     ]
    },
    {
     "name": "stdout",
     "output_type": "stream",
     "text": [
      "en-de\n"
     ]
    },
    {
     "name": "stderr",
     "output_type": "stream",
     "text": [
      "100%|██████████| 30/30 [00:00<00:00, 61.70it/s]\n"
     ]
    },
    {
     "name": "stdout",
     "output_type": "stream",
     "text": [
      "fr-de\n"
     ]
    },
    {
     "name": "stderr",
     "output_type": "stream",
     "text": [
      "100%|██████████| 30/30 [00:00<00:00, 235.29it/s]\n"
     ]
    },
    {
     "name": "stdout",
     "output_type": "stream",
     "text": [
      "en-hr\n"
     ]
    },
    {
     "name": "stderr",
     "output_type": "stream",
     "text": [
      "100%|██████████| 30/30 [00:00<00:00, 170.61it/s]\n"
     ]
    },
    {
     "name": "stdout",
     "output_type": "stream",
     "text": [
      "ja-en\n"
     ]
    },
    {
     "name": "stderr",
     "output_type": "stream",
     "text": [
      "100%|██████████| 30/30 [00:00<00:00, 136.88it/s]\n"
     ]
    },
    {
     "name": "stdout",
     "output_type": "stream",
     "text": [
      "ru-sah\n"
     ]
    },
    {
     "name": "stderr",
     "output_type": "stream",
     "text": [
      "100%|██████████| 30/30 [00:00<00:00, 1304.96it/s]\n"
     ]
    },
    {
     "name": "stdout",
     "output_type": "stream",
     "text": [
      "en-zh\n"
     ]
    },
    {
     "name": "stderr",
     "output_type": "stream",
     "text": [
      "100%|██████████| 30/30 [00:00<00:00, 90.94it/s]\n"
     ]
    },
    {
     "name": "stdout",
     "output_type": "stream",
     "text": [
      "en-liv\n"
     ]
    },
    {
     "name": "stderr",
     "output_type": "stream",
     "text": [
      "100%|██████████| 30/30 [00:00<00:00, 1692.43it/s]\n"
     ]
    },
    {
     "name": "stdout",
     "output_type": "stream",
     "text": [
      "de-en\n"
     ]
    },
    {
     "name": "stderr",
     "output_type": "stream",
     "text": [
      "100%|██████████| 30/30 [00:00<00:00, 120.55it/s]\n"
     ]
    },
    {
     "name": "stdout",
     "output_type": "stream",
     "text": [
      "sah-ru\n"
     ]
    },
    {
     "name": "stderr",
     "output_type": "stream",
     "text": [
      "100%|██████████| 30/30 [00:00<00:00, 1485.15it/s]\n"
     ]
    },
    {
     "name": "stdout",
     "output_type": "stream",
     "text": [
      "cs-uk\n"
     ]
    },
    {
     "name": "stderr",
     "output_type": "stream",
     "text": [
      "100%|██████████| 30/30 [00:00<00:00, 198.33it/s]\n"
     ]
    },
    {
     "name": "stdout",
     "output_type": "stream",
     "text": [
      "uk-en\n"
     ]
    },
    {
     "name": "stderr",
     "output_type": "stream",
     "text": [
      "100%|██████████| 30/30 [00:00<00:00, 219.16it/s]\n"
     ]
    },
    {
     "name": "stdout",
     "output_type": "stream",
     "text": [
      "ru-en\n"
     ]
    },
    {
     "name": "stderr",
     "output_type": "stream",
     "text": [
      "100%|██████████| 30/30 [00:00<00:00, 184.63it/s]\n"
     ]
    },
    {
     "name": "stdout",
     "output_type": "stream",
     "text": [
      "cs-en\n"
     ]
    },
    {
     "name": "stderr",
     "output_type": "stream",
     "text": [
      "100%|██████████| 30/30 [00:00<00:00, 141.71it/s]\n"
     ]
    }
   ],
   "source": [
    "# Load the ACES scores\n",
    "ACES_scores_2022_path = '/home/arnisa/Desktop/work/metric_sensitivity_analysis/scored_aces_final.tsv'\n",
    "ACES_scores_2023_path = '/home/arnisa/Desktop/work/metric_sensitivity_analysis/aces-scored-2023-all-scores.quote_errors_removed.tsv'\n",
    "# 2023 later\n",
    "ACES_scores_2022 = load_ACES_scores(ACES_scores_2022_path, good_token='.-good', bad_token='.-bad', metric_mapping=METRIC_NAMES_MAPPING)\n",
    "ACES_scores_2023 = load_ACES_scores(ACES_scores_2023_path, good_token='.-good', bad_token='.-bad', metric_mapping=METRIC_NAMES_MAPPING)\n",
    "\n",
    "# Load WMT scores\n",
    "metrics_names = set(ACES_scores_2022.keys())\n",
    "WMT_scores_path = '/home/arnisa/Desktop/work/metric_sensitivity_analysis/mt-metrics-eval-v2/wmt22/metric-scores'\n",
    "WMT_scores = load_WMT_scores(WMT_scores_path, metrics_names)\n",
    "metrics_names = list(set(ACES_scores_2022.keys()).intersection(set(WMT_scores.keys())))\n",
    "\n",
    "# Get sensitivities (we only get mean(good-bad)) of the normalized scores\n",
    "sensitivities, _, _, phenomena = calculate_sensitivities(ACES_scores_2022, WMT_scores, mapping=PHENOMENA_MAPPING)\n",
    "\n",
    "# load the ACES scores from the paper\n",
    "ACES_summary_2022 = load_ACES_scores_summary_2022()"
   ]
  },
  {
   "cell_type": "code",
   "execution_count": 60,
   "id": "c2345990",
   "metadata": {},
   "outputs": [],
   "source": [
    "def load_ACES_scores(ACES_scores_path: str, good_token:str = '.-good', bad_token:str ='.-bad', metric_mapping:Dict[str, str] = METRIC_MAPPING) -> Dict[str, Dict[str, List[List]]]: \n",
    "    '''\n",
    "    Return the metric scores for each phenomena and metric and samples\n",
    "    format = {\n",
    "        'BLEU': {\n",
    "            'addition': [[1,2,3,…],\t# list of scores for the good translations\n",
    "                        [1,2,3,…]],\t# list of scores for the bad translations\n",
    "            , …, 'all': [[1,2,3,…],\t# list of scores for the good translations for all phenomena\n",
    "                        [1,2,3,…]]\t# list of scores for the bad translations for all phenomena\n",
    "            }\n",
    "    }\n",
    "    '''\n",
    "    if not os.path.exists(ACES_scores_path):\n",
    "        logger.error('No ACES scores path: %s' %(ACES_scores_path))\n",
    "        exit()\n",
    "    logger.info('Loading ACES the scores...')\n",
    "    ACES_scores = read_file(ACES_scores_path)\n",
    "    phenomena = np.unique(ACES_scores['phenomena'])\n",
    "\n",
    "    ACES_metrics = []\n",
    "    for key in ACES_scores.keys():\n",
    "        if good_token in key:\n",
    "            ACES_metrics.append(key[:-len(good_token)])\n",
    "        elif bad_token in key:\n",
    "            ACES_metrics.append(key[:-len(bad_token)])\n",
    "    metrics_names = np.unique(ACES_metrics)\n",
    "\n",
    "    if metric_mapping == None:\n",
    "        metric_mapping = dict(zip(list(metrics_names), list(metrics_names)))\n",
    "    else:\n",
    "        for metric in metrics_names:\n",
    "            if metric not in metric_mapping:\n",
    "                metric_mapping[metric] = metric\n",
    "\n",
    "    template = dict(zip(phenomena, np.empty((len(phenomena),2))))\n",
    "    ACES_metrics = {}\n",
    "    for metric in metric_mapping.values():\n",
    "        ACES_metrics[metric] = copy.deepcopy(template)\n",
    "    for p in phenomena:\n",
    "        ids = np.where(ACES_scores['phenomena']==p)[0]\n",
    "        for metric in metrics_names:\n",
    "            if type(ACES_metrics[metric_mapping[metric]][p][0]) != list:\n",
    "                ACES_metrics[metric_mapping[metric]][p] = [list(ACES_scores[metric+good_token][ids]), list(ACES_scores[metric+bad_token][ids])]\n",
    "            else:     \n",
    "                ACES_metrics[metric_mapping[metric]][p][0].extend(list(ACES_scores[metric+good_token][ids]))\n",
    "                ACES_metrics[metric_mapping[metric]][p][1].extend(list(ACES_scores[metric+bad_token][ids])) \n",
    "    for metric in metrics_names:\n",
    "        if \"all\" not in ACES_metrics[metric_mapping[metric]]:\n",
    "            ACES_metrics[metric_mapping[metric]][\"all\"] = [list(ACES_scores[metric+good_token]), list(ACES_scores[metric+bad_token])]\n",
    "        else:\n",
    "            ACES_metrics[metric_mapping[metric]][\"all\"][0].extend(list(ACES_scores[metric+good_token]))\n",
    "            ACES_metrics[metric_mapping[metric]][\"all\"][1].extend(list(ACES_scores[metric+bad_token])) \n",
    "    return ACES_metrics"
   ]
  },
  {
   "cell_type": "code",
   "execution_count": 64,
   "id": "3857c5c0",
   "metadata": {},
   "outputs": [
    {
     "data": {
      "text/plain": [
       "dict_keys(['COMET-QE', 'BERTScore', 'COMET-22', 'COMETKiwi', 'MATESE', 'BLEU', 'BLEURT-20', 'COMET-20', 'Cross-QE', 'HWTSC-TLM', 'HWTSC-Teacher-Sim', 'KG-BERTScore', 'MATESE-QE', 'MEE', 'MEE2', 'MEE4', 'MS-COMET-22', 'MS-COMET-QE-22', 'REUSE', 'UniTE', 'UniTE-ref', 'UniTE-src', 'YiSi-1', 'chrF', 'f101spBLEU', 'f200spBLEU', 'metricx_xl_DA_2019', 'metricx_xl_MQM_2020', 'metricx_xxl_DA_2019', 'metricx_xxl_MQM_2020'])"
      ]
     },
     "execution_count": 64,
     "metadata": {},
     "output_type": "execute_result"
    }
   ],
   "source": [
    "ACES_scores_2022.keys()"
   ]
  },
  {
   "cell_type": "markdown",
   "id": "026a45c1",
   "metadata": {},
   "source": []
  },
  {
   "cell_type": "code",
   "execution_count": 65,
   "id": "310be452",
   "metadata": {},
   "outputs": [],
   "source": [
    "# From the Paper:\n",
    "METRICS_GROUPING_2022: {\"baseline\": [\"BLEU\", \"spBLEU\", \"chrF\", \"BERTScore\", \"BLEURT-20\",\n",
    "                                     \"COMET-20\", \"COMET-QE\", \"YISI-1\"],\n",
    "                        \"reference-based\": [\"COMET-22\", 'metricx_xl_DA_2019', 'metricx_xl_MQM_2020', 'metricx_xxl_DA_2019', 'metricx_xxl_MQM_2020',\n",
    "                                            'MS-COMET-22', \"UniTE\", \"UniTE-ref\"],\n",
    "                        \"reference-free\": [\"COMETKiwi\", \"Cross-QE\", 'HWTSC-Teacher-Sim', 'HWTSC-TLM',\n",
    "                                           'KG-BERTScore', \"MS-COMET-QE-22\", \"UniTE-src\"]\n",
    "\n",
    "                    }"
   ]
  },
  {
   "cell_type": "code",
   "execution_count": 66,
   "id": "0252f5ec",
   "metadata": {},
   "outputs": [
    {
     "data": {
      "text/plain": [
       "{'COMET-22': {'mistranslation': 0.3888224376606538,\n",
       "  'real-world knowledge': 0.2886188317537399,\n",
       "  'undertranslation': 0.2965250375195492,\n",
       "  'do not translate': 0.4270982024272212,\n",
       "  'omission': 0.339629071269166,\n",
       "  'overtranslation': 0.48378424720659197,\n",
       "  'wrong language': -0.6934677117617782,\n",
       "  'addition': 0.060463629648521644,\n",
       "  'punctuation': 0.2744474024129998,\n",
       "  'untranslated': 0.5161487508004713},\n",
       " 'COMETKiwi': {'mistranslation': 0.5732563461813599,\n",
       "  'real-world knowledge': 0.3392520839189057,\n",
       "  'undertranslation': 0.3592402492974571,\n",
       "  'do not translate': 0.2624675537257028,\n",
       "  'omission': 0.4366934012988357,\n",
       "  'overtranslation': 0.571782725379702,\n",
       "  'wrong language': -0.5734240497846572,\n",
       "  'addition': 0.12424218010601351,\n",
       "  'punctuation': 0.22746049678056637,\n",
       "  'untranslated': 0.6638297184083296},\n",
       " 'COMET-QE': {'mistranslation': 0.06962277641161764,\n",
       "  'real-world knowledge': 0.09709456900810254,\n",
       "  'undertranslation': 0.19738572854782688,\n",
       "  'do not translate': 0.03895087078647116,\n",
       "  'omission': 0.11241449035162869,\n",
       "  'overtranslation': 0.2854856767377679,\n",
       "  'wrong language': -0.3118285650043031,\n",
       "  'addition': -0.10330974811533565,\n",
       "  'punctuation': 0.026498759898632124,\n",
       "  'untranslated': -0.13243118012313543},\n",
       " 'UniTE-ref': {'mistranslation': 0.2853519412386816,\n",
       "  'real-world knowledge': 0.18998034696706406,\n",
       "  'undertranslation': 0.18290898643881418,\n",
       "  'do not translate': 0.29993927966972367,\n",
       "  'omission': 0.37929767387818797,\n",
       "  'overtranslation': 0.3765773864095423,\n",
       "  'wrong language': -0.44692578054844523,\n",
       "  'addition': 0.07612923783201463,\n",
       "  'punctuation': 0.15783458316341825,\n",
       "  'untranslated': 0.08114389371218786},\n",
       " 'MEE': {'mistranslation': nan,\n",
       "  'real-world knowledge': nan,\n",
       "  'undertranslation': nan,\n",
       "  'do not translate': 0.33100090392079723,\n",
       "  'omission': nan,\n",
       "  'overtranslation': nan,\n",
       "  'wrong language': nan,\n",
       "  'addition': nan,\n",
       "  'punctuation': 0.2064284308793095,\n",
       "  'untranslated': nan},\n",
       " 'HWTSC-Teacher-Sim': {'mistranslation': 0.1574235928975768,\n",
       "  'real-world knowledge': 0.053643555981781894,\n",
       "  'undertranslation': 0.17220642024578753,\n",
       "  'do not translate': 0.21347909996747405,\n",
       "  'omission': 0.13584381861062897,\n",
       "  'overtranslation': 0.21992566495703894,\n",
       "  'wrong language': -0.07143826135575793,\n",
       "  'addition': -0.0029466930497247775,\n",
       "  'punctuation': 0.20146572877546742,\n",
       "  'untranslated': -0.5768084865235102},\n",
       " 'MEE2': {'mistranslation': nan,\n",
       "  'real-world knowledge': nan,\n",
       "  'undertranslation': nan,\n",
       "  'do not translate': 0.2974216204157968,\n",
       "  'omission': nan,\n",
       "  'overtranslation': nan,\n",
       "  'wrong language': nan,\n",
       "  'addition': nan,\n",
       "  'punctuation': 0.22883835503789487,\n",
       "  'untranslated': nan},\n",
       " 'metricx_xxl_DA_2019': {'mistranslation': 0.5051561473323435,\n",
       "  'real-world knowledge': 0.4217950505840519,\n",
       "  'undertranslation': 0.19132299665383193,\n",
       "  'do not translate': 0.5194624975726081,\n",
       "  'omission': 0.4059953224149212,\n",
       "  'overtranslation': 0.5378586537915344,\n",
       "  'wrong language': 0.07107954950341554,\n",
       "  'addition': 0.08046872924837149,\n",
       "  'punctuation': 0.22280412179614392,\n",
       "  'untranslated': 1.6313315833247215},\n",
       " 'BLEURT-20': {'mistranslation': 0.1825090391740773,\n",
       "  'real-world knowledge': 0.05418617330149348,\n",
       "  'undertranslation': -0.002220717457061079,\n",
       "  'do not translate': 0.38625520996293267,\n",
       "  'omission': 0.35133648660932015,\n",
       "  'overtranslation': 0.13767569008533392,\n",
       "  'wrong language': 0.8134964600330256,\n",
       "  'addition': 0.10365660720295744,\n",
       "  'punctuation': 0.29156013420685545,\n",
       "  'untranslated': 1.714325505265303},\n",
       " 'MATESE-QE': {'mistranslation': nan,\n",
       "  'real-world knowledge': nan,\n",
       "  'undertranslation': nan,\n",
       "  'do not translate': 0.21,\n",
       "  'omission': nan,\n",
       "  'overtranslation': nan,\n",
       "  'wrong language': nan,\n",
       "  'addition': nan,\n",
       "  'punctuation': -0.03646144650328751,\n",
       "  'untranslated': nan},\n",
       " 'BLEU': {'mistranslation': -0.08824611291143918,\n",
       "  'real-world knowledge': -0.3062169882384918,\n",
       "  'undertranslation': -1.1013204692761616,\n",
       "  'do not translate': 0.25324141756487745,\n",
       "  'omission': 0.2547030756159054,\n",
       "  'overtranslation': -1.099805470474964,\n",
       "  'wrong language': 0.650622573355296,\n",
       "  'addition': 0.2148287208357031,\n",
       "  'punctuation': 0.34640999424957986,\n",
       "  'untranslated': 1.1936012111929082},\n",
       " 'KG-BERTScore': {'mistranslation': 0.4069974130374558,\n",
       "  'real-world knowledge': 0.08002836116885753,\n",
       "  'undertranslation': 0.1258105831142309,\n",
       "  'do not translate': 0.5433188861063057,\n",
       "  'omission': 0.2322620203936442,\n",
       "  'overtranslation': 0.18591810670547015,\n",
       "  'wrong language': -0.19407995416023932,\n",
       "  'addition': 0.13929956386068248,\n",
       "  'punctuation': 0.29861038648117266,\n",
       "  'untranslated': -0.7874417310922995},\n",
       " 'UniTE-src': {'mistranslation': 0.47551976475299007,\n",
       "  'real-world knowledge': 0.19267327156141043,\n",
       "  'undertranslation': 0.25785044803509116,\n",
       "  'do not translate': 0.31673547599797475,\n",
       "  'omission': 0.516941009651062,\n",
       "  'overtranslation': 0.392875252258654,\n",
       "  'wrong language': -0.5609578278728333,\n",
       "  'addition': 0.09633269131901004,\n",
       "  'punctuation': 0.18496736534298766,\n",
       "  'untranslated': -0.7793690736928203},\n",
       " 'f101spBLEU': {'mistranslation': -0.0770431248090204,\n",
       "  'real-world knowledge': -0.16694896017579922,\n",
       "  'undertranslation': -0.6106474620460811,\n",
       "  'do not translate': 0.31322648852962093,\n",
       "  'omission': 0.1863532850365928,\n",
       "  'overtranslation': -0.5682955103975651,\n",
       "  'wrong language': 0.49766527107268943,\n",
       "  'addition': 0.13151156220901616,\n",
       "  'punctuation': 0.20342198914362314,\n",
       "  'untranslated': 0.8976180911201121},\n",
       " 'MATESE': {'mistranslation': nan,\n",
       "  'real-world knowledge': nan,\n",
       "  'undertranslation': nan,\n",
       "  'do not translate': 0.335,\n",
       "  'omission': nan,\n",
       "  'overtranslation': nan,\n",
       "  'wrong language': nan,\n",
       "  'addition': nan,\n",
       "  'punctuation': 0.004482964734010759,\n",
       "  'untranslated': nan},\n",
       " 'YiSi-1': {'mistranslation': 0.06164140542627071,\n",
       "  'real-world knowledge': -0.04745711647396562,\n",
       "  'undertranslation': -0.0560126000560961,\n",
       "  'do not translate': 0.3154786511035839,\n",
       "  'omission': 0.2904309085887979,\n",
       "  'overtranslation': -0.043206930030852825,\n",
       "  'wrong language': 0.18005551360331407,\n",
       "  'addition': 0.11495050251010469,\n",
       "  'punctuation': 0.34680731290525785,\n",
       "  'untranslated': 2.611964908379072},\n",
       " 'BERTScore': {'mistranslation': -0.02444751230492348,\n",
       "  'real-world knowledge': -0.027225733823162214,\n",
       "  'undertranslation': -0.040562214958728485,\n",
       "  'do not translate': 0.2970681056578922,\n",
       "  'omission': 0.18136656056554623,\n",
       "  'overtranslation': -0.02272950378648251,\n",
       "  'wrong language': 0.3656032936373003,\n",
       "  'addition': 0.11253981147236242,\n",
       "  'punctuation': 0.4684753785451279,\n",
       "  'untranslated': 1.347333968383291},\n",
       " 'metricx_xl_DA_2019': {'mistranslation': 0.46832359419799086,\n",
       "  'real-world knowledge': 0.5027537175827648,\n",
       "  'undertranslation': 0.3671614119894317,\n",
       "  'do not translate': 0.5465601074166211,\n",
       "  'omission': 0.4409283424473139,\n",
       "  'overtranslation': 0.6809637398565015,\n",
       "  'wrong language': 0.7460884373810064,\n",
       "  'addition': 0.0950902947197431,\n",
       "  'punctuation': 0.28239264672353126,\n",
       "  'untranslated': 1.7529706602024642},\n",
       " 'UniTE': {'mistranslation': 0.3000729475726344,\n",
       "  'real-world knowledge': 0.19054909662972763,\n",
       "  'undertranslation': 0.15109579729617345,\n",
       "  'do not translate': 0.3527231111532749,\n",
       "  'omission': 0.4132610801343118,\n",
       "  'overtranslation': 0.33489604158185843,\n",
       "  'wrong language': -0.450035032696393,\n",
       "  'addition': 0.11152876805275304,\n",
       "  'punctuation': 0.19194153866730373,\n",
       "  'untranslated': 0.5485725750237048},\n",
       " 'Cross-QE': {'mistranslation': 0.600910338899629,\n",
       "  'real-world knowledge': 0.22819770798110903,\n",
       "  'undertranslation': 0.46388238088829903,\n",
       "  'do not translate': 0.046973308585338144,\n",
       "  'omission': 0.41875229803600256,\n",
       "  'overtranslation': 0.701950194337344,\n",
       "  'wrong language': -0.5251453335411325,\n",
       "  'addition': 0.10117154729993863,\n",
       "  'punctuation': 0.09944494181649492,\n",
       "  'untranslated': -0.3099253528580649},\n",
       " 'metricx_xxl_MQM_2020': {'mistranslation': 0.5350042529190596,\n",
       "  'real-world knowledge': 0.633788796897596,\n",
       "  'undertranslation': 0.489118901008337,\n",
       "  'do not translate': 0.6594696802469469,\n",
       "  'omission': 0.290496586748007,\n",
       "  'overtranslation': 0.8150107960018401,\n",
       "  'wrong language': -0.7890013199222512,\n",
       "  'addition': -0.012770620680725882,\n",
       "  'punctuation': 0.19586249336660078,\n",
       "  'untranslated': 0.6130795801107404},\n",
       " 'HWTSC-TLM': {'mistranslation': 0.11595834133391458,\n",
       "  'real-world knowledge': 0.059813843403985795,\n",
       "  'undertranslation': 0.24230761025881453,\n",
       "  'do not translate': -0.0035886596516960093,\n",
       "  'omission': 0.1440347589796219,\n",
       "  'overtranslation': 0.2900275702791171,\n",
       "  'wrong language': -0.16092623995216712,\n",
       "  'addition': -0.09093629813005691,\n",
       "  'punctuation': 0.42127513086697305,\n",
       "  'untranslated': 0.0861967449857374},\n",
       " 'REUSE': {'mistranslation': nan,\n",
       "  'real-world knowledge': nan,\n",
       "  'undertranslation': nan,\n",
       "  'do not translate': 0.1858345959557509,\n",
       "  'omission': nan,\n",
       "  'overtranslation': nan,\n",
       "  'wrong language': nan,\n",
       "  'addition': nan,\n",
       "  'punctuation': 0.2686782846895158,\n",
       "  'untranslated': nan},\n",
       " 'metricx_xl_MQM_2020': {'mistranslation': 0.627967157965322,\n",
       "  'real-world knowledge': 0.750523741342931,\n",
       "  'undertranslation': 0.6583508174728043,\n",
       "  'do not translate': 0.6583555476286257,\n",
       "  'omission': 0.36055654552175387,\n",
       "  'overtranslation': 0.9906871042299262,\n",
       "  'wrong language': -0.577452910974426,\n",
       "  'addition': -0.05919418109594521,\n",
       "  'punctuation': 0.30084092606639956,\n",
       "  'untranslated': 0.41015823417310754},\n",
       " 'chrF': {'mistranslation': -0.07828824967779315,\n",
       "  'real-world knowledge': -0.09071221405154077,\n",
       "  'undertranslation': -0.22512321669961785,\n",
       "  'do not translate': 0.2776495256981501,\n",
       "  'omission': 0.2517183282944141,\n",
       "  'overtranslation': -0.28815119987870125,\n",
       "  'wrong language': 0.6501324871223509,\n",
       "  'addition': 0.0594788644725885,\n",
       "  'punctuation': 0.1017329547199582,\n",
       "  'untranslated': 1.514542123624745},\n",
       " 'f200spBLEU': {'mistranslation': -0.07728893460685092,\n",
       "  'real-world knowledge': -0.16597207427446717,\n",
       "  'undertranslation': -0.5547589251683395,\n",
       "  'do not translate': 0.32105350563551555,\n",
       "  'omission': 0.18170729852854106,\n",
       "  'overtranslation': -0.5326243110635183,\n",
       "  'wrong language': 0.4896448112722411,\n",
       "  'addition': 0.12581225313618488,\n",
       "  'punctuation': 0.1850044698107335,\n",
       "  'untranslated': 0.8810556975739291},\n",
       " 'MS-COMET-QE-22': {'mistranslation': 0.23388764694290298,\n",
       "  'real-world knowledge': 0.08985020538244132,\n",
       "  'undertranslation': 0.17451663739572223,\n",
       "  'do not translate': 0.0971822193093508,\n",
       "  'omission': 0.3613250457689576,\n",
       "  'overtranslation': 0.23907075397429878,\n",
       "  'wrong language': -0.6411461172922956,\n",
       "  'addition': -0.03703383918334948,\n",
       "  'punctuation': 0.20429418657557966,\n",
       "  'untranslated': 2.5203456742874515},\n",
       " 'COMET-20': {'mistranslation': 0.24166377919665463,\n",
       "  'real-world knowledge': 0.051205665914023514,\n",
       "  'undertranslation': 0.061282151013702844,\n",
       "  'do not translate': 0.30844965613513975,\n",
       "  'omission': 0.4041843768140193,\n",
       "  'overtranslation': 0.1472091318121557,\n",
       "  'wrong language': -0.3360413534415724,\n",
       "  'addition': 0.07124896164192028,\n",
       "  'punctuation': 0.22382445848782037,\n",
       "  'untranslated': 1.4850423005866256},\n",
       " 'MS-COMET-22': {'mistranslation': 0.12490066389957773,\n",
       "  'real-world knowledge': 0.05948937273122362,\n",
       "  'undertranslation': 0.11758822494727739,\n",
       "  'do not translate': 0.20115046507594708,\n",
       "  'omission': 0.3466654318913089,\n",
       "  'overtranslation': 0.21796871669156986,\n",
       "  'wrong language': -0.18963099273046888,\n",
       "  'addition': -0.04862210273686457,\n",
       "  'punctuation': 0.185693157086426,\n",
       "  'untranslated': 1.0226120290555953},\n",
       " 'MEE4': {'mistranslation': nan,\n",
       "  'real-world knowledge': nan,\n",
       "  'undertranslation': nan,\n",
       "  'do not translate': 0.27249945421205923,\n",
       "  'omission': nan,\n",
       "  'overtranslation': nan,\n",
       "  'wrong language': nan,\n",
       "  'addition': nan,\n",
       "  'punctuation': 0.25502434555782205,\n",
       "  'untranslated': nan}}"
      ]
     },
     "execution_count": 66,
     "metadata": {},
     "output_type": "execute_result"
    }
   ],
   "source": [
    "sensitivities"
   ]
  },
  {
   "cell_type": "code",
   "execution_count": null,
   "id": "a28e3813",
   "metadata": {},
   "outputs": [],
   "source": [
    "def generate_summary_table(scores:Dict[str, Dict[str, Dict[str, int]]], metrics_groups:Dict[str,list] = METRICS_GROUPING_2022):\n",
    "    "
   ]
  },
  {
   "cell_type": "markdown",
   "id": "06fd4eaf",
   "metadata": {},
   "source": [
    "# Plots"
   ]
  },
  {
   "cell_type": "code",
   "execution_count": 5,
   "id": "0c0ff544",
   "metadata": {},
   "outputs": [],
   "source": [
    "# create groups here:\n",
    "means = {metric:[sensitivities[metric][p] for p in phenomena] for metric in metrics_names}\n",
    "tau = {metric:[ACES_summary_2022[metric][p] for p in phenomena] for metric in metrics_names if metric in ACES_summary_2022}"
   ]
  },
  {
   "cell_type": "code",
   "execution_count": 15,
   "id": "5702877e",
   "metadata": {},
   "outputs": [
    {
     "name": "stdout",
     "output_type": "stream",
     "text": [
      "['COMET-20', 'YiSi-1', 'metricx_xxl_MQM_2020', 'UniTE', 'MATESE', 'f200spBLEU', 'metricx_xl_DA_2019', 'UniTE-src', 'MEE', 'KG-BERTScore', 'BERTScore', 'BLEU', 'Cross-QE', 'chrF', 'MEE4', 'MATESE-QE', 'HWTSC-Teacher-Sim', 'MEE2', 'REUSE', 'MS-COMET-QE-22', 'metricx_xl_MQM_2020', 'MS-COMET-22', 'HWTSC-TLM', 'COMET-22', 'metricx_xxl_DA_2019', 'UniTE-ref', 'f101spBLEU', 'BLEURT-20', 'COMETKiwi']\n"
     ]
    }
   ],
   "source": [
    "print(metrics_names)"
   ]
  },
  {
   "cell_type": "code",
   "execution_count": 23,
   "id": "1779554d",
   "metadata": {},
   "outputs": [],
   "source": [
    "# Group the metrics:\n",
    "bleus = [\"BLEU\", \"f101spBLEU\", \"f200spBLEU\"]\n",
    "comets = [\"COMET-20\", \"COMET-22\", \"MS-COMET-22\", \"MS-COMET-QE-22\"]\n",
    "xl = [\"metricx_xl_DA_2019\", \"metricx_xl_MQM_2020\", \"metricx_xxl_DA_2019\", \"metricx_xxl_MQM_2020\"]\n",
    "unite = [\"UniTE\", \"UniTE-src\", \"UniTE-ref\"]"
   ]
  },
  {
   "cell_type": "code",
   "execution_count": 41,
   "id": "ca277ffc",
   "metadata": {},
   "outputs": [
    {
     "data": {
      "application/vnd.plotly.v1+json": {
       "config": {
        "plotlyServerURL": "https://plot.ly"
       },
       "data": [
        {
         "line": {
          "color": "lightsteelblue"
         },
         "mode": "lines",
         "name": "Mean(good-bad) - COMET-20",
         "type": "scatter",
         "x": [
          "do not translate",
          "wrong language",
          "real-world knowledge",
          "punctuation",
          "overtranslation",
          "addition",
          "omission",
          "untranslated",
          "mistranslation",
          "undertranslation"
         ],
         "y": [
          0.30844965613513975,
          -0.3360413534415724,
          0.051205665914023514,
          0.22382445848782037,
          0.1472091318121557,
          0.07124896164192028,
          0.4041843768140193,
          1.4850423005866256,
          0.24166377919665463,
          0.061282151013702844
         ]
        },
        {
         "line": {
          "color": "aqua"
         },
         "mode": "lines",
         "name": "Mean(good-bad) - COMET-22",
         "type": "scatter",
         "x": [
          "do not translate",
          "wrong language",
          "real-world knowledge",
          "punctuation",
          "overtranslation",
          "addition",
          "omission",
          "untranslated",
          "mistranslation",
          "undertranslation"
         ],
         "y": [
          0.4270982024272212,
          -0.6934677117617782,
          0.28861883175373987,
          0.2744474024129998,
          0.48378424720659197,
          0.060463629648521644,
          0.339629071269166,
          0.5161487508004713,
          0.3888224376606538,
          0.2965250375195492
         ]
        },
        {
         "line": {
          "color": "aquamarine"
         },
         "mode": "lines",
         "name": "Mean(good-bad) - MS-COMET-22",
         "type": "scatter",
         "x": [
          "do not translate",
          "wrong language",
          "real-world knowledge",
          "punctuation",
          "overtranslation",
          "addition",
          "omission",
          "untranslated",
          "mistranslation",
          "undertranslation"
         ],
         "y": [
          0.20115046507594708,
          -0.18963099273046888,
          0.05948937273122362,
          0.185693157086426,
          0.21796871669156986,
          -0.04862210273686457,
          0.3466654318913089,
          1.0226120290555953,
          0.12490066389957773,
          0.11758822494727739
         ]
        },
        {
         "line": {
          "color": "darkturquoise"
         },
         "mode": "lines",
         "name": "Mean(good-bad) - MS-COMET-QE-22",
         "type": "scatter",
         "x": [
          "do not translate",
          "wrong language",
          "real-world knowledge",
          "punctuation",
          "overtranslation",
          "addition",
          "omission",
          "untranslated",
          "mistranslation",
          "undertranslation"
         ],
         "y": [
          0.0971822193093508,
          -0.6411461172922956,
          0.08985020538244132,
          0.20429418657557966,
          0.23907075397429878,
          -0.03703383918334948,
          0.3613250457689576,
          2.5203456742874515,
          0.23388764694290298,
          0.17451663739572223
         ]
        },
        {
         "line": {
          "color": "chocolate"
         },
         "mode": "lines",
         "name": "tau - COMET-20",
         "type": "scatter",
         "x": [
          "do not translate",
          "wrong language",
          "real-world knowledge",
          "punctuation",
          "overtranslation",
          "addition",
          "omission",
          "untranslated",
          "mistranslation",
          "undertranslation"
         ],
         "y": [
          0.9,
          0.033,
          0.267,
          0.706,
          0.314,
          0.437,
          0.808,
          0.748,
          0.378,
          0.112
         ]
        },
        {
         "line": {
          "color": "coral"
         },
         "mode": "lines",
         "name": "tau - COMET-22",
         "type": "scatter",
         "x": [
          "do not translate",
          "wrong language",
          "real-world knowledge",
          "punctuation",
          "overtranslation",
          "addition",
          "omission",
          "untranslated",
          "mistranslation",
          "undertranslation"
         ],
         "y": [
          0.9,
          -0.318,
          0.574,
          0.539,
          0.69,
          0.333,
          0.806,
          0.536,
          0.566,
          0.538
         ]
        },
        {
         "line": {
          "color": "crimson"
         },
         "mode": "lines",
         "name": "tau - MS-COMET-22",
         "type": "scatter",
         "x": [
          "do not translate",
          "wrong language",
          "real-world knowledge",
          "punctuation",
          "overtranslation",
          "addition",
          "omission",
          "untranslated",
          "mistranslation",
          "undertranslation"
         ],
         "y": [
          0.7,
          0.041,
          0.23,
          0.508,
          0.548,
          -0.219,
          0.686,
          0.504,
          0.397,
          0.29
         ]
        },
        {
         "line": {
          "color": "orange"
         },
         "mode": "lines",
         "name": "tau - MS-COMET-QE-22",
         "type": "scatter",
         "x": [
          "do not translate",
          "wrong language",
          "real-world knowledge",
          "punctuation",
          "overtranslation",
          "addition",
          "omission",
          "untranslated",
          "mistranslation",
          "undertranslation"
         ],
         "y": [
          0.24,
          -0.197,
          0.248,
          0.523,
          0.518,
          -0.177,
          0.678,
          0.388,
          0.439,
          0.386
         ]
        }
       ],
       "layout": {
        "template": {
         "data": {
          "bar": [
           {
            "error_x": {
             "color": "#2a3f5f"
            },
            "error_y": {
             "color": "#2a3f5f"
            },
            "marker": {
             "line": {
              "color": "#E5ECF6",
              "width": 0.5
             },
             "pattern": {
              "fillmode": "overlay",
              "size": 10,
              "solidity": 0.2
             }
            },
            "type": "bar"
           }
          ],
          "barpolar": [
           {
            "marker": {
             "line": {
              "color": "#E5ECF6",
              "width": 0.5
             },
             "pattern": {
              "fillmode": "overlay",
              "size": 10,
              "solidity": 0.2
             }
            },
            "type": "barpolar"
           }
          ],
          "carpet": [
           {
            "aaxis": {
             "endlinecolor": "#2a3f5f",
             "gridcolor": "white",
             "linecolor": "white",
             "minorgridcolor": "white",
             "startlinecolor": "#2a3f5f"
            },
            "baxis": {
             "endlinecolor": "#2a3f5f",
             "gridcolor": "white",
             "linecolor": "white",
             "minorgridcolor": "white",
             "startlinecolor": "#2a3f5f"
            },
            "type": "carpet"
           }
          ],
          "choropleth": [
           {
            "colorbar": {
             "outlinewidth": 0,
             "ticks": ""
            },
            "type": "choropleth"
           }
          ],
          "contour": [
           {
            "colorbar": {
             "outlinewidth": 0,
             "ticks": ""
            },
            "colorscale": [
             [
              0,
              "#0d0887"
             ],
             [
              0.1111111111111111,
              "#46039f"
             ],
             [
              0.2222222222222222,
              "#7201a8"
             ],
             [
              0.3333333333333333,
              "#9c179e"
             ],
             [
              0.4444444444444444,
              "#bd3786"
             ],
             [
              0.5555555555555556,
              "#d8576b"
             ],
             [
              0.6666666666666666,
              "#ed7953"
             ],
             [
              0.7777777777777778,
              "#fb9f3a"
             ],
             [
              0.8888888888888888,
              "#fdca26"
             ],
             [
              1,
              "#f0f921"
             ]
            ],
            "type": "contour"
           }
          ],
          "contourcarpet": [
           {
            "colorbar": {
             "outlinewidth": 0,
             "ticks": ""
            },
            "type": "contourcarpet"
           }
          ],
          "heatmap": [
           {
            "colorbar": {
             "outlinewidth": 0,
             "ticks": ""
            },
            "colorscale": [
             [
              0,
              "#0d0887"
             ],
             [
              0.1111111111111111,
              "#46039f"
             ],
             [
              0.2222222222222222,
              "#7201a8"
             ],
             [
              0.3333333333333333,
              "#9c179e"
             ],
             [
              0.4444444444444444,
              "#bd3786"
             ],
             [
              0.5555555555555556,
              "#d8576b"
             ],
             [
              0.6666666666666666,
              "#ed7953"
             ],
             [
              0.7777777777777778,
              "#fb9f3a"
             ],
             [
              0.8888888888888888,
              "#fdca26"
             ],
             [
              1,
              "#f0f921"
             ]
            ],
            "type": "heatmap"
           }
          ],
          "heatmapgl": [
           {
            "colorbar": {
             "outlinewidth": 0,
             "ticks": ""
            },
            "colorscale": [
             [
              0,
              "#0d0887"
             ],
             [
              0.1111111111111111,
              "#46039f"
             ],
             [
              0.2222222222222222,
              "#7201a8"
             ],
             [
              0.3333333333333333,
              "#9c179e"
             ],
             [
              0.4444444444444444,
              "#bd3786"
             ],
             [
              0.5555555555555556,
              "#d8576b"
             ],
             [
              0.6666666666666666,
              "#ed7953"
             ],
             [
              0.7777777777777778,
              "#fb9f3a"
             ],
             [
              0.8888888888888888,
              "#fdca26"
             ],
             [
              1,
              "#f0f921"
             ]
            ],
            "type": "heatmapgl"
           }
          ],
          "histogram": [
           {
            "marker": {
             "pattern": {
              "fillmode": "overlay",
              "size": 10,
              "solidity": 0.2
             }
            },
            "type": "histogram"
           }
          ],
          "histogram2d": [
           {
            "colorbar": {
             "outlinewidth": 0,
             "ticks": ""
            },
            "colorscale": [
             [
              0,
              "#0d0887"
             ],
             [
              0.1111111111111111,
              "#46039f"
             ],
             [
              0.2222222222222222,
              "#7201a8"
             ],
             [
              0.3333333333333333,
              "#9c179e"
             ],
             [
              0.4444444444444444,
              "#bd3786"
             ],
             [
              0.5555555555555556,
              "#d8576b"
             ],
             [
              0.6666666666666666,
              "#ed7953"
             ],
             [
              0.7777777777777778,
              "#fb9f3a"
             ],
             [
              0.8888888888888888,
              "#fdca26"
             ],
             [
              1,
              "#f0f921"
             ]
            ],
            "type": "histogram2d"
           }
          ],
          "histogram2dcontour": [
           {
            "colorbar": {
             "outlinewidth": 0,
             "ticks": ""
            },
            "colorscale": [
             [
              0,
              "#0d0887"
             ],
             [
              0.1111111111111111,
              "#46039f"
             ],
             [
              0.2222222222222222,
              "#7201a8"
             ],
             [
              0.3333333333333333,
              "#9c179e"
             ],
             [
              0.4444444444444444,
              "#bd3786"
             ],
             [
              0.5555555555555556,
              "#d8576b"
             ],
             [
              0.6666666666666666,
              "#ed7953"
             ],
             [
              0.7777777777777778,
              "#fb9f3a"
             ],
             [
              0.8888888888888888,
              "#fdca26"
             ],
             [
              1,
              "#f0f921"
             ]
            ],
            "type": "histogram2dcontour"
           }
          ],
          "mesh3d": [
           {
            "colorbar": {
             "outlinewidth": 0,
             "ticks": ""
            },
            "type": "mesh3d"
           }
          ],
          "parcoords": [
           {
            "line": {
             "colorbar": {
              "outlinewidth": 0,
              "ticks": ""
             }
            },
            "type": "parcoords"
           }
          ],
          "pie": [
           {
            "automargin": true,
            "type": "pie"
           }
          ],
          "scatter": [
           {
            "fillpattern": {
             "fillmode": "overlay",
             "size": 10,
             "solidity": 0.2
            },
            "type": "scatter"
           }
          ],
          "scatter3d": [
           {
            "line": {
             "colorbar": {
              "outlinewidth": 0,
              "ticks": ""
             }
            },
            "marker": {
             "colorbar": {
              "outlinewidth": 0,
              "ticks": ""
             }
            },
            "type": "scatter3d"
           }
          ],
          "scattercarpet": [
           {
            "marker": {
             "colorbar": {
              "outlinewidth": 0,
              "ticks": ""
             }
            },
            "type": "scattercarpet"
           }
          ],
          "scattergeo": [
           {
            "marker": {
             "colorbar": {
              "outlinewidth": 0,
              "ticks": ""
             }
            },
            "type": "scattergeo"
           }
          ],
          "scattergl": [
           {
            "marker": {
             "colorbar": {
              "outlinewidth": 0,
              "ticks": ""
             }
            },
            "type": "scattergl"
           }
          ],
          "scattermapbox": [
           {
            "marker": {
             "colorbar": {
              "outlinewidth": 0,
              "ticks": ""
             }
            },
            "type": "scattermapbox"
           }
          ],
          "scatterpolar": [
           {
            "marker": {
             "colorbar": {
              "outlinewidth": 0,
              "ticks": ""
             }
            },
            "type": "scatterpolar"
           }
          ],
          "scatterpolargl": [
           {
            "marker": {
             "colorbar": {
              "outlinewidth": 0,
              "ticks": ""
             }
            },
            "type": "scatterpolargl"
           }
          ],
          "scatterternary": [
           {
            "marker": {
             "colorbar": {
              "outlinewidth": 0,
              "ticks": ""
             }
            },
            "type": "scatterternary"
           }
          ],
          "surface": [
           {
            "colorbar": {
             "outlinewidth": 0,
             "ticks": ""
            },
            "colorscale": [
             [
              0,
              "#0d0887"
             ],
             [
              0.1111111111111111,
              "#46039f"
             ],
             [
              0.2222222222222222,
              "#7201a8"
             ],
             [
              0.3333333333333333,
              "#9c179e"
             ],
             [
              0.4444444444444444,
              "#bd3786"
             ],
             [
              0.5555555555555556,
              "#d8576b"
             ],
             [
              0.6666666666666666,
              "#ed7953"
             ],
             [
              0.7777777777777778,
              "#fb9f3a"
             ],
             [
              0.8888888888888888,
              "#fdca26"
             ],
             [
              1,
              "#f0f921"
             ]
            ],
            "type": "surface"
           }
          ],
          "table": [
           {
            "cells": {
             "fill": {
              "color": "#EBF0F8"
             },
             "line": {
              "color": "white"
             }
            },
            "header": {
             "fill": {
              "color": "#C8D4E3"
             },
             "line": {
              "color": "white"
             }
            },
            "type": "table"
           }
          ]
         },
         "layout": {
          "annotationdefaults": {
           "arrowcolor": "#2a3f5f",
           "arrowhead": 0,
           "arrowwidth": 1
          },
          "autotypenumbers": "strict",
          "coloraxis": {
           "colorbar": {
            "outlinewidth": 0,
            "ticks": ""
           }
          },
          "colorscale": {
           "diverging": [
            [
             0,
             "#8e0152"
            ],
            [
             0.1,
             "#c51b7d"
            ],
            [
             0.2,
             "#de77ae"
            ],
            [
             0.3,
             "#f1b6da"
            ],
            [
             0.4,
             "#fde0ef"
            ],
            [
             0.5,
             "#f7f7f7"
            ],
            [
             0.6,
             "#e6f5d0"
            ],
            [
             0.7,
             "#b8e186"
            ],
            [
             0.8,
             "#7fbc41"
            ],
            [
             0.9,
             "#4d9221"
            ],
            [
             1,
             "#276419"
            ]
           ],
           "sequential": [
            [
             0,
             "#0d0887"
            ],
            [
             0.1111111111111111,
             "#46039f"
            ],
            [
             0.2222222222222222,
             "#7201a8"
            ],
            [
             0.3333333333333333,
             "#9c179e"
            ],
            [
             0.4444444444444444,
             "#bd3786"
            ],
            [
             0.5555555555555556,
             "#d8576b"
            ],
            [
             0.6666666666666666,
             "#ed7953"
            ],
            [
             0.7777777777777778,
             "#fb9f3a"
            ],
            [
             0.8888888888888888,
             "#fdca26"
            ],
            [
             1,
             "#f0f921"
            ]
           ],
           "sequentialminus": [
            [
             0,
             "#0d0887"
            ],
            [
             0.1111111111111111,
             "#46039f"
            ],
            [
             0.2222222222222222,
             "#7201a8"
            ],
            [
             0.3333333333333333,
             "#9c179e"
            ],
            [
             0.4444444444444444,
             "#bd3786"
            ],
            [
             0.5555555555555556,
             "#d8576b"
            ],
            [
             0.6666666666666666,
             "#ed7953"
            ],
            [
             0.7777777777777778,
             "#fb9f3a"
            ],
            [
             0.8888888888888888,
             "#fdca26"
            ],
            [
             1,
             "#f0f921"
            ]
           ]
          },
          "colorway": [
           "#636efa",
           "#EF553B",
           "#00cc96",
           "#ab63fa",
           "#FFA15A",
           "#19d3f3",
           "#FF6692",
           "#B6E880",
           "#FF97FF",
           "#FECB52"
          ],
          "font": {
           "color": "#2a3f5f"
          },
          "geo": {
           "bgcolor": "white",
           "lakecolor": "white",
           "landcolor": "#E5ECF6",
           "showlakes": true,
           "showland": true,
           "subunitcolor": "white"
          },
          "hoverlabel": {
           "align": "left"
          },
          "hovermode": "closest",
          "mapbox": {
           "style": "light"
          },
          "paper_bgcolor": "white",
          "plot_bgcolor": "#E5ECF6",
          "polar": {
           "angularaxis": {
            "gridcolor": "white",
            "linecolor": "white",
            "ticks": ""
           },
           "bgcolor": "#E5ECF6",
           "radialaxis": {
            "gridcolor": "white",
            "linecolor": "white",
            "ticks": ""
           }
          },
          "scene": {
           "xaxis": {
            "backgroundcolor": "#E5ECF6",
            "gridcolor": "white",
            "gridwidth": 2,
            "linecolor": "white",
            "showbackground": true,
            "ticks": "",
            "zerolinecolor": "white"
           },
           "yaxis": {
            "backgroundcolor": "#E5ECF6",
            "gridcolor": "white",
            "gridwidth": 2,
            "linecolor": "white",
            "showbackground": true,
            "ticks": "",
            "zerolinecolor": "white"
           },
           "zaxis": {
            "backgroundcolor": "#E5ECF6",
            "gridcolor": "white",
            "gridwidth": 2,
            "linecolor": "white",
            "showbackground": true,
            "ticks": "",
            "zerolinecolor": "white"
           }
          },
          "shapedefaults": {
           "line": {
            "color": "#2a3f5f"
           }
          },
          "ternary": {
           "aaxis": {
            "gridcolor": "white",
            "linecolor": "white",
            "ticks": ""
           },
           "baxis": {
            "gridcolor": "white",
            "linecolor": "white",
            "ticks": ""
           },
           "bgcolor": "#E5ECF6",
           "caxis": {
            "gridcolor": "white",
            "linecolor": "white",
            "ticks": ""
           }
          },
          "title": {
           "x": 0.05
          },
          "xaxis": {
           "automargin": true,
           "gridcolor": "white",
           "linecolor": "white",
           "ticks": "",
           "title": {
            "standoff": 15
           },
           "zerolinecolor": "white",
           "zerolinewidth": 2
          },
          "yaxis": {
           "automargin": true,
           "gridcolor": "white",
           "linecolor": "white",
           "ticks": "",
           "title": {
            "standoff": 15
           },
           "zerolinecolor": "white",
           "zerolinewidth": 2
          }
         }
        },
        "title": {
         "text": "Mean(good-bad) tau"
        }
       }
      },
      "text/html": [
       "<div>                            <div id=\"31db717b-d58d-40b7-b891-26ea538b5125\" class=\"plotly-graph-div\" style=\"height:525px; width:100%;\"></div>            <script type=\"text/javascript\">                require([\"plotly\"], function(Plotly) {                    window.PLOTLYENV=window.PLOTLYENV || {};                                    if (document.getElementById(\"31db717b-d58d-40b7-b891-26ea538b5125\")) {                    Plotly.newPlot(                        \"31db717b-d58d-40b7-b891-26ea538b5125\",                        [{\"line\":{\"color\":\"lightsteelblue\"},\"mode\":\"lines\",\"name\":\"Mean(good-bad) - COMET-20\",\"x\":[\"do not translate\",\"wrong language\",\"real-world knowledge\",\"punctuation\",\"overtranslation\",\"addition\",\"omission\",\"untranslated\",\"mistranslation\",\"undertranslation\"],\"y\":[0.30844965613513975,-0.3360413534415724,0.051205665914023514,0.22382445848782037,0.1472091318121557,0.07124896164192028,0.4041843768140193,1.4850423005866256,0.24166377919665463,0.061282151013702844],\"type\":\"scatter\"},{\"line\":{\"color\":\"aqua\"},\"mode\":\"lines\",\"name\":\"Mean(good-bad) - COMET-22\",\"x\":[\"do not translate\",\"wrong language\",\"real-world knowledge\",\"punctuation\",\"overtranslation\",\"addition\",\"omission\",\"untranslated\",\"mistranslation\",\"undertranslation\"],\"y\":[0.4270982024272212,-0.6934677117617782,0.28861883175373987,0.2744474024129998,0.48378424720659197,0.060463629648521644,0.339629071269166,0.5161487508004713,0.3888224376606538,0.2965250375195492],\"type\":\"scatter\"},{\"line\":{\"color\":\"aquamarine\"},\"mode\":\"lines\",\"name\":\"Mean(good-bad) - MS-COMET-22\",\"x\":[\"do not translate\",\"wrong language\",\"real-world knowledge\",\"punctuation\",\"overtranslation\",\"addition\",\"omission\",\"untranslated\",\"mistranslation\",\"undertranslation\"],\"y\":[0.20115046507594708,-0.18963099273046888,0.05948937273122362,0.185693157086426,0.21796871669156986,-0.04862210273686457,0.3466654318913089,1.0226120290555953,0.12490066389957773,0.11758822494727739],\"type\":\"scatter\"},{\"line\":{\"color\":\"darkturquoise\"},\"mode\":\"lines\",\"name\":\"Mean(good-bad) - MS-COMET-QE-22\",\"x\":[\"do not translate\",\"wrong language\",\"real-world knowledge\",\"punctuation\",\"overtranslation\",\"addition\",\"omission\",\"untranslated\",\"mistranslation\",\"undertranslation\"],\"y\":[0.0971822193093508,-0.6411461172922956,0.08985020538244132,0.20429418657557966,0.23907075397429878,-0.03703383918334948,0.3613250457689576,2.5203456742874515,0.23388764694290298,0.17451663739572223],\"type\":\"scatter\"},{\"line\":{\"color\":\"chocolate\"},\"mode\":\"lines\",\"name\":\"tau - COMET-20\",\"x\":[\"do not translate\",\"wrong language\",\"real-world knowledge\",\"punctuation\",\"overtranslation\",\"addition\",\"omission\",\"untranslated\",\"mistranslation\",\"undertranslation\"],\"y\":[0.9,0.033,0.267,0.706,0.314,0.437,0.808,0.748,0.378,0.112],\"type\":\"scatter\"},{\"line\":{\"color\":\"coral\"},\"mode\":\"lines\",\"name\":\"tau - COMET-22\",\"x\":[\"do not translate\",\"wrong language\",\"real-world knowledge\",\"punctuation\",\"overtranslation\",\"addition\",\"omission\",\"untranslated\",\"mistranslation\",\"undertranslation\"],\"y\":[0.9,-0.318,0.574,0.539,0.69,0.333,0.806,0.536,0.566,0.538],\"type\":\"scatter\"},{\"line\":{\"color\":\"crimson\"},\"mode\":\"lines\",\"name\":\"tau - MS-COMET-22\",\"x\":[\"do not translate\",\"wrong language\",\"real-world knowledge\",\"punctuation\",\"overtranslation\",\"addition\",\"omission\",\"untranslated\",\"mistranslation\",\"undertranslation\"],\"y\":[0.7,0.041,0.23,0.508,0.548,-0.219,0.686,0.504,0.397,0.29],\"type\":\"scatter\"},{\"line\":{\"color\":\"orange\"},\"mode\":\"lines\",\"name\":\"tau - MS-COMET-QE-22\",\"x\":[\"do not translate\",\"wrong language\",\"real-world knowledge\",\"punctuation\",\"overtranslation\",\"addition\",\"omission\",\"untranslated\",\"mistranslation\",\"undertranslation\"],\"y\":[0.24,-0.197,0.248,0.523,0.518,-0.177,0.678,0.388,0.439,0.386],\"type\":\"scatter\"}],                        {\"template\":{\"data\":{\"histogram2dcontour\":[{\"type\":\"histogram2dcontour\",\"colorbar\":{\"outlinewidth\":0,\"ticks\":\"\"},\"colorscale\":[[0.0,\"#0d0887\"],[0.1111111111111111,\"#46039f\"],[0.2222222222222222,\"#7201a8\"],[0.3333333333333333,\"#9c179e\"],[0.4444444444444444,\"#bd3786\"],[0.5555555555555556,\"#d8576b\"],[0.6666666666666666,\"#ed7953\"],[0.7777777777777778,\"#fb9f3a\"],[0.8888888888888888,\"#fdca26\"],[1.0,\"#f0f921\"]]}],\"choropleth\":[{\"type\":\"choropleth\",\"colorbar\":{\"outlinewidth\":0,\"ticks\":\"\"}}],\"histogram2d\":[{\"type\":\"histogram2d\",\"colorbar\":{\"outlinewidth\":0,\"ticks\":\"\"},\"colorscale\":[[0.0,\"#0d0887\"],[0.1111111111111111,\"#46039f\"],[0.2222222222222222,\"#7201a8\"],[0.3333333333333333,\"#9c179e\"],[0.4444444444444444,\"#bd3786\"],[0.5555555555555556,\"#d8576b\"],[0.6666666666666666,\"#ed7953\"],[0.7777777777777778,\"#fb9f3a\"],[0.8888888888888888,\"#fdca26\"],[1.0,\"#f0f921\"]]}],\"heatmap\":[{\"type\":\"heatmap\",\"colorbar\":{\"outlinewidth\":0,\"ticks\":\"\"},\"colorscale\":[[0.0,\"#0d0887\"],[0.1111111111111111,\"#46039f\"],[0.2222222222222222,\"#7201a8\"],[0.3333333333333333,\"#9c179e\"],[0.4444444444444444,\"#bd3786\"],[0.5555555555555556,\"#d8576b\"],[0.6666666666666666,\"#ed7953\"],[0.7777777777777778,\"#fb9f3a\"],[0.8888888888888888,\"#fdca26\"],[1.0,\"#f0f921\"]]}],\"heatmapgl\":[{\"type\":\"heatmapgl\",\"colorbar\":{\"outlinewidth\":0,\"ticks\":\"\"},\"colorscale\":[[0.0,\"#0d0887\"],[0.1111111111111111,\"#46039f\"],[0.2222222222222222,\"#7201a8\"],[0.3333333333333333,\"#9c179e\"],[0.4444444444444444,\"#bd3786\"],[0.5555555555555556,\"#d8576b\"],[0.6666666666666666,\"#ed7953\"],[0.7777777777777778,\"#fb9f3a\"],[0.8888888888888888,\"#fdca26\"],[1.0,\"#f0f921\"]]}],\"contourcarpet\":[{\"type\":\"contourcarpet\",\"colorbar\":{\"outlinewidth\":0,\"ticks\":\"\"}}],\"contour\":[{\"type\":\"contour\",\"colorbar\":{\"outlinewidth\":0,\"ticks\":\"\"},\"colorscale\":[[0.0,\"#0d0887\"],[0.1111111111111111,\"#46039f\"],[0.2222222222222222,\"#7201a8\"],[0.3333333333333333,\"#9c179e\"],[0.4444444444444444,\"#bd3786\"],[0.5555555555555556,\"#d8576b\"],[0.6666666666666666,\"#ed7953\"],[0.7777777777777778,\"#fb9f3a\"],[0.8888888888888888,\"#fdca26\"],[1.0,\"#f0f921\"]]}],\"surface\":[{\"type\":\"surface\",\"colorbar\":{\"outlinewidth\":0,\"ticks\":\"\"},\"colorscale\":[[0.0,\"#0d0887\"],[0.1111111111111111,\"#46039f\"],[0.2222222222222222,\"#7201a8\"],[0.3333333333333333,\"#9c179e\"],[0.4444444444444444,\"#bd3786\"],[0.5555555555555556,\"#d8576b\"],[0.6666666666666666,\"#ed7953\"],[0.7777777777777778,\"#fb9f3a\"],[0.8888888888888888,\"#fdca26\"],[1.0,\"#f0f921\"]]}],\"mesh3d\":[{\"type\":\"mesh3d\",\"colorbar\":{\"outlinewidth\":0,\"ticks\":\"\"}}],\"scatter\":[{\"fillpattern\":{\"fillmode\":\"overlay\",\"size\":10,\"solidity\":0.2},\"type\":\"scatter\"}],\"parcoords\":[{\"type\":\"parcoords\",\"line\":{\"colorbar\":{\"outlinewidth\":0,\"ticks\":\"\"}}}],\"scatterpolargl\":[{\"type\":\"scatterpolargl\",\"marker\":{\"colorbar\":{\"outlinewidth\":0,\"ticks\":\"\"}}}],\"bar\":[{\"error_x\":{\"color\":\"#2a3f5f\"},\"error_y\":{\"color\":\"#2a3f5f\"},\"marker\":{\"line\":{\"color\":\"#E5ECF6\",\"width\":0.5},\"pattern\":{\"fillmode\":\"overlay\",\"size\":10,\"solidity\":0.2}},\"type\":\"bar\"}],\"scattergeo\":[{\"type\":\"scattergeo\",\"marker\":{\"colorbar\":{\"outlinewidth\":0,\"ticks\":\"\"}}}],\"scatterpolar\":[{\"type\":\"scatterpolar\",\"marker\":{\"colorbar\":{\"outlinewidth\":0,\"ticks\":\"\"}}}],\"histogram\":[{\"marker\":{\"pattern\":{\"fillmode\":\"overlay\",\"size\":10,\"solidity\":0.2}},\"type\":\"histogram\"}],\"scattergl\":[{\"type\":\"scattergl\",\"marker\":{\"colorbar\":{\"outlinewidth\":0,\"ticks\":\"\"}}}],\"scatter3d\":[{\"type\":\"scatter3d\",\"line\":{\"colorbar\":{\"outlinewidth\":0,\"ticks\":\"\"}},\"marker\":{\"colorbar\":{\"outlinewidth\":0,\"ticks\":\"\"}}}],\"scattermapbox\":[{\"type\":\"scattermapbox\",\"marker\":{\"colorbar\":{\"outlinewidth\":0,\"ticks\":\"\"}}}],\"scatterternary\":[{\"type\":\"scatterternary\",\"marker\":{\"colorbar\":{\"outlinewidth\":0,\"ticks\":\"\"}}}],\"scattercarpet\":[{\"type\":\"scattercarpet\",\"marker\":{\"colorbar\":{\"outlinewidth\":0,\"ticks\":\"\"}}}],\"carpet\":[{\"aaxis\":{\"endlinecolor\":\"#2a3f5f\",\"gridcolor\":\"white\",\"linecolor\":\"white\",\"minorgridcolor\":\"white\",\"startlinecolor\":\"#2a3f5f\"},\"baxis\":{\"endlinecolor\":\"#2a3f5f\",\"gridcolor\":\"white\",\"linecolor\":\"white\",\"minorgridcolor\":\"white\",\"startlinecolor\":\"#2a3f5f\"},\"type\":\"carpet\"}],\"table\":[{\"cells\":{\"fill\":{\"color\":\"#EBF0F8\"},\"line\":{\"color\":\"white\"}},\"header\":{\"fill\":{\"color\":\"#C8D4E3\"},\"line\":{\"color\":\"white\"}},\"type\":\"table\"}],\"barpolar\":[{\"marker\":{\"line\":{\"color\":\"#E5ECF6\",\"width\":0.5},\"pattern\":{\"fillmode\":\"overlay\",\"size\":10,\"solidity\":0.2}},\"type\":\"barpolar\"}],\"pie\":[{\"automargin\":true,\"type\":\"pie\"}]},\"layout\":{\"autotypenumbers\":\"strict\",\"colorway\":[\"#636efa\",\"#EF553B\",\"#00cc96\",\"#ab63fa\",\"#FFA15A\",\"#19d3f3\",\"#FF6692\",\"#B6E880\",\"#FF97FF\",\"#FECB52\"],\"font\":{\"color\":\"#2a3f5f\"},\"hovermode\":\"closest\",\"hoverlabel\":{\"align\":\"left\"},\"paper_bgcolor\":\"white\",\"plot_bgcolor\":\"#E5ECF6\",\"polar\":{\"bgcolor\":\"#E5ECF6\",\"angularaxis\":{\"gridcolor\":\"white\",\"linecolor\":\"white\",\"ticks\":\"\"},\"radialaxis\":{\"gridcolor\":\"white\",\"linecolor\":\"white\",\"ticks\":\"\"}},\"ternary\":{\"bgcolor\":\"#E5ECF6\",\"aaxis\":{\"gridcolor\":\"white\",\"linecolor\":\"white\",\"ticks\":\"\"},\"baxis\":{\"gridcolor\":\"white\",\"linecolor\":\"white\",\"ticks\":\"\"},\"caxis\":{\"gridcolor\":\"white\",\"linecolor\":\"white\",\"ticks\":\"\"}},\"coloraxis\":{\"colorbar\":{\"outlinewidth\":0,\"ticks\":\"\"}},\"colorscale\":{\"sequential\":[[0.0,\"#0d0887\"],[0.1111111111111111,\"#46039f\"],[0.2222222222222222,\"#7201a8\"],[0.3333333333333333,\"#9c179e\"],[0.4444444444444444,\"#bd3786\"],[0.5555555555555556,\"#d8576b\"],[0.6666666666666666,\"#ed7953\"],[0.7777777777777778,\"#fb9f3a\"],[0.8888888888888888,\"#fdca26\"],[1.0,\"#f0f921\"]],\"sequentialminus\":[[0.0,\"#0d0887\"],[0.1111111111111111,\"#46039f\"],[0.2222222222222222,\"#7201a8\"],[0.3333333333333333,\"#9c179e\"],[0.4444444444444444,\"#bd3786\"],[0.5555555555555556,\"#d8576b\"],[0.6666666666666666,\"#ed7953\"],[0.7777777777777778,\"#fb9f3a\"],[0.8888888888888888,\"#fdca26\"],[1.0,\"#f0f921\"]],\"diverging\":[[0,\"#8e0152\"],[0.1,\"#c51b7d\"],[0.2,\"#de77ae\"],[0.3,\"#f1b6da\"],[0.4,\"#fde0ef\"],[0.5,\"#f7f7f7\"],[0.6,\"#e6f5d0\"],[0.7,\"#b8e186\"],[0.8,\"#7fbc41\"],[0.9,\"#4d9221\"],[1,\"#276419\"]]},\"xaxis\":{\"gridcolor\":\"white\",\"linecolor\":\"white\",\"ticks\":\"\",\"title\":{\"standoff\":15},\"zerolinecolor\":\"white\",\"automargin\":true,\"zerolinewidth\":2},\"yaxis\":{\"gridcolor\":\"white\",\"linecolor\":\"white\",\"ticks\":\"\",\"title\":{\"standoff\":15},\"zerolinecolor\":\"white\",\"automargin\":true,\"zerolinewidth\":2},\"scene\":{\"xaxis\":{\"backgroundcolor\":\"#E5ECF6\",\"gridcolor\":\"white\",\"linecolor\":\"white\",\"showbackground\":true,\"ticks\":\"\",\"zerolinecolor\":\"white\",\"gridwidth\":2},\"yaxis\":{\"backgroundcolor\":\"#E5ECF6\",\"gridcolor\":\"white\",\"linecolor\":\"white\",\"showbackground\":true,\"ticks\":\"\",\"zerolinecolor\":\"white\",\"gridwidth\":2},\"zaxis\":{\"backgroundcolor\":\"#E5ECF6\",\"gridcolor\":\"white\",\"linecolor\":\"white\",\"showbackground\":true,\"ticks\":\"\",\"zerolinecolor\":\"white\",\"gridwidth\":2}},\"shapedefaults\":{\"line\":{\"color\":\"#2a3f5f\"}},\"annotationdefaults\":{\"arrowcolor\":\"#2a3f5f\",\"arrowhead\":0,\"arrowwidth\":1},\"geo\":{\"bgcolor\":\"white\",\"landcolor\":\"#E5ECF6\",\"subunitcolor\":\"white\",\"showland\":true,\"showlakes\":true,\"lakecolor\":\"white\"},\"title\":{\"x\":0.05},\"mapbox\":{\"style\":\"light\"}}},\"title\":{\"text\":\"Mean(good-bad) tau\"}},                        {\"responsive\": true}                    ).then(function(){\n",
       "                            \n",
       "var gd = document.getElementById('31db717b-d58d-40b7-b891-26ea538b5125');\n",
       "var x = new MutationObserver(function (mutations, observer) {{\n",
       "        var display = window.getComputedStyle(gd).display;\n",
       "        if (!display || display === 'none') {{\n",
       "            console.log([gd, 'removed!']);\n",
       "            Plotly.purge(gd);\n",
       "            observer.disconnect();\n",
       "        }}\n",
       "}});\n",
       "\n",
       "// Listen for the removal of the full notebook cells\n",
       "var notebookContainer = gd.closest('#notebook-container');\n",
       "if (notebookContainer) {{\n",
       "    x.observe(notebookContainer, {childList: true});\n",
       "}}\n",
       "\n",
       "// Listen for the clearing of the current output cell\n",
       "var outputEl = gd.closest('.output');\n",
       "if (outputEl) {{\n",
       "    x.observe(outputEl, {childList: true});\n",
       "}}\n",
       "\n",
       "                        })                };                });            </script>        </div>"
      ]
     },
     "metadata": {},
     "output_type": "display_data"
    }
   ],
   "source": [
    "grouped_line_plot([means, tau], comets, [\"Mean(good-bad)\", \"tau\"], phenomena)"
   ]
  },
  {
   "cell_type": "code",
   "execution_count": 38,
   "id": "cb61b6f1",
   "metadata": {},
   "outputs": [],
   "source": [
    "def grouped_line_plot(groups: List[Dict[str,list]], metrics_names: List[str], group_labels: List[str], phenomena: List[str]):\n",
    "    '''\n",
    "    Inputs: \n",
    "        1. means and tau scores\n",
    "        format = {\n",
    "            metric1: [score for phenomenon 1, score for phenomenon 2, ..]\n",
    "        }\n",
    "        2. A list of the labels for: \n",
    "            the groups (mean (good-bad), tau, ...)\n",
    "            metrics\n",
    "            phenomena (the order is important because in means and tau scores the scores are ordered acc. to phenomena)\n",
    "    '''\n",
    "    assert len(groups) > 0 and len(groups) == len(group_labels) and len(metrics_names) > 0\n",
    "    fig = go.Figure()\n",
    "    colors = [['lightsteelblue',  'aqua', 'aquamarine', 'darkturquoise'],\n",
    "        ['chocolate', 'coral', 'crimson', 'orange']]\n",
    "    for i,group in enumerate(groups):\n",
    "        for j,metric in enumerate(metrics_names):\n",
    "            fig.add_trace(go.Scatter(x=phenomena, y=group[metric],mode='lines',name=group_labels[i]+\" - \"+metric,\n",
    "                          line=dict(color=colors[i][j])))\n",
    "    fig.update_layout(\n",
    "        title=\" \".join(group_labels)\n",
    "        )\n",
    "    fig.show()"
   ]
  }
 ],
 "metadata": {
  "kernelspec": {
   "display_name": "Python 3 (ipykernel)",
   "language": "python",
   "name": "python3"
  },
  "language_info": {
   "codemirror_mode": {
    "name": "ipython",
    "version": 3
   },
   "file_extension": ".py",
   "mimetype": "text/x-python",
   "name": "python",
   "nbconvert_exporter": "python",
   "pygments_lexer": "ipython3",
   "version": "3.11.5"
  }
 },
 "nbformat": 4,
 "nbformat_minor": 5
}
