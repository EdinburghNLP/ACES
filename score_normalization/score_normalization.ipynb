{
 "cells": [
  {
   "cell_type": "code",
   "execution_count": 1,
   "id": "aa50da46",
   "metadata": {},
   "outputs": [],
   "source": [
    "#!/usr/bin/env python3\n",
    "import os, sys\n",
    "from normalize_scores_utils import *\n",
    "\n",
    "sys.path.append(os.path.abspath(os.path.join(os.getcwd(), \"..\")))\n",
    "from aces.cli.evaluate import comp_aces_score"
   ]
  },
  {
   "cell_type": "markdown",
   "id": "0e247e3a",
   "metadata": {},
   "source": [
    "# Main Part: Table and Correlations"
   ]
  },
  {
   "cell_type": "code",
   "execution_count": 71,
   "id": "46f37054",
   "metadata": {},
   "outputs": [
    {
     "data": {
      "text/plain": [
       "{'BERTScore',\n",
       " 'BLEU',\n",
       " 'BLEURT-20',\n",
       " 'COMET-20',\n",
       " 'COMET-22',\n",
       " 'COMET-QE',\n",
       " 'COMETKiwi',\n",
       " 'Cross-QE',\n",
       " 'HWTSC-TLM',\n",
       " 'HWTSC-Teacher-Sim',\n",
       " 'KG-BERTScore',\n",
       " 'MS-COMET-22',\n",
       " 'MS-COMET-QE-22',\n",
       " 'UniTE',\n",
       " 'UniTE-ref',\n",
       " 'UniTE-src',\n",
       " 'YISI-1',\n",
       " 'chrF',\n",
       " 'f101spBLEU',\n",
       " 'f200spBLEU',\n",
       " 'metricx_xl_DA_2019',\n",
       " 'metricx_xl_MQM_2020',\n",
       " 'metricx_xxl_DA_2019',\n",
       " 'metricx_xxl_MQM_2020'}"
      ]
     },
     "execution_count": 71,
     "metadata": {},
     "output_type": "execute_result"
    }
   ],
   "source": [
    "metrics_names_2022"
   ]
  },
  {
   "cell_type": "code",
   "execution_count": 72,
   "id": "7c8681df",
   "metadata": {},
   "outputs": [
    {
     "name": "stdout",
     "output_type": "stream",
     "text": [
      "en-uk\n"
     ]
    },
    {
     "name": "stderr",
     "output_type": "stream",
     "text": [
      "100%|██████████| 24/24 [00:00<00:00, 151.52it/s]\n"
     ]
    },
    {
     "name": "stdout",
     "output_type": "stream",
     "text": [
      "en-ja\n"
     ]
    },
    {
     "name": "stderr",
     "output_type": "stream",
     "text": [
      "100%|██████████| 24/24 [00:00<00:00, 114.77it/s]\n"
     ]
    },
    {
     "name": "stdout",
     "output_type": "stream",
     "text": [
      "liv-en\n"
     ]
    },
    {
     "name": "stderr",
     "output_type": "stream",
     "text": [
      "100%|██████████| 24/24 [00:00<00:00, 865.81it/s]\n"
     ]
    },
    {
     "name": "stdout",
     "output_type": "stream",
     "text": [
      "uk-cs\n"
     ]
    },
    {
     "name": "stderr",
     "output_type": "stream",
     "text": [
      "100%|██████████| 24/24 [00:00<00:00, 95.19it/s]\n"
     ]
    },
    {
     "name": "stdout",
     "output_type": "stream",
     "text": [
      "zh-en\n"
     ]
    },
    {
     "name": "stderr",
     "output_type": "stream",
     "text": [
      "100%|██████████| 24/24 [00:00<00:00, 51.72it/s]\n"
     ]
    },
    {
     "name": "stdout",
     "output_type": "stream",
     "text": [
      "en-ru\n"
     ]
    },
    {
     "name": "stderr",
     "output_type": "stream",
     "text": [
      "100%|██████████| 24/24 [00:00<00:00, 82.61it/s]\n"
     ]
    },
    {
     "name": "stdout",
     "output_type": "stream",
     "text": [
      "de-fr\n"
     ]
    },
    {
     "name": "stderr",
     "output_type": "stream",
     "text": [
      "100%|██████████| 24/24 [00:00<00:00, 193.01it/s]\n"
     ]
    },
    {
     "name": "stdout",
     "output_type": "stream",
     "text": [
      "en-cs\n"
     ]
    },
    {
     "name": "stderr",
     "output_type": "stream",
     "text": [
      "100%|██████████| 24/24 [00:00<00:00, 71.46it/s]\n"
     ]
    },
    {
     "name": "stdout",
     "output_type": "stream",
     "text": [
      "en-de\n"
     ]
    },
    {
     "name": "stderr",
     "output_type": "stream",
     "text": [
      "100%|██████████| 24/24 [00:00<00:00, 47.16it/s]\n"
     ]
    },
    {
     "name": "stdout",
     "output_type": "stream",
     "text": [
      "fr-de\n"
     ]
    },
    {
     "name": "stderr",
     "output_type": "stream",
     "text": [
      "100%|██████████| 24/24 [00:00<00:00, 147.38it/s]\n"
     ]
    },
    {
     "name": "stdout",
     "output_type": "stream",
     "text": [
      "en-hr\n"
     ]
    },
    {
     "name": "stderr",
     "output_type": "stream",
     "text": [
      "100%|██████████| 24/24 [00:00<00:00, 108.31it/s]\n"
     ]
    },
    {
     "name": "stdout",
     "output_type": "stream",
     "text": [
      "ja-en\n"
     ]
    },
    {
     "name": "stderr",
     "output_type": "stream",
     "text": [
      "100%|██████████| 24/24 [00:00<00:00, 93.71it/s] \n"
     ]
    },
    {
     "name": "stdout",
     "output_type": "stream",
     "text": [
      "ru-sah\n"
     ]
    },
    {
     "name": "stderr",
     "output_type": "stream",
     "text": [
      "100%|██████████| 24/24 [00:00<00:00, 903.17it/s]\n"
     ]
    },
    {
     "name": "stdout",
     "output_type": "stream",
     "text": [
      "en-zh\n"
     ]
    },
    {
     "name": "stderr",
     "output_type": "stream",
     "text": [
      "100%|██████████| 24/24 [00:00<00:00, 59.10it/s]\n"
     ]
    },
    {
     "name": "stdout",
     "output_type": "stream",
     "text": [
      "en-liv\n"
     ]
    },
    {
     "name": "stderr",
     "output_type": "stream",
     "text": [
      "100%|██████████| 24/24 [00:00<00:00, 1176.96it/s]\n"
     ]
    },
    {
     "name": "stdout",
     "output_type": "stream",
     "text": [
      "de-en\n"
     ]
    },
    {
     "name": "stderr",
     "output_type": "stream",
     "text": [
      "100%|██████████| 24/24 [00:00<00:00, 81.37it/s]\n"
     ]
    },
    {
     "name": "stdout",
     "output_type": "stream",
     "text": [
      "sah-ru\n"
     ]
    },
    {
     "name": "stderr",
     "output_type": "stream",
     "text": [
      "100%|██████████| 24/24 [00:00<00:00, 943.16it/s]\n"
     ]
    },
    {
     "name": "stdout",
     "output_type": "stream",
     "text": [
      "cs-uk\n"
     ]
    },
    {
     "name": "stderr",
     "output_type": "stream",
     "text": [
      "100%|██████████| 24/24 [00:00<00:00, 119.47it/s]\n"
     ]
    },
    {
     "name": "stdout",
     "output_type": "stream",
     "text": [
      "uk-en\n"
     ]
    },
    {
     "name": "stderr",
     "output_type": "stream",
     "text": [
      "100%|██████████| 24/24 [00:00<00:00, 139.66it/s]\n"
     ]
    },
    {
     "name": "stdout",
     "output_type": "stream",
     "text": [
      "ru-en\n"
     ]
    },
    {
     "name": "stderr",
     "output_type": "stream",
     "text": [
      "100%|██████████| 24/24 [00:00<00:00, 146.13it/s]\n"
     ]
    },
    {
     "name": "stdout",
     "output_type": "stream",
     "text": [
      "cs-en\n"
     ]
    },
    {
     "name": "stderr",
     "output_type": "stream",
     "text": [
      "100%|██████████| 24/24 [00:00<00:00, 97.36it/s] \n"
     ]
    }
   ],
   "source": [
    "WMT_scores = load_WMT_scores(WMT_scores_path, metrics_names_2022)\n"
   ]
  },
  {
   "cell_type": "code",
   "execution_count": 2,
   "id": "aa5b6318",
   "metadata": {},
   "outputs": [
    {
     "name": "stderr",
     "output_type": "stream",
     "text": [
      "INFO:logger:Loading ACES the scores...\n",
      "INFO:logger:Loading ACES the scores...\n"
     ]
    },
    {
     "name": "stdout",
     "output_type": "stream",
     "text": [
      "en-uk\n"
     ]
    },
    {
     "name": "stderr",
     "output_type": "stream",
     "text": [
      "100%|██████████| 24/24 [00:00<00:00, 135.85it/s]\n"
     ]
    },
    {
     "name": "stdout",
     "output_type": "stream",
     "text": [
      "en-ja\n"
     ]
    },
    {
     "name": "stderr",
     "output_type": "stream",
     "text": [
      "100%|██████████| 24/24 [00:00<00:00, 81.19it/s]\n"
     ]
    },
    {
     "name": "stdout",
     "output_type": "stream",
     "text": [
      "liv-en\n"
     ]
    },
    {
     "name": "stderr",
     "output_type": "stream",
     "text": [
      "100%|██████████| 24/24 [00:00<00:00, 919.53it/s]\n"
     ]
    },
    {
     "name": "stdout",
     "output_type": "stream",
     "text": [
      "uk-cs\n"
     ]
    },
    {
     "name": "stderr",
     "output_type": "stream",
     "text": [
      "100%|██████████| 24/24 [00:00<00:00, 76.26it/s]\n"
     ]
    },
    {
     "name": "stdout",
     "output_type": "stream",
     "text": [
      "zh-en\n"
     ]
    },
    {
     "name": "stderr",
     "output_type": "stream",
     "text": [
      "100%|██████████| 24/24 [00:00<00:00, 37.61it/s]\n"
     ]
    },
    {
     "name": "stdout",
     "output_type": "stream",
     "text": [
      "en-ru\n"
     ]
    },
    {
     "name": "stderr",
     "output_type": "stream",
     "text": [
      "100%|██████████| 24/24 [00:00<00:00, 69.57it/s]\n"
     ]
    },
    {
     "name": "stdout",
     "output_type": "stream",
     "text": [
      "de-fr\n"
     ]
    },
    {
     "name": "stderr",
     "output_type": "stream",
     "text": [
      "100%|██████████| 24/24 [00:00<00:00, 173.81it/s]\n"
     ]
    },
    {
     "name": "stdout",
     "output_type": "stream",
     "text": [
      "en-cs\n"
     ]
    },
    {
     "name": "stderr",
     "output_type": "stream",
     "text": [
      "100%|██████████| 24/24 [00:00<00:00, 60.21it/s]\n"
     ]
    },
    {
     "name": "stdout",
     "output_type": "stream",
     "text": [
      "en-de\n"
     ]
    },
    {
     "name": "stderr",
     "output_type": "stream",
     "text": [
      "100%|██████████| 24/24 [00:00<00:00, 42.04it/s]\n"
     ]
    },
    {
     "name": "stdout",
     "output_type": "stream",
     "text": [
      "fr-de\n"
     ]
    },
    {
     "name": "stderr",
     "output_type": "stream",
     "text": [
      "100%|██████████| 24/24 [00:00<00:00, 138.14it/s]\n"
     ]
    },
    {
     "name": "stdout",
     "output_type": "stream",
     "text": [
      "en-hr\n"
     ]
    },
    {
     "name": "stderr",
     "output_type": "stream",
     "text": [
      "100%|██████████| 24/24 [00:00<00:00, 90.89it/s]\n"
     ]
    },
    {
     "name": "stdout",
     "output_type": "stream",
     "text": [
      "ja-en\n"
     ]
    },
    {
     "name": "stderr",
     "output_type": "stream",
     "text": [
      "100%|██████████| 24/24 [00:00<00:00, 79.95it/s]\n"
     ]
    },
    {
     "name": "stdout",
     "output_type": "stream",
     "text": [
      "ru-sah\n"
     ]
    },
    {
     "name": "stderr",
     "output_type": "stream",
     "text": [
      "100%|██████████| 24/24 [00:00<00:00, 795.56it/s]\n"
     ]
    },
    {
     "name": "stdout",
     "output_type": "stream",
     "text": [
      "en-zh\n"
     ]
    },
    {
     "name": "stderr",
     "output_type": "stream",
     "text": [
      "100%|██████████| 24/24 [00:00<00:00, 53.61it/s]\n"
     ]
    },
    {
     "name": "stdout",
     "output_type": "stream",
     "text": [
      "en-liv\n"
     ]
    },
    {
     "name": "stderr",
     "output_type": "stream",
     "text": [
      "100%|██████████| 24/24 [00:00<00:00, 873.06it/s]\n"
     ]
    },
    {
     "name": "stdout",
     "output_type": "stream",
     "text": [
      "de-en\n"
     ]
    },
    {
     "name": "stderr",
     "output_type": "stream",
     "text": [
      "100%|██████████| 24/24 [00:00<00:00, 70.11it/s]\n"
     ]
    },
    {
     "name": "stdout",
     "output_type": "stream",
     "text": [
      "sah-ru\n"
     ]
    },
    {
     "name": "stderr",
     "output_type": "stream",
     "text": [
      "100%|██████████| 24/24 [00:00<00:00, 774.94it/s]\n"
     ]
    },
    {
     "name": "stdout",
     "output_type": "stream",
     "text": [
      "cs-uk\n"
     ]
    },
    {
     "name": "stderr",
     "output_type": "stream",
     "text": [
      "100%|██████████| 24/24 [00:00<00:00, 91.19it/s]\n"
     ]
    },
    {
     "name": "stdout",
     "output_type": "stream",
     "text": [
      "uk-en\n"
     ]
    },
    {
     "name": "stderr",
     "output_type": "stream",
     "text": [
      "100%|██████████| 24/24 [00:00<00:00, 121.37it/s]\n"
     ]
    },
    {
     "name": "stdout",
     "output_type": "stream",
     "text": [
      "ru-en\n"
     ]
    },
    {
     "name": "stderr",
     "output_type": "stream",
     "text": [
      "100%|██████████| 24/24 [00:00<00:00, 93.98it/s] \n"
     ]
    },
    {
     "name": "stdout",
     "output_type": "stream",
     "text": [
      "cs-en\n"
     ]
    },
    {
     "name": "stderr",
     "output_type": "stream",
     "text": [
      "100%|██████████| 24/24 [00:00<00:00, 77.02it/s]\n"
     ]
    },
    {
     "name": "stdout",
     "output_type": "stream",
     "text": [
      "en-uk\n"
     ]
    },
    {
     "name": "stderr",
     "output_type": "stream",
     "text": [
      "100%|██████████| 43/43 [00:00<00:00, 279.18it/s]\n"
     ]
    },
    {
     "name": "stdout",
     "output_type": "stream",
     "text": [
      "en-ja\n"
     ]
    },
    {
     "name": "stderr",
     "output_type": "stream",
     "text": [
      "100%|██████████| 43/43 [00:00<00:00, 188.60it/s]\n"
     ]
    },
    {
     "name": "stdout",
     "output_type": "stream",
     "text": [
      "liv-en\n"
     ]
    },
    {
     "name": "stderr",
     "output_type": "stream",
     "text": [
      "100%|██████████| 43/43 [00:00<00:00, 2164.32it/s]\n"
     ]
    },
    {
     "name": "stdout",
     "output_type": "stream",
     "text": [
      "uk-cs\n"
     ]
    },
    {
     "name": "stderr",
     "output_type": "stream",
     "text": [
      "100%|██████████| 43/43 [00:00<00:00, 155.98it/s]\n"
     ]
    },
    {
     "name": "stdout",
     "output_type": "stream",
     "text": [
      "zh-en\n"
     ]
    },
    {
     "name": "stderr",
     "output_type": "stream",
     "text": [
      "100%|██████████| 43/43 [00:00<00:00, 72.84it/s]\n"
     ]
    },
    {
     "name": "stdout",
     "output_type": "stream",
     "text": [
      "en-ru\n"
     ]
    },
    {
     "name": "stderr",
     "output_type": "stream",
     "text": [
      "100%|██████████| 43/43 [00:00<00:00, 151.16it/s]\n"
     ]
    },
    {
     "name": "stdout",
     "output_type": "stream",
     "text": [
      "de-fr\n"
     ]
    },
    {
     "name": "stderr",
     "output_type": "stream",
     "text": [
      "100%|██████████| 43/43 [00:00<00:00, 438.51it/s]\n"
     ]
    },
    {
     "name": "stdout",
     "output_type": "stream",
     "text": [
      "en-cs\n"
     ]
    },
    {
     "name": "stderr",
     "output_type": "stream",
     "text": [
      "100%|██████████| 43/43 [00:00<00:00, 155.83it/s]\n"
     ]
    },
    {
     "name": "stdout",
     "output_type": "stream",
     "text": [
      "en-de\n"
     ]
    },
    {
     "name": "stderr",
     "output_type": "stream",
     "text": [
      "100%|██████████| 43/43 [00:00<00:00, 94.55it/s] \n"
     ]
    },
    {
     "name": "stdout",
     "output_type": "stream",
     "text": [
      "fr-de\n"
     ]
    },
    {
     "name": "stderr",
     "output_type": "stream",
     "text": [
      "100%|██████████| 43/43 [00:00<00:00, 368.38it/s]\n"
     ]
    },
    {
     "name": "stdout",
     "output_type": "stream",
     "text": [
      "en-hr\n"
     ]
    },
    {
     "name": "stderr",
     "output_type": "stream",
     "text": [
      "100%|██████████| 43/43 [00:00<00:00, 226.25it/s]\n"
     ]
    },
    {
     "name": "stdout",
     "output_type": "stream",
     "text": [
      "ja-en\n"
     ]
    },
    {
     "name": "stderr",
     "output_type": "stream",
     "text": [
      "100%|██████████| 43/43 [00:00<00:00, 206.83it/s]\n"
     ]
    },
    {
     "name": "stdout",
     "output_type": "stream",
     "text": [
      "ru-sah\n"
     ]
    },
    {
     "name": "stderr",
     "output_type": "stream",
     "text": [
      "100%|██████████| 43/43 [00:00<00:00, 1906.26it/s]\n"
     ]
    },
    {
     "name": "stdout",
     "output_type": "stream",
     "text": [
      "en-zh\n"
     ]
    },
    {
     "name": "stderr",
     "output_type": "stream",
     "text": [
      "100%|██████████| 43/43 [00:00<00:00, 133.99it/s]\n"
     ]
    },
    {
     "name": "stdout",
     "output_type": "stream",
     "text": [
      "en-liv\n"
     ]
    },
    {
     "name": "stderr",
     "output_type": "stream",
     "text": [
      "100%|██████████| 43/43 [00:00<00:00, 2200.10it/s]\n"
     ]
    },
    {
     "name": "stdout",
     "output_type": "stream",
     "text": [
      "de-en\n"
     ]
    },
    {
     "name": "stderr",
     "output_type": "stream",
     "text": [
      "100%|██████████| 43/43 [00:00<00:00, 176.91it/s]\n"
     ]
    },
    {
     "name": "stdout",
     "output_type": "stream",
     "text": [
      "sah-ru\n"
     ]
    },
    {
     "name": "stderr",
     "output_type": "stream",
     "text": [
      "100%|██████████| 43/43 [00:00<00:00, 1998.13it/s]\n"
     ]
    },
    {
     "name": "stdout",
     "output_type": "stream",
     "text": [
      "cs-uk\n"
     ]
    },
    {
     "name": "stderr",
     "output_type": "stream",
     "text": [
      "100%|██████████| 43/43 [00:00<00:00, 265.29it/s]\n"
     ]
    },
    {
     "name": "stdout",
     "output_type": "stream",
     "text": [
      "uk-en\n"
     ]
    },
    {
     "name": "stderr",
     "output_type": "stream",
     "text": [
      "100%|██████████| 43/43 [00:00<00:00, 268.23it/s]\n"
     ]
    },
    {
     "name": "stdout",
     "output_type": "stream",
     "text": [
      "ru-en\n"
     ]
    },
    {
     "name": "stderr",
     "output_type": "stream",
     "text": [
      "100%|██████████| 43/43 [00:00<00:00, 216.05it/s]\n"
     ]
    },
    {
     "name": "stdout",
     "output_type": "stream",
     "text": [
      "cs-en\n"
     ]
    },
    {
     "name": "stderr",
     "output_type": "stream",
     "text": [
      "100%|██████████| 43/43 [00:00<00:00, 182.55it/s]\n"
     ]
    }
   ],
   "source": [
    "# Load the ACES scores\n",
    "ACES_scores_2022_path = '/home/arnisa/Desktop/work/metric_sensitivity_analysis/scored_aces_final.tsv'\n",
    "ACES_scores_2023_path = '/home/arnisa/Desktop/work/metric_sensitivity_analysis/aces-scored-2023-all-scores.quote_errors_removed.tsv'\n",
    "# 2023 later\n",
    "ACES_scores_2022 = load_ACES_scores(ACES_scores_2022_path, good_token='.-good', bad_token='.-bad', metric_mapping=METRIC_NAMES_MAPPING)\n",
    "ACES_scores_2023 = load_ACES_scores(ACES_scores_2023_path, good_token='.-good', bad_token='.-bad', metric_mapping=METRIC_NAMES_MAPPING, skip_metrics=[])\n",
    "\n",
    "# Load WMT scores - metrics for 2022\n",
    "metrics_names_2022 = set(ACES_scores_2022.keys())\n",
    "WMT_scores_path = '/home/arnisa/Desktop/work/metric_sensitivity_analysis/mt-metrics-eval-v2/wmt22/metric-scores'\n",
    "WMT_scores = load_WMT_scores(WMT_scores_path, metrics_names_2022)\n",
    "metrics_names_2022 = list(set(ACES_scores_2022.keys()).intersection(set(WMT_scores.keys())))\n",
    "sensitivities_2022, _, _, phenomena_2022 = calculate_sensitivities(ACES_scores_2022, WMT_scores, mapping=PHENOMENA_MAPPING)\n",
    "\n",
    "# Load WMT scores - metrics for 2023\n",
    "metrics_names_2023 = set(ACES_scores_2023.keys())\n",
    "WMT_scores_path = '/home/arnisa/Desktop/work/metric_sensitivity_analysis/mt-metrics-eval-v2/wmt22/metric-scores'\n",
    "WMT_scores = load_WMT_scores(WMT_scores_path, metrics_names_2023)\n",
    "metrics_names_2023 = list(set(ACES_scores_2023.keys()).intersection(set(WMT_scores.keys())))\n",
    "sensitivities_2023, _, _, phenomena_2023 = calculate_sensitivities(ACES_scores_2023, WMT_scores, mapping=PHENOMENA_MAPPING)\n",
    "\n",
    "# load the ACES scores from the paper\n",
    "ACES_summary_2022 = load_ACES_scores_summary_2022()\n",
    "ACES_summary_2023 = load_ACES_scores_summary_2023(skip_metrics=[])"
   ]
  },
  {
   "cell_type": "code",
   "execution_count": 3,
   "id": "310be452",
   "metadata": {},
   "outputs": [],
   "source": [
    "# From the ACES 2022 Paper:\n",
    "METRICS_GROUPING_2022= {\"baseline\": [\"BLEU\", \"f101spBLEU\", \"f200spBLEU\", \"chrF\", \"BERTScore\", \"BLEURT-20\",\n",
    "                                     \"COMET-20\", \"COMET-QE\", \"YISI-1\"],\n",
    "                        \"reference-based\": [\"COMET-22\", 'metricx_xl_DA_2019', 'metricx_xl_MQM_2020', 'metricx_xxl_DA_2019', 'metricx_xxl_MQM_2020',\n",
    "                                            'MS-COMET-22', \"UniTE\", \"UniTE-ref\"],\n",
    "                        \"reference-free\": [\"COMETKiwi\", \"Cross-QE\", 'HWTSC-Teacher-Sim', 'HWTSC-TLM',\n",
    "                                           'KG-BERTScore', \"MS-COMET-QE-22\", \"UniTE-src\"]\n",
    "\n",
    "                    }\n",
    "\n",
    "METRICS_GROUPING_2023 = {\n",
    "    \"baseline\": [\"BERTScore\", \"BLEU\", \"BLEURT-20\", \"chrF\", \"COMET-22\", \"COMETKiwi\", \n",
    "                 \"f200spBLEU\", \"MS-COMET-QE-22\", \"Random-sysname\", \"YiSi-1\"],\n",
    "    \"reference-based\": [\"eBLEU\", \"embed_llama\", \"MaTESe\", \"MetricX-23\", \"MetricX-23-b\", \n",
    "                        \"MetricX-23-c\", \"partokengram_F\", \"tokengram_F\", \"XCOMET-Ensemble\",\n",
    "                        \"XCOMET-XL\", \"XCOMET-XXL\", \"XLsim\"],\n",
    "    \"reference-free\": [\"cometoid22-wmt21\", \"cometoid22-wmt22\", \"cometoid22-wmt23\", \"CometKiwi-XL\", \n",
    "                       \"CometKiwi-XXL\", \"GEMBA-MQM\", \"KG-BERTScore\", \"MetricX-23-QE\", \"MetricX-23-QE-b\", \n",
    "                       \"MetricX-23-QE-c\", \"XCOMET-QE-Ensemble\", \"XLsimQE\"]                           \n",
    "}\n",
    "# From the ACES 2022 Paper:\n",
    "METRICS_GROUPING_SHORT_2022 = {\"baseline\": [\"BLEU\", \"BERTScore\", \"BLEURT-20\", \"YISI-1\"],\n",
    "                        \"reference-based\": [\"COMET-22\", 'metricx_xl_MQM_2020', \"UniTE\", \"UniTE-ref\"],\n",
    "                        \"reference-free\": [\"COMETKiwi\", 'KG-BERTScore', \"UniTE-src\"]\n",
    "                    }"
   ]
  },
  {
   "cell_type": "code",
   "execution_count": 7,
   "id": "604fa05f",
   "metadata": {},
   "outputs": [
    {
     "data": {
      "text/plain": [
       "dict_keys(['MS-COMET-QE-22', 'COMET', 'BERTScore', 'chrF', 'KG-BERTScore', 'YiSi-1', 'BLEURT-20', 'BLEU', 'COMETKiwi', 'f200spBLEU', 'MATESE', 'MEE4'])"
      ]
     },
     "execution_count": 7,
     "metadata": {},
     "output_type": "execute_result"
    }
   ],
   "source": [
    "WMT_scores.keys()"
   ]
  },
  {
   "cell_type": "code",
   "execution_count": 35,
   "id": "4586f4de",
   "metadata": {},
   "outputs": [],
   "source": [
    "import decimal\n",
    "import re\n",
    "\n",
    "def format_number(number:float, max_phenomena:bool = False, dec:str = '0.000', color='\\colorbox[HTML]{B2EAB1}') -> str:\n",
    "    if number == -np.inf:\n",
    "        return '----'\n",
    "    if number < 0:\n",
    "        out = '-' + str(decimal.Decimal(-number).quantize(decimal.Decimal(dec)))\n",
    "    else:\n",
    "        out = '\\phantom{-}' + str(decimal.Decimal(number).quantize(decimal.Decimal(dec)))\n",
    "    if max_phenomena:\n",
    "        return color + '{\\\\textbf{' + out + '}}'\n",
    "    else:\n",
    "        return out\n",
    "    \n",
    "def format_metric(metric:str):\n",
    "    return re.sub(r'_', '\\\\_', metric)\n",
    "\n",
    "def find_max_on_col(scores:Dict[str, Dict[str, Dict[str, int]]], metrics_names:List[str] = metrics_names_2022, phenomena:List[str]=PHENOMENA, k_highest:int=1) -> Dict[str,str]:\n",
    "    max_metrics = {str(k): [[] for metric in metrics_names] for k in range(k_highest)}\n",
    "    avgs = []\n",
    "    for i,p in enumerate(phenomena):\n",
    "        col = []\n",
    "        for metric in metrics_names:\n",
    "            if metric not in scores and metric in METRIC_NAMES_MAPPING:\n",
    "                metric = METRIC_NAMES_MAPPING[metric]\n",
    "            elif metric not in scores and metric in METRIC_MAPPING_BACK:\n",
    "                metric = METRIC_MAPPING_BACK[metric]\n",
    "            if metric not in scores:\n",
    "                col.append(-np.inf)\n",
    "            else:\n",
    "                col.append(scores[metric][p])\n",
    "        for k in range(k_highest):\n",
    "            max_ids = np.where(col == np.partition(col, -k-1)[-k-1])[0]\n",
    "            for max_id in max_ids:\n",
    "                max_metrics[str(k)][max_id].append(i)\n",
    "        col = np.array(col)\n",
    "        avgs.append(np.average(col[col > -np.inf]))\n",
    "    return max_metrics, avgs\n",
    "\n",
    "def make_header(phenomena:List[str]=PHENOMENA) -> str:\n",
    "    res = \"\\\\begin{sidewaystable*}[ht] \\n \\small \\n \\setlength{\\\\tabcolsep}{3.75pt} \\n \\centering \\n \\\\begin{tabular}{@{}lccccccccccc@{}} \\n \\\\\\\\\\\\toprule \\n\"\n",
    "    for p in PHENOMENA:\n",
    "        if p in phenomena:\n",
    "            res += \" & \"\n",
    "            res += format_metric(PHENOMENA_HEADER_1[p])\n",
    "    res += \"\"\" & \\\\textbf{ACES-} \\\\\\\\\\n\"\"\"\n",
    "    for p in PHENOMENA:\n",
    "        if p in phenomena:\n",
    "            res += \" & \"\n",
    "            res += format_metric(PHENOMENA_HEADER_2[p])\n",
    "    res += \"\"\" & \\\\textbf{Score}\\\\\\\\\\n\\midrule\\n\\\\textit{\\\\textbf{Examples}} \"\"\"\n",
    "    for p in PHENOMENA:\n",
    "        if p in phenomena:\n",
    "            res += \" & \"\n",
    "            res += '\\\\textit{' + str(NUM_SAMPLES[p]) + '}'\n",
    "    res += \"\"\"\\\\\\\\ \\n \\midrule\"\"\"\n",
    "    return res\n",
    "\n",
    "def generate_summary_table(scores:Dict[str, Dict[str, Dict[str, int]]], metrics_groups:Dict[str,list] = METRICS_GROUPING_2022, phenomena:List[str]=PHENOMENA, k_highest:int=1) -> str:\n",
    "    out = ''\n",
    "    metrics_names = []\n",
    "    for group in metrics_groups.values():\n",
    "        for metric in group:\n",
    "            if metric not in scores and metric in METRIC_NAMES_MAPPING:\n",
    "                metrics_names.append(METRIC_NAMES_MAPPING[metric])\n",
    "            elif metric not in scores and metric in METRIC_MAPPING_BACK:\n",
    "                metrics_names.append(METRIC_MAPPING_BACK[metric])\n",
    "            else:\n",
    "                metrics_names.append(metric)\n",
    "\n",
    "    max_in_columns, avgs = find_max_on_col(scores, metrics_names=metrics_names, phenomena=phenomena, k_highest=k_highest)\n",
    "    aces_scores_col = []\n",
    "    for group, metrics in metrics_groups.items():\n",
    "        for metric in metrics:\n",
    "            if metric not in scores and metric in METRIC_NAMES_MAPPING:\n",
    "                metric = METRIC_NAMES_MAPPING[metric]\n",
    "            elif metric not in scores and metric in METRIC_MAPPING_BACK:\n",
    "                metric = METRIC_MAPPING_BACK[metric]\n",
    "            row = {}\n",
    "            for p_id, p in enumerate(phenomena):\n",
    "                if metric not in scores:\n",
    "                    row[p] = 0.0\n",
    "                else:\n",
    "                    row[p] = scores[metric][p]\n",
    "            aces_scores_col.append(comp_aces_score(row))\n",
    "    max_aces_ids = np.where(list(aces_scores_col) == np.max(aces_scores_col))[0]\n",
    "\n",
    "    m_id = 0\n",
    "    for group, metrics in metrics_groups.items():\n",
    "        for metric in metrics:\n",
    "            if metric not in scores and metric in METRIC_NAMES_MAPPING:\n",
    "                metric = METRIC_NAMES_MAPPING[metric]\n",
    "            elif metric not in scores and metric in METRIC_MAPPING_BACK:\n",
    "                metric = METRIC_MAPPING_BACK[metric]\n",
    "            out += format_metric(metric) + '\\t\\t\\t\\t\\t'\n",
    "            for p_id, p in enumerate(phenomena):\n",
    "                if metric not in scores:\n",
    "                    out += '&\\t ---- \\t' \n",
    "                else:\n",
    "                    if k_highest == 1:\n",
    "                        max_ids = max_in_columns['0'][metrics_names.index(metric)]\n",
    "                        out += '&\\t' + format_number(scores[metric][p], max_phenomena=p_id in max_ids) + '\\t'   \n",
    "                    else:\n",
    "                        for k in range(k_highest):\n",
    "                            max_ids = max_in_columns[str(k)][metrics_names.index(metric)]\n",
    "                            if p_id in max_ids:\n",
    "                                color=COLORS[k]\n",
    "                                break\n",
    "                        out += '&\\t' + format_number(scores[metric][p], max_phenomena=True, color=color) + '\\t'   \n",
    "                            \n",
    "                                 \n",
    "            out += '&\\t' + format_number(aces_scores_col[m_id], dec='0.00', max_phenomena=m_id in max_aces_ids) + '\\t \\\\\\\\ \\n'\n",
    "            m_id += 1\n",
    "        out += '\\midrule \\n'\n",
    "    out += 'Average\\t\\t\\t\\t\\t'\n",
    "    for p_id, p in enumerate(phenomena):\n",
    "        out += '&\\t' + format_number(avgs[p_id], max_phenomena=False) + '\\t'\n",
    "    out += '\\\\\\\\ \\n\\\\bottomrule\\t\\t\\t\\t\\t'\n",
    "    return out"
   ]
  },
  {
   "cell_type": "code",
   "execution_count": 12,
   "id": "9c8f51f0",
   "metadata": {},
   "outputs": [],
   "source": [
    "def comp_aces_score(overview_results: List[float]) -> float:\n",
    "    '''\n",
    "    Compute weighted summary score based on top-level correlation scores.\n",
    "    '''\n",
    "    for p in PHENOMENA:\n",
    "        if p not in overview_results:\n",
    "            overview_results[p] = [0]\n",
    "    aces_score = 5 * np.mean(overview_results['addition']) + \\\n",
    "                 5 * np.mean(overview_results['omission']) + \\\n",
    "                 5 * np.mean(overview_results['mistranslation']) +\\\n",
    "                 1 * np.mean(overview_results['untranslated']) + \\\n",
    "                 1 * np.mean(overview_results['do not translate']) + \\\n",
    "                 5 * np.mean(overview_results['overtranslation']) + \\\n",
    "                 5 * np.mean(overview_results['undertranslation']) + \\\n",
    "                 1 * np.mean(overview_results['real-world knowledge']) + \\\n",
    "                 1 * np.mean(overview_results['wrong language']) + \\\n",
    "                 0.1 * np.mean(overview_results['punctuation'])\n",
    "    return aces_score"
   ]
  },
  {
   "cell_type": "code",
   "execution_count": 67,
   "id": "3faff0a9",
   "metadata": {},
   "outputs": [
    {
     "data": {
      "text/plain": [
       "dict_keys(['chrF', 'Cross-QE', 'BLEURT-20', 'metricx_xxl_DA_2019', 'UniTE-src', 'metricx_xl_DA_2019', 'HWTSC-Teacher-Sim', 'UniTE-ref', 'COMET-20', 'COMET-22', 'BERTScore', 'COMET-QE', 'f101spBLEU', 'UniTE', 'metricx_xxl_MQM_2020', 'f200spBLEU', 'metricx_xl_MQM_2020', 'COMETKiwi', 'HWTSC-TLM', 'MS-COMET-QE-22', 'MS-COMET-22', 'KG-BERTScore', 'BLEU'])"
      ]
     },
     "execution_count": 67,
     "metadata": {},
     "output_type": "execute_result"
    }
   ],
   "source": [
    "sensitivities_2022.keys()"
   ]
  },
  {
   "cell_type": "code",
   "execution_count": 34,
   "id": "0c08f566",
   "metadata": {},
   "outputs": [
    {
     "data": {
      "text/plain": [
       "1"
      ]
     },
     "execution_count": 34,
     "metadata": {},
     "output_type": "execute_result"
    }
   ],
   "source": [
    "np.partition([1,-2,3], -2)[-2]"
   ]
  },
  {
   "cell_type": "code",
   "execution_count": 36,
   "id": "a0729c66",
   "metadata": {},
   "outputs": [
    {
     "name": "stdout",
     "output_type": "stream",
     "text": [
      "\\begin{sidewaystable*}[ht] \n",
      " \\small \n",
      " \\setlength{\\tabcolsep}{3.75pt} \n",
      " \\centering \n",
      " \\begin{tabular}{@{}lccccccccccc@{}} \n",
      " \\\\\\toprule \n",
      " & \\hyperref[sec:addition-omission]{\\textbf{addition}} & \\hyperref[sec:source-disambig]{\\textbf{mistranslation}} & \\hyperref[sec:untranslated]{\\textbf{untranslated}} & \\hyperref[sec:do-not-translate]{\\textbf{do not}} & \\hyperref[sec:real-world-knowledge]{\\textbf{real-world}} & \\textbf{ACES-} \\\\\n",
      " &  &  &  & \\hyperref[sec:do-not-translate]{\\textbf{translate}} & \\hyperref[sec:real-world-knowledge]{\\textbf{knowledge}} & \\textbf{Score}\\\\\n",
      "\\midrule\n",
      "\\textit{\\textbf{Examples}}  & \\textit{999} & \\textit{24457} & \\textit{1300} & \\textit{100} & \\textit{2948}\\\\ \n",
      " \\midrule\n",
      "BLEU\t\t\t\t\t&\t\\colorbox{green1}{\\textbf{\\phantom{-}0.215}}\t&\t\\colorbox{red5}{\\textbf{-0.088}}\t&\t\\colorbox{green4}{\\textbf{\\phantom{-}1.194}}\t&\t\\colorbox{red5}{\\textbf{\\phantom{-}0.253}}\t&\t\\colorbox{red5}{\\textbf{-0.306}}\t&\t\\phantom{-}1.77\t \\\\ \n",
      "BERTScore\t\t\t\t\t&\t\\colorbox{green5}{\\textbf{\\phantom{-}0.113}}\t&\t\\colorbox{red4}{\\textbf{-0.024}}\t&\t\\colorbox{green3}{\\textbf{\\phantom{-}1.347}}\t&\t\\colorbox{red3}{\\textbf{\\phantom{-}0.297}}\t&\t\\colorbox{red3}{\\textbf{-0.027}}\t&\t\\phantom{-}2.06\t \\\\ \n",
      "BLEURT-20\t\t\t\t\t&\t\\colorbox{red1}{\\textbf{\\phantom{-}0.104}}\t&\t\\colorbox{red2}{\\textbf{\\phantom{-}0.183}}\t&\t\\colorbox{green2}{\\textbf{\\phantom{-}1.714}}\t&\t\\colorbox{green3}{\\textbf{\\phantom{-}0.386}}\t&\t\\colorbox{red2}{\\textbf{\\phantom{-}0.054}}\t&\t\\phantom{-}3.59\t \\\\ \n",
      "YISI-1\t\t\t\t\t&\t\\colorbox{green4}{\\textbf{\\phantom{-}0.115}}\t&\t\\colorbox{red3}{\\textbf{\\phantom{-}0.062}}\t&\t\\colorbox{green1}{\\textbf{\\phantom{-}2.612}}\t&\t\\colorbox{white}{\\textbf{\\phantom{-}0.315}}\t&\t\\colorbox{red4}{\\textbf{-0.047}}\t&\t\\phantom{-}3.76\t \\\\ \n",
      "\\midrule \n",
      "COMET-22\t\t\t\t\t&\t\\colorbox{red4}{\\textbf{\\phantom{-}0.044}}\t&\t\\colorbox{red1}{\\textbf{\\phantom{-}0.283}}\t&\t\\colorbox{red2}{\\textbf{\\phantom{-}0.376}}\t&\t\\colorbox{red1}{\\textbf{\\phantom{-}0.311}}\t&\t\\colorbox{green3}{\\textbf{\\phantom{-}0.210}}\t&\t\\phantom{-}2.53\t \\\\ \n",
      "metricx\\_xl\\_MQM\\_2020\t\t\t\t\t&\t\\colorbox{red5}{\\textbf{-0.059}}\t&\t\\colorbox{green1}{\\textbf{\\phantom{-}0.628}}\t&\t\\colorbox{red1}{\\textbf{\\phantom{-}0.410}}\t&\t\\colorbox{green1}{\\textbf{\\phantom{-}0.658}}\t&\t\\colorbox{green1}{\\textbf{\\phantom{-}0.751}}\t&\t\\phantom{-}4.66\t \\\\ \n",
      "UniTE\t\t\t\t\t&\t\\colorbox{white}{\\textbf{\\phantom{-}0.112}}\t&\t\\colorbox{green5}{\\textbf{\\phantom{-}0.300}}\t&\t\\colorbox{white}{\\textbf{\\phantom{-}0.549}}\t&\t\\colorbox{green4}{\\textbf{\\phantom{-}0.353}}\t&\t\\colorbox{green5}{\\textbf{\\phantom{-}0.191}}\t&\t\\phantom{-}3.15\t \\\\ \n",
      "UniTE-ref\t\t\t\t\t&\t\\colorbox{red3}{\\textbf{\\phantom{-}0.076}}\t&\t\\colorbox{white}{\\textbf{\\phantom{-}0.285}}\t&\t\\colorbox{red3}{\\textbf{\\phantom{-}0.081}}\t&\t\\colorbox{red2}{\\textbf{\\phantom{-}0.300}}\t&\t\\colorbox{white}{\\textbf{\\phantom{-}0.190}}\t&\t\\phantom{-}2.38\t \\\\ \n",
      "\\midrule \n",
      "COMETKiwi\t\t\t\t\t&\t\\colorbox{green3}{\\textbf{\\phantom{-}0.124}}\t&\t\\colorbox{green2}{\\textbf{\\phantom{-}0.573}}\t&\t\\colorbox{green5}{\\textbf{\\phantom{-}0.664}}\t&\t\\colorbox{red4}{\\textbf{\\phantom{-}0.262}}\t&\t\\colorbox{green2}{\\textbf{\\phantom{-}0.339}}\t&\t\\colorbox[HTML]{B2EAB1}{\\textbf{\\phantom{-}4.75}}\t \\\\ \n",
      "KG-BERTScore\t\t\t\t\t&\t\\colorbox{green2}{\\textbf{\\phantom{-}0.139}}\t&\t\\colorbox{green4}{\\textbf{\\phantom{-}0.407}}\t&\t\\colorbox{red5}{\\textbf{-0.787}}\t&\t\\colorbox{green2}{\\textbf{\\phantom{-}0.543}}\t&\t\\colorbox{red1}{\\textbf{\\phantom{-}0.080}}\t&\t\\phantom{-}2.57\t \\\\ \n",
      "UniTE-src\t\t\t\t\t&\t\\colorbox{red2}{\\textbf{\\phantom{-}0.096}}\t&\t\\colorbox{green3}{\\textbf{\\phantom{-}0.476}}\t&\t\\colorbox{red4}{\\textbf{-0.779}}\t&\t\\colorbox{green5}{\\textbf{\\phantom{-}0.317}}\t&\t\\colorbox{green4}{\\textbf{\\phantom{-}0.193}}\t&\t\\phantom{-}2.59\t \\\\ \n",
      "\\midrule \n",
      "Average\t\t\t\t\t&\t\\phantom{-}0.098\t&\t\\phantom{-}0.280\t&\t\\phantom{-}0.671\t&\t\\phantom{-}0.363\t&\t\\phantom{-}0.148\t\\\\ \n",
      "\\bottomrule\t\t\t\t\t\n"
     ]
    }
   ],
   "source": [
    "METRIC_MAPPING_BACK = {'YISI-1':'YiSi-1', 'BERTScore':'BERTscore', 'COMETKiwi':'CometKiwi', 'MATESE':'MaTESe', 'COMET-22':'COMET'}\n",
    "METRIC_NAMES_MAPPING = {\n",
    "    # For ACES 2022\n",
    "    'COMET-QE-Baseline':'COMET-QE',\n",
    "    'YiSi-1':'YISI-1',\n",
    "    # For ACES 2023\n",
    "    'BERTscore':'BERTScore',\n",
    "    'COMET':'COMET-22',\n",
    "    'CometKiwi':'COMETKiwi',\n",
    "    'MaTESe':'MATESE',  \n",
    "    'spBLEU':'f200spBLEU'\n",
    "}\n",
    "PHENOMENA_HEADER_1 = dict(zip(PHENOMENA, ['\\\\hyperref[sec:addition-omission]{\\\\textbf{addition}}', '\\hyperref[sec:addition-omission]{\\\\textbf{omission}}', '\\hyperref[sec:source-disambig]{\\\\textbf{mistranslation}}', \n",
    "                      '\\hyperref[sec:untranslated]{\\\\textbf{untranslated}}', '\\hyperref[sec:do-not-translate]{\\\\textbf{do not}}', \n",
    "                      '\\hyperref[sec:overtranslation_undertranslation]{\\textbf{overtranslation}}', '\\hyperref[sec:overtranslation_undertranslation]{\\\\textbf{undertranslation}}',\n",
    "                        '\\hyperref[sec:real-world-knowledge]{\\\\textbf{real-world}}', '\\hyperref[sec:wrong_language]{\\textbf{wrong}}', '\\hyperref[sec:punctuation]{\\\\textbf{punctuation}}',\n",
    "                          '\\\\textbf{ACES-}\\\\']))\n",
    "PHENOMENA_HEADER_2 = dict(zip(PHENOMENA, ['', '',  '',  '', '\\\\hyperref[sec:do-not-translate]{\\\\textbf{translate}}', '',  '', '\\hyperref[sec:real-world-knowledge]{\\\\textbf{knowledge}}',\n",
    "                            '\\hyperref[sec:wrong_language]{\\\\textbf{language}}', '', '\\\\textbf{Score}']))\n",
    "NUM_SAMPLES = dict(zip(PHENOMENA, [999, 999, 24457, 1300, 100, 1000, 1000, 2948, 2000, 1673]))\n",
    "COLORS = ['\\colorbox{green1}', '\\colorbox{green2}', '\\colorbox{green3}', '\\colorbox{green4}', '\\colorbox{green5}', '\\colorbox{white}', '\\colorbox{red1}', '\\colorbox{red2}', '\\colorbox{red3}', '\\colorbox{red4}', '\\colorbox{red5}']\n",
    "phenomena = [\"addition\", 'mistranslation', 'untranslated', 'do not translate', 'real-world knowledge']\n",
    "print(make_header(phenomena=phenomena))\n",
    "print(generate_summary_table(sensitivities_2022, metrics_groups=METRICS_GROUPING_SHORT_2022, phenomena=phenomena, k_highest=11))"
   ]
  },
  {
   "cell_type": "code",
   "execution_count": 9,
   "id": "9c8330f6",
   "metadata": {},
   "outputs": [
    {
     "data": {
      "text/plain": [
       "False"
      ]
     },
     "execution_count": 9,
     "metadata": {},
     "output_type": "execute_result"
    }
   ],
   "source": [
    "'f200spBLEU' in ACES_scores_2023"
   ]
  },
  {
   "cell_type": "markdown",
   "id": "06fd4eaf",
   "metadata": {},
   "source": [
    "# Plots"
   ]
  },
  {
   "cell_type": "code",
   "execution_count": 26,
   "id": "0c0ff544",
   "metadata": {},
   "outputs": [],
   "source": [
    "# create groups here:\n",
    "means = {metric:[sensitivities_2022[metric][p] for p in PHENOMENA] for metric in metrics_names_2022}\n",
    "tau = {metric:[ACES_summary_2022[metric][p] for p in PHENOMENA] for metric in metrics_names_2022 if metric in ACES_summary_2022}"
   ]
  },
  {
   "cell_type": "code",
   "execution_count": 21,
   "id": "1779554d",
   "metadata": {},
   "outputs": [],
   "source": [
    "# Group the metrics:\n",
    "bleus = [\"BLEU\", \"f101spBLEU\", \"f200spBLEU\"]\n",
    "comets = [\"COMET-20\", \"COMET-22\", \"MS-COMET-22\", \"MS-COMET-QE-22\"]\n",
    "xl = [\"metricx_xl_DA_2019\", \"metricx_xl_MQM_2020\", \"metricx_xxl_DA_2019\", \"metricx_xxl_MQM_2020\"]\n",
    "unite = [\"UniTE\", \"UniTE-src\", \"UniTE-ref\"]"
   ]
  },
  {
   "cell_type": "code",
   "execution_count": 28,
   "id": "ca277ffc",
   "metadata": {},
   "outputs": [
    {
     "data": {
      "application/vnd.plotly.v1+json": {
       "config": {
        "plotlyServerURL": "https://plot.ly"
       },
       "data": [
        {
         "line": {
          "color": "lightsteelblue"
         },
         "mode": "lines",
         "name": "Mean(good-bad) - BLEU",
         "type": "scatter",
         "x": [
          "addition",
          "omission",
          "mistranslation",
          "untranslated",
          "do not translate",
          "overtranslation",
          "undertranslation",
          "real-world knowledge",
          "wrong language",
          "punctuation"
         ],
         "y": [
          0.2148287208357031,
          0.2547030756159054,
          -0.08824611291143918,
          1.1936012111929082,
          0.25324141756487745,
          -1.099805470474964,
          -1.1013204692761616,
          -0.3062169882384918,
          0.650622573355296,
          0.34640999424957986
         ]
        },
        {
         "line": {
          "color": "aqua"
         },
         "mode": "lines",
         "name": "Mean(good-bad) - f101spBLEU",
         "type": "scatter",
         "x": [
          "addition",
          "omission",
          "mistranslation",
          "untranslated",
          "do not translate",
          "overtranslation",
          "undertranslation",
          "real-world knowledge",
          "wrong language",
          "punctuation"
         ],
         "y": [
          0.13151156220901616,
          0.1863532850365928,
          -0.0770431248090204,
          0.8976180911201121,
          0.31322648852962093,
          -0.5682955103975651,
          -0.6106474620460811,
          -0.16694896017579922,
          0.49766527107268943,
          0.20342198914362314
         ]
        },
        {
         "line": {
          "color": "aquamarine"
         },
         "mode": "lines",
         "name": "Mean(good-bad) - f200spBLEU",
         "type": "scatter",
         "x": [
          "addition",
          "omission",
          "mistranslation",
          "untranslated",
          "do not translate",
          "overtranslation",
          "undertranslation",
          "real-world knowledge",
          "wrong language",
          "punctuation"
         ],
         "y": [
          0.12581225313618488,
          0.18170729852854106,
          -0.07728893460685092,
          0.8810556975739291,
          0.32105350563551555,
          -0.5326243110635183,
          -0.5547589251683395,
          -0.16597207427446717,
          0.4896448112722411,
          0.1850044698107335
         ]
        },
        {
         "line": {
          "color": "chocolate"
         },
         "mode": "lines",
         "name": "tau - BLEU",
         "type": "scatter",
         "x": [
          "addition",
          "omission",
          "mistranslation",
          "untranslated",
          "do not translate",
          "overtranslation",
          "undertranslation",
          "real-world knowledge",
          "wrong language",
          "punctuation"
         ],
         "y": [
          0.748,
          0.435,
          -0.229,
          0.353,
          0.6,
          -0.838,
          -0.856,
          -0.768,
          0.661,
          0.638
         ]
        },
        {
         "line": {
          "color": "coral"
         },
         "mode": "lines",
         "name": "tau - f101spBLEU",
         "type": "scatter",
         "x": [
          "addition",
          "omission",
          "mistranslation",
          "untranslated",
          "do not translate",
          "overtranslation",
          "undertranslation",
          "real-world knowledge",
          "wrong language",
          "punctuation"
         ],
         "y": [
          0.662,
          0.59,
          -0.084,
          0.66,
          0.94,
          -0.738,
          -0.826,
          -0.405,
          0.638,
          0.639
         ]
        },
        {
         "line": {
          "color": "crimson"
         },
         "mode": "lines",
         "name": "tau - f200spBLEU",
         "type": "scatter",
         "x": [
          "addition",
          "omission",
          "mistranslation",
          "untranslated",
          "do not translate",
          "overtranslation",
          "undertranslation",
          "real-world knowledge",
          "wrong language",
          "punctuation"
         ],
         "y": [
          0.664,
          0.59,
          -0.082,
          0.687,
          0.92,
          -0.752,
          -0.794,
          -0.394,
          0.658,
          0.648
         ]
        }
       ],
       "layout": {
        "template": {
         "data": {
          "bar": [
           {
            "error_x": {
             "color": "#2a3f5f"
            },
            "error_y": {
             "color": "#2a3f5f"
            },
            "marker": {
             "line": {
              "color": "#E5ECF6",
              "width": 0.5
             },
             "pattern": {
              "fillmode": "overlay",
              "size": 10,
              "solidity": 0.2
             }
            },
            "type": "bar"
           }
          ],
          "barpolar": [
           {
            "marker": {
             "line": {
              "color": "#E5ECF6",
              "width": 0.5
             },
             "pattern": {
              "fillmode": "overlay",
              "size": 10,
              "solidity": 0.2
             }
            },
            "type": "barpolar"
           }
          ],
          "carpet": [
           {
            "aaxis": {
             "endlinecolor": "#2a3f5f",
             "gridcolor": "white",
             "linecolor": "white",
             "minorgridcolor": "white",
             "startlinecolor": "#2a3f5f"
            },
            "baxis": {
             "endlinecolor": "#2a3f5f",
             "gridcolor": "white",
             "linecolor": "white",
             "minorgridcolor": "white",
             "startlinecolor": "#2a3f5f"
            },
            "type": "carpet"
           }
          ],
          "choropleth": [
           {
            "colorbar": {
             "outlinewidth": 0,
             "ticks": ""
            },
            "type": "choropleth"
           }
          ],
          "contour": [
           {
            "colorbar": {
             "outlinewidth": 0,
             "ticks": ""
            },
            "colorscale": [
             [
              0,
              "#0d0887"
             ],
             [
              0.1111111111111111,
              "#46039f"
             ],
             [
              0.2222222222222222,
              "#7201a8"
             ],
             [
              0.3333333333333333,
              "#9c179e"
             ],
             [
              0.4444444444444444,
              "#bd3786"
             ],
             [
              0.5555555555555556,
              "#d8576b"
             ],
             [
              0.6666666666666666,
              "#ed7953"
             ],
             [
              0.7777777777777778,
              "#fb9f3a"
             ],
             [
              0.8888888888888888,
              "#fdca26"
             ],
             [
              1,
              "#f0f921"
             ]
            ],
            "type": "contour"
           }
          ],
          "contourcarpet": [
           {
            "colorbar": {
             "outlinewidth": 0,
             "ticks": ""
            },
            "type": "contourcarpet"
           }
          ],
          "heatmap": [
           {
            "colorbar": {
             "outlinewidth": 0,
             "ticks": ""
            },
            "colorscale": [
             [
              0,
              "#0d0887"
             ],
             [
              0.1111111111111111,
              "#46039f"
             ],
             [
              0.2222222222222222,
              "#7201a8"
             ],
             [
              0.3333333333333333,
              "#9c179e"
             ],
             [
              0.4444444444444444,
              "#bd3786"
             ],
             [
              0.5555555555555556,
              "#d8576b"
             ],
             [
              0.6666666666666666,
              "#ed7953"
             ],
             [
              0.7777777777777778,
              "#fb9f3a"
             ],
             [
              0.8888888888888888,
              "#fdca26"
             ],
             [
              1,
              "#f0f921"
             ]
            ],
            "type": "heatmap"
           }
          ],
          "heatmapgl": [
           {
            "colorbar": {
             "outlinewidth": 0,
             "ticks": ""
            },
            "colorscale": [
             [
              0,
              "#0d0887"
             ],
             [
              0.1111111111111111,
              "#46039f"
             ],
             [
              0.2222222222222222,
              "#7201a8"
             ],
             [
              0.3333333333333333,
              "#9c179e"
             ],
             [
              0.4444444444444444,
              "#bd3786"
             ],
             [
              0.5555555555555556,
              "#d8576b"
             ],
             [
              0.6666666666666666,
              "#ed7953"
             ],
             [
              0.7777777777777778,
              "#fb9f3a"
             ],
             [
              0.8888888888888888,
              "#fdca26"
             ],
             [
              1,
              "#f0f921"
             ]
            ],
            "type": "heatmapgl"
           }
          ],
          "histogram": [
           {
            "marker": {
             "pattern": {
              "fillmode": "overlay",
              "size": 10,
              "solidity": 0.2
             }
            },
            "type": "histogram"
           }
          ],
          "histogram2d": [
           {
            "colorbar": {
             "outlinewidth": 0,
             "ticks": ""
            },
            "colorscale": [
             [
              0,
              "#0d0887"
             ],
             [
              0.1111111111111111,
              "#46039f"
             ],
             [
              0.2222222222222222,
              "#7201a8"
             ],
             [
              0.3333333333333333,
              "#9c179e"
             ],
             [
              0.4444444444444444,
              "#bd3786"
             ],
             [
              0.5555555555555556,
              "#d8576b"
             ],
             [
              0.6666666666666666,
              "#ed7953"
             ],
             [
              0.7777777777777778,
              "#fb9f3a"
             ],
             [
              0.8888888888888888,
              "#fdca26"
             ],
             [
              1,
              "#f0f921"
             ]
            ],
            "type": "histogram2d"
           }
          ],
          "histogram2dcontour": [
           {
            "colorbar": {
             "outlinewidth": 0,
             "ticks": ""
            },
            "colorscale": [
             [
              0,
              "#0d0887"
             ],
             [
              0.1111111111111111,
              "#46039f"
             ],
             [
              0.2222222222222222,
              "#7201a8"
             ],
             [
              0.3333333333333333,
              "#9c179e"
             ],
             [
              0.4444444444444444,
              "#bd3786"
             ],
             [
              0.5555555555555556,
              "#d8576b"
             ],
             [
              0.6666666666666666,
              "#ed7953"
             ],
             [
              0.7777777777777778,
              "#fb9f3a"
             ],
             [
              0.8888888888888888,
              "#fdca26"
             ],
             [
              1,
              "#f0f921"
             ]
            ],
            "type": "histogram2dcontour"
           }
          ],
          "mesh3d": [
           {
            "colorbar": {
             "outlinewidth": 0,
             "ticks": ""
            },
            "type": "mesh3d"
           }
          ],
          "parcoords": [
           {
            "line": {
             "colorbar": {
              "outlinewidth": 0,
              "ticks": ""
             }
            },
            "type": "parcoords"
           }
          ],
          "pie": [
           {
            "automargin": true,
            "type": "pie"
           }
          ],
          "scatter": [
           {
            "fillpattern": {
             "fillmode": "overlay",
             "size": 10,
             "solidity": 0.2
            },
            "type": "scatter"
           }
          ],
          "scatter3d": [
           {
            "line": {
             "colorbar": {
              "outlinewidth": 0,
              "ticks": ""
             }
            },
            "marker": {
             "colorbar": {
              "outlinewidth": 0,
              "ticks": ""
             }
            },
            "type": "scatter3d"
           }
          ],
          "scattercarpet": [
           {
            "marker": {
             "colorbar": {
              "outlinewidth": 0,
              "ticks": ""
             }
            },
            "type": "scattercarpet"
           }
          ],
          "scattergeo": [
           {
            "marker": {
             "colorbar": {
              "outlinewidth": 0,
              "ticks": ""
             }
            },
            "type": "scattergeo"
           }
          ],
          "scattergl": [
           {
            "marker": {
             "colorbar": {
              "outlinewidth": 0,
              "ticks": ""
             }
            },
            "type": "scattergl"
           }
          ],
          "scattermapbox": [
           {
            "marker": {
             "colorbar": {
              "outlinewidth": 0,
              "ticks": ""
             }
            },
            "type": "scattermapbox"
           }
          ],
          "scatterpolar": [
           {
            "marker": {
             "colorbar": {
              "outlinewidth": 0,
              "ticks": ""
             }
            },
            "type": "scatterpolar"
           }
          ],
          "scatterpolargl": [
           {
            "marker": {
             "colorbar": {
              "outlinewidth": 0,
              "ticks": ""
             }
            },
            "type": "scatterpolargl"
           }
          ],
          "scatterternary": [
           {
            "marker": {
             "colorbar": {
              "outlinewidth": 0,
              "ticks": ""
             }
            },
            "type": "scatterternary"
           }
          ],
          "surface": [
           {
            "colorbar": {
             "outlinewidth": 0,
             "ticks": ""
            },
            "colorscale": [
             [
              0,
              "#0d0887"
             ],
             [
              0.1111111111111111,
              "#46039f"
             ],
             [
              0.2222222222222222,
              "#7201a8"
             ],
             [
              0.3333333333333333,
              "#9c179e"
             ],
             [
              0.4444444444444444,
              "#bd3786"
             ],
             [
              0.5555555555555556,
              "#d8576b"
             ],
             [
              0.6666666666666666,
              "#ed7953"
             ],
             [
              0.7777777777777778,
              "#fb9f3a"
             ],
             [
              0.8888888888888888,
              "#fdca26"
             ],
             [
              1,
              "#f0f921"
             ]
            ],
            "type": "surface"
           }
          ],
          "table": [
           {
            "cells": {
             "fill": {
              "color": "#EBF0F8"
             },
             "line": {
              "color": "white"
             }
            },
            "header": {
             "fill": {
              "color": "#C8D4E3"
             },
             "line": {
              "color": "white"
             }
            },
            "type": "table"
           }
          ]
         },
         "layout": {
          "annotationdefaults": {
           "arrowcolor": "#2a3f5f",
           "arrowhead": 0,
           "arrowwidth": 1
          },
          "autotypenumbers": "strict",
          "coloraxis": {
           "colorbar": {
            "outlinewidth": 0,
            "ticks": ""
           }
          },
          "colorscale": {
           "diverging": [
            [
             0,
             "#8e0152"
            ],
            [
             0.1,
             "#c51b7d"
            ],
            [
             0.2,
             "#de77ae"
            ],
            [
             0.3,
             "#f1b6da"
            ],
            [
             0.4,
             "#fde0ef"
            ],
            [
             0.5,
             "#f7f7f7"
            ],
            [
             0.6,
             "#e6f5d0"
            ],
            [
             0.7,
             "#b8e186"
            ],
            [
             0.8,
             "#7fbc41"
            ],
            [
             0.9,
             "#4d9221"
            ],
            [
             1,
             "#276419"
            ]
           ],
           "sequential": [
            [
             0,
             "#0d0887"
            ],
            [
             0.1111111111111111,
             "#46039f"
            ],
            [
             0.2222222222222222,
             "#7201a8"
            ],
            [
             0.3333333333333333,
             "#9c179e"
            ],
            [
             0.4444444444444444,
             "#bd3786"
            ],
            [
             0.5555555555555556,
             "#d8576b"
            ],
            [
             0.6666666666666666,
             "#ed7953"
            ],
            [
             0.7777777777777778,
             "#fb9f3a"
            ],
            [
             0.8888888888888888,
             "#fdca26"
            ],
            [
             1,
             "#f0f921"
            ]
           ],
           "sequentialminus": [
            [
             0,
             "#0d0887"
            ],
            [
             0.1111111111111111,
             "#46039f"
            ],
            [
             0.2222222222222222,
             "#7201a8"
            ],
            [
             0.3333333333333333,
             "#9c179e"
            ],
            [
             0.4444444444444444,
             "#bd3786"
            ],
            [
             0.5555555555555556,
             "#d8576b"
            ],
            [
             0.6666666666666666,
             "#ed7953"
            ],
            [
             0.7777777777777778,
             "#fb9f3a"
            ],
            [
             0.8888888888888888,
             "#fdca26"
            ],
            [
             1,
             "#f0f921"
            ]
           ]
          },
          "colorway": [
           "#636efa",
           "#EF553B",
           "#00cc96",
           "#ab63fa",
           "#FFA15A",
           "#19d3f3",
           "#FF6692",
           "#B6E880",
           "#FF97FF",
           "#FECB52"
          ],
          "font": {
           "color": "#2a3f5f"
          },
          "geo": {
           "bgcolor": "white",
           "lakecolor": "white",
           "landcolor": "#E5ECF6",
           "showlakes": true,
           "showland": true,
           "subunitcolor": "white"
          },
          "hoverlabel": {
           "align": "left"
          },
          "hovermode": "closest",
          "mapbox": {
           "style": "light"
          },
          "paper_bgcolor": "white",
          "plot_bgcolor": "#E5ECF6",
          "polar": {
           "angularaxis": {
            "gridcolor": "white",
            "linecolor": "white",
            "ticks": ""
           },
           "bgcolor": "#E5ECF6",
           "radialaxis": {
            "gridcolor": "white",
            "linecolor": "white",
            "ticks": ""
           }
          },
          "scene": {
           "xaxis": {
            "backgroundcolor": "#E5ECF6",
            "gridcolor": "white",
            "gridwidth": 2,
            "linecolor": "white",
            "showbackground": true,
            "ticks": "",
            "zerolinecolor": "white"
           },
           "yaxis": {
            "backgroundcolor": "#E5ECF6",
            "gridcolor": "white",
            "gridwidth": 2,
            "linecolor": "white",
            "showbackground": true,
            "ticks": "",
            "zerolinecolor": "white"
           },
           "zaxis": {
            "backgroundcolor": "#E5ECF6",
            "gridcolor": "white",
            "gridwidth": 2,
            "linecolor": "white",
            "showbackground": true,
            "ticks": "",
            "zerolinecolor": "white"
           }
          },
          "shapedefaults": {
           "line": {
            "color": "#2a3f5f"
           }
          },
          "ternary": {
           "aaxis": {
            "gridcolor": "white",
            "linecolor": "white",
            "ticks": ""
           },
           "baxis": {
            "gridcolor": "white",
            "linecolor": "white",
            "ticks": ""
           },
           "bgcolor": "#E5ECF6",
           "caxis": {
            "gridcolor": "white",
            "linecolor": "white",
            "ticks": ""
           }
          },
          "title": {
           "x": 0.05
          },
          "xaxis": {
           "automargin": true,
           "gridcolor": "white",
           "linecolor": "white",
           "ticks": "",
           "title": {
            "standoff": 15
           },
           "zerolinecolor": "white",
           "zerolinewidth": 2
          },
          "yaxis": {
           "automargin": true,
           "gridcolor": "white",
           "linecolor": "white",
           "ticks": "",
           "title": {
            "standoff": 15
           },
           "zerolinecolor": "white",
           "zerolinewidth": 2
          }
         }
        },
        "title": {
         "text": "Mean(good-bad) tau"
        }
       }
      }
     },
     "metadata": {},
     "output_type": "display_data"
    }
   ],
   "source": [
    "grouped_line_plot([means, tau], bleus, [\"Mean(good-bad)\", \"tau\"], PHENOMENA)"
   ]
  },
  {
   "cell_type": "code",
   "execution_count": 38,
   "id": "cb61b6f1",
   "metadata": {},
   "outputs": [],
   "source": [
    "def grouped_line_plot(groups: List[Dict[str,list]], metrics_names: List[str], group_labels: List[str], phenomena: List[str]):\n",
    "    '''\n",
    "    Inputs: \n",
    "        1. means and tau scores\n",
    "        format = {\n",
    "            metric1: [score for phenomenon 1, score for phenomenon 2, ..]\n",
    "        }\n",
    "        2. A list of the labels for: \n",
    "            the groups (mean (good-bad), tau, ...)\n",
    "            metrics\n",
    "            phenomena (the order is important because in means and tau scores the scores are ordered acc. to phenomena)\n",
    "    '''\n",
    "    assert len(groups) > 0 and len(groups) == len(group_labels) and len(metrics_names) > 0\n",
    "    fig = go.Figure()\n",
    "    colors = [['lightsteelblue',  'aqua', 'aquamarine', 'darkturquoise'],\n",
    "        ['chocolate', 'coral', 'crimson', 'orange']]\n",
    "    for i,group in enumerate(groups):\n",
    "        for j,metric in enumerate(metrics_names):\n",
    "            fig.add_trace(go.Scatter(x=phenomena, y=group[metric],mode='lines',name=group_labels[i]+\" - \"+metric,\n",
    "                          line=dict(color=colors[i][j])))\n",
    "    fig.update_layout(\n",
    "        title=\" \".join(group_labels)\n",
    "        )\n",
    "    fig.show()"
   ]
  }
 ],
 "metadata": {
  "kernelspec": {
   "display_name": "Python 3 (ipykernel)",
   "language": "python",
   "name": "python3"
  },
  "language_info": {
   "codemirror_mode": {
    "name": "ipython",
    "version": 3
   },
   "file_extension": ".py",
   "mimetype": "text/x-python",
   "name": "python",
   "nbconvert_exporter": "python",
   "pygments_lexer": "ipython3",
   "version": "3.11.5"
  }
 },
 "nbformat": 4,
 "nbformat_minor": 5
}
