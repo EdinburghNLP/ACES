{
 "cells": [
  {
   "cell_type": "code",
   "execution_count": 1,
   "id": "aa50da46",
   "metadata": {},
   "outputs": [],
   "source": [
    "#!/usr/bin/env python3\n",
    "import os, sys\n",
    "from normalize_scores_utils import *\n",
    "\n",
    "import logging\n",
    "logger = logging.getLogger('logger')\n",
    "logger.setLevel(logging.INFO)"
   ]
  },
  {
   "cell_type": "markdown",
   "id": "0e247e3a",
   "metadata": {},
   "source": [
    "# Main Part: Table and Correlations"
   ]
  },
  {
   "cell_type": "code",
   "execution_count": 2,
   "id": "aa5b6318",
   "metadata": {},
   "outputs": [
    {
     "name": "stderr",
     "output_type": "stream",
     "text": [
      "100%|██████████| 21/21 [00:38<00:00,  1.83s/it]\n",
      "100%|██████████| 83/83 [00:57<00:00,  1.44it/s]\n"
     ]
    }
   ],
   "source": [
    "data_folder = '/mnt/c/Users/user/Desktop/work/metric_sensitivity_analysis'\n",
    "\n",
    "# Load the ACES scores\n",
    "ACES_scores_2022_path = os.path.join(data_folder, 'aces-scored-2022-all-scores.only.quote_errors_removed.tsv')\n",
    "ACES_scores_2023_path = os.path.join(data_folder, 'aces-scored-2023-all-scores.quote_errors_removed.tsv')\n",
    "# 2023 later\n",
    "ACES_scores_2022 = load_ACES_scores(ACES_scores_2022_path, good_token='.-good', bad_token='.-bad', mapping=METRIC_NAMES_MAPPING)\n",
    "ACES_scores_2023 = load_ACES_scores(ACES_scores_2023_path, good_token='.-good', bad_token='.-bad', mapping=METRIC_NAMES_MAPPING, skip_metrics=[])\n",
    "metrics_names_2022 = set(ACES_scores_2022.keys())\n",
    "metrics_names_2023 = set(ACES_scores_2023.keys())\n",
    "\n",
    "# Load WMT22 metric scores\n",
    "WMT22_scores_path = os.path.join(data_folder, 'WMT22-metric-scores')\n",
    "WMT22_scores = load_WMT_scores(WMT22_scores_path, set(metrics_names_2022).union(set(metrics_names_2023)))\n",
    "\n",
    "# Load WMT23 metric scores\n",
    "WMT23_scores_path = os.path.join(data_folder, 'wmt23metrics-submissions-v2')\n",
    "WMT23_scores = load_WMT_scores_23(WMT23_scores_path, set(metrics_names_2022).union(set(metrics_names_2023)))\n",
    "\n",
    "# calculate sensitivities\n",
    "metrics_names_2022 = list(set(ACES_scores_2022.keys()).intersection(set(WMT22_scores.keys())))\n",
    "sensitivities_2022, _, _, phenomena_2022, means_good_2022, means_bad_2022 = calculate_sensitivities(ACES_scores_2022, WMT22_scores, mapping=PHENOMENA_MAPPING)\n",
    "metrics_names_2023 = list(set(ACES_scores_2023.keys()).intersection(set(WMT23_scores.keys())))\n",
    "sensitivities_2023, _, _, phenomena_2023, means_good_2023, means_bad_2023 = calculate_sensitivities(ACES_scores_2023, WMT23_scores, mapping=PHENOMENA_MAPPING)\n",
    "\n",
    "# load the ACES scores from the paper\n",
    "ACES_summary_2022 = load_ACES_scores_summary_2022()\n",
    "ACES_summary_2023 = load_ACES_scores_summary_2023(skip_metrics=[])"
   ]
  },
  {
   "cell_type": "code",
   "execution_count": 14,
   "id": "917f2dd4",
   "metadata": {},
   "outputs": [
    {
     "name": "stdout",
     "output_type": "stream",
     "text": [
      "COMETKiwi\t\t\t\t\t&\t\\phantom{-}0.196\t&\t\\phantom{-}0.618\t&\t\\phantom{-}0.721\t&\t-0.180\t&\t\\phantom{-}0.285\t&\t\\phantom{-}0.719\t&\t\\phantom{-}0.439\t&\t\\phantom{-}0.316\t&\t-0.767\t&\t\\phantom{-}0.218\t&\t\\phantom{-}13.14\t \\\\ \n",
      "MS-COMET-QE-22\t\t\t\t\t&\t-0.040\t&\t\\phantom{-}0.391\t&\t\\phantom{-}0.258\t&\t\\colorbox[HTML]{B2EAB1}{\\textbf{\\phantom{-}2.730}}\t&\t\\phantom{-}0.126\t&\t\\phantom{-}0.257\t&\t\\phantom{-}0.185\t&\t\\phantom{-}0.095\t&\t-0.654\t&\t\\phantom{-}0.226\t&\t\\phantom{-}7.57\t \\\\ \n",
      "BLEURT-20\t\t\t\t\t&\t\\phantom{-}0.094\t&\t\\phantom{-}0.314\t&\t\\phantom{-}0.177\t&\t\\phantom{-}1.545\t&\t\\phantom{-}0.353\t&\t\\phantom{-}0.126\t&\t-0.002\t&\t\\phantom{-}0.048\t&\t\\colorbox[HTML]{B2EAB1}{\\textbf{\\phantom{-}0.732}}\t&\t\\colorbox[HTML]{B2EAB1}{\\textbf{\\phantom{-}0.281}}\t&\t\\phantom{-}6.25\t \\\\ \n",
      "\\midrule \n",
      "MetricX-23-c\t\t\t\t\t&\t\\phantom{-}0.021\t&\t\\phantom{-}0.413\t&\t\\phantom{-}0.645\t&\t\\phantom{-}0.334\t&\t\\phantom{-}0.399\t&\t\\phantom{-}0.593\t&\t\\phantom{-}0.330\t&\t\\phantom{-}0.766\t&\t-0.728\t&\t\\phantom{-}0.131\t&\t\\phantom{-}10.79\t \\\\ \n",
      "MetricX-23\t\t\t\t\t&\t\\phantom{-}0.001\t&\t\\phantom{-}0.184\t&\t\\phantom{-}0.407\t&\t-0.022\t&\t\\phantom{-}0.363\t&\t\\phantom{-}0.675\t&\t\\phantom{-}0.367\t&\t\\phantom{-}0.491\t&\t-0.618\t&\t\\phantom{-}0.151\t&\t\\phantom{-}8.40\t \\\\ \n",
      "XCOMET-Ensemble\t\t\t\t\t&\t\\phantom{-}0.070\t&\t\\phantom{-}0.342\t&\t\\phantom{-}0.434\t&\t\\phantom{-}0.208\t&\t\\phantom{-}0.249\t&\t\\phantom{-}0.462\t&\t\\phantom{-}0.308\t&\t\\phantom{-}0.358\t&\t-0.713\t&\t\\phantom{-}0.151\t&\t\\phantom{-}8.20\t \\\\ \n",
      "\\midrule \n",
      "GEMBA-MQM\t\t\t\t\t&\t\\colorbox[HTML]{B2EAB1}{\\textbf{\\phantom{-}0.584}}\t&\t\\colorbox[HTML]{B2EAB1}{\\textbf{\\phantom{-}1.132}}\t&\t\\colorbox[HTML]{B2EAB1}{\\textbf{\\phantom{-}1.566}}\t&\t\\phantom{-}2.380\t&\t\\colorbox[HTML]{B2EAB1}{\\textbf{\\phantom{-}0.719}}\t&\t\\colorbox[HTML]{B2EAB1}{\\textbf{\\phantom{-}1.646}}\t&\t\\colorbox[HTML]{B2EAB1}{\\textbf{\\phantom{-}0.976}}\t&\t\\colorbox[HTML]{B2EAB1}{\\textbf{\\phantom{-}1.814}}\t&\t\\phantom{-}0.328\t&\t\\phantom{-}0.226\t&\t\\colorbox[HTML]{B2EAB1}{\\textbf{\\phantom{-}34.78}}\t \\\\ \n",
      "MetricX-23-QE\t\t\t\t\t&\t\\phantom{-}0.001\t&\t\\phantom{-}0.410\t&\t\\phantom{-}0.903\t&\t\\phantom{-}0.100\t&\t\\phantom{-}0.309\t&\t\\phantom{-}0.995\t&\t\\phantom{-}0.660\t&\t\\phantom{-}0.955\t&\t-1.163\t&\t\\phantom{-}0.135\t&\t\\phantom{-}15.06\t \\\\ \n",
      "CometKiwi-XXL\t\t\t\t\t&\t\\phantom{-}0.118\t&\t\\phantom{-}0.519\t&\t\\phantom{-}0.713\t&\t\\phantom{-}2.038\t&\t\\phantom{-}0.197\t&\t\\phantom{-}0.550\t&\t\\phantom{-}0.306\t&\t\\phantom{-}0.611\t&\t-0.733\t&\t\\phantom{-}0.187\t&\t\\phantom{-}13.16\t \\\\ \n",
      "\\midrule \n",
      "Average\t\t\t\t\t&\t\\phantom{-}0.116\t&\t\\phantom{-}0.481\t&\t\\phantom{-}0.647\t&\t\\phantom{-}1.015\t&\t\\phantom{-}0.333\t&\t\\phantom{-}0.669\t&\t\\phantom{-}0.396\t&\t\\phantom{-}0.606\t&\t-0.479\t&\t\\phantom{-}0.190\t\\\\\n"
     ]
    }
   ],
   "source": [
    "COLORS = ['\\colorbox{green1}', '\\colorbox{green2}', '\\colorbox{green3}', '\\colorbox{green4}', '\\colorbox{green5}', '\\colorbox{white}', '\\colorbox{red1}', '\\colorbox{red2}', '\\colorbox{red3}', '\\colorbox{red4}', '\\colorbox{red5}']\n",
    "COLORS = ['\\colorbox{green1}', '\\colorbox{green2}', '\\colorbox{green4}', '\\colorbox{green5}', '\\colorbox{white}', '\\colorbox{red1}', '\\colorbox{red2}', '\\colorbox{red4}', '\\colorbox{red5}']\n",
    "\n",
    "# From the ACES 2022 Paper:\n",
    "METRICS_GROUPING_SHORT_2022 = {\"baseline\": [\"BLEURT-20\", \"COMET-20\", \"YISI-1\"],\n",
    "                        \"reference-based\": [\"metricx_xl_DA_2019\", 'metricx_xl_MQM_2020', \"metricx_xxl_MQM_2020\"],\n",
    "                        \"reference-free\": [\"COMETKiwi\", 'Cross-QE', \"UniTE-src\"]\n",
    "                    }\n",
    "METRICS_GROUPING_SHORT_2023 = {\"baseline\": [\"COMETKiwi\", \"MS-COMET-QE-22\", \"BLEURT-20\"],\n",
    "                        \"reference-based\": [\"MetricX-23-c\", 'MetricX-23', \"XCOMET-Ensemble\"],\n",
    "                        \"reference-free\": [\"GEMBA-MQM\", 'MetricX-23-QE', \"CometKiwi-XXL\"]\n",
    "                    }\n",
    "\n",
    "phenomena = ['omission', 'mistranslation', 'untranslated', 'real-world knowledge', 'wrong language']\n",
    "# phenomena = [\"hallucination-number-level-1\", \"hallucination-number-level-2\", \"hallucination-number-level-3\"]\n",
    "\n",
    "# print(make_header(scores=ACES_scores_2022, ACES_column=True, p_header_1=PHENOMENA_HEADER_1, p_header_2=PHENOMENA_HEADER_2))\n",
    "print(generate_summary_table(sensitivities_2023, metrics_groups=METRICS_GROUPING_SHORT_2023, phenomena=PHENOMENA, ACES_column=True, global_colors=False))\n",
    "# print(make_footer(averages=SUMMARY_AVERAGES_2023, phenomena=PHENOMENA))"
   ]
  },
  {
   "cell_type": "markdown",
   "id": "b8dfcd1b",
   "metadata": {},
   "source": [
    "# Table for Mistranslation Groups -dicourse, hallucinations, other"
   ]
  },
  {
   "cell_type": "code",
   "execution_count": 3,
   "id": "b7b6f99b",
   "metadata": {},
   "outputs": [],
   "source": [
    "PHENOMENA_MAPPING_MISTRANSLATION = {\n",
    "    'ambiguous-translation-wrong-discourse-connective-since-causal': 'discourse',\n",
    "    'ambiguous-translation-wrong-discourse-connective-since-temporal': 'discourse',\n",
    "    'ambiguous-translation-wrong-discourse-connective-while-contrast': 'discourse',\n",
    "    'ambiguous-translation-wrong-discourse-connective-while-temporal': 'discourse',\n",
    "    'ambiguous-translation-wrong-gender-female-anti': 'other',\n",
    "    'ambiguous-translation-wrong-gender-female-pro': 'other',\n",
    "    'ambiguous-translation-wrong-gender-male-anti': 'other',\n",
    "    'ambiguous-translation-wrong-gender-male-pro': 'other',\n",
    "    # 'ambiguous-translation-wrong-sense-frequent': 'other',\n",
    "    # 'ambiguous-translation-wrong-sense-infrequent': 'other',\n",
    "    'anaphoric_group_it-they:deletion': 'discourse',\n",
    "    'anaphoric_group_it-they:substitution': 'discourse',\n",
    "    'anaphoric_intra_non-subject_it:deletion': 'discourse',\n",
    "    'anaphoric_intra_non-subject_it:substitution': 'discourse',\n",
    "    'anaphoric_intra_subject_it:deletion': 'discourse',\n",
    "    'anaphoric_intra_subject_it:substitution': 'discourse',\n",
    "    'anaphoric_intra_they:deletion': 'discourse',\n",
    "    'anaphoric_intra_they:substitution': 'discourse',\n",
    "    'anaphoric_singular_they:deletion': 'discourse',\n",
    "    'anaphoric_singular_they:substitution': 'discourse',\n",
    "    'coreference-based-on-commonsense': 'discourse',\n",
    "    'hallucination-date-time': 'hallucination',\n",
    "    'hallucination-named-entity-level-1': 'hallucination',\n",
    "    'hallucination-named-entity-level-2': 'hallucination',\n",
    "    'hallucination-named-entity-level-3': 'hallucination',\n",
    "    'hallucination-number-level-1': 'hallucination',\n",
    "    'hallucination-number-level-2': 'hallucination',\n",
    "    'hallucination-number-level-3': 'hallucination',\n",
    "    'hallucination-real-data-vs-ref-word': 'hallucination',\n",
    "    'hallucination-real-data-vs-synonym': 'hallucination',\n",
    "    'hallucination-unit-conversion-amount-matches-ref': 'hallucination',\n",
    "    'hallucination-unit-conversion-unit-matches-ref': 'hallucination',\n",
    "    'lexical-overlap': 'other',\n",
    "    'modal_verb:deletion': 'other',\n",
    "    'modal_verb:substitution': 'other',\n",
    "    'nonsense': 'hallucination',\n",
    "    'ordering-mismatch': 'other',\n",
    "    'overly-literal-vs-correct-idiom': 'other',\n",
    "    'overly-literal-vs-explanation': 'other',\n",
    "    'overly-literal-vs-ref-word': 'other',\n",
    "    'overly-literal-vs-synonym': 'other',\n",
    "    'pleonastic_it:deletion': 'discourse',\n",
    "    'pleonastic_it:substitution': 'discourse',\n",
    "    'xnli-addition-contradiction': 'other',\n",
    "    'xnli-addition-neutral': 'other',\n",
    "    'xnli-omission-contradiction': 'other',\n",
    "    'xnli-omission-neutral': 'other'\n",
    "}"
   ]
  },
  {
   "cell_type": "code",
   "execution_count": 4,
   "id": "abb96f5b",
   "metadata": {},
   "outputs": [],
   "source": [
    "metrics_names_2022 = list(set(ACES_scores_2022.keys()).intersection(set(WMT22_scores.keys())))\n",
    "sensitivities_2022_mistranslation, _, _, phenomena_2022_mistranslation, _, _ = calculate_sensitivities(ACES_scores_2022, WMT22_scores, mapping=PHENOMENA_MAPPING_MISTRANSLATION)\n",
    "ACES_scores_2022_mistranslation = map_to_higher(ACES_scores_2022, PHENOMENA_MAPPING_MISTRANSLATION)\n",
    "ACES_summary_2022_mistranslation, phenomena_mistranslation = calculate_tau_correlations(ACES_scores_2022_mistranslation, phenomena=set(PHENOMENA_MAPPING_MISTRANSLATION.values()))\n",
    "# ACES_summary_2022_mistranslation = "
   ]
  },
  {
   "cell_type": "code",
   "execution_count": 6,
   "id": "2a9f5260",
   "metadata": {},
   "outputs": [
    {
     "name": "stdout",
     "output_type": "stream",
     "text": [
      "\\begin{table*}[ht] \n",
      " \\small \n",
      " \\setlength{\\tabcolsep}{3.75pt} \n",
      " \\centering \n",
      " \\begin{tabular}{@{}lccccccccccc@{}} \n",
      " \\\\\\toprule \n",
      " & \\textbf{disco.} & \\textbf{halluci.} & \\textbf{other} \\\\\n",
      " &  &  & \\\\\n",
      "\\midrule\n",
      "\\textit{\\textbf{Examples}}  & \\textit{3623} & \\textit{9634} & \\textit{9273}\\\\ \n",
      " \\midrule\n",
      "BLEU\t\t\t\t\t&\t-0.057\t&\t-0.561\t&\t\\phantom{-}0.414\t\t \\\\ \n",
      "f101spBLEU\t\t\t\t\t&\t-0.042\t&\t-0.373\t&\t\\phantom{-}0.231\t\t \\\\ \n",
      "f200spBLEU\t\t\t\t\t&\t-0.042\t&\t-0.364\t&\t\\phantom{-}0.221\t\t \\\\ \n",
      "chrF\t\t\t\t\t&\t-0.016\t&\t-0.356\t&\t\\phantom{-}0.198\t\t \\\\ \n",
      "BERTScore\t\t\t\t\t&\t\\phantom{-}0.011\t&\t-0.216\t&\t\\phantom{-}0.176\t\t \\\\ \n",
      "BLEURT-20\t\t\t\t\t&\t\\phantom{-}0.154\t&\t-0.080\t&\t\\phantom{-}0.508\t\t \\\\ \n",
      "COMET-20\t\t\t\t\t&\t\\phantom{-}0.130\t&\t-0.096\t&\t\\phantom{-}0.686\t\t \\\\ \n",
      "COMET-QE\t\t\t\t\t&\t\\phantom{-}0.134\t&\t\\phantom{-}0.102\t&\t\\phantom{-}0.015\t\t \\\\ \n",
      "YISI-1\t\t\t\t\t&\t-0.042\t&\t-0.187\t&\t\\phantom{-}0.392\t\t \\\\ \n",
      "\\midrule \n",
      "COMET-22\t\t\t\t\t&\t\\phantom{-}0.296\t&\t\\phantom{-}0.163\t&\t\\phantom{-}0.424\t\t \\\\ \n",
      "metricx\\_xl\\_DA\\_2019\t\t\t\t\t&\t\\phantom{-}0.259\t&\t\\phantom{-}0.401\t&\t\\phantom{-}0.687\t\t \\\\ \n",
      "metricx\\_xl\\_MQM\\_2020\t\t\t\t\t&\t\\phantom{-}0.436\t&\t\\colorbox[HTML]{B2EAB1}{\\textbf{\\phantom{-}0.953}}\t&\t\\phantom{-}0.421\t\t \\\\ \n",
      "metricx\\_xxl\\_DA\\_2019\t\t\t\t\t&\t\\phantom{-}0.275\t&\t\\phantom{-}0.462\t&\t\\phantom{-}0.706\t\t \\\\ \n",
      "metricx\\_xxl\\_MQM\\_2020\t\t\t\t\t&\t\\colorbox[HTML]{B2EAB1}{\\textbf{\\phantom{-}0.446}}\t&\t\\phantom{-}0.812\t&\t\\phantom{-}0.319\t\t \\\\ \n",
      "MS-COMET-22\t\t\t\t\t&\t\\phantom{-}0.139\t&\t\\phantom{-}0.025\t&\t\\phantom{-}0.242\t\t \\\\ \n",
      "UniTE\t\t\t\t\t&\t\\phantom{-}0.146\t&\t\\phantom{-}0.125\t&\t\\phantom{-}0.593\t\t \\\\ \n",
      "UniTE-ref\t\t\t\t\t&\t\\phantom{-}0.165\t&\t\\phantom{-}0.156\t&\t\\phantom{-}0.513\t\t \\\\ \n",
      "\\midrule \n",
      "COMETKiwi\t\t\t\t\t&\t\\phantom{-}0.358\t&\t\\phantom{-}0.262\t&\t\\phantom{-}1.032\t\t \\\\ \n",
      "Cross-QE\t\t\t\t\t&\t\\phantom{-}0.223\t&\t\\phantom{-}0.216\t&\t\\colorbox[HTML]{B2EAB1}{\\textbf{\\phantom{-}1.145}}\t\t \\\\ \n",
      "HWTSC-Teacher-Sim\t\t\t\t\t&\t\\phantom{-}0.085\t&\t\\phantom{-}0.115\t&\t\\phantom{-}0.245\t\t \\\\ \n",
      "HWTSC-TLM\t\t\t\t\t&\t\\phantom{-}0.146\t&\t\\phantom{-}0.204\t&\t\\phantom{-}0.024\t\t \\\\ \n",
      "KG-BERTScore\t\t\t\t\t&\t\\phantom{-}0.105\t&\t\\phantom{-}0.189\t&\t\\phantom{-}0.803\t\t \\\\ \n",
      "MS-COMET-QE-22\t\t\t\t\t&\t\\phantom{-}0.189\t&\t\\phantom{-}0.118\t&\t\\phantom{-}0.394\t\t \\\\ \n",
      "UniTE-src\t\t\t\t\t&\t\\phantom{-}0.203\t&\t\\phantom{-}0.267\t&\t\\phantom{-}0.818\t\t \\\\ \n",
      "\\midrule \n",
      "Average\t\t\t\t\t&\t\\phantom{-}0.154\t&\t\\phantom{-}0.097\t&\t\\phantom{-}0.467\t\\\\\n"
     ]
    }
   ],
   "source": [
    "COLORS = ['\\colorbox{green1}', '\\colorbox{green2}', '\\colorbox{green3}', '\\colorbox{green4}', '\\colorbox{green5}', '\\colorbox{white}', '\\colorbox{red1}', '\\colorbox{red2}', '\\colorbox{red3}', '\\colorbox{red4}', '\\colorbox{red5}']\n",
    "COLORS = ['\\colorbox{green1}', '\\colorbox{green2}', '\\colorbox{green4}', '\\colorbox{green5}', '\\colorbox{white}', '\\colorbox{red1}', '\\colorbox{red2}', '\\colorbox{red4}', '\\colorbox{red5}']\n",
    "\n",
    "# From the ACES 2022 Paper:\n",
    "METRICS_GROUPING_SHORT_2022 = {\"baseline\": [\"BLEU\", \"COMET-20\", \"COMET-QE\"],\n",
    "                        \"reference-based\": [\"COMET-22\", 'metricx_xl_MQM_2020', \"UniTE\", \"UniTE-ref\"],\n",
    "                        \"reference-free\": [\"COMETKiwi\", 'KG-BERTScore', \"UniTE-src\"]\n",
    "                    }\n",
    "METRICS_GROUPING_SHORT_2023 = {\"baseline\": [\"BLEU\", \"BERTScore\", \"BLEURT-20\", \"YISI-1\"],\n",
    "                        \"reference-based\": [\"COMET-22\", 'metricx_xl_MQM_2020', \"UniTE\", \"UniTE-ref\"],\n",
    "                        \"reference-free\": [\"COMETKiwi\", 'KG-BERTScore', \"UniTE-src\"]\n",
    "                    }\n",
    "\n",
    "phenomena = ['untranslated', 'real-world knowledge', 'wrong language']\n",
    "phenomena = [\"discourse\", \"hallucination\", \"other\"]\n",
    "\n",
    "PHENOMENA_HEADER_1_MISTRANSLATION = dict(zip(phenomena, ['\\\\textbf{disco.}', '\\\\textbf{halluci.}', '\\\\textbf{other}']))\n",
    "PHENOMENA_HEADER_2_MISTRANSLATION = dict(zip(phenomena, ['', '',  '']))\n",
    "\n",
    "NUM_SAMPLES_MISTRANSLATION = {p:0 for p in phenomena}\n",
    "for p,target in PHENOMENA_MAPPING_MISTRANSLATION.items():\n",
    "    NUM_SAMPLES_MISTRANSLATION[target] += len(ACES_scores_2022[\"BLEU\"][p][0])\n",
    "\n",
    "print(make_header(phenomena=phenomena, scores=ACES_summary_2022_mistranslation, ACES_column=False, p_header_1=PHENOMENA_HEADER_1_MISTRANSLATION, p_header_2=PHENOMENA_HEADER_2_MISTRANSLATION, num_samples=NUM_SAMPLES_MISTRANSLATION))\n",
    "print(generate_summary_table(sensitivities_2022_mistranslation, metrics_groups=METRICS_GROUPING_2022, phenomena=phenomena, ACES_column=False, global_colors=False))\n",
    "# print(make_footer(averages=SUMMARY_AVERAGES_2023, phenomena=PHENOMENA))"
   ]
  },
  {
   "cell_type": "markdown",
   "id": "c90b0bf6",
   "metadata": {},
   "source": [
    "# Hallucination -Numbers double table"
   ]
  },
  {
   "cell_type": "code",
   "execution_count": 14,
   "id": "81bf636f",
   "metadata": {},
   "outputs": [],
   "source": [
    "PHENOMENA_MAPPING_NUMBERS = {\n",
    "    'hallucination-number-level-1': 'hallucination-number-level-1',\n",
    "    'hallucination-number-level-2': 'hallucination-number-level-2',\n",
    "    'hallucination-number-level-3': 'hallucination-number-level-3'\n",
    "}\n",
    "metrics_names_2022 = list(set(ACES_scores_2022.keys()).intersection(set(WMT_scores.keys())))\n",
    "sensitivities_2022_numbers, _, _, phenomena_2022_numbers, _, _ = calculate_sensitivities(ACES_scores_2022, WMT_scores, mapping=PHENOMENA_MAPPING_NUMBERS)\n",
    "ACES_summary_2022_numbers, phenomena_numbers = calculate_tau_correlations(ACES_scores_2022, phenomena=PHENOMENA_MAPPING_NUMBERS.values())\n"
   ]
  },
  {
   "cell_type": "code",
   "execution_count": 10,
   "id": "a55dae08",
   "metadata": {},
   "outputs": [
    {
     "name": "stdout",
     "output_type": "stream",
     "text": [
      "BLEU\t\t\t\t\t&\t\\phantom{-}0.142\t&\t-0.497\t&\t-0.187\t&\t-0.057\t&\t-0.561\t&\t\\phantom{-}0.414\t\t \\\\ \n",
      "f101spBLEU\t\t\t\t\t&\t\\phantom{-}0.175\t&\t-0.312\t&\t-0.206\t&\t-0.042\t&\t-0.373\t&\t\\phantom{-}0.231\t\t \\\\ \n",
      "f200spBLEU\t\t\t\t\t&\t\\phantom{-}0.153\t&\t-0.296\t&\t-0.205\t&\t-0.042\t&\t-0.364\t&\t\\phantom{-}0.221\t\t \\\\ \n",
      "chrF\t\t\t\t\t&\t\\phantom{-}0.372\t&\t-0.266\t&\t\\phantom{-}0.210\t&\t-0.016\t&\t-0.356\t&\t\\phantom{-}0.198\t\t \\\\ \n",
      "BERTScore\t\t\t\t\t&\t\\phantom{-}0.517\t&\t-0.176\t&\t\\phantom{-}0.362\t&\t\\phantom{-}0.011\t&\t-0.216\t&\t\\phantom{-}0.176\t\t \\\\ \n",
      "BLEURT-20\t\t\t\t\t&\t\\phantom{-}0.589\t&\t\\phantom{-}0.032\t&\t\\phantom{-}0.391\t&\t\\phantom{-}0.154\t&\t-0.080\t&\t\\phantom{-}0.508\t\t \\\\ \n",
      "COMET-20\t\t\t\t\t&\t\\phantom{-}0.545\t&\t-0.081\t&\t\\phantom{-}0.426\t&\t\\phantom{-}0.130\t&\t-0.096\t&\t\\phantom{-}0.686\t\t \\\\ \n",
      "COMET-QE\t\t\t\t\t&\t\\phantom{-}0.590\t&\t\\phantom{-}0.301\t&\t\\phantom{-}0.041\t&\t\\phantom{-}0.134\t&\t\\phantom{-}0.102\t&\t\\phantom{-}0.015\t\t \\\\ \n",
      "YISI-1\t\t\t\t\t&\t\\phantom{-}0.500\t&\t-0.089\t&\t\\phantom{-}0.341\t&\t-0.042\t&\t-0.187\t&\t\\phantom{-}0.392\t\t \\\\ \n",
      "\\midrule \n",
      "COMET-22\t\t\t\t\t&\t\\phantom{-}0.662\t&\t\\phantom{-}0.417\t&\t\\phantom{-}0.560\t&\t\\phantom{-}0.296\t&\t\\phantom{-}0.163\t&\t\\phantom{-}0.424\t\t \\\\ \n",
      "metricx\\_xl\\_DA\\_2019\t\t\t\t\t&\t\\phantom{-}0.680\t&\t\\phantom{-}0.431\t&\t\\phantom{-}0.417\t&\t\\phantom{-}0.259\t&\t\\phantom{-}0.401\t&\t\\phantom{-}0.687\t\t \\\\ \n",
      "metricx\\_xl\\_MQM\\_2020\t\t\t\t\t&\t\\phantom{-}0.652\t&\t\\phantom{-}0.654\t&\t\\phantom{-}0.318\t&\t\\phantom{-}0.436\t&\t\\colorbox[HTML]{B2EAB1}{\\textbf{\\phantom{-}0.953}}\t&\t\\phantom{-}0.421\t\t \\\\ \n",
      "metricx\\_xxl\\_DA\\_2019\t\t\t\t\t&\t\\phantom{-}0.711\t&\t\\phantom{-}0.487\t&\t\\phantom{-}0.440\t&\t\\phantom{-}0.275\t&\t\\phantom{-}0.462\t&\t\\phantom{-}0.706\t\t \\\\ \n",
      "metricx\\_xxl\\_MQM\\_2020\t\t\t\t\t&\t\\phantom{-}0.701\t&\t\\colorbox[HTML]{B2EAB1}{\\textbf{\\phantom{-}0.692}}\t&\t\\phantom{-}0.318\t&\t\\colorbox[HTML]{B2EAB1}{\\textbf{\\phantom{-}0.446}}\t&\t\\phantom{-}0.812\t&\t\\phantom{-}0.319\t\t \\\\ \n",
      "MS-COMET-22\t\t\t\t\t&\t\\phantom{-}0.559\t&\t\\phantom{-}0.101\t&\t\\phantom{-}0.389\t&\t\\phantom{-}0.139\t&\t\\phantom{-}0.025\t&\t\\phantom{-}0.242\t\t \\\\ \n",
      "UniTE\t\t\t\t\t&\t\\phantom{-}0.703\t&\t\\phantom{-}0.253\t&\t\\phantom{-}0.450\t&\t\\phantom{-}0.146\t&\t\\phantom{-}0.125\t&\t\\phantom{-}0.593\t\t \\\\ \n",
      "UniTE-ref\t\t\t\t\t&\t\\phantom{-}0.734\t&\t\\phantom{-}0.337\t&\t\\phantom{-}0.431\t&\t\\phantom{-}0.165\t&\t\\phantom{-}0.156\t&\t\\phantom{-}0.513\t\t \\\\ \n",
      "\\midrule \n",
      "COMETKiwi\t\t\t\t\t&\t\\phantom{-}0.709\t&\t\\phantom{-}0.491\t&\t\\colorbox[HTML]{B2EAB1}{\\textbf{\\phantom{-}0.842}}\t&\t\\phantom{-}0.358\t&\t\\phantom{-}0.262\t&\t\\phantom{-}1.032\t\t \\\\ \n",
      "Cross-QE\t\t\t\t\t&\t\\phantom{-}0.653\t&\t\\phantom{-}0.399\t&\t\\phantom{-}0.679\t&\t\\phantom{-}0.223\t&\t\\phantom{-}0.216\t&\t\\colorbox[HTML]{B2EAB1}{\\textbf{\\phantom{-}1.145}}\t\t \\\\ \n",
      "HWTSC-Teacher-Sim\t\t\t\t\t&\t\\phantom{-}0.590\t&\t\\phantom{-}0.360\t&\t\\phantom{-}0.421\t&\t\\phantom{-}0.085\t&\t\\phantom{-}0.115\t&\t\\phantom{-}0.245\t\t \\\\ \n",
      "HWTSC-TLM\t\t\t\t\t&\t\\phantom{-}0.702\t&\t\\phantom{-}0.386\t&\t\\phantom{-}0.040\t&\t\\phantom{-}0.146\t&\t\\phantom{-}0.204\t&\t\\phantom{-}0.024\t\t \\\\ \n",
      "KG-BERTScore\t\t\t\t\t&\t\\phantom{-}0.617\t&\t\\phantom{-}0.406\t&\t\\phantom{-}0.696\t&\t\\phantom{-}0.105\t&\t\\phantom{-}0.189\t&\t\\phantom{-}0.803\t\t \\\\ \n",
      "MS-COMET-QE-22\t\t\t\t\t&\t\\phantom{-}0.607\t&\t\\phantom{-}0.245\t&\t\\phantom{-}0.505\t&\t\\phantom{-}0.189\t&\t\\phantom{-}0.118\t&\t\\phantom{-}0.394\t\t \\\\ \n",
      "UniTE-src\t\t\t\t\t&\t\\colorbox[HTML]{B2EAB1}{\\textbf{\\phantom{-}0.757}}\t&\t\\phantom{-}0.483\t&\t\\phantom{-}0.765\t&\t\\phantom{-}0.203\t&\t\\phantom{-}0.267\t&\t\\phantom{-}0.818\t\t \\\\ \n",
      "\\midrule \n",
      "Average\t\t\t\t\t&\t\\phantom{-}0.568\t&\t\\phantom{-}0.154\t&\t\\phantom{-}0.198\t&\t\\phantom{-}0.097\t&\t\\phantom{-}0.352\t&\t\\phantom{-}0.467\t\\\\\n"
     ]
    }
   ],
   "source": [
    "COLORS = ['\\colorbox{green1}', '\\colorbox{green2}', '\\colorbox{green3}', '\\colorbox{green4}', '\\colorbox{green5}', '\\colorbox{white}', '\\colorbox{red1}', '\\colorbox{red2}', '\\colorbox{red3}', '\\colorbox{red4}', '\\colorbox{red5}']\n",
    "COLORS = ['\\colorbox{green1}', '\\colorbox{green2}', '\\colorbox{green4}', '\\colorbox{green5}', '\\colorbox{white}', '\\colorbox{red1}', '\\colorbox{red2}', '\\colorbox{red4}', '\\colorbox{red5}']\n",
    "\n",
    "# From the ACES 2022 Paper:\n",
    "METRICS_GROUPING_SHORT_2022 = {\"baseline\": [\"BLEU\", \"COMET-20\", \"COMET-QE\"],\n",
    "                        \"reference-based\": [\"COMET-22\", 'metricx_xl_MQM_2020', \"UniTE\", \"UniTE-ref\"],\n",
    "                        \"reference-free\": [\"COMETKiwi\", 'KG-BERTScore', \"UniTE-src\"]\n",
    "                    }\n",
    "METRICS_GROUPING_SHORT_2023 = {\"baseline\": [\"BLEU\", \"BERTScore\", \"BLEURT-20\", \"YISI-1\"],\n",
    "                        \"reference-based\": [\"COMET-22\", 'metricx_xl_MQM_2020', \"UniTE\", \"UniTE-ref\"],\n",
    "                        \"reference-free\": [\"COMETKiwi\", 'KG-BERTScore', \"UniTE-src\"]\n",
    "                    }\n",
    "\n",
    "phenomena = ['untranslated', 'real-world knowledge', 'wrong language']\n",
    "phenomena = [\"hallucination-number-level-1\", \"hallucination-number-level-2\", \"hallucination-number-level-3\"]\n",
    "phenomena = [\"discourse\", \"hallucination\", \"other\"]\n",
    "\n",
    "PHENOMENA_HEADER_1_NUMBERS = dict(zip(phenomena, ['\\\\textbf{Level 1}', '\\\\textbf{Level 2}', '\\\\textbf{Level 3}']))\n",
    "PHENOMENA_HEADER_2_NUMBERS = dict(zip(phenomena, ['', '',  '']))\n",
    "\n",
    "# NUM_SAMPLES_NUMBERS = {p:len(ACES_scores_2022[\"BLEU\"][p][0]) for p in phenomena}\n",
    "\n",
    "# print(make_header(phenomena=phenomena, ACES_column=False, p_header_1=PHENOMENA_HEADER_1_NUMBERS, p_header_2=PHENOMENA_HEADER_2_NUMBERS, num_samples=NUM_SAMPLES_NUMBERS))\n",
    "print(generate_summary_table_double(ACES_summary_2022_mistranslation, sensitivities_2022_mistranslation, metrics_groups=METRICS_GROUPING_2022, phenomena=phenomena, ACES_column=False, global_colors=False))\n",
    "# print(make_footer(averages=SUMMARY_AVERAGES_2023, phenomena=PHENOMENA))"
   ]
  },
  {
   "cell_type": "markdown",
   "id": "57fc3a5c",
   "metadata": {},
   "source": [
    "# Functions to Normalize summary scores and sensitivity scores to 0-1, then calculate the difference\n",
    "In process"
   ]
  },
  {
   "cell_type": "code",
   "execution_count": 71,
   "id": "5c3ce854",
   "metadata": {},
   "outputs": [],
   "source": [
    "def scale_to_max_one(scores:Dict[str, Dict[str, Dict[str, int]]]):\n",
    "    out = copy.deepcopy(scores)\n",
    "    max = np.max([np.max(list(p.values())) for p in scores.values()])\n",
    "    min = np.min([np.min(list(p.values())) for p in scores.values()])\n",
    "    for m in out:\n",
    "        for p in out[m]:\n",
    "            out[m][p] = (out[m][p] - min) / (max - min)\n",
    "    return out\n",
    "\n",
    "def scale_to_one(scores:Dict[str, Dict[str, Dict[str, int]]]):\n",
    "    out = copy.deepcopy(scores)\n",
    "    sum = 0.0\n",
    "    for p in scores.values():\n",
    "        sum += np.sum(list(p.values()))\n",
    "    for m in out:\n",
    "        for p in out[m]:\n",
    "            out[m][p] /= sum\n",
    "    return out\n",
    "\n",
    "def diff(scores1, scores2):\n",
    "    scores_out = {}\n",
    "    for metric in scores1:\n",
    "        if metric in METRIC_NAMES_MAPPING:\n",
    "            metric = METRIC_NAMES_MAPPING[metric]\n",
    "        if metric in scores2:\n",
    "            metric2 = metric\n",
    "            scores_out[metric] = {p:scores2[metric2][p]-scores1[metric][p] for p in scores1[metric] if p in scores2[metric]} \n",
    "        elif metric in METRIC_MAPPING_BACK:\n",
    "            metric2 = METRIC_MAPPING_BACK[metric]\n",
    "            scores_out[metric] = {p:scores2[metric2][p]-scores1[metric][p] for p in scores1[metric] if p in scores2[metric]} \n",
    "        else:\n",
    "            print(metric)\n",
    "        \n",
    "    return scores_out"
   ]
  },
  {
   "cell_type": "markdown",
   "id": "06fd4eaf",
   "metadata": {},
   "source": [
    "# Plots"
   ]
  },
  {
   "cell_type": "code",
   "execution_count": 26,
   "id": "0c0ff544",
   "metadata": {},
   "outputs": [],
   "source": [
    "# create groups here:\n",
    "means = {metric:[sensitivities_2022[metric][p] for p in PHENOMENA] for metric in metrics_names_2022}\n",
    "tau = {metric:[ACES_summary_2022[metric][p] for p in PHENOMENA] for metric in metrics_names_2022 if metric in ACES_summary_2022}"
   ]
  },
  {
   "cell_type": "code",
   "execution_count": 21,
   "id": "1779554d",
   "metadata": {},
   "outputs": [],
   "source": [
    "# Group the metrics:\n",
    "bleus = [\"BLEU\", \"f101spBLEU\", \"f200spBLEU\"]\n",
    "comets = [\"COMET-20\", \"COMET-22\", \"MS-COMET-22\", \"MS-COMET-QE-22\"]\n",
    "xl = [\"metricx_xl_DA_2019\", \"metricx_xl_MQM_2020\", \"metricx_xxl_DA_2019\", \"metricx_xxl_MQM_2020\"]\n",
    "unite = [\"UniTE\", \"UniTE-src\", \"UniTE-ref\"]"
   ]
  },
  {
   "cell_type": "code",
   "execution_count": 28,
   "id": "ca277ffc",
   "metadata": {},
   "outputs": [
    {
     "data": {
      "application/vnd.plotly.v1+json": {
       "config": {
        "plotlyServerURL": "https://plot.ly"
       },
       "data": [
        {
         "line": {
          "color": "lightsteelblue"
         },
         "mode": "lines",
         "name": "Mean(good-bad) - BLEU",
         "type": "scatter",
         "x": [
          "addition",
          "omission",
          "mistranslation",
          "untranslated",
          "do not translate",
          "overtranslation",
          "undertranslation",
          "real-world knowledge",
          "wrong language",
          "punctuation"
         ],
         "y": [
          0.2148287208357031,
          0.2547030756159054,
          -0.08824611291143918,
          1.1936012111929082,
          0.25324141756487745,
          -1.099805470474964,
          -1.1013204692761616,
          -0.3062169882384918,
          0.650622573355296,
          0.34640999424957986
         ]
        },
        {
         "line": {
          "color": "aqua"
         },
         "mode": "lines",
         "name": "Mean(good-bad) - f101spBLEU",
         "type": "scatter",
         "x": [
          "addition",
          "omission",
          "mistranslation",
          "untranslated",
          "do not translate",
          "overtranslation",
          "undertranslation",
          "real-world knowledge",
          "wrong language",
          "punctuation"
         ],
         "y": [
          0.13151156220901616,
          0.1863532850365928,
          -0.0770431248090204,
          0.8976180911201121,
          0.31322648852962093,
          -0.5682955103975651,
          -0.6106474620460811,
          -0.16694896017579922,
          0.49766527107268943,
          0.20342198914362314
         ]
        },
        {
         "line": {
          "color": "aquamarine"
         },
         "mode": "lines",
         "name": "Mean(good-bad) - f200spBLEU",
         "type": "scatter",
         "x": [
          "addition",
          "omission",
          "mistranslation",
          "untranslated",
          "do not translate",
          "overtranslation",
          "undertranslation",
          "real-world knowledge",
          "wrong language",
          "punctuation"
         ],
         "y": [
          0.12581225313618488,
          0.18170729852854106,
          -0.07728893460685092,
          0.8810556975739291,
          0.32105350563551555,
          -0.5326243110635183,
          -0.5547589251683395,
          -0.16597207427446717,
          0.4896448112722411,
          0.1850044698107335
         ]
        },
        {
         "line": {
          "color": "chocolate"
         },
         "mode": "lines",
         "name": "tau - BLEU",
         "type": "scatter",
         "x": [
          "addition",
          "omission",
          "mistranslation",
          "untranslated",
          "do not translate",
          "overtranslation",
          "undertranslation",
          "real-world knowledge",
          "wrong language",
          "punctuation"
         ],
         "y": [
          0.748,
          0.435,
          -0.229,
          0.353,
          0.6,
          -0.838,
          -0.856,
          -0.768,
          0.661,
          0.638
         ]
        },
        {
         "line": {
          "color": "coral"
         },
         "mode": "lines",
         "name": "tau - f101spBLEU",
         "type": "scatter",
         "x": [
          "addition",
          "omission",
          "mistranslation",
          "untranslated",
          "do not translate",
          "overtranslation",
          "undertranslation",
          "real-world knowledge",
          "wrong language",
          "punctuation"
         ],
         "y": [
          0.662,
          0.59,
          -0.084,
          0.66,
          0.94,
          -0.738,
          -0.826,
          -0.405,
          0.638,
          0.639
         ]
        },
        {
         "line": {
          "color": "crimson"
         },
         "mode": "lines",
         "name": "tau - f200spBLEU",
         "type": "scatter",
         "x": [
          "addition",
          "omission",
          "mistranslation",
          "untranslated",
          "do not translate",
          "overtranslation",
          "undertranslation",
          "real-world knowledge",
          "wrong language",
          "punctuation"
         ],
         "y": [
          0.664,
          0.59,
          -0.082,
          0.687,
          0.92,
          -0.752,
          -0.794,
          -0.394,
          0.658,
          0.648
         ]
        }
       ],
       "layout": {
        "template": {
         "data": {
          "bar": [
           {
            "error_x": {
             "color": "#2a3f5f"
            },
            "error_y": {
             "color": "#2a3f5f"
            },
            "marker": {
             "line": {
              "color": "#E5ECF6",
              "width": 0.5
             },
             "pattern": {
              "fillmode": "overlay",
              "size": 10,
              "solidity": 0.2
             }
            },
            "type": "bar"
           }
          ],
          "barpolar": [
           {
            "marker": {
             "line": {
              "color": "#E5ECF6",
              "width": 0.5
             },
             "pattern": {
              "fillmode": "overlay",
              "size": 10,
              "solidity": 0.2
             }
            },
            "type": "barpolar"
           }
          ],
          "carpet": [
           {
            "aaxis": {
             "endlinecolor": "#2a3f5f",
             "gridcolor": "white",
             "linecolor": "white",
             "minorgridcolor": "white",
             "startlinecolor": "#2a3f5f"
            },
            "baxis": {
             "endlinecolor": "#2a3f5f",
             "gridcolor": "white",
             "linecolor": "white",
             "minorgridcolor": "white",
             "startlinecolor": "#2a3f5f"
            },
            "type": "carpet"
           }
          ],
          "choropleth": [
           {
            "colorbar": {
             "outlinewidth": 0,
             "ticks": ""
            },
            "type": "choropleth"
           }
          ],
          "contour": [
           {
            "colorbar": {
             "outlinewidth": 0,
             "ticks": ""
            },
            "colorscale": [
             [
              0,
              "#0d0887"
             ],
             [
              0.1111111111111111,
              "#46039f"
             ],
             [
              0.2222222222222222,
              "#7201a8"
             ],
             [
              0.3333333333333333,
              "#9c179e"
             ],
             [
              0.4444444444444444,
              "#bd3786"
             ],
             [
              0.5555555555555556,
              "#d8576b"
             ],
             [
              0.6666666666666666,
              "#ed7953"
             ],
             [
              0.7777777777777778,
              "#fb9f3a"
             ],
             [
              0.8888888888888888,
              "#fdca26"
             ],
             [
              1,
              "#f0f921"
             ]
            ],
            "type": "contour"
           }
          ],
          "contourcarpet": [
           {
            "colorbar": {
             "outlinewidth": 0,
             "ticks": ""
            },
            "type": "contourcarpet"
           }
          ],
          "heatmap": [
           {
            "colorbar": {
             "outlinewidth": 0,
             "ticks": ""
            },
            "colorscale": [
             [
              0,
              "#0d0887"
             ],
             [
              0.1111111111111111,
              "#46039f"
             ],
             [
              0.2222222222222222,
              "#7201a8"
             ],
             [
              0.3333333333333333,
              "#9c179e"
             ],
             [
              0.4444444444444444,
              "#bd3786"
             ],
             [
              0.5555555555555556,
              "#d8576b"
             ],
             [
              0.6666666666666666,
              "#ed7953"
             ],
             [
              0.7777777777777778,
              "#fb9f3a"
             ],
             [
              0.8888888888888888,
              "#fdca26"
             ],
             [
              1,
              "#f0f921"
             ]
            ],
            "type": "heatmap"
           }
          ],
          "heatmapgl": [
           {
            "colorbar": {
             "outlinewidth": 0,
             "ticks": ""
            },
            "colorscale": [
             [
              0,
              "#0d0887"
             ],
             [
              0.1111111111111111,
              "#46039f"
             ],
             [
              0.2222222222222222,
              "#7201a8"
             ],
             [
              0.3333333333333333,
              "#9c179e"
             ],
             [
              0.4444444444444444,
              "#bd3786"
             ],
             [
              0.5555555555555556,
              "#d8576b"
             ],
             [
              0.6666666666666666,
              "#ed7953"
             ],
             [
              0.7777777777777778,
              "#fb9f3a"
             ],
             [
              0.8888888888888888,
              "#fdca26"
             ],
             [
              1,
              "#f0f921"
             ]
            ],
            "type": "heatmapgl"
           }
          ],
          "histogram": [
           {
            "marker": {
             "pattern": {
              "fillmode": "overlay",
              "size": 10,
              "solidity": 0.2
             }
            },
            "type": "histogram"
           }
          ],
          "histogram2d": [
           {
            "colorbar": {
             "outlinewidth": 0,
             "ticks": ""
            },
            "colorscale": [
             [
              0,
              "#0d0887"
             ],
             [
              0.1111111111111111,
              "#46039f"
             ],
             [
              0.2222222222222222,
              "#7201a8"
             ],
             [
              0.3333333333333333,
              "#9c179e"
             ],
             [
              0.4444444444444444,
              "#bd3786"
             ],
             [
              0.5555555555555556,
              "#d8576b"
             ],
             [
              0.6666666666666666,
              "#ed7953"
             ],
             [
              0.7777777777777778,
              "#fb9f3a"
             ],
             [
              0.8888888888888888,
              "#fdca26"
             ],
             [
              1,
              "#f0f921"
             ]
            ],
            "type": "histogram2d"
           }
          ],
          "histogram2dcontour": [
           {
            "colorbar": {
             "outlinewidth": 0,
             "ticks": ""
            },
            "colorscale": [
             [
              0,
              "#0d0887"
             ],
             [
              0.1111111111111111,
              "#46039f"
             ],
             [
              0.2222222222222222,
              "#7201a8"
             ],
             [
              0.3333333333333333,
              "#9c179e"
             ],
             [
              0.4444444444444444,
              "#bd3786"
             ],
             [
              0.5555555555555556,
              "#d8576b"
             ],
             [
              0.6666666666666666,
              "#ed7953"
             ],
             [
              0.7777777777777778,
              "#fb9f3a"
             ],
             [
              0.8888888888888888,
              "#fdca26"
             ],
             [
              1,
              "#f0f921"
             ]
            ],
            "type": "histogram2dcontour"
           }
          ],
          "mesh3d": [
           {
            "colorbar": {
             "outlinewidth": 0,
             "ticks": ""
            },
            "type": "mesh3d"
           }
          ],
          "parcoords": [
           {
            "line": {
             "colorbar": {
              "outlinewidth": 0,
              "ticks": ""
             }
            },
            "type": "parcoords"
           }
          ],
          "pie": [
           {
            "automargin": true,
            "type": "pie"
           }
          ],
          "scatter": [
           {
            "fillpattern": {
             "fillmode": "overlay",
             "size": 10,
             "solidity": 0.2
            },
            "type": "scatter"
           }
          ],
          "scatter3d": [
           {
            "line": {
             "colorbar": {
              "outlinewidth": 0,
              "ticks": ""
             }
            },
            "marker": {
             "colorbar": {
              "outlinewidth": 0,
              "ticks": ""
             }
            },
            "type": "scatter3d"
           }
          ],
          "scattercarpet": [
           {
            "marker": {
             "colorbar": {
              "outlinewidth": 0,
              "ticks": ""
             }
            },
            "type": "scattercarpet"
           }
          ],
          "scattergeo": [
           {
            "marker": {
             "colorbar": {
              "outlinewidth": 0,
              "ticks": ""
             }
            },
            "type": "scattergeo"
           }
          ],
          "scattergl": [
           {
            "marker": {
             "colorbar": {
              "outlinewidth": 0,
              "ticks": ""
             }
            },
            "type": "scattergl"
           }
          ],
          "scattermapbox": [
           {
            "marker": {
             "colorbar": {
              "outlinewidth": 0,
              "ticks": ""
             }
            },
            "type": "scattermapbox"
           }
          ],
          "scatterpolar": [
           {
            "marker": {
             "colorbar": {
              "outlinewidth": 0,
              "ticks": ""
             }
            },
            "type": "scatterpolar"
           }
          ],
          "scatterpolargl": [
           {
            "marker": {
             "colorbar": {
              "outlinewidth": 0,
              "ticks": ""
             }
            },
            "type": "scatterpolargl"
           }
          ],
          "scatterternary": [
           {
            "marker": {
             "colorbar": {
              "outlinewidth": 0,
              "ticks": ""
             }
            },
            "type": "scatterternary"
           }
          ],
          "surface": [
           {
            "colorbar": {
             "outlinewidth": 0,
             "ticks": ""
            },
            "colorscale": [
             [
              0,
              "#0d0887"
             ],
             [
              0.1111111111111111,
              "#46039f"
             ],
             [
              0.2222222222222222,
              "#7201a8"
             ],
             [
              0.3333333333333333,
              "#9c179e"
             ],
             [
              0.4444444444444444,
              "#bd3786"
             ],
             [
              0.5555555555555556,
              "#d8576b"
             ],
             [
              0.6666666666666666,
              "#ed7953"
             ],
             [
              0.7777777777777778,
              "#fb9f3a"
             ],
             [
              0.8888888888888888,
              "#fdca26"
             ],
             [
              1,
              "#f0f921"
             ]
            ],
            "type": "surface"
           }
          ],
          "table": [
           {
            "cells": {
             "fill": {
              "color": "#EBF0F8"
             },
             "line": {
              "color": "white"
             }
            },
            "header": {
             "fill": {
              "color": "#C8D4E3"
             },
             "line": {
              "color": "white"
             }
            },
            "type": "table"
           }
          ]
         },
         "layout": {
          "annotationdefaults": {
           "arrowcolor": "#2a3f5f",
           "arrowhead": 0,
           "arrowwidth": 1
          },
          "autotypenumbers": "strict",
          "coloraxis": {
           "colorbar": {
            "outlinewidth": 0,
            "ticks": ""
           }
          },
          "colorscale": {
           "diverging": [
            [
             0,
             "#8e0152"
            ],
            [
             0.1,
             "#c51b7d"
            ],
            [
             0.2,
             "#de77ae"
            ],
            [
             0.3,
             "#f1b6da"
            ],
            [
             0.4,
             "#fde0ef"
            ],
            [
             0.5,
             "#f7f7f7"
            ],
            [
             0.6,
             "#e6f5d0"
            ],
            [
             0.7,
             "#b8e186"
            ],
            [
             0.8,
             "#7fbc41"
            ],
            [
             0.9,
             "#4d9221"
            ],
            [
             1,
             "#276419"
            ]
           ],
           "sequential": [
            [
             0,
             "#0d0887"
            ],
            [
             0.1111111111111111,
             "#46039f"
            ],
            [
             0.2222222222222222,
             "#7201a8"
            ],
            [
             0.3333333333333333,
             "#9c179e"
            ],
            [
             0.4444444444444444,
             "#bd3786"
            ],
            [
             0.5555555555555556,
             "#d8576b"
            ],
            [
             0.6666666666666666,
             "#ed7953"
            ],
            [
             0.7777777777777778,
             "#fb9f3a"
            ],
            [
             0.8888888888888888,
             "#fdca26"
            ],
            [
             1,
             "#f0f921"
            ]
           ],
           "sequentialminus": [
            [
             0,
             "#0d0887"
            ],
            [
             0.1111111111111111,
             "#46039f"
            ],
            [
             0.2222222222222222,
             "#7201a8"
            ],
            [
             0.3333333333333333,
             "#9c179e"
            ],
            [
             0.4444444444444444,
             "#bd3786"
            ],
            [
             0.5555555555555556,
             "#d8576b"
            ],
            [
             0.6666666666666666,
             "#ed7953"
            ],
            [
             0.7777777777777778,
             "#fb9f3a"
            ],
            [
             0.8888888888888888,
             "#fdca26"
            ],
            [
             1,
             "#f0f921"
            ]
           ]
          },
          "colorway": [
           "#636efa",
           "#EF553B",
           "#00cc96",
           "#ab63fa",
           "#FFA15A",
           "#19d3f3",
           "#FF6692",
           "#B6E880",
           "#FF97FF",
           "#FECB52"
          ],
          "font": {
           "color": "#2a3f5f"
          },
          "geo": {
           "bgcolor": "white",
           "lakecolor": "white",
           "landcolor": "#E5ECF6",
           "showlakes": true,
           "showland": true,
           "subunitcolor": "white"
          },
          "hoverlabel": {
           "align": "left"
          },
          "hovermode": "closest",
          "mapbox": {
           "style": "light"
          },
          "paper_bgcolor": "white",
          "plot_bgcolor": "#E5ECF6",
          "polar": {
           "angularaxis": {
            "gridcolor": "white",
            "linecolor": "white",
            "ticks": ""
           },
           "bgcolor": "#E5ECF6",
           "radialaxis": {
            "gridcolor": "white",
            "linecolor": "white",
            "ticks": ""
           }
          },
          "scene": {
           "xaxis": {
            "backgroundcolor": "#E5ECF6",
            "gridcolor": "white",
            "gridwidth": 2,
            "linecolor": "white",
            "showbackground": true,
            "ticks": "",
            "zerolinecolor": "white"
           },
           "yaxis": {
            "backgroundcolor": "#E5ECF6",
            "gridcolor": "white",
            "gridwidth": 2,
            "linecolor": "white",
            "showbackground": true,
            "ticks": "",
            "zerolinecolor": "white"
           },
           "zaxis": {
            "backgroundcolor": "#E5ECF6",
            "gridcolor": "white",
            "gridwidth": 2,
            "linecolor": "white",
            "showbackground": true,
            "ticks": "",
            "zerolinecolor": "white"
           }
          },
          "shapedefaults": {
           "line": {
            "color": "#2a3f5f"
           }
          },
          "ternary": {
           "aaxis": {
            "gridcolor": "white",
            "linecolor": "white",
            "ticks": ""
           },
           "baxis": {
            "gridcolor": "white",
            "linecolor": "white",
            "ticks": ""
           },
           "bgcolor": "#E5ECF6",
           "caxis": {
            "gridcolor": "white",
            "linecolor": "white",
            "ticks": ""
           }
          },
          "title": {
           "x": 0.05
          },
          "xaxis": {
           "automargin": true,
           "gridcolor": "white",
           "linecolor": "white",
           "ticks": "",
           "title": {
            "standoff": 15
           },
           "zerolinecolor": "white",
           "zerolinewidth": 2
          },
          "yaxis": {
           "automargin": true,
           "gridcolor": "white",
           "linecolor": "white",
           "ticks": "",
           "title": {
            "standoff": 15
           },
           "zerolinecolor": "white",
           "zerolinewidth": 2
          }
         }
        },
        "title": {
         "text": "Mean(good-bad) tau"
        }
       }
      }
     },
     "metadata": {},
     "output_type": "display_data"
    }
   ],
   "source": [
    "grouped_line_plot([means, tau], bleus, [\"Mean(good-bad)\", \"tau\"], PHENOMENA)"
   ]
  },
  {
   "cell_type": "code",
   "execution_count": 38,
   "id": "cb61b6f1",
   "metadata": {},
   "outputs": [],
   "source": [
    "def grouped_line_plot(groups: List[Dict[str,list]], metrics_names: List[str], group_labels: List[str], phenomena: List[str]):\n",
    "    '''\n",
    "    Inputs: \n",
    "        1. means and tau scores\n",
    "        format = {\n",
    "            metric1: [score for phenomenon 1, score for phenomenon 2, ..]\n",
    "        }\n",
    "        2. A list of the labels for: \n",
    "            the groups (mean (good-bad), tau, ...)\n",
    "            metrics\n",
    "            phenomena (the order is important because in means and tau scores the scores are ordered acc. to phenomena)\n",
    "    '''\n",
    "    assert len(groups) > 0 and len(groups) == len(group_labels) and len(metrics_names) > 0\n",
    "    fig = go.Figure()\n",
    "    colors = [['lightsteelblue',  'aqua', 'aquamarine', 'darkturquoise'],\n",
    "        ['chocolate', 'coral', 'crimson', 'orange']]\n",
    "    for i,group in enumerate(groups):\n",
    "        for j,metric in enumerate(metrics_names):\n",
    "            fig.add_trace(go.Scatter(x=phenomena, y=group[metric],mode='lines',name=group_labels[i]+\" - \"+metric,\n",
    "                          line=dict(color=colors[i][j])))\n",
    "    fig.update_layout(\n",
    "        title=\" \".join(group_labels)\n",
    "        )\n",
    "    fig.show()"
   ]
  },
  {
   "cell_type": "markdown",
   "id": "c0f2561d",
   "metadata": {},
   "source": [
    "# Extra Latex Tables"
   ]
  },
  {
   "cell_type": "code",
   "execution_count": null,
   "id": "cb31d6db",
   "metadata": {},
   "outputs": [],
   "source": [
    "def find_max_on_col(scores:Dict[str, Dict[str, Dict[str, int]]], metrics_names:List[str], phenomena:List[str]=PHENOMENA, k_highest:int=1) -> Dict[str,str]:\n",
    "    max_metrics = {str(k): [[] for metric in metrics_names] for k in range(k_highest)}\n",
    "    avgs = []\n",
    "    for i,p in enumerate(phenomena):\n",
    "        col = []\n",
    "        for metric in metrics_names:\n",
    "            if metric not in scores and metric in METRIC_NAMES_MAPPING:\n",
    "                metric = METRIC_NAMES_MAPPING[metric]\n",
    "            elif metric not in scores and metric in METRIC_MAPPING_BACK:\n",
    "                metric = METRIC_MAPPING_BACK[metric]\n",
    "            if metric not in scores:\n",
    "                col.append(-np.inf)\n",
    "            else:\n",
    "                col.append(scores[metric][p])\n",
    "        for k in range(k_highest):\n",
    "            max_ids = np.where(col == np.partition(col, -k-1)[-k-1])[0]\n",
    "            for max_id in max_ids:\n",
    "                max_metrics[str(k)][max_id].append(i)\n",
    "        col = np.array(col)\n",
    "        avgs.append(np.average(col[col > -np.inf]))\n",
    "    return max_metrics, avgs\n",
    "\n",
    "def make_header(scores:Dict[str, Dict[str, Dict[str, int]]], phenomena:List[str]=PHENOMENA, p_header_1:dict=PHENOMENA_HEADER_1, p_header_2:dict=PHENOMENA_HEADER_2, num_samples:dict=None, phenomena_mapping:Dict[str,str]=None, ACES_column:bool=True) -> str:\n",
    "    if phenomena_mapping == None:\n",
    "        phenomena_mapping = PHENOMENA_MAPPING\n",
    "    if num_samples == None:\n",
    "        num_samples = {p:0 for p in phenomena}\n",
    "        for p,target in phenomena_mapping.items():\n",
    "            num_samples[target] += len(scores[\"BLEU\"][p][0])\n",
    "    res = \"\\\\begin{table*}[ht] \\n \\small \\n \\setlength{\\\\tabcolsep}{3.75pt} \\n \\centering \\n \\\\begin{tabular}{@{}lccccccccccc@{}} \\n \\\\\\\\\\\\toprule \\n\"\n",
    "    for p in phenomena:\n",
    "        res += \" & \"\n",
    "        res += p_header_1[p]\n",
    "    if ACES_column:\n",
    "        res += \"\"\" & \\\\textbf{ACES-}\"\"\"\n",
    "    res += \" \\\\\\\\\\n\"\n",
    "    for p in phenomena:\n",
    "        res += \" & \"\n",
    "        res += p_header_2[p]\n",
    "    if ACES_column:\n",
    "        res += \"\"\" & \\\\textbf{Score}\"\"\"\n",
    "    res += \"\\\\\\\\\\n\\midrule\\n\\\\textit{\\\\textbf{Examples}} \"\n",
    "    for p in phenomena:\n",
    "        res += \" & \"\n",
    "        res += '\\\\textit{' + str(num_samples[p]) + '}'\n",
    "    res += \"\"\"\\\\\\\\ \\n \\midrule\"\"\"\n",
    "    return res\n",
    "\n",
    "def make_footer(averages:List, phenomena:List[str]=PHENOMENA) -> str:\n",
    "    res = \"\\midrule\\nAverage (all metrics)\\t\"\n",
    "    for p in phenomena:\n",
    "        if p in phenomena:\n",
    "            res += \" & \"\n",
    "            res += format_number(averages[p])\n",
    "    res += \"\"\"\\\\\\\\ \\n \\\\bottomrule\"\"\"\n",
    "    return res\n",
    "\n",
    "def generate_summary_table(scores:Dict[str, Dict[str, Dict[str, int]]], metrics_groups:Dict[str,list] = METRICS_GROUPING_2022, phenomena:List[str]=PHENOMENA, ACES_column:bool=True, global_colors:bool=True, k_highest:int=1, colors:List[str]=None) -> str:\n",
    "    \"\"\"\n",
    "    if k_highest % 2 == 1:\n",
    "        colors = COLORS[len(COLORS)//2-k_highest//2:len(COLORS)//2+k_highest//2+1]\n",
    "    else:\n",
    "        colors = COLORS[len(COLORS)//2-k_highest//2:len(COLORS)//2] + COLORS[len(COLORS)//2+1:len(COLORS)//2+k_highest//2+1]\n",
    "    \"\"\"\n",
    "    if global_colors:\n",
    "        k_highest = 1\n",
    "    out = ''\n",
    "    metrics_names = []\n",
    "    for group in metrics_groups.values():\n",
    "        for metric in group:\n",
    "            if metric not in scores and metric in METRIC_NAMES_MAPPING:\n",
    "                metrics_names.append(METRIC_NAMES_MAPPING[metric])\n",
    "            elif metric not in scores and metric in METRIC_MAPPING_BACK:\n",
    "                metrics_names.append(METRIC_MAPPING_BACK[metric])\n",
    "            else:\n",
    "                metrics_names.append(metric)\n",
    "    # print(metrics_names)\n",
    "    max_in_columns, avgs = find_max_on_col(scores, metrics_names=metrics_names, phenomena=phenomena, k_highest=k_highest)\n",
    "    if ACES_column:\n",
    "        aces_scores_col = []\n",
    "        for metric in metrics_names:\n",
    "            # print(metric)\n",
    "            if metric not in scores and metric in METRIC_NAMES_MAPPING:\n",
    "                metric = METRIC_NAMES_MAPPING[metric]\n",
    "            elif metric not in scores and metric in METRIC_MAPPING_BACK:\n",
    "                metric = METRIC_MAPPING_BACK[metric]\n",
    "            row = {}\n",
    "            # print(metric)\n",
    "            for p_id, p in enumerate(phenomena):\n",
    "                if metric not in scores:\n",
    "                    row[p] = 0.0\n",
    "                else:\n",
    "                    row[p] = scores[metric][p]\n",
    "            aces_scores_col.append(comp_aces_score(row))\n",
    "        # print(aces_scores_col)\n",
    "        aces_scores_col_colors = {m_id:\"\" for m_id in range(len(metrics_names))}\n",
    "    \n",
    "    if global_colors:\n",
    "        maximum = np.max([np.max(list(p.values())) for metric,p in scores.items() if metric in metrics_names])\n",
    "        minimum = np.min([np.min(list(p.values())) for metric,p in scores.items() if metric in metrics_names])\n",
    "        # print(minimum, maximum, metrics_names)\n",
    "    if ACES_column:\n",
    "        if global_colors:\n",
    "            for i in range(len(aces_scores_col)):\n",
    "                aces_scores_col_colors[i] = map_to_color(aces_scores_col[i], np.max(aces_scores_col), np.min(aces_scores_col))\n",
    "        elif k_highest == 1:\n",
    "            max_aces_ids = np.where(list(aces_scores_col) == np.max(aces_scores_col))[0]\n",
    "            for i in max_aces_ids:\n",
    "                aces_scores_col_colors[i] = '\\colorbox[HTML]{B2EAB1}'\n",
    "        else:\n",
    "            for k in range(k_highest):\n",
    "                max_aces_ids = np.where(aces_scores_col == np.partition(aces_scores_col, -k-1)[-k-1])[0]\n",
    "                for i in max_aces_ids:\n",
    "                    aces_scores_col_colors[i] = colors[k]\n",
    "                   \n",
    "    for group, metrics in metrics_groups.items():\n",
    "        for m_id, metric in enumerate(metrics):\n",
    "            if metric not in scores and metric in METRIC_NAMES_MAPPING:\n",
    "                metric = METRIC_NAMES_MAPPING[metric]\n",
    "            elif metric not in scores and metric in METRIC_MAPPING_BACK:\n",
    "                metric = METRIC_MAPPING_BACK[metric]\n",
    "            out += format_metric(metric) + '\\t\\t\\t\\t\\t'\n",
    "            for p_id, p in enumerate(phenomena):\n",
    "                if metric not in scores:\n",
    "                    out += '&\\t ---- \\t' \n",
    "                else:\n",
    "                    if global_colors:\n",
    "                        out += '&\\t' + format_number(scores[metric][p], max_phenomena=True, color=map_to_color(scores[metric][p], maximum, minimum)) + '\\t'   \n",
    "                    elif k_highest == 1:\n",
    "                        max_ids = max_in_columns['0'][metrics_names.index(metric)]\n",
    "                        out += '&\\t' + format_number(scores[metric][p], max_phenomena=p_id in max_ids) + '\\t'   \n",
    "                    else:\n",
    "                        for k in range(k_highest):\n",
    "                            max_ids = max_in_columns[str(k)][metrics_names.index(metric)]\n",
    "                            if p_id in max_ids:\n",
    "                                color=colors[k]\n",
    "                                break\n",
    "                        out += '&\\t' + format_number(scores[metric][p], max_phenomena=True, color=color) + '\\t'   \n",
    "            if ACES_column:\n",
    "                tmp_color =  aces_scores_col_colors[metrics_names.index(metric)]    \n",
    "                out += '&\\t' + format_number(aces_scores_col[metrics_names.index(metric)], dec='0.00', max_phenomena=tmp_color!=\"\", color=tmp_color)\n",
    "            out += '\\t \\\\\\\\ \\n'\n",
    "        out += '\\midrule \\n'\n",
    "    out += 'Average\\t\\t\\t\\t\\t'\n",
    "    for p_id, p in enumerate(phenomena):\n",
    "        out += '&\\t' + format_number(avgs[p_id], max_phenomena=True, color=map_to_color(avgs[p_id], max=np.max(avgs), min=np.min(avgs))) + '\\t'\n",
    "    out += '\\\\\\\\'\n",
    "    return out"
   ]
  }
 ],
 "metadata": {
  "kernelspec": {
   "display_name": "Python 3 (ipykernel)",
   "language": "python",
   "name": "python3"
  },
  "language_info": {
   "codemirror_mode": {
    "name": "ipython",
    "version": 3
   },
   "file_extension": ".py",
   "mimetype": "text/x-python",
   "name": "python",
   "nbconvert_exporter": "python",
   "pygments_lexer": "ipython3",
   "version": "3.11.5"
  }
 },
 "nbformat": 4,
 "nbformat_minor": 5
}
