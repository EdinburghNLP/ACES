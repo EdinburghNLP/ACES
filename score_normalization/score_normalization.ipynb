{
 "cells": [
  {
   "cell_type": "code",
   "execution_count": 1,
   "id": "aa50da46",
   "metadata": {},
   "outputs": [],
   "source": [
    "#!/usr/bin/env python3\n",
    "import os, sys\n",
    "sys.path.append(os.path.abspath(os.path.join(os.getcwd(), \"ACES_private/score_normalization\")))\n",
    "from normalize_scores_utils import *"
   ]
  },
  {
   "cell_type": "code",
   "execution_count": 3,
   "id": "aa5b6318",
   "metadata": {},
   "outputs": [
    {
     "name": "stderr",
     "output_type": "stream",
     "text": [
      "INFO:logger:Loading ACES the scores...\n"
     ]
    },
    {
     "name": "stdout",
     "output_type": "stream",
     "text": [
      "en-uk\n"
     ]
    },
    {
     "name": "stderr",
     "output_type": "stream",
     "text": [
      "100%|██████████| 30/30 [00:00<00:00, 198.86it/s]\n"
     ]
    },
    {
     "name": "stdout",
     "output_type": "stream",
     "text": [
      "en-ja\n"
     ]
    },
    {
     "name": "stderr",
     "output_type": "stream",
     "text": [
      "100%|██████████| 30/30 [00:00<00:00, 135.09it/s]\n"
     ]
    },
    {
     "name": "stdout",
     "output_type": "stream",
     "text": [
      "liv-en\n"
     ]
    },
    {
     "name": "stderr",
     "output_type": "stream",
     "text": [
      "100%|██████████| 30/30 [00:00<00:00, 1001.59it/s]\n"
     ]
    },
    {
     "name": "stdout",
     "output_type": "stream",
     "text": [
      "uk-cs\n"
     ]
    },
    {
     "name": "stderr",
     "output_type": "stream",
     "text": [
      "100%|██████████| 30/30 [00:00<00:00, 129.45it/s]\n"
     ]
    },
    {
     "name": "stdout",
     "output_type": "stream",
     "text": [
      "zh-en\n"
     ]
    },
    {
     "name": "stderr",
     "output_type": "stream",
     "text": [
      "100%|██████████| 30/30 [00:00<00:00, 47.03it/s]\n"
     ]
    },
    {
     "name": "stdout",
     "output_type": "stream",
     "text": [
      "en-ru\n"
     ]
    },
    {
     "name": "stderr",
     "output_type": "stream",
     "text": [
      "100%|██████████| 30/30 [00:00<00:00, 85.52it/s]\n"
     ]
    },
    {
     "name": "stdout",
     "output_type": "stream",
     "text": [
      "de-fr\n"
     ]
    },
    {
     "name": "stderr",
     "output_type": "stream",
     "text": [
      "100%|██████████| 30/30 [00:00<00:00, 234.23it/s]\n"
     ]
    },
    {
     "name": "stdout",
     "output_type": "stream",
     "text": [
      "en-cs\n"
     ]
    },
    {
     "name": "stderr",
     "output_type": "stream",
     "text": [
      "100%|██████████| 30/30 [00:00<00:00, 84.91it/s]\n"
     ]
    },
    {
     "name": "stdout",
     "output_type": "stream",
     "text": [
      "en-de\n"
     ]
    },
    {
     "name": "stderr",
     "output_type": "stream",
     "text": [
      "100%|██████████| 30/30 [00:00<00:00, 49.49it/s]\n"
     ]
    },
    {
     "name": "stdout",
     "output_type": "stream",
     "text": [
      "fr-de\n"
     ]
    },
    {
     "name": "stderr",
     "output_type": "stream",
     "text": [
      "100%|██████████| 30/30 [00:00<00:00, 193.03it/s]\n"
     ]
    },
    {
     "name": "stdout",
     "output_type": "stream",
     "text": [
      "en-hr\n"
     ]
    },
    {
     "name": "stderr",
     "output_type": "stream",
     "text": [
      "100%|██████████| 30/30 [00:00<00:00, 139.42it/s]\n"
     ]
    },
    {
     "name": "stdout",
     "output_type": "stream",
     "text": [
      "ja-en\n"
     ]
    },
    {
     "name": "stderr",
     "output_type": "stream",
     "text": [
      "100%|██████████| 30/30 [00:00<00:00, 119.77it/s]\n"
     ]
    },
    {
     "name": "stdout",
     "output_type": "stream",
     "text": [
      "ru-sah\n"
     ]
    },
    {
     "name": "stderr",
     "output_type": "stream",
     "text": [
      "100%|██████████| 30/30 [00:00<00:00, 953.16it/s]\n"
     ]
    },
    {
     "name": "stdout",
     "output_type": "stream",
     "text": [
      "en-zh\n"
     ]
    },
    {
     "name": "stderr",
     "output_type": "stream",
     "text": [
      "100%|██████████| 30/30 [00:00<00:00, 62.93it/s]\n"
     ]
    },
    {
     "name": "stdout",
     "output_type": "stream",
     "text": [
      "en-liv\n"
     ]
    },
    {
     "name": "stderr",
     "output_type": "stream",
     "text": [
      "100%|██████████| 30/30 [00:00<00:00, 1057.38it/s]\n"
     ]
    },
    {
     "name": "stdout",
     "output_type": "stream",
     "text": [
      "de-en\n"
     ]
    },
    {
     "name": "stderr",
     "output_type": "stream",
     "text": [
      "100%|██████████| 30/30 [00:00<00:00, 87.81it/s]\n"
     ]
    },
    {
     "name": "stdout",
     "output_type": "stream",
     "text": [
      "sah-ru\n"
     ]
    },
    {
     "name": "stderr",
     "output_type": "stream",
     "text": [
      "100%|██████████| 30/30 [00:00<00:00, 808.38it/s]\n"
     ]
    },
    {
     "name": "stdout",
     "output_type": "stream",
     "text": [
      "cs-uk\n"
     ]
    },
    {
     "name": "stderr",
     "output_type": "stream",
     "text": [
      "100%|██████████| 30/30 [00:00<00:00, 96.92it/s]\n"
     ]
    },
    {
     "name": "stdout",
     "output_type": "stream",
     "text": [
      "uk-en\n"
     ]
    },
    {
     "name": "stderr",
     "output_type": "stream",
     "text": [
      "100%|██████████| 30/30 [00:00<00:00, 99.82it/s]\n"
     ]
    },
    {
     "name": "stdout",
     "output_type": "stream",
     "text": [
      "ru-en\n"
     ]
    },
    {
     "name": "stderr",
     "output_type": "stream",
     "text": [
      "100%|██████████| 30/30 [00:00<00:00, 99.98it/s]\n"
     ]
    },
    {
     "name": "stdout",
     "output_type": "stream",
     "text": [
      "cs-en\n"
     ]
    },
    {
     "name": "stderr",
     "output_type": "stream",
     "text": [
      "100%|██████████| 30/30 [00:00<00:00, 77.67it/s]\n"
     ]
    }
   ],
   "source": [
    "# Load the ACES scores\n",
    "ACES_scores_2022_path = '/home/arnisa/Desktop/work/metric_sensitivity_analysis/scored_aces_final.tsv'\n",
    "# 2023 later\n",
    "ACES_scores = load_ACES_scores(ACES_scores_2022_path)\n",
    "\n",
    "# Load WMT scores\n",
    "metrics_names = set(ACES_scores.keys())\n",
    "WMT_scores_path = '/home/arnisa/Desktop/work/metric_sensitivity_analysis/mt-metrics-eval-v2/wmt22/metric-scores'\n",
    "WMT_scores = load_WMT_scores(WMT_scores_path, metrics_names)\n",
    "metrics_names = list(set(ACES_scores.keys()).intersection(set(WMT_scores.keys())))\n",
    "\n",
    "# Get sensitivities (we only get mean(good-bad)) of the normalized scores\n",
    "sensitivities, _, _, phenomena = calculate_sensitivities(ACES_scores, WMT_scores, mapping=PHENOMENA_MAPPING)\n",
    "\n",
    "# load the ACES scores from the paper\n",
    "ACES_summary_2022 = load_ACES_scores_summary_2022()"
   ]
  },
  {
   "cell_type": "code",
   "execution_count": 4,
   "id": "5ffc40e2",
   "metadata": {},
   "outputs": [
    {
     "data": {
      "text/plain": [
       "{'metricx_xl_DA_2019': {'undertranslation': 0.3671614119894317,\n",
       "  'untranslated': 1.7529706602024642,\n",
       "  'mistranslation': 0.46832359419799086,\n",
       "  'do not translate': 0.5465601074166211,\n",
       "  'omission': 0.4409283424473139,\n",
       "  'overtranslation': 0.6809637398565015,\n",
       "  'punctuation': 0.28239264672353126,\n",
       "  'wrong language': 0.7460884373810064,\n",
       "  'real-world knowledge': 0.5027537175827648,\n",
       "  'addition': 0.0950902947197431},\n",
       " 'MEE': {'undertranslation': nan,\n",
       "  'untranslated': nan,\n",
       "  'mistranslation': nan,\n",
       "  'do not translate': 0.33100090392079723,\n",
       "  'omission': nan,\n",
       "  'overtranslation': nan,\n",
       "  'punctuation': 0.2064284308793095,\n",
       "  'wrong language': nan,\n",
       "  'real-world knowledge': nan,\n",
       "  'addition': nan},\n",
       " 'COMETKiwi': {'undertranslation': 0.3592402492974571,\n",
       "  'untranslated': 0.6638297184083296,\n",
       "  'mistranslation': 0.5732563461813599,\n",
       "  'do not translate': 0.2624675537257028,\n",
       "  'omission': 0.4366934012988357,\n",
       "  'overtranslation': 0.571782725379702,\n",
       "  'punctuation': 0.22746049678056637,\n",
       "  'wrong language': -0.5734240497846572,\n",
       "  'real-world knowledge': 0.3392520839189057,\n",
       "  'addition': 0.12424218010601351},\n",
       " 'chrF': {'undertranslation': -0.22512321669961785,\n",
       "  'untranslated': 1.514542123624745,\n",
       "  'mistranslation': -0.07828824967779315,\n",
       "  'do not translate': 0.2776495256981501,\n",
       "  'omission': 0.2517183282944141,\n",
       "  'overtranslation': -0.28815119987870125,\n",
       "  'punctuation': 0.1017329547199582,\n",
       "  'wrong language': 0.6501324871223509,\n",
       "  'real-world knowledge': -0.09071221405154077,\n",
       "  'addition': 0.0594788644725885},\n",
       " 'UniTE-ref': {'undertranslation': 0.18290898643881418,\n",
       "  'untranslated': 0.08114389371218786,\n",
       "  'mistranslation': 0.2853519412386816,\n",
       "  'do not translate': 0.29993927966972367,\n",
       "  'omission': 0.37929767387818797,\n",
       "  'overtranslation': 0.3765773864095423,\n",
       "  'punctuation': 0.15783458316341825,\n",
       "  'wrong language': -0.44692578054844523,\n",
       "  'real-world knowledge': 0.18998034696706406,\n",
       "  'addition': 0.07612923783201463},\n",
       " 'MS-COMET-QE-22': {'undertranslation': 0.17451663739572223,\n",
       "  'untranslated': 2.5203456742874515,\n",
       "  'mistranslation': 0.23388764694290298,\n",
       "  'do not translate': 0.0971822193093508,\n",
       "  'omission': 0.3613250457689576,\n",
       "  'overtranslation': 0.23907075397429878,\n",
       "  'punctuation': 0.20429418657557966,\n",
       "  'wrong language': -0.6411461172922956,\n",
       "  'real-world knowledge': 0.08985020538244132,\n",
       "  'addition': -0.03703383918334948},\n",
       " 'metricx_xxl_MQM_2020': {'undertranslation': 0.489118901008337,\n",
       "  'untranslated': 0.6130795801107404,\n",
       "  'mistranslation': 0.5350042529190596,\n",
       "  'do not translate': 0.6594696802469469,\n",
       "  'omission': 0.290496586748007,\n",
       "  'overtranslation': 0.8150107960018401,\n",
       "  'punctuation': 0.19586249336660078,\n",
       "  'wrong language': -0.7890013199222512,\n",
       "  'real-world knowledge': 0.633788796897596,\n",
       "  'addition': -0.012770620680725882},\n",
       " 'metricx_xxl_DA_2019': {'undertranslation': 0.19132299665383193,\n",
       "  'untranslated': 1.6313315833247215,\n",
       "  'mistranslation': 0.5051561473323435,\n",
       "  'do not translate': 0.5194624975726081,\n",
       "  'omission': 0.4059953224149212,\n",
       "  'overtranslation': 0.5378586537915344,\n",
       "  'punctuation': 0.22280412179614392,\n",
       "  'wrong language': 0.07107954950341554,\n",
       "  'real-world knowledge': 0.4217950505840519,\n",
       "  'addition': 0.08046872924837149},\n",
       " 'metricx_xl_MQM_2020': {'undertranslation': 0.6583508174728043,\n",
       "  'untranslated': 0.41015823417310754,\n",
       "  'mistranslation': 0.627967157965322,\n",
       "  'do not translate': 0.6583555476286257,\n",
       "  'omission': 0.36055654552175387,\n",
       "  'overtranslation': 0.9906871042299262,\n",
       "  'punctuation': 0.30084092606639956,\n",
       "  'wrong language': -0.577452910974426,\n",
       "  'real-world knowledge': 0.750523741342931,\n",
       "  'addition': -0.05919418109594521},\n",
       " 'KG-BERTScore': {'undertranslation': 0.1258105831142309,\n",
       "  'untranslated': -0.7874417310922995,\n",
       "  'mistranslation': 0.4069974130374558,\n",
       "  'do not translate': 0.5433188861063057,\n",
       "  'omission': 0.2322620203936442,\n",
       "  'overtranslation': 0.18591810670547015,\n",
       "  'punctuation': 0.29861038648117266,\n",
       "  'wrong language': -0.19407995416023932,\n",
       "  'real-world knowledge': 0.08002836116885753,\n",
       "  'addition': 0.13929956386068248},\n",
       " 'YiSi-1': {'undertranslation': -0.0560126000560961,\n",
       "  'untranslated': 2.611964908379072,\n",
       "  'mistranslation': 0.06164140542627071,\n",
       "  'do not translate': 0.3154786511035839,\n",
       "  'omission': 0.2904309085887979,\n",
       "  'overtranslation': -0.043206930030852825,\n",
       "  'punctuation': 0.34680731290525785,\n",
       "  'wrong language': 0.18005551360331407,\n",
       "  'real-world knowledge': -0.04745711647396562,\n",
       "  'addition': 0.11495050251010469},\n",
       " 'UniTE': {'undertranslation': 0.15109579729617345,\n",
       "  'untranslated': 0.5485725750237048,\n",
       "  'mistranslation': 0.3000729475726344,\n",
       "  'do not translate': 0.3527231111532749,\n",
       "  'omission': 0.4132610801343118,\n",
       "  'overtranslation': 0.33489604158185843,\n",
       "  'punctuation': 0.19194153866730373,\n",
       "  'wrong language': -0.450035032696393,\n",
       "  'real-world knowledge': 0.19054909662972763,\n",
       "  'addition': 0.11152876805275304},\n",
       " 'BLEURT-20': {'undertranslation': -0.002220717457061079,\n",
       "  'untranslated': 1.714325505265303,\n",
       "  'mistranslation': 0.1825090391740773,\n",
       "  'do not translate': 0.38625520996293267,\n",
       "  'omission': 0.35133648660932015,\n",
       "  'overtranslation': 0.13767569008533392,\n",
       "  'punctuation': 0.29156013420685545,\n",
       "  'wrong language': 0.8134964600330256,\n",
       "  'real-world knowledge': 0.05418617330149348,\n",
       "  'addition': 0.10365660720295744},\n",
       " 'REUSE': {'undertranslation': nan,\n",
       "  'untranslated': nan,\n",
       "  'mistranslation': nan,\n",
       "  'do not translate': 0.1858345959557509,\n",
       "  'omission': nan,\n",
       "  'overtranslation': nan,\n",
       "  'punctuation': 0.2686782846895158,\n",
       "  'wrong language': nan,\n",
       "  'real-world knowledge': nan,\n",
       "  'addition': nan},\n",
       " 'MATESE-QE': {'undertranslation': nan,\n",
       "  'untranslated': nan,\n",
       "  'mistranslation': nan,\n",
       "  'do not translate': 0.21,\n",
       "  'omission': nan,\n",
       "  'overtranslation': nan,\n",
       "  'punctuation': -0.03646144650328751,\n",
       "  'wrong language': nan,\n",
       "  'real-world knowledge': nan,\n",
       "  'addition': nan},\n",
       " 'MEE2': {'undertranslation': nan,\n",
       "  'untranslated': nan,\n",
       "  'mistranslation': nan,\n",
       "  'do not translate': 0.2974216204157968,\n",
       "  'omission': nan,\n",
       "  'overtranslation': nan,\n",
       "  'punctuation': 0.22883835503789487,\n",
       "  'wrong language': nan,\n",
       "  'real-world knowledge': nan,\n",
       "  'addition': nan},\n",
       " 'Cross-QE': {'undertranslation': 0.46388238088829903,\n",
       "  'untranslated': -0.3099253528580649,\n",
       "  'mistranslation': 0.600910338899629,\n",
       "  'do not translate': 0.046973308585338144,\n",
       "  'omission': 0.41875229803600256,\n",
       "  'overtranslation': 0.701950194337344,\n",
       "  'punctuation': 0.09944494181649492,\n",
       "  'wrong language': -0.5251453335411325,\n",
       "  'real-world knowledge': 0.22819770798110903,\n",
       "  'addition': 0.10117154729993863},\n",
       " 'COMET-20': {'undertranslation': 0.061282151013702844,\n",
       "  'untranslated': 1.4850423005866256,\n",
       "  'mistranslation': 0.24166377919665463,\n",
       "  'do not translate': 0.30844965613513975,\n",
       "  'omission': 0.4041843768140193,\n",
       "  'overtranslation': 0.1472091318121557,\n",
       "  'punctuation': 0.22382445848782037,\n",
       "  'wrong language': -0.3360413534415724,\n",
       "  'real-world knowledge': 0.051205665914023514,\n",
       "  'addition': 0.07124896164192028},\n",
       " 'BLEU': {'undertranslation': -1.1013204692761616,\n",
       "  'untranslated': 1.1936012111929082,\n",
       "  'mistranslation': -0.08824611291143918,\n",
       "  'do not translate': 0.25324141756487745,\n",
       "  'omission': 0.2547030756159054,\n",
       "  'overtranslation': -1.099805470474964,\n",
       "  'punctuation': 0.34640999424957986,\n",
       "  'wrong language': 0.650622573355296,\n",
       "  'real-world knowledge': -0.3062169882384918,\n",
       "  'addition': 0.2148287208357031},\n",
       " 'BERTScore': {'undertranslation': -0.040562214958728485,\n",
       "  'untranslated': 1.347333968383291,\n",
       "  'mistranslation': -0.02444751230492348,\n",
       "  'do not translate': 0.2970681056578922,\n",
       "  'omission': 0.18136656056554623,\n",
       "  'overtranslation': -0.02272950378648251,\n",
       "  'punctuation': 0.4684753785451279,\n",
       "  'wrong language': 0.3656032936373003,\n",
       "  'real-world knowledge': -0.027225733823162214,\n",
       "  'addition': 0.11253981147236242},\n",
       " 'UniTE-src': {'undertranslation': 0.25785044803509116,\n",
       "  'untranslated': -0.7793690736928203,\n",
       "  'mistranslation': 0.47551976475299007,\n",
       "  'do not translate': 0.31673547599797475,\n",
       "  'omission': 0.516941009651062,\n",
       "  'overtranslation': 0.392875252258654,\n",
       "  'punctuation': 0.18496736534298766,\n",
       "  'wrong language': -0.5609578278728333,\n",
       "  'real-world knowledge': 0.19267327156141043,\n",
       "  'addition': 0.09633269131901004},\n",
       " 'MS-COMET-22': {'undertranslation': 0.11758822494727739,\n",
       "  'untranslated': 1.0226120290555953,\n",
       "  'mistranslation': 0.12490066389957773,\n",
       "  'do not translate': 0.20115046507594708,\n",
       "  'omission': 0.3466654318913089,\n",
       "  'overtranslation': 0.21796871669156986,\n",
       "  'punctuation': 0.185693157086426,\n",
       "  'wrong language': -0.18963099273046888,\n",
       "  'real-world knowledge': 0.05948937273122362,\n",
       "  'addition': -0.04862210273686457},\n",
       " 'f101spBLEU': {'undertranslation': -0.6106474620460811,\n",
       "  'untranslated': 0.8976180911201121,\n",
       "  'mistranslation': -0.0770431248090204,\n",
       "  'do not translate': 0.31322648852962093,\n",
       "  'omission': 0.1863532850365928,\n",
       "  'overtranslation': -0.5682955103975651,\n",
       "  'punctuation': 0.20342198914362314,\n",
       "  'wrong language': 0.49766527107268943,\n",
       "  'real-world knowledge': -0.16694896017579922,\n",
       "  'addition': 0.13151156220901616},\n",
       " 'HWTSC-Teacher-Sim': {'undertranslation': 0.17220642024578753,\n",
       "  'untranslated': -0.5768084865235102,\n",
       "  'mistranslation': 0.1574235928975768,\n",
       "  'do not translate': 0.21347909996747405,\n",
       "  'omission': 0.13584381861062897,\n",
       "  'overtranslation': 0.21992566495703894,\n",
       "  'punctuation': 0.20146572877546742,\n",
       "  'wrong language': -0.07143826135575793,\n",
       "  'real-world knowledge': 0.053643555981781894,\n",
       "  'addition': -0.0029466930497247775},\n",
       " 'MATESE': {'undertranslation': nan,\n",
       "  'untranslated': nan,\n",
       "  'mistranslation': nan,\n",
       "  'do not translate': 0.335,\n",
       "  'omission': nan,\n",
       "  'overtranslation': nan,\n",
       "  'punctuation': 0.004482964734010759,\n",
       "  'wrong language': nan,\n",
       "  'real-world knowledge': nan,\n",
       "  'addition': nan},\n",
       " 'COMET-22': {'undertranslation': 0.2965250375195492,\n",
       "  'untranslated': 0.5161487508004713,\n",
       "  'mistranslation': 0.3888224376606538,\n",
       "  'do not translate': 0.4270982024272212,\n",
       "  'omission': 0.339629071269166,\n",
       "  'overtranslation': 0.48378424720659197,\n",
       "  'punctuation': 0.2744474024129998,\n",
       "  'wrong language': -0.6934677117617782,\n",
       "  'real-world knowledge': 0.2886188317537399,\n",
       "  'addition': 0.060463629648521644},\n",
       " 'MEE4': {'undertranslation': nan,\n",
       "  'untranslated': nan,\n",
       "  'mistranslation': nan,\n",
       "  'do not translate': 0.27249945421205923,\n",
       "  'omission': nan,\n",
       "  'overtranslation': nan,\n",
       "  'punctuation': 0.25502434555782205,\n",
       "  'wrong language': nan,\n",
       "  'real-world knowledge': nan,\n",
       "  'addition': nan},\n",
       " 'f200spBLEU': {'undertranslation': -0.5547589251683395,\n",
       "  'untranslated': 0.8810556975739291,\n",
       "  'mistranslation': -0.07728893460685092,\n",
       "  'do not translate': 0.32105350563551555,\n",
       "  'omission': 0.18170729852854106,\n",
       "  'overtranslation': -0.5326243110635183,\n",
       "  'punctuation': 0.1850044698107335,\n",
       "  'wrong language': 0.4896448112722411,\n",
       "  'real-world knowledge': -0.16597207427446717,\n",
       "  'addition': 0.12581225313618488},\n",
       " 'HWTSC-TLM': {'undertranslation': 0.24230761025881453,\n",
       "  'untranslated': 0.0861967449857374,\n",
       "  'mistranslation': 0.11595834133391458,\n",
       "  'do not translate': -0.0035886596516960093,\n",
       "  'omission': 0.1440347589796219,\n",
       "  'overtranslation': 0.2900275702791171,\n",
       "  'punctuation': 0.42127513086697305,\n",
       "  'wrong language': -0.16092623995216712,\n",
       "  'real-world knowledge': 0.059813843403985795,\n",
       "  'addition': -0.09093629813005691}}"
      ]
     },
     "execution_count": 4,
     "metadata": {},
     "output_type": "execute_result"
    }
   ],
   "source": [
    "sensitivities"
   ]
  },
  {
   "cell_type": "code",
   "execution_count": 5,
   "id": "759776ab",
   "metadata": {},
   "outputs": [
    {
     "data": {
      "text/plain": [
       "True"
      ]
     },
     "execution_count": 5,
     "metadata": {},
     "output_type": "execute_result"
    }
   ],
   "source": [
    "metrics_names == list(sensitivities.keys())"
   ]
  },
  {
   "cell_type": "code",
   "execution_count": 8,
   "id": "0c0ff544",
   "metadata": {},
   "outputs": [],
   "source": [
    "# create groups here:\n",
    "means = {metric:[sensitivities[metric][p] for p in phenomena] for metric in metrics_names}\n",
    "tau = {metric:[ACES_summary_2022[metric][p] for p in phenomena] for metric in metrics_names if metric in ACES_summary_2022}"
   ]
  },
  {
   "cell_type": "code",
   "execution_count": 9,
   "id": "43a014af",
   "metadata": {},
   "outputs": [
    {
     "data": {
      "text/plain": [
       "{'metricx_xl_DA_2019': [0.3671614119894317,\n",
       "  1.7529706602024642,\n",
       "  0.46832359419799086,\n",
       "  0.5465601074166211,\n",
       "  0.4409283424473139,\n",
       "  0.6809637398565015,\n",
       "  0.28239264672353126,\n",
       "  0.7460884373810064,\n",
       "  0.5027537175827648,\n",
       "  0.0950902947197431],\n",
       " 'MEE': [nan,\n",
       "  nan,\n",
       "  nan,\n",
       "  0.33100090392079723,\n",
       "  nan,\n",
       "  nan,\n",
       "  0.2064284308793095,\n",
       "  nan,\n",
       "  nan,\n",
       "  nan],\n",
       " 'COMETKiwi': [0.3592402492974571,\n",
       "  0.6638297184083296,\n",
       "  0.5732563461813599,\n",
       "  0.2624675537257028,\n",
       "  0.4366934012988357,\n",
       "  0.571782725379702,\n",
       "  0.22746049678056637,\n",
       "  -0.5734240497846572,\n",
       "  0.3392520839189057,\n",
       "  0.12424218010601351],\n",
       " 'chrF': [-0.22512321669961785,\n",
       "  1.514542123624745,\n",
       "  -0.07828824967779315,\n",
       "  0.2776495256981501,\n",
       "  0.2517183282944141,\n",
       "  -0.28815119987870125,\n",
       "  0.1017329547199582,\n",
       "  0.6501324871223509,\n",
       "  -0.09071221405154077,\n",
       "  0.0594788644725885],\n",
       " 'UniTE-ref': [0.18290898643881418,\n",
       "  0.08114389371218786,\n",
       "  0.2853519412386816,\n",
       "  0.29993927966972367,\n",
       "  0.37929767387818797,\n",
       "  0.3765773864095423,\n",
       "  0.15783458316341825,\n",
       "  -0.44692578054844523,\n",
       "  0.18998034696706406,\n",
       "  0.07612923783201463],\n",
       " 'MS-COMET-QE-22': [0.17451663739572223,\n",
       "  2.5203456742874515,\n",
       "  0.23388764694290298,\n",
       "  0.0971822193093508,\n",
       "  0.3613250457689576,\n",
       "  0.23907075397429878,\n",
       "  0.20429418657557966,\n",
       "  -0.6411461172922956,\n",
       "  0.08985020538244132,\n",
       "  -0.03703383918334948],\n",
       " 'metricx_xxl_MQM_2020': [0.489118901008337,\n",
       "  0.6130795801107404,\n",
       "  0.5350042529190596,\n",
       "  0.6594696802469469,\n",
       "  0.290496586748007,\n",
       "  0.8150107960018401,\n",
       "  0.19586249336660078,\n",
       "  -0.7890013199222512,\n",
       "  0.633788796897596,\n",
       "  -0.012770620680725882],\n",
       " 'metricx_xxl_DA_2019': [0.19132299665383193,\n",
       "  1.6313315833247215,\n",
       "  0.5051561473323435,\n",
       "  0.5194624975726081,\n",
       "  0.4059953224149212,\n",
       "  0.5378586537915344,\n",
       "  0.22280412179614392,\n",
       "  0.07107954950341554,\n",
       "  0.4217950505840519,\n",
       "  0.08046872924837149],\n",
       " 'metricx_xl_MQM_2020': [0.6583508174728043,\n",
       "  0.41015823417310754,\n",
       "  0.627967157965322,\n",
       "  0.6583555476286257,\n",
       "  0.36055654552175387,\n",
       "  0.9906871042299262,\n",
       "  0.30084092606639956,\n",
       "  -0.577452910974426,\n",
       "  0.750523741342931,\n",
       "  -0.05919418109594521],\n",
       " 'KG-BERTScore': [0.1258105831142309,\n",
       "  -0.7874417310922995,\n",
       "  0.4069974130374558,\n",
       "  0.5433188861063057,\n",
       "  0.2322620203936442,\n",
       "  0.18591810670547015,\n",
       "  0.29861038648117266,\n",
       "  -0.19407995416023932,\n",
       "  0.08002836116885753,\n",
       "  0.13929956386068248],\n",
       " 'YiSi-1': [-0.0560126000560961,\n",
       "  2.611964908379072,\n",
       "  0.06164140542627071,\n",
       "  0.3154786511035839,\n",
       "  0.2904309085887979,\n",
       "  -0.043206930030852825,\n",
       "  0.34680731290525785,\n",
       "  0.18005551360331407,\n",
       "  -0.04745711647396562,\n",
       "  0.11495050251010469],\n",
       " 'UniTE': [0.15109579729617345,\n",
       "  0.5485725750237048,\n",
       "  0.3000729475726344,\n",
       "  0.3527231111532749,\n",
       "  0.4132610801343118,\n",
       "  0.33489604158185843,\n",
       "  0.19194153866730373,\n",
       "  -0.450035032696393,\n",
       "  0.19054909662972763,\n",
       "  0.11152876805275304],\n",
       " 'BLEURT-20': [-0.002220717457061079,\n",
       "  1.714325505265303,\n",
       "  0.1825090391740773,\n",
       "  0.38625520996293267,\n",
       "  0.35133648660932015,\n",
       "  0.13767569008533392,\n",
       "  0.29156013420685545,\n",
       "  0.8134964600330256,\n",
       "  0.05418617330149348,\n",
       "  0.10365660720295744],\n",
       " 'REUSE': [nan,\n",
       "  nan,\n",
       "  nan,\n",
       "  0.1858345959557509,\n",
       "  nan,\n",
       "  nan,\n",
       "  0.2686782846895158,\n",
       "  nan,\n",
       "  nan,\n",
       "  nan],\n",
       " 'MATESE-QE': [nan,\n",
       "  nan,\n",
       "  nan,\n",
       "  0.21,\n",
       "  nan,\n",
       "  nan,\n",
       "  -0.03646144650328751,\n",
       "  nan,\n",
       "  nan,\n",
       "  nan],\n",
       " 'MEE2': [nan,\n",
       "  nan,\n",
       "  nan,\n",
       "  0.2974216204157968,\n",
       "  nan,\n",
       "  nan,\n",
       "  0.22883835503789487,\n",
       "  nan,\n",
       "  nan,\n",
       "  nan],\n",
       " 'Cross-QE': [0.46388238088829903,\n",
       "  -0.3099253528580649,\n",
       "  0.600910338899629,\n",
       "  0.046973308585338144,\n",
       "  0.41875229803600256,\n",
       "  0.701950194337344,\n",
       "  0.09944494181649492,\n",
       "  -0.5251453335411325,\n",
       "  0.22819770798110903,\n",
       "  0.10117154729993863],\n",
       " 'COMET-20': [0.061282151013702844,\n",
       "  1.4850423005866256,\n",
       "  0.24166377919665463,\n",
       "  0.30844965613513975,\n",
       "  0.4041843768140193,\n",
       "  0.1472091318121557,\n",
       "  0.22382445848782037,\n",
       "  -0.3360413534415724,\n",
       "  0.051205665914023514,\n",
       "  0.07124896164192028],\n",
       " 'BLEU': [-1.1013204692761616,\n",
       "  1.1936012111929082,\n",
       "  -0.08824611291143918,\n",
       "  0.25324141756487745,\n",
       "  0.2547030756159054,\n",
       "  -1.099805470474964,\n",
       "  0.34640999424957986,\n",
       "  0.650622573355296,\n",
       "  -0.3062169882384918,\n",
       "  0.2148287208357031],\n",
       " 'BERTScore': [-0.040562214958728485,\n",
       "  1.347333968383291,\n",
       "  -0.02444751230492348,\n",
       "  0.2970681056578922,\n",
       "  0.18136656056554623,\n",
       "  -0.02272950378648251,\n",
       "  0.4684753785451279,\n",
       "  0.3656032936373003,\n",
       "  -0.027225733823162214,\n",
       "  0.11253981147236242],\n",
       " 'UniTE-src': [0.25785044803509116,\n",
       "  -0.7793690736928203,\n",
       "  0.47551976475299007,\n",
       "  0.31673547599797475,\n",
       "  0.516941009651062,\n",
       "  0.392875252258654,\n",
       "  0.18496736534298766,\n",
       "  -0.5609578278728333,\n",
       "  0.19267327156141043,\n",
       "  0.09633269131901004],\n",
       " 'MS-COMET-22': [0.11758822494727739,\n",
       "  1.0226120290555953,\n",
       "  0.12490066389957773,\n",
       "  0.20115046507594708,\n",
       "  0.3466654318913089,\n",
       "  0.21796871669156986,\n",
       "  0.185693157086426,\n",
       "  -0.18963099273046888,\n",
       "  0.05948937273122362,\n",
       "  -0.04862210273686457],\n",
       " 'f101spBLEU': [-0.6106474620460811,\n",
       "  0.8976180911201121,\n",
       "  -0.0770431248090204,\n",
       "  0.31322648852962093,\n",
       "  0.1863532850365928,\n",
       "  -0.5682955103975651,\n",
       "  0.20342198914362314,\n",
       "  0.49766527107268943,\n",
       "  -0.16694896017579922,\n",
       "  0.13151156220901616],\n",
       " 'HWTSC-Teacher-Sim': [0.17220642024578753,\n",
       "  -0.5768084865235102,\n",
       "  0.1574235928975768,\n",
       "  0.21347909996747405,\n",
       "  0.13584381861062897,\n",
       "  0.21992566495703894,\n",
       "  0.20146572877546742,\n",
       "  -0.07143826135575793,\n",
       "  0.053643555981781894,\n",
       "  -0.0029466930497247775],\n",
       " 'MATESE': [nan,\n",
       "  nan,\n",
       "  nan,\n",
       "  0.335,\n",
       "  nan,\n",
       "  nan,\n",
       "  0.004482964734010759,\n",
       "  nan,\n",
       "  nan,\n",
       "  nan],\n",
       " 'COMET-22': [0.2965250375195492,\n",
       "  0.5161487508004713,\n",
       "  0.3888224376606538,\n",
       "  0.4270982024272212,\n",
       "  0.339629071269166,\n",
       "  0.48378424720659197,\n",
       "  0.2744474024129998,\n",
       "  -0.6934677117617782,\n",
       "  0.2886188317537399,\n",
       "  0.060463629648521644],\n",
       " 'MEE4': [nan,\n",
       "  nan,\n",
       "  nan,\n",
       "  0.27249945421205923,\n",
       "  nan,\n",
       "  nan,\n",
       "  0.25502434555782205,\n",
       "  nan,\n",
       "  nan,\n",
       "  nan],\n",
       " 'f200spBLEU': [-0.5547589251683395,\n",
       "  0.8810556975739291,\n",
       "  -0.07728893460685092,\n",
       "  0.32105350563551555,\n",
       "  0.18170729852854106,\n",
       "  -0.5326243110635183,\n",
       "  0.1850044698107335,\n",
       "  0.4896448112722411,\n",
       "  -0.16597207427446717,\n",
       "  0.12581225313618488],\n",
       " 'HWTSC-TLM': [0.24230761025881453,\n",
       "  0.0861967449857374,\n",
       "  0.11595834133391458,\n",
       "  -0.0035886596516960093,\n",
       "  0.1440347589796219,\n",
       "  0.2900275702791171,\n",
       "  0.42127513086697305,\n",
       "  -0.16092623995216712,\n",
       "  0.059813843403985795,\n",
       "  -0.09093629813005691]}"
      ]
     },
     "execution_count": 9,
     "metadata": {},
     "output_type": "execute_result"
    }
   ],
   "source": [
    "means"
   ]
  },
  {
   "cell_type": "code",
   "execution_count": 52,
   "id": "a36ae4d1",
   "metadata": {},
   "outputs": [],
   "source": [
    "import plotly.express as px\n",
    "def grouped_line_plot(groups: List[Dict[str,list]], metrics_names: List[str], group_labels: List[str], phenomena: List[str]):\n",
    "    '''\n",
    "    Inputs: \n",
    "        1. means and tau scores\n",
    "        format = {\n",
    "            metric1: [score for phenomenon 1, score for phenomenon 2, ..]\n",
    "        }\n",
    "        2. A list of the labels for: \n",
    "            the groups (mean (good-bad), tau, ...)\n",
    "            metrics\n",
    "            phenomena (the order is important because in means and tau scores the scores are ordered acc. to phenomena)\n",
    "    '''\n",
    "    assert len(groups) > 0 and len(groups) == len(group_labels) and len(metrics_names) > 0\n",
    "    fig = go.Figure()\n",
    "    colors = [['lightsteelblue',  'aqua', 'aquamarine', 'darkturquoise'],\n",
    "        ['chocolate', 'coral', 'crimson', 'orange']]\n",
    "    for i,group in enumerate(groups):\n",
    "        for j,metric in enumerate(metrics_names):\n",
    "            fig.add_trace(go.Scatter(x=phenomena, y=group[metric],mode='lines',name=group_labels[i]+\" - \"+metric,\n",
    "                          line=dict(color=colors[i][j])))\n",
    "    fig.update_layout(\n",
    "        title=\" \".join(group_labels)\n",
    "        )\n",
    "    fig.show()"
   ]
  },
  {
   "cell_type": "code",
   "execution_count": 53,
   "id": "ca277ffc",
   "metadata": {},
   "outputs": [
    {
     "data": {
      "application/vnd.plotly.v1+json": {
       "config": {
        "plotlyServerURL": "https://plot.ly"
       },
       "data": [
        {
         "line": {
          "color": "lightsteelblue"
         },
         "mode": "lines",
         "name": "Mean(good-bad) - COMET-20",
         "type": "scatter",
         "x": [
          "undertranslation",
          "untranslated",
          "mistranslation",
          "do not translate",
          "omission",
          "overtranslation",
          "punctuation",
          "wrong language",
          "real-world knowledge",
          "addition"
         ],
         "y": [
          0.061282151013702844,
          1.4850423005866256,
          0.24166377919665463,
          0.30844965613513975,
          0.4041843768140193,
          0.1472091318121557,
          0.22382445848782037,
          -0.3360413534415724,
          0.051205665914023514,
          0.07124896164192028
         ]
        },
        {
         "line": {
          "color": "aqua"
         },
         "mode": "lines",
         "name": "Mean(good-bad) - COMET-22",
         "type": "scatter",
         "x": [
          "undertranslation",
          "untranslated",
          "mistranslation",
          "do not translate",
          "omission",
          "overtranslation",
          "punctuation",
          "wrong language",
          "real-world knowledge",
          "addition"
         ],
         "y": [
          0.2965250375195492,
          0.5161487508004713,
          0.3888224376606538,
          0.4270982024272212,
          0.339629071269166,
          0.48378424720659197,
          0.2744474024129998,
          -0.6934677117617782,
          0.2886188317537399,
          0.060463629648521644
         ]
        },
        {
         "line": {
          "color": "aquamarine"
         },
         "mode": "lines",
         "name": "Mean(good-bad) - MS-COMET-22",
         "type": "scatter",
         "x": [
          "undertranslation",
          "untranslated",
          "mistranslation",
          "do not translate",
          "omission",
          "overtranslation",
          "punctuation",
          "wrong language",
          "real-world knowledge",
          "addition"
         ],
         "y": [
          0.11758822494727739,
          1.0226120290555953,
          0.12490066389957773,
          0.20115046507594708,
          0.3466654318913089,
          0.21796871669156986,
          0.185693157086426,
          -0.18963099273046888,
          0.05948937273122362,
          -0.04862210273686457
         ]
        },
        {
         "line": {
          "color": "darkturquoise"
         },
         "mode": "lines",
         "name": "Mean(good-bad) - MS-COMET-QE-22",
         "type": "scatter",
         "x": [
          "undertranslation",
          "untranslated",
          "mistranslation",
          "do not translate",
          "omission",
          "overtranslation",
          "punctuation",
          "wrong language",
          "real-world knowledge",
          "addition"
         ],
         "y": [
          0.17451663739572223,
          2.5203456742874515,
          0.23388764694290298,
          0.0971822193093508,
          0.3613250457689576,
          0.23907075397429878,
          0.20429418657557966,
          -0.6411461172922956,
          0.08985020538244132,
          -0.03703383918334948
         ]
        },
        {
         "line": {
          "color": "chocolate"
         },
         "mode": "lines",
         "name": "tau - COMET-20",
         "type": "scatter",
         "x": [
          "undertranslation",
          "untranslated",
          "mistranslation",
          "do not translate",
          "omission",
          "overtranslation",
          "punctuation",
          "wrong language",
          "real-world knowledge",
          "addition"
         ],
         "y": [
          0.112,
          0.748,
          0.378,
          0.9,
          0.808,
          0.314,
          0.706,
          0.033,
          0.267,
          0.437
         ]
        },
        {
         "line": {
          "color": "coral"
         },
         "mode": "lines",
         "name": "tau - COMET-22",
         "type": "scatter",
         "x": [
          "undertranslation",
          "untranslated",
          "mistranslation",
          "do not translate",
          "omission",
          "overtranslation",
          "punctuation",
          "wrong language",
          "real-world knowledge",
          "addition"
         ],
         "y": [
          0.538,
          0.536,
          0.566,
          0.9,
          0.806,
          0.69,
          0.539,
          -0.318,
          0.574,
          0.333
         ]
        },
        {
         "line": {
          "color": "crimson"
         },
         "mode": "lines",
         "name": "tau - MS-COMET-22",
         "type": "scatter",
         "x": [
          "undertranslation",
          "untranslated",
          "mistranslation",
          "do not translate",
          "omission",
          "overtranslation",
          "punctuation",
          "wrong language",
          "real-world knowledge",
          "addition"
         ],
         "y": [
          0.29,
          0.504,
          0.397,
          0.7,
          0.686,
          0.548,
          0.508,
          0.041,
          0.23,
          -0.219
         ]
        },
        {
         "line": {
          "color": "orange"
         },
         "mode": "lines",
         "name": "tau - MS-COMET-QE-22",
         "type": "scatter",
         "x": [
          "undertranslation",
          "untranslated",
          "mistranslation",
          "do not translate",
          "omission",
          "overtranslation",
          "punctuation",
          "wrong language",
          "real-world knowledge",
          "addition"
         ],
         "y": [
          0.386,
          0.388,
          0.439,
          0.24,
          0.678,
          0.518,
          0.523,
          -0.197,
          0.248,
          -0.177
         ]
        }
       ],
       "layout": {
        "template": {
         "data": {
          "bar": [
           {
            "error_x": {
             "color": "#2a3f5f"
            },
            "error_y": {
             "color": "#2a3f5f"
            },
            "marker": {
             "line": {
              "color": "#E5ECF6",
              "width": 0.5
             },
             "pattern": {
              "fillmode": "overlay",
              "size": 10,
              "solidity": 0.2
             }
            },
            "type": "bar"
           }
          ],
          "barpolar": [
           {
            "marker": {
             "line": {
              "color": "#E5ECF6",
              "width": 0.5
             },
             "pattern": {
              "fillmode": "overlay",
              "size": 10,
              "solidity": 0.2
             }
            },
            "type": "barpolar"
           }
          ],
          "carpet": [
           {
            "aaxis": {
             "endlinecolor": "#2a3f5f",
             "gridcolor": "white",
             "linecolor": "white",
             "minorgridcolor": "white",
             "startlinecolor": "#2a3f5f"
            },
            "baxis": {
             "endlinecolor": "#2a3f5f",
             "gridcolor": "white",
             "linecolor": "white",
             "minorgridcolor": "white",
             "startlinecolor": "#2a3f5f"
            },
            "type": "carpet"
           }
          ],
          "choropleth": [
           {
            "colorbar": {
             "outlinewidth": 0,
             "ticks": ""
            },
            "type": "choropleth"
           }
          ],
          "contour": [
           {
            "colorbar": {
             "outlinewidth": 0,
             "ticks": ""
            },
            "colorscale": [
             [
              0,
              "#0d0887"
             ],
             [
              0.1111111111111111,
              "#46039f"
             ],
             [
              0.2222222222222222,
              "#7201a8"
             ],
             [
              0.3333333333333333,
              "#9c179e"
             ],
             [
              0.4444444444444444,
              "#bd3786"
             ],
             [
              0.5555555555555556,
              "#d8576b"
             ],
             [
              0.6666666666666666,
              "#ed7953"
             ],
             [
              0.7777777777777778,
              "#fb9f3a"
             ],
             [
              0.8888888888888888,
              "#fdca26"
             ],
             [
              1,
              "#f0f921"
             ]
            ],
            "type": "contour"
           }
          ],
          "contourcarpet": [
           {
            "colorbar": {
             "outlinewidth": 0,
             "ticks": ""
            },
            "type": "contourcarpet"
           }
          ],
          "heatmap": [
           {
            "colorbar": {
             "outlinewidth": 0,
             "ticks": ""
            },
            "colorscale": [
             [
              0,
              "#0d0887"
             ],
             [
              0.1111111111111111,
              "#46039f"
             ],
             [
              0.2222222222222222,
              "#7201a8"
             ],
             [
              0.3333333333333333,
              "#9c179e"
             ],
             [
              0.4444444444444444,
              "#bd3786"
             ],
             [
              0.5555555555555556,
              "#d8576b"
             ],
             [
              0.6666666666666666,
              "#ed7953"
             ],
             [
              0.7777777777777778,
              "#fb9f3a"
             ],
             [
              0.8888888888888888,
              "#fdca26"
             ],
             [
              1,
              "#f0f921"
             ]
            ],
            "type": "heatmap"
           }
          ],
          "heatmapgl": [
           {
            "colorbar": {
             "outlinewidth": 0,
             "ticks": ""
            },
            "colorscale": [
             [
              0,
              "#0d0887"
             ],
             [
              0.1111111111111111,
              "#46039f"
             ],
             [
              0.2222222222222222,
              "#7201a8"
             ],
             [
              0.3333333333333333,
              "#9c179e"
             ],
             [
              0.4444444444444444,
              "#bd3786"
             ],
             [
              0.5555555555555556,
              "#d8576b"
             ],
             [
              0.6666666666666666,
              "#ed7953"
             ],
             [
              0.7777777777777778,
              "#fb9f3a"
             ],
             [
              0.8888888888888888,
              "#fdca26"
             ],
             [
              1,
              "#f0f921"
             ]
            ],
            "type": "heatmapgl"
           }
          ],
          "histogram": [
           {
            "marker": {
             "pattern": {
              "fillmode": "overlay",
              "size": 10,
              "solidity": 0.2
             }
            },
            "type": "histogram"
           }
          ],
          "histogram2d": [
           {
            "colorbar": {
             "outlinewidth": 0,
             "ticks": ""
            },
            "colorscale": [
             [
              0,
              "#0d0887"
             ],
             [
              0.1111111111111111,
              "#46039f"
             ],
             [
              0.2222222222222222,
              "#7201a8"
             ],
             [
              0.3333333333333333,
              "#9c179e"
             ],
             [
              0.4444444444444444,
              "#bd3786"
             ],
             [
              0.5555555555555556,
              "#d8576b"
             ],
             [
              0.6666666666666666,
              "#ed7953"
             ],
             [
              0.7777777777777778,
              "#fb9f3a"
             ],
             [
              0.8888888888888888,
              "#fdca26"
             ],
             [
              1,
              "#f0f921"
             ]
            ],
            "type": "histogram2d"
           }
          ],
          "histogram2dcontour": [
           {
            "colorbar": {
             "outlinewidth": 0,
             "ticks": ""
            },
            "colorscale": [
             [
              0,
              "#0d0887"
             ],
             [
              0.1111111111111111,
              "#46039f"
             ],
             [
              0.2222222222222222,
              "#7201a8"
             ],
             [
              0.3333333333333333,
              "#9c179e"
             ],
             [
              0.4444444444444444,
              "#bd3786"
             ],
             [
              0.5555555555555556,
              "#d8576b"
             ],
             [
              0.6666666666666666,
              "#ed7953"
             ],
             [
              0.7777777777777778,
              "#fb9f3a"
             ],
             [
              0.8888888888888888,
              "#fdca26"
             ],
             [
              1,
              "#f0f921"
             ]
            ],
            "type": "histogram2dcontour"
           }
          ],
          "mesh3d": [
           {
            "colorbar": {
             "outlinewidth": 0,
             "ticks": ""
            },
            "type": "mesh3d"
           }
          ],
          "parcoords": [
           {
            "line": {
             "colorbar": {
              "outlinewidth": 0,
              "ticks": ""
             }
            },
            "type": "parcoords"
           }
          ],
          "pie": [
           {
            "automargin": true,
            "type": "pie"
           }
          ],
          "scatter": [
           {
            "fillpattern": {
             "fillmode": "overlay",
             "size": 10,
             "solidity": 0.2
            },
            "type": "scatter"
           }
          ],
          "scatter3d": [
           {
            "line": {
             "colorbar": {
              "outlinewidth": 0,
              "ticks": ""
             }
            },
            "marker": {
             "colorbar": {
              "outlinewidth": 0,
              "ticks": ""
             }
            },
            "type": "scatter3d"
           }
          ],
          "scattercarpet": [
           {
            "marker": {
             "colorbar": {
              "outlinewidth": 0,
              "ticks": ""
             }
            },
            "type": "scattercarpet"
           }
          ],
          "scattergeo": [
           {
            "marker": {
             "colorbar": {
              "outlinewidth": 0,
              "ticks": ""
             }
            },
            "type": "scattergeo"
           }
          ],
          "scattergl": [
           {
            "marker": {
             "colorbar": {
              "outlinewidth": 0,
              "ticks": ""
             }
            },
            "type": "scattergl"
           }
          ],
          "scattermapbox": [
           {
            "marker": {
             "colorbar": {
              "outlinewidth": 0,
              "ticks": ""
             }
            },
            "type": "scattermapbox"
           }
          ],
          "scatterpolar": [
           {
            "marker": {
             "colorbar": {
              "outlinewidth": 0,
              "ticks": ""
             }
            },
            "type": "scatterpolar"
           }
          ],
          "scatterpolargl": [
           {
            "marker": {
             "colorbar": {
              "outlinewidth": 0,
              "ticks": ""
             }
            },
            "type": "scatterpolargl"
           }
          ],
          "scatterternary": [
           {
            "marker": {
             "colorbar": {
              "outlinewidth": 0,
              "ticks": ""
             }
            },
            "type": "scatterternary"
           }
          ],
          "surface": [
           {
            "colorbar": {
             "outlinewidth": 0,
             "ticks": ""
            },
            "colorscale": [
             [
              0,
              "#0d0887"
             ],
             [
              0.1111111111111111,
              "#46039f"
             ],
             [
              0.2222222222222222,
              "#7201a8"
             ],
             [
              0.3333333333333333,
              "#9c179e"
             ],
             [
              0.4444444444444444,
              "#bd3786"
             ],
             [
              0.5555555555555556,
              "#d8576b"
             ],
             [
              0.6666666666666666,
              "#ed7953"
             ],
             [
              0.7777777777777778,
              "#fb9f3a"
             ],
             [
              0.8888888888888888,
              "#fdca26"
             ],
             [
              1,
              "#f0f921"
             ]
            ],
            "type": "surface"
           }
          ],
          "table": [
           {
            "cells": {
             "fill": {
              "color": "#EBF0F8"
             },
             "line": {
              "color": "white"
             }
            },
            "header": {
             "fill": {
              "color": "#C8D4E3"
             },
             "line": {
              "color": "white"
             }
            },
            "type": "table"
           }
          ]
         },
         "layout": {
          "annotationdefaults": {
           "arrowcolor": "#2a3f5f",
           "arrowhead": 0,
           "arrowwidth": 1
          },
          "autotypenumbers": "strict",
          "coloraxis": {
           "colorbar": {
            "outlinewidth": 0,
            "ticks": ""
           }
          },
          "colorscale": {
           "diverging": [
            [
             0,
             "#8e0152"
            ],
            [
             0.1,
             "#c51b7d"
            ],
            [
             0.2,
             "#de77ae"
            ],
            [
             0.3,
             "#f1b6da"
            ],
            [
             0.4,
             "#fde0ef"
            ],
            [
             0.5,
             "#f7f7f7"
            ],
            [
             0.6,
             "#e6f5d0"
            ],
            [
             0.7,
             "#b8e186"
            ],
            [
             0.8,
             "#7fbc41"
            ],
            [
             0.9,
             "#4d9221"
            ],
            [
             1,
             "#276419"
            ]
           ],
           "sequential": [
            [
             0,
             "#0d0887"
            ],
            [
             0.1111111111111111,
             "#46039f"
            ],
            [
             0.2222222222222222,
             "#7201a8"
            ],
            [
             0.3333333333333333,
             "#9c179e"
            ],
            [
             0.4444444444444444,
             "#bd3786"
            ],
            [
             0.5555555555555556,
             "#d8576b"
            ],
            [
             0.6666666666666666,
             "#ed7953"
            ],
            [
             0.7777777777777778,
             "#fb9f3a"
            ],
            [
             0.8888888888888888,
             "#fdca26"
            ],
            [
             1,
             "#f0f921"
            ]
           ],
           "sequentialminus": [
            [
             0,
             "#0d0887"
            ],
            [
             0.1111111111111111,
             "#46039f"
            ],
            [
             0.2222222222222222,
             "#7201a8"
            ],
            [
             0.3333333333333333,
             "#9c179e"
            ],
            [
             0.4444444444444444,
             "#bd3786"
            ],
            [
             0.5555555555555556,
             "#d8576b"
            ],
            [
             0.6666666666666666,
             "#ed7953"
            ],
            [
             0.7777777777777778,
             "#fb9f3a"
            ],
            [
             0.8888888888888888,
             "#fdca26"
            ],
            [
             1,
             "#f0f921"
            ]
           ]
          },
          "colorway": [
           "#636efa",
           "#EF553B",
           "#00cc96",
           "#ab63fa",
           "#FFA15A",
           "#19d3f3",
           "#FF6692",
           "#B6E880",
           "#FF97FF",
           "#FECB52"
          ],
          "font": {
           "color": "#2a3f5f"
          },
          "geo": {
           "bgcolor": "white",
           "lakecolor": "white",
           "landcolor": "#E5ECF6",
           "showlakes": true,
           "showland": true,
           "subunitcolor": "white"
          },
          "hoverlabel": {
           "align": "left"
          },
          "hovermode": "closest",
          "mapbox": {
           "style": "light"
          },
          "paper_bgcolor": "white",
          "plot_bgcolor": "#E5ECF6",
          "polar": {
           "angularaxis": {
            "gridcolor": "white",
            "linecolor": "white",
            "ticks": ""
           },
           "bgcolor": "#E5ECF6",
           "radialaxis": {
            "gridcolor": "white",
            "linecolor": "white",
            "ticks": ""
           }
          },
          "scene": {
           "xaxis": {
            "backgroundcolor": "#E5ECF6",
            "gridcolor": "white",
            "gridwidth": 2,
            "linecolor": "white",
            "showbackground": true,
            "ticks": "",
            "zerolinecolor": "white"
           },
           "yaxis": {
            "backgroundcolor": "#E5ECF6",
            "gridcolor": "white",
            "gridwidth": 2,
            "linecolor": "white",
            "showbackground": true,
            "ticks": "",
            "zerolinecolor": "white"
           },
           "zaxis": {
            "backgroundcolor": "#E5ECF6",
            "gridcolor": "white",
            "gridwidth": 2,
            "linecolor": "white",
            "showbackground": true,
            "ticks": "",
            "zerolinecolor": "white"
           }
          },
          "shapedefaults": {
           "line": {
            "color": "#2a3f5f"
           }
          },
          "ternary": {
           "aaxis": {
            "gridcolor": "white",
            "linecolor": "white",
            "ticks": ""
           },
           "baxis": {
            "gridcolor": "white",
            "linecolor": "white",
            "ticks": ""
           },
           "bgcolor": "#E5ECF6",
           "caxis": {
            "gridcolor": "white",
            "linecolor": "white",
            "ticks": ""
           }
          },
          "title": {
           "x": 0.05
          },
          "xaxis": {
           "automargin": true,
           "gridcolor": "white",
           "linecolor": "white",
           "ticks": "",
           "title": {
            "standoff": 15
           },
           "zerolinecolor": "white",
           "zerolinewidth": 2
          },
          "yaxis": {
           "automargin": true,
           "gridcolor": "white",
           "linecolor": "white",
           "ticks": "",
           "title": {
            "standoff": 15
           },
           "zerolinecolor": "white",
           "zerolinewidth": 2
          }
         }
        },
        "title": {
         "text": "Mean(good-bad) tau"
        }
       }
      }
     },
     "metadata": {},
     "output_type": "display_data"
    }
   ],
   "source": [
    "bleus = [\"BLEU\", \"f101spBLEU\", \"f200spBLEU\"]\n",
    "comets = [\"COMET-20\", \"COMET-22\", \"MS-COMET-22\", \"MS-COMET-QE-22\"]\n",
    "xl = [\"metricx_xl_DA_2019\", \"metricx_xl_MQM_2020\", \"metricx_xxl_DA_2019\", \"metricx_xxl_MQM_2020\"]\n",
    "unite = [\"UniTE\", \"UniTE-src\", \"UniTE-ref\"]\n",
    "grouped_line_plot([means, tau], comets, [\"Mean(good-bad)\", \"tau\"], phenomena)"
   ]
  }
 ],
 "metadata": {
  "kernelspec": {
   "display_name": "Python 3 (ipykernel)",
   "language": "python",
   "name": "python3"
  },
  "language_info": {
   "codemirror_mode": {
    "name": "ipython",
    "version": 3
   },
   "file_extension": ".py",
   "mimetype": "text/x-python",
   "name": "python",
   "nbconvert_exporter": "python",
   "pygments_lexer": "ipython3",
   "version": "3.11.5"
  }
 },
 "nbformat": 4,
 "nbformat_minor": 5
}
