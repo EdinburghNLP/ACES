{
 "cells": [
  {
   "cell_type": "code",
   "execution_count": 1,
   "id": "aa50da46",
   "metadata": {},
   "outputs": [],
   "source": [
    "#!/usr/bin/env python3\n",
    "import os, sys\n",
    "from normalize_scores_utils import *\n",
    "\n",
    "sys.path.append(os.path.abspath(os.path.join(os.getcwd(), \"..\")))\n",
    "from aces.cli.evaluate import comp_aces_score"
   ]
  },
  {
   "cell_type": "markdown",
   "id": "0e247e3a",
   "metadata": {},
   "source": [
    "# Main Part: Table and Correlations"
   ]
  },
  {
   "cell_type": "code",
   "execution_count": 53,
   "id": "aa5b6318",
   "metadata": {},
   "outputs": [
    {
     "name": "stdout",
     "output_type": "stream",
     "text": [
      "en-uk\n"
     ]
    },
    {
     "name": "stderr",
     "output_type": "stream",
     "text": [
      "100%|██████████| 58/58 [00:00<00:00, 462.03it/s]\n"
     ]
    },
    {
     "name": "stdout",
     "output_type": "stream",
     "text": [
      "en-ja\n"
     ]
    },
    {
     "name": "stderr",
     "output_type": "stream",
     "text": [
      "100%|██████████| 58/58 [00:00<00:00, 336.60it/s]\n"
     ]
    },
    {
     "name": "stdout",
     "output_type": "stream",
     "text": [
      "liv-en\n"
     ]
    },
    {
     "name": "stderr",
     "output_type": "stream",
     "text": [
      "100%|██████████| 58/58 [00:00<00:00, 3509.98it/s]\n"
     ]
    },
    {
     "name": "stdout",
     "output_type": "stream",
     "text": [
      "uk-cs\n"
     ]
    },
    {
     "name": "stderr",
     "output_type": "stream",
     "text": [
      "100%|██████████| 58/58 [00:00<00:00, 289.21it/s]\n"
     ]
    },
    {
     "name": "stdout",
     "output_type": "stream",
     "text": [
      "zh-en\n"
     ]
    },
    {
     "name": "stderr",
     "output_type": "stream",
     "text": [
      "100%|██████████| 58/58 [00:00<00:00, 133.71it/s]\n"
     ]
    },
    {
     "name": "stdout",
     "output_type": "stream",
     "text": [
      "en-ru\n"
     ]
    },
    {
     "name": "stderr",
     "output_type": "stream",
     "text": [
      "100%|██████████| 58/58 [00:00<00:00, 234.13it/s]\n"
     ]
    },
    {
     "name": "stdout",
     "output_type": "stream",
     "text": [
      "de-fr\n"
     ]
    },
    {
     "name": "stderr",
     "output_type": "stream",
     "text": [
      "100%|██████████| 58/58 [00:00<00:00, 534.53it/s]\n"
     ]
    },
    {
     "name": "stdout",
     "output_type": "stream",
     "text": [
      "en-cs\n"
     ]
    },
    {
     "name": "stderr",
     "output_type": "stream",
     "text": [
      "100%|██████████| 58/58 [00:00<00:00, 227.78it/s]\n"
     ]
    },
    {
     "name": "stdout",
     "output_type": "stream",
     "text": [
      "en-de\n"
     ]
    },
    {
     "name": "stderr",
     "output_type": "stream",
     "text": [
      "100%|██████████| 58/58 [00:00<00:00, 140.07it/s]\n"
     ]
    },
    {
     "name": "stdout",
     "output_type": "stream",
     "text": [
      "fr-de\n"
     ]
    },
    {
     "name": "stderr",
     "output_type": "stream",
     "text": [
      "100%|██████████| 58/58 [00:00<00:00, 512.95it/s]\n"
     ]
    },
    {
     "name": "stdout",
     "output_type": "stream",
     "text": [
      "en-hr\n"
     ]
    },
    {
     "name": "stderr",
     "output_type": "stream",
     "text": [
      "100%|██████████| 58/58 [00:00<00:00, 346.41it/s]\n"
     ]
    },
    {
     "name": "stdout",
     "output_type": "stream",
     "text": [
      "ja-en\n"
     ]
    },
    {
     "name": "stderr",
     "output_type": "stream",
     "text": [
      "100%|██████████| 58/58 [00:00<00:00, 283.33it/s]\n"
     ]
    },
    {
     "name": "stdout",
     "output_type": "stream",
     "text": [
      "ru-sah\n"
     ]
    },
    {
     "name": "stderr",
     "output_type": "stream",
     "text": [
      "100%|██████████| 58/58 [00:00<00:00, 3466.07it/s]\n"
     ]
    },
    {
     "name": "stdout",
     "output_type": "stream",
     "text": [
      "en-zh\n"
     ]
    },
    {
     "name": "stderr",
     "output_type": "stream",
     "text": [
      "100%|██████████| 58/58 [00:00<00:00, 203.74it/s]\n"
     ]
    },
    {
     "name": "stdout",
     "output_type": "stream",
     "text": [
      "en-liv\n"
     ]
    },
    {
     "name": "stderr",
     "output_type": "stream",
     "text": [
      "100%|██████████| 58/58 [00:00<00:00, 3893.50it/s]\n"
     ]
    },
    {
     "name": "stdout",
     "output_type": "stream",
     "text": [
      "de-en\n"
     ]
    },
    {
     "name": "stderr",
     "output_type": "stream",
     "text": [
      "100%|██████████| 58/58 [00:00<00:00, 240.14it/s]\n"
     ]
    },
    {
     "name": "stdout",
     "output_type": "stream",
     "text": [
      "sah-ru\n"
     ]
    },
    {
     "name": "stderr",
     "output_type": "stream",
     "text": [
      "100%|██████████| 58/58 [00:00<00:00, 3315.84it/s]\n"
     ]
    },
    {
     "name": "stdout",
     "output_type": "stream",
     "text": [
      "cs-uk\n"
     ]
    },
    {
     "name": "stderr",
     "output_type": "stream",
     "text": [
      "100%|██████████| 58/58 [00:00<00:00, 402.95it/s]\n"
     ]
    },
    {
     "name": "stdout",
     "output_type": "stream",
     "text": [
      "uk-en\n"
     ]
    },
    {
     "name": "stderr",
     "output_type": "stream",
     "text": [
      "100%|██████████| 58/58 [00:00<00:00, 452.78it/s]\n"
     ]
    },
    {
     "name": "stdout",
     "output_type": "stream",
     "text": [
      "ru-en\n"
     ]
    },
    {
     "name": "stderr",
     "output_type": "stream",
     "text": [
      "100%|██████████| 58/58 [00:00<00:00, 361.32it/s]\n"
     ]
    },
    {
     "name": "stdout",
     "output_type": "stream",
     "text": [
      "cs-en\n"
     ]
    },
    {
     "name": "stderr",
     "output_type": "stream",
     "text": [
      "100%|██████████| 58/58 [00:00<00:00, 291.70it/s]\n"
     ]
    }
   ],
   "source": [
    "# Load the ACES scores\n",
    "ACES_scores_2022_path = '/home/arnisa/Desktop/work/metric_sensitivity_analysis/scored_aces_final.tsv'\n",
    "ACES_scores_2023_path = '/home/arnisa/Desktop/work/metric_sensitivity_analysis/aces-scored-2023-all-scores.quote_errors_removed.tsv'\n",
    "# 2023 later\n",
    "ACES_scores_2022 = load_ACES_scores(ACES_scores_2022_path, good_token='.-good', bad_token='.-bad', metric_mapping=METRIC_NAMES_MAPPING)\n",
    "ACES_scores_2023 = load_ACES_scores(ACES_scores_2023_path, good_token='.-good', bad_token='.-bad', metric_mapping=METRIC_NAMES_MAPPING, skip_metrics=[])\n",
    "\n",
    "# Load WMT scores\n",
    "metrics_names = set(ACES_scores_2023.keys())\n",
    "WMT_scores_path = '/home/arnisa/Desktop/work/metric_sensitivity_analysis/mt-metrics-eval-v2/wmt22/metric-scores'\n",
    "WMT_scores = load_WMT_scores(WMT_scores_path, metrics_names)\n",
    "metrics_names = list(set(ACES_scores_2023.keys()).intersection(set(WMT_scores.keys())))\n",
    "\n",
    "# Get sensitivities (we only get mean(good-bad)) of the normalized scores\n",
    "sensitivities, _, _, phenomena = calculate_sensitivities(ACES_scores_2023, WMT_scores, mapping=PHENOMENA_MAPPING)\n",
    "\n",
    "# load the ACES scores from the paper\n",
    "ACES_summary_2022 = load_ACES_scores_summary_2022()\n",
    "ACES_summary_2023 = load_ACES_scores_summary_2023(skip_metrics=[])"
   ]
  },
  {
   "cell_type": "code",
   "execution_count": 54,
   "id": "310be452",
   "metadata": {},
   "outputs": [],
   "source": [
    "# From the ACES 2022 Paper:\n",
    "METRICS_GROUPING_2022= {\"baseline\": [\"BLEU\", \"f101spBLEU\", \"f200spBLEU\", \"chrF\", \"BERTScore\", \"BLEURT-20\",\n",
    "                                     \"COMET-20\", \"COMET-QE\", \"YISI-1\"],\n",
    "                        \"reference-based\": [\"COMET-22\", 'metricx_xl_DA_2019', 'metricx_xl_MQM_2020', 'metricx_xxl_DA_2019', 'metricx_xxl_MQM_2020',\n",
    "                                            'MS-COMET-22', \"UniTE\", \"UniTE-ref\"],\n",
    "                        \"reference-free\": [\"COMETKiwi\", \"Cross-QE\", 'HWTSC-Teacher-Sim', 'HWTSC-TLM',\n",
    "                                           'KG-BERTScore', \"MS-COMET-QE-22\", \"UniTE-src\"]\n",
    "\n",
    "                    }\n",
    "\n",
    "METRICS_GROUPING_2023 = {\n",
    "    \"baseline\": [\"BERTScore\", \"BLEU\", \"BLEURT-20\", \"chrF\", \"COMET-22\", \"COMETKiwi\", \n",
    "                 \"f200spBLEU\", \"MS-COMET-QE-22\", \"Random-sysname\", \"YiSi-1\"],\n",
    "    \"reference-based\": [\"eBLEU\", \"embed_llama\", \"MaTESe\", \"MetricX-23\", \"MetricX-23-b\", \n",
    "                        \"MetricX-23-c\", \"partokengram_F\", \"tokengram_F\", \"XCOMET-Ensemble\",\n",
    "                        \"XCOMET-XL\", \"XCOMET-XXL\", \"XLsim\"],\n",
    "    \"reference-free\": [\"cometoid22-wmt21\", \"cometoid22-wmt22\", \"cometoid22-wmt23\", \"CometKiwi-XL\", \n",
    "                       \"CometKiwi-XXL\", \"GEMBA-MQM\", \"KG-BERTScore\", \"MetricX-23-QE\", \"MetricX-23-QE-b\", \n",
    "                       \"MetricX-23-QE-c\", \"XCOMET-QE-Ensemble\", \"XLsimQE\"]                           \n",
    "}\n",
    "\n",
    "METRIC_MAPPING_BACK = {'YISI-1':'YiSi-1'}"
   ]
  },
  {
   "cell_type": "code",
   "execution_count": 75,
   "id": "4586f4de",
   "metadata": {},
   "outputs": [],
   "source": [
    "import decimal\n",
    "import re\n",
    "\n",
    "def format_number(number:float, max_phenomena:bool = False, dec:str = '0.000') -> str:\n",
    "    if number == -np.inf:\n",
    "        return '----'\n",
    "    if number < 0:\n",
    "        out = '-' + str(decimal.Decimal(-number).quantize(decimal.Decimal(dec)))\n",
    "    else:\n",
    "        out = '\\phantom{-}' + str(decimal.Decimal(number).quantize(decimal.Decimal(dec)))\n",
    "    if max_phenomena:\n",
    "        return '\\colorbox[HTML]{B2EAB1}{\\\\textbf{' + out + '}}'\n",
    "    else:\n",
    "        return out\n",
    "    \n",
    "def format_metric(metric:str):\n",
    "    return re.sub(r'_', '\\\\_', metric)\n",
    "\n",
    "def find_max_on_col(scores:Dict[str, Dict[str, Dict[str, int]]], metrics_names:List[str] = metrics_names) -> Dict[str,str]:\n",
    "    max_metrics = [[] for metric in metrics_names]\n",
    "    avgs = []\n",
    "    for i,p in enumerate(PHENOMENA):\n",
    "        col = []\n",
    "        for metric in metrics_names:\n",
    "            if metric not in scores and metric not in METRIC_MAPPING_BACK:\n",
    "                col.append(-np.inf)\n",
    "            else:\n",
    "                if metric not in scores:           \n",
    "                    metric = METRIC_MAPPING_BACK[metric]\n",
    "                else:\n",
    "                    col.append(sensitivities[metric][p])\n",
    "        max_ids = np.where(col == np.max(col))[0]\n",
    "        for max_id in max_ids:\n",
    "            max_metrics[max_id].append(i)\n",
    "        avgs.append(np.average(col))\n",
    "    return max_metrics, avgs\n",
    "\n",
    "def generate_summary_table(scores:Dict[str, Dict[str, Dict[str, int]]], metrics_groups:Dict[str,list] = METRICS_GROUPING_2022):\n",
    "    out = ''\n",
    "    metrics_names = []\n",
    "    for group in metrics_groups.values():\n",
    "        metrics_names.extend(group)\n",
    "    max_in_columns, avgs = find_max_on_col(scores, metrics_names=metrics_names)\n",
    "\n",
    "    aces_scores_col = []\n",
    "    for group, metrics in metrics_groups.items():\n",
    "        for metric in metrics:\n",
    "            row = {}\n",
    "            for p_id, p in enumerate(PHENOMENA):\n",
    "                if metric not in scores and metric not in METRIC_MAPPING_BACK:\n",
    "                    out += '&\\t ---- \\t' \n",
    "                    row[p] = 0.0\n",
    "                else:\n",
    "                    if metric not in scores:           \n",
    "                        metric = METRIC_MAPPING_BACK[metric]\n",
    "                    row[p] = scores[metric][p]\n",
    "            aces_scores_col.append(comp_aces_score(row))\n",
    "    max_aces_ids = np.where(list(aces_scores_col) == np.max(aces_scores_col))[0]\n",
    "\n",
    "    m_id = 0\n",
    "    for group, metrics in metrics_groups.items():\n",
    "        for metric in metrics:\n",
    "            out += format_metric(metric) + '\\t\\t\\t\\t\\t'\n",
    "            \n",
    "            for p_id, p in enumerate(PHENOMENA):\n",
    "                if metric not in scores and metric not in METRIC_MAPPING_BACK:\n",
    "                    out += '&\\t ---- \\t' \n",
    "                else:\n",
    "                    if metric not in scores:           \n",
    "                        metric = METRIC_MAPPING_BACK[metric]\n",
    "                        # print(p, metric, )\n",
    "                    # print(p, metric, scores[metric][p])\n",
    "                    if metric in metrics_names:\n",
    "                        max_ids = max_in_columns[metrics_names.index(metric)]\n",
    "                        out += '&\\t' + format_number(scores[metric][p], max_phenomena=p_id in max_ids) + '\\t'   \n",
    "                    elif metric in METRIC_NAMES_MAPPING:\n",
    "                        max_ids = max_in_columns[metrics_names.index(METRIC_NAMES_MAPPING[metric])]\n",
    "                        out += '&\\t' + format_number(scores[metric][p], max_phenomena=p_id in max_ids) + '\\t'   \n",
    "                    else:\n",
    "                        out += '&\\t ---- \\t' \n",
    "                                 \n",
    "            out += '&\\t' + format_number(aces_scores_col[m_id], dec='0.00', max_phenomena=m_id in max_aces_ids) + '\\t \\\\\\\\ \\n'\n",
    "            m_id += 1\n",
    "        out += '\\midrule \\n'\n",
    "    out += 'Average\\t\\t\\t\\t\\t'\n",
    "    for p_id, p in enumerate(PHENOMENA):\n",
    "        out += '&\\t' + format_number(avgs[p_id], max_phenomena=False) + '\\t'\n",
    "    out += '\\\\\\\\ \\n\\\\bottomrule\\t\\t\\t\\t\\t'\n",
    "    return out"
   ]
  },
  {
   "cell_type": "code",
   "execution_count": 76,
   "id": "207f2ff2",
   "metadata": {},
   "outputs": [
    {
     "name": "stdout",
     "output_type": "stream",
     "text": [
      "&\t ---- \t&\t ---- \t&\t ---- \t&\t ---- \t&\t ---- \t&\t ---- \t&\t ---- \t&\t ---- \t&\t ---- \t&\t ---- \t&\t ---- \t&\t ---- \t&\t ---- \t&\t ---- \t&\t ---- \t&\t ---- \t&\t ---- \t&\t ---- \t&\t ---- \t&\t ---- \t&\t ---- \t&\t ---- \t&\t ---- \t&\t ---- \t&\t ---- \t&\t ---- \t&\t ---- \t&\t ---- \t&\t ---- \t&\t ---- \t&\t ---- \t&\t ---- \t&\t ---- \t&\t ---- \t&\t ---- \t&\t ---- \t&\t ---- \t&\t ---- \t&\t ---- \t&\t ---- \t&\t ---- \t&\t ---- \t&\t ---- \t&\t ---- \t&\t ---- \t&\t ---- \t&\t ---- \t&\t ---- \t&\t ---- \t&\t ---- \t&\t ---- \t&\t ---- \t&\t ---- \t&\t ---- \t&\t ---- \t&\t ---- \t&\t ---- \t&\t ---- \t&\t ---- \t&\t ---- \t&\t ---- \t&\t ---- \t&\t ---- \t&\t ---- \t&\t ---- \t&\t ---- \t&\t ---- \t&\t ---- \t&\t ---- \t&\t ---- \t&\t ---- \t&\t ---- \t&\t ---- \t&\t ---- \t&\t ---- \t&\t ---- \t&\t ---- \t&\t ---- \t&\t ---- \t&\t ---- \t&\t ---- \t&\t ---- \t&\t ---- \t&\t ---- \t&\t ---- \t&\t ---- \t&\t ---- \t&\t ---- \t&\t ---- \t&\t ---- \t&\t ---- \t&\t ---- \t&\t ---- \t&\t ---- \t&\t ---- \t&\t ---- \t&\t ---- \t&\t ---- \t&\t ---- \t&\t ---- \t&\t ---- \t&\t ---- \t&\t ---- \t&\t ---- \t&\t ---- \t&\t ---- \t&\t ---- \t&\t ---- \t&\t ---- \t&\t ---- \t&\t ---- \t&\t ---- \t&\t ---- \t&\t ---- \t&\t ---- \t&\t ---- \t&\t ---- \t&\t ---- \t&\t ---- \t&\t ---- \t&\t ---- \t&\t ---- \t&\t ---- \t&\t ---- \t&\t ---- \t&\t ---- \t&\t ---- \t&\t ---- \t&\t ---- \t&\t ---- \t&\t ---- \t&\t ---- \t&\t ---- \t&\t ---- \t&\t ---- \t&\t ---- \t&\t ---- \t&\t ---- \t&\t ---- \t&\t ---- \t&\t ---- \t&\t ---- \t&\t ---- \t&\t ---- \t&\t ---- \t&\t ---- \t&\t ---- \t&\t ---- \t&\t ---- \t&\t ---- \t&\t ---- \t&\t ---- \t&\t ---- \t&\t ---- \t&\t ---- \t&\t ---- \t&\t ---- \t&\t ---- \t&\t ---- \t&\t ---- \t&\t ---- \t&\t ---- \t&\t ---- \t&\t ---- \t&\t ---- \t&\t ---- \t&\t ---- \t&\t ---- \t&\t ---- \t&\t ---- \t&\t ---- \t&\t ---- \t&\t ---- \t&\t ---- \t&\t ---- \t&\t ---- \t&\t ---- \t&\t ---- \t&\t ---- \t&\t ---- \t&\t ---- \t&\t ---- \t&\t ---- \t&\t ---- \t&\t ---- \t&\t ---- \t&\t ---- \t&\t ---- \t&\t ---- \t&\t ---- \t&\t ---- \t&\t ---- \t&\t ---- \t&\t ---- \t&\t ---- \t&\t ---- \t&\t ---- \t&\t ---- \t&\t ---- \t&\t ---- \t&\t ---- \t&\t ---- \t&\t ---- \t&\t ---- \t&\t ---- \t&\t ---- \t&\t ---- \t&\t ---- \t&\t ---- \t&\t ---- \t&\t ---- \t&\t ---- \t&\t ---- \t&\t ---- \t&\t ---- \t&\t ---- \t&\t ---- \t&\t ---- \t&\t ---- \t&\t ---- \t&\t ---- \t&\t ---- \t&\t ---- \t&\t ---- \t&\t ---- \t&\t ---- \t&\t ---- \t&\t ---- \t&\t ---- \t&\t ---- \tBERTScore\t\t\t\t\t&\t\\phantom{-}0.116\t&\t\\phantom{-}0.185\t&\t-0.010\t&\t\\phantom{-}1.376\t&\t\\phantom{-}0.304\t&\t-0.046\t&\t-0.064\t&\t-0.031\t&\t\\phantom{-}0.375\t&\t\\colorbox[HTML]{B2EAB1}{\\textbf{\\phantom{-}0.493}}\t&\t\\phantom{-}2.98\t \\\\ \n",
      "BLEU\t\t\t\t\t&\t\\colorbox[HTML]{B2EAB1}{\\textbf{\\phantom{-}0.222}}\t&\t\\phantom{-}0.253\t&\t-0.078\t&\t\\phantom{-}1.213\t&\t\\phantom{-}0.314\t&\t-1.093\t&\t-1.096\t&\t-0.293\t&\t\\phantom{-}0.655\t&\t\\phantom{-}0.365\t&\t-7.03\t \\\\ \n",
      "BLEURT-20\t\t\t\t\t&\t\\phantom{-}0.106\t&\t\\phantom{-}0.355\t&\t\\phantom{-}0.200\t&\t\\phantom{-}1.743\t&\t\\colorbox[HTML]{B2EAB1}{\\textbf{\\phantom{-}0.398}}\t&\t\\phantom{-}0.142\t&\t-0.002\t&\t\\phantom{-}0.054\t&\t\\colorbox[HTML]{B2EAB1}{\\textbf{\\phantom{-}0.826}}\t&\t\\phantom{-}0.318\t&\t\\phantom{-}7.06\t \\\\ \n",
      "chrF\t\t\t\t\t&\t\\phantom{-}0.061\t&\t\\phantom{-}0.253\t&\t-0.073\t&\t\\phantom{-}1.535\t&\t\\phantom{-}0.289\t&\t-0.286\t&\t-0.222\t&\t-0.087\t&\t\\phantom{-}0.656\t&\t\\phantom{-}0.107\t&\t\\phantom{-}1.07\t \\\\ \n",
      "COMET-22\t\t\t\t\t&\t\\phantom{-}0.012\t&\t\\phantom{-}0.102\t&\t\\phantom{-}0.064\t&\t\\phantom{-}0.271\t&\t\\phantom{-}0.087\t&\t\\phantom{-}0.080\t&\t\\phantom{-}0.041\t&\t\\phantom{-}0.034\t&\t-0.068\t&\t\\phantom{-}0.063\t&\t\\phantom{-}1.82\t \\\\ \n",
      "COMETKiwi\t\t\t\t\t&\t\\phantom{-}0.039\t&\t\\phantom{-}0.124\t&\t\\phantom{-}0.144\t&\t-0.036\t&\t\\phantom{-}0.057\t&\t\\phantom{-}0.144\t&\t\\phantom{-}0.088\t&\t\\phantom{-}0.063\t&\t-0.153\t&\t\\phantom{-}0.044\t&\t\\phantom{-}2.63\t \\\\ \n",
      "f200spBLEU\t\t\t\t\t&\t\\phantom{-}0.000\t&\t\\phantom{-}0.000\t&\t\\phantom{-}0.000\t&\t\\phantom{-}0.000\t&\t\\phantom{-}0.000\t&\t\\phantom{-}0.000\t&\t\\phantom{-}0.000\t&\t\\phantom{-}0.000\t&\t\\phantom{-}0.000\t&\t\\phantom{-}0.000\t&\t\\phantom{-}0.00\t \\\\ \n",
      "MS-COMET-QE-22\t\t\t\t\t&\t-0.038\t&\t\\phantom{-}0.369\t&\t\\phantom{-}0.243\t&\t\\phantom{-}2.572\t&\t\\phantom{-}0.119\t&\t\\phantom{-}0.242\t&\t\\phantom{-}0.174\t&\t\\phantom{-}0.090\t&\t-0.616\t&\t\\phantom{-}0.213\t&\t\\phantom{-}7.13\t \\\\ \n",
      "Random-sysname\t\t\t\t\t&\t ---- \t&\t ---- \t&\t ---- \t&\t ---- \t&\t ---- \t&\t ---- \t&\t ---- \t&\t ---- \t&\t ---- \t&\t ---- \t&\t\\phantom{-}0.00\t \\\\ \n",
      "YiSi-1\t\t\t\t\t&\t\\phantom{-}0.118\t&\t\\phantom{-}0.293\t&\t\\phantom{-}0.075\t&\t\\colorbox[HTML]{B2EAB1}{\\textbf{\\phantom{-}2.575}}\t&\t\\phantom{-}0.294\t&\t-0.036\t&\t-0.049\t&\t-0.044\t&\t\\phantom{-}0.190\t&\t\\phantom{-}0.378\t&\t\\phantom{-}5.05\t \\\\ \n",
      "\\midrule \n",
      "eBLEU\t\t\t\t\t&\t ---- \t&\t ---- \t&\t ---- \t&\t ---- \t&\t ---- \t&\t ---- \t&\t ---- \t&\t ---- \t&\t ---- \t&\t ---- \t&\t\\phantom{-}0.00\t \\\\ \n",
      "embed\\_llama\t\t\t\t\t&\t ---- \t&\t ---- \t&\t ---- \t&\t ---- \t&\t ---- \t&\t ---- \t&\t ---- \t&\t ---- \t&\t ---- \t&\t ---- \t&\t\\phantom{-}0.00\t \\\\ \n",
      "MaTESe\t\t\t\t\t&\t ---- \t&\t ---- \t&\t ---- \t&\t ---- \t&\t ---- \t&\t ---- \t&\t ---- \t&\t ---- \t&\t ---- \t&\t ---- \t&\t\\colorbox[HTML]{B2EAB1}{\\textbf{\\phantom{-}14.46}}\t \\\\ \n",
      "MetricX-23\t\t\t\t\t&\t ---- \t&\t ---- \t&\t ---- \t&\t ---- \t&\t ---- \t&\t ---- \t&\t ---- \t&\t ---- \t&\t ---- \t&\t ---- \t&\t\\phantom{-}0.00\t \\\\ \n",
      "MetricX-23-b\t\t\t\t\t&\t ---- \t&\t ---- \t&\t ---- \t&\t ---- \t&\t ---- \t&\t ---- \t&\t ---- \t&\t ---- \t&\t ---- \t&\t ---- \t&\t\\phantom{-}0.00\t \\\\ \n",
      "MetricX-23-c\t\t\t\t\t&\t ---- \t&\t ---- \t&\t ---- \t&\t ---- \t&\t ---- \t&\t ---- \t&\t ---- \t&\t ---- \t&\t ---- \t&\t ---- \t&\t\\phantom{-}0.00\t \\\\ \n",
      "partokengram\\_F\t\t\t\t\t&\t ---- \t&\t ---- \t&\t ---- \t&\t ---- \t&\t ---- \t&\t ---- \t&\t ---- \t&\t ---- \t&\t ---- \t&\t ---- \t&\t\\phantom{-}0.00\t \\\\ \n",
      "tokengram\\_F\t\t\t\t\t&\t ---- \t&\t ---- \t&\t ---- \t&\t ---- \t&\t ---- \t&\t ---- \t&\t ---- \t&\t ---- \t&\t ---- \t&\t ---- \t&\t\\phantom{-}0.00\t \\\\ \n",
      "XCOMET-Ensemble\t\t\t\t\t&\t ---- \t&\t ---- \t&\t ---- \t&\t ---- \t&\t ---- \t&\t ---- \t&\t ---- \t&\t ---- \t&\t ---- \t&\t ---- \t&\t\\phantom{-}0.00\t \\\\ \n",
      "XCOMET-XL\t\t\t\t\t&\t ---- \t&\t ---- \t&\t ---- \t&\t ---- \t&\t ---- \t&\t ---- \t&\t ---- \t&\t ---- \t&\t ---- \t&\t ---- \t&\t\\phantom{-}0.00\t \\\\ \n",
      "XCOMET-XXL\t\t\t\t\t&\t ---- \t&\t ---- \t&\t ---- \t&\t ---- \t&\t ---- \t&\t ---- \t&\t ---- \t&\t ---- \t&\t ---- \t&\t ---- \t&\t\\phantom{-}0.00\t \\\\ \n",
      "XLsim\t\t\t\t\t&\t ---- \t&\t ---- \t&\t ---- \t&\t ---- \t&\t ---- \t&\t ---- \t&\t ---- \t&\t ---- \t&\t ---- \t&\t ---- \t&\t\\phantom{-}0.00\t \\\\ \n",
      "\\midrule \n",
      "cometoid22-wmt21\t\t\t\t\t&\t ---- \t&\t ---- \t&\t ---- \t&\t ---- \t&\t ---- \t&\t ---- \t&\t ---- \t&\t ---- \t&\t ---- \t&\t ---- \t&\t\\phantom{-}0.00\t \\\\ \n",
      "cometoid22-wmt22\t\t\t\t\t&\t ---- \t&\t ---- \t&\t ---- \t&\t ---- \t&\t ---- \t&\t ---- \t&\t ---- \t&\t ---- \t&\t ---- \t&\t ---- \t&\t\\phantom{-}0.00\t \\\\ \n",
      "cometoid22-wmt23\t\t\t\t\t&\t ---- \t&\t ---- \t&\t ---- \t&\t ---- \t&\t ---- \t&\t ---- \t&\t ---- \t&\t ---- \t&\t ---- \t&\t ---- \t&\t\\phantom{-}0.00\t \\\\ \n",
      "CometKiwi-XL\t\t\t\t\t&\t ---- \t&\t ---- \t&\t ---- \t&\t ---- \t&\t ---- \t&\t ---- \t&\t ---- \t&\t ---- \t&\t ---- \t&\t ---- \t&\t\\phantom{-}0.00\t \\\\ \n",
      "CometKiwi-XXL\t\t\t\t\t&\t ---- \t&\t ---- \t&\t ---- \t&\t ---- \t&\t ---- \t&\t ---- \t&\t ---- \t&\t ---- \t&\t ---- \t&\t ---- \t&\t\\phantom{-}0.00\t \\\\ \n",
      "GEMBA-MQM\t\t\t\t\t&\t ---- \t&\t ---- \t&\t ---- \t&\t ---- \t&\t ---- \t&\t ---- \t&\t ---- \t&\t ---- \t&\t ---- \t&\t ---- \t&\t\\phantom{-}0.00\t \\\\ \n",
      "KG-BERTScore\t\t\t\t\t&\t\\phantom{-}0.127\t&\t\\phantom{-}0.399\t&\t\\phantom{-}0.463\t&\t-0.131\t&\t\\phantom{-}0.247\t&\t\\phantom{-}0.463\t&\t\\phantom{-}0.281\t&\t\\phantom{-}0.200\t&\t-0.496\t&\t\\phantom{-}0.126\t&\t\\phantom{-}8.50\t \\\\ \n",
      "MetricX-23-QE\t\t\t\t\t&\t ---- \t&\t ---- \t&\t ---- \t&\t ---- \t&\t ---- \t&\t ---- \t&\t ---- \t&\t ---- \t&\t ---- \t&\t ---- \t&\t\\phantom{-}0.00\t \\\\ \n",
      "MetricX-23-QE-b\t\t\t\t\t&\t ---- \t&\t ---- \t&\t ---- \t&\t ---- \t&\t ---- \t&\t ---- \t&\t ---- \t&\t ---- \t&\t ---- \t&\t ---- \t&\t\\phantom{-}0.00\t \\\\ \n",
      "MetricX-23-QE-c\t\t\t\t\t&\t ---- \t&\t ---- \t&\t ---- \t&\t ---- \t&\t ---- \t&\t ---- \t&\t ---- \t&\t ---- \t&\t ---- \t&\t ---- \t&\t\\phantom{-}0.00\t \\\\ \n",
      "XCOMET-QE-Ensemble\t\t\t\t\t&\t ---- \t&\t ---- \t&\t ---- \t&\t ---- \t&\t ---- \t&\t ---- \t&\t ---- \t&\t ---- \t&\t ---- \t&\t ---- \t&\t\\phantom{-}0.00\t \\\\ \n",
      "XLsimQE\t\t\t\t\t&\t ---- \t&\t ---- \t&\t ---- \t&\t ---- \t&\t ---- \t&\t ---- \t&\t ---- \t&\t ---- \t&\t ---- \t&\t ---- \t&\t\\phantom{-}0.00\t \\\\ \n",
      "\\midrule \n",
      "Average\t\t\t\t\t&\t----\t&\t----\t&\t----\t&\t----\t&\t----\t&\t----\t&\t----\t&\t----\t&\t----\t&\t----\t\\\\ \n",
      "\\bottomrule\t\t\t\t\t\n"
     ]
    }
   ],
   "source": [
    "METRIC_MAPPING_BACK = {'YISI-1':'YiSi-1', 'BERTScore':'BERTscore', 'COMETKiwi':'CometKiwi', 'MaTESe':'MATESE'}\n",
    "\n",
    "print(generate_summary_table(sensitivities, metrics_groups=METRICS_GROUPING_2023))"
   ]
  },
  {
   "cell_type": "code",
   "execution_count": 63,
   "id": "faf5ba18",
   "metadata": {},
   "outputs": [
    {
     "data": {
      "text/plain": [
       "False"
      ]
     },
     "execution_count": 63,
     "metadata": {},
     "output_type": "execute_result"
    }
   ],
   "source": [
    "'Random-sysname' in sensitivities"
   ]
  },
  {
   "cell_type": "code",
   "execution_count": 8,
   "id": "5e258a33",
   "metadata": {},
   "outputs": [
    {
     "data": {
      "text/plain": [
       "dict_keys(['COMET-QE', 'BERTScore', 'COMET-22', 'COMETKiwi', 'BLEU', 'BLEURT-20', 'COMET-20', 'Cross-QE', 'HWTSC-TLM', 'HWTSC-Teacher-Sim', 'KG-BERTScore', 'MS-COMET-22', 'MS-COMET-QE-22', 'UniTE', 'UniTE-ref', 'UniTE-src', 'YiSi-1', 'chrF', 'f101spBLEU', 'f200spBLEU', 'metricx_xl_DA_2019', 'metricx_xl_MQM_2020', 'metricx_xxl_DA_2019', 'metricx_xxl_MQM_2020', 'Calibri-COMET22', 'Calibri-COMET22-QE', 'CometKiwi-XL', 'CometKiwi-XXL', 'GEMBA-MQM', 'MEE4_stsb_xlm', 'MetricX-23', 'MetricX-23-QE', 'MetricX-23-QE-b', 'MetricX-23-QE-c', 'MetricX-23-b', 'MetricX-23-c', 'Random-sysname', 'XCOMET-Ensemble', 'XCOMET-QE-Ensemble', 'XCOMET-XL', 'XCOMET-XXL', 'XLsim', 'XLsimQE', 'cometoid22-wmt21', 'cometoid22-wmt22', 'cometoid22-wmt23', 'eBLEU', 'embed_llama', 'mt0regressor', 'mtsamp-bleurt0p2p1-qe', 'mtsamp-bleurtxv1p-qe', 'partokengram_F', 'prismRef', 'prismSrc2', 'spBLEU', 'tokengram_F'])"
      ]
     },
     "execution_count": 8,
     "metadata": {},
     "output_type": "execute_result"
    }
   ],
   "source": [
    "ACES_scores_2023.keys()"
   ]
  },
  {
   "cell_type": "markdown",
   "id": "06fd4eaf",
   "metadata": {},
   "source": [
    "# Plots"
   ]
  },
  {
   "cell_type": "code",
   "execution_count": 5,
   "id": "0c0ff544",
   "metadata": {},
   "outputs": [],
   "source": [
    "# create groups here:\n",
    "means = {metric:[sensitivities[metric][p] for p in phenomena] for metric in metrics_names}\n",
    "tau = {metric:[ACES_summary_2022[metric][p] for p in phenomena] for metric in metrics_names if metric in ACES_summary_2022}"
   ]
  },
  {
   "cell_type": "code",
   "execution_count": 15,
   "id": "5702877e",
   "metadata": {},
   "outputs": [
    {
     "name": "stdout",
     "output_type": "stream",
     "text": [
      "['COMET-20', 'YiSi-1', 'metricx_xxl_MQM_2020', 'UniTE', 'MATESE', 'f200spBLEU', 'metricx_xl_DA_2019', 'UniTE-src', 'MEE', 'KG-BERTScore', 'BERTScore', 'BLEU', 'Cross-QE', 'chrF', 'MEE4', 'MATESE-QE', 'HWTSC-Teacher-Sim', 'MEE2', 'REUSE', 'MS-COMET-QE-22', 'metricx_xl_MQM_2020', 'MS-COMET-22', 'HWTSC-TLM', 'COMET-22', 'metricx_xxl_DA_2019', 'UniTE-ref', 'f101spBLEU', 'BLEURT-20', 'COMETKiwi']\n"
     ]
    }
   ],
   "source": [
    "print(metrics_names)"
   ]
  },
  {
   "cell_type": "code",
   "execution_count": 23,
   "id": "1779554d",
   "metadata": {},
   "outputs": [],
   "source": [
    "# Group the metrics:\n",
    "bleus = [\"BLEU\", \"f101spBLEU\", \"f200spBLEU\"]\n",
    "comets = [\"COMET-20\", \"COMET-22\", \"MS-COMET-22\", \"MS-COMET-QE-22\"]\n",
    "xl = [\"metricx_xl_DA_2019\", \"metricx_xl_MQM_2020\", \"metricx_xxl_DA_2019\", \"metricx_xxl_MQM_2020\"]\n",
    "unite = [\"UniTE\", \"UniTE-src\", \"UniTE-ref\"]"
   ]
  },
  {
   "cell_type": "code",
   "execution_count": 41,
   "id": "ca277ffc",
   "metadata": {},
   "outputs": [
    {
     "data": {
      "application/vnd.plotly.v1+json": {
       "config": {
        "plotlyServerURL": "https://plot.ly"
       },
       "data": [
        {
         "line": {
          "color": "lightsteelblue"
         },
         "mode": "lines",
         "name": "Mean(good-bad) - COMET-20",
         "type": "scatter",
         "x": [
          "do not translate",
          "wrong language",
          "real-world knowledge",
          "punctuation",
          "overtranslation",
          "addition",
          "omission",
          "untranslated",
          "mistranslation",
          "undertranslation"
         ],
         "y": [
          0.30844965613513975,
          -0.3360413534415724,
          0.051205665914023514,
          0.22382445848782037,
          0.1472091318121557,
          0.07124896164192028,
          0.4041843768140193,
          1.4850423005866256,
          0.24166377919665463,
          0.061282151013702844
         ]
        },
        {
         "line": {
          "color": "aqua"
         },
         "mode": "lines",
         "name": "Mean(good-bad) - COMET-22",
         "type": "scatter",
         "x": [
          "do not translate",
          "wrong language",
          "real-world knowledge",
          "punctuation",
          "overtranslation",
          "addition",
          "omission",
          "untranslated",
          "mistranslation",
          "undertranslation"
         ],
         "y": [
          0.4270982024272212,
          -0.6934677117617782,
          0.28861883175373987,
          0.2744474024129998,
          0.48378424720659197,
          0.060463629648521644,
          0.339629071269166,
          0.5161487508004713,
          0.3888224376606538,
          0.2965250375195492
         ]
        },
        {
         "line": {
          "color": "aquamarine"
         },
         "mode": "lines",
         "name": "Mean(good-bad) - MS-COMET-22",
         "type": "scatter",
         "x": [
          "do not translate",
          "wrong language",
          "real-world knowledge",
          "punctuation",
          "overtranslation",
          "addition",
          "omission",
          "untranslated",
          "mistranslation",
          "undertranslation"
         ],
         "y": [
          0.20115046507594708,
          -0.18963099273046888,
          0.05948937273122362,
          0.185693157086426,
          0.21796871669156986,
          -0.04862210273686457,
          0.3466654318913089,
          1.0226120290555953,
          0.12490066389957773,
          0.11758822494727739
         ]
        },
        {
         "line": {
          "color": "darkturquoise"
         },
         "mode": "lines",
         "name": "Mean(good-bad) - MS-COMET-QE-22",
         "type": "scatter",
         "x": [
          "do not translate",
          "wrong language",
          "real-world knowledge",
          "punctuation",
          "overtranslation",
          "addition",
          "omission",
          "untranslated",
          "mistranslation",
          "undertranslation"
         ],
         "y": [
          0.0971822193093508,
          -0.6411461172922956,
          0.08985020538244132,
          0.20429418657557966,
          0.23907075397429878,
          -0.03703383918334948,
          0.3613250457689576,
          2.5203456742874515,
          0.23388764694290298,
          0.17451663739572223
         ]
        },
        {
         "line": {
          "color": "chocolate"
         },
         "mode": "lines",
         "name": "tau - COMET-20",
         "type": "scatter",
         "x": [
          "do not translate",
          "wrong language",
          "real-world knowledge",
          "punctuation",
          "overtranslation",
          "addition",
          "omission",
          "untranslated",
          "mistranslation",
          "undertranslation"
         ],
         "y": [
          0.9,
          0.033,
          0.267,
          0.706,
          0.314,
          0.437,
          0.808,
          0.748,
          0.378,
          0.112
         ]
        },
        {
         "line": {
          "color": "coral"
         },
         "mode": "lines",
         "name": "tau - COMET-22",
         "type": "scatter",
         "x": [
          "do not translate",
          "wrong language",
          "real-world knowledge",
          "punctuation",
          "overtranslation",
          "addition",
          "omission",
          "untranslated",
          "mistranslation",
          "undertranslation"
         ],
         "y": [
          0.9,
          -0.318,
          0.574,
          0.539,
          0.69,
          0.333,
          0.806,
          0.536,
          0.566,
          0.538
         ]
        },
        {
         "line": {
          "color": "crimson"
         },
         "mode": "lines",
         "name": "tau - MS-COMET-22",
         "type": "scatter",
         "x": [
          "do not translate",
          "wrong language",
          "real-world knowledge",
          "punctuation",
          "overtranslation",
          "addition",
          "omission",
          "untranslated",
          "mistranslation",
          "undertranslation"
         ],
         "y": [
          0.7,
          0.041,
          0.23,
          0.508,
          0.548,
          -0.219,
          0.686,
          0.504,
          0.397,
          0.29
         ]
        },
        {
         "line": {
          "color": "orange"
         },
         "mode": "lines",
         "name": "tau - MS-COMET-QE-22",
         "type": "scatter",
         "x": [
          "do not translate",
          "wrong language",
          "real-world knowledge",
          "punctuation",
          "overtranslation",
          "addition",
          "omission",
          "untranslated",
          "mistranslation",
          "undertranslation"
         ],
         "y": [
          0.24,
          -0.197,
          0.248,
          0.523,
          0.518,
          -0.177,
          0.678,
          0.388,
          0.439,
          0.386
         ]
        }
       ],
       "layout": {
        "template": {
         "data": {
          "bar": [
           {
            "error_x": {
             "color": "#2a3f5f"
            },
            "error_y": {
             "color": "#2a3f5f"
            },
            "marker": {
             "line": {
              "color": "#E5ECF6",
              "width": 0.5
             },
             "pattern": {
              "fillmode": "overlay",
              "size": 10,
              "solidity": 0.2
             }
            },
            "type": "bar"
           }
          ],
          "barpolar": [
           {
            "marker": {
             "line": {
              "color": "#E5ECF6",
              "width": 0.5
             },
             "pattern": {
              "fillmode": "overlay",
              "size": 10,
              "solidity": 0.2
             }
            },
            "type": "barpolar"
           }
          ],
          "carpet": [
           {
            "aaxis": {
             "endlinecolor": "#2a3f5f",
             "gridcolor": "white",
             "linecolor": "white",
             "minorgridcolor": "white",
             "startlinecolor": "#2a3f5f"
            },
            "baxis": {
             "endlinecolor": "#2a3f5f",
             "gridcolor": "white",
             "linecolor": "white",
             "minorgridcolor": "white",
             "startlinecolor": "#2a3f5f"
            },
            "type": "carpet"
           }
          ],
          "choropleth": [
           {
            "colorbar": {
             "outlinewidth": 0,
             "ticks": ""
            },
            "type": "choropleth"
           }
          ],
          "contour": [
           {
            "colorbar": {
             "outlinewidth": 0,
             "ticks": ""
            },
            "colorscale": [
             [
              0,
              "#0d0887"
             ],
             [
              0.1111111111111111,
              "#46039f"
             ],
             [
              0.2222222222222222,
              "#7201a8"
             ],
             [
              0.3333333333333333,
              "#9c179e"
             ],
             [
              0.4444444444444444,
              "#bd3786"
             ],
             [
              0.5555555555555556,
              "#d8576b"
             ],
             [
              0.6666666666666666,
              "#ed7953"
             ],
             [
              0.7777777777777778,
              "#fb9f3a"
             ],
             [
              0.8888888888888888,
              "#fdca26"
             ],
             [
              1,
              "#f0f921"
             ]
            ],
            "type": "contour"
           }
          ],
          "contourcarpet": [
           {
            "colorbar": {
             "outlinewidth": 0,
             "ticks": ""
            },
            "type": "contourcarpet"
           }
          ],
          "heatmap": [
           {
            "colorbar": {
             "outlinewidth": 0,
             "ticks": ""
            },
            "colorscale": [
             [
              0,
              "#0d0887"
             ],
             [
              0.1111111111111111,
              "#46039f"
             ],
             [
              0.2222222222222222,
              "#7201a8"
             ],
             [
              0.3333333333333333,
              "#9c179e"
             ],
             [
              0.4444444444444444,
              "#bd3786"
             ],
             [
              0.5555555555555556,
              "#d8576b"
             ],
             [
              0.6666666666666666,
              "#ed7953"
             ],
             [
              0.7777777777777778,
              "#fb9f3a"
             ],
             [
              0.8888888888888888,
              "#fdca26"
             ],
             [
              1,
              "#f0f921"
             ]
            ],
            "type": "heatmap"
           }
          ],
          "heatmapgl": [
           {
            "colorbar": {
             "outlinewidth": 0,
             "ticks": ""
            },
            "colorscale": [
             [
              0,
              "#0d0887"
             ],
             [
              0.1111111111111111,
              "#46039f"
             ],
             [
              0.2222222222222222,
              "#7201a8"
             ],
             [
              0.3333333333333333,
              "#9c179e"
             ],
             [
              0.4444444444444444,
              "#bd3786"
             ],
             [
              0.5555555555555556,
              "#d8576b"
             ],
             [
              0.6666666666666666,
              "#ed7953"
             ],
             [
              0.7777777777777778,
              "#fb9f3a"
             ],
             [
              0.8888888888888888,
              "#fdca26"
             ],
             [
              1,
              "#f0f921"
             ]
            ],
            "type": "heatmapgl"
           }
          ],
          "histogram": [
           {
            "marker": {
             "pattern": {
              "fillmode": "overlay",
              "size": 10,
              "solidity": 0.2
             }
            },
            "type": "histogram"
           }
          ],
          "histogram2d": [
           {
            "colorbar": {
             "outlinewidth": 0,
             "ticks": ""
            },
            "colorscale": [
             [
              0,
              "#0d0887"
             ],
             [
              0.1111111111111111,
              "#46039f"
             ],
             [
              0.2222222222222222,
              "#7201a8"
             ],
             [
              0.3333333333333333,
              "#9c179e"
             ],
             [
              0.4444444444444444,
              "#bd3786"
             ],
             [
              0.5555555555555556,
              "#d8576b"
             ],
             [
              0.6666666666666666,
              "#ed7953"
             ],
             [
              0.7777777777777778,
              "#fb9f3a"
             ],
             [
              0.8888888888888888,
              "#fdca26"
             ],
             [
              1,
              "#f0f921"
             ]
            ],
            "type": "histogram2d"
           }
          ],
          "histogram2dcontour": [
           {
            "colorbar": {
             "outlinewidth": 0,
             "ticks": ""
            },
            "colorscale": [
             [
              0,
              "#0d0887"
             ],
             [
              0.1111111111111111,
              "#46039f"
             ],
             [
              0.2222222222222222,
              "#7201a8"
             ],
             [
              0.3333333333333333,
              "#9c179e"
             ],
             [
              0.4444444444444444,
              "#bd3786"
             ],
             [
              0.5555555555555556,
              "#d8576b"
             ],
             [
              0.6666666666666666,
              "#ed7953"
             ],
             [
              0.7777777777777778,
              "#fb9f3a"
             ],
             [
              0.8888888888888888,
              "#fdca26"
             ],
             [
              1,
              "#f0f921"
             ]
            ],
            "type": "histogram2dcontour"
           }
          ],
          "mesh3d": [
           {
            "colorbar": {
             "outlinewidth": 0,
             "ticks": ""
            },
            "type": "mesh3d"
           }
          ],
          "parcoords": [
           {
            "line": {
             "colorbar": {
              "outlinewidth": 0,
              "ticks": ""
             }
            },
            "type": "parcoords"
           }
          ],
          "pie": [
           {
            "automargin": true,
            "type": "pie"
           }
          ],
          "scatter": [
           {
            "fillpattern": {
             "fillmode": "overlay",
             "size": 10,
             "solidity": 0.2
            },
            "type": "scatter"
           }
          ],
          "scatter3d": [
           {
            "line": {
             "colorbar": {
              "outlinewidth": 0,
              "ticks": ""
             }
            },
            "marker": {
             "colorbar": {
              "outlinewidth": 0,
              "ticks": ""
             }
            },
            "type": "scatter3d"
           }
          ],
          "scattercarpet": [
           {
            "marker": {
             "colorbar": {
              "outlinewidth": 0,
              "ticks": ""
             }
            },
            "type": "scattercarpet"
           }
          ],
          "scattergeo": [
           {
            "marker": {
             "colorbar": {
              "outlinewidth": 0,
              "ticks": ""
             }
            },
            "type": "scattergeo"
           }
          ],
          "scattergl": [
           {
            "marker": {
             "colorbar": {
              "outlinewidth": 0,
              "ticks": ""
             }
            },
            "type": "scattergl"
           }
          ],
          "scattermapbox": [
           {
            "marker": {
             "colorbar": {
              "outlinewidth": 0,
              "ticks": ""
             }
            },
            "type": "scattermapbox"
           }
          ],
          "scatterpolar": [
           {
            "marker": {
             "colorbar": {
              "outlinewidth": 0,
              "ticks": ""
             }
            },
            "type": "scatterpolar"
           }
          ],
          "scatterpolargl": [
           {
            "marker": {
             "colorbar": {
              "outlinewidth": 0,
              "ticks": ""
             }
            },
            "type": "scatterpolargl"
           }
          ],
          "scatterternary": [
           {
            "marker": {
             "colorbar": {
              "outlinewidth": 0,
              "ticks": ""
             }
            },
            "type": "scatterternary"
           }
          ],
          "surface": [
           {
            "colorbar": {
             "outlinewidth": 0,
             "ticks": ""
            },
            "colorscale": [
             [
              0,
              "#0d0887"
             ],
             [
              0.1111111111111111,
              "#46039f"
             ],
             [
              0.2222222222222222,
              "#7201a8"
             ],
             [
              0.3333333333333333,
              "#9c179e"
             ],
             [
              0.4444444444444444,
              "#bd3786"
             ],
             [
              0.5555555555555556,
              "#d8576b"
             ],
             [
              0.6666666666666666,
              "#ed7953"
             ],
             [
              0.7777777777777778,
              "#fb9f3a"
             ],
             [
              0.8888888888888888,
              "#fdca26"
             ],
             [
              1,
              "#f0f921"
             ]
            ],
            "type": "surface"
           }
          ],
          "table": [
           {
            "cells": {
             "fill": {
              "color": "#EBF0F8"
             },
             "line": {
              "color": "white"
             }
            },
            "header": {
             "fill": {
              "color": "#C8D4E3"
             },
             "line": {
              "color": "white"
             }
            },
            "type": "table"
           }
          ]
         },
         "layout": {
          "annotationdefaults": {
           "arrowcolor": "#2a3f5f",
           "arrowhead": 0,
           "arrowwidth": 1
          },
          "autotypenumbers": "strict",
          "coloraxis": {
           "colorbar": {
            "outlinewidth": 0,
            "ticks": ""
           }
          },
          "colorscale": {
           "diverging": [
            [
             0,
             "#8e0152"
            ],
            [
             0.1,
             "#c51b7d"
            ],
            [
             0.2,
             "#de77ae"
            ],
            [
             0.3,
             "#f1b6da"
            ],
            [
             0.4,
             "#fde0ef"
            ],
            [
             0.5,
             "#f7f7f7"
            ],
            [
             0.6,
             "#e6f5d0"
            ],
            [
             0.7,
             "#b8e186"
            ],
            [
             0.8,
             "#7fbc41"
            ],
            [
             0.9,
             "#4d9221"
            ],
            [
             1,
             "#276419"
            ]
           ],
           "sequential": [
            [
             0,
             "#0d0887"
            ],
            [
             0.1111111111111111,
             "#46039f"
            ],
            [
             0.2222222222222222,
             "#7201a8"
            ],
            [
             0.3333333333333333,
             "#9c179e"
            ],
            [
             0.4444444444444444,
             "#bd3786"
            ],
            [
             0.5555555555555556,
             "#d8576b"
            ],
            [
             0.6666666666666666,
             "#ed7953"
            ],
            [
             0.7777777777777778,
             "#fb9f3a"
            ],
            [
             0.8888888888888888,
             "#fdca26"
            ],
            [
             1,
             "#f0f921"
            ]
           ],
           "sequentialminus": [
            [
             0,
             "#0d0887"
            ],
            [
             0.1111111111111111,
             "#46039f"
            ],
            [
             0.2222222222222222,
             "#7201a8"
            ],
            [
             0.3333333333333333,
             "#9c179e"
            ],
            [
             0.4444444444444444,
             "#bd3786"
            ],
            [
             0.5555555555555556,
             "#d8576b"
            ],
            [
             0.6666666666666666,
             "#ed7953"
            ],
            [
             0.7777777777777778,
             "#fb9f3a"
            ],
            [
             0.8888888888888888,
             "#fdca26"
            ],
            [
             1,
             "#f0f921"
            ]
           ]
          },
          "colorway": [
           "#636efa",
           "#EF553B",
           "#00cc96",
           "#ab63fa",
           "#FFA15A",
           "#19d3f3",
           "#FF6692",
           "#B6E880",
           "#FF97FF",
           "#FECB52"
          ],
          "font": {
           "color": "#2a3f5f"
          },
          "geo": {
           "bgcolor": "white",
           "lakecolor": "white",
           "landcolor": "#E5ECF6",
           "showlakes": true,
           "showland": true,
           "subunitcolor": "white"
          },
          "hoverlabel": {
           "align": "left"
          },
          "hovermode": "closest",
          "mapbox": {
           "style": "light"
          },
          "paper_bgcolor": "white",
          "plot_bgcolor": "#E5ECF6",
          "polar": {
           "angularaxis": {
            "gridcolor": "white",
            "linecolor": "white",
            "ticks": ""
           },
           "bgcolor": "#E5ECF6",
           "radialaxis": {
            "gridcolor": "white",
            "linecolor": "white",
            "ticks": ""
           }
          },
          "scene": {
           "xaxis": {
            "backgroundcolor": "#E5ECF6",
            "gridcolor": "white",
            "gridwidth": 2,
            "linecolor": "white",
            "showbackground": true,
            "ticks": "",
            "zerolinecolor": "white"
           },
           "yaxis": {
            "backgroundcolor": "#E5ECF6",
            "gridcolor": "white",
            "gridwidth": 2,
            "linecolor": "white",
            "showbackground": true,
            "ticks": "",
            "zerolinecolor": "white"
           },
           "zaxis": {
            "backgroundcolor": "#E5ECF6",
            "gridcolor": "white",
            "gridwidth": 2,
            "linecolor": "white",
            "showbackground": true,
            "ticks": "",
            "zerolinecolor": "white"
           }
          },
          "shapedefaults": {
           "line": {
            "color": "#2a3f5f"
           }
          },
          "ternary": {
           "aaxis": {
            "gridcolor": "white",
            "linecolor": "white",
            "ticks": ""
           },
           "baxis": {
            "gridcolor": "white",
            "linecolor": "white",
            "ticks": ""
           },
           "bgcolor": "#E5ECF6",
           "caxis": {
            "gridcolor": "white",
            "linecolor": "white",
            "ticks": ""
           }
          },
          "title": {
           "x": 0.05
          },
          "xaxis": {
           "automargin": true,
           "gridcolor": "white",
           "linecolor": "white",
           "ticks": "",
           "title": {
            "standoff": 15
           },
           "zerolinecolor": "white",
           "zerolinewidth": 2
          },
          "yaxis": {
           "automargin": true,
           "gridcolor": "white",
           "linecolor": "white",
           "ticks": "",
           "title": {
            "standoff": 15
           },
           "zerolinecolor": "white",
           "zerolinewidth": 2
          }
         }
        },
        "title": {
         "text": "Mean(good-bad) tau"
        }
       }
      },
      "text/html": [
       "<div>                            <div id=\"31db717b-d58d-40b7-b891-26ea538b5125\" class=\"plotly-graph-div\" style=\"height:525px; width:100%;\"></div>            <script type=\"text/javascript\">                require([\"plotly\"], function(Plotly) {                    window.PLOTLYENV=window.PLOTLYENV || {};                                    if (document.getElementById(\"31db717b-d58d-40b7-b891-26ea538b5125\")) {                    Plotly.newPlot(                        \"31db717b-d58d-40b7-b891-26ea538b5125\",                        [{\"line\":{\"color\":\"lightsteelblue\"},\"mode\":\"lines\",\"name\":\"Mean(good-bad) - COMET-20\",\"x\":[\"do not translate\",\"wrong language\",\"real-world knowledge\",\"punctuation\",\"overtranslation\",\"addition\",\"omission\",\"untranslated\",\"mistranslation\",\"undertranslation\"],\"y\":[0.30844965613513975,-0.3360413534415724,0.051205665914023514,0.22382445848782037,0.1472091318121557,0.07124896164192028,0.4041843768140193,1.4850423005866256,0.24166377919665463,0.061282151013702844],\"type\":\"scatter\"},{\"line\":{\"color\":\"aqua\"},\"mode\":\"lines\",\"name\":\"Mean(good-bad) - COMET-22\",\"x\":[\"do not translate\",\"wrong language\",\"real-world knowledge\",\"punctuation\",\"overtranslation\",\"addition\",\"omission\",\"untranslated\",\"mistranslation\",\"undertranslation\"],\"y\":[0.4270982024272212,-0.6934677117617782,0.28861883175373987,0.2744474024129998,0.48378424720659197,0.060463629648521644,0.339629071269166,0.5161487508004713,0.3888224376606538,0.2965250375195492],\"type\":\"scatter\"},{\"line\":{\"color\":\"aquamarine\"},\"mode\":\"lines\",\"name\":\"Mean(good-bad) - MS-COMET-22\",\"x\":[\"do not translate\",\"wrong language\",\"real-world knowledge\",\"punctuation\",\"overtranslation\",\"addition\",\"omission\",\"untranslated\",\"mistranslation\",\"undertranslation\"],\"y\":[0.20115046507594708,-0.18963099273046888,0.05948937273122362,0.185693157086426,0.21796871669156986,-0.04862210273686457,0.3466654318913089,1.0226120290555953,0.12490066389957773,0.11758822494727739],\"type\":\"scatter\"},{\"line\":{\"color\":\"darkturquoise\"},\"mode\":\"lines\",\"name\":\"Mean(good-bad) - MS-COMET-QE-22\",\"x\":[\"do not translate\",\"wrong language\",\"real-world knowledge\",\"punctuation\",\"overtranslation\",\"addition\",\"omission\",\"untranslated\",\"mistranslation\",\"undertranslation\"],\"y\":[0.0971822193093508,-0.6411461172922956,0.08985020538244132,0.20429418657557966,0.23907075397429878,-0.03703383918334948,0.3613250457689576,2.5203456742874515,0.23388764694290298,0.17451663739572223],\"type\":\"scatter\"},{\"line\":{\"color\":\"chocolate\"},\"mode\":\"lines\",\"name\":\"tau - COMET-20\",\"x\":[\"do not translate\",\"wrong language\",\"real-world knowledge\",\"punctuation\",\"overtranslation\",\"addition\",\"omission\",\"untranslated\",\"mistranslation\",\"undertranslation\"],\"y\":[0.9,0.033,0.267,0.706,0.314,0.437,0.808,0.748,0.378,0.112],\"type\":\"scatter\"},{\"line\":{\"color\":\"coral\"},\"mode\":\"lines\",\"name\":\"tau - COMET-22\",\"x\":[\"do not translate\",\"wrong language\",\"real-world knowledge\",\"punctuation\",\"overtranslation\",\"addition\",\"omission\",\"untranslated\",\"mistranslation\",\"undertranslation\"],\"y\":[0.9,-0.318,0.574,0.539,0.69,0.333,0.806,0.536,0.566,0.538],\"type\":\"scatter\"},{\"line\":{\"color\":\"crimson\"},\"mode\":\"lines\",\"name\":\"tau - MS-COMET-22\",\"x\":[\"do not translate\",\"wrong language\",\"real-world knowledge\",\"punctuation\",\"overtranslation\",\"addition\",\"omission\",\"untranslated\",\"mistranslation\",\"undertranslation\"],\"y\":[0.7,0.041,0.23,0.508,0.548,-0.219,0.686,0.504,0.397,0.29],\"type\":\"scatter\"},{\"line\":{\"color\":\"orange\"},\"mode\":\"lines\",\"name\":\"tau - MS-COMET-QE-22\",\"x\":[\"do not translate\",\"wrong language\",\"real-world knowledge\",\"punctuation\",\"overtranslation\",\"addition\",\"omission\",\"untranslated\",\"mistranslation\",\"undertranslation\"],\"y\":[0.24,-0.197,0.248,0.523,0.518,-0.177,0.678,0.388,0.439,0.386],\"type\":\"scatter\"}],                        {\"template\":{\"data\":{\"histogram2dcontour\":[{\"type\":\"histogram2dcontour\",\"colorbar\":{\"outlinewidth\":0,\"ticks\":\"\"},\"colorscale\":[[0.0,\"#0d0887\"],[0.1111111111111111,\"#46039f\"],[0.2222222222222222,\"#7201a8\"],[0.3333333333333333,\"#9c179e\"],[0.4444444444444444,\"#bd3786\"],[0.5555555555555556,\"#d8576b\"],[0.6666666666666666,\"#ed7953\"],[0.7777777777777778,\"#fb9f3a\"],[0.8888888888888888,\"#fdca26\"],[1.0,\"#f0f921\"]]}],\"choropleth\":[{\"type\":\"choropleth\",\"colorbar\":{\"outlinewidth\":0,\"ticks\":\"\"}}],\"histogram2d\":[{\"type\":\"histogram2d\",\"colorbar\":{\"outlinewidth\":0,\"ticks\":\"\"},\"colorscale\":[[0.0,\"#0d0887\"],[0.1111111111111111,\"#46039f\"],[0.2222222222222222,\"#7201a8\"],[0.3333333333333333,\"#9c179e\"],[0.4444444444444444,\"#bd3786\"],[0.5555555555555556,\"#d8576b\"],[0.6666666666666666,\"#ed7953\"],[0.7777777777777778,\"#fb9f3a\"],[0.8888888888888888,\"#fdca26\"],[1.0,\"#f0f921\"]]}],\"heatmap\":[{\"type\":\"heatmap\",\"colorbar\":{\"outlinewidth\":0,\"ticks\":\"\"},\"colorscale\":[[0.0,\"#0d0887\"],[0.1111111111111111,\"#46039f\"],[0.2222222222222222,\"#7201a8\"],[0.3333333333333333,\"#9c179e\"],[0.4444444444444444,\"#bd3786\"],[0.5555555555555556,\"#d8576b\"],[0.6666666666666666,\"#ed7953\"],[0.7777777777777778,\"#fb9f3a\"],[0.8888888888888888,\"#fdca26\"],[1.0,\"#f0f921\"]]}],\"heatmapgl\":[{\"type\":\"heatmapgl\",\"colorbar\":{\"outlinewidth\":0,\"ticks\":\"\"},\"colorscale\":[[0.0,\"#0d0887\"],[0.1111111111111111,\"#46039f\"],[0.2222222222222222,\"#7201a8\"],[0.3333333333333333,\"#9c179e\"],[0.4444444444444444,\"#bd3786\"],[0.5555555555555556,\"#d8576b\"],[0.6666666666666666,\"#ed7953\"],[0.7777777777777778,\"#fb9f3a\"],[0.8888888888888888,\"#fdca26\"],[1.0,\"#f0f921\"]]}],\"contourcarpet\":[{\"type\":\"contourcarpet\",\"colorbar\":{\"outlinewidth\":0,\"ticks\":\"\"}}],\"contour\":[{\"type\":\"contour\",\"colorbar\":{\"outlinewidth\":0,\"ticks\":\"\"},\"colorscale\":[[0.0,\"#0d0887\"],[0.1111111111111111,\"#46039f\"],[0.2222222222222222,\"#7201a8\"],[0.3333333333333333,\"#9c179e\"],[0.4444444444444444,\"#bd3786\"],[0.5555555555555556,\"#d8576b\"],[0.6666666666666666,\"#ed7953\"],[0.7777777777777778,\"#fb9f3a\"],[0.8888888888888888,\"#fdca26\"],[1.0,\"#f0f921\"]]}],\"surface\":[{\"type\":\"surface\",\"colorbar\":{\"outlinewidth\":0,\"ticks\":\"\"},\"colorscale\":[[0.0,\"#0d0887\"],[0.1111111111111111,\"#46039f\"],[0.2222222222222222,\"#7201a8\"],[0.3333333333333333,\"#9c179e\"],[0.4444444444444444,\"#bd3786\"],[0.5555555555555556,\"#d8576b\"],[0.6666666666666666,\"#ed7953\"],[0.7777777777777778,\"#fb9f3a\"],[0.8888888888888888,\"#fdca26\"],[1.0,\"#f0f921\"]]}],\"mesh3d\":[{\"type\":\"mesh3d\",\"colorbar\":{\"outlinewidth\":0,\"ticks\":\"\"}}],\"scatter\":[{\"fillpattern\":{\"fillmode\":\"overlay\",\"size\":10,\"solidity\":0.2},\"type\":\"scatter\"}],\"parcoords\":[{\"type\":\"parcoords\",\"line\":{\"colorbar\":{\"outlinewidth\":0,\"ticks\":\"\"}}}],\"scatterpolargl\":[{\"type\":\"scatterpolargl\",\"marker\":{\"colorbar\":{\"outlinewidth\":0,\"ticks\":\"\"}}}],\"bar\":[{\"error_x\":{\"color\":\"#2a3f5f\"},\"error_y\":{\"color\":\"#2a3f5f\"},\"marker\":{\"line\":{\"color\":\"#E5ECF6\",\"width\":0.5},\"pattern\":{\"fillmode\":\"overlay\",\"size\":10,\"solidity\":0.2}},\"type\":\"bar\"}],\"scattergeo\":[{\"type\":\"scattergeo\",\"marker\":{\"colorbar\":{\"outlinewidth\":0,\"ticks\":\"\"}}}],\"scatterpolar\":[{\"type\":\"scatterpolar\",\"marker\":{\"colorbar\":{\"outlinewidth\":0,\"ticks\":\"\"}}}],\"histogram\":[{\"marker\":{\"pattern\":{\"fillmode\":\"overlay\",\"size\":10,\"solidity\":0.2}},\"type\":\"histogram\"}],\"scattergl\":[{\"type\":\"scattergl\",\"marker\":{\"colorbar\":{\"outlinewidth\":0,\"ticks\":\"\"}}}],\"scatter3d\":[{\"type\":\"scatter3d\",\"line\":{\"colorbar\":{\"outlinewidth\":0,\"ticks\":\"\"}},\"marker\":{\"colorbar\":{\"outlinewidth\":0,\"ticks\":\"\"}}}],\"scattermapbox\":[{\"type\":\"scattermapbox\",\"marker\":{\"colorbar\":{\"outlinewidth\":0,\"ticks\":\"\"}}}],\"scatterternary\":[{\"type\":\"scatterternary\",\"marker\":{\"colorbar\":{\"outlinewidth\":0,\"ticks\":\"\"}}}],\"scattercarpet\":[{\"type\":\"scattercarpet\",\"marker\":{\"colorbar\":{\"outlinewidth\":0,\"ticks\":\"\"}}}],\"carpet\":[{\"aaxis\":{\"endlinecolor\":\"#2a3f5f\",\"gridcolor\":\"white\",\"linecolor\":\"white\",\"minorgridcolor\":\"white\",\"startlinecolor\":\"#2a3f5f\"},\"baxis\":{\"endlinecolor\":\"#2a3f5f\",\"gridcolor\":\"white\",\"linecolor\":\"white\",\"minorgridcolor\":\"white\",\"startlinecolor\":\"#2a3f5f\"},\"type\":\"carpet\"}],\"table\":[{\"cells\":{\"fill\":{\"color\":\"#EBF0F8\"},\"line\":{\"color\":\"white\"}},\"header\":{\"fill\":{\"color\":\"#C8D4E3\"},\"line\":{\"color\":\"white\"}},\"type\":\"table\"}],\"barpolar\":[{\"marker\":{\"line\":{\"color\":\"#E5ECF6\",\"width\":0.5},\"pattern\":{\"fillmode\":\"overlay\",\"size\":10,\"solidity\":0.2}},\"type\":\"barpolar\"}],\"pie\":[{\"automargin\":true,\"type\":\"pie\"}]},\"layout\":{\"autotypenumbers\":\"strict\",\"colorway\":[\"#636efa\",\"#EF553B\",\"#00cc96\",\"#ab63fa\",\"#FFA15A\",\"#19d3f3\",\"#FF6692\",\"#B6E880\",\"#FF97FF\",\"#FECB52\"],\"font\":{\"color\":\"#2a3f5f\"},\"hovermode\":\"closest\",\"hoverlabel\":{\"align\":\"left\"},\"paper_bgcolor\":\"white\",\"plot_bgcolor\":\"#E5ECF6\",\"polar\":{\"bgcolor\":\"#E5ECF6\",\"angularaxis\":{\"gridcolor\":\"white\",\"linecolor\":\"white\",\"ticks\":\"\"},\"radialaxis\":{\"gridcolor\":\"white\",\"linecolor\":\"white\",\"ticks\":\"\"}},\"ternary\":{\"bgcolor\":\"#E5ECF6\",\"aaxis\":{\"gridcolor\":\"white\",\"linecolor\":\"white\",\"ticks\":\"\"},\"baxis\":{\"gridcolor\":\"white\",\"linecolor\":\"white\",\"ticks\":\"\"},\"caxis\":{\"gridcolor\":\"white\",\"linecolor\":\"white\",\"ticks\":\"\"}},\"coloraxis\":{\"colorbar\":{\"outlinewidth\":0,\"ticks\":\"\"}},\"colorscale\":{\"sequential\":[[0.0,\"#0d0887\"],[0.1111111111111111,\"#46039f\"],[0.2222222222222222,\"#7201a8\"],[0.3333333333333333,\"#9c179e\"],[0.4444444444444444,\"#bd3786\"],[0.5555555555555556,\"#d8576b\"],[0.6666666666666666,\"#ed7953\"],[0.7777777777777778,\"#fb9f3a\"],[0.8888888888888888,\"#fdca26\"],[1.0,\"#f0f921\"]],\"sequentialminus\":[[0.0,\"#0d0887\"],[0.1111111111111111,\"#46039f\"],[0.2222222222222222,\"#7201a8\"],[0.3333333333333333,\"#9c179e\"],[0.4444444444444444,\"#bd3786\"],[0.5555555555555556,\"#d8576b\"],[0.6666666666666666,\"#ed7953\"],[0.7777777777777778,\"#fb9f3a\"],[0.8888888888888888,\"#fdca26\"],[1.0,\"#f0f921\"]],\"diverging\":[[0,\"#8e0152\"],[0.1,\"#c51b7d\"],[0.2,\"#de77ae\"],[0.3,\"#f1b6da\"],[0.4,\"#fde0ef\"],[0.5,\"#f7f7f7\"],[0.6,\"#e6f5d0\"],[0.7,\"#b8e186\"],[0.8,\"#7fbc41\"],[0.9,\"#4d9221\"],[1,\"#276419\"]]},\"xaxis\":{\"gridcolor\":\"white\",\"linecolor\":\"white\",\"ticks\":\"\",\"title\":{\"standoff\":15},\"zerolinecolor\":\"white\",\"automargin\":true,\"zerolinewidth\":2},\"yaxis\":{\"gridcolor\":\"white\",\"linecolor\":\"white\",\"ticks\":\"\",\"title\":{\"standoff\":15},\"zerolinecolor\":\"white\",\"automargin\":true,\"zerolinewidth\":2},\"scene\":{\"xaxis\":{\"backgroundcolor\":\"#E5ECF6\",\"gridcolor\":\"white\",\"linecolor\":\"white\",\"showbackground\":true,\"ticks\":\"\",\"zerolinecolor\":\"white\",\"gridwidth\":2},\"yaxis\":{\"backgroundcolor\":\"#E5ECF6\",\"gridcolor\":\"white\",\"linecolor\":\"white\",\"showbackground\":true,\"ticks\":\"\",\"zerolinecolor\":\"white\",\"gridwidth\":2},\"zaxis\":{\"backgroundcolor\":\"#E5ECF6\",\"gridcolor\":\"white\",\"linecolor\":\"white\",\"showbackground\":true,\"ticks\":\"\",\"zerolinecolor\":\"white\",\"gridwidth\":2}},\"shapedefaults\":{\"line\":{\"color\":\"#2a3f5f\"}},\"annotationdefaults\":{\"arrowcolor\":\"#2a3f5f\",\"arrowhead\":0,\"arrowwidth\":1},\"geo\":{\"bgcolor\":\"white\",\"landcolor\":\"#E5ECF6\",\"subunitcolor\":\"white\",\"showland\":true,\"showlakes\":true,\"lakecolor\":\"white\"},\"title\":{\"x\":0.05},\"mapbox\":{\"style\":\"light\"}}},\"title\":{\"text\":\"Mean(good-bad) tau\"}},                        {\"responsive\": true}                    ).then(function(){\n",
       "                            \n",
       "var gd = document.getElementById('31db717b-d58d-40b7-b891-26ea538b5125');\n",
       "var x = new MutationObserver(function (mutations, observer) {{\n",
       "        var display = window.getComputedStyle(gd).display;\n",
       "        if (!display || display === 'none') {{\n",
       "            console.log([gd, 'removed!']);\n",
       "            Plotly.purge(gd);\n",
       "            observer.disconnect();\n",
       "        }}\n",
       "}});\n",
       "\n",
       "// Listen for the removal of the full notebook cells\n",
       "var notebookContainer = gd.closest('#notebook-container');\n",
       "if (notebookContainer) {{\n",
       "    x.observe(notebookContainer, {childList: true});\n",
       "}}\n",
       "\n",
       "// Listen for the clearing of the current output cell\n",
       "var outputEl = gd.closest('.output');\n",
       "if (outputEl) {{\n",
       "    x.observe(outputEl, {childList: true});\n",
       "}}\n",
       "\n",
       "                        })                };                });            </script>        </div>"
      ]
     },
     "metadata": {},
     "output_type": "display_data"
    }
   ],
   "source": [
    "grouped_line_plot([means, tau], comets, [\"Mean(good-bad)\", \"tau\"], phenomena)"
   ]
  },
  {
   "cell_type": "code",
   "execution_count": 38,
   "id": "cb61b6f1",
   "metadata": {},
   "outputs": [],
   "source": [
    "def grouped_line_plot(groups: List[Dict[str,list]], metrics_names: List[str], group_labels: List[str], phenomena: List[str]):\n",
    "    '''\n",
    "    Inputs: \n",
    "        1. means and tau scores\n",
    "        format = {\n",
    "            metric1: [score for phenomenon 1, score for phenomenon 2, ..]\n",
    "        }\n",
    "        2. A list of the labels for: \n",
    "            the groups (mean (good-bad), tau, ...)\n",
    "            metrics\n",
    "            phenomena (the order is important because in means and tau scores the scores are ordered acc. to phenomena)\n",
    "    '''\n",
    "    assert len(groups) > 0 and len(groups) == len(group_labels) and len(metrics_names) > 0\n",
    "    fig = go.Figure()\n",
    "    colors = [['lightsteelblue',  'aqua', 'aquamarine', 'darkturquoise'],\n",
    "        ['chocolate', 'coral', 'crimson', 'orange']]\n",
    "    for i,group in enumerate(groups):\n",
    "        for j,metric in enumerate(metrics_names):\n",
    "            fig.add_trace(go.Scatter(x=phenomena, y=group[metric],mode='lines',name=group_labels[i]+\" - \"+metric,\n",
    "                          line=dict(color=colors[i][j])))\n",
    "    fig.update_layout(\n",
    "        title=\" \".join(group_labels)\n",
    "        )\n",
    "    fig.show()"
   ]
  }
 ],
 "metadata": {
  "kernelspec": {
   "display_name": "Python 3 (ipykernel)",
   "language": "python",
   "name": "python3"
  },
  "language_info": {
   "codemirror_mode": {
    "name": "ipython",
    "version": 3
   },
   "file_extension": ".py",
   "mimetype": "text/x-python",
   "name": "python",
   "nbconvert_exporter": "python",
   "pygments_lexer": "ipython3",
   "version": "3.11.5"
  }
 },
 "nbformat": 4,
 "nbformat_minor": 5
}
