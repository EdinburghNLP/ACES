{
 "cells": [
  {
   "cell_type": "code",
   "execution_count": 1,
   "id": "aa50da46",
   "metadata": {},
   "outputs": [],
   "source": [
    "#!/usr/bin/env python3\n",
    "import os, sys\n",
    "sys.path.append(os.path.abspath(os.path.join(os.getcwd(), \"ACES_private/score_normalization\")))\n",
    "from normalize_scores_utils import *"
   ]
  },
  {
   "cell_type": "code",
   "execution_count": 2,
   "id": "6c4782ed",
   "metadata": {},
   "outputs": [],
   "source": [
    "# get the metric names from WMT scores\n",
    "lang_dir = '/mnt/c/Users/user/Desktop/work/metric_sensitivity_analysis/metric-scores/cs-en'\n",
    "files = os.listdir(lang_dir)\n",
    "WMT_metric_names = []\n",
    "os.listdir(lang_dir)\n",
    "for file in files:\n",
    "    if '.seg.score' in file:\n",
    "        WMT_metric_names.append(file[:-15])"
   ]
  },
  {
   "cell_type": "code",
   "execution_count": null,
   "id": "d86bb7d2",
   "metadata": {},
   "outputs": [],
   "source": [
    "ACES_scores_2023['BERTscore'] = 'BERTScore'"
   ]
  },
  {
   "cell_type": "code",
   "execution_count": 20,
   "id": "1e105b88",
   "metadata": {},
   "outputs": [
    {
     "data": {
      "text/plain": [
       "{'BERTscore',\n",
       " 'COMET',\n",
       " 'CometKiwi',\n",
       " 'CometKiwi-XL',\n",
       " 'CometKiwi-XXL',\n",
       " 'GEMBA-MQM',\n",
       " 'KG-BERTScore',\n",
       " 'MS-COMET-QE-22',\n",
       " 'MaTESe',\n",
       " 'MetricX-23',\n",
       " 'MetricX-23-QE',\n",
       " 'MetricX-23-QE-b',\n",
       " 'MetricX-23-QE-c',\n",
       " 'MetricX-23-b',\n",
       " 'MetricX-23-c',\n",
       " 'Random-sysname',\n",
       " 'XCOMET-Ensemble',\n",
       " 'XCOMET-QE-Ensemble',\n",
       " 'XCOMET-XL',\n",
       " 'XCOMET-XXL',\n",
       " 'XLsim',\n",
       " 'XLsimQE',\n",
       " 'cometoid22-wmt21',\n",
       " 'cometoid22-wmt22',\n",
       " 'cometoid22-wmt23',\n",
       " 'eBLEU',\n",
       " 'embed_llama',\n",
       " 'partokengram_F',\n",
       " 'spBLEU',\n",
       " 'tokengram_F'}"
      ]
     },
     "execution_count": 20,
     "metadata": {},
     "output_type": "execute_result"
    }
   ],
   "source": [
    "set(ACES_scores_2023.keys()) - set(np.unique(WMT_metric_names))"
   ]
  },
  {
   "cell_type": "code",
   "execution_count": 21,
   "id": "2e82b7ad",
   "metadata": {},
   "outputs": [
    {
     "data": {
      "text/plain": [
       "{'BERTscore',\n",
       " 'BLEU',\n",
       " 'BLEURT-20',\n",
       " 'COMET',\n",
       " 'CometKiwi',\n",
       " 'CometKiwi-XL',\n",
       " 'CometKiwi-XXL',\n",
       " 'GEMBA-MQM',\n",
       " 'KG-BERTScore',\n",
       " 'MS-COMET-QE-22',\n",
       " 'MaTESe',\n",
       " 'MetricX-23',\n",
       " 'MetricX-23-QE',\n",
       " 'MetricX-23-QE-b',\n",
       " 'MetricX-23-QE-c',\n",
       " 'MetricX-23-b',\n",
       " 'MetricX-23-c',\n",
       " 'Random-sysname',\n",
       " 'XCOMET-Ensemble',\n",
       " 'XCOMET-QE-Ensemble',\n",
       " 'XCOMET-XL',\n",
       " 'XCOMET-XXL',\n",
       " 'XLsim',\n",
       " 'XLsimQE',\n",
       " 'YiSi-1',\n",
       " 'chrF',\n",
       " 'cometoid22-wmt21',\n",
       " 'cometoid22-wmt22',\n",
       " 'cometoid22-wmt23',\n",
       " 'eBLEU',\n",
       " 'embed_llama',\n",
       " 'partokengram_F',\n",
       " 'spBLEU',\n",
       " 'tokengram_F'}"
      ]
     },
     "execution_count": 21,
     "metadata": {},
     "output_type": "execute_result"
    }
   ],
   "source": [
    "set(ACES_scores_2023.keys())"
   ]
  },
  {
   "cell_type": "code",
   "execution_count": 18,
   "id": "09e701dd",
   "metadata": {},
   "outputs": [
    {
     "data": {
      "text/plain": [
       "{'BERTScore',\n",
       " 'BLEU',\n",
       " 'BLEURT-20',\n",
       " 'COMET-20',\n",
       " 'COMET-22',\n",
       " 'COMET-QE-Baseline',\n",
       " 'COMETKiwi',\n",
       " 'Cross-QE',\n",
       " 'HWTSC-TLM',\n",
       " 'HWTSC-Teacher-Sim',\n",
       " 'KG-BERTScore',\n",
       " 'MATESE',\n",
       " 'MATESE-QE',\n",
       " 'MEE',\n",
       " 'MEE2',\n",
       " 'MEE4',\n",
       " 'MS-COMET-22',\n",
       " 'MS-COMET-QE-22',\n",
       " 'REUSE',\n",
       " 'UniTE',\n",
       " 'UniTE-ref',\n",
       " 'UniTE-src',\n",
       " 'YiSi-1',\n",
       " 'chrF',\n",
       " 'f101spBLEU',\n",
       " 'f200spBLEU',\n",
       " 'metricx_xl_DA_2019',\n",
       " 'metricx_xl_MQM_2020',\n",
       " 'metricx_xxl_DA_2019',\n",
       " 'metricx_xxl_MQM_2020'}"
      ]
     },
     "execution_count": 18,
     "metadata": {},
     "output_type": "execute_result"
    }
   ],
   "source": [
    "set(ACES_scores_2022.keys())"
   ]
  },
  {
   "cell_type": "code",
   "execution_count": 17,
   "id": "a3c2d694",
   "metadata": {},
   "outputs": [
    {
     "data": {
      "text/plain": [
       "{'BERTScore',\n",
       " 'BLEU',\n",
       " 'BLEURT-20',\n",
       " 'COMET-20',\n",
       " 'COMET-22',\n",
       " 'COMET-Q',\n",
       " 'COMETKiw',\n",
       " 'Cross-Q',\n",
       " 'HWTSC-TL',\n",
       " 'HWTSC-Teacher-Si',\n",
       " 'KG-BERTScor',\n",
       " 'MS-COMET-22',\n",
       " 'MS-COMET-QE-2',\n",
       " 'REUS',\n",
       " 'UniTE',\n",
       " 'UniTE-ref',\n",
       " 'UniTE-sr',\n",
       " 'YiSi-1',\n",
       " 'chrF',\n",
       " 'f101spBLEU',\n",
       " 'f200spBLEU',\n",
       " 'metricx_xl_DA_2019',\n",
       " 'metricx_xl_MQM_2020',\n",
       " 'metricx_xxl_DA_2019',\n",
       " 'metricx_xxl_MQM_2020'}"
      ]
     },
     "execution_count": 17,
     "metadata": {},
     "output_type": "execute_result"
    }
   ],
   "source": [
    "set(np.unique(WMT_metric_names))"
   ]
  },
  {
   "cell_type": "code",
   "execution_count": 3,
   "id": "aa5b6318",
   "metadata": {},
   "outputs": [
    {
     "name": "stderr",
     "output_type": "stream",
     "text": [
      "INFO:logger:Loading ACES the scores...\n",
      "INFO:logger:Loading ACES the scores...\n"
     ]
    },
    {
     "ename": "NameError",
     "evalue": "name 'ACES_scores' is not defined",
     "output_type": "error",
     "traceback": [
      "\u001b[0;31m---------------------------------------------------------------------------\u001b[0m",
      "\u001b[0;31mNameError\u001b[0m                                 Traceback (most recent call last)",
      "\u001b[1;32m/mnt/c/Users/user/Desktop/work/ACES_private/score_normalization/score_normalization.ipynb Cell 8\u001b[0m line \u001b[0;36m9\n\u001b[1;32m      <a href='vscode-notebook-cell://wsl%2Bubuntu-20.04/mnt/c/Users/user/Desktop/work/ACES_private/score_normalization/score_normalization.ipynb#X11sdnNjb2RlLXJlbW90ZQ%3D%3D?line=5'>6</a>\u001b[0m ACES_scores_2023 \u001b[39m=\u001b[39m load_ACES_scores(ACES_scores_2023_path, good_token\u001b[39m=\u001b[39m\u001b[39m'\u001b[39m\u001b[39m-good\u001b[39m\u001b[39m'\u001b[39m, bad_token\u001b[39m=\u001b[39m\u001b[39m'\u001b[39m\u001b[39m-bad\u001b[39m\u001b[39m'\u001b[39m)\n\u001b[1;32m      <a href='vscode-notebook-cell://wsl%2Bubuntu-20.04/mnt/c/Users/user/Desktop/work/ACES_private/score_normalization/score_normalization.ipynb#X11sdnNjb2RlLXJlbW90ZQ%3D%3D?line=7'>8</a>\u001b[0m \u001b[39m# Load WMT scores\u001b[39;00m\n\u001b[0;32m----> <a href='vscode-notebook-cell://wsl%2Bubuntu-20.04/mnt/c/Users/user/Desktop/work/ACES_private/score_normalization/score_normalization.ipynb#X11sdnNjb2RlLXJlbW90ZQ%3D%3D?line=8'>9</a>\u001b[0m metrics_names \u001b[39m=\u001b[39m \u001b[39mset\u001b[39m(ACES_scores\u001b[39m.\u001b[39mkeys())\n\u001b[1;32m     <a href='vscode-notebook-cell://wsl%2Bubuntu-20.04/mnt/c/Users/user/Desktop/work/ACES_private/score_normalization/score_normalization.ipynb#X11sdnNjb2RlLXJlbW90ZQ%3D%3D?line=9'>10</a>\u001b[0m WMT_scores_path \u001b[39m=\u001b[39m \u001b[39m'\u001b[39m\u001b[39m/mnt/c/Users/user/Desktop/work/metric_sensitivity_analysis/metric-scores\u001b[39m\u001b[39m'\u001b[39m\n\u001b[1;32m     <a href='vscode-notebook-cell://wsl%2Bubuntu-20.04/mnt/c/Users/user/Desktop/work/ACES_private/score_normalization/score_normalization.ipynb#X11sdnNjb2RlLXJlbW90ZQ%3D%3D?line=10'>11</a>\u001b[0m WMT_scores \u001b[39m=\u001b[39m load_WMT_scores(WMT_scores_path, metrics_names)\n",
      "\u001b[0;31mNameError\u001b[0m: name 'ACES_scores' is not defined"
     ]
    }
   ],
   "source": [
    "# Load the ACES scores\n",
    "ACES_scores_2022_path = '/mnt/c/Users/user/Desktop/work/metric_sensitivity_analysis/scored_aces_final.tsv'\n",
    "ACES_scores_2023_path = '/mnt/c/Users/user/Desktop/work/metric_sensitivity_analysis/aces-scored-2023-metrics-all-langs-only.quote_errors_removed.tsv'\n",
    "# 2023 later\n",
    "ACES_scores_2022 = load_ACES_scores(ACES_scores_2022_path, good_token='.-good', bad_token='.-bad')\n",
    "ACES_scores_2023 = load_ACES_scores(ACES_scores_2023_path, good_token='-good', bad_token='-bad')\n",
    "\n",
    "# Load WMT scores\n",
    "metrics_names = set(ACES_scores.keys())\n",
    "WMT_scores_path = '/mnt/c/Users/user/Desktop/work/metric_sensitivity_analysis/metric-scores'\n",
    "WMT_scores = load_WMT_scores(WMT_scores_path, metrics_names)\n",
    "metrics_names = list(set(ACES_scores.keys()).intersection(set(WMT_scores.keys())))\n",
    "\n",
    "# Get sensitivities (we only get mean(good-bad)) of the normalized scores\n",
    "sensitivities, _, _, phenomena = calculate_sensitivities(ACES_scores, WMT_scores, mapping=PHENOMENA_MAPPING)\n",
    "\n",
    "# load the ACES scores from the paper\n",
    "ACES_summary_2022 = load_ACES_scores_summary_2022()"
   ]
  },
  {
   "cell_type": "code",
   "execution_count": 4,
   "id": "25044bbc",
   "metadata": {},
   "outputs": [
    {
     "data": {
      "text/plain": [
       "{'BERTScore',\n",
       " 'COMET-20',\n",
       " 'COMET-22',\n",
       " 'COMET-QE-Baseline',\n",
       " 'COMETKiwi',\n",
       " 'Cross-QE',\n",
       " 'HWTSC-TLM',\n",
       " 'HWTSC-Teacher-Sim',\n",
       " 'MATESE',\n",
       " 'MATESE-QE',\n",
       " 'MEE',\n",
       " 'MEE2',\n",
       " 'MEE4',\n",
       " 'MS-COMET-22',\n",
       " 'REUSE',\n",
       " 'UniTE',\n",
       " 'UniTE-ref',\n",
       " 'UniTE-src',\n",
       " 'f101spBLEU',\n",
       " 'f200spBLEU',\n",
       " 'metricx_xl_DA_2019',\n",
       " 'metricx_xl_MQM_2020',\n",
       " 'metricx_xxl_DA_2019',\n",
       " 'metricx_xxl_MQM_2020'}"
      ]
     },
     "execution_count": 4,
     "metadata": {},
     "output_type": "execute_result"
    }
   ],
   "source": [
    "set(ACES_scores_2022.keys()) - set(ACES_scores_2023.keys())"
   ]
  },
  {
   "cell_type": "code",
   "execution_count": 5,
   "id": "0e5ef21f",
   "metadata": {},
   "outputs": [
    {
     "data": {
      "text/plain": [
       "{'BERTscore',\n",
       " 'COMET',\n",
       " 'CometKiwi',\n",
       " 'CometKiwi-XL',\n",
       " 'CometKiwi-XXL',\n",
       " 'GEMBA-MQM',\n",
       " 'MaTESe',\n",
       " 'MetricX-23',\n",
       " 'MetricX-23-QE',\n",
       " 'MetricX-23-QE-b',\n",
       " 'MetricX-23-QE-c',\n",
       " 'MetricX-23-b',\n",
       " 'MetricX-23-c',\n",
       " 'Random-sysname',\n",
       " 'XCOMET-Ensemble',\n",
       " 'XCOMET-QE-Ensemble',\n",
       " 'XCOMET-XL',\n",
       " 'XCOMET-XXL',\n",
       " 'XLsim',\n",
       " 'XLsimQE',\n",
       " 'cometoid22-wmt21',\n",
       " 'cometoid22-wmt22',\n",
       " 'cometoid22-wmt23',\n",
       " 'eBLEU',\n",
       " 'embed_llama',\n",
       " 'partokengram_F',\n",
       " 'spBLEU',\n",
       " 'tokengram_F'}"
      ]
     },
     "execution_count": 5,
     "metadata": {},
     "output_type": "execute_result"
    }
   ],
   "source": [
    "set(ACES_scores_2023.keys()) - set(ACES_scores_2022.keys())"
   ]
  },
  {
   "cell_type": "code",
   "execution_count": 14,
   "id": "fbd03228",
   "metadata": {},
   "outputs": [
    {
     "data": {
      "text/plain": [
       "True"
      ]
     },
     "execution_count": 14,
     "metadata": {},
     "output_type": "execute_result"
    }
   ],
   "source": [
    "\"ambiguous-translation-wrong-sense-frequent\" == \"ambiguous-translation-wrong-sense-frequent\""
   ]
  },
  {
   "cell_type": "code",
   "execution_count": 13,
   "id": "0c2588b1",
   "metadata": {},
   "outputs": [
    {
     "data": {
      "text/plain": [
       "{'ambiguous-translation-wrong-sense-frequent',\n",
       " 'ambiguous-translation-wrong-sense-infrequent',\n",
       " 'punctuation:deletion_quotes'}"
      ]
     },
     "execution_count": 13,
     "metadata": {},
     "output_type": "execute_result"
    }
   ],
   "source": [
    "set(ACES_scores_2022['BLEU'].keys()) - set(ACES_scores['BLEU'].keys())"
   ]
  },
  {
   "cell_type": "code",
   "execution_count": 54,
   "id": "249e2eaf",
   "metadata": {},
   "outputs": [
    {
     "name": "stdout",
     "output_type": "stream",
     "text": [
      "['MS-COMET-22.-good', 'MS-COMET-22.-bad', 'UniTE-ref.-good', 'UniTE-ref.-bad', 'UniTE.-good', 'UniTE.-bad', 'metricx_xl_DA_2019.-good', 'metricx_xl_DA_2019.-bad', 'metricx_xxl_MQM_2020.-good', 'metricx_xxl_MQM_2020.-bad', 'COMET-22.-good', 'COMET-22.-bad', 'metricx_xxl_DA_2019.-good', 'metricx_xxl_DA_2019.-bad', 'metricx_xl_MQM_2020.-good', 'metricx_xl_MQM_2020.-bad', 'COMETKiwi.-good', 'COMETKiwi.-bad', 'MS-COMET-QE-22.-good', 'MS-COMET-QE-22.-bad', 'HWTSC-Teacher-Sim.-good', 'HWTSC-Teacher-Sim.-bad', 'Cross-QE.-good', 'Cross-QE.-bad', 'UniTE-src.-good', 'UniTE-src.-bad', 'HWTSC-TLM.-good', 'HWTSC-TLM.-bad', 'KG-BERTScore.-good', 'KG-BERTScore.-bad', 'YiSi-1.-good', 'YiSi-1.-bad', 'chrF.-good', 'chrF.-bad', 'BLEURT-20.-good', 'BLEURT-20.-bad', 'f200spBLEU.-good', 'f200spBLEU.-bad', 'f101spBLEU.-good', 'f101spBLEU.-bad', 'COMET-QE-Baseline.-good', 'COMET-QE-Baseline.-bad', 'BLEU.-good', 'BLEU.-bad', 'BERTScore.-good', 'BERTScore.-bad', 'COMET-20.-good', 'COMET-20.-bad', 'good-translation', 'incorrect-translation', 'MATESE.-good', 'MATESE.-bad', 'MEE.-good', 'MEE.-bad', 'MEE4.-good', 'MEE4.-bad', 'MEE2.-good', 'MEE2.-bad', 'REUSE.-good', 'REUSE.-bad', 'MATESE-QE.-good', 'MATESE-QE.-bad']\n"
     ]
    }
   ],
   "source": [
    "print(\"MS-COMET-22.-good\tMS-COMET-22.-bad\tUniTE-ref.-good\tUniTE-ref.-bad\tUniTE.-good\tUniTE.-bad\tmetricx_xl_DA_2019.-good\tmetricx_xl_DA_2019.-bad\tmetricx_xxl_MQM_2020.-good\tmetricx_xxl_MQM_2020.-bad\tCOMET-22.-good\tCOMET-22.-bad\tmetricx_xxl_DA_2019.-good\tmetricx_xxl_DA_2019.-bad\tmetricx_xl_MQM_2020.-good\tmetricx_xl_MQM_2020.-bad\tCOMETKiwi.-good\tCOMETKiwi.-bad\tMS-COMET-QE-22.-good\tMS-COMET-QE-22.-bad\tHWTSC-Teacher-Sim.-good\tHWTSC-Teacher-Sim.-bad\tCross-QE.-good\tCross-QE.-bad\tUniTE-src.-good\tUniTE-src.-bad\tHWTSC-TLM.-good\tHWTSC-TLM.-bad\tKG-BERTScore.-good\tKG-BERTScore.-bad\tYiSi-1.-good\tYiSi-1.-bad\tchrF.-good\tchrF.-bad\tBLEURT-20.-good\tBLEURT-20.-bad\tf200spBLEU.-good\tf200spBLEU.-bad\tf101spBLEU.-good\tf101spBLEU.-bad\tCOMET-QE-Baseline.-good\tCOMET-QE-Baseline.-bad\tBLEU.-good\tBLEU.-bad\tBERTScore.-good\tBERTScore.-bad\tCOMET-20.-good\tCOMET-20.-bad\tgood-translation\tincorrect-translation\tMATESE.-good\tMATESE.-bad\tMEE.-good\tMEE.-bad\tMEE4.-good\tMEE4.-bad\tMEE2.-good\tMEE2.-bad\tREUSE.-good\tREUSE.-bad\tMATESE-QE.-good\tMATESE-QE.-bad\".split())"
   ]
  },
  {
   "cell_type": "code",
   "execution_count": 58,
   "id": "5ffc40e2",
   "metadata": {},
   "outputs": [
    {
     "data": {
      "text/plain": [
       "{'do not translate': 0.30844965613513975,\n",
       " 'wrong language': -0.3360413534415724,\n",
       " 'real-world knowledge': 0.051205665914023514,\n",
       " 'punctuation': 0.22382445848782037,\n",
       " 'overtranslation': 0.1472091318121557,\n",
       " 'addition': 0.07124896164192028,\n",
       " 'omission': 0.4041843768140193,\n",
       " 'untranslated': 1.4850423005866256,\n",
       " 'mistranslation': 0.24166377919665463,\n",
       " 'undertranslation': 0.061282151013702844}"
      ]
     },
     "execution_count": 58,
     "metadata": {},
     "output_type": "execute_result"
    }
   ],
   "source": [
    "sensitivities['COMET-20']"
   ]
  },
  {
   "cell_type": "code",
   "execution_count": null,
   "id": "4dfc58e2",
   "metadata": {},
   "outputs": [],
   "source": []
  },
  {
   "cell_type": "code",
   "execution_count": 13,
   "id": "759776ab",
   "metadata": {},
   "outputs": [
    {
     "data": {
      "text/plain": [
       "True"
      ]
     },
     "execution_count": 13,
     "metadata": {},
     "output_type": "execute_result"
    }
   ],
   "source": [
    "metrics_names == list(sensitivities.keys())"
   ]
  },
  {
   "cell_type": "code",
   "execution_count": 5,
   "id": "0c0ff544",
   "metadata": {},
   "outputs": [],
   "source": [
    "# create groups here:\n",
    "means = {metric:[sensitivities[metric][p] for p in phenomena] for metric in metrics_names}\n",
    "tau = {metric:[ACES_summary_2022[metric][p] for p in phenomena] for metric in metrics_names if metric in ACES_summary_2022}"
   ]
  },
  {
   "cell_type": "code",
   "execution_count": 15,
   "id": "5702877e",
   "metadata": {},
   "outputs": [
    {
     "name": "stdout",
     "output_type": "stream",
     "text": [
      "['COMET-20', 'YiSi-1', 'metricx_xxl_MQM_2020', 'UniTE', 'MATESE', 'f200spBLEU', 'metricx_xl_DA_2019', 'UniTE-src', 'MEE', 'KG-BERTScore', 'BERTScore', 'BLEU', 'Cross-QE', 'chrF', 'MEE4', 'MATESE-QE', 'HWTSC-Teacher-Sim', 'MEE2', 'REUSE', 'MS-COMET-QE-22', 'metricx_xl_MQM_2020', 'MS-COMET-22', 'HWTSC-TLM', 'COMET-22', 'metricx_xxl_DA_2019', 'UniTE-ref', 'f101spBLEU', 'BLEURT-20', 'COMETKiwi']\n"
     ]
    }
   ],
   "source": [
    "print(metrics_names)"
   ]
  },
  {
   "cell_type": "code",
   "execution_count": 17,
   "id": "66d9235e",
   "metadata": {},
   "outputs": [
    {
     "data": {
      "text/plain": [
       "False"
      ]
     },
     "execution_count": 17,
     "metadata": {},
     "output_type": "execute_result"
    }
   ],
   "source": [
    "\"spBLEU\" in ACES_scores.keys()"
   ]
  },
  {
   "cell_type": "code",
   "execution_count": 18,
   "id": "3f9fce08",
   "metadata": {},
   "outputs": [
    {
     "data": {
      "text/plain": [
       "False"
      ]
     },
     "execution_count": 18,
     "metadata": {},
     "output_type": "execute_result"
    }
   ],
   "source": [
    "\"spBLEU\" in WMT_scores.keys()"
   ]
  },
  {
   "cell_type": "code",
   "execution_count": 24,
   "id": "9c3c9065",
   "metadata": {},
   "outputs": [
    {
     "data": {
      "text/plain": [
       "True"
      ]
     },
     "execution_count": 24,
     "metadata": {},
     "output_type": "execute_result"
    }
   ],
   "source": [
    "\"BERTScore\" in metrics_names"
   ]
  },
  {
   "cell_type": "code",
   "execution_count": 23,
   "id": "1779554d",
   "metadata": {},
   "outputs": [],
   "source": [
    "# Group the metrics:\n",
    "bleus = [\"BLEU\", \"f101spBLEU\", \"f200spBLEU\"]\n",
    "comets = [\"COMET-20\", \"COMET-22\", \"MS-COMET-22\", \"MS-COMET-QE-22\"]\n",
    "xl = [\"metricx_xl_DA_2019\", \"metricx_xl_MQM_2020\", \"metricx_xxl_DA_2019\", \"metricx_xxl_MQM_2020\"]\n",
    "unite = [\"UniTE\", \"UniTE-src\", \"UniTE-ref\"]\n",
    "\n",
    "# From the Paper:\n",
    "baseline_metrics: {\"BLEU\":[\"BLEU\", \"\", \"token-level\"], \n",
    "                   \"spBLEU\":[\"f101spBLEU\", \"f200spBLEU\"],\n",
    "                   \"chrF\":[\"chrF\"],\n",
    "                   \"BERTScore\":[\"BERTScore\"],\n",
    "\n",
    "                    }"
   ]
  },
  {
   "cell_type": "code",
   "execution_count": 41,
   "id": "ca277ffc",
   "metadata": {},
   "outputs": [
    {
     "data": {
      "application/vnd.plotly.v1+json": {
       "config": {
        "plotlyServerURL": "https://plot.ly"
       },
       "data": [
        {
         "line": {
          "color": "lightsteelblue"
         },
         "mode": "lines",
         "name": "Mean(good-bad) - COMET-20",
         "type": "scatter",
         "x": [
          "do not translate",
          "wrong language",
          "real-world knowledge",
          "punctuation",
          "overtranslation",
          "addition",
          "omission",
          "untranslated",
          "mistranslation",
          "undertranslation"
         ],
         "y": [
          0.30844965613513975,
          -0.3360413534415724,
          0.051205665914023514,
          0.22382445848782037,
          0.1472091318121557,
          0.07124896164192028,
          0.4041843768140193,
          1.4850423005866256,
          0.24166377919665463,
          0.061282151013702844
         ]
        },
        {
         "line": {
          "color": "aqua"
         },
         "mode": "lines",
         "name": "Mean(good-bad) - COMET-22",
         "type": "scatter",
         "x": [
          "do not translate",
          "wrong language",
          "real-world knowledge",
          "punctuation",
          "overtranslation",
          "addition",
          "omission",
          "untranslated",
          "mistranslation",
          "undertranslation"
         ],
         "y": [
          0.4270982024272212,
          -0.6934677117617782,
          0.28861883175373987,
          0.2744474024129998,
          0.48378424720659197,
          0.060463629648521644,
          0.339629071269166,
          0.5161487508004713,
          0.3888224376606538,
          0.2965250375195492
         ]
        },
        {
         "line": {
          "color": "aquamarine"
         },
         "mode": "lines",
         "name": "Mean(good-bad) - MS-COMET-22",
         "type": "scatter",
         "x": [
          "do not translate",
          "wrong language",
          "real-world knowledge",
          "punctuation",
          "overtranslation",
          "addition",
          "omission",
          "untranslated",
          "mistranslation",
          "undertranslation"
         ],
         "y": [
          0.20115046507594708,
          -0.18963099273046888,
          0.05948937273122362,
          0.185693157086426,
          0.21796871669156986,
          -0.04862210273686457,
          0.3466654318913089,
          1.0226120290555953,
          0.12490066389957773,
          0.11758822494727739
         ]
        },
        {
         "line": {
          "color": "darkturquoise"
         },
         "mode": "lines",
         "name": "Mean(good-bad) - MS-COMET-QE-22",
         "type": "scatter",
         "x": [
          "do not translate",
          "wrong language",
          "real-world knowledge",
          "punctuation",
          "overtranslation",
          "addition",
          "omission",
          "untranslated",
          "mistranslation",
          "undertranslation"
         ],
         "y": [
          0.0971822193093508,
          -0.6411461172922956,
          0.08985020538244132,
          0.20429418657557966,
          0.23907075397429878,
          -0.03703383918334948,
          0.3613250457689576,
          2.5203456742874515,
          0.23388764694290298,
          0.17451663739572223
         ]
        },
        {
         "line": {
          "color": "chocolate"
         },
         "mode": "lines",
         "name": "tau - COMET-20",
         "type": "scatter",
         "x": [
          "do not translate",
          "wrong language",
          "real-world knowledge",
          "punctuation",
          "overtranslation",
          "addition",
          "omission",
          "untranslated",
          "mistranslation",
          "undertranslation"
         ],
         "y": [
          0.9,
          0.033,
          0.267,
          0.706,
          0.314,
          0.437,
          0.808,
          0.748,
          0.378,
          0.112
         ]
        },
        {
         "line": {
          "color": "coral"
         },
         "mode": "lines",
         "name": "tau - COMET-22",
         "type": "scatter",
         "x": [
          "do not translate",
          "wrong language",
          "real-world knowledge",
          "punctuation",
          "overtranslation",
          "addition",
          "omission",
          "untranslated",
          "mistranslation",
          "undertranslation"
         ],
         "y": [
          0.9,
          -0.318,
          0.574,
          0.539,
          0.69,
          0.333,
          0.806,
          0.536,
          0.566,
          0.538
         ]
        },
        {
         "line": {
          "color": "crimson"
         },
         "mode": "lines",
         "name": "tau - MS-COMET-22",
         "type": "scatter",
         "x": [
          "do not translate",
          "wrong language",
          "real-world knowledge",
          "punctuation",
          "overtranslation",
          "addition",
          "omission",
          "untranslated",
          "mistranslation",
          "undertranslation"
         ],
         "y": [
          0.7,
          0.041,
          0.23,
          0.508,
          0.548,
          -0.219,
          0.686,
          0.504,
          0.397,
          0.29
         ]
        },
        {
         "line": {
          "color": "orange"
         },
         "mode": "lines",
         "name": "tau - MS-COMET-QE-22",
         "type": "scatter",
         "x": [
          "do not translate",
          "wrong language",
          "real-world knowledge",
          "punctuation",
          "overtranslation",
          "addition",
          "omission",
          "untranslated",
          "mistranslation",
          "undertranslation"
         ],
         "y": [
          0.24,
          -0.197,
          0.248,
          0.523,
          0.518,
          -0.177,
          0.678,
          0.388,
          0.439,
          0.386
         ]
        }
       ],
       "layout": {
        "template": {
         "data": {
          "bar": [
           {
            "error_x": {
             "color": "#2a3f5f"
            },
            "error_y": {
             "color": "#2a3f5f"
            },
            "marker": {
             "line": {
              "color": "#E5ECF6",
              "width": 0.5
             },
             "pattern": {
              "fillmode": "overlay",
              "size": 10,
              "solidity": 0.2
             }
            },
            "type": "bar"
           }
          ],
          "barpolar": [
           {
            "marker": {
             "line": {
              "color": "#E5ECF6",
              "width": 0.5
             },
             "pattern": {
              "fillmode": "overlay",
              "size": 10,
              "solidity": 0.2
             }
            },
            "type": "barpolar"
           }
          ],
          "carpet": [
           {
            "aaxis": {
             "endlinecolor": "#2a3f5f",
             "gridcolor": "white",
             "linecolor": "white",
             "minorgridcolor": "white",
             "startlinecolor": "#2a3f5f"
            },
            "baxis": {
             "endlinecolor": "#2a3f5f",
             "gridcolor": "white",
             "linecolor": "white",
             "minorgridcolor": "white",
             "startlinecolor": "#2a3f5f"
            },
            "type": "carpet"
           }
          ],
          "choropleth": [
           {
            "colorbar": {
             "outlinewidth": 0,
             "ticks": ""
            },
            "type": "choropleth"
           }
          ],
          "contour": [
           {
            "colorbar": {
             "outlinewidth": 0,
             "ticks": ""
            },
            "colorscale": [
             [
              0,
              "#0d0887"
             ],
             [
              0.1111111111111111,
              "#46039f"
             ],
             [
              0.2222222222222222,
              "#7201a8"
             ],
             [
              0.3333333333333333,
              "#9c179e"
             ],
             [
              0.4444444444444444,
              "#bd3786"
             ],
             [
              0.5555555555555556,
              "#d8576b"
             ],
             [
              0.6666666666666666,
              "#ed7953"
             ],
             [
              0.7777777777777778,
              "#fb9f3a"
             ],
             [
              0.8888888888888888,
              "#fdca26"
             ],
             [
              1,
              "#f0f921"
             ]
            ],
            "type": "contour"
           }
          ],
          "contourcarpet": [
           {
            "colorbar": {
             "outlinewidth": 0,
             "ticks": ""
            },
            "type": "contourcarpet"
           }
          ],
          "heatmap": [
           {
            "colorbar": {
             "outlinewidth": 0,
             "ticks": ""
            },
            "colorscale": [
             [
              0,
              "#0d0887"
             ],
             [
              0.1111111111111111,
              "#46039f"
             ],
             [
              0.2222222222222222,
              "#7201a8"
             ],
             [
              0.3333333333333333,
              "#9c179e"
             ],
             [
              0.4444444444444444,
              "#bd3786"
             ],
             [
              0.5555555555555556,
              "#d8576b"
             ],
             [
              0.6666666666666666,
              "#ed7953"
             ],
             [
              0.7777777777777778,
              "#fb9f3a"
             ],
             [
              0.8888888888888888,
              "#fdca26"
             ],
             [
              1,
              "#f0f921"
             ]
            ],
            "type": "heatmap"
           }
          ],
          "heatmapgl": [
           {
            "colorbar": {
             "outlinewidth": 0,
             "ticks": ""
            },
            "colorscale": [
             [
              0,
              "#0d0887"
             ],
             [
              0.1111111111111111,
              "#46039f"
             ],
             [
              0.2222222222222222,
              "#7201a8"
             ],
             [
              0.3333333333333333,
              "#9c179e"
             ],
             [
              0.4444444444444444,
              "#bd3786"
             ],
             [
              0.5555555555555556,
              "#d8576b"
             ],
             [
              0.6666666666666666,
              "#ed7953"
             ],
             [
              0.7777777777777778,
              "#fb9f3a"
             ],
             [
              0.8888888888888888,
              "#fdca26"
             ],
             [
              1,
              "#f0f921"
             ]
            ],
            "type": "heatmapgl"
           }
          ],
          "histogram": [
           {
            "marker": {
             "pattern": {
              "fillmode": "overlay",
              "size": 10,
              "solidity": 0.2
             }
            },
            "type": "histogram"
           }
          ],
          "histogram2d": [
           {
            "colorbar": {
             "outlinewidth": 0,
             "ticks": ""
            },
            "colorscale": [
             [
              0,
              "#0d0887"
             ],
             [
              0.1111111111111111,
              "#46039f"
             ],
             [
              0.2222222222222222,
              "#7201a8"
             ],
             [
              0.3333333333333333,
              "#9c179e"
             ],
             [
              0.4444444444444444,
              "#bd3786"
             ],
             [
              0.5555555555555556,
              "#d8576b"
             ],
             [
              0.6666666666666666,
              "#ed7953"
             ],
             [
              0.7777777777777778,
              "#fb9f3a"
             ],
             [
              0.8888888888888888,
              "#fdca26"
             ],
             [
              1,
              "#f0f921"
             ]
            ],
            "type": "histogram2d"
           }
          ],
          "histogram2dcontour": [
           {
            "colorbar": {
             "outlinewidth": 0,
             "ticks": ""
            },
            "colorscale": [
             [
              0,
              "#0d0887"
             ],
             [
              0.1111111111111111,
              "#46039f"
             ],
             [
              0.2222222222222222,
              "#7201a8"
             ],
             [
              0.3333333333333333,
              "#9c179e"
             ],
             [
              0.4444444444444444,
              "#bd3786"
             ],
             [
              0.5555555555555556,
              "#d8576b"
             ],
             [
              0.6666666666666666,
              "#ed7953"
             ],
             [
              0.7777777777777778,
              "#fb9f3a"
             ],
             [
              0.8888888888888888,
              "#fdca26"
             ],
             [
              1,
              "#f0f921"
             ]
            ],
            "type": "histogram2dcontour"
           }
          ],
          "mesh3d": [
           {
            "colorbar": {
             "outlinewidth": 0,
             "ticks": ""
            },
            "type": "mesh3d"
           }
          ],
          "parcoords": [
           {
            "line": {
             "colorbar": {
              "outlinewidth": 0,
              "ticks": ""
             }
            },
            "type": "parcoords"
           }
          ],
          "pie": [
           {
            "automargin": true,
            "type": "pie"
           }
          ],
          "scatter": [
           {
            "fillpattern": {
             "fillmode": "overlay",
             "size": 10,
             "solidity": 0.2
            },
            "type": "scatter"
           }
          ],
          "scatter3d": [
           {
            "line": {
             "colorbar": {
              "outlinewidth": 0,
              "ticks": ""
             }
            },
            "marker": {
             "colorbar": {
              "outlinewidth": 0,
              "ticks": ""
             }
            },
            "type": "scatter3d"
           }
          ],
          "scattercarpet": [
           {
            "marker": {
             "colorbar": {
              "outlinewidth": 0,
              "ticks": ""
             }
            },
            "type": "scattercarpet"
           }
          ],
          "scattergeo": [
           {
            "marker": {
             "colorbar": {
              "outlinewidth": 0,
              "ticks": ""
             }
            },
            "type": "scattergeo"
           }
          ],
          "scattergl": [
           {
            "marker": {
             "colorbar": {
              "outlinewidth": 0,
              "ticks": ""
             }
            },
            "type": "scattergl"
           }
          ],
          "scattermapbox": [
           {
            "marker": {
             "colorbar": {
              "outlinewidth": 0,
              "ticks": ""
             }
            },
            "type": "scattermapbox"
           }
          ],
          "scatterpolar": [
           {
            "marker": {
             "colorbar": {
              "outlinewidth": 0,
              "ticks": ""
             }
            },
            "type": "scatterpolar"
           }
          ],
          "scatterpolargl": [
           {
            "marker": {
             "colorbar": {
              "outlinewidth": 0,
              "ticks": ""
             }
            },
            "type": "scatterpolargl"
           }
          ],
          "scatterternary": [
           {
            "marker": {
             "colorbar": {
              "outlinewidth": 0,
              "ticks": ""
             }
            },
            "type": "scatterternary"
           }
          ],
          "surface": [
           {
            "colorbar": {
             "outlinewidth": 0,
             "ticks": ""
            },
            "colorscale": [
             [
              0,
              "#0d0887"
             ],
             [
              0.1111111111111111,
              "#46039f"
             ],
             [
              0.2222222222222222,
              "#7201a8"
             ],
             [
              0.3333333333333333,
              "#9c179e"
             ],
             [
              0.4444444444444444,
              "#bd3786"
             ],
             [
              0.5555555555555556,
              "#d8576b"
             ],
             [
              0.6666666666666666,
              "#ed7953"
             ],
             [
              0.7777777777777778,
              "#fb9f3a"
             ],
             [
              0.8888888888888888,
              "#fdca26"
             ],
             [
              1,
              "#f0f921"
             ]
            ],
            "type": "surface"
           }
          ],
          "table": [
           {
            "cells": {
             "fill": {
              "color": "#EBF0F8"
             },
             "line": {
              "color": "white"
             }
            },
            "header": {
             "fill": {
              "color": "#C8D4E3"
             },
             "line": {
              "color": "white"
             }
            },
            "type": "table"
           }
          ]
         },
         "layout": {
          "annotationdefaults": {
           "arrowcolor": "#2a3f5f",
           "arrowhead": 0,
           "arrowwidth": 1
          },
          "autotypenumbers": "strict",
          "coloraxis": {
           "colorbar": {
            "outlinewidth": 0,
            "ticks": ""
           }
          },
          "colorscale": {
           "diverging": [
            [
             0,
             "#8e0152"
            ],
            [
             0.1,
             "#c51b7d"
            ],
            [
             0.2,
             "#de77ae"
            ],
            [
             0.3,
             "#f1b6da"
            ],
            [
             0.4,
             "#fde0ef"
            ],
            [
             0.5,
             "#f7f7f7"
            ],
            [
             0.6,
             "#e6f5d0"
            ],
            [
             0.7,
             "#b8e186"
            ],
            [
             0.8,
             "#7fbc41"
            ],
            [
             0.9,
             "#4d9221"
            ],
            [
             1,
             "#276419"
            ]
           ],
           "sequential": [
            [
             0,
             "#0d0887"
            ],
            [
             0.1111111111111111,
             "#46039f"
            ],
            [
             0.2222222222222222,
             "#7201a8"
            ],
            [
             0.3333333333333333,
             "#9c179e"
            ],
            [
             0.4444444444444444,
             "#bd3786"
            ],
            [
             0.5555555555555556,
             "#d8576b"
            ],
            [
             0.6666666666666666,
             "#ed7953"
            ],
            [
             0.7777777777777778,
             "#fb9f3a"
            ],
            [
             0.8888888888888888,
             "#fdca26"
            ],
            [
             1,
             "#f0f921"
            ]
           ],
           "sequentialminus": [
            [
             0,
             "#0d0887"
            ],
            [
             0.1111111111111111,
             "#46039f"
            ],
            [
             0.2222222222222222,
             "#7201a8"
            ],
            [
             0.3333333333333333,
             "#9c179e"
            ],
            [
             0.4444444444444444,
             "#bd3786"
            ],
            [
             0.5555555555555556,
             "#d8576b"
            ],
            [
             0.6666666666666666,
             "#ed7953"
            ],
            [
             0.7777777777777778,
             "#fb9f3a"
            ],
            [
             0.8888888888888888,
             "#fdca26"
            ],
            [
             1,
             "#f0f921"
            ]
           ]
          },
          "colorway": [
           "#636efa",
           "#EF553B",
           "#00cc96",
           "#ab63fa",
           "#FFA15A",
           "#19d3f3",
           "#FF6692",
           "#B6E880",
           "#FF97FF",
           "#FECB52"
          ],
          "font": {
           "color": "#2a3f5f"
          },
          "geo": {
           "bgcolor": "white",
           "lakecolor": "white",
           "landcolor": "#E5ECF6",
           "showlakes": true,
           "showland": true,
           "subunitcolor": "white"
          },
          "hoverlabel": {
           "align": "left"
          },
          "hovermode": "closest",
          "mapbox": {
           "style": "light"
          },
          "paper_bgcolor": "white",
          "plot_bgcolor": "#E5ECF6",
          "polar": {
           "angularaxis": {
            "gridcolor": "white",
            "linecolor": "white",
            "ticks": ""
           },
           "bgcolor": "#E5ECF6",
           "radialaxis": {
            "gridcolor": "white",
            "linecolor": "white",
            "ticks": ""
           }
          },
          "scene": {
           "xaxis": {
            "backgroundcolor": "#E5ECF6",
            "gridcolor": "white",
            "gridwidth": 2,
            "linecolor": "white",
            "showbackground": true,
            "ticks": "",
            "zerolinecolor": "white"
           },
           "yaxis": {
            "backgroundcolor": "#E5ECF6",
            "gridcolor": "white",
            "gridwidth": 2,
            "linecolor": "white",
            "showbackground": true,
            "ticks": "",
            "zerolinecolor": "white"
           },
           "zaxis": {
            "backgroundcolor": "#E5ECF6",
            "gridcolor": "white",
            "gridwidth": 2,
            "linecolor": "white",
            "showbackground": true,
            "ticks": "",
            "zerolinecolor": "white"
           }
          },
          "shapedefaults": {
           "line": {
            "color": "#2a3f5f"
           }
          },
          "ternary": {
           "aaxis": {
            "gridcolor": "white",
            "linecolor": "white",
            "ticks": ""
           },
           "baxis": {
            "gridcolor": "white",
            "linecolor": "white",
            "ticks": ""
           },
           "bgcolor": "#E5ECF6",
           "caxis": {
            "gridcolor": "white",
            "linecolor": "white",
            "ticks": ""
           }
          },
          "title": {
           "x": 0.05
          },
          "xaxis": {
           "automargin": true,
           "gridcolor": "white",
           "linecolor": "white",
           "ticks": "",
           "title": {
            "standoff": 15
           },
           "zerolinecolor": "white",
           "zerolinewidth": 2
          },
          "yaxis": {
           "automargin": true,
           "gridcolor": "white",
           "linecolor": "white",
           "ticks": "",
           "title": {
            "standoff": 15
           },
           "zerolinecolor": "white",
           "zerolinewidth": 2
          }
         }
        },
        "title": {
         "text": "Mean(good-bad) tau"
        }
       }
      },
      "text/html": [
       "<div>                            <div id=\"31db717b-d58d-40b7-b891-26ea538b5125\" class=\"plotly-graph-div\" style=\"height:525px; width:100%;\"></div>            <script type=\"text/javascript\">                require([\"plotly\"], function(Plotly) {                    window.PLOTLYENV=window.PLOTLYENV || {};                                    if (document.getElementById(\"31db717b-d58d-40b7-b891-26ea538b5125\")) {                    Plotly.newPlot(                        \"31db717b-d58d-40b7-b891-26ea538b5125\",                        [{\"line\":{\"color\":\"lightsteelblue\"},\"mode\":\"lines\",\"name\":\"Mean(good-bad) - COMET-20\",\"x\":[\"do not translate\",\"wrong language\",\"real-world knowledge\",\"punctuation\",\"overtranslation\",\"addition\",\"omission\",\"untranslated\",\"mistranslation\",\"undertranslation\"],\"y\":[0.30844965613513975,-0.3360413534415724,0.051205665914023514,0.22382445848782037,0.1472091318121557,0.07124896164192028,0.4041843768140193,1.4850423005866256,0.24166377919665463,0.061282151013702844],\"type\":\"scatter\"},{\"line\":{\"color\":\"aqua\"},\"mode\":\"lines\",\"name\":\"Mean(good-bad) - COMET-22\",\"x\":[\"do not translate\",\"wrong language\",\"real-world knowledge\",\"punctuation\",\"overtranslation\",\"addition\",\"omission\",\"untranslated\",\"mistranslation\",\"undertranslation\"],\"y\":[0.4270982024272212,-0.6934677117617782,0.28861883175373987,0.2744474024129998,0.48378424720659197,0.060463629648521644,0.339629071269166,0.5161487508004713,0.3888224376606538,0.2965250375195492],\"type\":\"scatter\"},{\"line\":{\"color\":\"aquamarine\"},\"mode\":\"lines\",\"name\":\"Mean(good-bad) - MS-COMET-22\",\"x\":[\"do not translate\",\"wrong language\",\"real-world knowledge\",\"punctuation\",\"overtranslation\",\"addition\",\"omission\",\"untranslated\",\"mistranslation\",\"undertranslation\"],\"y\":[0.20115046507594708,-0.18963099273046888,0.05948937273122362,0.185693157086426,0.21796871669156986,-0.04862210273686457,0.3466654318913089,1.0226120290555953,0.12490066389957773,0.11758822494727739],\"type\":\"scatter\"},{\"line\":{\"color\":\"darkturquoise\"},\"mode\":\"lines\",\"name\":\"Mean(good-bad) - MS-COMET-QE-22\",\"x\":[\"do not translate\",\"wrong language\",\"real-world knowledge\",\"punctuation\",\"overtranslation\",\"addition\",\"omission\",\"untranslated\",\"mistranslation\",\"undertranslation\"],\"y\":[0.0971822193093508,-0.6411461172922956,0.08985020538244132,0.20429418657557966,0.23907075397429878,-0.03703383918334948,0.3613250457689576,2.5203456742874515,0.23388764694290298,0.17451663739572223],\"type\":\"scatter\"},{\"line\":{\"color\":\"chocolate\"},\"mode\":\"lines\",\"name\":\"tau - COMET-20\",\"x\":[\"do not translate\",\"wrong language\",\"real-world knowledge\",\"punctuation\",\"overtranslation\",\"addition\",\"omission\",\"untranslated\",\"mistranslation\",\"undertranslation\"],\"y\":[0.9,0.033,0.267,0.706,0.314,0.437,0.808,0.748,0.378,0.112],\"type\":\"scatter\"},{\"line\":{\"color\":\"coral\"},\"mode\":\"lines\",\"name\":\"tau - COMET-22\",\"x\":[\"do not translate\",\"wrong language\",\"real-world knowledge\",\"punctuation\",\"overtranslation\",\"addition\",\"omission\",\"untranslated\",\"mistranslation\",\"undertranslation\"],\"y\":[0.9,-0.318,0.574,0.539,0.69,0.333,0.806,0.536,0.566,0.538],\"type\":\"scatter\"},{\"line\":{\"color\":\"crimson\"},\"mode\":\"lines\",\"name\":\"tau - MS-COMET-22\",\"x\":[\"do not translate\",\"wrong language\",\"real-world knowledge\",\"punctuation\",\"overtranslation\",\"addition\",\"omission\",\"untranslated\",\"mistranslation\",\"undertranslation\"],\"y\":[0.7,0.041,0.23,0.508,0.548,-0.219,0.686,0.504,0.397,0.29],\"type\":\"scatter\"},{\"line\":{\"color\":\"orange\"},\"mode\":\"lines\",\"name\":\"tau - MS-COMET-QE-22\",\"x\":[\"do not translate\",\"wrong language\",\"real-world knowledge\",\"punctuation\",\"overtranslation\",\"addition\",\"omission\",\"untranslated\",\"mistranslation\",\"undertranslation\"],\"y\":[0.24,-0.197,0.248,0.523,0.518,-0.177,0.678,0.388,0.439,0.386],\"type\":\"scatter\"}],                        {\"template\":{\"data\":{\"histogram2dcontour\":[{\"type\":\"histogram2dcontour\",\"colorbar\":{\"outlinewidth\":0,\"ticks\":\"\"},\"colorscale\":[[0.0,\"#0d0887\"],[0.1111111111111111,\"#46039f\"],[0.2222222222222222,\"#7201a8\"],[0.3333333333333333,\"#9c179e\"],[0.4444444444444444,\"#bd3786\"],[0.5555555555555556,\"#d8576b\"],[0.6666666666666666,\"#ed7953\"],[0.7777777777777778,\"#fb9f3a\"],[0.8888888888888888,\"#fdca26\"],[1.0,\"#f0f921\"]]}],\"choropleth\":[{\"type\":\"choropleth\",\"colorbar\":{\"outlinewidth\":0,\"ticks\":\"\"}}],\"histogram2d\":[{\"type\":\"histogram2d\",\"colorbar\":{\"outlinewidth\":0,\"ticks\":\"\"},\"colorscale\":[[0.0,\"#0d0887\"],[0.1111111111111111,\"#46039f\"],[0.2222222222222222,\"#7201a8\"],[0.3333333333333333,\"#9c179e\"],[0.4444444444444444,\"#bd3786\"],[0.5555555555555556,\"#d8576b\"],[0.6666666666666666,\"#ed7953\"],[0.7777777777777778,\"#fb9f3a\"],[0.8888888888888888,\"#fdca26\"],[1.0,\"#f0f921\"]]}],\"heatmap\":[{\"type\":\"heatmap\",\"colorbar\":{\"outlinewidth\":0,\"ticks\":\"\"},\"colorscale\":[[0.0,\"#0d0887\"],[0.1111111111111111,\"#46039f\"],[0.2222222222222222,\"#7201a8\"],[0.3333333333333333,\"#9c179e\"],[0.4444444444444444,\"#bd3786\"],[0.5555555555555556,\"#d8576b\"],[0.6666666666666666,\"#ed7953\"],[0.7777777777777778,\"#fb9f3a\"],[0.8888888888888888,\"#fdca26\"],[1.0,\"#f0f921\"]]}],\"heatmapgl\":[{\"type\":\"heatmapgl\",\"colorbar\":{\"outlinewidth\":0,\"ticks\":\"\"},\"colorscale\":[[0.0,\"#0d0887\"],[0.1111111111111111,\"#46039f\"],[0.2222222222222222,\"#7201a8\"],[0.3333333333333333,\"#9c179e\"],[0.4444444444444444,\"#bd3786\"],[0.5555555555555556,\"#d8576b\"],[0.6666666666666666,\"#ed7953\"],[0.7777777777777778,\"#fb9f3a\"],[0.8888888888888888,\"#fdca26\"],[1.0,\"#f0f921\"]]}],\"contourcarpet\":[{\"type\":\"contourcarpet\",\"colorbar\":{\"outlinewidth\":0,\"ticks\":\"\"}}],\"contour\":[{\"type\":\"contour\",\"colorbar\":{\"outlinewidth\":0,\"ticks\":\"\"},\"colorscale\":[[0.0,\"#0d0887\"],[0.1111111111111111,\"#46039f\"],[0.2222222222222222,\"#7201a8\"],[0.3333333333333333,\"#9c179e\"],[0.4444444444444444,\"#bd3786\"],[0.5555555555555556,\"#d8576b\"],[0.6666666666666666,\"#ed7953\"],[0.7777777777777778,\"#fb9f3a\"],[0.8888888888888888,\"#fdca26\"],[1.0,\"#f0f921\"]]}],\"surface\":[{\"type\":\"surface\",\"colorbar\":{\"outlinewidth\":0,\"ticks\":\"\"},\"colorscale\":[[0.0,\"#0d0887\"],[0.1111111111111111,\"#46039f\"],[0.2222222222222222,\"#7201a8\"],[0.3333333333333333,\"#9c179e\"],[0.4444444444444444,\"#bd3786\"],[0.5555555555555556,\"#d8576b\"],[0.6666666666666666,\"#ed7953\"],[0.7777777777777778,\"#fb9f3a\"],[0.8888888888888888,\"#fdca26\"],[1.0,\"#f0f921\"]]}],\"mesh3d\":[{\"type\":\"mesh3d\",\"colorbar\":{\"outlinewidth\":0,\"ticks\":\"\"}}],\"scatter\":[{\"fillpattern\":{\"fillmode\":\"overlay\",\"size\":10,\"solidity\":0.2},\"type\":\"scatter\"}],\"parcoords\":[{\"type\":\"parcoords\",\"line\":{\"colorbar\":{\"outlinewidth\":0,\"ticks\":\"\"}}}],\"scatterpolargl\":[{\"type\":\"scatterpolargl\",\"marker\":{\"colorbar\":{\"outlinewidth\":0,\"ticks\":\"\"}}}],\"bar\":[{\"error_x\":{\"color\":\"#2a3f5f\"},\"error_y\":{\"color\":\"#2a3f5f\"},\"marker\":{\"line\":{\"color\":\"#E5ECF6\",\"width\":0.5},\"pattern\":{\"fillmode\":\"overlay\",\"size\":10,\"solidity\":0.2}},\"type\":\"bar\"}],\"scattergeo\":[{\"type\":\"scattergeo\",\"marker\":{\"colorbar\":{\"outlinewidth\":0,\"ticks\":\"\"}}}],\"scatterpolar\":[{\"type\":\"scatterpolar\",\"marker\":{\"colorbar\":{\"outlinewidth\":0,\"ticks\":\"\"}}}],\"histogram\":[{\"marker\":{\"pattern\":{\"fillmode\":\"overlay\",\"size\":10,\"solidity\":0.2}},\"type\":\"histogram\"}],\"scattergl\":[{\"type\":\"scattergl\",\"marker\":{\"colorbar\":{\"outlinewidth\":0,\"ticks\":\"\"}}}],\"scatter3d\":[{\"type\":\"scatter3d\",\"line\":{\"colorbar\":{\"outlinewidth\":0,\"ticks\":\"\"}},\"marker\":{\"colorbar\":{\"outlinewidth\":0,\"ticks\":\"\"}}}],\"scattermapbox\":[{\"type\":\"scattermapbox\",\"marker\":{\"colorbar\":{\"outlinewidth\":0,\"ticks\":\"\"}}}],\"scatterternary\":[{\"type\":\"scatterternary\",\"marker\":{\"colorbar\":{\"outlinewidth\":0,\"ticks\":\"\"}}}],\"scattercarpet\":[{\"type\":\"scattercarpet\",\"marker\":{\"colorbar\":{\"outlinewidth\":0,\"ticks\":\"\"}}}],\"carpet\":[{\"aaxis\":{\"endlinecolor\":\"#2a3f5f\",\"gridcolor\":\"white\",\"linecolor\":\"white\",\"minorgridcolor\":\"white\",\"startlinecolor\":\"#2a3f5f\"},\"baxis\":{\"endlinecolor\":\"#2a3f5f\",\"gridcolor\":\"white\",\"linecolor\":\"white\",\"minorgridcolor\":\"white\",\"startlinecolor\":\"#2a3f5f\"},\"type\":\"carpet\"}],\"table\":[{\"cells\":{\"fill\":{\"color\":\"#EBF0F8\"},\"line\":{\"color\":\"white\"}},\"header\":{\"fill\":{\"color\":\"#C8D4E3\"},\"line\":{\"color\":\"white\"}},\"type\":\"table\"}],\"barpolar\":[{\"marker\":{\"line\":{\"color\":\"#E5ECF6\",\"width\":0.5},\"pattern\":{\"fillmode\":\"overlay\",\"size\":10,\"solidity\":0.2}},\"type\":\"barpolar\"}],\"pie\":[{\"automargin\":true,\"type\":\"pie\"}]},\"layout\":{\"autotypenumbers\":\"strict\",\"colorway\":[\"#636efa\",\"#EF553B\",\"#00cc96\",\"#ab63fa\",\"#FFA15A\",\"#19d3f3\",\"#FF6692\",\"#B6E880\",\"#FF97FF\",\"#FECB52\"],\"font\":{\"color\":\"#2a3f5f\"},\"hovermode\":\"closest\",\"hoverlabel\":{\"align\":\"left\"},\"paper_bgcolor\":\"white\",\"plot_bgcolor\":\"#E5ECF6\",\"polar\":{\"bgcolor\":\"#E5ECF6\",\"angularaxis\":{\"gridcolor\":\"white\",\"linecolor\":\"white\",\"ticks\":\"\"},\"radialaxis\":{\"gridcolor\":\"white\",\"linecolor\":\"white\",\"ticks\":\"\"}},\"ternary\":{\"bgcolor\":\"#E5ECF6\",\"aaxis\":{\"gridcolor\":\"white\",\"linecolor\":\"white\",\"ticks\":\"\"},\"baxis\":{\"gridcolor\":\"white\",\"linecolor\":\"white\",\"ticks\":\"\"},\"caxis\":{\"gridcolor\":\"white\",\"linecolor\":\"white\",\"ticks\":\"\"}},\"coloraxis\":{\"colorbar\":{\"outlinewidth\":0,\"ticks\":\"\"}},\"colorscale\":{\"sequential\":[[0.0,\"#0d0887\"],[0.1111111111111111,\"#46039f\"],[0.2222222222222222,\"#7201a8\"],[0.3333333333333333,\"#9c179e\"],[0.4444444444444444,\"#bd3786\"],[0.5555555555555556,\"#d8576b\"],[0.6666666666666666,\"#ed7953\"],[0.7777777777777778,\"#fb9f3a\"],[0.8888888888888888,\"#fdca26\"],[1.0,\"#f0f921\"]],\"sequentialminus\":[[0.0,\"#0d0887\"],[0.1111111111111111,\"#46039f\"],[0.2222222222222222,\"#7201a8\"],[0.3333333333333333,\"#9c179e\"],[0.4444444444444444,\"#bd3786\"],[0.5555555555555556,\"#d8576b\"],[0.6666666666666666,\"#ed7953\"],[0.7777777777777778,\"#fb9f3a\"],[0.8888888888888888,\"#fdca26\"],[1.0,\"#f0f921\"]],\"diverging\":[[0,\"#8e0152\"],[0.1,\"#c51b7d\"],[0.2,\"#de77ae\"],[0.3,\"#f1b6da\"],[0.4,\"#fde0ef\"],[0.5,\"#f7f7f7\"],[0.6,\"#e6f5d0\"],[0.7,\"#b8e186\"],[0.8,\"#7fbc41\"],[0.9,\"#4d9221\"],[1,\"#276419\"]]},\"xaxis\":{\"gridcolor\":\"white\",\"linecolor\":\"white\",\"ticks\":\"\",\"title\":{\"standoff\":15},\"zerolinecolor\":\"white\",\"automargin\":true,\"zerolinewidth\":2},\"yaxis\":{\"gridcolor\":\"white\",\"linecolor\":\"white\",\"ticks\":\"\",\"title\":{\"standoff\":15},\"zerolinecolor\":\"white\",\"automargin\":true,\"zerolinewidth\":2},\"scene\":{\"xaxis\":{\"backgroundcolor\":\"#E5ECF6\",\"gridcolor\":\"white\",\"linecolor\":\"white\",\"showbackground\":true,\"ticks\":\"\",\"zerolinecolor\":\"white\",\"gridwidth\":2},\"yaxis\":{\"backgroundcolor\":\"#E5ECF6\",\"gridcolor\":\"white\",\"linecolor\":\"white\",\"showbackground\":true,\"ticks\":\"\",\"zerolinecolor\":\"white\",\"gridwidth\":2},\"zaxis\":{\"backgroundcolor\":\"#E5ECF6\",\"gridcolor\":\"white\",\"linecolor\":\"white\",\"showbackground\":true,\"ticks\":\"\",\"zerolinecolor\":\"white\",\"gridwidth\":2}},\"shapedefaults\":{\"line\":{\"color\":\"#2a3f5f\"}},\"annotationdefaults\":{\"arrowcolor\":\"#2a3f5f\",\"arrowhead\":0,\"arrowwidth\":1},\"geo\":{\"bgcolor\":\"white\",\"landcolor\":\"#E5ECF6\",\"subunitcolor\":\"white\",\"showland\":true,\"showlakes\":true,\"lakecolor\":\"white\"},\"title\":{\"x\":0.05},\"mapbox\":{\"style\":\"light\"}}},\"title\":{\"text\":\"Mean(good-bad) tau\"}},                        {\"responsive\": true}                    ).then(function(){\n",
       "                            \n",
       "var gd = document.getElementById('31db717b-d58d-40b7-b891-26ea538b5125');\n",
       "var x = new MutationObserver(function (mutations, observer) {{\n",
       "        var display = window.getComputedStyle(gd).display;\n",
       "        if (!display || display === 'none') {{\n",
       "            console.log([gd, 'removed!']);\n",
       "            Plotly.purge(gd);\n",
       "            observer.disconnect();\n",
       "        }}\n",
       "}});\n",
       "\n",
       "// Listen for the removal of the full notebook cells\n",
       "var notebookContainer = gd.closest('#notebook-container');\n",
       "if (notebookContainer) {{\n",
       "    x.observe(notebookContainer, {childList: true});\n",
       "}}\n",
       "\n",
       "// Listen for the clearing of the current output cell\n",
       "var outputEl = gd.closest('.output');\n",
       "if (outputEl) {{\n",
       "    x.observe(outputEl, {childList: true});\n",
       "}}\n",
       "\n",
       "                        })                };                });            </script>        </div>"
      ]
     },
     "metadata": {},
     "output_type": "display_data"
    }
   ],
   "source": [
    "grouped_line_plot([means, tau], comets, [\"Mean(good-bad)\", \"tau\"], phenomena)"
   ]
  },
  {
   "cell_type": "code",
   "execution_count": 38,
   "id": "cb61b6f1",
   "metadata": {},
   "outputs": [],
   "source": [
    "def grouped_line_plot(groups: List[Dict[str,list]], metrics_names: List[str], group_labels: List[str], phenomena: List[str]):\n",
    "    '''\n",
    "    Inputs: \n",
    "        1. means and tau scores\n",
    "        format = {\n",
    "            metric1: [score for phenomenon 1, score for phenomenon 2, ..]\n",
    "        }\n",
    "        2. A list of the labels for: \n",
    "            the groups (mean (good-bad), tau, ...)\n",
    "            metrics\n",
    "            phenomena (the order is important because in means and tau scores the scores are ordered acc. to phenomena)\n",
    "    '''\n",
    "    assert len(groups) > 0 and len(groups) == len(group_labels) and len(metrics_names) > 0\n",
    "    fig = go.Figure()\n",
    "    colors = [['lightsteelblue',  'aqua', 'aquamarine', 'darkturquoise'],\n",
    "        ['chocolate', 'coral', 'crimson', 'orange']]\n",
    "    for i,group in enumerate(groups):\n",
    "        for j,metric in enumerate(metrics_names):\n",
    "            fig.add_trace(go.Scatter(x=phenomena, y=group[metric],mode='lines',name=group_labels[i]+\" - \"+metric,\n",
    "                          line=dict(color=colors[i][j])))\n",
    "    fig.update_layout(\n",
    "        title=\" \".join(group_labels)\n",
    "        )\n",
    "    fig.show()"
   ]
  }
 ],
 "metadata": {
  "kernelspec": {
   "display_name": "Python 3 (ipykernel)",
   "language": "python",
   "name": "python3"
  },
  "language_info": {
   "codemirror_mode": {
    "name": "ipython",
    "version": 3
   },
   "file_extension": ".py",
   "mimetype": "text/x-python",
   "name": "python",
   "nbconvert_exporter": "python",
   "pygments_lexer": "ipython3",
   "version": "3.11.5"
  }
 },
 "nbformat": 4,
 "nbformat_minor": 5
}
