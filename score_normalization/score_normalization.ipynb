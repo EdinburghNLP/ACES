{
 "cells": [
  {
   "cell_type": "code",
   "execution_count": 1,
   "id": "aa50da46",
   "metadata": {},
   "outputs": [],
   "source": [
    "#!/usr/bin/env python3\n",
    "import os, sys\n",
    "from normalize_scores_utils import *\n",
    "\n",
    "import logging\n",
    "logger = logging.getLogger('logger')\n",
    "logger.setLevel(logging.INFO)"
   ]
  },
  {
   "cell_type": "code",
   "execution_count": 30,
   "id": "6047cd23",
   "metadata": {},
   "outputs": [],
   "source": [
    "sys.path.append(os.path.abspath(os.path.join(os.getcwd(), \"..\")))\n",
    "from aces.cli.evaluate import comp_corr"
   ]
  },
  {
   "cell_type": "code",
   "execution_count": 36,
   "id": "978a73f5",
   "metadata": {},
   "outputs": [],
   "source": [
    "def calculate_tau_correlations(ACES_scores: Dict[str, Dict[str, List[List]]], mapping:dict=None, phenomena:List[str]=None) -> Dict[str, Dict[str, Dict[str, int]]]:\n",
    "    if mapping:\n",
    "        ACES_scores = map_to_higher(ACES_scores, mapping=mapping)\n",
    "    \n",
    "    metrics_names = list(set(ACES_scores.keys()))\n",
    "    if phenomena == None:                  \n",
    "        phenomena = list(ACES_scores[metrics_names[0]].keys())\n",
    "            \n",
    "    stats = {}\n",
    "    for p in phenomena:\n",
    "        stats[p] = {}\n",
    "        for metric in metrics_names:\n",
    "            good = pd.Series(ACES_scores[metric][p][0])\n",
    "            bad = pd.Series(ACES_scores[metric][p][1])\n",
    "            tau = comp_corr(good, bad)\n",
    "            stats[p][metric] = {\"Tau\":tau}\n",
    "    sensitivities = {metric:{p: stats[p][metric][\"Tau\"] for p in phenomena} for metric in metrics_names}\n",
    "    logger.setLevel(logging.INFO)\n",
    "    return sensitivities, phenomena"
   ]
  },
  {
   "cell_type": "code",
   "execution_count": 41,
   "id": "1b0f5e56",
   "metadata": {},
   "outputs": [],
   "source": [
    "ACES_summary_2022_numbers, phenomena = calculate_tau_correlations(ACES_scores_2022, phenomena=phenomena)"
   ]
  },
  {
   "cell_type": "code",
   "execution_count": 42,
   "id": "e7f6e7e3",
   "metadata": {},
   "outputs": [
    {
     "data": {
      "text/plain": [
       "{'metricx_xxl_DA_2019': {'hallucination-number-level-1': 0.9828326180257511,\n",
       "  'hallucination-number-level-2': 0.8740818467995802,\n",
       "  'hallucination-number-level-3': 0.2892209178228389},\n",
       " 'BLEURT-20': {'hallucination-number-level-1': 0.9763948497854077,\n",
       "  'hallucination-number-level-2': 0.32214060860440713,\n",
       "  'hallucination-number-level-3': -0.8932764140875133},\n",
       " 'COMET-QE': {'hallucination-number-level-1': 0.6716738197424893,\n",
       "  'hallucination-number-level-2': 0.5173137460650578,\n",
       "  'hallucination-number-level-3': 0.400213447171825},\n",
       " 'BLEU': {'hallucination-number-level-1': 0.7381974248927039,\n",
       "  'hallucination-number-level-2': -0.6411332633788038,\n",
       "  'hallucination-number-level-3': -0.9893276414087513},\n",
       " 'Cross-QE': {'hallucination-number-level-1': 0.8969957081545065,\n",
       "  'hallucination-number-level-2': 0.7355718782791185,\n",
       "  'hallucination-number-level-3': 0.5090715048025614},\n",
       " 'HWTSC-TLM': {'hallucination-number-level-1': 0.7618025751072961,\n",
       "  'hallucination-number-level-2': 0.6201469045120671,\n",
       "  'hallucination-number-level-3': 0.41088580576307365},\n",
       " 'f101spBLEU': {'hallucination-number-level-1': 0.7017167381974249,\n",
       "  'hallucination-number-level-2': -0.6201469045120671,\n",
       "  'hallucination-number-level-3': -1.0},\n",
       " 'BERTScore': {'hallucination-number-level-1': 0.98068669527897,\n",
       "  'hallucination-number-level-2': -0.18363064008394545,\n",
       "  'hallucination-number-level-3': -0.9231590181430096},\n",
       " 'HWTSC-Teacher-Sim': {'hallucination-number-level-1': 0.8175965665236051,\n",
       "  'hallucination-number-level-2': 0.6201469045120671,\n",
       "  'hallucination-number-level-3': 0.29562433297758806},\n",
       " 'chrF': {'hallucination-number-level-1': 0.9828326180257511,\n",
       "  'hallucination-number-level-2': -0.70199370409234,\n",
       "  'hallucination-number-level-3': -1.0},\n",
       " 'metricx_xl_MQM_2020': {'hallucination-number-level-1': 0.9914163090128756,\n",
       "  'hallucination-number-level-2': 0.9244491080797481,\n",
       "  'hallucination-number-level-3': 0.6648879402347919},\n",
       " 'COMETKiwi': {'hallucination-number-level-1': 0.9377682403433476,\n",
       "  'hallucination-number-level-2': 0.8237145855194123,\n",
       "  'hallucination-number-level-3': 0.5410885805763074},\n",
       " 'COMET-20': {'hallucination-number-level-1': 0.8841201716738197,\n",
       "  'hallucination-number-level-2': -0.06190975865687303,\n",
       "  'hallucination-number-level-3': -0.8527214514407684},\n",
       " 'UniTE-ref': {'hallucination-number-level-1': 0.9356223175965666,\n",
       "  'hallucination-number-level-2': 0.7691500524658972,\n",
       "  'hallucination-number-level-3': -0.013874066168623266},\n",
       " 'UniTE-src': {'hallucination-number-level-1': 0.9399141630901288,\n",
       "  'hallucination-number-level-2': 0.7880377754459601,\n",
       "  'hallucination-number-level-3': 0.5645677694770544},\n",
       " 'MS-COMET-22': {'hallucination-number-level-1': 0.7317596566523605,\n",
       "  'hallucination-number-level-2': 0.2801678908709339,\n",
       "  'hallucination-number-level-3': -0.2508004268943437},\n",
       " 'MS-COMET-QE-22': {'hallucination-number-level-1': 0.6995708154506438,\n",
       "  'hallucination-number-level-2': 0.4228751311647429,\n",
       "  'hallucination-number-level-3': 0.2870864461045891},\n",
       " 'metricx_xxl_MQM_2020': {'hallucination-number-level-1': 0.9914163090128756,\n",
       "  'hallucination-number-level-2': 0.8992654774396642,\n",
       "  'hallucination-number-level-3': 0.6350053361792957},\n",
       " 'metricx_xl_DA_2019': {'hallucination-number-level-1': 0.9914163090128756,\n",
       "  'hallucination-number-level-2': 0.8090241343126967,\n",
       "  'hallucination-number-level-3': 0.16755602988260407},\n",
       " 'UniTE': {'hallucination-number-level-1': 0.9828326180257511,\n",
       "  'hallucination-number-level-2': 0.7166841552990556,\n",
       "  'hallucination-number-level-3': -0.3255069370330843},\n",
       " 'KG-BERTScore': {'hallucination-number-level-1': 0.9721030042918455,\n",
       "  'hallucination-number-level-2': 0.8677859391395593,\n",
       "  'hallucination-number-level-3': 0.5069370330843116},\n",
       " 'COMET-22': {'hallucination-number-level-1': 0.9914163090128756,\n",
       "  'hallucination-number-level-2': 0.7481636935991606,\n",
       "  'hallucination-number-level-3': -0.035218783351120594},\n",
       " 'YISI-1': {'hallucination-number-level-1': 0.9613733905579399,\n",
       "  'hallucination-number-level-2': 0.03882476390346275,\n",
       "  'hallucination-number-level-3': -0.8740661686232657},\n",
       " 'f200spBLEU': {'hallucination-number-level-1': 0.7446351931330472,\n",
       "  'hallucination-number-level-2': -0.6117523609653726,\n",
       "  'hallucination-number-level-3': -1.0}}"
      ]
     },
     "execution_count": 42,
     "metadata": {},
     "output_type": "execute_result"
    }
   ],
   "source": [
    "ACES_summary_2022_numbers"
   ]
  },
  {
   "cell_type": "markdown",
   "id": "0e247e3a",
   "metadata": {},
   "source": [
    "# Main Part: Table and Correlations"
   ]
  },
  {
   "cell_type": "code",
   "execution_count": 2,
   "id": "aa5b6318",
   "metadata": {},
   "outputs": [
    {
     "name": "stdout",
     "output_type": "stream",
     "text": [
      "cs-en\n"
     ]
    },
    {
     "name": "stderr",
     "output_type": "stream",
     "text": [
      "100%|██████████| 24/24 [00:09<00:00,  2.63it/s]\n"
     ]
    },
    {
     "name": "stdout",
     "output_type": "stream",
     "text": [
      "cs-uk\n"
     ]
    },
    {
     "name": "stderr",
     "output_type": "stream",
     "text": [
      "100%|██████████| 24/24 [00:05<00:00,  4.68it/s]\n"
     ]
    },
    {
     "name": "stdout",
     "output_type": "stream",
     "text": [
      "de-en\n"
     ]
    },
    {
     "name": "stderr",
     "output_type": "stream",
     "text": [
      "100%|██████████| 24/24 [00:09<00:00,  2.50it/s]\n"
     ]
    },
    {
     "name": "stdout",
     "output_type": "stream",
     "text": [
      "de-fr\n"
     ]
    },
    {
     "name": "stderr",
     "output_type": "stream",
     "text": [
      "100%|██████████| 24/24 [00:04<00:00,  5.94it/s]\n"
     ]
    },
    {
     "name": "stdout",
     "output_type": "stream",
     "text": [
      "en-cs\n"
     ]
    },
    {
     "name": "stderr",
     "output_type": "stream",
     "text": [
      "100%|██████████| 24/24 [00:09<00:00,  2.62it/s]\n"
     ]
    },
    {
     "name": "stdout",
     "output_type": "stream",
     "text": [
      "en-de\n"
     ]
    },
    {
     "name": "stderr",
     "output_type": "stream",
     "text": [
      "100%|██████████| 24/24 [00:10<00:00,  2.36it/s]\n"
     ]
    },
    {
     "name": "stdout",
     "output_type": "stream",
     "text": [
      "en-hr\n"
     ]
    },
    {
     "name": "stderr",
     "output_type": "stream",
     "text": [
      "100%|██████████| 24/24 [00:06<00:00,  3.56it/s]\n"
     ]
    },
    {
     "name": "stdout",
     "output_type": "stream",
     "text": [
      "en-ja\n"
     ]
    },
    {
     "name": "stderr",
     "output_type": "stream",
     "text": [
      "100%|██████████| 24/24 [00:06<00:00,  3.64it/s]\n"
     ]
    },
    {
     "name": "stdout",
     "output_type": "stream",
     "text": [
      "en-liv\n"
     ]
    },
    {
     "name": "stderr",
     "output_type": "stream",
     "text": [
      "100%|██████████| 24/24 [00:01<00:00, 17.38it/s]\n"
     ]
    },
    {
     "name": "stdout",
     "output_type": "stream",
     "text": [
      "en-ru\n"
     ]
    },
    {
     "name": "stderr",
     "output_type": "stream",
     "text": [
      "100%|██████████| 24/24 [00:06<00:00,  3.76it/s]\n"
     ]
    },
    {
     "name": "stdout",
     "output_type": "stream",
     "text": [
      "en-uk\n"
     ]
    },
    {
     "name": "stderr",
     "output_type": "stream",
     "text": [
      "100%|██████████| 24/24 [00:03<00:00,  6.40it/s]\n"
     ]
    },
    {
     "name": "stdout",
     "output_type": "stream",
     "text": [
      "en-zh\n"
     ]
    },
    {
     "name": "stderr",
     "output_type": "stream",
     "text": [
      "100%|██████████| 24/24 [00:08<00:00,  2.77it/s]\n"
     ]
    },
    {
     "name": "stdout",
     "output_type": "stream",
     "text": [
      "fr-de\n"
     ]
    },
    {
     "name": "stderr",
     "output_type": "stream",
     "text": [
      "100%|██████████| 24/24 [00:02<00:00,  9.61it/s]\n"
     ]
    },
    {
     "name": "stdout",
     "output_type": "stream",
     "text": [
      "ja-en\n"
     ]
    },
    {
     "name": "stderr",
     "output_type": "stream",
     "text": [
      "100%|██████████| 24/24 [00:04<00:00,  4.93it/s]\n"
     ]
    },
    {
     "name": "stdout",
     "output_type": "stream",
     "text": [
      "liv-en\n"
     ]
    },
    {
     "name": "stderr",
     "output_type": "stream",
     "text": [
      "100%|██████████| 24/24 [00:01<00:00, 17.27it/s]\n"
     ]
    },
    {
     "name": "stdout",
     "output_type": "stream",
     "text": [
      "ru-en\n"
     ]
    },
    {
     "name": "stderr",
     "output_type": "stream",
     "text": [
      "100%|██████████| 24/24 [00:04<00:00,  5.14it/s]\n"
     ]
    },
    {
     "name": "stdout",
     "output_type": "stream",
     "text": [
      "ru-sah\n"
     ]
    },
    {
     "name": "stderr",
     "output_type": "stream",
     "text": [
      "100%|██████████| 24/24 [00:01<00:00, 13.19it/s]\n"
     ]
    },
    {
     "name": "stdout",
     "output_type": "stream",
     "text": [
      "sah-ru\n"
     ]
    },
    {
     "name": "stderr",
     "output_type": "stream",
     "text": [
      "100%|██████████| 24/24 [00:01<00:00, 14.79it/s]\n"
     ]
    },
    {
     "name": "stdout",
     "output_type": "stream",
     "text": [
      "uk-cs\n"
     ]
    },
    {
     "name": "stderr",
     "output_type": "stream",
     "text": [
      "100%|██████████| 24/24 [00:05<00:00,  4.35it/s]\n"
     ]
    },
    {
     "name": "stdout",
     "output_type": "stream",
     "text": [
      "uk-en\n"
     ]
    },
    {
     "name": "stderr",
     "output_type": "stream",
     "text": [
      "100%|██████████| 24/24 [00:02<00:00,  8.18it/s]\n"
     ]
    },
    {
     "name": "stdout",
     "output_type": "stream",
     "text": [
      "zh-en\n"
     ]
    },
    {
     "name": "stderr",
     "output_type": "stream",
     "text": [
      "100%|██████████| 24/24 [00:09<00:00,  2.41it/s]\n"
     ]
    }
   ],
   "source": [
    "data_folder = '/mnt/c/Users/user/Desktop/work/metric_sensitivity_analysis'\n",
    "\n",
    "# Load the ACES scores\n",
    "ACES_scores_2022_path = os.path.join(data_folder, 'aces-scored-2022-all-scores.only.quote_errors_removed.tsv')\n",
    "ACES_scores_2023_path = os.path.join(data_folder, 'aces-scored-2023-all-scores.quote_errors_removed.tsv')\n",
    "# 2023 later\n",
    "ACES_scores_2022 = load_ACES_scores(ACES_scores_2022_path, good_token='.-good', bad_token='.-bad', metric_mapping=METRIC_NAMES_MAPPING)\n",
    "# ACES_scores_2023 = load_ACES_scores(ACES_scores_2023_path, good_token='.-good', bad_token='.-bad', metric_mapping=METRIC_NAMES_MAPPING, skip_metrics=[])\n",
    "metrics_names_2022 = set(ACES_scores_2022.keys())\n",
    "# metrics_names_2023 = set(ACES_scores_2023.keys())\n",
    "\n",
    "# Load WMT scores\n",
    "WMT_scores_path = os.path.join(data_folder, 'mt-metrics-eval-v2/wmt22/metric-scores')\n",
    "# WMT_scores = load_WMT_scores(WMT_scores_path, set(metrics_names_2022).union(set(metrics_names_2023)))\n",
    "WMT_scores = load_WMT_scores(WMT_scores_path, set(metrics_names_2022))\n",
    "\n",
    "# calculate sensitivities\n",
    "metrics_names_2022 = list(set(ACES_scores_2022.keys()).intersection(set(WMT_scores.keys())))\n",
    "sensitivities_2022, _, _, phenomena_2022, means_good_2022, means_bad_2022 = calculate_sensitivities(ACES_scores_2022, WMT_scores, mapping=PHENOMENA_MAPPING)\n",
    "# metrics_names_2023 = list(set(ACES_scores_2023.keys()).intersection(set(WMT_scores.keys())))\n",
    "# sensitivities_2023, _, _, phenomena_2023, means_good_2023, means_bad_2023 = calculate_sensitivities(ACES_scores_2023, WMT_scores, mapping=PHENOMENA_MAPPING)\n",
    "\n",
    "# load the ACES scores from the paper\n",
    "ACES_summary_2022 = load_ACES_scores_summary_2022()\n",
    "# ACES_summary_2023 = load_ACES_scores_summary_2023(skip_metrics=[])"
   ]
  },
  {
   "cell_type": "code",
   "execution_count": 27,
   "id": "4281fd95",
   "metadata": {},
   "outputs": [],
   "source": [
    "def map_to_color(num:float, max:float, min:float) -> str:\n",
    "    # colors = [\"red5\", \"red3\", \"red2\", \"red1\", \"white\", \"white\", \"green1\", \"green2\", \"green3\", \"green5\", \"green5\"]\n",
    "    colors = [\"red5\",\"red3\", \"red2\", \"red1\", \"white\", \"white\", \"green1\", \"green2\", \"green3\", \"green5\", \"green5\"]\n",
    "    # return '\\colorbox{' + colors[int((num-min)/(max-min)*10)] + '}'\n",
    "    # print(num, max, min, int(num/(2*max)*10+5))\n",
    "    if np.abs(max) > np.abs(min):\n",
    "        return '\\colorbox{' + colors[np.maximum(0, int(num/(2*np.abs(max))*10+5))] + '}'\n",
    "    else:\n",
    "        return '\\colorbox{' + colors[np.maximum(0, int(num/(2*np.abs(min))*10+5))] + '}'\n",
    "\n",
    "def find_max_on_col(scores:Dict[str, Dict[str, Dict[str, int]]], metrics_names:List[str], phenomena:List[str]=PHENOMENA, k_highest:int=1) -> Dict[str,str]:\n",
    "    max_metrics = {str(k): [[] for metric in metrics_names] for k in range(k_highest)}\n",
    "    avgs = []\n",
    "    for i,p in enumerate(phenomena):\n",
    "        col = []\n",
    "        for metric in metrics_names:\n",
    "            if metric not in scores and metric in METRIC_NAMES_MAPPING:\n",
    "                metric = METRIC_NAMES_MAPPING[metric]\n",
    "            elif metric not in scores and metric in METRIC_MAPPING_BACK:\n",
    "                metric = METRIC_MAPPING_BACK[metric]\n",
    "            if metric not in scores:\n",
    "                col.append(-np.inf)\n",
    "            else:\n",
    "                col.append(scores[metric][p])\n",
    "        for k in range(k_highest):\n",
    "            max_ids = np.where(col == np.partition(col, -k-1)[-k-1])[0]\n",
    "            for max_id in max_ids:\n",
    "                max_metrics[str(k)][max_id].append(i)\n",
    "        col = np.array(col)\n",
    "        avgs.append(np.average(col[col > -np.inf]))\n",
    "    return max_metrics, avgs\n",
    "\n",
    "def make_header(phenomena:List[str]=PHENOMENA, p_header_1:dict=PHENOMENA_HEADER_1, p_header_2:dict=PHENOMENA_HEADER_2, num_samples:dict=NUM_SAMPLES, ACES_column:bool=True) -> str:\n",
    "    res = \"\\\\begin{table*}[ht] \\n \\small \\n \\setlength{\\\\tabcolsep}{3.75pt} \\n \\centering \\n \\\\begin{tabular}{@{}lccccccccccc@{}} \\n \\\\\\\\\\\\toprule \\n\"\n",
    "    for p in phenomena:\n",
    "        res += \" & \"\n",
    "        res += p_header_1[p]\n",
    "    if ACES_column:\n",
    "        res += \"\"\" & \\\\textbf{ACES-}\"\"\"\n",
    "    res += \" \\\\\\\\\\n\"\n",
    "    for p in phenomena:\n",
    "        res += \" & \"\n",
    "        res += p_header_2[p]\n",
    "    if ACES_column:\n",
    "        res += \"\"\" & \\\\textbf{Score}\"\"\"\n",
    "    res += \"\\\\\\\\\\n\\midrule\\n\\\\textit{\\\\textbf{Examples}} \"\n",
    "    for p in phenomena:\n",
    "        res += \" & \"\n",
    "        res += '\\\\textit{' + str(num_samples[p]) + '}'\n",
    "    res += \"\"\"\\\\\\\\ \\n \\midrule\"\"\"\n",
    "    return res\n",
    "\n",
    "def make_footer(averages:List, phenomena:List[str]=PHENOMENA) -> str:\n",
    "    res = \"\\midrule\\nAverage (all metrics)\\t\"\n",
    "    for p in PHENOMENA:\n",
    "        if p in phenomena:\n",
    "            res += \" & \"\n",
    "            res += format_number(averages[p])\n",
    "    res += \"\"\"\\\\\\\\ \\n \\\\bottomrule\"\"\"\n",
    "    return res\n",
    "\n",
    "def generate_summary_table(scores:Dict[str, Dict[str, Dict[str, int]]], metrics_groups:Dict[str,list] = METRICS_GROUPING_2022, phenomena:List[str]=PHENOMENA, ACES_column:bool=True, global_colors:bool=True, k_highest:int=1, colors:List[str]=None) -> str:\n",
    "    \"\"\"\n",
    "    if k_highest % 2 == 1:\n",
    "        colors = COLORS[len(COLORS)//2-k_highest//2:len(COLORS)//2+k_highest//2+1]\n",
    "    else:\n",
    "        colors = COLORS[len(COLORS)//2-k_highest//2:len(COLORS)//2] + COLORS[len(COLORS)//2+1:len(COLORS)//2+k_highest//2+1]\n",
    "    \"\"\"\n",
    "    if global_colors:\n",
    "        k_highest = 1\n",
    "    out = ''\n",
    "    metrics_names = []\n",
    "    for group in metrics_groups.values():\n",
    "        for metric in group:\n",
    "            if metric not in scores and metric in METRIC_NAMES_MAPPING:\n",
    "                metrics_names.append(METRIC_NAMES_MAPPING[metric])\n",
    "            elif metric not in scores and metric in METRIC_MAPPING_BACK:\n",
    "                metrics_names.append(METRIC_MAPPING_BACK[metric])\n",
    "            else:\n",
    "                metrics_names.append(metric)\n",
    "    # print(metrics_names)\n",
    "    max_in_columns, avgs = find_max_on_col(scores, metrics_names=metrics_names, phenomena=phenomena, k_highest=k_highest)\n",
    "    if ACES_column:\n",
    "        aces_scores_col = []\n",
    "        for metric in metrics_names:\n",
    "            if metric not in scores and metric in METRIC_NAMES_MAPPING:\n",
    "                metric = METRIC_NAMES_MAPPING[metric]\n",
    "            elif metric not in scores and metric in METRIC_MAPPING_BACK:\n",
    "                metric = METRIC_MAPPING_BACK[metric]\n",
    "            row = {}\n",
    "            for p_id, p in enumerate(phenomena):\n",
    "                if metric not in scores:\n",
    "                    row[p] = 0.0\n",
    "                else:\n",
    "                    row[p] = scores[metric][p]\n",
    "            aces_scores_col.append(comp_aces_score(row))\n",
    "        # print(aces_scores_col)\n",
    "        aces_scores_col_colors = {m_id:\"\" for m_id in range(len(metrics_names))}\n",
    "    \n",
    "    if global_colors:\n",
    "        maximum = np.max([np.max(list(p.values())) for metric,p in scores.items() if metric in metrics_names])\n",
    "        minimum = np.min([np.min(list(p.values())) for metric,p in scores.items() if metric in metrics_names])\n",
    "        # print(minimum, maximum, metrics_names)\n",
    "    if ACES_column:\n",
    "        if global_colors:\n",
    "            for i in range(len(aces_scores_col)):\n",
    "                aces_scores_col_colors[i] = map_to_color(aces_scores_col[i], np.max(aces_scores_col), np.min(aces_scores_col))\n",
    "        elif k_highest == 1:\n",
    "            max_aces_ids = np.where(list(aces_scores_col) == np.max(aces_scores_col))[0]\n",
    "            for i in max_aces_ids:\n",
    "                aces_scores_col_colors[i] = '\\colorbox[HTML]{B2EAB1}'\n",
    "        else:\n",
    "            for k in range(k_highest):\n",
    "                max_aces_ids = np.where(aces_scores_col == np.partition(aces_scores_col, -k-1)[-k-1])[0]\n",
    "                for i in max_aces_ids:\n",
    "                    aces_scores_col_colors[i] = colors[k]\n",
    "                   \n",
    "    for group, metrics in metrics_groups.items():\n",
    "        for m_id, metric in enumerate(metrics):\n",
    "            if metric not in scores and metric in METRIC_NAMES_MAPPING:\n",
    "                metric = METRIC_NAMES_MAPPING[metric]\n",
    "            elif metric not in scores and metric in METRIC_MAPPING_BACK:\n",
    "                metric = METRIC_MAPPING_BACK[metric]\n",
    "            out += format_metric(metric) + '\\t\\t\\t\\t\\t'\n",
    "            for p_id, p in enumerate(phenomena):\n",
    "                if metric not in scores:\n",
    "                    out += '&\\t ---- \\t' \n",
    "                else:\n",
    "                    if global_colors:\n",
    "                        out += '&\\t' + format_number(scores[metric][p], max_phenomena=True, color=map_to_color(scores[metric][p], maximum, minimum)) + '\\t'   \n",
    "                    elif k_highest == 1:\n",
    "                        max_ids = max_in_columns['0'][metrics_names.index(metric)]\n",
    "                        out += '&\\t' + format_number(scores[metric][p], max_phenomena=p_id in max_ids) + '\\t'   \n",
    "                    else:\n",
    "                        for k in range(k_highest):\n",
    "                            max_ids = max_in_columns[str(k)][metrics_names.index(metric)]\n",
    "                            if p_id in max_ids:\n",
    "                                color=colors[k]\n",
    "                                break\n",
    "                        out += '&\\t' + format_number(scores[metric][p], max_phenomena=True, color=color) + '\\t'   \n",
    "            if ACES_column:\n",
    "                tmp_color =  aces_scores_col_colors[metrics_names.index(metric)]    \n",
    "                out += '&\\t' + format_number(aces_scores_col[metrics_names.index(metric)], dec='0.00', max_phenomena=tmp_color!=\"\", color=tmp_color)\n",
    "            out += '\\t \\\\\\\\ \\n'\n",
    "        out += '\\midrule \\n'\n",
    "    out += 'Average\\t\\t\\t\\t\\t'\n",
    "    for p_id, p in enumerate(phenomena):\n",
    "        out += '&\\t' + format_number(avgs[p_id], max_phenomena=True, color=map_to_color(avgs[p_id], max=np.max(avgs), min=np.min(avgs))) + '\\t'\n",
    "    out += '\\\\\\\\'\n",
    "    return out"
   ]
  },
  {
   "cell_type": "code",
   "execution_count": 21,
   "id": "a36d41df",
   "metadata": {},
   "outputs": [],
   "source": [
    "sensitivities_unscaled_2022,  _ = calculate_sensitivities_self_scaled(ACES_scores_2022, mapping=PHENOMENA_MAPPING)\n",
    "sensitivities_unscaled_2023,  _ = calculate_sensitivities_self_scaled(ACES_scores_2023, mapping=PHENOMENA_MAPPING)"
   ]
  },
  {
   "cell_type": "code",
   "execution_count": 43,
   "id": "917f2dd4",
   "metadata": {},
   "outputs": [
    {
     "name": "stdout",
     "output_type": "stream",
     "text": [
      "\\begin{table*}[ht] \n",
      " \\small \n",
      " \\setlength{\\tabcolsep}{3.75pt} \n",
      " \\centering \n",
      " \\begin{tabular}{@{}lccccccccccc@{}} \n",
      " \\\\\\toprule \n",
      " & \\textbf{Level 1} & \\textbf{Level 2} & \\textbf{Level 3} \\\\\n",
      " &  &  & \\\\\n",
      "\\midrule\n",
      "\\textit{\\textbf{Examples}}  & \\textit{932} & \\textit{953} & \\textit{937}\\\\ \n",
      " \\midrule\n",
      "BLEU\t\t\t\t\t&\t\\colorbox{green3}{\\textbf{\\phantom{-}0.738}}\t&\t\\colorbox{red3}{\\textbf{-0.641}}\t&\t\\colorbox{red5}{\\textbf{-0.989}}\t\t \\\\ \n",
      "f101spBLEU\t\t\t\t\t&\t\\colorbox{green3}{\\textbf{\\phantom{-}0.702}}\t&\t\\colorbox{red3}{\\textbf{-0.620}}\t&\t\\colorbox{red5}{\\textbf{-1.000}}\t\t \\\\ \n",
      "f200spBLEU\t\t\t\t\t&\t\\colorbox{green3}{\\textbf{\\phantom{-}0.745}}\t&\t\\colorbox{red3}{\\textbf{-0.612}}\t&\t\\colorbox{red5}{\\textbf{-1.000}}\t\t \\\\ \n",
      "chrF\t\t\t\t\t&\t\\colorbox{green5}{\\textbf{\\phantom{-}0.983}}\t&\t\\colorbox{red3}{\\textbf{-0.702}}\t&\t\\colorbox{red5}{\\textbf{-1.000}}\t\t \\\\ \n",
      "BERTScore\t\t\t\t\t&\t\\colorbox{green5}{\\textbf{\\phantom{-}0.981}}\t&\t\\colorbox{white}{\\textbf{-0.184}}\t&\t\\colorbox{red5}{\\textbf{-0.923}}\t\t \\\\ \n",
      "BLEURT-20\t\t\t\t\t&\t\\colorbox{green5}{\\textbf{\\phantom{-}0.976}}\t&\t\\colorbox{green1}{\\textbf{\\phantom{-}0.322}}\t&\t\\colorbox{red5}{\\textbf{-0.893}}\t\t \\\\ \n",
      "COMET-20\t\t\t\t\t&\t\\colorbox{green5}{\\textbf{\\phantom{-}0.884}}\t&\t\\colorbox{white}{\\textbf{-0.062}}\t&\t\\colorbox{red5}{\\textbf{-0.853}}\t\t \\\\ \n",
      "COMET-QE\t\t\t\t\t&\t\\colorbox{green3}{\\textbf{\\phantom{-}0.672}}\t&\t\\colorbox{green2}{\\textbf{\\phantom{-}0.517}}\t&\t\\colorbox{green2}{\\textbf{\\phantom{-}0.400}}\t\t \\\\ \n",
      "YISI-1\t\t\t\t\t&\t\\colorbox{green5}{\\textbf{\\phantom{-}0.961}}\t&\t\\colorbox{white}{\\textbf{\\phantom{-}0.039}}\t&\t\\colorbox{red5}{\\textbf{-0.874}}\t\t \\\\ \n",
      "\\midrule \n",
      "COMET-22\t\t\t\t\t&\t\\colorbox{green5}{\\textbf{\\phantom{-}0.991}}\t&\t\\colorbox{green3}{\\textbf{\\phantom{-}0.748}}\t&\t\\colorbox{white}{\\textbf{-0.035}}\t\t \\\\ \n",
      "metricx\\_xl\\_DA\\_2019\t\t\t\t\t&\t\\colorbox{green5}{\\textbf{\\phantom{-}0.991}}\t&\t\\colorbox{green5}{\\textbf{\\phantom{-}0.809}}\t&\t\\colorbox{white}{\\textbf{\\phantom{-}0.168}}\t\t \\\\ \n",
      "metricx\\_xl\\_MQM\\_2020\t\t\t\t\t&\t\\colorbox{green5}{\\textbf{\\phantom{-}0.991}}\t&\t\\colorbox{green5}{\\textbf{\\phantom{-}0.924}}\t&\t\\colorbox{green3}{\\textbf{\\phantom{-}0.665}}\t\t \\\\ \n",
      "metricx\\_xxl\\_DA\\_2019\t\t\t\t\t&\t\\colorbox{green5}{\\textbf{\\phantom{-}0.983}}\t&\t\\colorbox{green5}{\\textbf{\\phantom{-}0.874}}\t&\t\\colorbox{green1}{\\textbf{\\phantom{-}0.289}}\t\t \\\\ \n",
      "metricx\\_xxl\\_MQM\\_2020\t\t\t\t\t&\t\\colorbox{green5}{\\textbf{\\phantom{-}0.991}}\t&\t\\colorbox{green5}{\\textbf{\\phantom{-}0.899}}\t&\t\\colorbox{green3}{\\textbf{\\phantom{-}0.635}}\t\t \\\\ \n",
      "MS-COMET-22\t\t\t\t\t&\t\\colorbox{green3}{\\textbf{\\phantom{-}0.732}}\t&\t\\colorbox{green1}{\\textbf{\\phantom{-}0.280}}\t&\t\\colorbox{red1}{\\textbf{-0.251}}\t\t \\\\ \n",
      "UniTE\t\t\t\t\t&\t\\colorbox{green5}{\\textbf{\\phantom{-}0.983}}\t&\t\\colorbox{green3}{\\textbf{\\phantom{-}0.717}}\t&\t\\colorbox{red1}{\\textbf{-0.326}}\t\t \\\\ \n",
      "UniTE-ref\t\t\t\t\t&\t\\colorbox{green5}{\\textbf{\\phantom{-}0.936}}\t&\t\\colorbox{green3}{\\textbf{\\phantom{-}0.769}}\t&\t\\colorbox{white}{\\textbf{-0.014}}\t\t \\\\ \n",
      "\\midrule \n",
      "COMETKiwi\t\t\t\t\t&\t\\colorbox{green5}{\\textbf{\\phantom{-}0.938}}\t&\t\\colorbox{green5}{\\textbf{\\phantom{-}0.824}}\t&\t\\colorbox{green2}{\\textbf{\\phantom{-}0.541}}\t\t \\\\ \n",
      "Cross-QE\t\t\t\t\t&\t\\colorbox{green5}{\\textbf{\\phantom{-}0.897}}\t&\t\\colorbox{green3}{\\textbf{\\phantom{-}0.736}}\t&\t\\colorbox{green2}{\\textbf{\\phantom{-}0.509}}\t\t \\\\ \n",
      "HWTSC-Teacher-Sim\t\t\t\t\t&\t\\colorbox{green5}{\\textbf{\\phantom{-}0.818}}\t&\t\\colorbox{green3}{\\textbf{\\phantom{-}0.620}}\t&\t\\colorbox{green1}{\\textbf{\\phantom{-}0.296}}\t\t \\\\ \n",
      "HWTSC-TLM\t\t\t\t\t&\t\\colorbox{green3}{\\textbf{\\phantom{-}0.762}}\t&\t\\colorbox{green3}{\\textbf{\\phantom{-}0.620}}\t&\t\\colorbox{green2}{\\textbf{\\phantom{-}0.411}}\t\t \\\\ \n",
      "KG-BERTScore\t\t\t\t\t&\t\\colorbox{green5}{\\textbf{\\phantom{-}0.972}}\t&\t\\colorbox{green5}{\\textbf{\\phantom{-}0.868}}\t&\t\\colorbox{green2}{\\textbf{\\phantom{-}0.507}}\t\t \\\\ \n",
      "MS-COMET-QE-22\t\t\t\t\t&\t\\colorbox{green3}{\\textbf{\\phantom{-}0.700}}\t&\t\\colorbox{green2}{\\textbf{\\phantom{-}0.423}}\t&\t\\colorbox{green1}{\\textbf{\\phantom{-}0.287}}\t\t \\\\ \n",
      "UniTE-src\t\t\t\t\t&\t\\colorbox{green5}{\\textbf{\\phantom{-}0.940}}\t&\t\\colorbox{green3}{\\textbf{\\phantom{-}0.788}}\t&\t\\colorbox{green2}{\\textbf{\\phantom{-}0.565}}\t\t \\\\ \n",
      "\\midrule \n",
      "Average\t\t\t\t\t&\t\\colorbox{green5}{\\textbf{\\phantom{-}0.886}}\t&\t\\colorbox{green2}{\\textbf{\\phantom{-}0.373}}\t&\t\\colorbox{white}{\\textbf{-0.120}}\t\\\\\n"
     ]
    }
   ],
   "source": [
    "COLORS = ['\\colorbox{green1}', '\\colorbox{green2}', '\\colorbox{green3}', '\\colorbox{green4}', '\\colorbox{green5}', '\\colorbox{white}', '\\colorbox{red1}', '\\colorbox{red2}', '\\colorbox{red3}', '\\colorbox{red4}', '\\colorbox{red5}']\n",
    "COLORS = ['\\colorbox{green1}', '\\colorbox{green2}', '\\colorbox{green4}', '\\colorbox{green5}', '\\colorbox{white}', '\\colorbox{red1}', '\\colorbox{red2}', '\\colorbox{red4}', '\\colorbox{red5}']\n",
    "\n",
    "# From the ACES 2022 Paper:\n",
    "METRICS_GROUPING_SHORT_2022 = {\"baseline\": [\"BLEU\", \"COMET-20\", \"COMET-QE\"],\n",
    "                        \"reference-based\": [\"COMET-22\", 'metricx_xl_MQM_2020', \"UniTE\", \"UniTE-ref\"],\n",
    "                        \"reference-free\": [\"COMETKiwi\", 'KG-BERTScore', \"UniTE-src\"]\n",
    "                    }\n",
    "METRICS_GROUPING_SHORT_2023 = {\"baseline\": [\"BLEU\", \"BERTScore\", \"BLEURT-20\", \"YISI-1\"],\n",
    "                        \"reference-based\": [\"COMET-22\", 'metricx_xl_MQM_2020', \"UniTE\", \"UniTE-ref\"],\n",
    "                        \"reference-free\": [\"COMETKiwi\", 'KG-BERTScore', \"UniTE-src\"]\n",
    "                    }\n",
    "\n",
    "phenomena = ['untranslated', 'real-world knowledge', 'wrong language']\n",
    "phenomena = [\"hallucination-number-level-1\", \"hallucination-number-level-2\", \"hallucination-number-level-3\"]\n",
    "\n",
    "PHENOMENA_HEADER_1_NUMBERS = dict(zip(phenomena, ['\\\\textbf{Level 1}', '\\\\textbf{Level 2}', '\\\\textbf{Level 3}']))\n",
    "PHENOMENA_HEADER_2_NUMBERS = dict(zip(phenomena, ['', '',  '']))\n",
    "NUM_SAMPLES_NUMBERS = {p:len(ACES_scores_2022[\"BLEU\"][p][0]) for p in phenomena}\n",
    "\n",
    "print(make_header(phenomena=phenomena, ACES_column=False, p_header_1=PHENOMENA_HEADER_1_NUMBERS, p_header_2=PHENOMENA_HEADER_2_NUMBERS, num_samples=NUM_SAMPLES_NUMBERS))\n",
    "print(generate_summary_table(ACES_summary_2022_numbers, metrics_groups=METRICS_GROUPING_2022, phenomena=phenomena, ACES_column=False))\n",
    "# print(make_footer(averages=SUMMARY_AVERAGES_2023, phenomena=PHENOMENA))"
   ]
  },
  {
   "cell_type": "markdown",
   "id": "b8dfcd1b",
   "metadata": {},
   "source": [
    "# Table for Hallucination Number/Named entities"
   ]
  },
  {
   "cell_type": "code",
   "execution_count": 56,
   "id": "d50d68e2",
   "metadata": {},
   "outputs": [],
   "source": [
    "def generate_summary_table_double(scores1:Dict[str, Dict[str, Dict[str, int]]], scores2:Dict[str, Dict[str, Dict[str, int]]], \n",
    "                                  metrics_groups:Dict[str,list] = METRICS_GROUPING_2022, phenomena:List[str]=PHENOMENA, ACES_column:bool=True, global_colors:bool=True, k_highest:int=1, colors:List[str]=None) -> str:\n",
    "    \"\"\"\n",
    "    if k_highest % 2 == 1:\n",
    "        colors = COLORS[len(COLORS)//2-k_highest//2:len(COLORS)//2+k_highest//2+1]\n",
    "    else:\n",
    "        colors = COLORS[len(COLORS)//2-k_highest//2:len(COLORS)//2] + COLORS[len(COLORS)//2+1:len(COLORS)//2+k_highest//2+1]\n",
    "    \"\"\"\n",
    "    if global_colors:\n",
    "        k_highest = 1\n",
    "    out = ''\n",
    "    metrics_names = []\n",
    "    for group in metrics_groups.values():\n",
    "        for metric in group:\n",
    "            if metric not in scores1 and metric in METRIC_NAMES_MAPPING:\n",
    "                metrics_names.append(METRIC_NAMES_MAPPING[metric])\n",
    "            elif metric not in scores1 and metric in METRIC_MAPPING_BACK:\n",
    "                metrics_names.append(METRIC_MAPPING_BACK[metric])\n",
    "            else:\n",
    "                metrics_names.append(metric)\n",
    "    # print(metrics_names)\n",
    "    max_in_columns1, avgs1 = find_max_on_col(scores1, metrics_names=metrics_names, phenomena=phenomena, k_highest=k_highest)\n",
    "    max_in_columns2, avgs2 = find_max_on_col(scores2, metrics_names=metrics_names, phenomena=phenomena, k_highest=k_highest)\n",
    "    \n",
    "    if global_colors:\n",
    "        maximum1 = np.max([np.max([v for p,v in value.items() if p in phenomena]) for metric,value in scores1.items() if metric in metrics_names])\n",
    "        minimum1 = np.min([np.min([v for p,v in value.items() if p in phenomena]) for metric,value in scores1.items() if metric in metrics_names])\n",
    "        maximum2 = np.max([np.max([v for p,v in value.items() if p in phenomena]) for metric,value in scores2.items() if metric in metrics_names])\n",
    "        minimum2 = np.min([np.min([v for p,v in value.items() if p in phenomena]) for metric,value in scores2.items() if metric in metrics_names])\n",
    "   \n",
    "    for group, metrics in metrics_groups.items():\n",
    "        for m_id, metric in enumerate(metrics):\n",
    "            if metric not in scores1 and metric in METRIC_NAMES_MAPPING:\n",
    "                metric = METRIC_NAMES_MAPPING[metric]\n",
    "            elif metric not in scores1 and metric in METRIC_MAPPING_BACK:\n",
    "                metric = METRIC_MAPPING_BACK[metric]\n",
    "            out += format_metric(metric) + '\\t\\t\\t\\t\\t'\n",
    "            for p_id, p in enumerate(phenomena):\n",
    "                if metric not in scores1:\n",
    "                    out += '&\\t ---- \\t' \n",
    "                else:\n",
    "                    if global_colors:\n",
    "                        out += '&\\t' + format_number(scores1[metric][p], max_phenomena=True, color=map_to_color(scores1[metric][p], maximum1, minimum1)) + '\\t'   \n",
    "                    elif k_highest == 1:\n",
    "                        max_ids = max_in_columns1['0'][metrics_names.index(metric)]\n",
    "                        out += '&\\t' + format_number(scores1[metric][p], max_phenomena=p_id in max_ids) + '\\t'   \n",
    "                    else:\n",
    "                        for k in range(k_highest):\n",
    "                            max_ids = max_in_columns1[str(k)][metrics_names.index(metric)]\n",
    "                            if p_id in max_ids:\n",
    "                                color=colors[k]\n",
    "                                break\n",
    "                        out += '&\\t' + format_number(scores1[metric][p], max_phenomena=True, color=color) + '\\t' \n",
    "            for p_id, p in enumerate(phenomena):\n",
    "                if metric not in scores2:\n",
    "                    out += '&\\t ---- \\t' \n",
    "                else:\n",
    "                    if global_colors:\n",
    "                        out += '&\\t' + format_number(scores2[metric][p], max_phenomena=True, color=map_to_color(scores2[metric][p], maximum2, minimum2)) + '\\t'   \n",
    "                    elif k_highest == 1:\n",
    "                        max_ids = max_in_columns2['0'][metrics_names.index(metric)]\n",
    "                        out += '&\\t' + format_number(scores2[metric][p], max_phenomena=p_id in max_ids) + '\\t'   \n",
    "                    else:\n",
    "                        for k in range(k_highest):\n",
    "                            max_ids = max_in_columns2[str(k)][metrics_names.index(metric)]\n",
    "                            if p_id in max_ids:\n",
    "                                color=colors[k]\n",
    "                                break\n",
    "                        out += '&\\t' + format_number(scores2[metric][p], max_phenomena=True, color=color) + '\\t'    \n",
    "            out += '\\t \\\\\\\\ \\n'\n",
    "        out += '\\midrule \\n'\n",
    "    out += 'Average\\t\\t\\t\\t\\t'\n",
    "    for p_id, p in enumerate(phenomena):\n",
    "        out += '&\\t' + format_number(avgs1[p_id], max_phenomena=True, color=map_to_color(avgs1[p_id], max=np.max(avgs1), min=np.min(avgs1))) + '\\t'\n",
    "        out += '&\\t' + format_number(avgs2[p_id], max_phenomena=True, color=map_to_color(avgs2[p_id], max=np.max(avgs2), min=np.min(avgs2))) + '\\t'\n",
    "    out += '\\\\\\\\'\n",
    "    return out"
   ]
  },
  {
   "cell_type": "code",
   "execution_count": null,
   "id": "abb96f5b",
   "metadata": {},
   "outputs": [],
   "source": [
    "metrics_names_2022 = list(set(ACES_scores_2022.keys()).intersection(set(WMT_scores.keys())))\n",
    "sensitivities_2022_unmapped, _, _, phenomena_2022_unmapped, _, _ = calculate_sensitivities(ACES_scores_2022, WMT_scores, mapping=None)"
   ]
  },
  {
   "cell_type": "code",
   "execution_count": 57,
   "id": "a55dae08",
   "metadata": {},
   "outputs": [
    {
     "name": "stdout",
     "output_type": "stream",
     "text": [
      "BLEU\t\t\t\t\t&\t\\colorbox{green3}{\\textbf{\\phantom{-}0.738}}\t&\t\\colorbox{red3}{\\textbf{-0.641}}\t&\t\\colorbox{red5}{\\textbf{-0.989}}\t&\t\\colorbox{white}{\\textbf{\\phantom{-}0.357}}\t&\t\\colorbox{white}{\\textbf{-0.453}}\t&\t\\colorbox{red5}{\\textbf{-2.407}}\t\t \\\\ \n",
      "f101spBLEU\t\t\t\t\t&\t\\colorbox{green3}{\\textbf{\\phantom{-}0.702}}\t&\t\\colorbox{red3}{\\textbf{-0.620}}\t&\t\\colorbox{red5}{\\textbf{-1.000}}\t&\t\\colorbox{white}{\\textbf{\\phantom{-}0.154}}\t&\t\\colorbox{white}{\\textbf{-0.289}}\t&\t\\colorbox{red3}{\\textbf{-1.584}}\t\t \\\\ \n",
      "f200spBLEU\t\t\t\t\t&\t\\colorbox{green3}{\\textbf{\\phantom{-}0.745}}\t&\t\\colorbox{red3}{\\textbf{-0.612}}\t&\t\\colorbox{red5}{\\textbf{-1.000}}\t&\t\\colorbox{white}{\\textbf{\\phantom{-}0.148}}\t&\t\\colorbox{white}{\\textbf{-0.279}}\t&\t\\colorbox{red3}{\\textbf{-1.519}}\t\t \\\\ \n",
      "chrF\t\t\t\t\t&\t\\colorbox{green5}{\\textbf{\\phantom{-}0.983}}\t&\t\\colorbox{red3}{\\textbf{-0.702}}\t&\t\\colorbox{red5}{\\textbf{-1.000}}\t&\t\\colorbox{white}{\\textbf{\\phantom{-}0.115}}\t&\t\\colorbox{white}{\\textbf{-0.245}}\t&\t\\colorbox{red2}{\\textbf{-1.299}}\t\t \\\\ \n",
      "BERTScore\t\t\t\t\t&\t\\colorbox{green5}{\\textbf{\\phantom{-}0.981}}\t&\t\\colorbox{white}{\\textbf{-0.184}}\t&\t\\colorbox{red5}{\\textbf{-0.923}}\t&\t\\colorbox{white}{\\textbf{\\phantom{-}0.126}}\t&\t\\colorbox{white}{\\textbf{-0.069}}\t&\t\\colorbox{red1}{\\textbf{-0.946}}\t\t \\\\ \n",
      "BLEURT-20\t\t\t\t\t&\t\\colorbox{green5}{\\textbf{\\phantom{-}0.976}}\t&\t\\colorbox{green1}{\\textbf{\\phantom{-}0.322}}\t&\t\\colorbox{red5}{\\textbf{-0.893}}\t&\t\\colorbox{white}{\\textbf{\\phantom{-}0.354}}\t&\t\\colorbox{white}{\\textbf{\\phantom{-}0.124}}\t&\t\\colorbox{red1}{\\textbf{-0.781}}\t\t \\\\ \n",
      "COMET-20\t\t\t\t\t&\t\\colorbox{green5}{\\textbf{\\phantom{-}0.884}}\t&\t\\colorbox{white}{\\textbf{-0.062}}\t&\t\\colorbox{red5}{\\textbf{-0.853}}\t&\t\\colorbox{white}{\\textbf{\\phantom{-}0.139}}\t&\t\\colorbox{white}{\\textbf{-0.021}}\t&\t\\colorbox{red1}{\\textbf{-0.604}}\t\t \\\\ \n",
      "COMET-QE\t\t\t\t\t&\t\\colorbox{green3}{\\textbf{\\phantom{-}0.672}}\t&\t\\colorbox{green2}{\\textbf{\\phantom{-}0.517}}\t&\t\\colorbox{green2}{\\textbf{\\phantom{-}0.400}}\t&\t\\colorbox{white}{\\textbf{\\phantom{-}0.166}}\t&\t\\colorbox{white}{\\textbf{\\phantom{-}0.190}}\t&\t\\colorbox{white}{\\textbf{\\phantom{-}0.179}}\t\t \\\\ \n",
      "YISI-1\t\t\t\t\t&\t\\colorbox{green5}{\\textbf{\\phantom{-}0.961}}\t&\t\\colorbox{white}{\\textbf{\\phantom{-}0.039}}\t&\t\\colorbox{red5}{\\textbf{-0.874}}\t&\t\\colorbox{white}{\\textbf{\\phantom{-}0.239}}\t&\t\\colorbox{white}{\\textbf{-0.014}}\t&\t\\colorbox{red2}{\\textbf{-1.203}}\t\t \\\\ \n",
      "\\midrule \n",
      "COMET-22\t\t\t\t\t&\t\\colorbox{green5}{\\textbf{\\phantom{-}0.991}}\t&\t\\colorbox{green3}{\\textbf{\\phantom{-}0.748}}\t&\t\\colorbox{white}{\\textbf{-0.035}}\t&\t\\colorbox{white}{\\textbf{\\phantom{-}0.322}}\t&\t\\colorbox{white}{\\textbf{\\phantom{-}0.285}}\t&\t\\colorbox{white}{\\textbf{-0.088}}\t\t \\\\ \n",
      "metricx\\_xl\\_DA\\_2019\t\t\t\t\t&\t\\colorbox{green5}{\\textbf{\\phantom{-}0.991}}\t&\t\\colorbox{green5}{\\textbf{\\phantom{-}0.809}}\t&\t\\colorbox{white}{\\textbf{\\phantom{-}0.168}}\t&\t\\colorbox{green1}{\\textbf{\\phantom{-}0.890}}\t&\t\\colorbox{green1}{\\textbf{\\phantom{-}0.949}}\t&\t\\colorbox{white}{\\textbf{\\phantom{-}0.114}}\t\t \\\\ \n",
      "metricx\\_xl\\_MQM\\_2020\t\t\t\t\t&\t\\colorbox{green5}{\\textbf{\\phantom{-}0.991}}\t&\t\\colorbox{green5}{\\textbf{\\phantom{-}0.924}}\t&\t\\colorbox{green3}{\\textbf{\\phantom{-}0.665}}\t&\t\\colorbox{green3}{\\textbf{\\phantom{-}1.496}}\t&\t\\colorbox{green3}{\\textbf{\\phantom{-}1.518}}\t&\t\\colorbox{green2}{\\textbf{\\phantom{-}0.978}}\t\t \\\\ \n",
      "metricx\\_xxl\\_DA\\_2019\t\t\t\t\t&\t\\colorbox{green5}{\\textbf{\\phantom{-}0.983}}\t&\t\\colorbox{green5}{\\textbf{\\phantom{-}0.874}}\t&\t\\colorbox{green1}{\\textbf{\\phantom{-}0.289}}\t&\t\\colorbox{green1}{\\textbf{\\phantom{-}0.955}}\t&\t\\colorbox{green2}{\\textbf{\\phantom{-}1.020}}\t&\t\\colorbox{white}{\\textbf{\\phantom{-}0.163}}\t\t \\\\ \n",
      "metricx\\_xxl\\_MQM\\_2020\t\t\t\t\t&\t\\colorbox{green5}{\\textbf{\\phantom{-}0.991}}\t&\t\\colorbox{green5}{\\textbf{\\phantom{-}0.899}}\t&\t\\colorbox{green3}{\\textbf{\\phantom{-}0.635}}\t&\t\\colorbox{green2}{\\textbf{\\phantom{-}1.264}}\t&\t\\colorbox{green2}{\\textbf{\\phantom{-}1.227}}\t&\t\\colorbox{green1}{\\textbf{\\phantom{-}0.711}}\t\t \\\\ \n",
      "MS-COMET-22\t\t\t\t\t&\t\\colorbox{green3}{\\textbf{\\phantom{-}0.732}}\t&\t\\colorbox{green1}{\\textbf{\\phantom{-}0.280}}\t&\t\\colorbox{red1}{\\textbf{-0.251}}\t&\t\\colorbox{white}{\\textbf{\\phantom{-}0.211}}\t&\t\\colorbox{white}{\\textbf{\\phantom{-}0.123}}\t&\t\\colorbox{white}{\\textbf{-0.129}}\t\t \\\\ \n",
      "UniTE\t\t\t\t\t&\t\\colorbox{green5}{\\textbf{\\phantom{-}0.983}}\t&\t\\colorbox{green3}{\\textbf{\\phantom{-}0.717}}\t&\t\\colorbox{red1}{\\textbf{-0.326}}\t&\t\\colorbox{green1}{\\textbf{\\phantom{-}0.499}}\t&\t\\colorbox{white}{\\textbf{\\phantom{-}0.417}}\t&\t\\colorbox{white}{\\textbf{-0.216}}\t\t \\\\ \n",
      "UniTE-ref\t\t\t\t\t&\t\\colorbox{green5}{\\textbf{\\phantom{-}0.936}}\t&\t\\colorbox{green3}{\\textbf{\\phantom{-}0.769}}\t&\t\\colorbox{white}{\\textbf{-0.014}}\t&\t\\colorbox{white}{\\textbf{\\phantom{-}0.451}}\t&\t\\colorbox{white}{\\textbf{\\phantom{-}0.404}}\t&\t\\colorbox{white}{\\textbf{-0.034}}\t\t \\\\ \n",
      "\\midrule \n",
      "COMETKiwi\t\t\t\t\t&\t\\colorbox{green5}{\\textbf{\\phantom{-}0.938}}\t&\t\\colorbox{green5}{\\textbf{\\phantom{-}0.824}}\t&\t\\colorbox{green2}{\\textbf{\\phantom{-}0.541}}\t&\t\\colorbox{white}{\\textbf{\\phantom{-}0.430}}\t&\t\\colorbox{green1}{\\textbf{\\phantom{-}0.491}}\t&\t\\colorbox{white}{\\textbf{\\phantom{-}0.315}}\t\t \\\\ \n",
      "Cross-QE\t\t\t\t\t&\t\\colorbox{green5}{\\textbf{\\phantom{-}0.897}}\t&\t\\colorbox{green3}{\\textbf{\\phantom{-}0.736}}\t&\t\\colorbox{green2}{\\textbf{\\phantom{-}0.509}}\t&\t\\colorbox{white}{\\textbf{\\phantom{-}0.392}}\t&\t\\colorbox{white}{\\textbf{\\phantom{-}0.425}}\t&\t\\colorbox{white}{\\textbf{\\phantom{-}0.284}}\t\t \\\\ \n",
      "HWTSC-Teacher-Sim\t\t\t\t\t&\t\\colorbox{green5}{\\textbf{\\phantom{-}0.818}}\t&\t\\colorbox{green3}{\\textbf{\\phantom{-}0.620}}\t&\t\\colorbox{green1}{\\textbf{\\phantom{-}0.296}}\t&\t\\colorbox{white}{\\textbf{\\phantom{-}0.150}}\t&\t\\colorbox{white}{\\textbf{\\phantom{-}0.163}}\t&\t\\colorbox{white}{\\textbf{\\phantom{-}0.075}}\t\t \\\\ \n",
      "HWTSC-TLM\t\t\t\t\t&\t\\colorbox{green3}{\\textbf{\\phantom{-}0.762}}\t&\t\\colorbox{green3}{\\textbf{\\phantom{-}0.620}}\t&\t\\colorbox{green2}{\\textbf{\\phantom{-}0.411}}\t&\t\\colorbox{white}{\\textbf{\\phantom{-}0.212}}\t&\t\\colorbox{white}{\\textbf{\\phantom{-}0.247}}\t&\t\\colorbox{white}{\\textbf{\\phantom{-}0.160}}\t\t \\\\ \n",
      "KG-BERTScore\t\t\t\t\t&\t\\colorbox{green5}{\\textbf{\\phantom{-}0.972}}\t&\t\\colorbox{green5}{\\textbf{\\phantom{-}0.868}}\t&\t\\colorbox{green2}{\\textbf{\\phantom{-}0.507}}\t&\t\\colorbox{white}{\\textbf{\\phantom{-}0.322}}\t&\t\\colorbox{white}{\\textbf{\\phantom{-}0.327}}\t&\t\\colorbox{white}{\\textbf{\\phantom{-}0.236}}\t\t \\\\ \n",
      "MS-COMET-QE-22\t\t\t\t\t&\t\\colorbox{green3}{\\textbf{\\phantom{-}0.700}}\t&\t\\colorbox{green2}{\\textbf{\\phantom{-}0.423}}\t&\t\\colorbox{green1}{\\textbf{\\phantom{-}0.287}}\t&\t\\colorbox{white}{\\textbf{\\phantom{-}0.238}}\t&\t\\colorbox{white}{\\textbf{\\phantom{-}0.231}}\t&\t\\colorbox{white}{\\textbf{\\phantom{-}0.149}}\t\t \\\\ \n",
      "UniTE-src\t\t\t\t\t&\t\\colorbox{green5}{\\textbf{\\phantom{-}0.940}}\t&\t\\colorbox{green3}{\\textbf{\\phantom{-}0.788}}\t&\t\\colorbox{green2}{\\textbf{\\phantom{-}0.565}}\t&\t\\colorbox{green1}{\\textbf{\\phantom{-}0.502}}\t&\t\\colorbox{green1}{\\textbf{\\phantom{-}0.531}}\t&\t\\colorbox{white}{\\textbf{\\phantom{-}0.354}}\t\t \\\\ \n",
      "\\midrule \n",
      "Average\t\t\t\t\t&\t\\colorbox{green5}{\\textbf{\\phantom{-}0.886}}\t&\t\\colorbox{green5}{\\textbf{\\phantom{-}0.422}}\t&\t\\colorbox{green2}{\\textbf{\\phantom{-}0.373}}\t&\t\\colorbox{green3}{\\textbf{\\phantom{-}0.304}}\t&\t\\colorbox{white}{\\textbf{-0.120}}\t&\t\\colorbox{red3}{\\textbf{-0.296}}\t\\\\\n"
     ]
    }
   ],
   "source": [
    "COLORS = ['\\colorbox{green1}', '\\colorbox{green2}', '\\colorbox{green3}', '\\colorbox{green4}', '\\colorbox{green5}', '\\colorbox{white}', '\\colorbox{red1}', '\\colorbox{red2}', '\\colorbox{red3}', '\\colorbox{red4}', '\\colorbox{red5}']\n",
    "COLORS = ['\\colorbox{green1}', '\\colorbox{green2}', '\\colorbox{green4}', '\\colorbox{green5}', '\\colorbox{white}', '\\colorbox{red1}', '\\colorbox{red2}', '\\colorbox{red4}', '\\colorbox{red5}']\n",
    "\n",
    "# From the ACES 2022 Paper:\n",
    "METRICS_GROUPING_SHORT_2022 = {\"baseline\": [\"BLEU\", \"COMET-20\", \"COMET-QE\"],\n",
    "                        \"reference-based\": [\"COMET-22\", 'metricx_xl_MQM_2020', \"UniTE\", \"UniTE-ref\"],\n",
    "                        \"reference-free\": [\"COMETKiwi\", 'KG-BERTScore', \"UniTE-src\"]\n",
    "                    }\n",
    "METRICS_GROUPING_SHORT_2023 = {\"baseline\": [\"BLEU\", \"BERTScore\", \"BLEURT-20\", \"YISI-1\"],\n",
    "                        \"reference-based\": [\"COMET-22\", 'metricx_xl_MQM_2020', \"UniTE\", \"UniTE-ref\"],\n",
    "                        \"reference-free\": [\"COMETKiwi\", 'KG-BERTScore', \"UniTE-src\"]\n",
    "                    }\n",
    "\n",
    "phenomena = ['untranslated', 'real-world knowledge', 'wrong language']\n",
    "phenomena = [\"hallucination-number-level-1\", \"hallucination-number-level-2\", \"hallucination-number-level-3\"]\n",
    "\n",
    "PHENOMENA_HEADER_1_NUMBERS = dict(zip(phenomena, ['\\\\textbf{Level 1}', '\\\\textbf{Level 2}', '\\\\textbf{Level 3}']))\n",
    "PHENOMENA_HEADER_2_NUMBERS = dict(zip(phenomena, ['', '',  '']))\n",
    "NUM_SAMPLES_NUMBERS = {p:len(ACES_scores_2022[\"BLEU\"][p][0]) for p in phenomena}\n",
    "\n",
    "# print(make_header(phenomena=phenomena, ACES_column=False, p_header_1=PHENOMENA_HEADER_1_NUMBERS, p_header_2=PHENOMENA_HEADER_2_NUMBERS, num_samples=NUM_SAMPLES_NUMBERS))\n",
    "print(generate_summary_table_double(ACES_summary_2022_numbers, sensitivities_2022_unmapped, metrics_groups=METRICS_GROUPING_2022, phenomena=phenomena, ACES_column=False))\n",
    "# print(make_footer(averages=SUMMARY_AVERAGES_2023, phenomena=PHENOMENA))"
   ]
  },
  {
   "cell_type": "markdown",
   "id": "57fc3a5c",
   "metadata": {},
   "source": [
    "# Functions to Normalize summary scores and sensitivity scores to 0-1, then calculate the difference\n",
    "In process"
   ]
  },
  {
   "cell_type": "code",
   "execution_count": 71,
   "id": "5c3ce854",
   "metadata": {},
   "outputs": [],
   "source": [
    "def scale_to_max_one(scores:Dict[str, Dict[str, Dict[str, int]]]):\n",
    "    out = copy.deepcopy(scores)\n",
    "    max = np.max([np.max(list(p.values())) for p in scores.values()])\n",
    "    min = np.min([np.min(list(p.values())) for p in scores.values()])\n",
    "    for m in out:\n",
    "        for p in out[m]:\n",
    "            out[m][p] = (out[m][p] - min) / (max - min)\n",
    "    return out\n",
    "\n",
    "def scale_to_one(scores:Dict[str, Dict[str, Dict[str, int]]]):\n",
    "    out = copy.deepcopy(scores)\n",
    "    sum = 0.0\n",
    "    for p in scores.values():\n",
    "        sum += np.sum(list(p.values()))\n",
    "    for m in out:\n",
    "        for p in out[m]:\n",
    "            out[m][p] /= sum\n",
    "    return out\n",
    "\n",
    "def diff(scores1, scores2):\n",
    "    scores_out = {}\n",
    "    for metric in scores1:\n",
    "        if metric in METRIC_NAMES_MAPPING:\n",
    "            metric = METRIC_NAMES_MAPPING[metric]\n",
    "        if metric in scores2:\n",
    "            metric2 = metric\n",
    "            scores_out[metric] = {p:scores2[metric2][p]-scores1[metric][p] for p in scores1[metric] if p in scores2[metric]} \n",
    "        elif metric in METRIC_MAPPING_BACK:\n",
    "            metric2 = METRIC_MAPPING_BACK[metric]\n",
    "            scores_out[metric] = {p:scores2[metric2][p]-scores1[metric][p] for p in scores1[metric] if p in scores2[metric]} \n",
    "        else:\n",
    "            print(metric)\n",
    "        \n",
    "    return scores_out"
   ]
  },
  {
   "cell_type": "markdown",
   "id": "06fd4eaf",
   "metadata": {},
   "source": [
    "# Plots"
   ]
  },
  {
   "cell_type": "code",
   "execution_count": 26,
   "id": "0c0ff544",
   "metadata": {},
   "outputs": [],
   "source": [
    "# create groups here:\n",
    "means = {metric:[sensitivities_2022[metric][p] for p in PHENOMENA] for metric in metrics_names_2022}\n",
    "tau = {metric:[ACES_summary_2022[metric][p] for p in PHENOMENA] for metric in metrics_names_2022 if metric in ACES_summary_2022}"
   ]
  },
  {
   "cell_type": "code",
   "execution_count": 21,
   "id": "1779554d",
   "metadata": {},
   "outputs": [],
   "source": [
    "# Group the metrics:\n",
    "bleus = [\"BLEU\", \"f101spBLEU\", \"f200spBLEU\"]\n",
    "comets = [\"COMET-20\", \"COMET-22\", \"MS-COMET-22\", \"MS-COMET-QE-22\"]\n",
    "xl = [\"metricx_xl_DA_2019\", \"metricx_xl_MQM_2020\", \"metricx_xxl_DA_2019\", \"metricx_xxl_MQM_2020\"]\n",
    "unite = [\"UniTE\", \"UniTE-src\", \"UniTE-ref\"]"
   ]
  },
  {
   "cell_type": "code",
   "execution_count": 28,
   "id": "ca277ffc",
   "metadata": {},
   "outputs": [
    {
     "data": {
      "application/vnd.plotly.v1+json": {
       "config": {
        "plotlyServerURL": "https://plot.ly"
       },
       "data": [
        {
         "line": {
          "color": "lightsteelblue"
         },
         "mode": "lines",
         "name": "Mean(good-bad) - BLEU",
         "type": "scatter",
         "x": [
          "addition",
          "omission",
          "mistranslation",
          "untranslated",
          "do not translate",
          "overtranslation",
          "undertranslation",
          "real-world knowledge",
          "wrong language",
          "punctuation"
         ],
         "y": [
          0.2148287208357031,
          0.2547030756159054,
          -0.08824611291143918,
          1.1936012111929082,
          0.25324141756487745,
          -1.099805470474964,
          -1.1013204692761616,
          -0.3062169882384918,
          0.650622573355296,
          0.34640999424957986
         ]
        },
        {
         "line": {
          "color": "aqua"
         },
         "mode": "lines",
         "name": "Mean(good-bad) - f101spBLEU",
         "type": "scatter",
         "x": [
          "addition",
          "omission",
          "mistranslation",
          "untranslated",
          "do not translate",
          "overtranslation",
          "undertranslation",
          "real-world knowledge",
          "wrong language",
          "punctuation"
         ],
         "y": [
          0.13151156220901616,
          0.1863532850365928,
          -0.0770431248090204,
          0.8976180911201121,
          0.31322648852962093,
          -0.5682955103975651,
          -0.6106474620460811,
          -0.16694896017579922,
          0.49766527107268943,
          0.20342198914362314
         ]
        },
        {
         "line": {
          "color": "aquamarine"
         },
         "mode": "lines",
         "name": "Mean(good-bad) - f200spBLEU",
         "type": "scatter",
         "x": [
          "addition",
          "omission",
          "mistranslation",
          "untranslated",
          "do not translate",
          "overtranslation",
          "undertranslation",
          "real-world knowledge",
          "wrong language",
          "punctuation"
         ],
         "y": [
          0.12581225313618488,
          0.18170729852854106,
          -0.07728893460685092,
          0.8810556975739291,
          0.32105350563551555,
          -0.5326243110635183,
          -0.5547589251683395,
          -0.16597207427446717,
          0.4896448112722411,
          0.1850044698107335
         ]
        },
        {
         "line": {
          "color": "chocolate"
         },
         "mode": "lines",
         "name": "tau - BLEU",
         "type": "scatter",
         "x": [
          "addition",
          "omission",
          "mistranslation",
          "untranslated",
          "do not translate",
          "overtranslation",
          "undertranslation",
          "real-world knowledge",
          "wrong language",
          "punctuation"
         ],
         "y": [
          0.748,
          0.435,
          -0.229,
          0.353,
          0.6,
          -0.838,
          -0.856,
          -0.768,
          0.661,
          0.638
         ]
        },
        {
         "line": {
          "color": "coral"
         },
         "mode": "lines",
         "name": "tau - f101spBLEU",
         "type": "scatter",
         "x": [
          "addition",
          "omission",
          "mistranslation",
          "untranslated",
          "do not translate",
          "overtranslation",
          "undertranslation",
          "real-world knowledge",
          "wrong language",
          "punctuation"
         ],
         "y": [
          0.662,
          0.59,
          -0.084,
          0.66,
          0.94,
          -0.738,
          -0.826,
          -0.405,
          0.638,
          0.639
         ]
        },
        {
         "line": {
          "color": "crimson"
         },
         "mode": "lines",
         "name": "tau - f200spBLEU",
         "type": "scatter",
         "x": [
          "addition",
          "omission",
          "mistranslation",
          "untranslated",
          "do not translate",
          "overtranslation",
          "undertranslation",
          "real-world knowledge",
          "wrong language",
          "punctuation"
         ],
         "y": [
          0.664,
          0.59,
          -0.082,
          0.687,
          0.92,
          -0.752,
          -0.794,
          -0.394,
          0.658,
          0.648
         ]
        }
       ],
       "layout": {
        "template": {
         "data": {
          "bar": [
           {
            "error_x": {
             "color": "#2a3f5f"
            },
            "error_y": {
             "color": "#2a3f5f"
            },
            "marker": {
             "line": {
              "color": "#E5ECF6",
              "width": 0.5
             },
             "pattern": {
              "fillmode": "overlay",
              "size": 10,
              "solidity": 0.2
             }
            },
            "type": "bar"
           }
          ],
          "barpolar": [
           {
            "marker": {
             "line": {
              "color": "#E5ECF6",
              "width": 0.5
             },
             "pattern": {
              "fillmode": "overlay",
              "size": 10,
              "solidity": 0.2
             }
            },
            "type": "barpolar"
           }
          ],
          "carpet": [
           {
            "aaxis": {
             "endlinecolor": "#2a3f5f",
             "gridcolor": "white",
             "linecolor": "white",
             "minorgridcolor": "white",
             "startlinecolor": "#2a3f5f"
            },
            "baxis": {
             "endlinecolor": "#2a3f5f",
             "gridcolor": "white",
             "linecolor": "white",
             "minorgridcolor": "white",
             "startlinecolor": "#2a3f5f"
            },
            "type": "carpet"
           }
          ],
          "choropleth": [
           {
            "colorbar": {
             "outlinewidth": 0,
             "ticks": ""
            },
            "type": "choropleth"
           }
          ],
          "contour": [
           {
            "colorbar": {
             "outlinewidth": 0,
             "ticks": ""
            },
            "colorscale": [
             [
              0,
              "#0d0887"
             ],
             [
              0.1111111111111111,
              "#46039f"
             ],
             [
              0.2222222222222222,
              "#7201a8"
             ],
             [
              0.3333333333333333,
              "#9c179e"
             ],
             [
              0.4444444444444444,
              "#bd3786"
             ],
             [
              0.5555555555555556,
              "#d8576b"
             ],
             [
              0.6666666666666666,
              "#ed7953"
             ],
             [
              0.7777777777777778,
              "#fb9f3a"
             ],
             [
              0.8888888888888888,
              "#fdca26"
             ],
             [
              1,
              "#f0f921"
             ]
            ],
            "type": "contour"
           }
          ],
          "contourcarpet": [
           {
            "colorbar": {
             "outlinewidth": 0,
             "ticks": ""
            },
            "type": "contourcarpet"
           }
          ],
          "heatmap": [
           {
            "colorbar": {
             "outlinewidth": 0,
             "ticks": ""
            },
            "colorscale": [
             [
              0,
              "#0d0887"
             ],
             [
              0.1111111111111111,
              "#46039f"
             ],
             [
              0.2222222222222222,
              "#7201a8"
             ],
             [
              0.3333333333333333,
              "#9c179e"
             ],
             [
              0.4444444444444444,
              "#bd3786"
             ],
             [
              0.5555555555555556,
              "#d8576b"
             ],
             [
              0.6666666666666666,
              "#ed7953"
             ],
             [
              0.7777777777777778,
              "#fb9f3a"
             ],
             [
              0.8888888888888888,
              "#fdca26"
             ],
             [
              1,
              "#f0f921"
             ]
            ],
            "type": "heatmap"
           }
          ],
          "heatmapgl": [
           {
            "colorbar": {
             "outlinewidth": 0,
             "ticks": ""
            },
            "colorscale": [
             [
              0,
              "#0d0887"
             ],
             [
              0.1111111111111111,
              "#46039f"
             ],
             [
              0.2222222222222222,
              "#7201a8"
             ],
             [
              0.3333333333333333,
              "#9c179e"
             ],
             [
              0.4444444444444444,
              "#bd3786"
             ],
             [
              0.5555555555555556,
              "#d8576b"
             ],
             [
              0.6666666666666666,
              "#ed7953"
             ],
             [
              0.7777777777777778,
              "#fb9f3a"
             ],
             [
              0.8888888888888888,
              "#fdca26"
             ],
             [
              1,
              "#f0f921"
             ]
            ],
            "type": "heatmapgl"
           }
          ],
          "histogram": [
           {
            "marker": {
             "pattern": {
              "fillmode": "overlay",
              "size": 10,
              "solidity": 0.2
             }
            },
            "type": "histogram"
           }
          ],
          "histogram2d": [
           {
            "colorbar": {
             "outlinewidth": 0,
             "ticks": ""
            },
            "colorscale": [
             [
              0,
              "#0d0887"
             ],
             [
              0.1111111111111111,
              "#46039f"
             ],
             [
              0.2222222222222222,
              "#7201a8"
             ],
             [
              0.3333333333333333,
              "#9c179e"
             ],
             [
              0.4444444444444444,
              "#bd3786"
             ],
             [
              0.5555555555555556,
              "#d8576b"
             ],
             [
              0.6666666666666666,
              "#ed7953"
             ],
             [
              0.7777777777777778,
              "#fb9f3a"
             ],
             [
              0.8888888888888888,
              "#fdca26"
             ],
             [
              1,
              "#f0f921"
             ]
            ],
            "type": "histogram2d"
           }
          ],
          "histogram2dcontour": [
           {
            "colorbar": {
             "outlinewidth": 0,
             "ticks": ""
            },
            "colorscale": [
             [
              0,
              "#0d0887"
             ],
             [
              0.1111111111111111,
              "#46039f"
             ],
             [
              0.2222222222222222,
              "#7201a8"
             ],
             [
              0.3333333333333333,
              "#9c179e"
             ],
             [
              0.4444444444444444,
              "#bd3786"
             ],
             [
              0.5555555555555556,
              "#d8576b"
             ],
             [
              0.6666666666666666,
              "#ed7953"
             ],
             [
              0.7777777777777778,
              "#fb9f3a"
             ],
             [
              0.8888888888888888,
              "#fdca26"
             ],
             [
              1,
              "#f0f921"
             ]
            ],
            "type": "histogram2dcontour"
           }
          ],
          "mesh3d": [
           {
            "colorbar": {
             "outlinewidth": 0,
             "ticks": ""
            },
            "type": "mesh3d"
           }
          ],
          "parcoords": [
           {
            "line": {
             "colorbar": {
              "outlinewidth": 0,
              "ticks": ""
             }
            },
            "type": "parcoords"
           }
          ],
          "pie": [
           {
            "automargin": true,
            "type": "pie"
           }
          ],
          "scatter": [
           {
            "fillpattern": {
             "fillmode": "overlay",
             "size": 10,
             "solidity": 0.2
            },
            "type": "scatter"
           }
          ],
          "scatter3d": [
           {
            "line": {
             "colorbar": {
              "outlinewidth": 0,
              "ticks": ""
             }
            },
            "marker": {
             "colorbar": {
              "outlinewidth": 0,
              "ticks": ""
             }
            },
            "type": "scatter3d"
           }
          ],
          "scattercarpet": [
           {
            "marker": {
             "colorbar": {
              "outlinewidth": 0,
              "ticks": ""
             }
            },
            "type": "scattercarpet"
           }
          ],
          "scattergeo": [
           {
            "marker": {
             "colorbar": {
              "outlinewidth": 0,
              "ticks": ""
             }
            },
            "type": "scattergeo"
           }
          ],
          "scattergl": [
           {
            "marker": {
             "colorbar": {
              "outlinewidth": 0,
              "ticks": ""
             }
            },
            "type": "scattergl"
           }
          ],
          "scattermapbox": [
           {
            "marker": {
             "colorbar": {
              "outlinewidth": 0,
              "ticks": ""
             }
            },
            "type": "scattermapbox"
           }
          ],
          "scatterpolar": [
           {
            "marker": {
             "colorbar": {
              "outlinewidth": 0,
              "ticks": ""
             }
            },
            "type": "scatterpolar"
           }
          ],
          "scatterpolargl": [
           {
            "marker": {
             "colorbar": {
              "outlinewidth": 0,
              "ticks": ""
             }
            },
            "type": "scatterpolargl"
           }
          ],
          "scatterternary": [
           {
            "marker": {
             "colorbar": {
              "outlinewidth": 0,
              "ticks": ""
             }
            },
            "type": "scatterternary"
           }
          ],
          "surface": [
           {
            "colorbar": {
             "outlinewidth": 0,
             "ticks": ""
            },
            "colorscale": [
             [
              0,
              "#0d0887"
             ],
             [
              0.1111111111111111,
              "#46039f"
             ],
             [
              0.2222222222222222,
              "#7201a8"
             ],
             [
              0.3333333333333333,
              "#9c179e"
             ],
             [
              0.4444444444444444,
              "#bd3786"
             ],
             [
              0.5555555555555556,
              "#d8576b"
             ],
             [
              0.6666666666666666,
              "#ed7953"
             ],
             [
              0.7777777777777778,
              "#fb9f3a"
             ],
             [
              0.8888888888888888,
              "#fdca26"
             ],
             [
              1,
              "#f0f921"
             ]
            ],
            "type": "surface"
           }
          ],
          "table": [
           {
            "cells": {
             "fill": {
              "color": "#EBF0F8"
             },
             "line": {
              "color": "white"
             }
            },
            "header": {
             "fill": {
              "color": "#C8D4E3"
             },
             "line": {
              "color": "white"
             }
            },
            "type": "table"
           }
          ]
         },
         "layout": {
          "annotationdefaults": {
           "arrowcolor": "#2a3f5f",
           "arrowhead": 0,
           "arrowwidth": 1
          },
          "autotypenumbers": "strict",
          "coloraxis": {
           "colorbar": {
            "outlinewidth": 0,
            "ticks": ""
           }
          },
          "colorscale": {
           "diverging": [
            [
             0,
             "#8e0152"
            ],
            [
             0.1,
             "#c51b7d"
            ],
            [
             0.2,
             "#de77ae"
            ],
            [
             0.3,
             "#f1b6da"
            ],
            [
             0.4,
             "#fde0ef"
            ],
            [
             0.5,
             "#f7f7f7"
            ],
            [
             0.6,
             "#e6f5d0"
            ],
            [
             0.7,
             "#b8e186"
            ],
            [
             0.8,
             "#7fbc41"
            ],
            [
             0.9,
             "#4d9221"
            ],
            [
             1,
             "#276419"
            ]
           ],
           "sequential": [
            [
             0,
             "#0d0887"
            ],
            [
             0.1111111111111111,
             "#46039f"
            ],
            [
             0.2222222222222222,
             "#7201a8"
            ],
            [
             0.3333333333333333,
             "#9c179e"
            ],
            [
             0.4444444444444444,
             "#bd3786"
            ],
            [
             0.5555555555555556,
             "#d8576b"
            ],
            [
             0.6666666666666666,
             "#ed7953"
            ],
            [
             0.7777777777777778,
             "#fb9f3a"
            ],
            [
             0.8888888888888888,
             "#fdca26"
            ],
            [
             1,
             "#f0f921"
            ]
           ],
           "sequentialminus": [
            [
             0,
             "#0d0887"
            ],
            [
             0.1111111111111111,
             "#46039f"
            ],
            [
             0.2222222222222222,
             "#7201a8"
            ],
            [
             0.3333333333333333,
             "#9c179e"
            ],
            [
             0.4444444444444444,
             "#bd3786"
            ],
            [
             0.5555555555555556,
             "#d8576b"
            ],
            [
             0.6666666666666666,
             "#ed7953"
            ],
            [
             0.7777777777777778,
             "#fb9f3a"
            ],
            [
             0.8888888888888888,
             "#fdca26"
            ],
            [
             1,
             "#f0f921"
            ]
           ]
          },
          "colorway": [
           "#636efa",
           "#EF553B",
           "#00cc96",
           "#ab63fa",
           "#FFA15A",
           "#19d3f3",
           "#FF6692",
           "#B6E880",
           "#FF97FF",
           "#FECB52"
          ],
          "font": {
           "color": "#2a3f5f"
          },
          "geo": {
           "bgcolor": "white",
           "lakecolor": "white",
           "landcolor": "#E5ECF6",
           "showlakes": true,
           "showland": true,
           "subunitcolor": "white"
          },
          "hoverlabel": {
           "align": "left"
          },
          "hovermode": "closest",
          "mapbox": {
           "style": "light"
          },
          "paper_bgcolor": "white",
          "plot_bgcolor": "#E5ECF6",
          "polar": {
           "angularaxis": {
            "gridcolor": "white",
            "linecolor": "white",
            "ticks": ""
           },
           "bgcolor": "#E5ECF6",
           "radialaxis": {
            "gridcolor": "white",
            "linecolor": "white",
            "ticks": ""
           }
          },
          "scene": {
           "xaxis": {
            "backgroundcolor": "#E5ECF6",
            "gridcolor": "white",
            "gridwidth": 2,
            "linecolor": "white",
            "showbackground": true,
            "ticks": "",
            "zerolinecolor": "white"
           },
           "yaxis": {
            "backgroundcolor": "#E5ECF6",
            "gridcolor": "white",
            "gridwidth": 2,
            "linecolor": "white",
            "showbackground": true,
            "ticks": "",
            "zerolinecolor": "white"
           },
           "zaxis": {
            "backgroundcolor": "#E5ECF6",
            "gridcolor": "white",
            "gridwidth": 2,
            "linecolor": "white",
            "showbackground": true,
            "ticks": "",
            "zerolinecolor": "white"
           }
          },
          "shapedefaults": {
           "line": {
            "color": "#2a3f5f"
           }
          },
          "ternary": {
           "aaxis": {
            "gridcolor": "white",
            "linecolor": "white",
            "ticks": ""
           },
           "baxis": {
            "gridcolor": "white",
            "linecolor": "white",
            "ticks": ""
           },
           "bgcolor": "#E5ECF6",
           "caxis": {
            "gridcolor": "white",
            "linecolor": "white",
            "ticks": ""
           }
          },
          "title": {
           "x": 0.05
          },
          "xaxis": {
           "automargin": true,
           "gridcolor": "white",
           "linecolor": "white",
           "ticks": "",
           "title": {
            "standoff": 15
           },
           "zerolinecolor": "white",
           "zerolinewidth": 2
          },
          "yaxis": {
           "automargin": true,
           "gridcolor": "white",
           "linecolor": "white",
           "ticks": "",
           "title": {
            "standoff": 15
           },
           "zerolinecolor": "white",
           "zerolinewidth": 2
          }
         }
        },
        "title": {
         "text": "Mean(good-bad) tau"
        }
       }
      }
     },
     "metadata": {},
     "output_type": "display_data"
    }
   ],
   "source": [
    "grouped_line_plot([means, tau], bleus, [\"Mean(good-bad)\", \"tau\"], PHENOMENA)"
   ]
  },
  {
   "cell_type": "code",
   "execution_count": 38,
   "id": "cb61b6f1",
   "metadata": {},
   "outputs": [],
   "source": [
    "def grouped_line_plot(groups: List[Dict[str,list]], metrics_names: List[str], group_labels: List[str], phenomena: List[str]):\n",
    "    '''\n",
    "    Inputs: \n",
    "        1. means and tau scores\n",
    "        format = {\n",
    "            metric1: [score for phenomenon 1, score for phenomenon 2, ..]\n",
    "        }\n",
    "        2. A list of the labels for: \n",
    "            the groups (mean (good-bad), tau, ...)\n",
    "            metrics\n",
    "            phenomena (the order is important because in means and tau scores the scores are ordered acc. to phenomena)\n",
    "    '''\n",
    "    assert len(groups) > 0 and len(groups) == len(group_labels) and len(metrics_names) > 0\n",
    "    fig = go.Figure()\n",
    "    colors = [['lightsteelblue',  'aqua', 'aquamarine', 'darkturquoise'],\n",
    "        ['chocolate', 'coral', 'crimson', 'orange']]\n",
    "    for i,group in enumerate(groups):\n",
    "        for j,metric in enumerate(metrics_names):\n",
    "            fig.add_trace(go.Scatter(x=phenomena, y=group[metric],mode='lines',name=group_labels[i]+\" - \"+metric,\n",
    "                          line=dict(color=colors[i][j])))\n",
    "    fig.update_layout(\n",
    "        title=\" \".join(group_labels)\n",
    "        )\n",
    "    fig.show()"
   ]
  }
 ],
 "metadata": {
  "kernelspec": {
   "display_name": "Python 3 (ipykernel)",
   "language": "python",
   "name": "python3"
  },
  "language_info": {
   "codemirror_mode": {
    "name": "ipython",
    "version": 3
   },
   "file_extension": ".py",
   "mimetype": "text/x-python",
   "name": "python",
   "nbconvert_exporter": "python",
   "pygments_lexer": "ipython3",
   "version": "3.11.5"
  }
 },
 "nbformat": 4,
 "nbformat_minor": 5
}
