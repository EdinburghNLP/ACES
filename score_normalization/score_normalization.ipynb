{
 "cells": [
  {
   "cell_type": "code",
   "execution_count": 1,
   "id": "aa50da46",
   "metadata": {},
   "outputs": [],
   "source": [
    "#!/usr/bin/env python3\n",
    "import os, sys\n",
    "from normalize_scores_utils import *\n",
    "\n",
    "sys.path.append(os.path.abspath(os.path.join(os.getcwd(), \"..\")))"
   ]
  },
  {
   "cell_type": "markdown",
   "id": "0e247e3a",
   "metadata": {},
   "source": [
    "# Main Part: Table and Correlations"
   ]
  },
  {
   "cell_type": "code",
   "execution_count": 4,
   "id": "aa5b6318",
   "metadata": {},
   "outputs": [
    {
     "name": "stdout",
     "output_type": "stream",
     "text": [
      "cs-en\n"
     ]
    },
    {
     "name": "stderr",
     "output_type": "stream",
     "text": [
      "100%|██████████| 57/57 [00:02<00:00, 28.00it/s]\n"
     ]
    },
    {
     "name": "stdout",
     "output_type": "stream",
     "text": [
      "cs-uk\n"
     ]
    },
    {
     "name": "stderr",
     "output_type": "stream",
     "text": [
      "100%|██████████| 57/57 [00:01<00:00, 46.75it/s]\n"
     ]
    },
    {
     "name": "stdout",
     "output_type": "stream",
     "text": [
      "de-en\n"
     ]
    },
    {
     "name": "stderr",
     "output_type": "stream",
     "text": [
      "100%|██████████| 57/57 [00:02<00:00, 27.27it/s]\n"
     ]
    },
    {
     "name": "stdout",
     "output_type": "stream",
     "text": [
      "de-fr\n"
     ]
    },
    {
     "name": "stderr",
     "output_type": "stream",
     "text": [
      "100%|██████████| 57/57 [00:00<00:00, 59.06it/s]\n"
     ]
    },
    {
     "name": "stdout",
     "output_type": "stream",
     "text": [
      "en-cs\n"
     ]
    },
    {
     "name": "stderr",
     "output_type": "stream",
     "text": [
      "100%|██████████| 57/57 [00:02<00:00, 23.72it/s]\n"
     ]
    },
    {
     "name": "stdout",
     "output_type": "stream",
     "text": [
      "en-de\n"
     ]
    },
    {
     "name": "stderr",
     "output_type": "stream",
     "text": [
      "100%|██████████| 57/57 [00:02<00:00, 19.86it/s]\n"
     ]
    },
    {
     "name": "stdout",
     "output_type": "stream",
     "text": [
      "en-hr\n"
     ]
    },
    {
     "name": "stderr",
     "output_type": "stream",
     "text": [
      "100%|██████████| 57/57 [00:01<00:00, 33.18it/s]\n"
     ]
    },
    {
     "name": "stdout",
     "output_type": "stream",
     "text": [
      "en-ja\n"
     ]
    },
    {
     "name": "stderr",
     "output_type": "stream",
     "text": [
      "100%|██████████| 57/57 [00:01<00:00, 40.42it/s]\n"
     ]
    },
    {
     "name": "stdout",
     "output_type": "stream",
     "text": [
      "en-liv\n"
     ]
    },
    {
     "name": "stderr",
     "output_type": "stream",
     "text": [
      "100%|██████████| 57/57 [00:00<00:00, 124.32it/s]\n"
     ]
    },
    {
     "name": "stdout",
     "output_type": "stream",
     "text": [
      "en-ru\n"
     ]
    },
    {
     "name": "stderr",
     "output_type": "stream",
     "text": [
      "100%|██████████| 57/57 [00:01<00:00, 34.43it/s]\n"
     ]
    },
    {
     "name": "stdout",
     "output_type": "stream",
     "text": [
      "en-uk\n"
     ]
    },
    {
     "name": "stderr",
     "output_type": "stream",
     "text": [
      "100%|██████████| 57/57 [00:01<00:00, 51.56it/s]\n"
     ]
    },
    {
     "name": "stdout",
     "output_type": "stream",
     "text": [
      "en-zh\n"
     ]
    },
    {
     "name": "stderr",
     "output_type": "stream",
     "text": [
      "100%|██████████| 57/57 [00:02<00:00, 24.03it/s]\n"
     ]
    },
    {
     "name": "stdout",
     "output_type": "stream",
     "text": [
      "fr-de\n"
     ]
    },
    {
     "name": "stderr",
     "output_type": "stream",
     "text": [
      "100%|██████████| 57/57 [00:01<00:00, 55.52it/s]\n"
     ]
    },
    {
     "name": "stdout",
     "output_type": "stream",
     "text": [
      "ja-en\n"
     ]
    },
    {
     "name": "stderr",
     "output_type": "stream",
     "text": [
      "100%|██████████| 57/57 [00:01<00:00, 42.79it/s]\n"
     ]
    },
    {
     "name": "stdout",
     "output_type": "stream",
     "text": [
      "liv-en\n"
     ]
    },
    {
     "name": "stderr",
     "output_type": "stream",
     "text": [
      "100%|██████████| 57/57 [00:00<00:00, 127.57it/s]\n"
     ]
    },
    {
     "name": "stdout",
     "output_type": "stream",
     "text": [
      "ru-en\n"
     ]
    },
    {
     "name": "stderr",
     "output_type": "stream",
     "text": [
      "100%|██████████| 57/57 [00:01<00:00, 42.39it/s]\n"
     ]
    },
    {
     "name": "stdout",
     "output_type": "stream",
     "text": [
      "ru-sah\n"
     ]
    },
    {
     "name": "stderr",
     "output_type": "stream",
     "text": [
      "100%|██████████| 57/57 [00:00<00:00, 91.80it/s] \n"
     ]
    },
    {
     "name": "stdout",
     "output_type": "stream",
     "text": [
      "sah-ru\n"
     ]
    },
    {
     "name": "stderr",
     "output_type": "stream",
     "text": [
      "100%|██████████| 57/57 [00:00<00:00, 102.30it/s]\n"
     ]
    },
    {
     "name": "stdout",
     "output_type": "stream",
     "text": [
      "uk-cs\n"
     ]
    },
    {
     "name": "stderr",
     "output_type": "stream",
     "text": [
      "100%|██████████| 57/57 [00:01<00:00, 29.84it/s]\n"
     ]
    },
    {
     "name": "stdout",
     "output_type": "stream",
     "text": [
      "uk-en\n"
     ]
    },
    {
     "name": "stderr",
     "output_type": "stream",
     "text": [
      "100%|██████████| 57/57 [00:01<00:00, 50.23it/s]\n"
     ]
    },
    {
     "name": "stdout",
     "output_type": "stream",
     "text": [
      "zh-en\n"
     ]
    },
    {
     "name": "stderr",
     "output_type": "stream",
     "text": [
      "100%|██████████| 57/57 [00:03<00:00, 18.10it/s]\n"
     ]
    }
   ],
   "source": [
    "data_folder = '/mnt/c/Users/user/Desktop/work/metric_sensitivity_analysis'\n",
    "\n",
    "# Load the ACES scores\n",
    "ACES_scores_2022_path = os.path.join(data_folder, 'aces-scored-2022-all-scores.only.quote_errors_removed.tsv')\n",
    "ACES_scores_2023_path = os.path.join(data_folder, 'aces-scored-2023-all-scores.quote_errors_removed.tsv')\n",
    "# 2023 later\n",
    "ACES_scores_2022 = load_ACES_scores(ACES_scores_2022_path, good_token='.-good', bad_token='.-bad', metric_mapping=METRIC_NAMES_MAPPING)\n",
    "ACES_scores_2023 = load_ACES_scores(ACES_scores_2023_path, good_token='.-good', bad_token='.-bad', metric_mapping=METRIC_NAMES_MAPPING, skip_metrics=[])\n",
    "metrics_names_2022 = set(ACES_scores_2022.keys())\n",
    "metrics_names_2023 = set(ACES_scores_2023.keys())\n",
    "\n",
    "# Load WMT scores\n",
    "WMT_scores_path = os.path.join(data_folder, 'mt-metrics-eval-v2/wmt22/metric-scores')\n",
    "WMT_scores = load_WMT_scores(WMT_scores_path, set(metrics_names_2022).union(set(metrics_names_2023)))\n",
    "\n",
    "# calculate sensitivities\n",
    "metrics_names_2022 = list(set(ACES_scores_2022.keys()).intersection(set(WMT_scores.keys())))\n",
    "sensitivities_2022, _, _, phenomena_2022 = calculate_sensitivities(ACES_scores_2022, WMT_scores, mapping=PHENOMENA_MAPPING)\n",
    "metrics_names_2023 = list(set(ACES_scores_2023.keys()).intersection(set(WMT_scores.keys())))\n",
    "sensitivities_2023, _, _, phenomena_2023 = calculate_sensitivities(ACES_scores_2023, WMT_scores, mapping=PHENOMENA_MAPPING)\n",
    "\n",
    "# load the ACES scores from the paper\n",
    "ACES_summary_2022 = load_ACES_scores_summary_2022()\n",
    "ACES_summary_2023 = load_ACES_scores_summary_2023(skip_metrics=[])"
   ]
  },
  {
   "cell_type": "code",
   "execution_count": 41,
   "id": "a0729c66",
   "metadata": {},
   "outputs": [
    {
     "name": "stdout",
     "output_type": "stream",
     "text": [
      "\\begin{table*}[ht] \n",
      " \\small \n",
      " \\setlength{\\tabcolsep}{3.75pt} \n",
      " \\centering \n",
      " \\begin{tabular}{@{}lccccccccccc@{}} \n",
      " \\\\\\toprule \n",
      " & \\hyperref[sec:addition-omission]{\\textbf{addition}} & \\hyperref[sec:addition-omission]{\\textbf{omission}} & \\hyperref[sec:source-disambig]{\\textbf{mistranslation}} & \\hyperref[sec:untranslated]{\\textbf{untranslated}} & \\hyperref[sec:do-not-translate]{\\textbf{do not}} & \\hyperref[sec:overtranslation_undertranslation]{\\textbf{overtranslation}} & \\hyperref[sec:overtranslation_undertranslation]{\\textbf{undertranslation}} & \\hyperref[sec:real-world-knowledge]{\\textbf{real-world}} & \\hyperref[sec:wrong_language]{\\textbf{wrong}} & \\hyperref[sec:punctuation]{\\textbf{punctuation}} & \\textbf{ACES-} \\\\\n",
      " &  &  &  &  & \\hyperref[sec:do-not-translate]{\\textbf{translate}} &  &  & \\hyperref[sec:real-world-knowledge]{\\textbf{knowledge}} & \\hyperref[sec:wrong_language]{\\textbf{language}} &  & \\textbf{Score}\\\\\n",
      "\\midrule\n",
      "\\textit{\\textbf{Examples}}  & \\textit{999} & \\textit{999} & \\textit{24457} & \\textit{1300} & \\textit{100} & \\textit{1000} & \\textit{1000} & \\textit{2948} & \\textit{2000} & \\textit{1673}\\\\ \n",
      " \\midrule\n",
      "BLEU\t\t\t\t\t&\t\\colorbox{white}{\\textbf{\\phantom{-}0.222}}\t&\t\\colorbox{white}{\\textbf{\\phantom{-}0.253}}\t&\t\\colorbox{red1}{\\textbf{-0.078}}\t&\t\\colorbox{green2}{\\textbf{\\phantom{-}1.213}}\t&\t\\colorbox{white}{\\textbf{\\phantom{-}0.314}}\t&\t\\colorbox{red3}{\\textbf{-1.093}}\t&\t\\colorbox{red3}{\\textbf{-1.096}}\t&\t\\colorbox{red1}{\\textbf{-0.293}}\t&\t\\colorbox{green1}{\\textbf{\\phantom{-}0.655}}\t&\t\\colorbox{white}{\\textbf{\\phantom{-}0.365}}\t&\t\\colorbox{red3}{\\textbf{-7.03}}\t \\\\ \n",
      "f101spBLEU\t\t\t\t\t&\t\\colorbox{white}{\\textbf{\\phantom{-}0.136}}\t&\t\\colorbox{white}{\\textbf{\\phantom{-}0.186}}\t&\t\\colorbox{red1}{\\textbf{-0.071}}\t&\t\\colorbox{green1}{\\textbf{\\phantom{-}0.911}}\t&\t\\colorbox{white}{\\textbf{\\phantom{-}0.348}}\t&\t\\colorbox{red2}{\\textbf{-0.563}}\t&\t\\colorbox{red2}{\\textbf{-0.608}}\t&\t\\colorbox{red1}{\\textbf{-0.160}}\t&\t\\colorbox{white}{\\textbf{\\phantom{-}0.503}}\t&\t\\colorbox{white}{\\textbf{\\phantom{-}0.211}}\t&\t\\colorbox{red2}{\\textbf{-2.97}}\t \\\\ \n",
      "f200spBLEU\t\t\t\t\t&\t\\colorbox{white}{\\textbf{\\phantom{-}0.131}}\t&\t\\colorbox{white}{\\textbf{\\phantom{-}0.181}}\t&\t\\colorbox{red1}{\\textbf{-0.072}}\t&\t\\colorbox{green1}{\\textbf{\\phantom{-}0.892}}\t&\t\\colorbox{white}{\\textbf{\\phantom{-}0.356}}\t&\t\\colorbox{red2}{\\textbf{-0.529}}\t&\t\\colorbox{red2}{\\textbf{-0.553}}\t&\t\\colorbox{red1}{\\textbf{-0.159}}\t&\t\\colorbox{white}{\\textbf{\\phantom{-}0.496}}\t&\t\\colorbox{white}{\\textbf{\\phantom{-}0.192}}\t&\t\\colorbox{red1}{\\textbf{-2.61}}\t \\\\ \n",
      "chrF\t\t\t\t\t&\t\\colorbox{white}{\\textbf{\\phantom{-}0.061}}\t&\t\\colorbox{white}{\\textbf{\\phantom{-}0.253}}\t&\t\\colorbox{red1}{\\textbf{-0.073}}\t&\t\\colorbox{green2}{\\textbf{\\phantom{-}1.535}}\t&\t\\colorbox{white}{\\textbf{\\phantom{-}0.289}}\t&\t\\colorbox{red1}{\\textbf{-0.286}}\t&\t\\colorbox{red1}{\\textbf{-0.222}}\t&\t\\colorbox{red1}{\\textbf{-0.087}}\t&\t\\colorbox{green1}{\\textbf{\\phantom{-}0.656}}\t&\t\\colorbox{white}{\\textbf{\\phantom{-}0.107}}\t&\t\\colorbox{white}{\\textbf{\\phantom{-}1.07}}\t \\\\ \n",
      "BERTScore\t\t\t\t\t&\t\\colorbox{white}{\\textbf{\\phantom{-}0.115}}\t&\t\\colorbox{white}{\\textbf{\\phantom{-}0.182}}\t&\t\\colorbox{red1}{\\textbf{-0.018}}\t&\t\\colorbox{green2}{\\textbf{\\phantom{-}1.373}}\t&\t\\colorbox{white}{\\textbf{\\phantom{-}0.304}}\t&\t\\colorbox{red1}{\\textbf{-0.018}}\t&\t\\colorbox{red1}{\\textbf{-0.037}}\t&\t\\colorbox{red1}{\\textbf{-0.026}}\t&\t\\colorbox{white}{\\textbf{\\phantom{-}0.375}}\t&\t\\colorbox{white}{\\textbf{\\phantom{-}0.493}}\t&\t\\colorbox{green1}{\\textbf{\\phantom{-}3.19}}\t \\\\ \n",
      "BLEURT-20\t\t\t\t\t&\t\\colorbox{white}{\\textbf{\\phantom{-}0.106}}\t&\t\\colorbox{white}{\\textbf{\\phantom{-}0.355}}\t&\t\\colorbox{white}{\\textbf{\\phantom{-}0.200}}\t&\t\\colorbox{green3}{\\textbf{\\phantom{-}1.743}}\t&\t\\colorbox{white}{\\textbf{\\phantom{-}0.398}}\t&\t\\colorbox{white}{\\textbf{\\phantom{-}0.142}}\t&\t\\colorbox{red1}{\\textbf{-0.002}}\t&\t\\colorbox{white}{\\textbf{\\phantom{-}0.055}}\t&\t\\colorbox{green1}{\\textbf{\\phantom{-}0.826}}\t&\t\\colorbox{white}{\\textbf{\\phantom{-}0.318}}\t&\t\\colorbox{green2}{\\textbf{\\phantom{-}7.06}}\t \\\\ \n",
      "COMET-20\t\t\t\t\t&\t\\colorbox{white}{\\textbf{\\phantom{-}0.073}}\t&\t\\colorbox{white}{\\textbf{\\phantom{-}0.410}}\t&\t\\colorbox{white}{\\textbf{\\phantom{-}0.262}}\t&\t\\colorbox{green2}{\\textbf{\\phantom{-}1.486}}\t&\t\\colorbox{white}{\\textbf{\\phantom{-}0.312}}\t&\t\\colorbox{white}{\\textbf{\\phantom{-}0.150}}\t&\t\\colorbox{white}{\\textbf{\\phantom{-}0.061}}\t&\t\\colorbox{white}{\\textbf{\\phantom{-}0.051}}\t&\t\\colorbox{red1}{\\textbf{-0.322}}\t&\t\\colorbox{white}{\\textbf{\\phantom{-}0.229}}\t&\t\\colorbox{green2}{\\textbf{\\phantom{-}6.33}}\t \\\\ \n",
      "COMET-QE\t\t\t\t\t&\t\\colorbox{red1}{\\textbf{-0.103}}\t&\t\\colorbox{white}{\\textbf{\\phantom{-}0.117}}\t&\t\\colorbox{white}{\\textbf{\\phantom{-}0.072}}\t&\t\\colorbox{red1}{\\textbf{-0.126}}\t&\t\\colorbox{white}{\\textbf{\\phantom{-}0.049}}\t&\t\\colorbox{white}{\\textbf{\\phantom{-}0.286}}\t&\t\\colorbox{white}{\\textbf{\\phantom{-}0.196}}\t&\t\\colorbox{white}{\\textbf{\\phantom{-}0.096}}\t&\t\\colorbox{red1}{\\textbf{-0.310}}\t&\t\\colorbox{white}{\\textbf{\\phantom{-}0.026}}\t&\t\\colorbox{white}{\\textbf{\\phantom{-}2.54}}\t \\\\ \n",
      "YISI-1\t\t\t\t\t&\t\\colorbox{white}{\\textbf{\\phantom{-}0.118}}\t&\t\\colorbox{white}{\\textbf{\\phantom{-}0.293}}\t&\t\\colorbox{white}{\\textbf{\\phantom{-}0.075}}\t&\t\\colorbox{green5}{\\textbf{\\phantom{-}2.575}}\t&\t\\colorbox{white}{\\textbf{\\phantom{-}0.294}}\t&\t\\colorbox{red1}{\\textbf{-0.036}}\t&\t\\colorbox{red1}{\\textbf{-0.049}}\t&\t\\colorbox{red1}{\\textbf{-0.044}}\t&\t\\colorbox{white}{\\textbf{\\phantom{-}0.190}}\t&\t\\colorbox{white}{\\textbf{\\phantom{-}0.376}}\t&\t\\colorbox{green1}{\\textbf{\\phantom{-}5.05}}\t \\\\ \n",
      "\\midrule \n",
      "COMET-22\t\t\t\t\t&\t\\colorbox{white}{\\textbf{\\phantom{-}0.045}}\t&\t\\colorbox{white}{\\textbf{\\phantom{-}0.250}}\t&\t\\colorbox{white}{\\textbf{\\phantom{-}0.292}}\t&\t\\colorbox{white}{\\textbf{\\phantom{-}0.399}}\t&\t\\colorbox{white}{\\textbf{\\phantom{-}0.318}}\t&\t\\colorbox{white}{\\textbf{\\phantom{-}0.352}}\t&\t\\colorbox{white}{\\textbf{\\phantom{-}0.216}}\t&\t\\colorbox{white}{\\textbf{\\phantom{-}0.207}}\t&\t\\colorbox{red1}{\\textbf{-0.497}}\t&\t\\colorbox{white}{\\textbf{\\phantom{-}0.217}}\t&\t\\colorbox{green2}{\\textbf{\\phantom{-}6.22}}\t \\\\ \n",
      "metricx\\_xl\\_DA\\_2019\t\t\t\t\t&\t\\colorbox{white}{\\textbf{\\phantom{-}0.100}}\t&\t\\colorbox{white}{\\textbf{\\phantom{-}0.447}}\t&\t\\colorbox{white}{\\textbf{\\phantom{-}0.496}}\t&\t\\colorbox{green3}{\\textbf{\\phantom{-}1.772}}\t&\t\\colorbox{green1}{\\textbf{\\phantom{-}0.559}}\t&\t\\colorbox{green1}{\\textbf{\\phantom{-}0.689}}\t&\t\\colorbox{white}{\\textbf{\\phantom{-}0.366}}\t&\t\\colorbox{white}{\\textbf{\\phantom{-}0.498}}\t&\t\\colorbox{green1}{\\textbf{\\phantom{-}0.752}}\t&\t\\colorbox{white}{\\textbf{\\phantom{-}0.302}}\t&\t\\colorbox{green4}{\\textbf{\\phantom{-}14.10}}\t \\\\ \n",
      "metricx\\_xl\\_MQM\\_2020\t\t\t\t\t&\t\\colorbox{red1}{\\textbf{-0.056}}\t&\t\\colorbox{white}{\\textbf{\\phantom{-}0.361}}\t&\t\\colorbox{green1}{\\textbf{\\phantom{-}0.651}}\t&\t\\colorbox{white}{\\textbf{\\phantom{-}0.422}}\t&\t\\colorbox{green1}{\\textbf{\\phantom{-}0.697}}\t&\t\\colorbox{green1}{\\textbf{\\phantom{-}1.000}}\t&\t\\colorbox{green1}{\\textbf{\\phantom{-}0.654}}\t&\t\\colorbox{green1}{\\textbf{\\phantom{-}0.740}}\t&\t\\colorbox{red2}{\\textbf{-0.560}}\t&\t\\colorbox{white}{\\textbf{\\phantom{-}0.331}}\t&\t\\colorbox{green5}{\\textbf{\\phantom{-}14.38}}\t \\\\ \n",
      "metricx\\_xxl\\_DA\\_2019\t\t\t\t\t&\t\\colorbox{white}{\\textbf{\\phantom{-}0.085}}\t&\t\\colorbox{white}{\\textbf{\\phantom{-}0.411}}\t&\t\\colorbox{green1}{\\textbf{\\phantom{-}0.532}}\t&\t\\colorbox{green3}{\\textbf{\\phantom{-}1.679}}\t&\t\\colorbox{green1}{\\textbf{\\phantom{-}0.543}}\t&\t\\colorbox{green1}{\\textbf{\\phantom{-}0.547}}\t&\t\\colorbox{white}{\\textbf{\\phantom{-}0.189}}\t&\t\\colorbox{white}{\\textbf{\\phantom{-}0.423}}\t&\t\\colorbox{white}{\\textbf{\\phantom{-}0.088}}\t&\t\\colorbox{white}{\\textbf{\\phantom{-}0.244}}\t&\t\\colorbox{green4}{\\textbf{\\phantom{-}11.58}}\t \\\\ \n",
      "metricx\\_xxl\\_MQM\\_2020\t\t\t\t\t&\t\\colorbox{red1}{\\textbf{-0.008}}\t&\t\\colorbox{white}{\\textbf{\\phantom{-}0.294}}\t&\t\\colorbox{green1}{\\textbf{\\phantom{-}0.550}}\t&\t\\colorbox{green1}{\\textbf{\\phantom{-}0.649}}\t&\t\\colorbox{green1}{\\textbf{\\phantom{-}0.688}}\t&\t\\colorbox{green1}{\\textbf{\\phantom{-}0.826}}\t&\t\\colorbox{white}{\\textbf{\\phantom{-}0.485}}\t&\t\\colorbox{green1}{\\textbf{\\phantom{-}0.629}}\t&\t\\colorbox{red2}{\\textbf{-0.768}}\t&\t\\colorbox{white}{\\textbf{\\phantom{-}0.225}}\t&\t\\colorbox{green4}{\\textbf{\\phantom{-}11.95}}\t \\\\ \n",
      "MS-COMET-22\t\t\t\t\t&\t\\colorbox{red1}{\\textbf{-0.048}}\t&\t\\colorbox{white}{\\textbf{\\phantom{-}0.351}}\t&\t\\colorbox{white}{\\textbf{\\phantom{-}0.133}}\t&\t\\colorbox{green1}{\\textbf{\\phantom{-}0.987}}\t&\t\\colorbox{white}{\\textbf{\\phantom{-}0.183}}\t&\t\\colorbox{white}{\\textbf{\\phantom{-}0.222}}\t&\t\\colorbox{white}{\\textbf{\\phantom{-}0.119}}\t&\t\\colorbox{white}{\\textbf{\\phantom{-}0.059}}\t&\t\\colorbox{red1}{\\textbf{-0.159}}\t&\t\\colorbox{white}{\\textbf{\\phantom{-}0.192}}\t&\t\\colorbox{green1}{\\textbf{\\phantom{-}4.97}}\t \\\\ \n",
      "UniTE\t\t\t\t\t&\t\\colorbox{white}{\\textbf{\\phantom{-}0.113}}\t&\t\\colorbox{white}{\\textbf{\\phantom{-}0.420}}\t&\t\\colorbox{white}{\\textbf{\\phantom{-}0.321}}\t&\t\\colorbox{green1}{\\textbf{\\phantom{-}0.534}}\t&\t\\colorbox{white}{\\textbf{\\phantom{-}0.353}}\t&\t\\colorbox{white}{\\textbf{\\phantom{-}0.338}}\t&\t\\colorbox{white}{\\textbf{\\phantom{-}0.152}}\t&\t\\colorbox{white}{\\textbf{\\phantom{-}0.189}}\t&\t\\colorbox{red1}{\\textbf{-0.439}}\t&\t\\colorbox{white}{\\textbf{\\phantom{-}0.204}}\t&\t\\colorbox{green2}{\\textbf{\\phantom{-}7.38}}\t \\\\ \n",
      "UniTE-ref\t\t\t\t\t&\t\\colorbox{white}{\\textbf{\\phantom{-}0.078}}\t&\t\\colorbox{white}{\\textbf{\\phantom{-}0.385}}\t&\t\\colorbox{white}{\\textbf{\\phantom{-}0.304}}\t&\t\\colorbox{white}{\\textbf{\\phantom{-}0.081}}\t&\t\\colorbox{white}{\\textbf{\\phantom{-}0.294}}\t&\t\\colorbox{white}{\\textbf{\\phantom{-}0.378}}\t&\t\\colorbox{white}{\\textbf{\\phantom{-}0.182}}\t&\t\\colorbox{white}{\\textbf{\\phantom{-}0.187}}\t&\t\\colorbox{red1}{\\textbf{-0.436}}\t&\t\\colorbox{white}{\\textbf{\\phantom{-}0.168}}\t&\t\\colorbox{green2}{\\textbf{\\phantom{-}6.78}}\t \\\\ \n",
      "\\midrule \n",
      "COMETKiwi\t\t\t\t\t&\t\\colorbox{white}{\\textbf{\\phantom{-}0.126}}\t&\t\\colorbox{white}{\\textbf{\\phantom{-}0.441}}\t&\t\\colorbox{green1}{\\textbf{\\phantom{-}0.594}}\t&\t\\colorbox{green1}{\\textbf{\\phantom{-}0.699}}\t&\t\\colorbox{white}{\\textbf{\\phantom{-}0.272}}\t&\t\\colorbox{green1}{\\textbf{\\phantom{-}0.572}}\t&\t\\colorbox{white}{\\textbf{\\phantom{-}0.358}}\t&\t\\colorbox{white}{\\textbf{\\phantom{-}0.337}}\t&\t\\colorbox{red2}{\\textbf{-0.559}}\t&\t\\colorbox{white}{\\textbf{\\phantom{-}0.247}}\t&\t\\colorbox{green3}{\\textbf{\\phantom{-}11.23}}\t \\\\ \n",
      "Cross-QE\t\t\t\t\t&\t\\colorbox{white}{\\textbf{\\phantom{-}0.104}}\t&\t\\colorbox{white}{\\textbf{\\phantom{-}0.422}}\t&\t\\colorbox{green1}{\\textbf{\\phantom{-}0.599}}\t&\t\\colorbox{red1}{\\textbf{-0.285}}\t&\t\\colorbox{white}{\\textbf{\\phantom{-}0.055}}\t&\t\\colorbox{green1}{\\textbf{\\phantom{-}0.703}}\t&\t\\colorbox{white}{\\textbf{\\phantom{-}0.456}}\t&\t\\colorbox{white}{\\textbf{\\phantom{-}0.225}}\t&\t\\colorbox{red1}{\\textbf{-0.510}}\t&\t\\colorbox{white}{\\textbf{\\phantom{-}0.109}}\t&\t\\colorbox{green3}{\\textbf{\\phantom{-}10.92}}\t \\\\ \n",
      "HWTSC-Teacher-Sim\t\t\t\t\t&\t\\colorbox{red1}{\\textbf{-0.005}}\t&\t\\colorbox{white}{\\textbf{\\phantom{-}0.140}}\t&\t\\colorbox{white}{\\textbf{\\phantom{-}0.163}}\t&\t\\colorbox{red2}{\\textbf{-0.574}}\t&\t\\colorbox{white}{\\textbf{\\phantom{-}0.200}}\t&\t\\colorbox{white}{\\textbf{\\phantom{-}0.224}}\t&\t\\colorbox{white}{\\textbf{\\phantom{-}0.174}}\t&\t\\colorbox{white}{\\textbf{\\phantom{-}0.055}}\t&\t\\colorbox{red1}{\\textbf{-0.063}}\t&\t\\colorbox{white}{\\textbf{\\phantom{-}0.239}}\t&\t\\colorbox{green1}{\\textbf{\\phantom{-}3.12}}\t \\\\ \n",
      "HWTSC-TLM\t\t\t\t\t&\t\\colorbox{red1}{\\textbf{-0.095}}\t&\t\\colorbox{white}{\\textbf{\\phantom{-}0.148}}\t&\t\\colorbox{white}{\\textbf{\\phantom{-}0.120}}\t&\t\\colorbox{white}{\\textbf{\\phantom{-}0.104}}\t&\t\\colorbox{red1}{\\textbf{-0.019}}\t&\t\\colorbox{white}{\\textbf{\\phantom{-}0.293}}\t&\t\\colorbox{white}{\\textbf{\\phantom{-}0.241}}\t&\t\\colorbox{white}{\\textbf{\\phantom{-}0.062}}\t&\t\\colorbox{red1}{\\textbf{-0.158}}\t&\t\\colorbox{white}{\\textbf{\\phantom{-}0.463}}\t&\t\\colorbox{green1}{\\textbf{\\phantom{-}3.58}}\t \\\\ \n",
      "KG-BERTScore\t\t\t\t\t&\t\\colorbox{white}{\\textbf{\\phantom{-}0.139}}\t&\t\\colorbox{white}{\\textbf{\\phantom{-}0.236}}\t&\t\\colorbox{white}{\\textbf{\\phantom{-}0.428}}\t&\t\\colorbox{red2}{\\textbf{-0.786}}\t&\t\\colorbox{green1}{\\textbf{\\phantom{-}0.598}}\t&\t\\colorbox{white}{\\textbf{\\phantom{-}0.186}}\t&\t\\colorbox{white}{\\textbf{\\phantom{-}0.124}}\t&\t\\colorbox{white}{\\textbf{\\phantom{-}0.079}}\t&\t\\colorbox{red1}{\\textbf{-0.170}}\t&\t\\colorbox{white}{\\textbf{\\phantom{-}0.366}}\t&\t\\colorbox{green1}{\\textbf{\\phantom{-}5.32}}\t \\\\ \n",
      "MS-COMET-QE-22\t\t\t\t\t&\t\\colorbox{red1}{\\textbf{-0.038}}\t&\t\\colorbox{white}{\\textbf{\\phantom{-}0.369}}\t&\t\\colorbox{white}{\\textbf{\\phantom{-}0.243}}\t&\t\\colorbox{green4}{\\textbf{\\phantom{-}2.564}}\t&\t\\colorbox{white}{\\textbf{\\phantom{-}0.119}}\t&\t\\colorbox{white}{\\textbf{\\phantom{-}0.241}}\t&\t\\colorbox{white}{\\textbf{\\phantom{-}0.174}}\t&\t\\colorbox{white}{\\textbf{\\phantom{-}0.090}}\t&\t\\colorbox{red2}{\\textbf{-0.616}}\t&\t\\colorbox{white}{\\textbf{\\phantom{-}0.212}}\t&\t\\colorbox{green2}{\\textbf{\\phantom{-}7.12}}\t \\\\ \n",
      "UniTE-src\t\t\t\t\t&\t\\colorbox{white}{\\textbf{\\phantom{-}0.096}}\t&\t\\colorbox{green1}{\\textbf{\\phantom{-}0.524}}\t&\t\\colorbox{white}{\\textbf{\\phantom{-}0.484}}\t&\t\\colorbox{red2}{\\textbf{-0.782}}\t&\t\\colorbox{white}{\\textbf{\\phantom{-}0.318}}\t&\t\\colorbox{white}{\\textbf{\\phantom{-}0.394}}\t&\t\\colorbox{white}{\\textbf{\\phantom{-}0.254}}\t&\t\\colorbox{white}{\\textbf{\\phantom{-}0.191}}\t&\t\\colorbox{red2}{\\textbf{-0.552}}\t&\t\\colorbox{white}{\\textbf{\\phantom{-}0.196}}\t&\t\\colorbox{green2}{\\textbf{\\phantom{-}7.96}}\t \\\\ \n",
      "\\midrule \n",
      "Average\t\t\t\t\t&\t\\colorbox{white}{\\textbf{\\phantom{-}0.062}}\t&\t\\colorbox{green1}{\\textbf{\\phantom{-}0.309}}\t&\t\\colorbox{green1}{\\textbf{\\phantom{-}0.259}}\t&\t\\colorbox{green5}{\\textbf{\\phantom{-}0.794}}\t&\t\\colorbox{green2}{\\textbf{\\phantom{-}0.327}}\t&\t\\colorbox{green1}{\\textbf{\\phantom{-}0.209}}\t&\t\\colorbox{white}{\\textbf{\\phantom{-}0.076}}\t&\t\\colorbox{white}{\\textbf{\\phantom{-}0.142}}\t&\t\\colorbox{red1}{\\textbf{-0.066}}\t&\t\\colorbox{green1}{\\textbf{\\phantom{-}0.251}}\t\\\\\n"
     ]
    }
   ],
   "source": [
    "COLORS = ['\\colorbox{green1}', '\\colorbox{green2}', '\\colorbox{green3}', '\\colorbox{green4}', '\\colorbox{green5}', '\\colorbox{white}', '\\colorbox{red1}', '\\colorbox{red2}', '\\colorbox{red3}', '\\colorbox{red4}', '\\colorbox{red5}']\n",
    "COLORS = ['\\colorbox{green1}', '\\colorbox{green2}', '\\colorbox{green4}', '\\colorbox{green5}', '\\colorbox{white}', '\\colorbox{red1}', '\\colorbox{red2}', '\\colorbox{red4}', '\\colorbox{red5}']\n",
    "\n",
    "# From the ACES 2022 Paper:\n",
    "METRICS_GROUPING_SHORT_2022 = {\"baseline\": [\"BLEU\", \"BERTScore\", \"BLEURT-20\", \"YISI-1\"],\n",
    "                        \"reference-based\": [\"COMET-22\", 'metricx_xl_MQM_2020', \"UniTE\", \"UniTE-ref\"],\n",
    "                        \"reference-free\": [\"COMETKiwi\", 'KG-BERTScore', \"UniTE-src\"]\n",
    "                    }\n",
    "METRICS_GROUPING_SHORT_2022 = {\"baseline\": [\"BLEU\", \"BERTScore\", \"BLEURT-20\", \"YISI-1\"],\n",
    "                        \"reference-based\": [\"COMET-22\", 'metricx_xl_MQM_2020', \"UniTE\", \"UniTE-ref\"],\n",
    "                        \"reference-free\": [\"COMETKiwi\", 'KG-BERTScore', \"UniTE-src\"]\n",
    "                    }\n",
    "\n",
    "phenomena = [\"addition\", 'mistranslation', 'untranslated', 'do not translate', 'real-world knowledge']\n",
    "print(make_header(phenomena=PHENOMENA))\n",
    "print(generate_summary_table(sensitivities_2022, metrics_groups=METRICS_GROUPING_2022, phenomena=PHENOMENA, k_highest=11))\n",
    "# print(make_footer(averages=SUMMARY_AVERAGES_2023, phenomena=PHENOMENA))"
   ]
  },
  {
   "cell_type": "markdown",
   "id": "57fc3a5c",
   "metadata": {},
   "source": [
    "# Functions to Normalize summary scores and sensitivity scores to 0-1, then calculate the difference\n",
    "In process"
   ]
  },
  {
   "cell_type": "code",
   "execution_count": 71,
   "id": "5c3ce854",
   "metadata": {},
   "outputs": [],
   "source": [
    "def scale_to_max_one(scores:Dict[str, Dict[str, Dict[str, int]]]):\n",
    "    out = copy.deepcopy(scores)\n",
    "    max = np.max([np.max(list(p.values())) for p in scores.values()])\n",
    "    min = np.min([np.min(list(p.values())) for p in scores.values()])\n",
    "    for m in out:\n",
    "        for p in out[m]:\n",
    "            out[m][p] = (out[m][p] - min) / (max - min)\n",
    "    return out\n",
    "\n",
    "def scale_to_one(scores:Dict[str, Dict[str, Dict[str, int]]]):\n",
    "    out = copy.deepcopy(scores)\n",
    "    sum = 0.0\n",
    "    for p in scores.values():\n",
    "        sum += np.sum(list(p.values()))\n",
    "    for m in out:\n",
    "        for p in out[m]:\n",
    "            out[m][p] /= sum\n",
    "    return out\n",
    "\n",
    "def diff(scores1, scores2):\n",
    "    scores_out = {}\n",
    "    for metric in scores1:\n",
    "        if metric in METRIC_NAMES_MAPPING:\n",
    "            metric = METRIC_NAMES_MAPPING[metric]\n",
    "        if metric in scores2:\n",
    "            metric2 = metric\n",
    "            scores_out[metric] = {p:scores2[metric2][p]-scores1[metric][p] for p in scores1[metric] if p in scores2[metric]} \n",
    "        elif metric in METRIC_MAPPING_BACK:\n",
    "            metric2 = METRIC_MAPPING_BACK[metric]\n",
    "            scores_out[metric] = {p:scores2[metric2][p]-scores1[metric][p] for p in scores1[metric] if p in scores2[metric]} \n",
    "        else:\n",
    "            print(metric)\n",
    "        \n",
    "    return scores_out"
   ]
  },
  {
   "cell_type": "markdown",
   "id": "06fd4eaf",
   "metadata": {},
   "source": [
    "# Plots"
   ]
  },
  {
   "cell_type": "code",
   "execution_count": 26,
   "id": "0c0ff544",
   "metadata": {},
   "outputs": [],
   "source": [
    "# create groups here:\n",
    "means = {metric:[sensitivities_2022[metric][p] for p in PHENOMENA] for metric in metrics_names_2022}\n",
    "tau = {metric:[ACES_summary_2022[metric][p] for p in PHENOMENA] for metric in metrics_names_2022 if metric in ACES_summary_2022}"
   ]
  },
  {
   "cell_type": "code",
   "execution_count": 21,
   "id": "1779554d",
   "metadata": {},
   "outputs": [],
   "source": [
    "# Group the metrics:\n",
    "bleus = [\"BLEU\", \"f101spBLEU\", \"f200spBLEU\"]\n",
    "comets = [\"COMET-20\", \"COMET-22\", \"MS-COMET-22\", \"MS-COMET-QE-22\"]\n",
    "xl = [\"metricx_xl_DA_2019\", \"metricx_xl_MQM_2020\", \"metricx_xxl_DA_2019\", \"metricx_xxl_MQM_2020\"]\n",
    "unite = [\"UniTE\", \"UniTE-src\", \"UniTE-ref\"]"
   ]
  },
  {
   "cell_type": "code",
   "execution_count": 28,
   "id": "ca277ffc",
   "metadata": {},
   "outputs": [
    {
     "data": {
      "application/vnd.plotly.v1+json": {
       "config": {
        "plotlyServerURL": "https://plot.ly"
       },
       "data": [
        {
         "line": {
          "color": "lightsteelblue"
         },
         "mode": "lines",
         "name": "Mean(good-bad) - BLEU",
         "type": "scatter",
         "x": [
          "addition",
          "omission",
          "mistranslation",
          "untranslated",
          "do not translate",
          "overtranslation",
          "undertranslation",
          "real-world knowledge",
          "wrong language",
          "punctuation"
         ],
         "y": [
          0.2148287208357031,
          0.2547030756159054,
          -0.08824611291143918,
          1.1936012111929082,
          0.25324141756487745,
          -1.099805470474964,
          -1.1013204692761616,
          -0.3062169882384918,
          0.650622573355296,
          0.34640999424957986
         ]
        },
        {
         "line": {
          "color": "aqua"
         },
         "mode": "lines",
         "name": "Mean(good-bad) - f101spBLEU",
         "type": "scatter",
         "x": [
          "addition",
          "omission",
          "mistranslation",
          "untranslated",
          "do not translate",
          "overtranslation",
          "undertranslation",
          "real-world knowledge",
          "wrong language",
          "punctuation"
         ],
         "y": [
          0.13151156220901616,
          0.1863532850365928,
          -0.0770431248090204,
          0.8976180911201121,
          0.31322648852962093,
          -0.5682955103975651,
          -0.6106474620460811,
          -0.16694896017579922,
          0.49766527107268943,
          0.20342198914362314
         ]
        },
        {
         "line": {
          "color": "aquamarine"
         },
         "mode": "lines",
         "name": "Mean(good-bad) - f200spBLEU",
         "type": "scatter",
         "x": [
          "addition",
          "omission",
          "mistranslation",
          "untranslated",
          "do not translate",
          "overtranslation",
          "undertranslation",
          "real-world knowledge",
          "wrong language",
          "punctuation"
         ],
         "y": [
          0.12581225313618488,
          0.18170729852854106,
          -0.07728893460685092,
          0.8810556975739291,
          0.32105350563551555,
          -0.5326243110635183,
          -0.5547589251683395,
          -0.16597207427446717,
          0.4896448112722411,
          0.1850044698107335
         ]
        },
        {
         "line": {
          "color": "chocolate"
         },
         "mode": "lines",
         "name": "tau - BLEU",
         "type": "scatter",
         "x": [
          "addition",
          "omission",
          "mistranslation",
          "untranslated",
          "do not translate",
          "overtranslation",
          "undertranslation",
          "real-world knowledge",
          "wrong language",
          "punctuation"
         ],
         "y": [
          0.748,
          0.435,
          -0.229,
          0.353,
          0.6,
          -0.838,
          -0.856,
          -0.768,
          0.661,
          0.638
         ]
        },
        {
         "line": {
          "color": "coral"
         },
         "mode": "lines",
         "name": "tau - f101spBLEU",
         "type": "scatter",
         "x": [
          "addition",
          "omission",
          "mistranslation",
          "untranslated",
          "do not translate",
          "overtranslation",
          "undertranslation",
          "real-world knowledge",
          "wrong language",
          "punctuation"
         ],
         "y": [
          0.662,
          0.59,
          -0.084,
          0.66,
          0.94,
          -0.738,
          -0.826,
          -0.405,
          0.638,
          0.639
         ]
        },
        {
         "line": {
          "color": "crimson"
         },
         "mode": "lines",
         "name": "tau - f200spBLEU",
         "type": "scatter",
         "x": [
          "addition",
          "omission",
          "mistranslation",
          "untranslated",
          "do not translate",
          "overtranslation",
          "undertranslation",
          "real-world knowledge",
          "wrong language",
          "punctuation"
         ],
         "y": [
          0.664,
          0.59,
          -0.082,
          0.687,
          0.92,
          -0.752,
          -0.794,
          -0.394,
          0.658,
          0.648
         ]
        }
       ],
       "layout": {
        "template": {
         "data": {
          "bar": [
           {
            "error_x": {
             "color": "#2a3f5f"
            },
            "error_y": {
             "color": "#2a3f5f"
            },
            "marker": {
             "line": {
              "color": "#E5ECF6",
              "width": 0.5
             },
             "pattern": {
              "fillmode": "overlay",
              "size": 10,
              "solidity": 0.2
             }
            },
            "type": "bar"
           }
          ],
          "barpolar": [
           {
            "marker": {
             "line": {
              "color": "#E5ECF6",
              "width": 0.5
             },
             "pattern": {
              "fillmode": "overlay",
              "size": 10,
              "solidity": 0.2
             }
            },
            "type": "barpolar"
           }
          ],
          "carpet": [
           {
            "aaxis": {
             "endlinecolor": "#2a3f5f",
             "gridcolor": "white",
             "linecolor": "white",
             "minorgridcolor": "white",
             "startlinecolor": "#2a3f5f"
            },
            "baxis": {
             "endlinecolor": "#2a3f5f",
             "gridcolor": "white",
             "linecolor": "white",
             "minorgridcolor": "white",
             "startlinecolor": "#2a3f5f"
            },
            "type": "carpet"
           }
          ],
          "choropleth": [
           {
            "colorbar": {
             "outlinewidth": 0,
             "ticks": ""
            },
            "type": "choropleth"
           }
          ],
          "contour": [
           {
            "colorbar": {
             "outlinewidth": 0,
             "ticks": ""
            },
            "colorscale": [
             [
              0,
              "#0d0887"
             ],
             [
              0.1111111111111111,
              "#46039f"
             ],
             [
              0.2222222222222222,
              "#7201a8"
             ],
             [
              0.3333333333333333,
              "#9c179e"
             ],
             [
              0.4444444444444444,
              "#bd3786"
             ],
             [
              0.5555555555555556,
              "#d8576b"
             ],
             [
              0.6666666666666666,
              "#ed7953"
             ],
             [
              0.7777777777777778,
              "#fb9f3a"
             ],
             [
              0.8888888888888888,
              "#fdca26"
             ],
             [
              1,
              "#f0f921"
             ]
            ],
            "type": "contour"
           }
          ],
          "contourcarpet": [
           {
            "colorbar": {
             "outlinewidth": 0,
             "ticks": ""
            },
            "type": "contourcarpet"
           }
          ],
          "heatmap": [
           {
            "colorbar": {
             "outlinewidth": 0,
             "ticks": ""
            },
            "colorscale": [
             [
              0,
              "#0d0887"
             ],
             [
              0.1111111111111111,
              "#46039f"
             ],
             [
              0.2222222222222222,
              "#7201a8"
             ],
             [
              0.3333333333333333,
              "#9c179e"
             ],
             [
              0.4444444444444444,
              "#bd3786"
             ],
             [
              0.5555555555555556,
              "#d8576b"
             ],
             [
              0.6666666666666666,
              "#ed7953"
             ],
             [
              0.7777777777777778,
              "#fb9f3a"
             ],
             [
              0.8888888888888888,
              "#fdca26"
             ],
             [
              1,
              "#f0f921"
             ]
            ],
            "type": "heatmap"
           }
          ],
          "heatmapgl": [
           {
            "colorbar": {
             "outlinewidth": 0,
             "ticks": ""
            },
            "colorscale": [
             [
              0,
              "#0d0887"
             ],
             [
              0.1111111111111111,
              "#46039f"
             ],
             [
              0.2222222222222222,
              "#7201a8"
             ],
             [
              0.3333333333333333,
              "#9c179e"
             ],
             [
              0.4444444444444444,
              "#bd3786"
             ],
             [
              0.5555555555555556,
              "#d8576b"
             ],
             [
              0.6666666666666666,
              "#ed7953"
             ],
             [
              0.7777777777777778,
              "#fb9f3a"
             ],
             [
              0.8888888888888888,
              "#fdca26"
             ],
             [
              1,
              "#f0f921"
             ]
            ],
            "type": "heatmapgl"
           }
          ],
          "histogram": [
           {
            "marker": {
             "pattern": {
              "fillmode": "overlay",
              "size": 10,
              "solidity": 0.2
             }
            },
            "type": "histogram"
           }
          ],
          "histogram2d": [
           {
            "colorbar": {
             "outlinewidth": 0,
             "ticks": ""
            },
            "colorscale": [
             [
              0,
              "#0d0887"
             ],
             [
              0.1111111111111111,
              "#46039f"
             ],
             [
              0.2222222222222222,
              "#7201a8"
             ],
             [
              0.3333333333333333,
              "#9c179e"
             ],
             [
              0.4444444444444444,
              "#bd3786"
             ],
             [
              0.5555555555555556,
              "#d8576b"
             ],
             [
              0.6666666666666666,
              "#ed7953"
             ],
             [
              0.7777777777777778,
              "#fb9f3a"
             ],
             [
              0.8888888888888888,
              "#fdca26"
             ],
             [
              1,
              "#f0f921"
             ]
            ],
            "type": "histogram2d"
           }
          ],
          "histogram2dcontour": [
           {
            "colorbar": {
             "outlinewidth": 0,
             "ticks": ""
            },
            "colorscale": [
             [
              0,
              "#0d0887"
             ],
             [
              0.1111111111111111,
              "#46039f"
             ],
             [
              0.2222222222222222,
              "#7201a8"
             ],
             [
              0.3333333333333333,
              "#9c179e"
             ],
             [
              0.4444444444444444,
              "#bd3786"
             ],
             [
              0.5555555555555556,
              "#d8576b"
             ],
             [
              0.6666666666666666,
              "#ed7953"
             ],
             [
              0.7777777777777778,
              "#fb9f3a"
             ],
             [
              0.8888888888888888,
              "#fdca26"
             ],
             [
              1,
              "#f0f921"
             ]
            ],
            "type": "histogram2dcontour"
           }
          ],
          "mesh3d": [
           {
            "colorbar": {
             "outlinewidth": 0,
             "ticks": ""
            },
            "type": "mesh3d"
           }
          ],
          "parcoords": [
           {
            "line": {
             "colorbar": {
              "outlinewidth": 0,
              "ticks": ""
             }
            },
            "type": "parcoords"
           }
          ],
          "pie": [
           {
            "automargin": true,
            "type": "pie"
           }
          ],
          "scatter": [
           {
            "fillpattern": {
             "fillmode": "overlay",
             "size": 10,
             "solidity": 0.2
            },
            "type": "scatter"
           }
          ],
          "scatter3d": [
           {
            "line": {
             "colorbar": {
              "outlinewidth": 0,
              "ticks": ""
             }
            },
            "marker": {
             "colorbar": {
              "outlinewidth": 0,
              "ticks": ""
             }
            },
            "type": "scatter3d"
           }
          ],
          "scattercarpet": [
           {
            "marker": {
             "colorbar": {
              "outlinewidth": 0,
              "ticks": ""
             }
            },
            "type": "scattercarpet"
           }
          ],
          "scattergeo": [
           {
            "marker": {
             "colorbar": {
              "outlinewidth": 0,
              "ticks": ""
             }
            },
            "type": "scattergeo"
           }
          ],
          "scattergl": [
           {
            "marker": {
             "colorbar": {
              "outlinewidth": 0,
              "ticks": ""
             }
            },
            "type": "scattergl"
           }
          ],
          "scattermapbox": [
           {
            "marker": {
             "colorbar": {
              "outlinewidth": 0,
              "ticks": ""
             }
            },
            "type": "scattermapbox"
           }
          ],
          "scatterpolar": [
           {
            "marker": {
             "colorbar": {
              "outlinewidth": 0,
              "ticks": ""
             }
            },
            "type": "scatterpolar"
           }
          ],
          "scatterpolargl": [
           {
            "marker": {
             "colorbar": {
              "outlinewidth": 0,
              "ticks": ""
             }
            },
            "type": "scatterpolargl"
           }
          ],
          "scatterternary": [
           {
            "marker": {
             "colorbar": {
              "outlinewidth": 0,
              "ticks": ""
             }
            },
            "type": "scatterternary"
           }
          ],
          "surface": [
           {
            "colorbar": {
             "outlinewidth": 0,
             "ticks": ""
            },
            "colorscale": [
             [
              0,
              "#0d0887"
             ],
             [
              0.1111111111111111,
              "#46039f"
             ],
             [
              0.2222222222222222,
              "#7201a8"
             ],
             [
              0.3333333333333333,
              "#9c179e"
             ],
             [
              0.4444444444444444,
              "#bd3786"
             ],
             [
              0.5555555555555556,
              "#d8576b"
             ],
             [
              0.6666666666666666,
              "#ed7953"
             ],
             [
              0.7777777777777778,
              "#fb9f3a"
             ],
             [
              0.8888888888888888,
              "#fdca26"
             ],
             [
              1,
              "#f0f921"
             ]
            ],
            "type": "surface"
           }
          ],
          "table": [
           {
            "cells": {
             "fill": {
              "color": "#EBF0F8"
             },
             "line": {
              "color": "white"
             }
            },
            "header": {
             "fill": {
              "color": "#C8D4E3"
             },
             "line": {
              "color": "white"
             }
            },
            "type": "table"
           }
          ]
         },
         "layout": {
          "annotationdefaults": {
           "arrowcolor": "#2a3f5f",
           "arrowhead": 0,
           "arrowwidth": 1
          },
          "autotypenumbers": "strict",
          "coloraxis": {
           "colorbar": {
            "outlinewidth": 0,
            "ticks": ""
           }
          },
          "colorscale": {
           "diverging": [
            [
             0,
             "#8e0152"
            ],
            [
             0.1,
             "#c51b7d"
            ],
            [
             0.2,
             "#de77ae"
            ],
            [
             0.3,
             "#f1b6da"
            ],
            [
             0.4,
             "#fde0ef"
            ],
            [
             0.5,
             "#f7f7f7"
            ],
            [
             0.6,
             "#e6f5d0"
            ],
            [
             0.7,
             "#b8e186"
            ],
            [
             0.8,
             "#7fbc41"
            ],
            [
             0.9,
             "#4d9221"
            ],
            [
             1,
             "#276419"
            ]
           ],
           "sequential": [
            [
             0,
             "#0d0887"
            ],
            [
             0.1111111111111111,
             "#46039f"
            ],
            [
             0.2222222222222222,
             "#7201a8"
            ],
            [
             0.3333333333333333,
             "#9c179e"
            ],
            [
             0.4444444444444444,
             "#bd3786"
            ],
            [
             0.5555555555555556,
             "#d8576b"
            ],
            [
             0.6666666666666666,
             "#ed7953"
            ],
            [
             0.7777777777777778,
             "#fb9f3a"
            ],
            [
             0.8888888888888888,
             "#fdca26"
            ],
            [
             1,
             "#f0f921"
            ]
           ],
           "sequentialminus": [
            [
             0,
             "#0d0887"
            ],
            [
             0.1111111111111111,
             "#46039f"
            ],
            [
             0.2222222222222222,
             "#7201a8"
            ],
            [
             0.3333333333333333,
             "#9c179e"
            ],
            [
             0.4444444444444444,
             "#bd3786"
            ],
            [
             0.5555555555555556,
             "#d8576b"
            ],
            [
             0.6666666666666666,
             "#ed7953"
            ],
            [
             0.7777777777777778,
             "#fb9f3a"
            ],
            [
             0.8888888888888888,
             "#fdca26"
            ],
            [
             1,
             "#f0f921"
            ]
           ]
          },
          "colorway": [
           "#636efa",
           "#EF553B",
           "#00cc96",
           "#ab63fa",
           "#FFA15A",
           "#19d3f3",
           "#FF6692",
           "#B6E880",
           "#FF97FF",
           "#FECB52"
          ],
          "font": {
           "color": "#2a3f5f"
          },
          "geo": {
           "bgcolor": "white",
           "lakecolor": "white",
           "landcolor": "#E5ECF6",
           "showlakes": true,
           "showland": true,
           "subunitcolor": "white"
          },
          "hoverlabel": {
           "align": "left"
          },
          "hovermode": "closest",
          "mapbox": {
           "style": "light"
          },
          "paper_bgcolor": "white",
          "plot_bgcolor": "#E5ECF6",
          "polar": {
           "angularaxis": {
            "gridcolor": "white",
            "linecolor": "white",
            "ticks": ""
           },
           "bgcolor": "#E5ECF6",
           "radialaxis": {
            "gridcolor": "white",
            "linecolor": "white",
            "ticks": ""
           }
          },
          "scene": {
           "xaxis": {
            "backgroundcolor": "#E5ECF6",
            "gridcolor": "white",
            "gridwidth": 2,
            "linecolor": "white",
            "showbackground": true,
            "ticks": "",
            "zerolinecolor": "white"
           },
           "yaxis": {
            "backgroundcolor": "#E5ECF6",
            "gridcolor": "white",
            "gridwidth": 2,
            "linecolor": "white",
            "showbackground": true,
            "ticks": "",
            "zerolinecolor": "white"
           },
           "zaxis": {
            "backgroundcolor": "#E5ECF6",
            "gridcolor": "white",
            "gridwidth": 2,
            "linecolor": "white",
            "showbackground": true,
            "ticks": "",
            "zerolinecolor": "white"
           }
          },
          "shapedefaults": {
           "line": {
            "color": "#2a3f5f"
           }
          },
          "ternary": {
           "aaxis": {
            "gridcolor": "white",
            "linecolor": "white",
            "ticks": ""
           },
           "baxis": {
            "gridcolor": "white",
            "linecolor": "white",
            "ticks": ""
           },
           "bgcolor": "#E5ECF6",
           "caxis": {
            "gridcolor": "white",
            "linecolor": "white",
            "ticks": ""
           }
          },
          "title": {
           "x": 0.05
          },
          "xaxis": {
           "automargin": true,
           "gridcolor": "white",
           "linecolor": "white",
           "ticks": "",
           "title": {
            "standoff": 15
           },
           "zerolinecolor": "white",
           "zerolinewidth": 2
          },
          "yaxis": {
           "automargin": true,
           "gridcolor": "white",
           "linecolor": "white",
           "ticks": "",
           "title": {
            "standoff": 15
           },
           "zerolinecolor": "white",
           "zerolinewidth": 2
          }
         }
        },
        "title": {
         "text": "Mean(good-bad) tau"
        }
       }
      }
     },
     "metadata": {},
     "output_type": "display_data"
    }
   ],
   "source": [
    "grouped_line_plot([means, tau], bleus, [\"Mean(good-bad)\", \"tau\"], PHENOMENA)"
   ]
  },
  {
   "cell_type": "code",
   "execution_count": 38,
   "id": "cb61b6f1",
   "metadata": {},
   "outputs": [],
   "source": [
    "def grouped_line_plot(groups: List[Dict[str,list]], metrics_names: List[str], group_labels: List[str], phenomena: List[str]):\n",
    "    '''\n",
    "    Inputs: \n",
    "        1. means and tau scores\n",
    "        format = {\n",
    "            metric1: [score for phenomenon 1, score for phenomenon 2, ..]\n",
    "        }\n",
    "        2. A list of the labels for: \n",
    "            the groups (mean (good-bad), tau, ...)\n",
    "            metrics\n",
    "            phenomena (the order is important because in means and tau scores the scores are ordered acc. to phenomena)\n",
    "    '''\n",
    "    assert len(groups) > 0 and len(groups) == len(group_labels) and len(metrics_names) > 0\n",
    "    fig = go.Figure()\n",
    "    colors = [['lightsteelblue',  'aqua', 'aquamarine', 'darkturquoise'],\n",
    "        ['chocolate', 'coral', 'crimson', 'orange']]\n",
    "    for i,group in enumerate(groups):\n",
    "        for j,metric in enumerate(metrics_names):\n",
    "            fig.add_trace(go.Scatter(x=phenomena, y=group[metric],mode='lines',name=group_labels[i]+\" - \"+metric,\n",
    "                          line=dict(color=colors[i][j])))\n",
    "    fig.update_layout(\n",
    "        title=\" \".join(group_labels)\n",
    "        )\n",
    "    fig.show()"
   ]
  }
 ],
 "metadata": {
  "kernelspec": {
   "display_name": "Python 3 (ipykernel)",
   "language": "python",
   "name": "python3"
  },
  "language_info": {
   "codemirror_mode": {
    "name": "ipython",
    "version": 3
   },
   "file_extension": ".py",
   "mimetype": "text/x-python",
   "name": "python",
   "nbconvert_exporter": "python",
   "pygments_lexer": "ipython3",
   "version": "3.11.5"
  }
 },
 "nbformat": 4,
 "nbformat_minor": 5
}
