{
 "cells": [
  {
   "cell_type": "code",
   "execution_count": 1,
   "id": "c4b96d19",
   "metadata": {},
   "outputs": [
    {
     "name": "stdout",
     "output_type": "stream",
     "text": [
      "enter the phenomena: hallucination-real-data-vs-synonym\n"
     ]
    },
    {
     "name": "stderr",
     "output_type": "stream",
     "text": [
      "INFO:logger:Loading the dataset...\n",
      "INFO:logger:Dataset loaded.\n",
      "INFO:logger:Path /mnt/c/Users/user/OneDrive/Masaüstü/work/ACES_private/challenge_set_annotation/annotated.txt already exists. Loading..\n",
      "INFO:logger:Path /mnt/c/Users/user/OneDrive/Masaüstü/work/ACES_private/challenge_set_annotation/stats.txt already exists. Loading..\n",
      "INFO:logger:READY\n"
     ]
    }
   ],
   "source": [
    "#!/usr/bin/env python3\n",
    "# -*- coding: utf-8 -*-\n",
    "from datasets import load_from_disk\n",
    "\n",
    "import numpy as np\n",
    "np.random.seed(42)\n",
    "\n",
    "import json, copy, os, sys\n",
    "from tqdm import tqdm\n",
    "\n",
    "import logging\n",
    "logger = logging.getLogger('logger')\n",
    "logging.basicConfig(level=logging.INFO)\n",
    "logger.setLevel(logging.INFO)\n",
    "\n",
    "sys.path.append(os.path.abspath(os.getcwd()))\n",
    "from annotation_utilities import *\n",
    "\n",
    "phenomena_tobe_processed = input(\"enter the phenomena: \") \n",
    "if phenomena_tobe_processed not in [\"coreference-based-on-commonsense\", \"hallucination-real-data-vs-ref-word\",\n",
    "                            \"hallucination-real-data-vs-synonym\", \"lexical-overlap\", \"xnli-addition-contradiction\",\n",
    "                            \"xnli-addition-neutral\", \"xnli-omission-contradiction\", \"xnli-omission-neutral\"]:\n",
    "        logger.error(\"{} should be one of these: {}\".format(sys.argv[1], [\"coreference-based-on-commonsense\", \"hallucination-real-data-vs-ref-word\",\n",
    "                            \"hallucination-real-data-vs-synonym\", \"lexical-overlap\", \"xnli-addition-contradiction\",\n",
    "                            \"xnli-addition-neutral\", \"xnli-omission-contradiction\", \"xnli-omission-neutral\"]))\n",
    "        exit()\n",
    "\n",
    "folder = os.getcwd()\n",
    "dataset_path = os.path.join(folder, '../../dataset')\n",
    "if not os.path.exists(dataset_path):\n",
    "    logger.error('No dataset path: %s' %(dataset_path))\n",
    "    exit()\n",
    "\n",
    "logger.info('Loading the dataset...')\n",
    "dataset = load_from_disk(dataset_path)\n",
    "logger.info('Dataset loaded.')\n",
    "\n",
    "# this is the list of phenomena and which option they need to be annotated with:\n",
    "phenomena = {\n",
    "    'addition':'add-omit',\n",
    "    'ambiguous-translation-wrong-discourse-connective-since-causal':'diff_flexible',\n",
    "    'ambiguous-translation-wrong-discourse-connective-since-temporal':'diff_flexible',\n",
    "    'ambiguous-translation-wrong-discourse-connective-while-contrast':'diff_flexible',\n",
    "    'ambiguous-translation-wrong-discourse-connective-while-temporal':'diff_flexible',\n",
    "    'ambiguous-translation-wrong-gender-female-anti':'diff_flexible',\n",
    "    'ambiguous-translation-wrong-gender-female-pro':'diff_flexible',\n",
    "    'ambiguous-translation-wrong-gender-male-anti':'diff_flexible',\n",
    "    'ambiguous-translation-wrong-gender-male-pro':'diff_flexible',\n",
    "    'ambiguous-translation-wrong-sense-frequent':'diff_flexible',\n",
    "    'ambiguous-translation-wrong-sense-infrequent':'diff_flexible',\n",
    "    'anaphoric_group_it-they:deletion':'annotate_word',\n",
    "    'anaphoric_group_it-they:substitution':'annotate_word',\n",
    "    'anaphoric_intra_non-subject_it:deletion':'annotate_word',\n",
    "    'anaphoric_intra_non-subject_it:substitution':'annotate_word',\n",
    "    'anaphoric_intra_subject_it:deletion':'annotate_word',\n",
    "    'anaphoric_intra_subject_it:substitution':'annotate_word',\n",
    "    'anaphoric_intra_they:deletion':'annotate_word',\n",
    "    'anaphoric_intra_they:substitution':'annotate_word',\n",
    "    'anaphoric_singular_they:deletion':'annotate_word',\n",
    "    'anaphoric_singular_they:substitution':'annotate_word',\n",
    "    'antonym-replacement':'REF_flexible',\n",
    "    'commonsense-only-ref-ambiguous':'diff_flexible',\n",
    "    'commonsense-src-and-ref-ambiguous':'diff_flexible',\n",
    "    'copy-source':'whole_sentence',\n",
    "    'coreference-based-on-commonsense':'mixed_flexible',\n",
    "    'do-not-translate':'whole_sentence',\n",
    "    'hallucination-date-time':'date',\n",
    "    'hallucination-named-entity-level-1':'diff_flexible',\n",
    "    'hallucination-named-entity-level-2':'REF_flexible',\n",
    "    'hallucination-named-entity-level-3':'REF_flexible',\n",
    "    'hallucination-number-level-1':'diff_flexible',\n",
    "    'hallucination-number-level-2':'REF_flexible',\n",
    "    'hallucination-number-level-3':'REF_flexible',\n",
    "    'hallucination-real-data-vs-ref-word':'diff_flexible',\n",
    "    'hallucination-real-data-vs-synonym':'diff_flexible',\n",
    "    'hallucination-unit-conversion-amount-matches-ref':'units',\n",
    "    'hallucination-unit-conversion-unit-matches-ref':'units',\n",
    "    'hypernym-replacement':'REF_flexible',\n",
    "    'hyponym-replacement':'REF_flexible',\n",
    "    'lexical-overlap':'?',\n",
    "    'modal_verb:deletion':'add-omit',\n",
    "    'modal_verb:substitution':'diff_flexible',\n",
    "    'nonsense':'REF_flexible',\n",
    "    'omission':'add-omit',\n",
    "    'ordering-mismatch':'swap',\n",
    "    'overly-literal-vs-correct-idiom':'diff_flexible',\n",
    "    'overly-literal-vs-explanation':'diff_flexible',\n",
    "    'overly-literal-vs-ref-word':'diff_flexible',\n",
    "    'overly-literal-vs-synonym':'diff_flexible',\n",
    "    'pleonastic_it:deletion':'annotate_word',\n",
    "    'pleonastic_it:substitution':'annotate_word',\n",
    "    'punctuation:deletion_all':'add-omit',\n",
    "    'punctuation:deletion_commas':'add-omit',\n",
    "    'punctuation:deletion_quotes':'add-omit',\n",
    "    'punctuation:statement-to-question':'add-omit',\n",
    "    'real-world-knowledge-entailment':'diff_flexible',\n",
    "    'real-world-knowledge-hypernym-vs-distractor':'diff_flexible',\n",
    "    'real-world-knowledge-hypernym-vs-hyponym':'diff_flexible',\n",
    "    'real-world-knowledge-synonym-vs-antonym':'diff_flexible',\n",
    "    'similar-language-high':'whole_sentence',\n",
    "    'similar-language-low':'whole_sentence',\n",
    "    'untranslated-vs-ref-word':'diff_flexible',   # here add-omit can be used for getting character level replacements too\n",
    "    'untranslated-vs-synonym':'diff_flexible',\n",
    "    'xnli-addition-contradiction':'?',\n",
    "    'xnli-addition-neutral':'?',\n",
    "    'xnli-omission-contradiction':'?',\n",
    "    'xnli-omission-neutral':'?'\n",
    "}\n",
    "\n",
    "# if there are already some annotations overwrite them and append new ones\n",
    "annotated_dataset_path = os.path.join(folder, 'annotated.txt')\n",
    "if os.path.exists(annotated_dataset_path):\n",
    "    logger.info('Path {} already exists. Loading..'.format(annotated_dataset_path))\n",
    "    with open(annotated_dataset_path, \"r\") as f:\n",
    "        annotations = json.load(f)\n",
    "    annotations = {int(k):v for k,v in annotations.items()}\n",
    "else:\n",
    "    logger.info('Creating new annotations.txt file at {}'.format(annotated_dataset_path))\n",
    "    annotations = dict()\n",
    "\n",
    "# calculate statistics about the annotations:\n",
    "# for every mode, calculate no. of skipped, no. of unsure and ids, and no. of done.\n",
    "stats_template = {\n",
    "            'total':0,\n",
    "            'success':0,\n",
    "            'too_long':[],\n",
    "            'no_change':[],\n",
    "            'error':[],\n",
    "            'skipped':[],\n",
    "            'other':[]  \n",
    "        }\n",
    "stats_path = os.path.join(folder, 'stats.txt')\n",
    "if os.path.exists(stats_path):\n",
    "    logger.info('Path {} already exists. Loading..'.format(stats_path))\n",
    "    with open(stats_path, \"r\") as f:\n",
    "        stats = json.load(f)\n",
    "    # we want to overwrite the statistics for the new phenomena\n",
    "    for p in phenomena_tobe_processed:\n",
    "        stats[p] = copy.deepcopy(stats_template)\n",
    "else:\n",
    "    logger.info('Creating new stats.txt file at {}'.format(stats_path))\n",
    "    stats = {}\n",
    "    for key in phenomena.keys():\n",
    "        stats[key] = copy.deepcopy(stats_template)\n",
    "logger.info(\"READY\")\n",
    "\n",
    "def manual_annotation_io(idx):\n",
    "    sample = dataset['train'][idx]\n",
    "    if idx in annotations:\n",
    "        change = annotations[idx]['annotation']\n",
    "        if len(change) == 1 and len(change[0][\"in_good\"]['token'].split()) == 1 and len(change[0][\"in_bad\"]['token'].split())==1:\n",
    "            return 0\n",
    "\n",
    "    if phenomena[sample[\"phenomena\"]] in ['?', 'mixed_flexible']:\n",
    "        print(\"-----> For this sample we can compare the Incorrect translation with either Reference or Good translation.\")\n",
    "    elif phenomena[sample[\"phenomena\"]] in ['REF_flexible']:\n",
    "        print(\"-----> For this sample we compare the Incorrect translation with the Reference.\")\n",
    "    else:\n",
    "        print(\"-----> For this sample we compare the Incorrect translation with the Good translation.\\n\")\n",
    "    if idx in annotations:\n",
    "        print(\"Source sentence: \", sample['source'])\n",
    "        print(\"Reference: \", sample['reference'])\n",
    "        print(\"Good Translation: \", sample['good-translation'])\n",
    "        print(\"Incorrect Translation: \", sample['incorrect-translation'])\n",
    "        print('Suggested annotation:')\n",
    "        print(annotations[idx]['annotation'], '\\n')\n",
    "        inp = input('To accept the suggested annotation click on enter. To skip this one enter skip. Otherwise enter anything else:')\n",
    "        if inp == \"skip\":\n",
    "            annotations.pop(idx)\n",
    "            return 1  # this means, we are skipping, so should delete this annotation and then continue with the next.\n",
    "        res = manual_annotation(idx, inp)\n",
    "        if res == -1:\n",
    "            # do not add the annotation if you stop at this point\n",
    "            annotations.pop(idx)\n",
    "            return -1\n",
    "    else:\n",
    "        print(\"No automatic translations for this sample.\")\n",
    "        res = manual_annotation(idx)\n",
    "        if res == -1:\n",
    "            return -1\n",
    "\n",
    "def manual_annotation(idx, inp=\".\"):\n",
    "    while inp != \"\":\n",
    "        sample = dataset['train'][idx]\n",
    "        print(\"Source sentence: \", sample['source'])\n",
    "        print(\"Reference: \", sample['reference'])\n",
    "        print(\"Good Translation: \", sample['good-translation'])\n",
    "        print(\"Incorrect Translation: \", sample['incorrect-translation'])\n",
    "        inp = input(\"Enter the incorrect translation with the < and > to show the error spans (exit to stop): \\n\")\n",
    "        bad = inp\n",
    "        if bad == \"exit\":\n",
    "            return -1\n",
    "        inp = input(\"Enter the correct/reference translation with the < and > to show the error spans (exit to stop): \\n\")\n",
    "        good = inp\n",
    "        if good == \"exit\":\n",
    "            return -1\n",
    "        change = calculate_change(good, bad, sample)\n",
    "        print(\"Annotation: \", change)\n",
    "        inp = input(\"\\n To accept it press enter or to annotate again enter any other string: \")\n",
    "        if inp == \"\":\n",
    "            sample['annotation'] = change\n",
    "            sample['method'] = \"manual annotation\"\n",
    "            annotations[idx] = sample\n",
    "    return annotations[idx]\n",
    "\n",
    "def calculate_change(good, bad, sample):  \n",
    "    bad_id = 0\n",
    "    span = False # False is when we are not inside a span, True is inside a span\n",
    "    change = []\n",
    "    for i, c in enumerate(bad):\n",
    "        if c == \"<\":\n",
    "            if span:\n",
    "                logger.error(\"< not closed. Try again.\\n\")\n",
    "                return manual_annotation(\".\", sample)\n",
    "            else:\n",
    "                start = bad_id\n",
    "                start_annotate = i\n",
    "                bad_id -= 1\n",
    "                span = True\n",
    "        elif c == \">\":\n",
    "            if not span:\n",
    "                logger.error(\"No opening < Try again.\\n\")\n",
    "                return manual_annotation(\".\", sample)\n",
    "            else:\n",
    "                change.append({\"in_good\":None, \n",
    "                    \"in_bad\":{'token_index':None, \n",
    "                    'character_span':(start,bad_id), \n",
    "                               'token':bad[start_annotate+1:i]}})\n",
    "                bad_id -= 1\n",
    "                span = False\n",
    "        bad_id += 1\n",
    "    good_id = 0\n",
    "    span = False # False is when we are not inside a span, True is inside a span\n",
    "    for i, c in enumerate(good):\n",
    "        if c == \"<\":\n",
    "            if span:\n",
    "                logger.error(\"< not closed. Try again.\\n\")\n",
    "                return manual_annotation(\".\", sample)\n",
    "            else:\n",
    "                start = good_id\n",
    "                start_annotate = i\n",
    "                good_id -= 1\n",
    "                span = True\n",
    "        elif c == \">\":\n",
    "            if not span:\n",
    "                logger.error(\"No opening < Try again.\\n\")\n",
    "                return manual_annotation(\".\", sample)\n",
    "            else:\n",
    "                change.append({\"in_good\":{'token_index':None, \n",
    "                    'character_span':(start,good_id), \n",
    "                               'token':good[start_annotate+1:i]}, \n",
    "                    \"in_bad\":None})\n",
    "                good_id -= 1\n",
    "                span = False\n",
    "        good_id += 1\n",
    "    return change\n",
    "\n",
    "def process_phenomena(samples, manual=False):\n",
    "    for idx,sample in tqdm(samples):\n",
    "        # here don't worry about stats - it will be probably completely wrong\n",
    "        if idx not in annotations.keys():\n",
    "            stats[sample[\"phenomena\"]][\"total\"] += 1\n",
    "            if phenomena[sample[\"phenomena\"]] == 'add-omit':\n",
    "                try:\n",
    "                    change = diff_char_level(sample[\"good-translation\"], sample[\"incorrect-translation\"])\n",
    "                    if len(change) == 0:\n",
    "                        logger.warning('No change in id {}'.format(idx))\n",
    "                        stats[sample[\"phenomena\"]][\"no_change\"].append((idx, sample['langpair']))\n",
    "                    else:\n",
    "                        stats[sample[\"phenomena\"]][\"success\"] += 1\n",
    "                    sample['annotation'] = change\n",
    "                    sample['method'] = phenomena[sample[\"phenomena\"]]\n",
    "                    annotations[idx] = sample\n",
    "                except:\n",
    "                    logger.warning('error in char level annotate, id {}'.format(idx))\n",
    "                    stats[sample[\"phenomena\"]][\"error\"].append((idx, sample['langpair']))\n",
    "\n",
    "            elif phenomena[sample[\"phenomena\"]] == 'annotate_word':\n",
    "                try:\n",
    "                    change = annotate_word(sample[\"good-translation\"], sample[\"incorrect-translation\"])\n",
    "                    if len(change) == 0:\n",
    "                        logger.warning('No change in id {}'.format(idx))\n",
    "                        stats[sample[\"phenomena\"]][\"no_change\"].append((idx, sample['langpair']))\n",
    "                    else:\n",
    "                        stats[sample[\"phenomena\"]][\"success\"] += 1\n",
    "                    sample['annotation'] = change\n",
    "                    sample['method'] = phenomena[sample[\"phenomena\"]]\n",
    "                    annotations[idx] = sample\n",
    "                except:\n",
    "                    logger.warning('error in word level annotate, id {}'.format(idx))\n",
    "                    stats[sample[\"phenomena\"]][\"error\"].append((idx, sample['langpair']))\n",
    "\n",
    "            elif phenomena[sample[\"phenomena\"]] in ['diff_flexible', 'REF_flexible', 'mixed_flexible']:\n",
    "                if phenomena[sample[\"phenomena\"]] == 'diff_flexible':\n",
    "                    good = sample[\"good-translation\"]\n",
    "                elif phenomena[sample[\"phenomena\"]] == 'mixed_flexible':\n",
    "                    good, g, g_spans = ref_or_good(sample[\"reference\"], sample[\"good-translation\"], sample[\"incorrect-translation\"])\n",
    "                else: \n",
    "                    good = sample[\"reference\"]\n",
    "                bad = sample[\"incorrect-translation\"]\n",
    "                g, g_spans = tokenize(good)\n",
    "                b, b_spans = tokenize(bad)\n",
    "\n",
    "                # special treatment to japanese chinese and thailandish because they don't use spaces, so can't be split            \n",
    "                if sample['langpair'][-2:] not in ['ja', 'zh', 'th']:      \n",
    "                    if len(g) == len(b):   # if there are multiple one word replacements\n",
    "                        change = diff(g, g_spans, b, b_spans, phenomena=\"replacement\")\n",
    "                    if len(g) != len(b) or len(change) == 0:\n",
    "                        try:\n",
    "                            change = diff_flexible(good, g, g_spans, bad, b, b_spans)\n",
    "                            if len(change) == 0 and good != bad:\n",
    "                                change = diff_char_level(good, bad) \n",
    "                        except:\n",
    "                            logger.warning('error in id {}'.format(idx))\n",
    "                            stats[sample[\"phenomena\"]][\"error\"].append((idx, sample['langpair']))\n",
    "                    if len(change) == 0:\n",
    "                        logger.warning('No change in id {}'.format(idx,g,b,change))\n",
    "                        stats[sample[\"phenomena\"]][\"no_change\"].append((idx, sample['langpair']))\n",
    "                    elif len(change) != 0 and ((change[0]['in_good'] != None and len(change[0]['in_good']['token']) > 50) or (change[0]['in_bad'] != None and len(change[0]['in_bad']['token']) > 50)):\n",
    "                        logger.warning('check this - too long: %s' %idx)\n",
    "                        stats[sample[\"phenomena\"]][\"too_long\"].append((idx, sample['langpair']))\n",
    "                    else:\n",
    "                        stats[sample[\"phenomena\"]][\"success\"] += 1\n",
    "                    sample['annotation'] = change\n",
    "                    sample['method'] = phenomena[sample[\"phenomena\"]]\n",
    "                    annotations[idx] = sample  \n",
    "                else:\n",
    "                    try:\n",
    "                        change = diff_char_level(good, bad) \n",
    "                        if len(change) == 0 and good != bad:\n",
    "                            logger.warning('No change in id {}'.format(idx,g,b,change))\n",
    "                            stats[sample[\"phenomena\"]][\"no_change\"].append((idx, sample['langpair']))\n",
    "                        elif len(change) != 0 and ((change[0]['in_good'] != None and len(change[0]['in_good']['token']) > 30) or (change[0]['in_bad'] != None and len(change[0]['in_bad']['token']) > 30)):\n",
    "                            logger.warning('check this - too long: %s' %idx)\n",
    "                            stats[sample[\"phenomena\"]][\"too_long\"].append((idx, sample['langpair']))\n",
    "                        else:\n",
    "                            stats[sample[\"phenomena\"]][\"success\"] += 1\n",
    "                        sample['annotation'] = change\n",
    "                        sample['method'] = phenomena[sample[\"phenomena\"]]\n",
    "                        annotations[idx] = sample\n",
    "                    except: \n",
    "                        logger.warning('error in id {}'.format(idx))\n",
    "                        stats[sample[\"phenomena\"]][\"error\"].append((idx, sample['langpair']))\n",
    "\n",
    "\n",
    "            elif phenomena[sample[\"phenomena\"]] == 'units':\n",
    "                try:\n",
    "                    g, b, change = annotate_units(sample[\"good-translation\"],sample[\"incorrect-translation\"])\n",
    "                    if len(change) == 0 and g != b:\n",
    "                        logger.warning('No change in id {}, \\ng: {}, \\nb: {},\\nr: {}'.format(idx, g, b))\n",
    "                        stats[sample[\"phenomena\"]][\"no_change\"].append((idx, sample['langpair']))\n",
    "                    elif len(change) > 1:\n",
    "                        logger.warning('Multiple changes in {} id {}'.format(sample[\"phenomena\"], idx))\n",
    "                        stats[sample[\"phenomena\"]][\"other\"].append((idx, sample['langpair']))\n",
    "                    else:\n",
    "                        stats[sample[\"phenomena\"]][\"success\"] += 1\n",
    "                    sample['annotation'] = change\n",
    "                    sample['method'] = phenomena[sample[\"phenomena\"]]\n",
    "                    annotations[idx] = sample  \n",
    "                except: \n",
    "                    logger.warning('error in id {}'.format(idx))\n",
    "                    stats[sample[\"phenomena\"]][\"error\"].append((idx, sample['langpair']))\n",
    "\n",
    "            elif phenomena[sample[\"phenomena\"]] == 'swap':\n",
    "                try:\n",
    "                    change = annotate_swap_word_lvl(sample[\"good-translation\"],sample[\"incorrect-translation\"])\n",
    "                    if len(change) < 2 and sample[\"good-translation\"] != sample[\"incorrect-translation\"]:\n",
    "                        logger.warning('No change in id {}, \\ng: {}, \\nb: {}'.format(idx, sample[\"good-translation\"], sample[\"incorrect-translation\"]))\n",
    "                        stats[sample[\"phenomena\"]][\"no_change\"].append((idx, sample['langpair']))\n",
    "                    elif change[0]['in_good'] != None and change[1]['in_good'] != None and change[0]['in_good'] == change[1]['in_good']:\n",
    "                        logger.warning('check this: %s - swapped words are the same!' %idx)\n",
    "                        stats[sample[\"phenomena\"]][\"other\"].append((idx, sample['langpair']))\n",
    "                    elif (change[0]['in_good'] != None and len(change[0]['in_good']['token']) > 50) or (change[0]['in_bad'] != None and len(change[0]['in_bad']['token']) > 50):\n",
    "                        logger.warning('check this: %s' %idx)\n",
    "                        stats[sample[\"phenomena\"]][\"too_long\"].append((idx, sample['langpair']))\n",
    "                    else:\n",
    "                        stats[sample[\"phenomena\"]][\"success\"] += 1\n",
    "                    sample['annotation'] = change\n",
    "                    sample['method'] = phenomena[sample[\"phenomena\"]]\n",
    "                    annotations[idx] = sample\n",
    "                except: \n",
    "                    logger.warning('error in id {}'.format(idx))\n",
    "                    stats[sample[\"phenomena\"]][\"error\"].append((idx, sample['langpair']))\n",
    "\n",
    "            elif phenomena[sample[\"phenomena\"]] == 'date':\n",
    "                try:\n",
    "                    change = diff_dates(sample[\"good-translation\"],sample[\"incorrect-translation\"])\n",
    "                    stats[sample[\"phenomena\"]][\"success\"] += 1\n",
    "                    sample['annotation'] = change\n",
    "                    sample['method'] = phenomena[sample[\"phenomena\"]]\n",
    "                    annotations[idx] = sample\n",
    "                except: \n",
    "                    logger.warning('error in id {}'.format(idx))\n",
    "                    stats[sample[\"phenomena\"]][\"error\"].append((idx, sample['langpair']))\n",
    "            elif phenomena[sample['phenomena']] == 'whole_sentence':\n",
    "                change = whole_sentence(sample[\"good-translation\"], sample[\"incorrect-translation\"])\n",
    "                stats[sample[\"phenomena\"]][\"success\"] += 1\n",
    "                sample['annotation'] = change\n",
    "                sample['method'] = phenomena[sample[\"phenomena\"]]\n",
    "                annotations[idx] = sample\n",
    "\n",
    "            if manual:\n",
    "                res = manual_annotation_io(idx)\n",
    "                # if exit, first save a new annotations file to save progress and then exit\n",
    "                if res == 1:  # SKIPPING\n",
    "                    continue \n",
    "                if res == -1:\n",
    "                    with open(checkpoint, \"w+\") as f:\n",
    "                        json.dump(annotations, f)  # encode dict into JSON\n",
    "                    return -1\n"
   ]
  },
  {
   "cell_type": "code",
   "execution_count": 2,
   "id": "3804733f",
   "metadata": {},
   "outputs": [
    {
     "name": "stderr",
     "output_type": "stream",
     "text": [
      "INFO:logger:Path /mnt/c/Users/user/OneDrive/Masaüstü/work/ACES_private/challenge_set_annotation/manual_annotations/annotated_checkpoint_hallucination-real-data-vs-synonym.txt already exists. Loading..\n"
     ]
    }
   ],
   "source": [
    "samples = []\n",
    "for idx, sample in enumerate(dataset['train']):\n",
    "    if sample['phenomena'] in phenomena_tobe_processed:\n",
    "        samples.append((idx, sample))\n",
    "        \n",
    "# if manual:\n",
    "if not os.path.exists(os.path.join(folder, 'manual_annotations')):\n",
    "    os.mkdir(os.path.join(folder, 'manual_annotations'))\n",
    "checkpoint = os.path.join(folder, 'manual_annotations/annotated_checkpoint_{}.txt'.format(phenomena_tobe_processed))\n",
    "if os.path.exists(checkpoint):\n",
    "    logger.info('Path {} already exists. Loading..'.format(checkpoint))\n",
    "    with open(checkpoint, \"r\") as f:\n",
    "        annotations = json.load(f)\n",
    "    annotations = {int(k):v for k,v in annotations.items()}\n",
    "else:\n",
    "    annotations = dict()"
   ]
  },
  {
   "cell_type": "code",
   "execution_count": 4,
   "id": "8c1d437a",
   "metadata": {},
   "outputs": [
    {
     "name": "stderr",
     "output_type": "stream",
     "text": [
      "\r",
      "  0%|                                                                                              | 0/144 [00:00<?, ?it/s]"
     ]
    },
    {
     "name": "stdout",
     "output_type": "stream",
     "text": [
      "-----> For this sample we compare the Incorrect translation with the Good translation.\n",
      "\n",
      "Source sentence:  After it became apparent that many families were seeking legal help to fight the evictions, a meeting was held on March 20 at the East Bay Community Law Center for the victims of the housing scam.\n",
      "Reference:  ते स्पष्ट झाल्यानंतर अनेक कुटुंबे बेकायदेशीर कारवाईसाठी लढा देण्यासाठी कायदेशीर मदतीची मागणी करत होते, गृहनिर्माण घोटाळ्यातील पीडित व्यक्तींसाठी 20 मार्च रोजी पूर्व बे समुदाय कायदा केंद्र येथे एक बैठक आयोजित करण्यात आली होती.\n",
      "Good Translation:  त्यानंतर स्पष्ट झाले की अनेक घरांनी बेदखलीच्या विरुद्ध लढण्यासाठी कानूनी मदत मागितली होती, 20 मार्चमध्ये आवासीय धोखाधड़ीच्या पीडितंसाठी East Bay Community Law Centerमध्ये एक बैठक करण्यात आली.\n",
      "Incorrect Translation:  त्यानंतर स्पष्ट झाले की अनेक घरांनी अपघात लढण्यासाठी कानूनी मदत मागितली होती, 20 मार्चमध्ये आवासीय धोखाधड़ीच्या पीडितंसाठी East Bay Community Law Centerमध्ये एक बैठक करण्यात आली.\n",
      "Suggested annotation:\n",
      "[{'in_good': {'token_index': [6, 7], 'character_span': (36, 54), 'token': 'बेदखलीच्या विरुद्ध'}, 'in_bad': {'token_index': [6], 'character_span': (36, 41), 'token': 'अपघात'}}] \n",
      "\n",
      "To accept the suggested annotation click on enter. To skip this one enter skip. Otherwise enter anything else:skip\n"
     ]
    },
    {
     "name": "stderr",
     "output_type": "stream",
     "text": [
      "\r",
      " 81%|███████████████████████████████████████████████████████████████████▋                | 116/144 [00:08<00:02, 12.98it/s]"
     ]
    },
    {
     "name": "stdout",
     "output_type": "stream",
     "text": [
      "-----> For this sample we compare the Incorrect translation with the Good translation.\n",
      "\n",
      "Source sentence:  \"The country's supreme leader, Ayatollah Ali Khamenei, has described the dependency on oil as \"\"a trap\"\" dating from before Iran's Islamic revolution in 1979 and from which the country should free itself.\"\n",
      "Reference:  \"देशाचे सर्वोच्च नेते अयातुल्ला अली खमेनी यांनी 1979 मध्ये इराणची इस्लामिक क्रांती होण्याआधीपासून आणि त्यापासून देशाने मुक्त व्हावे यासाठी तेलावरील अवलंबित्वाचे वर्णन \"\"ट्रॅप\"\" म्हणून केले आहे.\"\n",
      "Good Translation:  \"देशाचे सर्वोच्च नेते, अयातुल्ला अली खामेनी यांनी तेलावरील अवलंबित्वाचे वर्णन 1979 मध्ये इराणच्या इस्लामिक क्रांतीपूर्वीपासूनचे \"\"सापळा\"\" असे केले आहे आणि ज्यातून देशाने स्वतःला मुक्त केले पाहिजे.\"\n",
      "Incorrect Translation:  \"देशाच्या सर्वोच्च नेता अयातोला अली खमनेईने तेल निर्भरताला 1979 मध्ये इराणच्या इस्लामिक क्रांतिच्या पूर्वावलोकनच्या \"\"एक तलवार\"\" म्हणून वर्णित केले आहे आणि इराण स्वतःला मुक्त करणार आहे.\"\n",
      "Suggested annotation:\n",
      "[{'in_good': {'token_index': 0, 'character_span': (1, 7), 'token': 'देशाचे'}, 'in_bad': {'token_index': 0, 'character_span': (1, 9), 'token': 'देशाच्या'}}, {'in_good': {'token_index': 2, 'character_span': (17, 21), 'token': 'नेते'}, 'in_bad': {'token_index': 2, 'character_span': (19, 23), 'token': 'नेता'}}, {'in_good': {'token_index': 3, 'character_span': (23, 32), 'token': 'अयातुल्ला'}, 'in_bad': {'token_index': 3, 'character_span': (24, 31), 'token': 'अयातोला'}}, {'in_good': {'token_index': 5, 'character_span': (37, 43), 'token': 'खामेनी'}, 'in_bad': {'token_index': 5, 'character_span': (36, 43), 'token': 'खमनेईने'}}, {'in_good': {'token_index': 6, 'character_span': (44, 49), 'token': 'यांनी'}, 'in_bad': {'token_index': 6, 'character_span': (44, 47), 'token': 'तेल'}}, {'in_good': {'token_index': 7, 'character_span': (50, 58), 'token': 'तेलावरील'}, 'in_bad': {'token_index': 7, 'character_span': (48, 58), 'token': 'निर्भरताला'}}, {'in_good': {'token_index': 8, 'character_span': (59, 71), 'token': 'अवलंबित्वाचे'}, 'in_bad': {'token_index': 8, 'character_span': (59, 63), 'token': '1979'}}, {'in_good': {'token_index': 9, 'character_span': (72, 77), 'token': 'वर्णन'}, 'in_bad': {'token_index': 9, 'character_span': (64, 69), 'token': 'मध्ये'}}, {'in_good': {'token_index': 10, 'character_span': (78, 82), 'token': '1979'}, 'in_bad': {'token_index': 10, 'character_span': (70, 78), 'token': 'इराणच्या'}}, {'in_good': {'token_index': 11, 'character_span': (83, 88), 'token': 'मध्ये'}, 'in_bad': {'token_index': 11, 'character_span': (79, 87), 'token': 'इस्लामिक'}}, {'in_good': {'token_index': 12, 'character_span': (89, 97), 'token': 'इराणच्या'}, 'in_bad': {'token_index': 12, 'character_span': (88, 99), 'token': 'क्रांतिच्या'}}, {'in_good': {'token_index': 13, 'character_span': (98, 106), 'token': 'इस्लामिक'}, 'in_bad': {'token_index': 13, 'character_span': (100, 115), 'token': 'पूर्वावलोकनच्या'}}, {'in_good': {'token_index': 14, 'character_span': (107, 127), 'token': 'क्रांतीपूर्वीपासूनचे'}, 'in_bad': {'token_index': 14, 'character_span': (118, 120), 'token': 'एक'}}, {'in_good': {'token_index': 15, 'character_span': (130, 135), 'token': 'सापळा'}, 'in_bad': {'token_index': 15, 'character_span': (121, 126), 'token': 'तलवार'}}, {'in_good': {'token_index': 16, 'character_span': (138, 141), 'token': 'असे'}, 'in_bad': {'token_index': 16, 'character_span': (129, 135), 'token': 'म्हणून'}}, {'in_good': {'token_index': 17, 'character_span': (142, 146), 'token': 'केले'}, 'in_bad': {'token_index': 17, 'character_span': (136, 142), 'token': 'वर्णित'}}, {'in_good': {'token_index': 18, 'character_span': (147, 150), 'token': 'आहे'}, 'in_bad': {'token_index': 18, 'character_span': (143, 147), 'token': 'केले'}}, {'in_good': {'token_index': 19, 'character_span': (151, 154), 'token': 'आणि'}, 'in_bad': {'token_index': 19, 'character_span': (148, 151), 'token': 'आहे'}}, {'in_good': {'token_index': 20, 'character_span': (155, 162), 'token': 'ज्यातून'}, 'in_bad': {'token_index': 20, 'character_span': (152, 155), 'token': 'आणि'}}, {'in_good': {'token_index': 21, 'character_span': (163, 169), 'token': 'देशाने'}, 'in_bad': {'token_index': 21, 'character_span': (156, 160), 'token': 'इराण'}}, {'in_good': {'token_index': 24, 'character_span': (184, 188), 'token': 'केले'}, 'in_bad': {'token_index': 24, 'character_span': (175, 180), 'token': 'करणार'}}, {'in_good': {'token_index': 25, 'character_span': (189, 195), 'token': 'पाहिजे'}, 'in_bad': {'token_index': 25, 'character_span': (181, 184), 'token': 'आहे'}}] \n",
      "\n",
      "To accept the suggested annotation click on enter. To skip this one enter skip. Otherwise enter anything else:skip\n"
     ]
    },
    {
     "name": "stderr",
     "output_type": "stream",
     "text": [
      "WARNING:logger:check this - too long: 35808\n"
     ]
    },
    {
     "name": "stdout",
     "output_type": "stream",
     "text": [
      "-----> For this sample we compare the Incorrect translation with the Good translation.\n",
      "\n",
      "Source sentence:  The PBS show has more than two-dozen Emmy awards, and its run is shorter only than Sesame Street and Mister Rogers' Neighborhood.\n",
      "Reference:  PBS शो कडे 2 डझनाहून अधिक एमी पारितोषिके आहेत आणि त्याची धाव फक्त सेसमी स्ट्रीट आणि मिस्टर रॉजर्स नेबरहूड पेक्षाच कमी आहे.\n",
      "Good Translation:  पीबीएस शोमध्ये दोन डझनहून अधिक एम्मी पुरस्कार आहेत आणि त्याची रन फक्त सेसम स्ट्रीट आणि मिस्टर रॉजर्स नेबरहुडपेक्षा कमी आहे.\n",
      "Incorrect Translation:  पीबीएस प्रदर्शनीमध्ये दोन दहा से अधिक एम्मी पुरस्कार आहेत, आणि त्याची प्रक्षेपण सिसाम स्ट्रीट आणि मिस्टर रॉजर्सच्या घरी तुलनेत कमी आहे.\n",
      "Suggested annotation:\n",
      "[{'in_good': {'token_index': [1, 2, 3, 4, 5, 6, 7, 8, 9, 10, 11, 12, 13, 14, 15, 16, 17], 'character_span': (7, 114), 'token': 'शोमध्ये दोन डझनहून अधिक एम्मी पुरस्कार आहेत आणि त्याची रन फक्त सेसम स्ट्रीट आणि मिस्टर रॉजर्स नेबरहुडपेक्षा'}, 'in_bad': {'token_index': [1, 2, 3, 4, 5, 6, 7, 8, 9, 10, 11, 12, 13, 14, 15, 16, 17, 18], 'character_span': (7, 126), 'token': 'प्रदर्शनीमध्ये दोन दहा से अधिक एम्मी पुरस्कार आहेत, आणि त्याची प्रक्षेपण सिसाम स्ट्रीट आणि मिस्टर रॉजर्सच्या घरी तुलनेत'}}] \n",
      "\n",
      "To accept the suggested annotation click on enter. To skip this one enter skip. Otherwise enter anything else:skip\n"
     ]
    },
    {
     "name": "stderr",
     "output_type": "stream",
     "text": [
      " 82%|████████████████████████████████████████████████████████████████████▊               | 118/144 [00:16<00:04,  6.06it/s]WARNING:logger:check this - too long: 35809\n"
     ]
    },
    {
     "name": "stdout",
     "output_type": "stream",
     "text": [
      "-----> For this sample we compare the Incorrect translation with the Good translation.\n",
      "\n",
      "Source sentence:  The Il-76 has been a major component of both the Russian and Soviet military since the 1970s, and had already seen a serious accident in Russia last month.\n",
      "Reference:  सन १९७० पासून आयएल-७६ रशिया आणि सोव्हिएत लष्करातील महत्त्वाचा भाग आहे आणि गेल्याच महिन्यात त्याला रशियामध्ये भयंकर अपघात झाला होता.\n",
      "Good Translation:  Il-76 हे 1970 च्या दशकापासून रशियन आणि सोव्हिएत सैन्याचा एक प्रमुख घटक आहे आणि गेल्या महिन्यात रशियामध्ये यापूर्वीच एक गंभीर अपघात झाला होता.\n",
      "Incorrect Translation:  इल-76 १९७० पर्यंत रशियन आणि सोवियत सैन्याचे एक प्रमुख घटक आहे आणि गेल्या महिन्यात रशियात एक गंभीर दुर्घटना घडली आहे.\n",
      "Suggested annotation:\n",
      "[{'in_good': {'token_index': [0, 1, 2, 3, 4, 5, 6, 7, 8, 9, 10, 11, 12, 13, 14, 15, 16, 17, 18, 19, 20, 21, 22], 'character_span': (0, 140), 'token': 'Il-76 हे 1970 च्या दशकापासून रशियन आणि सोव्हिएत सैन्याचा एक प्रमुख घटक आहे आणि गेल्या महिन्यात रशियामध्ये यापूर्वीच एक गंभीर अपघात झाला होता'}, 'in_bad': {'token_index': [0, 1, 2, 3, 4, 5, 6, 7, 8, 9, 10, 11, 12, 13, 14, 15, 16, 17, 18, 19], 'character_span': (0, 115), 'token': 'इल-76 १९७० पर्यंत रशियन आणि सोवियत सैन्याचे एक प्रमुख घटक आहे आणि गेल्या महिन्यात रशियात एक गंभीर दुर्घटना घडली आहे'}}] \n",
      "\n",
      "To accept the suggested annotation click on enter. To skip this one enter skip. Otherwise enter anything else:skip\n"
     ]
    },
    {
     "name": "stderr",
     "output_type": "stream",
     "text": [
      " 83%|█████████████████████████████████████████████████████████████████████▍              | 119/144 [00:18<00:05,  4.89it/s]WARNING:logger:check this - too long: 35811\n"
     ]
    },
    {
     "name": "stdout",
     "output_type": "stream",
     "text": [
      "-----> For this sample we compare the Incorrect translation with the Good translation.\n",
      "\n",
      "Source sentence:  British newspaper The Guardian suggested Deutsche Bank controlled roughly a third of the 1200 shell companies used to accomplish this.\n",
      "Reference:  ब्रिटीश वृत्तपत्र द गार्डियन यांनी सुचवले की हे पूर्ण करण्यासाठी उपयोगात आलेल्या 1200 शेल कंपन्यापैकी जवळपास एक तृतीयांश कंपन्या या डॉईश बँक नियंत्रित करते.\n",
      "Good Translation:  ब्रिटीश वृत्तपत्र द गार्डियनने असे सुचवले आहे की हे पूर्ण करण्यासाठी वापरल्या जाणार्‍या 1200 शेल कंपन्यांपैकी सुमारे एक तृतीयांश ड्यूश बँकेचे नियंत्रण आहे.\n",
      "Incorrect Translation:  ब्रिटिश अखबार गार्जियन म्हणाल्या की Deutsche Bankने 1200 शेल कंपन्यांचा जवळपास एक तिहादा नियंत्रण घेतला आहे.\n",
      "Suggested annotation:\n",
      "[{'in_good': {'token_index': [0, 1, 2, 3, 4, 5, 6, 7, 8, 9, 10, 11, 12, 13, 14, 15, 16, 17, 18, 19, 20, 21], 'character_span': (0, 150), 'token': 'ब्रिटीश वृत्तपत्र द गार्डियनने असे सुचवले आहे की हे पूर्ण करण्यासाठी वापरल्या जाणार्\\u200dया 1200 शेल कंपन्यांपैकी सुमारे एक तृतीयांश ड्यूश बँकेचे नियंत्रण'}, 'in_bad': {'token_index': [0, 1, 2, 3, 4, 5, 6, 7, 8, 9, 10, 11, 12, 13, 14], 'character_span': (0, 103), 'token': 'ब्रिटिश अखबार गार्जियन म्हणाल्या की Deutsche Bankने 1200 शेल कंपन्यांचा जवळपास एक तिहादा नियंत्रण घेतला'}}] \n",
      "\n",
      "To accept the suggested annotation click on enter. To skip this one enter skip. Otherwise enter anything else:skip\n"
     ]
    },
    {
     "name": "stderr",
     "output_type": "stream",
     "text": [
      " 84%|██████████████████████████████████████████████████████████████████████▌             | 121/144 [00:21<00:05,  4.00it/s]WARNING:logger:check this - too long: 35813\n"
     ]
    },
    {
     "name": "stdout",
     "output_type": "stream",
     "text": [
      "-----> For this sample we compare the Incorrect translation with the Good translation.\n",
      "\n",
      "Source sentence:  In its most recent monthly report, OPEC said exports of crude had fallen to their lowest level for two decades at 2.8 million barrels per day.\n",
      "Reference:  OPEC ने त्यांच्या अगदी अलीकडच्या मासिक अहवालात म्हटले आहे की कच्च्या तेलाची निर्यात 2 दशकांतील सर्वात कमी पातळीवर गेली असून दररोज 2.8 दशलक्ष बॅरल्सपर्यंत घसरली आली आहे.\n",
      "Good Translation:  आपल्या सर्वात अलीकडील मासिक अहवालात, ओपेकने म्हटले आहे की क्रूडची निर्यात 2.8 दशलक्ष बॅरल प्रतिदिन या दोन दशकांतील सर्वात कमी पातळीवर गेली आहे.\n",
      "Incorrect Translation:  आपल्या नवीनतम मासिक रिपोर्टमध्ये, ओपेक म्हणाले की, कच्चे माल निर्यात दोन दशकांपासून 2.8 मिलियन बॅरेल प्रति दिवस कमी झाले होते.\n",
      "Suggested annotation:\n",
      "[{'in_good': {'token_index': [1, 2, 3, 4, 5, 6, 7, 8, 9, 10, 11, 12, 13, 14, 15, 16, 17, 18, 19, 20, 21, 22], 'character_span': (7, 142), 'token': 'सर्वात अलीकडील मासिक अहवालात, ओपेकने म्हटले आहे की क्रूडची निर्यात 2.8 दशलक्ष बॅरल प्रतिदिन या दोन दशकांतील सर्वात कमी पातळीवर गेली आहे'}, 'in_bad': {'token_index': [1, 2, 3, 4, 5, 6, 7, 8, 9, 10, 11, 12, 13, 14, 15, 16, 17, 18, 19], 'character_span': (7, 125), 'token': 'नवीनतम मासिक रिपोर्टमध्ये, ओपेक म्हणाले की, कच्चे माल निर्यात दोन दशकांपासून 2.8 मिलियन बॅरेल प्रति दिवस कमी झाले होते'}}] \n",
      "\n",
      "To accept the suggested annotation click on enter. To skip this one enter skip. Otherwise enter anything else:skip\n"
     ]
    },
    {
     "name": "stderr",
     "output_type": "stream",
     "text": [
      " 85%|███████████████████████████████████████████████████████████████████████▊            | 123/144 [00:22<00:05,  3.84it/s]WARNING:logger:check this - too long: 35814\n"
     ]
    },
    {
     "name": "stdout",
     "output_type": "stream",
     "text": [
      "-----> For this sample we compare the Incorrect translation with the Good translation.\n",
      "\n",
      "Source sentence:  Moreover, top judge Evangelos Kalousis is imprisoned as he found guilty of corruption and degenerate behaviour.\n",
      "Reference:  याउपर, सर्वोच्च न्यायाधीश एवनजेलॉस कलौसिस यांना अटक झाली कारण ते भ्रष्टाचार आणि भ्रष्ट वर्तनासाठी दोषी आढळले.\n",
      "Good Translation:  शिवाय, सर्वोच्च न्यायाधीश इव्हान्जेलोस कालोसिस यांना भ्रष्टाचार आणि अधोगती वर्तनासाठी दोषी आढळल्याने तुरुंगात टाकले आहे.\n",
      "Incorrect Translation:  तसेच, उच्च न्यायाधीश Evangelos Kalousis जबाबदारी आणि भ्रष्टाचार म्हणून दोषी पाहिले म्हणून जेल करण्यात आले आहे.\n",
      "Suggested annotation:\n",
      "[{'in_good': {'token_index': [0, 1, 2, 3, 4, 5, 6, 7, 8, 9, 10, 11, 12, 13], 'character_span': (0, 115), 'token': 'शिवाय, सर्वोच्च न्यायाधीश इव्हान्जेलोस कालोसिस यांना भ्रष्टाचार आणि अधोगती वर्तनासाठी दोषी आढळल्याने तुरुंगात टाकले'}, 'in_bad': {'token_index': [0, 1, 2, 3, 4, 5, 6, 7, 8, 9, 10, 11, 12, 13, 14], 'character_span': (0, 105), 'token': 'तसेच, उच्च न्यायाधीश Evangelos Kalousis जबाबदारी आणि भ्रष्टाचार म्हणून दोषी पाहिले म्हणून जेल करण्यात आले'}}] \n",
      "\n",
      "To accept the suggested annotation click on enter. To skip this one enter skip. Otherwise enter anything else:skip\n"
     ]
    },
    {
     "name": "stderr",
     "output_type": "stream",
     "text": [
      " 86%|████████████████████████████████████████████████████████████████████████▎           | 124/144 [00:22<00:05,  3.58it/s]WARNING:logger:check this - too long: 35815\n"
     ]
    },
    {
     "name": "stdout",
     "output_type": "stream",
     "text": [
      "-----> For this sample we compare the Incorrect translation with the Good translation.\n",
      "\n",
      "Source sentence:  \"Its second claw was larger, giving rise to the name Hesperonychus which means \"\"western claw.\"\"\"\n",
      "Reference:  \"त्याच्या दुसर्‍या नख्या अधिक मोठ्या होत्या, त्यामुळे त्याला हेस्पेरोनिकस असे नाव दिले गेले ज्याचा अर्थ \"\"वेस्टर्न क्लॉ\"\" असा आहे. \"\n",
      "Good Translation:  \"त्याचा दुसरा पंजा मोठा होता, ज्यामुळे हेस्परोनीचस नावाचा उदय झाला ज्याचा अर्थ \"\"पश्चिमी पंजा\"\" आहे.\"\n",
      "Incorrect Translation:  त्याची दुसरी कालावधी मोठी होती, ज्यामुळे हेस्पेरेनियस (Hesperonychus) म्हणतात, याचा अर्थ ‘पश्चिमी कालावधी’ आहे.\n",
      "Suggested annotation:\n",
      "[{'in_good': {'token_index': [0, 1, 2, 3, 4, 5, 6, 7, 8, 9, 10, 11, 12, 13], 'character_span': (1, 93), 'token': 'त्याचा दुसरा पंजा मोठा होता, ज्यामुळे हेस्परोनीचस नावाचा उदय झाला ज्याचा अर्थ \"\"पश्चिमी पंजा'}, 'in_bad': {'token_index': [0, 1, 2, 3, 4, 5, 6, 7, 8, 9, 10, 11, 12], 'character_span': (0, 106), 'token': 'त्याची दुसरी कालावधी मोठी होती, ज्यामुळे हेस्पेरेनियस (Hesperonychus) म्हणतात, याचा अर्थ ‘पश्चिमी कालावधी’'}}] \n",
      "\n",
      "To accept the suggested annotation click on enter. To skip this one enter skip. Otherwise enter anything else:skip\n"
     ]
    },
    {
     "name": "stderr",
     "output_type": "stream",
     "text": [
      " 87%|████████████████████████████████████████████████████████████████████████▉           | 125/144 [00:23<00:05,  3.31it/s]WARNING:logger:check this - too long: 35817\n"
     ]
    },
    {
     "name": "stdout",
     "output_type": "stream",
     "text": [
      "-----> For this sample we compare the Incorrect translation with the Good translation.\n",
      "\n",
      "Source sentence:  The commissioner sets bail, if granted, and formalizes the charges filed by the arresting officer. The charges are then entered into the state's computer system where the case is tracked.\n",
      "Reference:  मंजूर झाला तर आयुक्त जामीन निश्चित करतात आणि अटक करणाऱ्या अधिकाऱ्याने निश्चित केलेल्या आरोपांना औपचारीक केले जाते. त्यानंतर आरोप राज्याच्या संगणक प्रणालीमध्ये नोंदवले जातात तिथून खटल्याकडे लक्ष ठेवले जाते.\n",
      "Good Translation:  जामीन मंजूर झाल्यास आयुक्त जामीन देतात आणि अटक करणार्‍या अधिकाऱ्याने दाखल केलेल्या आरोपांची औपचारिकता करतात. त्यानंतर शुल्क राज्याच्या संगणक प्रणालीमध्ये प्रविष्ट केले जाते जेथे प्रकरणाचा मागोवा घेतला जातो.\n",
      "Incorrect Translation:  कमांडर, अनुमोदित असेल तर बायल देतो आणि गिरफ्तारी अधिकारी द्वारा दावे आकार देतो. दावे त्यानंतर राज्यच्या कंप्यूटर सिस्टममध्ये प्रवेश करतात, ज्यात हा मामला निगरानी करण्यात आला आहे.\n",
      "Suggested annotation:\n",
      "[{'in_good': {'token_index': [0, 1, 2, 3, 4, 5, 6, 7, 8, 9, 10, 11, 12, 13, 14, 15, 16, 17, 18, 19, 20, 21, 22, 23, 24, 25, 26, 27], 'character_span': (0, 205), 'token': 'जामीन मंजूर झाल्यास आयुक्त जामीन देतात आणि अटक करणार्\\u200dया अधिकाऱ्याने दाखल केलेल्या आरोपांची औपचारिकता करतात. त्यानंतर शुल्क राज्याच्या संगणक प्रणालीमध्ये प्रविष्ट केले जाते जेथे प्रकरणाचा मागोवा घेतला जातो'}, 'in_bad': {'token_index': [0, 1, 2, 3, 4, 5, 6, 7, 8, 9, 10, 11, 12, 13, 14, 15, 16, 17, 18, 19, 20, 21, 22, 23, 24, 25, 26], 'character_span': (0, 177), 'token': 'कमांडर, अनुमोदित असेल तर बायल देतो आणि गिरफ्तारी अधिकारी द्वारा दावे आकार देतो. दावे त्यानंतर राज्यच्या कंप्यूटर सिस्टममध्ये प्रवेश करतात, ज्यात हा मामला निगरानी करण्यात आला आहे'}}] \n",
      "\n",
      "To accept the suggested annotation click on enter. To skip this one enter skip. Otherwise enter anything else:skip\n"
     ]
    },
    {
     "name": "stderr",
     "output_type": "stream",
     "text": [
      " 88%|██████████████████████████████████████████████████████████████████████████          | 127/144 [00:24<00:05,  3.19it/s]WARNING:logger:check this - too long: 35818\n"
     ]
    },
    {
     "name": "stdout",
     "output_type": "stream",
     "text": [
      "-----> For this sample we compare the Incorrect translation with the Good translation.\n",
      "\n",
      "Source sentence:  As the cars ahead of Alonso went in for fuel under the safety car, he moved up the pack to take victory.\n",
      "Reference:  अलोन्सोच्या पुढे असणाऱ्या कार इंधन भरण्यासाठी सेफ्टी कारच्या खाली जाताच, त्याने विजय मिळवण्यासाठी वेग घेतला.\n",
      "Good Translation:  अलोन्सोच्या पुढच्या गाड्या सेफ्टी कारच्या खाली इंधनासाठी गेल्यामुळे, त्याने विजय मिळविण्यासाठी पॅक वर केला.\n",
      "Incorrect Translation:  एलनॉसच्या उपर्युक्त वाहन सुरक्षित गाडीत ईंधनसाठी प्रवेश केल्यास, त्याने विजयासाठी पैकेज उघडले.\n",
      "Suggested annotation:\n",
      "[{'in_good': {'token_index': [0, 1, 2, 3, 4, 5, 6, 7, 8, 9, 10, 11, 12, 13], 'character_span': (0, 106), 'token': 'अलोन्सोच्या पुढच्या गाड्या सेफ्टी कारच्या खाली इंधनासाठी गेल्यामुळे, त्याने विजय मिळविण्यासाठी पॅक वर केला'}, 'in_bad': {'token_index': [0, 1, 2, 3, 4, 5, 6, 7, 8, 9, 10, 11], 'character_span': (0, 93), 'token': 'एलनॉसच्या उपर्युक्त वाहन सुरक्षित गाडीत ईंधनसाठी प्रवेश केल्यास, त्याने विजयासाठी पैकेज उघडले'}}] \n",
      "\n",
      "To accept the suggested annotation click on enter. To skip this one enter skip. Otherwise enter anything else:skip\n"
     ]
    },
    {
     "name": "stderr",
     "output_type": "stream",
     "text": [
      " 89%|██████████████████████████████████████████████████████████████████████████▋         | 128/144 [00:24<00:05,  2.98it/s]WARNING:logger:check this - too long: 35819\n"
     ]
    },
    {
     "name": "stdout",
     "output_type": "stream",
     "text": [
      "-----> For this sample we compare the Incorrect translation with the Good translation.\n",
      "\n",
      "Source sentence:  Apple CEO Steve Jobs unveiled the device by walking onto the stage and taking the iPhone out of his jeans pocket.\n",
      "Reference:  अॅपल सीईओ स्टीव जॉब्ज मंचावर चालत आले आणि आपल्या जिन्सच्या खिशातून आयफोन काढून त्याचे अनावरण केले.\n",
      "Good Translation:  ऍपलचे सीईओ स्टीव्ह जॉब्स यांनी स्टेजवर चालत आणि जीन्सच्या खिशातून आयफोन काढून डिव्हाइसचे अनावरण केले.\n",
      "Incorrect Translation:  एप्पलच्या सीईओ स्टीव जॉब्सने डिवाइसला प्रदर्शित केले आणि त्याचे आईफोन त्याच्या जॅकमध्ये बाहेर काढले.\n",
      "Suggested annotation:\n",
      "[{'in_good': {'token_index': [0, 1, 2, 3, 4, 5, 6, 7, 8, 9, 10, 11, 12, 13, 14], 'character_span': (0, 100), 'token': 'ऍपलचे सीईओ स्टीव्ह जॉब्स यांनी स्टेजवर चालत आणि जीन्सच्या खिशातून आयफोन काढून डिव्हाइसचे अनावरण केले'}, 'in_bad': {'token_index': [0, 1, 2, 3, 4, 5, 6, 7, 8, 9, 10, 11, 12, 13], 'character_span': (0, 99), 'token': 'एप्पलच्या सीईओ स्टीव जॉब्सने डिवाइसला प्रदर्शित केले आणि त्याचे आईफोन त्याच्या जॅकमध्ये बाहेर काढले'}}] \n",
      "\n",
      "To accept the suggested annotation click on enter. To skip this one enter skip. Otherwise enter anything else:skip\n"
     ]
    },
    {
     "name": "stderr",
     "output_type": "stream",
     "text": [
      " 90%|███████████████████████████████████████████████████████████████████████████▎        | 129/144 [00:25<00:05,  2.74it/s]WARNING:logger:check this - too long: 35820\n"
     ]
    },
    {
     "name": "stdout",
     "output_type": "stream",
     "text": [
      "-----> For this sample we compare the Incorrect translation with the Good translation.\n",
      "\n",
      "Source sentence:  The two sides would meet in the major semi final where Noosa ran out winners by 11 points.\n",
      "Reference:  2 संघांचा प्रमुख उपांत्य सामन्यात सामना होणार असून नुसा 11 गुणांनी बाद झाला आहे.\n",
      "Good Translation:  दोन्ही बाजू प्रमुख उपांत्य फेरीत आमनेसामने होतील जिथे नूसा 11 गुणांनी विजेतेपदावर पोहोचला.\n",
      "Incorrect Translation:  दोन्ही पक्ष एकमेव अर्धशतकमध्ये भेटेल, ज्यामध्ये नोओसाने विजेतांना 11 अंक काढले.\n",
      "Suggested annotation:\n",
      "[{'in_good': {'token_index': [1, 2, 3, 4, 5, 6, 7, 8, 9, 10, 11, 12], 'character_span': (7, 89), 'token': 'बाजू प्रमुख उपांत्य फेरीत आमनेसामने होतील जिथे नूसा 11 गुणांनी विजेतेपदावर पोहोचला'}, 'in_bad': {'token_index': [1, 2, 3, 4, 5, 6, 7, 8, 9, 10], 'character_span': (7, 78), 'token': 'पक्ष एकमेव अर्धशतकमध्ये भेटेल, ज्यामध्ये नोओसाने विजेतांना 11 अंक काढले'}}] \n",
      "\n",
      "To accept the suggested annotation click on enter. To skip this one enter skip. Otherwise enter anything else:skip\n"
     ]
    },
    {
     "name": "stderr",
     "output_type": "stream",
     "text": [
      "\r",
      " 90%|███████████████████████████████████████████████████████████████████████████▊        | 130/144 [00:26<00:05,  2.53it/s]"
     ]
    },
    {
     "name": "stdout",
     "output_type": "stream",
     "text": [
      "-----> For this sample we compare the Incorrect translation with the Good translation.\n",
      "\n",
      "Source sentence:  Piquet Jr. was sacked after the 2009 Hungarian Grand Prix.\n",
      "Reference:  पीकेट जूनियरला 2009 हंगेरियन ग्रँड प्रिक्स नंतर काढून टाकण्यात आले होते.\n",
      "Good Translation:  पिकेट ज्युनियरला 2009 हंगेरियन ग्रांप्री नंतर काढून टाकण्यात आले.\n",
      "Incorrect Translation:  Piquet Jr. हा 2009 वंगरी ग्रॅंड प्रीमियमचा परिणाम झाला.\n",
      "Suggested annotation:\n",
      "[{'in_good': {'token_index': 0, 'character_span': (0, 5), 'token': 'पिकेट'}, 'in_bad': {'token_index': 0, 'character_span': (0, 6), 'token': 'piquet'}}, {'in_good': {'token_index': 1, 'character_span': (6, 16), 'token': 'ज्युनियरला'}, 'in_bad': {'token_index': 1, 'character_span': (7, 9), 'token': 'jr'}}, {'in_good': {'token_index': 2, 'character_span': (17, 21), 'token': '2009'}, 'in_bad': {'token_index': 2, 'character_span': (11, 13), 'token': 'हा'}}, {'in_good': {'token_index': 3, 'character_span': (22, 30), 'token': 'हंगेरियन'}, 'in_bad': {'token_index': 3, 'character_span': (14, 18), 'token': '2009'}}, {'in_good': {'token_index': 4, 'character_span': (31, 40), 'token': 'ग्रांप्री'}, 'in_bad': {'token_index': 4, 'character_span': (19, 24), 'token': 'वंगरी'}}, {'in_good': {'token_index': 5, 'character_span': (41, 45), 'token': 'नंतर'}, 'in_bad': {'token_index': 5, 'character_span': (25, 31), 'token': 'ग्रॅंड'}}, {'in_good': {'token_index': 6, 'character_span': (46, 51), 'token': 'काढून'}, 'in_bad': {'token_index': 6, 'character_span': (32, 42), 'token': 'प्रीमियमचा'}}, {'in_good': {'token_index': 7, 'character_span': (52, 60), 'token': 'टाकण्यात'}, 'in_bad': {'token_index': 7, 'character_span': (43, 49), 'token': 'परिणाम'}}, {'in_good': {'token_index': 8, 'character_span': (61, 64), 'token': 'आले'}, 'in_bad': {'token_index': 8, 'character_span': (50, 54), 'token': 'झाला'}}] \n",
      "\n",
      "To accept the suggested annotation click on enter. To skip this one enter skip. Otherwise enter anything else:skip\n"
     ]
    },
    {
     "name": "stderr",
     "output_type": "stream",
     "text": [
      " 91%|████████████████████████████████████████████████████████████████████████████▍       | 131/144 [00:26<00:05,  2.21it/s]WARNING:logger:check this - too long: 35823\n"
     ]
    },
    {
     "name": "stdout",
     "output_type": "stream",
     "text": [
      "-----> For this sample we compare the Incorrect translation with the Good translation.\n",
      "\n",
      "Source sentence:  The amount and thickness of the pack ice, according to Pittman, is the worst it has been for sealers in the past 15 years.\n",
      "Reference:  गेल्या 15 वर्षांमध्ये, पिट्टमॅन नुसार घट्ट बर्फाचे प्रमाण आणि जाडी ही सिलर्स करिता अत्यंत वाईट आहे.\n",
      "Good Translation:  पिटमॅनच्या मते, घट्ट बर्फाचे प्रमाण आणि जाडी ही सीलर्ससाठी गेल्या 15 वर्षांतील सर्वात वाईट आहे.\n",
      "Incorrect Translation:  पॅक आइसक्रीमची मात्रा आणि मोटाई, पिटमैननुसार, गेल्या 15 वर्षात साजरांसाठी सर्वात खराब आहे.\n",
      "Suggested annotation:\n",
      "[{'in_good': {'token_index': [0, 1, 2, 3, 4, 5, 6, 7, 8, 9, 10, 11, 12, 13], 'character_span': (0, 90), 'token': 'पिटमॅनच्या मते, घट्ट बर्फाचे प्रमाण आणि जाडी ही सीलर्ससाठी गेल्या 15 वर्षांतील सर्वात वाईट'}, 'in_bad': {'token_index': [0, 1, 2, 3, 4, 5, 6, 7, 8, 9, 10, 11], 'character_span': (0, 85), 'token': 'पॅक आइसक्रीमची मात्रा आणि मोटाई, पिटमैननुसार, गेल्या 15 वर्षात साजरांसाठी सर्वात खराब'}}] \n",
      "\n",
      "To accept the suggested annotation click on enter. To skip this one enter skip. Otherwise enter anything else:skip\n"
     ]
    },
    {
     "name": "stderr",
     "output_type": "stream",
     "text": [
      " 92%|█████████████████████████████████████████████████████████████████████████████▌      | 133/144 [00:27<00:04,  2.45it/s]WARNING:logger:check this - too long: 35824\n"
     ]
    },
    {
     "name": "stdout",
     "output_type": "stream",
     "text": [
      "-----> For this sample we compare the Incorrect translation with the Good translation.\n",
      "\n",
      "Source sentence:  Tenants at Lockwood Gardens believe that there may be another 40 families or more to face eviction, since they learned that OHA police are also investigating other public housing properties in Oakland that may be caught up in the housing scam.\n",
      "Reference:  लॉकवुड गार्डनमधील भाडेकरूंचा असा विश्वास करतात की तेथे आणखी 40 किंवा त्याहून अधिक कुटुंबीयांना हद्दपारीला सामोरे जावे लागण्याची शक्यता आहे कारण त्यांना हे समजले की OHA पोलिस गृहनिर्माण घोटाळ्यात अडकलेल्या ओकलँडमधील अन्य सार्वजनिक गृहनिर्माण मालमत्तांचीही चौकशी करीत आहेत.\n",
      "Good Translation:  लॉकवुड गार्डन्समधील भाडेकरूंचा असा विश्वास आहे की कदाचित आणखी 40 किंवा त्याहून अधिक कुटुंबांना बेदखल करण्याचा सामना करावा लागेल, कारण त्यांना समजले की OHA पोलीस ओकलँडमधील इतर सार्वजनिक गृहनिर्माण मालमत्तांची देखील चौकशी करत आहेत ज्या गृहनिर्माण घोटाळ्यात अडकल्या जाऊ शकतात.\n",
      "Incorrect Translation:  लॉकवुड गॅर्डेन्सच्या मालकांनी माहीत आहे की इतर 40 किंवा अधिक घरांना अपघात होऊ शकते, जेव्हा त्यांनी पाहिले आहे की OHA पोलिसांनी Oaklandमध्ये इतर सार्वजनिक आवासीय संपत्ती शोधत आहेत जे आवासीय धोखाधड़ीमध्ये पकडले जाऊ शकतात.\n",
      "Suggested annotation:\n",
      "[{'in_good': {'token_index': [1, 2, 3, 4, 5, 6, 7, 8, 9, 10, 11, 12, 13, 14, 15, 16, 17, 18, 19, 20, 21, 22, 23, 24, 25, 26, 27, 28, 29, 30, 31, 32, 33, 34, 35, 36, 37], 'character_span': (7, 262), 'token': 'गार्डन्समधील भाडेकरूंचा असा विश्वास आहे की कदाचित आणखी 40 किंवा त्याहून अधिक कुटुंबांना बेदखल करण्याचा सामना करावा लागेल, कारण त्यांना समजले की OHA पोलीस ओकलँडमधील इतर सार्वजनिक गृहनिर्माण मालमत्तांची देखील चौकशी करत आहेत ज्या गृहनिर्माण घोटाळ्यात अडकल्या'}, 'in_bad': {'token_index': [1, 2, 3, 4, 5, 6, 7, 8, 9, 10, 11, 12, 13, 14, 15, 16, 17, 18, 19, 20, 21, 22, 23, 24, 25, 26, 27, 28, 29, 30, 31], 'character_span': (7, 208), 'token': 'गॅर्डेन्सच्या मालकांनी माहीत आहे की इतर 40 किंवा अधिक घरांना अपघात होऊ शकते, जेव्हा त्यांनी पाहिले आहे की OHA पोलिसांनी Oaklandमध्ये इतर सार्वजनिक आवासीय संपत्ती शोधत आहेत जे आवासीय धोखाधड़ीमध्ये पकडले'}}] \n",
      "\n",
      "To accept the suggested annotation click on enter. To skip this one enter skip. Otherwise enter anything else:skip\n"
     ]
    },
    {
     "name": "stderr",
     "output_type": "stream",
     "text": [
      " 93%|██████████████████████████████████████████████████████████████████████████████▏     | 134/144 [00:28<00:04,  2.22it/s]WARNING:logger:check this - too long: 35826\n"
     ]
    },
    {
     "name": "stdout",
     "output_type": "stream",
     "text": [
      "-----> For this sample we compare the Incorrect translation with the Good translation.\n",
      "\n",
      "Source sentence:  On September 24, 1759, Arthur Guinness signed a 9,000 year lease for the St James' Gate Brewery in Dublin, Ireland.\n",
      "Reference:  २४ सप्टेंबर १७५९ रोजी, आर्थर गिनसने डब्लिन, आयर्लंडमधील सेंट जेम्सच्या गेट ब्रीवरीसाठी ९००० वर्षांच्या भाडेपट्टीवर सही केली.\n",
      "Good Translation:  24 सप्टेंबर 1759 रोजी आर्थर गिनीजने डब्लिन, आयर्लंड येथील सेंट जेम्स गेट ब्रुअरीसाठी 9,000 वर्षांच्या भाडेपट्टीवर स्वाक्षरी केली.\n",
      "Incorrect Translation:  24 सप्टेंबर 1759 मध्ये आर्थर गिनीसने आयर्लियाच्या डबलिनमध्ये सेंट जेम्स गेट पायरीसाठी 9,000 वर्षांची किराया लिहिली.\n",
      "Suggested annotation:\n",
      "[{'in_good': {'token_index': [3, 4, 5, 6, 7, 8, 9, 10, 11, 12, 13, 14, 15, 16, 17], 'character_span': (17, 128), 'token': 'रोजी आर्थर गिनीजने डब्लिन, आयर्लंड येथील सेंट जेम्स गेट ब्रुअरीसाठी 9,000 वर्षांच्या भाडेपट्टीवर स्वाक्षरी केली'}, 'in_bad': {'token_index': [3, 4, 5, 6, 7, 8, 9, 10, 11, 12, 13, 14, 15], 'character_span': (17, 114), 'token': 'मध्ये आर्थर गिनीसने आयर्लियाच्या डबलिनमध्ये सेंट जेम्स गेट पायरीसाठी 9,000 वर्षांची किराया लिहिली'}}] \n",
      "\n",
      "To accept the suggested annotation click on enter. To skip this one enter skip. Otherwise enter anything else:skip\n"
     ]
    },
    {
     "name": "stderr",
     "output_type": "stream",
     "text": [
      " 94%|███████████████████████████████████████████████████████████████████████████████▎    | 136/144 [00:28<00:03,  2.42it/s]WARNING:logger:check this - too long: 35827\n"
     ]
    },
    {
     "name": "stdout",
     "output_type": "stream",
     "text": [
      "-----> For this sample we compare the Incorrect translation with the Good translation.\n",
      "\n",
      "Source sentence:  It is not known at this time what charges will be laid or what led authorities to the boy but juvenile proceedings have begun in federal court.\n",
      "Reference:  आता यावेळी माहित नाही की कोणते आरोप लावले जातील किंवा मुलाला अधिकाऱ्यांनी काय केले परंतु फेडरल न्यायालयात किशोरवयीन प्रक्रिया सुरु झालेली आहे.\n",
      "Good Translation:  या वेळी कोणते आरोप लावले जातील किंवा त्या मुलावर अधिकार्‍यांना काय नेले जाईल हे माहित नाही परंतु फेडरल कोर्टात किशोरवयीन कार्यवाही सुरू झाली आहे.\n",
      "Incorrect Translation:  यावेळी कोणते आरोपी या अधिकारकर्त्यांनी मुलीला काय करावे हे अज्ञात आहे, परंतु फेडरल अदालतमध्ये मुलीची प्रक्रिया सुरू झाली आहे.\n",
      "Suggested annotation:\n",
      "[{'in_good': {'token_index': [0, 1, 2, 3, 4, 5, 6, 7, 8, 9, 10, 11, 12, 13, 14, 15, 16, 17, 18, 19, 20], 'character_span': (0, 130), 'token': 'या वेळी कोणते आरोप लावले जातील किंवा त्या मुलावर अधिकार्\\u200dयांना काय नेले जाईल हे माहित नाही परंतु फेडरल कोर्टात किशोरवयीन कार्यवाही'}, 'in_bad': {'token_index': [0, 1, 2, 3, 4, 5, 6, 7, 8, 9, 10, 11, 12, 13, 14, 15], 'character_span': (0, 110), 'token': 'यावेळी कोणते आरोपी या अधिकारकर्त्यांनी मुलीला काय करावे हे अज्ञात आहे, परंतु फेडरल अदालतमध्ये मुलीची प्रक्रिया'}}] \n",
      "\n",
      "To accept the suggested annotation click on enter. To skip this one enter skip. Otherwise enter anything else:skip\n"
     ]
    },
    {
     "name": "stderr",
     "output_type": "stream",
     "text": [
      " 95%|███████████████████████████████████████████████████████████████████████████████▉    | 137/144 [00:29<00:03,  2.16it/s]WARNING:logger:check this - too long: 35828\n"
     ]
    },
    {
     "name": "stdout",
     "output_type": "stream",
     "text": [
      "-----> For this sample we compare the Incorrect translation with the Good translation.\n",
      "\n",
      "Source sentence:  News spread in the Red Lake community today as funerals for Jeff Weise and three of the nine victims were held that another student was arrested in connection with the school shootings of March 21.\n",
      "Reference:  आज रेड लेक समाजात बातम्या पसरल्या आहेत की 21 मार्च रोजी झालेल्या शाळेच्या येथील गोळीबार प्रकरणी जेफ वेइस आणि नऊ जणांपैकी तीन जणांवर अंत्यसंस्कार करण्यात आले आहेत तसेच दुसर्‍या विद्यार्थ्याला अटक करण्यात आली आहे.\n",
      "Good Translation:  आज रेड लेक समुदायात बातमी पसरली कारण जेफ वेईस यांच्या अंत्यसंस्कारासाठी आणि नऊपैकी तीन पीडितांना 21 मार्चच्या शाळेत झालेल्या गोळीबाराच्या संदर्भात आणखी एका विद्यार्थ्याला अटक करण्यात आली होती.\n",
      "Incorrect Translation:  रेड लेक सामुदायिकमध्ये आज जेफ वेझे आणि नौ जणांच्या दफनाने तीन जणांना पकडले होते की, 21 मार्चच्या शाळेत शूटिंगच्या संदर्भात एक दुसरा विद्यार्थी पकडला गेला आहे.\n",
      "Suggested annotation:\n",
      "[{'in_good': {'token_index': [0, 1, 2, 3, 4, 5, 6, 7, 8, 9, 10, 11, 12, 13, 14, 15, 16, 17, 18, 19, 20, 21, 22, 23, 24, 25, 26, 27], 'character_span': (0, 191), 'token': 'आज रेड लेक समुदायात बातमी पसरली कारण जेफ वेईस यांच्या अंत्यसंस्कारासाठी आणि नऊपैकी तीन पीडितांना 21 मार्चच्या शाळेत झालेल्या गोळीबाराच्या संदर्भात आणखी एका विद्यार्थ्याला अटक करण्यात आली होती'}, 'in_bad': {'token_index': [0, 1, 2, 3, 4, 5, 6, 7, 8, 9, 10, 11, 12, 13, 14, 15, 16, 17, 18, 19, 20, 21, 22, 23, 24, 25], 'character_span': (0, 157), 'token': 'रेड लेक सामुदायिकमध्ये आज जेफ वेझे आणि नौ जणांच्या दफनाने तीन जणांना पकडले होते की, 21 मार्चच्या शाळेत शूटिंगच्या संदर्भात एक दुसरा विद्यार्थी पकडला गेला आहे'}}] \n",
      "\n",
      "To accept the suggested annotation click on enter. To skip this one enter skip. Otherwise enter anything else:skip\n"
     ]
    },
    {
     "name": "stderr",
     "output_type": "stream",
     "text": [
      "\r",
      " 96%|████████████████████████████████████████████████████████████████████████████████▌   | 138/144 [00:30<00:03,  1.92it/s]"
     ]
    },
    {
     "name": "stdout",
     "output_type": "stream",
     "text": [
      "-----> For this sample we compare the Incorrect translation with the Good translation.\n",
      "\n",
      "Source sentence:  Iraq's Abu Ghraib prison has been set alight during a riot.\n",
      "Reference:  इराकचा अबु घरेब तुरुंग एका दंगलीदरम्यान पेटवून देण्यात आला आहे.\n",
      "Good Translation:  इराकच्या अबु घरेब तुरुंगमध्ये एक विद्रोह झाला आहे.\n",
      "Incorrect Translation:  इराकच्या अब्दुल गुरायबच्या जेलमध्ये एक विद्रोह झाला आहे.\n",
      "Suggested annotation:\n",
      "[{'in_good': {'token_index': 1, 'character_span': (9, 12), 'token': 'अबु'}, 'in_bad': {'token_index': 1, 'character_span': (9, 15), 'token': 'अब्दुल'}}, {'in_good': {'token_index': 2, 'character_span': (13, 17), 'token': 'घरेब'}, 'in_bad': {'token_index': 2, 'character_span': (16, 26), 'token': 'गुरायबच्या'}}, {'in_good': {'token_index': 3, 'character_span': (18, 29), 'token': 'तुरुंगमध्ये'}, 'in_bad': {'token_index': 3, 'character_span': (27, 35), 'token': 'जेलमध्ये'}}] \n",
      "\n",
      "To accept the suggested annotation click on enter. To skip this one enter skip. Otherwise enter anything else:skip\n"
     ]
    },
    {
     "name": "stderr",
     "output_type": "stream",
     "text": [
      " 97%|█████████████████████████████████████████████████████████████████████████████████▋  | 140/144 [00:30<00:01,  2.18it/s]WARNING:logger:check this - too long: 35831\n"
     ]
    },
    {
     "name": "stdout",
     "output_type": "stream",
     "text": [
      "-----> For this sample we compare the Incorrect translation with the Good translation.\n",
      "\n",
      "Source sentence:  In addition to the crushing ice, extreme weather conditions have been hampering rescue efforts.\n",
      "Reference:  तुटणाऱ्या बर्फाखेरीज, वाईट हवामानाच्या स्थितीमुळे बचाव कार्यात अडथळा येत आहे.\n",
      "Good Translation:  तुटणाऱ्या बर्फासकट, अत्यंत हवामानामुळे बचाव कार्यात अडथळे येत आहेत.\n",
      "Incorrect Translation:  जहाज उघडल्यानंतर अत्याधुनिक जलवायु परिस्थितीने बचाव प्रयत्न अवरुद्ध केले आहे.\n",
      "Suggested annotation:\n",
      "[{'in_good': {'token_index': [0, 1, 2, 3, 4, 5, 6, 7, 8], 'character_span': (0, 66), 'token': 'तुटणाऱ्या बर्फासकट, अत्यंत हवामानामुळे बचाव कार्यात अडथळे येत आहेत'}, 'in_bad': {'token_index': [0, 1, 2, 3, 4, 5, 6, 7, 8, 9], 'character_span': (0, 76), 'token': 'जहाज उघडल्यानंतर अत्याधुनिक जलवायु परिस्थितीने बचाव प्रयत्न अवरुद्ध केले आहे'}}] \n",
      "\n",
      "To accept the suggested annotation click on enter. To skip this one enter skip. Otherwise enter anything else:skip\n"
     ]
    },
    {
     "name": "stderr",
     "output_type": "stream",
     "text": [
      " 98%|██████████████████████████████████████████████████████████████████████████████████▎ | 141/144 [00:31<00:01,  2.01it/s]WARNING:logger:check this - too long: 35832\n"
     ]
    },
    {
     "name": "stdout",
     "output_type": "stream",
     "text": [
      "-----> For this sample we compare the Incorrect translation with the Good translation.\n",
      "\n",
      "Source sentence:  Today's Player of the Day is Alex Ovechkin of the Washington Capitals.\n",
      "Reference:  आजचा 'प्लेअर ऑफ द डे' हा वॉशिंग्टन कॅपिटल्सचा अ‍ॅलेक्स ओवेचकिन आहे.\n",
      "Good Translation:  आजचा दिवसातील सर्वोत्तम खेळाडू वॉशिंग्टन कॅपिटल्सचा अॅलेक्स ओवेचकिन आहे.\n",
      "Incorrect Translation:  आजचा अभिनेता अलेक्स ओवेचकिन (Alex Ovechkin) आहे.\n",
      "Suggested annotation:\n",
      "[{'in_good': {'token_index': [1, 2, 3, 4, 5, 6, 7], 'character_span': (5, 67), 'token': 'दिवसातील सर्वोत्तम खेळाडू वॉशिंग्टन कॅपिटल्सचा अॅलेक्स ओवेचकिन'}, 'in_bad': {'token_index': [1, 2, 3, 4, 5], 'character_span': (5, 42), 'token': 'अभिनेता अलेक्स ओवेचकिन (Alex Ovechkin'}}] \n",
      "\n",
      "To accept the suggested annotation click on enter. To skip this one enter skip. Otherwise enter anything else:skip\n"
     ]
    },
    {
     "name": "stderr",
     "output_type": "stream",
     "text": [
      " 99%|██████████████████████████████████████████████████████████████████████████████████▊ | 142/144 [00:32<00:01,  1.90it/s]WARNING:logger:check this - too long: 35834\n"
     ]
    },
    {
     "name": "stdout",
     "output_type": "stream",
     "text": [
      "-----> For this sample we compare the Incorrect translation with the Good translation.\n",
      "\n",
      "Source sentence:  The aircraft had been headed to Irkutsk and was being operated by interior troops.\n",
      "Reference:  विमान इर्कुत्स्कच्या दिशेने जात होते आणि अंतर्गत सैन्याकडून चालवले जात होते.\n",
      "Good Translation:  हे विमान इर्कुत्स्ककडे निघाले होते आणि ते अंतर्गत सैन्याने चालवले होते.\n",
      "Incorrect Translation:  विमान आयर्कुट्स्कमध्ये चालवले होते आणि आंतरिक सैन्यांनी ऑपरेशन केले होते.\n",
      "Suggested annotation:\n",
      "[{'in_good': {'token_index': [0, 1, 2, 3, 4, 5, 6, 7, 8, 9], 'character_span': (0, 65), 'token': 'हे विमान इर्कुत्स्ककडे निघाले होते आणि ते अंतर्गत सैन्याने चालवले'}, 'in_bad': {'token_index': [0, 1, 2, 3, 4, 5, 6, 7, 8], 'character_span': (0, 67), 'token': 'विमान आयर्कुट्स्कमध्ये चालवले होते आणि आंतरिक सैन्यांनी ऑपरेशन केले'}}] \n",
      "\n",
      "To accept the suggested annotation click on enter. To skip this one enter skip. Otherwise enter anything else:skip\n"
     ]
    },
    {
     "name": "stderr",
     "output_type": "stream",
     "text": [
      "100%|████████████████████████████████████████████████████████████████████████████████████| 144/144 [00:32<00:00,  4.38it/s]\n"
     ]
    }
   ],
   "source": [
    "process_phenomena(samples, manual=True)"
   ]
  },
  {
   "cell_type": "code",
   "execution_count": 6,
   "id": "b899069f",
   "metadata": {},
   "outputs": [],
   "source": [
    "count = 0\n",
    "for sample in dataset[\"train\"]:\n",
    "    if sample[\"phenomena\"] in [\"lexical-overlap\", 'xnli-omission-neutral', 'xnli-omission-contradiction', 'xnli-addition-neutral', 'xnli-addition-contradiction']:\n",
    "        count += 1"
   ]
  },
  {
   "cell_type": "code",
   "execution_count": 7,
   "id": "0355b3bd",
   "metadata": {},
   "outputs": [
    {
     "data": {
      "text/plain": [
       "5000"
      ]
     },
     "execution_count": 7,
     "metadata": {},
     "output_type": "execute_result"
    }
   ],
   "source": [
    "count"
   ]
  }
 ],
 "metadata": {
  "kernelspec": {
   "display_name": ".env",
   "language": "python",
   "name": ".env"
  },
  "language_info": {
   "codemirror_mode": {
    "name": "ipython",
    "version": 3
   },
   "file_extension": ".py",
   "mimetype": "text/x-python",
   "name": "python",
   "nbconvert_exporter": "python",
   "pygments_lexer": "ipython3",
   "version": "3.11.2"
  }
 },
 "nbformat": 4,
 "nbformat_minor": 5
}
