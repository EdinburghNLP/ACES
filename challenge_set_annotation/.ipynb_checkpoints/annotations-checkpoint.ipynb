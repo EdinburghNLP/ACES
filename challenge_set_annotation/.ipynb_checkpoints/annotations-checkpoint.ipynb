{
 "cells": [
  {
   "cell_type": "code",
   "execution_count": 2,
   "id": "c4b96d19",
   "metadata": {},
   "outputs": [
    {
     "name": "stdout",
     "output_type": "stream",
     "text": [
      "enter the phenomena: test\n"
     ]
    },
    {
     "name": "stderr",
     "output_type": "stream",
     "text": [
      "INFO:logger:Loading the test dataset...\n",
      "INFO:logger:Test dataset loaded.\n",
      "INFO:logger:Path /mnt/c/Users/user/OneDrive/Masaüstü/work/ACES_private/challenge_set_annotation/manual_annotations/annotated_checkpoint_test.txt already exists. Loading..\n"
     ]
    },
    {
     "name": "stdout",
     "output_type": "stream",
     "text": [
      "Disable automatic accept (True to disable and anything else to not disable): True\n"
     ]
    },
    {
     "name": "stderr",
     "output_type": "stream",
     "text": [
      "INFO:logger:READY\n"
     ]
    },
    {
     "name": "stdout",
     "output_type": "stream",
     "text": [
      "Automatic accept disabled\n"
     ]
    }
   ],
   "source": [
    "#!/usr/bin/env python3\n",
    "# -*- coding: utf-8 -*-\n",
    "from datasets import load_from_disk\n",
    "\n",
    "import numpy as np\n",
    "import json, copy, os, sys\n",
    "from tqdm import tqdm\n",
    "from IPython.display import display, HTML\n",
    "\n",
    "import logging\n",
    "logger = logging.getLogger('logger')\n",
    "logging.basicConfig(level=logging.INFO)\n",
    "logger.setLevel(logging.INFO)\n",
    "\n",
    "sys.path.append(os.path.abspath(os.getcwd()))\n",
    "from annotation_utilities import *\n",
    "\n",
    "# this is the list of phenomena and which option they need to be annotated with:\n",
    "phenomena = {\n",
    "    'addition':'add-omit',\n",
    "    'ambiguous-translation-wrong-discourse-connective-since-causal':'diff_flexible',\n",
    "    'ambiguous-translation-wrong-discourse-connective-since-temporal':'diff_flexible',\n",
    "    'ambiguous-translation-wrong-discourse-connective-while-contrast':'diff_flexible',\n",
    "    'ambiguous-translation-wrong-discourse-connective-while-temporal':'diff_flexible',\n",
    "    'ambiguous-translation-wrong-gender-female-anti':'diff_flexible',\n",
    "    'ambiguous-translation-wrong-gender-female-pro':'diff_flexible',\n",
    "    'ambiguous-translation-wrong-gender-male-anti':'diff_flexible',\n",
    "    'ambiguous-translation-wrong-gender-male-pro':'diff_flexible',\n",
    "    'ambiguous-translation-wrong-sense-frequent':'diff_flexible',\n",
    "    'ambiguous-translation-wrong-sense-infrequent':'diff_flexible',\n",
    "    'anaphoric_group_it-they:deletion':'annotate_word',\n",
    "    'anaphoric_group_it-they:substitution':'annotate_word',\n",
    "    'anaphoric_intra_non-subject_it:deletion':'annotate_word',\n",
    "    'anaphoric_intra_non-subject_it:substitution':'annotate_word',\n",
    "    'anaphoric_intra_subject_it:deletion':'annotate_word',\n",
    "    'anaphoric_intra_subject_it:substitution':'annotate_word',\n",
    "    'anaphoric_intra_they:deletion':'annotate_word',\n",
    "    'anaphoric_intra_they:substitution':'annotate_word',\n",
    "    'anaphoric_singular_they:deletion':'annotate_word',\n",
    "    'anaphoric_singular_they:substitution':'annotate_word',\n",
    "    'antonym-replacement':'REF_flexible',\n",
    "    'commonsense-only-ref-ambiguous':'diff_flexible',\n",
    "    'commonsense-src-and-ref-ambiguous':'diff_flexible',\n",
    "    'copy-source':'whole_sentence',\n",
    "    'coreference-based-on-commonsense':'mixed_flexible',\n",
    "    'do-not-translate':'whole_sentence',\n",
    "    'hallucination-date-time':'date',\n",
    "    'hallucination-named-entity-level-1':'diff_flexible',\n",
    "    'hallucination-named-entity-level-2':'REF_flexible',\n",
    "    'hallucination-named-entity-level-3':'REF_flexible',\n",
    "    'hallucination-number-level-1':'diff_flexible',\n",
    "    'hallucination-number-level-2':'REF_flexible',\n",
    "    'hallucination-number-level-3':'REF_flexible',\n",
    "    'hallucination-real-data-vs-ref-word':'diff_flexible',\n",
    "    'hallucination-real-data-vs-synonym':'diff_flexible',\n",
    "    'hallucination-unit-conversion-amount-matches-ref':'units',\n",
    "    'hallucination-unit-conversion-unit-matches-ref':'units',\n",
    "    'hypernym-replacement':'REF_flexible',\n",
    "    'hyponym-replacement':'REF_flexible',\n",
    "    'lexical-overlap':'manual',\n",
    "    'modal_verb:deletion':'add-omit',\n",
    "    'modal_verb:substitution':'diff_flexible',\n",
    "    'nonsense':'REF_flexible',\n",
    "    'omission':'add-omit',\n",
    "    'ordering-mismatch':'swap',\n",
    "    'overly-literal-vs-correct-idiom':'diff_flexible',\n",
    "    'overly-literal-vs-explanation':'diff_flexible',\n",
    "    'overly-literal-vs-ref-word':'diff_flexible',\n",
    "    'overly-literal-vs-synonym':'diff_flexible',\n",
    "    'pleonastic_it:deletion':'annotate_word',\n",
    "    'pleonastic_it:substitution':'annotate_word',\n",
    "    'punctuation:deletion_all':'add-omit',\n",
    "    'punctuation:deletion_commas':'add-omit',\n",
    "    'punctuation:deletion_quotes':'add-omit',\n",
    "    'punctuation:statement-to-question':'add-omit',\n",
    "    'real-world-knowledge-entailment':'diff_flexible',\n",
    "    'real-world-knowledge-hypernym-vs-distractor':'diff_flexible',\n",
    "    'real-world-knowledge-hypernym-vs-hyponym':'diff_flexible',\n",
    "    'real-world-knowledge-synonym-vs-antonym':'diff_flexible',\n",
    "    'similar-language-high':'whole_sentence',\n",
    "    'similar-language-low':'whole_sentence',\n",
    "    'untranslated-vs-ref-word':'diff_flexible',   # here add-omit can be used for getting character level replacements too\n",
    "    'untranslated-vs-synonym':'diff_flexible',\n",
    "    'xnli-addition-contradiction':'manual',\n",
    "    'xnli-addition-neutral':'manual',\n",
    "    'xnli-omission-contradiction':'manual',\n",
    "    'xnli-omission-neutral':'manual'\n",
    "}\n",
    "\n",
    "folder = os.getcwd()\n",
    "manual_annotations = os.path.join(folder, 'manual_annotations')\n",
    "if not os.path.exists(manual_annotations):\n",
    "    os.mkdir(manual_annotations)\n",
    "    \n",
    "phenomena_tobe_processed = input(\"enter the phenomena: \") \n",
    "if phenomena_tobe_processed == 'test':\n",
    "    # load the subset.json\n",
    "    dataset_path = os.path.join(manual_annotations, 'subset.json')\n",
    "    if not os.path.exists(dataset_path):\n",
    "        logger.error('No dataset path: %s' %(dataset_path))\n",
    "        exit()\n",
    "    logger.info('Loading the test dataset...')\n",
    "    with open(dataset_path, \"r\") as f:\n",
    "        samples = json.load(f)\n",
    "    logger.info('Test dataset loaded.')\n",
    "elif phenomena_tobe_processed == 'dataset':\n",
    "    dataset_path = os.path.join(folder, '../../dataset')\n",
    "    if not os.path.exists(dataset_path):\n",
    "        logger.error('No dataset path: %s' %(dataset_path))\n",
    "        exit()\n",
    "    logger.info('Loading the dataset...')\n",
    "    dataset = load_from_disk(dataset_path)\n",
    "    logger.info('Dataset loaded.')\n",
    "elif phenomena_tobe_processed in phenomena.keys():\n",
    "    dataset_path = os.path.join(folder, '../../dataset')\n",
    "    if not os.path.exists(dataset_path):\n",
    "        logger.error('No dataset path: %s' %(dataset_path))\n",
    "        exit()\n",
    "    logger.info('Loading the dataset...')\n",
    "    dataset = load_from_disk(dataset_path)\n",
    "    logger.info('Dataset loaded.')\n",
    "    samples = dict()\n",
    "    for idx, sample in enumerate(dataset['train']):\n",
    "        if sample['phenomena'] in phenomena_tobe_processed:\n",
    "            samples[idx] = sample        \n",
    "else:\n",
    "    logger.error(\"The phenomena should be one of these: {}\".format(sys.argv[1], phenomena.keys()))\n",
    "        \n",
    "checkpoint = os.path.join(folder, 'manual_annotations/annotated_checkpoint_{}.txt'.format(phenomena_tobe_processed))\n",
    "if os.path.exists(checkpoint):\n",
    "    logger.info('Path {} already exists. Loading..'.format(checkpoint))\n",
    "    with open(checkpoint, \"r\") as f:\n",
    "        annotations = json.load(f)\n",
    "    annotations = {str(k):v for k,v in annotations.items()}\n",
    "else:\n",
    "    annotations = dict()\n",
    "\n",
    "res = input(\"Disable automatic accept (True to disable and anything else to not disable): \") \n",
    "automatic_accept = True\n",
    "if res.lower() == 'true':\n",
    "    automatic_accept = False\n",
    "    print('Automatic accept disabled')\n",
    "logger.info(\"READY\")\n",
    "\n",
    "def display_annotation(idx, sample):\n",
    "    m1 = \"<mark>\"\n",
    "    m2 = \"</mark>\"\n",
    "    m_len = len(m1) + len(m2)\n",
    "    n_spans = 0\n",
    "    change = sample[\"annotation\"]\n",
    "    bad_new = sample[\"incorrect-translation\"]\n",
    "    for c in change:\n",
    "        if c[\"in_bad\"] != None:\n",
    "            span = c[\"in_bad\"][\"character_span\"]\n",
    "            indices = (span[0]+n_spans*m_len, span[1]+n_spans*m_len)\n",
    "            bad_new = bad_new[:indices[0]] + m1 + bad_new[indices[0]:indices[1]] + m2 + bad_new[indices[1]:]\n",
    "            n_spans += 1\n",
    "    html = '''\n",
    "    <style>\n",
    "    mark {{\n",
    "        background-color: #4CAF50;\n",
    "        color: black;\n",
    "      }}\n",
    "    </style>\n",
    "    <body>\n",
    "    <h3>{}</h3>\n",
    "    <p>Source: {}</p>\n",
    "    <p>Reference: {}</p>\n",
    "    <p>Good translation: {}</p>\n",
    "    <p>Incorrect: {}</p>\n",
    "    <p>Phenomenon: {}</p>\n",
    "    </body>\n",
    "    '''.format(idx, sample['source'], sample['reference'], sample['good-translation'], bad_new, sample['phenomena'])\n",
    "    display(HTML(html))\n",
    "    \n",
    "def display_sample(idx, sample):\n",
    "    html = '''\n",
    "    <style>\n",
    "    mark {{\n",
    "        background-color: #4CAF50;\n",
    "        color: black;\n",
    "      }}\n",
    "    </style>\n",
    "    <body>\n",
    "    <h3>{}</h3>\n",
    "    <p>Source: {}</p>\n",
    "    <p>Reference: {}</p>\n",
    "    <p>Good translation: {}</p>\n",
    "    <p>Incorrect: {}</p>\n",
    "    <p>Phenomenon: {}</p>\n",
    "    </body>\n",
    "    '''.format(idx, sample['source'], sample['reference'], sample['good-translation'], sample['incorrect-translation'], sample['phenomena'])\n",
    "    display(HTML(html))\n",
    "    \n",
    "def display_annotation_old(idx, sample):\n",
    "    print(\"\\nID: \", idx)\n",
    "    print(\"Source sentence: \", sample['source'])\n",
    "    print(\"Reference: \", sample['reference'])\n",
    "    print(\"Good Translation: \", sample['good-translation'])\n",
    "    print(\"Incorrect Translation: \", sample['incorrect-translation'])\n",
    "    print('Suggested annotation:')\n",
    "    print(annotations[idx]['annotation'], '\\n')\n",
    "    \n",
    "# the UI (?) part of the annotation in general (ask if they want to accept the annotation, call manual_annotation if no)\n",
    "def manual_annotation_io(idx):\n",
    "    sample = samples[idx]\n",
    "    if idx in annotations:\n",
    "        change = annotations[idx]['annotation']   # now it's normalized annotation.\n",
    "        if automatic_accept and len(change) == 1 and len(change[0][\"in_good\"]['token_index']) == len(change[0][\"in_bad\"]['token_index']):\n",
    "            return 0\n",
    "    if phenomena[sample[\"phenomena\"]] in ['?', 'mixed_flexible']:\n",
    "        print(\"-----> For this sample we can compare the Incorrect translation with either Reference or Good translation.\")\n",
    "    elif phenomena[sample[\"phenomena\"]] in ['REF_flexible']:\n",
    "        print(\"-----> For this sample we compare the Incorrect translation with the Reference.\")\n",
    "    else:\n",
    "        print(\"-----> For this sample we compare the Incorrect translation with the Good translation.\\n\")\n",
    "    if idx in annotations:\n",
    "        display_annotation(idx, sample)\n",
    "        inp = input('To accept the suggested annotation click on enter. To skip this one enter skip. To exit enter exit and enter anything else to manually annotate:')\n",
    "        if inp == \"skip\":\n",
    "            annotations.pop(idx)\n",
    "            return 1  # this means, we are skipping, so should delete this annotation and then continue with the next.\n",
    "        if inp == \"exit\":\n",
    "            # do not add the annotation if you stop at this point\n",
    "            annotations.pop(idx)\n",
    "            return -1\n",
    "        res = manual_annotation(idx, inp)\n",
    "        if res == -1:\n",
    "            # do not add the annotation if you stop at this point\n",
    "            annotations.pop(idx)\n",
    "            return -1\n",
    "        if res == 1:\n",
    "            # skipping\n",
    "            annotations.pop(idx)\n",
    "            return 1\n",
    "    else:\n",
    "        display_sample(idx, sample)\n",
    "        print(\"No automatic translations for this sample.\")\n",
    "        res = manual_annotation(idx)\n",
    "        if res == -1:\n",
    "            return -1\n",
    "\n",
    "# the UI (?) part of the manual annotation\n",
    "def manual_annotation(idx, inp=\".\"):\n",
    "    while inp != \"\":\n",
    "        sample = samples[idx]\n",
    "        inp = input(\"Enter the incorrect translation with the < and > to show the error spans (exit to stop, skip to skip): \\n\")\n",
    "        bad = inp\n",
    "        if bad == \"exit\":\n",
    "            return -1\n",
    "        if bad == \"skip\":\n",
    "            return 1\n",
    "        inp = input(\"Enter the correct/reference translation with the < and > to show the error spans (exit to stop, skip to skip): \\n\")\n",
    "        good = inp\n",
    "        if good == \"exit\":\n",
    "            return -1\n",
    "        if good == \"skip\":\n",
    "            return 1\n",
    "        \n",
    "        change = calculate_change(good, bad, sample)\n",
    "        tmp = copy.deepcopy(sample)\n",
    "        tmp[\"annotation\"] = change\n",
    "        display_annotation(idx, tmp)\n",
    "        inp = input(\"\\n To accept it press enter or to annotate again enter any other string: \")\n",
    "        if inp == \"\":\n",
    "            sample['annotation'] = change\n",
    "            sample['method'] = \"manual annotation\"\n",
    "            annotations[idx] = sample\n",
    "    return annotations[idx]\n",
    "\n",
    "# given a manually annotated sample (where there are <> in incorrect and good/reference sentences)\n",
    "# calculate the character spans in the original sentences and return the change in our annotation format\n",
    "def calculate_change(good, bad, sample):  \n",
    "    bad_id = 0\n",
    "    span = False # False is when we are not inside a span, True is inside a span\n",
    "    change = []\n",
    "    for i, c in enumerate(bad):\n",
    "        if c == \"<\":\n",
    "            if span:\n",
    "                logger.error(\"< not closed. Try again.\\n\")\n",
    "                return manual_annotation(\".\", sample)\n",
    "            else:\n",
    "                start = bad_id\n",
    "                start_annotate = i\n",
    "                bad_id -= 1\n",
    "                span = True\n",
    "        elif c == \">\":\n",
    "            if not span:\n",
    "                logger.error(\"No opening < Try again.\\n\")\n",
    "                return manual_annotation(\".\", sample)\n",
    "            else:\n",
    "                change.append({\"in_good\":None, \n",
    "                    \"in_bad\":{'token_index':None, \n",
    "                    'character_span':(start,bad_id), \n",
    "                               'token':bad[start_annotate+1:i]}})\n",
    "                bad_id -= 1\n",
    "                span = False\n",
    "        bad_id += 1\n",
    "    good_id = 0\n",
    "    span = False # False is when we are not inside a span, True is inside a span\n",
    "    for i, c in enumerate(good):\n",
    "        if c == \"<\":\n",
    "            if span:\n",
    "                logger.error(\"< not closed. Try again.\\n\")\n",
    "                return manual_annotation(\".\", sample)\n",
    "            else:\n",
    "                start = good_id\n",
    "                start_annotate = i\n",
    "                good_id -= 1\n",
    "                span = True\n",
    "        elif c == \">\":\n",
    "            if not span:\n",
    "                logger.error(\"No opening < Try again.\\n\")\n",
    "                return manual_annotation(\".\", sample)\n",
    "            else:\n",
    "                change.append({\"in_good\":{'token_index':None, \n",
    "                    'character_span':(start,good_id), \n",
    "                               'token':good[start_annotate+1:i]}, \n",
    "                    \"in_bad\":None})\n",
    "                good_id -= 1\n",
    "                span = False\n",
    "        good_id += 1\n",
    "    return change\n",
    "\n",
    "# process given sample, annotate or do manual annotation (only in the annotations.ipynb, in process_dataset.py only automatic annotation)\n",
    "def process_sample(idx, sample, manual=False, detokenize=False):\n",
    "    if phenomena[sample[\"phenomena\"]] == 'mixed_flexible':\n",
    "        good_og = ref_or_good(sample[\"reference\"], sample[\"good-translation\"], sample[\"incorrect-translation\"])\n",
    "    elif phenomena[sample[\"phenomena\"]] == 'REF_flexible':\n",
    "        good_og = sample[\"reference\"]\n",
    "    else:\n",
    "        good_og = sample[\"good-translation\"]\n",
    "    bad_og = sample[\"incorrect-translation\"]\n",
    "    # if detokenize we just annotate the detokenized sentences, then map the character span back to the original sentence\n",
    "    # in the standardize_annotation function in annotation_utilities.py\n",
    "    if detokenize:\n",
    "        try:\n",
    "            good, good_map = detokenize_text(good_og, lang=sample[\"langpair\"].split('-')[1])\n",
    "            bad, bad_map = detokenize_text(bad_og, lang=sample[\"langpair\"].split('-')[1])\n",
    "            maps = (good_map, bad_map)\n",
    "        except:\n",
    "            good, bad = good_og, bad_og\n",
    "            maps = None\n",
    "    else:\n",
    "        good, bad = good_og, bad_og\n",
    "        maps = None # the standardize_annotation function will understand that it does not need to revert detokenization \n",
    "        # if maps parameter is None.\n",
    "    originals = (good_og, bad_og)\n",
    "    \n",
    "    if phenomena[sample[\"phenomena\"]] == 'add-omit':\n",
    "        try:\n",
    "            change = diff_char_level(good, bad)\n",
    "            if len(change) == 0:\n",
    "                logger.warning('No change in id {}'.format(idx))\n",
    "            else:\n",
    "                change = standardize_annotation(change, good, bad, maps, originals)\n",
    "            sample['annotation'] = change\n",
    "            sample['method'] = phenomena[sample[\"phenomena\"]]\n",
    "            annotations[idx] = sample\n",
    "        except:\n",
    "            logger.warning('error in char level annotate, id {}'.format(idx))\n",
    "\n",
    "    elif phenomena[sample[\"phenomena\"]] == 'annotate_word':\n",
    "        try:\n",
    "            change = annotate_word(good, bad)\n",
    "            if len(change) == 0:\n",
    "                logger.warning('No change in id {}'.format(idx))\n",
    "            else:\n",
    "                change = standardize_annotation(change, good, bad, maps, originals)\n",
    "            sample['annotation'] = change\n",
    "            sample['method'] = phenomena[sample[\"phenomena\"]]\n",
    "            annotations[idx] = sample\n",
    "        except:\n",
    "            logger.warning('error in word level annotate, id {}'.format(idx))\n",
    "\n",
    "    elif phenomena[sample[\"phenomena\"]] in ['diff_flexible', 'REF_flexible', 'mixed_flexible']:\n",
    "        g, g_spans = tokenize(good)\n",
    "        b, b_spans = tokenize(bad)\n",
    "\n",
    "        # special treatment to japanese chinese and thailandish because they don't use spaces, so can't be split            \n",
    "        if sample['langpair'][-2:] not in ['ja', 'zh', 'th']:      \n",
    "            if len(g) == len(b):   # if there are multiple one word replacements\n",
    "                change = diff(g, g_spans, b, b_spans, phenomena=\"replacement\")\n",
    "            if len(g) != len(b) or len(change) == 0:\n",
    "                try:\n",
    "                    change = diff_flexible(good, g, g_spans, bad, b, b_spans)\n",
    "                    if len(change) == 0 and good != bad:\n",
    "                        change = diff_char_level(good, bad) \n",
    "                except:\n",
    "                    logger.warning('error in id {}'.format(idx))\n",
    "            if len(change) == 0:\n",
    "                logger.warning('No change in id {}'.format(idx,g,b,change))\n",
    "            elif len(change) != 0 and ((change[0]['in_good'] != None and len(change[0]['in_good']['token']) > 50) or (change[0]['in_bad'] != None and len(change[0]['in_bad']['token']) > 50)):\n",
    "                logger.warning('check this - too long: %s' %idx)\n",
    "            else:\n",
    "                change = standardize_annotation(change, good, bad, maps, originals)\n",
    "            sample['annotation'] = change\n",
    "            sample['method'] = phenomena[sample[\"phenomena\"]]\n",
    "            annotations[idx] = sample  \n",
    "        else:\n",
    "            try:\n",
    "                change = diff_char_level(good, bad) \n",
    "                if len(change) == 0 and good != bad:\n",
    "                    logger.warning('No change in id {}'.format(idx,g,b,change))\n",
    "                elif len(change) != 0 and ((change[0]['in_good'] != None and len(change[0]['in_good']['token']) > 30) or (change[0]['in_bad'] != None and len(change[0]['in_bad']['token']) > 30)):\n",
    "                    logger.warning('check this - too long: %s' %idx)\n",
    "                else:\n",
    "                    change = standardize_annotation(change, good, bad, maps, originals)\n",
    "                sample['annotation'] = change\n",
    "                sample['method'] = phenomena[sample[\"phenomena\"]]\n",
    "                annotations[idx] = sample\n",
    "            except: \n",
    "                logger.warning('error in id {}'.format(idx))\n",
    "\n",
    "    elif phenomena[sample[\"phenomena\"]] == 'units':\n",
    "        try:\n",
    "            g, b, change = annotate_units(good,bad)\n",
    "            if len(change) == 0 and g != b:\n",
    "                logger.warning('No change in id {}, \\ng: {}, \\nb: {},\\nr: {}'.format(idx, g, b))\n",
    "            elif len(change) > 1:\n",
    "                logger.warning('Multiple changes in {} id {}'.format(sample[\"phenomena\"], idx))\n",
    "            else:\n",
    "                change = standardize_annotation(change, good, bad, maps, originals)\n",
    "            sample['annotation'] = change\n",
    "            sample['method'] = phenomena[sample[\"phenomena\"]]\n",
    "            annotations[idx] = sample  \n",
    "        except: \n",
    "            logger.warning('error in id {}'.format(idx))\n",
    "\n",
    "    elif phenomena[sample[\"phenomena\"]] == 'swap':\n",
    "        try:\n",
    "            change = annotate_swap_word_lvl(good,bad)\n",
    "            if len(change) < 2 and good != bad:\n",
    "                logger.warning('No change in id {}, \\ng: {}, \\nb: {}'.format(idx, good, bad))\n",
    "            elif change[0]['in_good'] != None and change[1]['in_good'] != None and change[0]['in_good'] == change[1]['in_good']:\n",
    "                logger.warning('check this: %s - swapped words are the same!' %idx)\n",
    "            elif (change[0]['in_good'] != None and len(change[0]['in_good']['token']) > 50) or (change[0]['in_bad'] != None and len(change[0]['in_bad']['token']) > 50):\n",
    "                logger.warning('check this: %s' %idx)\n",
    "            else:\n",
    "                change = standardize_annotation(change, good, bad, maps, originals)\n",
    "            sample['annotation'] = change\n",
    "            sample['method'] = phenomena[sample[\"phenomena\"]]\n",
    "            annotations[idx] = sample\n",
    "        except: \n",
    "            logger.warning('error in id {}'.format(idx))\n",
    "\n",
    "    elif phenomena[sample[\"phenomena\"]] == 'date':\n",
    "        try:\n",
    "            change = diff_dates(good,bad)\n",
    "            change = standardize_annotation(change, good, bad, maps, originals)\n",
    "            sample['annotation'] = change\n",
    "            sample['method'] = phenomena[sample[\"phenomena\"]]\n",
    "            annotations[idx] = sample\n",
    "        except: \n",
    "            logger.warning('error in id {}'.format(idx))\n",
    "    elif phenomena[sample['phenomena']] == 'whole_sentence':\n",
    "        change = whole_sentence(good, bad)\n",
    "        change = standardize_annotation(change, good, bad, maps, originals)\n",
    "        sample['annotation'] = change\n",
    "        sample['method'] = phenomena[sample[\"phenomena\"]]\n",
    "        annotations[idx] = sample\n",
    "    if manual:\n",
    "        # if the function returns 0 it automatically accepted, if 1 skipping and if -1 exit\n",
    "        res = manual_annotation_io(idx)\n",
    "        if res == 1:  # SKIPPING\n",
    "            return 1 \n",
    "        # if exit, first save a new annotations file to save progress and then exit\n",
    "        if res == -1:\n",
    "            with open(checkpoint, \"w+\") as f:\n",
    "                json.dump(annotations, f, indent=2, ensure_ascii=False)  # encode dict into JSON\n",
    "            return -1\n",
    "    return 1  # 1 for success\n",
    "        \n",
    "def process_phenomena(samples, manual=False, detokenize=False):\n",
    "    for idx,sample in tqdm(samples.items()):\n",
    "        if idx not in annotations.keys() and int(idx) not in annotations.keys():            \n",
    "            # check if it was annotated before\n",
    "            res = check_seen_before(sample, annotations)\n",
    "            if res != None:\n",
    "                sample['annotation'] = res[0]\n",
    "                sample['method'] = res[1]\n",
    "                annotations[int(idx)] = sample\n",
    "            else:\n",
    "                try:\n",
    "                    res = process_sample(idx, sample, manual, detokenize)\n",
    "                except:\n",
    "                    logger.error(idx)\n",
    "                if res == -1:\n",
    "                    return -1\n",
    "    # save all annotations after finished\n",
    "    with open(checkpoint, \"w+\") as f:\n",
    "        json.dump(annotations, f, indent=2, ensure_ascii=False)  # encode dict into JSON\n"
   ]
  },
  {
   "cell_type": "code",
   "execution_count": 3,
   "id": "80f02d01",
   "metadata": {},
   "outputs": [],
   "source": [
    "# run this cell to start from the beginning - not from a checkpoint (you will lose the prev checkpoint tho)\n",
    "annotations = dict()"
   ]
  },
  {
   "cell_type": "code",
   "execution_count": 4,
   "id": "8c1d437a",
   "metadata": {
    "scrolled": true
   },
   "outputs": [
    {
     "name": "stderr",
     "output_type": "stream",
     "text": [
      "  0%|                                                                                                                      | 0/100 [00:00<?, ?it/s]WARNING:logger:check this: 19572\n"
     ]
    },
    {
     "name": "stdout",
     "output_type": "stream",
     "text": [
      "-----> For this sample we compare the Incorrect translation with the Good translation.\n",
      "\n"
     ]
    },
    {
     "data": {
      "text/html": [
       "\n",
       "    <style>\n",
       "    mark {\n",
       "        background-color: #4CAF50;\n",
       "        color: black;\n",
       "      }\n",
       "    </style>\n",
       "    <body>\n",
       "    <h3>19572</h3>\n",
       "    <p>Source: Ottawa is Canada's charming, bilingual capital and features an array of art galleries and museums that showcase Canada's past and present.</p>\n",
       "    <p>Reference: Ottawa ist Kanadas bezaubernde, zweisprachige Hauptstadt und zeichnet sich durch eine Reihe von Kunstgalerien und Museen aus, die Kanadas Vergangenheit und Gegenwart präsentieren.</p>\n",
       "    <p>Good translation: Ottawa ist Kanadas charmante, zweisprachige Hauptstadt und bietet eine Reihe von Kunstgalerien und Museen, die Kanadas Vergangenheit und Gegenwart zeigen.</p>\n",
       "    <p>Incorrect: Ottawa ist Kanadas charmante <mark>Hauptst<mark>adt und bietet eine Reihe von zweisp</mark>rachigen</mark> Kunstgalerien und Museen, die Kanadas Vergangenheit und Gegenwart zeigen.</p>\n",
       "    <p>Phenomenon: ordering-mismatch</p>\n",
       "    </body>\n",
       "    "
      ],
      "text/plain": [
       "<IPython.core.display.HTML object>"
      ]
     },
     "metadata": {},
     "output_type": "display_data"
    },
    {
     "name": "stdout",
     "output_type": "stream",
     "text": [
      "To accept the suggested annotation click on enter. To skip this one enter skip. To exit enter exit and enter anything else to manually annotate:\n"
     ]
    },
    {
     "name": "stderr",
     "output_type": "stream",
     "text": [
      "  1%|█                                                                                                             | 1/100 [00:29<48:40, 29.50s/it]WARNING:logger:check this: 25385\n"
     ]
    },
    {
     "name": "stdout",
     "output_type": "stream",
     "text": [
      "-----> For this sample we compare the Incorrect translation with the Good translation.\n",
      "\n"
     ]
    },
    {
     "data": {
      "text/html": [
       "\n",
       "    <style>\n",
       "    mark {\n",
       "        background-color: #4CAF50;\n",
       "        color: black;\n",
       "      }\n",
       "    </style>\n",
       "    <body>\n",
       "    <h3>25385</h3>\n",
       "    <p>Source: Le pont devrait être pleinement opérationnel en septembre 2017, date à laquelle devraient être achevés les postes de contrôle des douanes brésiliennes.</p>\n",
       "    <p>Reference: Die Brücke soll im September 2017 vollständig den Betrieb aufnehmen. Es wird erwartet, dass die brasilianischen Zollkontrollpunkte dann fertig gestellt sein werden.</p>\n",
       "    <p>Good translation: Die Brücke wird voraussichtlich im September 2017 voll funktionsfähig sein, als die brasilianischen Zollkontrollstellen fertiggestellt werden sollen.</p>\n",
       "    <p>Incorrect: Die brasilianisch<mark>e <mark>Brücke wird voraussichtlich im September 2017 voll funktionsfähig sein, als die</mark></mark> Zollkontrollstellen fertiggestellt werden sollen.</p>\n",
       "    <p>Phenomenon: ordering-mismatch</p>\n",
       "    </body>\n",
       "    "
      ],
      "text/plain": [
       "<IPython.core.display.HTML object>"
      ]
     },
     "metadata": {},
     "output_type": "display_data"
    },
    {
     "name": "stdout",
     "output_type": "stream",
     "text": [
      "To accept the suggested annotation click on enter. To skip this one enter skip. To exit enter exit and enter anything else to manually annotate:\n"
     ]
    },
    {
     "name": "stderr",
     "output_type": "stream",
     "text": [
      "  2%|██▏                                                                                                           | 2/100 [00:36<26:38, 16.32s/it]WARNING:logger:check this - too long: 24607\n"
     ]
    },
    {
     "name": "stdout",
     "output_type": "stream",
     "text": [
      "-----> For this sample we compare the Incorrect translation with the Good translation.\n",
      "\n"
     ]
    },
    {
     "data": {
      "text/html": [
       "\n",
       "    <style>\n",
       "    mark {\n",
       "        background-color: #4CAF50;\n",
       "        color: black;\n",
       "      }\n",
       "    </style>\n",
       "    <body>\n",
       "    <h3>24607</h3>\n",
       "    <p>Source: The Republican National Convention in Houston was in August.</p>\n",
       "    <p>Reference: Die republikanische Nationalversammlung in Houston fand im August statt.</p>\n",
       "    <p>Good translation: Im Sommer fand die Republikanische Nationalversammlung in Houston statt.</p>\n",
       "    <p>Incorrect: Im <mark>Juli fand die Republikanische Nationalversammlung in</mark> statt.</p>\n",
       "    <p>Phenomenon: real-world-knowledge-hypernym-vs-distractor</p>\n",
       "    </body>\n",
       "    "
      ],
      "text/plain": [
       "<IPython.core.display.HTML object>"
      ]
     },
     "metadata": {},
     "output_type": "display_data"
    },
    {
     "name": "stdout",
     "output_type": "stream",
     "text": [
      "To accept the suggested annotation click on enter. To skip this one enter skip. To exit enter exit and enter anything else to manually annotate:\n"
     ]
    },
    {
     "name": "stderr",
     "output_type": "stream",
     "text": [
      "  3%|███▎                                                                                                          | 3/100 [00:41<18:01, 11.15s/it]WARNING:logger:check this - too long: 24612\n"
     ]
    },
    {
     "name": "stdout",
     "output_type": "stream",
     "text": [
      "-----> For this sample we compare the Incorrect translation with the Good translation.\n",
      "\n"
     ]
    },
    {
     "data": {
      "text/html": [
       "\n",
       "    <style>\n",
       "    mark {\n",
       "        background-color: #4CAF50;\n",
       "        color: black;\n",
       "      }\n",
       "    </style>\n",
       "    <body>\n",
       "    <h3>24612</h3>\n",
       "    <p>Source: There is a rash that comes along with some STIs.</p>\n",
       "    <p>Reference: Es gibt einen Ausschlag, der mit einigen Geschlechtskrankheiten einhergeht.</p>\n",
       "    <p>Good translation: Es gibt einen Ausschlag, der mit einigen Infektionen verbunden ist.</p>\n",
       "    <p>Incorrect: Es gibt einen <mark>Hautausschlag, der mit einigen Prionenerkrankungen in Verbindung gebracht wird</mark>.</p>\n",
       "    <p>Phenomenon: real-world-knowledge-hypernym-vs-distractor</p>\n",
       "    </body>\n",
       "    "
      ],
      "text/plain": [
       "<IPython.core.display.HTML object>"
      ]
     },
     "metadata": {},
     "output_type": "display_data"
    },
    {
     "name": "stdout",
     "output_type": "stream",
     "text": [
      "To accept the suggested annotation click on enter. To skip this one enter skip. To exit enter exit and enter anything else to manually annotate:\n"
     ]
    },
    {
     "name": "stderr",
     "output_type": "stream",
     "text": [
      "\r",
      "  4%|████▍                                                                                                         | 4/100 [00:42<11:04,  6.92s/it]"
     ]
    },
    {
     "name": "stdout",
     "output_type": "stream",
     "text": [
      "-----> For this sample we can compare the Incorrect translation with either Reference or Good translation.\n"
     ]
    },
    {
     "data": {
      "text/html": [
       "\n",
       "    <style>\n",
       "    mark {\n",
       "        background-color: #4CAF50;\n",
       "        color: black;\n",
       "      }\n",
       "    </style>\n",
       "    <body>\n",
       "    <h3>18901</h3>\n",
       "    <p>Source: James moved the wheel over the apple and crushed it because it is soft.</p>\n",
       "    <p>Reference: James bewegte das Rad über den Apfel und zerdrückte ihn, weil der Apfel weich ist.</p>\n",
       "    <p>Good translation: James bewegte das Rad über den Apfel und zerdrückte ihn, weil er weich ist.</p>\n",
       "    <p>Incorrect: James bewegte das Rad über den Apfel und zerdrückte ihn, weil <mark>das Rad</mark> weich ist.</p>\n",
       "    <p>Phenomenon: coreference-based-on-commonsense</p>\n",
       "    </body>\n",
       "    "
      ],
      "text/plain": [
       "<IPython.core.display.HTML object>"
      ]
     },
     "metadata": {},
     "output_type": "display_data"
    },
    {
     "name": "stdout",
     "output_type": "stream",
     "text": [
      "To accept the suggested annotation click on enter. To skip this one enter skip. To exit enter exit and enter anything else to manually annotate:\n"
     ]
    },
    {
     "name": "stderr",
     "output_type": "stream",
     "text": [
      "\r",
      "  5%|█████▌                                                                                                        | 5/100 [00:42<07:17,  4.60s/it]"
     ]
    },
    {
     "name": "stdout",
     "output_type": "stream",
     "text": [
      "-----> For this sample we can compare the Incorrect translation with either Reference or Good translation.\n"
     ]
    },
    {
     "data": {
      "text/html": [
       "\n",
       "    <style>\n",
       "    mark {\n",
       "        background-color: #4CAF50;\n",
       "        color: black;\n",
       "      }\n",
       "    </style>\n",
       "    <body>\n",
       "    <h3>18897</h3>\n",
       "    <p>Source: The woman moved her chair from the deck to the patio because it was shaded.</p>\n",
       "    <p>Reference: Die Frau schob ihren Stuhl vom Deck auf die Terrasse, weil die Terrasse beschattet war.</p>\n",
       "    <p>Good translation: Die Frau schob ihren Stuhl vom Deck auf die Terrasse, weil sie beschattet war.</p>\n",
       "    <p>Incorrect: Die Frau schob ihren Stuhl vom Deck auf die Terrasse, weil <mark>das Deck</mark> beschattet war.</p>\n",
       "    <p>Phenomenon: coreference-based-on-commonsense</p>\n",
       "    </body>\n",
       "    "
      ],
      "text/plain": [
       "<IPython.core.display.HTML object>"
      ]
     },
     "metadata": {},
     "output_type": "display_data"
    },
    {
     "name": "stdout",
     "output_type": "stream",
     "text": [
      "To accept the suggested annotation click on enter. To skip this one enter skip. To exit enter exit and enter anything else to manually annotate:\n"
     ]
    },
    {
     "name": "stderr",
     "output_type": "stream",
     "text": [
      "\r",
      "  6%|██████▌                                                                                                       | 6/100 [00:42<04:58,  3.18s/it]"
     ]
    },
    {
     "name": "stdout",
     "output_type": "stream",
     "text": [
      "-----> For this sample we can compare the Incorrect translation with either Reference or Good translation.\n"
     ]
    },
    {
     "data": {
      "text/html": [
       "\n",
       "    <style>\n",
       "    mark {\n",
       "        background-color: #4CAF50;\n",
       "        color: black;\n",
       "      }\n",
       "    </style>\n",
       "    <body>\n",
       "    <h3>1100</h3>\n",
       "    <p>Source: Susan made the decision of getting in an airplane instead of train to go to Miami because it travels fast.</p>\n",
       "    <p>Reference: Susan a pris la décision de monter dans un avion au lieu du train pour se rendre à Miami parce que l' avion voyage vite.</p>\n",
       "    <p>Good translation: Susan a pris la décision de monter dans un avion au lieu du train pour aller à Miami parce qu'il voyage rapidement.</p>\n",
       "    <p>Incorrect: Susan a pris la décision de monter dans un avion au lieu du train pour se rendre à Miami parce que <mark>le train</mark> voyage vite.</p>\n",
       "    <p>Phenomenon: coreference-based-on-commonsense</p>\n",
       "    </body>\n",
       "    "
      ],
      "text/plain": [
       "<IPython.core.display.HTML object>"
      ]
     },
     "metadata": {},
     "output_type": "display_data"
    },
    {
     "name": "stdout",
     "output_type": "stream",
     "text": [
      "To accept the suggested annotation click on enter. To skip this one enter skip. To exit enter exit and enter anything else to manually annotate:\n"
     ]
    },
    {
     "name": "stderr",
     "output_type": "stream",
     "text": [
      "\r",
      "  7%|███████▋                                                                                                      | 7/100 [00:43<03:33,  2.30s/it]"
     ]
    },
    {
     "name": "stdout",
     "output_type": "stream",
     "text": [
      "-----> For this sample we can compare the Incorrect translation with either Reference or Good translation.\n"
     ]
    },
    {
     "data": {
      "text/html": [
       "\n",
       "    <style>\n",
       "    mark {\n",
       "        background-color: #4CAF50;\n",
       "        color: black;\n",
       "      }\n",
       "    </style>\n",
       "    <body>\n",
       "    <h3>18827</h3>\n",
       "    <p>Source: The pair of movers were able to bring the bed inside the apartment and left the couch in the truck because it was too heavy.</p>\n",
       "    <p>Reference: Die beiden Umzugsunternehmen konnten das Bett in die Wohnung bringen und ließen die Couch im Lastwagen, weil sie zu schwer war.</p>\n",
       "    <p>Good translation: Die beiden Umzugsunternehmen konnten das Bett in die Wohnung bringen und ließen die Couch im Lastwagen, weil die Couch zu schwer war.</p>\n",
       "    <p>Incorrect: Die beiden Umzugsunternehmen konnten das Bett in die Wohnung bringen und ließen die Couch im Lastwagen, weil <mark>es</mark> zu schwer war.</p>\n",
       "    <p>Phenomenon: coreference-based-on-commonsense</p>\n",
       "    </body>\n",
       "    "
      ],
      "text/plain": [
       "<IPython.core.display.HTML object>"
      ]
     },
     "metadata": {},
     "output_type": "display_data"
    },
    {
     "name": "stdout",
     "output_type": "stream",
     "text": [
      "To accept the suggested annotation click on enter. To skip this one enter skip. To exit enter exit and enter anything else to manually annotate:\n"
     ]
    },
    {
     "name": "stderr",
     "output_type": "stream",
     "text": [
      "\r",
      "  8%|████████▊                                                                                                     | 8/100 [00:44<02:42,  1.77s/it]"
     ]
    },
    {
     "name": "stdout",
     "output_type": "stream",
     "text": [
      "-----> For this sample we can compare the Incorrect translation with either Reference or Good translation.\n"
     ]
    },
    {
     "data": {
      "text/html": [
       "\n",
       "    <style>\n",
       "    mark {\n",
       "        background-color: #4CAF50;\n",
       "        color: black;\n",
       "      }\n",
       "    </style>\n",
       "    <body>\n",
       "    <h3>1160</h3>\n",
       "    <p>Source: The giant hamburger was placed into the microwave on the counter because it was cold.</p>\n",
       "    <p>Reference: Le hamburger géant a été placé dans le micro-ondes sur le comptoir car le hamburger était froid.</p>\n",
       "    <p>Good translation: Le hamburger géant a été placé dans le micro-ondes sur le comptoir parce qu'il faisait froid.</p>\n",
       "    <p>Incorrect: Le hamburger géant a été placé dans le micro-ondes sur le comptoir car le <mark>micro-ondes</mark> était froid.</p>\n",
       "    <p>Phenomenon: coreference-based-on-commonsense</p>\n",
       "    </body>\n",
       "    "
      ],
      "text/plain": [
       "<IPython.core.display.HTML object>"
      ]
     },
     "metadata": {},
     "output_type": "display_data"
    },
    {
     "name": "stdout",
     "output_type": "stream",
     "text": [
      "To accept the suggested annotation click on enter. To skip this one enter skip. To exit enter exit and enter anything else to manually annotate:\n"
     ]
    },
    {
     "name": "stderr",
     "output_type": "stream",
     "text": [
      "\r",
      "  9%|█████████▉                                                                                                    | 9/100 [00:44<02:08,  1.41s/it]"
     ]
    },
    {
     "name": "stdout",
     "output_type": "stream",
     "text": [
      "-----> For this sample we compare the Incorrect translation with the Good translation.\n",
      "\n"
     ]
    },
    {
     "data": {
      "text/html": [
       "\n",
       "    <style>\n",
       "    mark {\n",
       "        background-color: #4CAF50;\n",
       "        color: black;\n",
       "      }\n",
       "    </style>\n",
       "    <body>\n",
       "    <h3>23006</h3>\n",
       "    <p>Source: LP: The amazing thing about this is this is, I mean, obviously, these are old games, but the system just sees what you see, the pixels, and it has the controls and it has the score, and it's learned to play all of these games, same program.</p>\n",
       "    <p>Reference: LP: Das Faszinierende ist: Das sind zwar offensichtlich alte Computerspiele, aber das System sieht, was du siehst: Pixel. Es hat die Steuerung und den Spielstand. Es hat gelernt, all diese Spiele zu spielen. Dasselbe Programm hat gelernt,</p>\n",
       "    <p>Good translation: LP: Das Erstaunliche daran ist, das ist, ich meine, offensichtlich, das sind alte Spiele, aber das System sieht nur, was Sie sehen, die Pixel, und es hat die Steuerung und es hat die Punktzahl, und es hat gelernt, alle diese Spiele zu spielen, dasselbe Programm.</p>\n",
       "    <p>Incorrect: LP: Das Erstaunliche daran ist, das ist, ich meine, offensichtlich, das sind alte Spiele, aber das System sieht nur, was Sie sehen, die Pixel, und es hat die Steuerung und hat die Punktzahl, und es hat gelernt, alle diese Spiele zu spielen, dasselbe Programm.</p>\n",
       "    <p>Phenomenon: anaphoric_intra_subject_it:deletion</p>\n",
       "    </body>\n",
       "    "
      ],
      "text/plain": [
       "<IPython.core.display.HTML object>"
      ]
     },
     "metadata": {},
     "output_type": "display_data"
    },
    {
     "name": "stdout",
     "output_type": "stream",
     "text": [
      "To accept the suggested annotation click on enter. To skip this one enter skip. To exit enter exit and enter anything else to manually annotate:\n"
     ]
    },
    {
     "name": "stderr",
     "output_type": "stream",
     "text": [
      "\r",
      " 10%|██████████▉                                                                                                  | 10/100 [00:45<01:41,  1.13s/it]"
     ]
    },
    {
     "name": "stdout",
     "output_type": "stream",
     "text": [
      "-----> For this sample we compare the Incorrect translation with the Good translation.\n",
      "\n"
     ]
    },
    {
     "data": {
      "text/html": [
       "\n",
       "    <style>\n",
       "    mark {\n",
       "        background-color: #4CAF50;\n",
       "        color: black;\n",
       "      }\n",
       "    </style>\n",
       "    <body>\n",
       "    <h3>22820</h3>\n",
       "    <p>Source: LP: The amazing thing about this is this is, I mean, obviously, these are old games, but the system just sees what you see, the pixels, and it has the controls and it has the score, and it's learned to play all of these games, same program.</p>\n",
       "    <p>Reference: LP: Das Faszinierende ist: Das sind zwar offensichtlich alte Computerspiele, aber das System sieht, was du siehst: Pixel. Es hat die Steuerung und den Spielstand. Es hat gelernt, all diese Spiele zu spielen. Dasselbe Programm hat gelernt,</p>\n",
       "    <p>Good translation: LP: das erstaunliche daran ist, das ist, ich meine, natürlich, das sind alte Spiele, aber das System sieht nur, was Sie sehen, die Pixel, und es hat die Kontrollen und es hat die Partitur, und es ist gelernt, alle diese Spiele, das gleiche Programm zu spielen.</p>\n",
       "    <p>Incorrect: LP: das erstaunliche daran ist, das ist, ich meine, natürlich, das sind alte Spiele, aber das System sieht nur, was Sie sehen, die Pixel, und hat die Kontrollen und es hat die Partitur, und es ist gelernt, alle diese Spiele, das gleiche Programm zu spielen.</p>\n",
       "    <p>Phenomenon: anaphoric_intra_subject_it:deletion</p>\n",
       "    </body>\n",
       "    "
      ],
      "text/plain": [
       "<IPython.core.display.HTML object>"
      ]
     },
     "metadata": {},
     "output_type": "display_data"
    },
    {
     "name": "stdout",
     "output_type": "stream",
     "text": [
      "To accept the suggested annotation click on enter. To skip this one enter skip. To exit enter exit and enter anything else to manually annotate:\n"
     ]
    },
    {
     "name": "stderr",
     "output_type": "stream",
     "text": [
      "\r",
      " 11%|███████████▉                                                                                                 | 11/100 [00:45<01:25,  1.04it/s]"
     ]
    },
    {
     "name": "stdout",
     "output_type": "stream",
     "text": [
      "-----> For this sample we compare the Incorrect translation with the Good translation.\n",
      "\n"
     ]
    },
    {
     "data": {
      "text/html": [
       "\n",
       "    <style>\n",
       "    mark {\n",
       "        background-color: #4CAF50;\n",
       "        color: black;\n",
       "      }\n",
       "    </style>\n",
       "    <body>\n",
       "    <h3>22022</h3>\n",
       "    <p>Source: LP: The amazing thing about this is this is, I mean, obviously, these are old games, but the system just sees what you see, the pixels, and it has the controls and it has the score, and it's learned to play all of these games, same program.</p>\n",
       "    <p>Reference: LP: Das Faszinierende ist: Das sind zwar offensichtlich alte Computerspiele, aber das System sieht, was du siehst: Pixel. Es hat die Steuerung und den Spielstand. Es hat gelernt, all diese Spiele zu spielen. Dasselbe Programm hat gelernt,</p>\n",
       "    <p>Good translation: LP: Das Erstaunliche daran ist das, ich meine natürlich, das sind alte Spiele, aber das System sieht nur, was man sieht, die Pixel, und es hat die Kontrollen und es hat die Partitur, und es ist gelernt, all diese Spiele zu spielen, gleiches Programm.</p>\n",
       "    <p>Incorrect: LP: Das Erstaunliche daran ist das, ich meine natürlich, das sind alte Spiele, aber das System sieht nur, was man sieht, die Pixel, und es hat die Kontrollen und hat die Partitur, und es ist gelernt, all diese Spiele zu spielen, gleiches Programm.</p>\n",
       "    <p>Phenomenon: anaphoric_intra_subject_it:deletion</p>\n",
       "    </body>\n",
       "    "
      ],
      "text/plain": [
       "<IPython.core.display.HTML object>"
      ]
     },
     "metadata": {},
     "output_type": "display_data"
    },
    {
     "name": "stdout",
     "output_type": "stream",
     "text": [
      "To accept the suggested annotation click on enter. To skip this one enter skip. To exit enter exit and enter anything else to manually annotate:\n"
     ]
    },
    {
     "name": "stderr",
     "output_type": "stream",
     "text": [
      "\r",
      " 12%|█████████████                                                                                                | 12/100 [00:46<01:11,  1.23it/s]"
     ]
    },
    {
     "name": "stdout",
     "output_type": "stream",
     "text": [
      "-----> For this sample we compare the Incorrect translation with the Good translation.\n",
      "\n"
     ]
    },
    {
     "data": {
      "text/html": [
       "\n",
       "    <style>\n",
       "    mark {\n",
       "        background-color: #4CAF50;\n",
       "        color: black;\n",
       "      }\n",
       "    </style>\n",
       "    <body>\n",
       "    <h3>22776</h3>\n",
       "    <p>Source: In fact, they've come down in recent years very dramatically indeed, to the point where the cost is now below 1,000 dollars, and it's confidently predicted that by the year 2015 it will be below 100 dollars -- a five or six order of magnitude drop in the cost of genomic mapping in just a 15-year period, an extraordinary phenomenon.</p>\n",
       "    <p>Reference: Genauer gesagt sind sie in den letzten Jahren sehr drastisch gesunken: Jetzt liegen die Kosten unter 1.000 US-Dollar und wir können vermuten, dass sie bis zum Jahr 2015 unter 100 Dollar liegen werden -- ein Fall um fünf oder sechs Größenordnungen bei den Kosten der genomischen Kartierung in einem Zeitraum von nur 15 Jahren -- ein außergewöhnliches Phänomen.</p>\n",
       "    <p>Good translation: In der Tat, Sie haben sich in den letzten Jahren sehr dramatisch in der Tat, bis zu dem Punkt, wo die Kosten jetzt unter 1.000 Dollar, und es ist zuversichtlich, dass bis zum Jahr 2015 wird es unter 100 Dollar-ein fünf oder sechs Größenordnung Rückgang der Kosten der genomischen Mapp nur 15 Jahre lang ein außergewöhnliches Phänomen.</p>\n",
       "    <p>Incorrect: In der Tat, Sie haben sich in den letzten Jahren sehr dramatisch in der Tat, bis zu dem Punkt, wo die Kosten jetzt unter 1.000 Dollar, und es ist zuversichtlich, dass bis zum Jahr 2015 wird unter 100 Dollar-ein fünf oder sechs Größenordnung Rückgang der Kosten der genomischen Mapp nur 15 Jahre lang ein außergewöhnliches Phänomen.</p>\n",
       "    <p>Phenomenon: anaphoric_intra_subject_it:deletion</p>\n",
       "    </body>\n",
       "    "
      ],
      "text/plain": [
       "<IPython.core.display.HTML object>"
      ]
     },
     "metadata": {},
     "output_type": "display_data"
    },
    {
     "name": "stdout",
     "output_type": "stream",
     "text": [
      "To accept the suggested annotation click on enter. To skip this one enter skip. To exit enter exit and enter anything else to manually annotate:\n"
     ]
    },
    {
     "name": "stderr",
     "output_type": "stream",
     "text": [
      "\r",
      " 13%|██████████████▏                                                                                              | 13/100 [00:46<01:02,  1.40it/s]"
     ]
    },
    {
     "name": "stdout",
     "output_type": "stream",
     "text": [
      "-----> For this sample we compare the Incorrect translation with the Good translation.\n",
      "\n"
     ]
    },
    {
     "data": {
      "text/html": [
       "\n",
       "    <style>\n",
       "    mark {\n",
       "        background-color: #4CAF50;\n",
       "        color: black;\n",
       "      }\n",
       "    </style>\n",
       "    <body>\n",
       "    <h3>23516</h3>\n",
       "    <p>Source: Or I would decide I should have lunch, and then I would think, but I'd have to get the food out and put it on a plate and cut it up and chew it and swallow it, and it felt to me like the Stations of the Cross.</p>\n",
       "    <p>Reference: Oder ich entschied zu Mittag zu essen, und dann dachte ich, dass ich dafür das Essen rausholen und es auf einen Teller tun muss, es schneiden und kauen und schlucken muss, und das fühlte sich für mich wie ein Kreuzweg an.</p>\n",
       "    <p>Good translation: Oder ich würde entscheiden, ich sollte zu Mittag essen, und dann würde ich denken, aber ich müsste das Essen rausholen und es auf einen Teller legen und es zerschneiden und kauen und schlucken, und es fühlte sich für mich wie die Stationen des Kreuzes.</p>\n",
       "    <p>Incorrect: Oder ich würde entscheiden, ich sollte zu Mittag essen, und dann würde ich denken, aber ich müsste das Essen rausholen und es auf einen Teller legen und zerschneiden und kauen und schlucken, und es fühlte sich für mich wie die Stationen des Kreuzes.</p>\n",
       "    <p>Phenomenon: anaphoric_intra_subject_it:deletion</p>\n",
       "    </body>\n",
       "    "
      ],
      "text/plain": [
       "<IPython.core.display.HTML object>"
      ]
     },
     "metadata": {},
     "output_type": "display_data"
    },
    {
     "name": "stdout",
     "output_type": "stream",
     "text": [
      "To accept the suggested annotation click on enter. To skip this one enter skip. To exit enter exit and enter anything else to manually annotate:\n"
     ]
    },
    {
     "name": "stderr",
     "output_type": "stream",
     "text": [
      "\r",
      " 14%|███████████████▎                                                                                             | 14/100 [00:47<00:55,  1.56it/s]"
     ]
    },
    {
     "name": "stdout",
     "output_type": "stream",
     "text": [
      "-----> For this sample we compare the Incorrect translation with the Good translation.\n",
      "\n"
     ]
    },
    {
     "data": {
      "text/html": [
       "\n",
       "    <style>\n",
       "    mark {\n",
       "        background-color: #4CAF50;\n",
       "        color: black;\n",
       "      }\n",
       "    </style>\n",
       "    <body>\n",
       "    <h3>5586</h3>\n",
       "    <p>Source: Il a été annoncé le 22 décembre 2011 et est sorti en février 2012.</p>\n",
       "    <p>Reference: It was announced on 22 December 2011 and was released in February 2012 .</p>\n",
       "    <p>Good translation: It was registered on 22 December 2011 and was released in February 2012 .</p>\n",
       "    <p>Incorrect: <mark>Il a été annoncé le 22 décembre 2011 et est sorti en février 2012.</mark></p>\n",
       "    <p>Phenomenon: copy-source</p>\n",
       "    </body>\n",
       "    "
      ],
      "text/plain": [
       "<IPython.core.display.HTML object>"
      ]
     },
     "metadata": {},
     "output_type": "display_data"
    },
    {
     "name": "stdout",
     "output_type": "stream",
     "text": [
      "To accept the suggested annotation click on enter. To skip this one enter skip. To exit enter exit and enter anything else to manually annotate:\n"
     ]
    },
    {
     "name": "stderr",
     "output_type": "stream",
     "text": [
      "\r",
      " 15%|████████████████▎                                                                                            | 15/100 [00:47<00:54,  1.55it/s]"
     ]
    },
    {
     "name": "stdout",
     "output_type": "stream",
     "text": [
      "-----> For this sample we compare the Incorrect translation with the Good translation.\n",
      "\n"
     ]
    },
    {
     "data": {
      "text/html": [
       "\n",
       "    <style>\n",
       "    mark {\n",
       "        background-color: #4CAF50;\n",
       "        color: black;\n",
       "      }\n",
       "    </style>\n",
       "    <body>\n",
       "    <h3>10648</h3>\n",
       "    <p>Source: I golf, i rugby powrócą na Igrzyska Olimpijskie.</p>\n",
       "    <p>Reference: गोल्फ आणि रग्बी दोन्ही ऑलिम्पिक गेम्समध्ये पुनरागमन करण्यासाठी तयार आहेत.</p>\n",
       "    <p>Good translation: गोल्फ आणि रग्बी दोघेही ओलंपिक खेळाडूमध्ये परत जाणार आहेत.</p>\n",
       "    <p>Incorrect: <mark>I golf, i rugby powrócą na Igrzyska Olimpijskie.</mark></p>\n",
       "    <p>Phenomenon: copy-source</p>\n",
       "    </body>\n",
       "    "
      ],
      "text/plain": [
       "<IPython.core.display.HTML object>"
      ]
     },
     "metadata": {},
     "output_type": "display_data"
    },
    {
     "name": "stdout",
     "output_type": "stream",
     "text": [
      "To accept the suggested annotation click on enter. To skip this one enter skip. To exit enter exit and enter anything else to manually annotate:\n"
     ]
    },
    {
     "name": "stderr",
     "output_type": "stream",
     "text": [
      "\r",
      " 16%|█████████████████▍                                                                                           | 16/100 [00:48<00:48,  1.73it/s]"
     ]
    },
    {
     "name": "stdout",
     "output_type": "stream",
     "text": [
      "-----> For this sample we compare the Incorrect translation with the Good translation.\n",
      "\n"
     ]
    },
    {
     "data": {
      "text/html": [
       "\n",
       "    <style>\n",
       "    mark {\n",
       "        background-color: #4CAF50;\n",
       "        color: black;\n",
       "      }\n",
       "    </style>\n",
       "    <body>\n",
       "    <h3>7055</h3>\n",
       "    <p>Source: Kimin pamuk tarlasında kimin yer paspasında çalışması gerektiği konusunda hem fikir olamadılar.</p>\n",
       "    <p>Reference: They couldn't agree who should work in the cotton field and who should mop the floors.</p>\n",
       "    <p>Good translation: They could not agree on who should work in the cotton field and who should work on the floor mat.</p>\n",
       "    <p>Incorrect: <mark>Kimin pamuk tarlasında kimin yer paspasında çalışması gerektiği konusunda hem fikir olamadılar.</mark></p>\n",
       "    <p>Phenomenon: copy-source</p>\n",
       "    </body>\n",
       "    "
      ],
      "text/plain": [
       "<IPython.core.display.HTML object>"
      ]
     },
     "metadata": {},
     "output_type": "display_data"
    },
    {
     "name": "stdout",
     "output_type": "stream",
     "text": [
      "To accept the suggested annotation click on enter. To skip this one enter skip. To exit enter exit and enter anything else to manually annotate:\n"
     ]
    },
    {
     "name": "stderr",
     "output_type": "stream",
     "text": [
      "\r",
      " 17%|██████████████████▌                                                                                          | 17/100 [00:48<00:47,  1.75it/s]"
     ]
    },
    {
     "name": "stdout",
     "output_type": "stream",
     "text": [
      "-----> For this sample we compare the Incorrect translation with the Good translation.\n",
      "\n"
     ]
    },
    {
     "data": {
      "text/html": [
       "\n",
       "    <style>\n",
       "    mark {\n",
       "        background-color: #4CAF50;\n",
       "        color: black;\n",
       "      }\n",
       "    </style>\n",
       "    <body>\n",
       "    <h3>10586</h3>\n",
       "    <p>Source: John Grant z WNED Buffalo (stacji nadającej program Reading Rainbow) powiedział: „Program Reading Rainbow uczył dzieci czytania… miłości do czytania – zachęcał je, by chwytać za książki i czytać”.</p>\n",
       "    <p>Reference: \"WNED बफेलो (इंद्रधनुष्याचे मुख्य स्टेशन वाचणे) मधील जॉन ग्रँट म्हणाले, \"\"इंद्रधनुष्य वाचन मुलांनी का वाचायचे ते शिकवले,... वाचनाची आवड - [कार्यक्रम] मुलांना पुस्तक निवडण्यास आणि वाचण्यास प्रोत्साहित केले.\"\"\"</p>\n",
       "    <p>Good translation: \"जॉन ग्रॅंट, WNED बफॅलो (Read Rainbow's home station) म्हणाले, \"\"Read Rainbow मुलांना वाचण्यासाठी कशाला शिकवतो... वाचण्याचा प्रेम - [शॉट] मुलांना पुस्तक काढण्यासाठी आणि वाचण्यासाठी प्रोत्साहित केले. \"\"\"</p>\n",
       "    <p>Incorrect: <mark>John Grant z WNED Buffalo (stacji nadającej program Reading Rainbow) powiedział: „Program Reading Rainbow uczył dzieci czytania… miłości do czytania – zachęcał je, by chwytać za książki i czytać”.</mark></p>\n",
       "    <p>Phenomenon: copy-source</p>\n",
       "    </body>\n",
       "    "
      ],
      "text/plain": [
       "<IPython.core.display.HTML object>"
      ]
     },
     "metadata": {},
     "output_type": "display_data"
    },
    {
     "name": "stdout",
     "output_type": "stream",
     "text": [
      "To accept the suggested annotation click on enter. To skip this one enter skip. To exit enter exit and enter anything else to manually annotate:\n"
     ]
    },
    {
     "name": "stderr",
     "output_type": "stream",
     "text": [
      "\r",
      " 18%|███████████████████▌                                                                                         | 18/100 [00:49<00:44,  1.86it/s]"
     ]
    },
    {
     "name": "stdout",
     "output_type": "stream",
     "text": [
      "-----> For this sample we compare the Incorrect translation with the Good translation.\n",
      "\n"
     ]
    },
    {
     "data": {
      "text/html": [
       "\n",
       "    <style>\n",
       "    mark {\n",
       "        background-color: #4CAF50;\n",
       "        color: black;\n",
       "      }\n",
       "    </style>\n",
       "    <body>\n",
       "    <h3>32558</h3>\n",
       "    <p>Source: Τα παιδιά ήπιαν λίγη σαμπάνια.</p>\n",
       "    <p>Reference: The kids drank some of the champagne.</p>\n",
       "    <p>Good translation: The children drank some champagne.</p>\n",
       "    <p>Incorrect: <mark>Τα παιδιά ήπιαν λίγη σαμπάνια.</mark></p>\n",
       "    <p>Phenomenon: copy-source</p>\n",
       "    </body>\n",
       "    "
      ],
      "text/plain": [
       "<IPython.core.display.HTML object>"
      ]
     },
     "metadata": {},
     "output_type": "display_data"
    },
    {
     "name": "stdout",
     "output_type": "stream",
     "text": [
      "To accept the suggested annotation click on enter. To skip this one enter skip. To exit enter exit and enter anything else to manually annotate:\n"
     ]
    },
    {
     "name": "stderr",
     "output_type": "stream",
     "text": [
      "\r",
      " 19%|████████████████████▋                                                                                        | 19/100 [00:51<01:30,  1.11s/it]"
     ]
    },
    {
     "name": "stdout",
     "output_type": "stream",
     "text": [
      "-----> For this sample we compare the Incorrect translation with the Good translation.\n",
      "\n"
     ]
    },
    {
     "data": {
      "text/html": [
       "\n",
       "    <style>\n",
       "    mark {\n",
       "        background-color: #4CAF50;\n",
       "        color: black;\n",
       "      }\n",
       "    </style>\n",
       "    <body>\n",
       "    <h3>6363</h3>\n",
       "    <p>Source: Il était le cousin du joueur national tchèque Jaroslav Hlinka et le fils de l'ancien joueur Miroslav Hlinka Sr.</p>\n",
       "    <p>Reference: He was the cousin of the Czech national player Jaroslav Hlinka and son of former player Miroslav Hlinka sr.</p>\n",
       "    <p>Good translation: He is the cousin of Jaroslav Hlinka, a Czech national athlete, and the son of Miroslav Hlinka Sr, a former athlete.</p>\n",
       "    <p>Incorrect: He was the cousin of the Czech national player Miroslav Hlinka and son of former player Jaroslav Hlinka sr.</p>\n",
       "    <p>Phenomenon: lexical-overlap</p>\n",
       "    </body>\n",
       "    "
      ],
      "text/plain": [
       "<IPython.core.display.HTML object>"
      ]
     },
     "metadata": {},
     "output_type": "display_data"
    },
    {
     "name": "stdout",
     "output_type": "stream",
     "text": [
      "No automatic translations for this sample.\n",
      "Enter the incorrect translation with the < and > to show the error spans (exit to stop, skip to skip): \n",
      "\n",
      "Enter the correct/reference translation with the < and > to show the error spans (exit to stop, skip to skip): \n",
      "\n"
     ]
    },
    {
     "data": {
      "text/html": [
       "\n",
       "    <style>\n",
       "    mark {\n",
       "        background-color: #4CAF50;\n",
       "        color: black;\n",
       "      }\n",
       "    </style>\n",
       "    <body>\n",
       "    <h3>6363</h3>\n",
       "    <p>Source: Il était le cousin du joueur national tchèque Jaroslav Hlinka et le fils de l'ancien joueur Miroslav Hlinka Sr.</p>\n",
       "    <p>Reference: He was the cousin of the Czech national player Jaroslav Hlinka and son of former player Miroslav Hlinka sr.</p>\n",
       "    <p>Good translation: He is the cousin of Jaroslav Hlinka, a Czech national athlete, and the son of Miroslav Hlinka Sr, a former athlete.</p>\n",
       "    <p>Incorrect: He was the cousin of the Czech national player Miroslav Hlinka and son of former player Jaroslav Hlinka sr.</p>\n",
       "    <p>Phenomenon: lexical-overlap</p>\n",
       "    </body>\n",
       "    "
      ],
      "text/plain": [
       "<IPython.core.display.HTML object>"
      ]
     },
     "metadata": {},
     "output_type": "display_data"
    },
    {
     "name": "stdout",
     "output_type": "stream",
     "text": [
      "\n",
      " To accept it press enter or to annotate again enter any other string: \n"
     ]
    },
    {
     "name": "stderr",
     "output_type": "stream",
     "text": [
      "\r",
      " 20%|█████████████████████▊                                                                                       | 20/100 [00:53<01:53,  1.42s/it]"
     ]
    },
    {
     "name": "stdout",
     "output_type": "stream",
     "text": [
      "-----> For this sample we compare the Incorrect translation with the Good translation.\n",
      "\n"
     ]
    },
    {
     "data": {
      "text/html": [
       "\n",
       "    <style>\n",
       "    mark {\n",
       "        background-color: #4CAF50;\n",
       "        color: black;\n",
       "      }\n",
       "    </style>\n",
       "    <body>\n",
       "    <h3>7647</h3>\n",
       "    <p>Source: Su hermano fue el autor Claudio Achillini, y su sobrino nieto, Giovanni Filoteo Achillini (1572-1640), fue abogado.</p>\n",
       "    <p>Reference: Son frère était l'auteur Claudio Achillini et son petit-neveu, Giovanni Filoteo Achillini (1572-1640), était avocat .</p>\n",
       "    <p>Good translation: Son frère était l'auteur Claudio Achillini, et son grand-nephew, Giovanni Filoteo Achillini ( 1572-1640 ), était un avocat.</p>\n",
       "    <p>Incorrect: Son frère était l'auteur Giovanni Filoteo Achillini et son petit-neveu, Claudio Achillini (1572-1640), était avocat.</p>\n",
       "    <p>Phenomenon: lexical-overlap</p>\n",
       "    </body>\n",
       "    "
      ],
      "text/plain": [
       "<IPython.core.display.HTML object>"
      ]
     },
     "metadata": {},
     "output_type": "display_data"
    },
    {
     "name": "stdout",
     "output_type": "stream",
     "text": [
      "No automatic translations for this sample.\n",
      "Enter the incorrect translation with the < and > to show the error spans (exit to stop, skip to skip): \n",
      "a\n",
      "Enter the correct/reference translation with the < and > to show the error spans (exit to stop, skip to skip): \n",
      "a\n"
     ]
    },
    {
     "data": {
      "text/html": [
       "\n",
       "    <style>\n",
       "    mark {\n",
       "        background-color: #4CAF50;\n",
       "        color: black;\n",
       "      }\n",
       "    </style>\n",
       "    <body>\n",
       "    <h3>7647</h3>\n",
       "    <p>Source: Su hermano fue el autor Claudio Achillini, y su sobrino nieto, Giovanni Filoteo Achillini (1572-1640), fue abogado.</p>\n",
       "    <p>Reference: Son frère était l'auteur Claudio Achillini et son petit-neveu, Giovanni Filoteo Achillini (1572-1640), était avocat .</p>\n",
       "    <p>Good translation: Son frère était l'auteur Claudio Achillini, et son grand-nephew, Giovanni Filoteo Achillini ( 1572-1640 ), était un avocat.</p>\n",
       "    <p>Incorrect: Son frère était l'auteur Giovanni Filoteo Achillini et son petit-neveu, Claudio Achillini (1572-1640), était avocat.</p>\n",
       "    <p>Phenomenon: lexical-overlap</p>\n",
       "    </body>\n",
       "    "
      ],
      "text/plain": [
       "<IPython.core.display.HTML object>"
      ]
     },
     "metadata": {},
     "output_type": "display_data"
    },
    {
     "name": "stdout",
     "output_type": "stream",
     "text": [
      "\n",
      " To accept it press enter or to annotate again enter any other string: \n"
     ]
    },
    {
     "name": "stderr",
     "output_type": "stream",
     "text": [
      "\r",
      " 21%|██████████████████████▉                                                                                      | 21/100 [01:16<10:22,  7.88s/it]"
     ]
    },
    {
     "name": "stdout",
     "output_type": "stream",
     "text": [
      "-----> For this sample we compare the Incorrect translation with the Good translation.\n",
      "\n"
     ]
    },
    {
     "data": {
      "text/html": [
       "\n",
       "    <style>\n",
       "    mark {\n",
       "        background-color: #4CAF50;\n",
       "        color: black;\n",
       "      }\n",
       "    </style>\n",
       "    <body>\n",
       "    <h3>32333</h3>\n",
       "    <p>Source: \"많은 사람들이 그들의 음악을 랩 메탈과 인더스트리얼 메탈에 영향을 많이 받은 얼터너티브 메탈로 여겼고 예전에 한 인터뷰에 따르면 자신을 \"\"머더-롹\"\"이라 자칭했습니다.\"</p>\n",
       "    <p>Reference: Their music is considered by many as an alternative metal with rap metal and industrial metal influences, which according to previous interviews call themselves ''murder - rock ``.</p>\n",
       "    <p>Good translation: Many view their music as an alternative metal affected by rap metals and industrial metals and, according to previous interviews, they call themselves “murder-rock”.</p>\n",
       "    <p>Incorrect: Their music is considered by many as industrial metal with rap metal and alternative metal influences. According to previous interviews, they consider themselves ``murder rock ''.</p>\n",
       "    <p>Phenomenon: lexical-overlap</p>\n",
       "    </body>\n",
       "    "
      ],
      "text/plain": [
       "<IPython.core.display.HTML object>"
      ]
     },
     "metadata": {},
     "output_type": "display_data"
    },
    {
     "name": "stdout",
     "output_type": "stream",
     "text": [
      "No automatic translations for this sample.\n",
      "Enter the incorrect translation with the < and > to show the error spans (exit to stop, skip to skip): \n",
      "a\n",
      "Enter the correct/reference translation with the < and > to show the error spans (exit to stop, skip to skip): \n",
      "a\n"
     ]
    },
    {
     "data": {
      "text/html": [
       "\n",
       "    <style>\n",
       "    mark {\n",
       "        background-color: #4CAF50;\n",
       "        color: black;\n",
       "      }\n",
       "    </style>\n",
       "    <body>\n",
       "    <h3>32333</h3>\n",
       "    <p>Source: \"많은 사람들이 그들의 음악을 랩 메탈과 인더스트리얼 메탈에 영향을 많이 받은 얼터너티브 메탈로 여겼고 예전에 한 인터뷰에 따르면 자신을 \"\"머더-롹\"\"이라 자칭했습니다.\"</p>\n",
       "    <p>Reference: Their music is considered by many as an alternative metal with rap metal and industrial metal influences, which according to previous interviews call themselves ''murder - rock ``.</p>\n",
       "    <p>Good translation: Many view their music as an alternative metal affected by rap metals and industrial metals and, according to previous interviews, they call themselves “murder-rock”.</p>\n",
       "    <p>Incorrect: Their music is considered by many as industrial metal with rap metal and alternative metal influences. According to previous interviews, they consider themselves ``murder rock ''.</p>\n",
       "    <p>Phenomenon: lexical-overlap</p>\n",
       "    </body>\n",
       "    "
      ],
      "text/plain": [
       "<IPython.core.display.HTML object>"
      ]
     },
     "metadata": {},
     "output_type": "display_data"
    },
    {
     "name": "stdout",
     "output_type": "stream",
     "text": [
      "\n",
      " To accept it press enter or to annotate again enter any other string: \n"
     ]
    },
    {
     "name": "stderr",
     "output_type": "stream",
     "text": [
      "\r",
      " 22%|███████████████████████▉                                                                                     | 22/100 [01:19<08:03,  6.20s/it]"
     ]
    },
    {
     "name": "stdout",
     "output_type": "stream",
     "text": [
      "-----> For this sample we compare the Incorrect translation with the Good translation.\n",
      "\n"
     ]
    },
    {
     "data": {
      "text/html": [
       "\n",
       "    <style>\n",
       "    mark {\n",
       "        background-color: #4CAF50;\n",
       "        color: black;\n",
       "      }\n",
       "    </style>\n",
       "    <body>\n",
       "    <h3>26606</h3>\n",
       "    <p>Source: 彼はミュージシャンのタル・バックマンの叔父であり、ライダー・バックマンの父親です。</p>\n",
       "    <p>Reference: Il est l'oncle du musicien Tal Bachman et père de Ryder Bachman.</p>\n",
       "    <p>Good translation: Il est l'oncle du musicien Tal Bachman et le père de Ryder Bachman.</p>\n",
       "    <p>Incorrect: Il est l'oncle du musicien Ryder Bachman et père de Tal Bachman.</p>\n",
       "    <p>Phenomenon: lexical-overlap</p>\n",
       "    </body>\n",
       "    "
      ],
      "text/plain": [
       "<IPython.core.display.HTML object>"
      ]
     },
     "metadata": {},
     "output_type": "display_data"
    },
    {
     "name": "stdout",
     "output_type": "stream",
     "text": [
      "No automatic translations for this sample.\n",
      "Enter the incorrect translation with the < and > to show the error spans (exit to stop, skip to skip): \n",
      "a\n",
      "Enter the correct/reference translation with the < and > to show the error spans (exit to stop, skip to skip): \n",
      "a\n"
     ]
    },
    {
     "data": {
      "text/html": [
       "\n",
       "    <style>\n",
       "    mark {\n",
       "        background-color: #4CAF50;\n",
       "        color: black;\n",
       "      }\n",
       "    </style>\n",
       "    <body>\n",
       "    <h3>26606</h3>\n",
       "    <p>Source: 彼はミュージシャンのタル・バックマンの叔父であり、ライダー・バックマンの父親です。</p>\n",
       "    <p>Reference: Il est l'oncle du musicien Tal Bachman et père de Ryder Bachman.</p>\n",
       "    <p>Good translation: Il est l'oncle du musicien Tal Bachman et le père de Ryder Bachman.</p>\n",
       "    <p>Incorrect: Il est l'oncle du musicien Ryder Bachman et père de Tal Bachman.</p>\n",
       "    <p>Phenomenon: lexical-overlap</p>\n",
       "    </body>\n",
       "    "
      ],
      "text/plain": [
       "<IPython.core.display.HTML object>"
      ]
     },
     "metadata": {},
     "output_type": "display_data"
    },
    {
     "name": "stdout",
     "output_type": "stream",
     "text": [
      "\n",
      " To accept it press enter or to annotate again enter any other string: \n"
     ]
    },
    {
     "name": "stderr",
     "output_type": "stream",
     "text": [
      "\r",
      " 23%|█████████████████████████                                                                                    | 23/100 [01:21<06:19,  4.93s/it]"
     ]
    },
    {
     "name": "stdout",
     "output_type": "stream",
     "text": [
      "-----> For this sample we compare the Incorrect translation with the Good translation.\n",
      "\n"
     ]
    },
    {
     "data": {
      "text/html": [
       "\n",
       "    <style>\n",
       "    mark {\n",
       "        background-color: #4CAF50;\n",
       "        color: black;\n",
       "      }\n",
       "    </style>\n",
       "    <body>\n",
       "    <h3>7629</h3>\n",
       "    <p>Source: Su padre murió durante su juventud, y su madre, Catherine A. Fagan, se casó con Samuel Adams en 1842, que luego se convirtió en gobernador de Arkansas dos años más tarde.</p>\n",
       "    <p>Reference: Son père est mort quand il était jeune et sa mère, Catherine A. Fagan, a épousé Samuel Adams en 1842, qui est ensuite devenu Gouverneur de l'Arkansas deux ans plus tard.</p>\n",
       "    <p>Good translation: Son père mourut pendant sa jeunesse, et sa mère, Catherine A. Fagan, épousa Samuel Adams en 1842, qui devint plus tard gouverneur d'Arkansas deux ans plus tard.</p>\n",
       "    <p>Incorrect: Son père est mort quand il était jeune et sa mère, Samuel Adams, a épousé Catherine A. Fagan en 1842, qui est devenue Gouverneure de l'Arkansas deux ans plus tard.</p>\n",
       "    <p>Phenomenon: lexical-overlap</p>\n",
       "    </body>\n",
       "    "
      ],
      "text/plain": [
       "<IPython.core.display.HTML object>"
      ]
     },
     "metadata": {},
     "output_type": "display_data"
    },
    {
     "name": "stdout",
     "output_type": "stream",
     "text": [
      "No automatic translations for this sample.\n",
      "Enter the incorrect translation with the < and > to show the error spans (exit to stop, skip to skip): \n",
      "a\n",
      "Enter the correct/reference translation with the < and > to show the error spans (exit to stop, skip to skip): \n",
      "a\n"
     ]
    },
    {
     "data": {
      "text/html": [
       "\n",
       "    <style>\n",
       "    mark {\n",
       "        background-color: #4CAF50;\n",
       "        color: black;\n",
       "      }\n",
       "    </style>\n",
       "    <body>\n",
       "    <h3>7629</h3>\n",
       "    <p>Source: Su padre murió durante su juventud, y su madre, Catherine A. Fagan, se casó con Samuel Adams en 1842, que luego se convirtió en gobernador de Arkansas dos años más tarde.</p>\n",
       "    <p>Reference: Son père est mort quand il était jeune et sa mère, Catherine A. Fagan, a épousé Samuel Adams en 1842, qui est ensuite devenu Gouverneur de l'Arkansas deux ans plus tard.</p>\n",
       "    <p>Good translation: Son père mourut pendant sa jeunesse, et sa mère, Catherine A. Fagan, épousa Samuel Adams en 1842, qui devint plus tard gouverneur d'Arkansas deux ans plus tard.</p>\n",
       "    <p>Incorrect: Son père est mort quand il était jeune et sa mère, Samuel Adams, a épousé Catherine A. Fagan en 1842, qui est devenue Gouverneure de l'Arkansas deux ans plus tard.</p>\n",
       "    <p>Phenomenon: lexical-overlap</p>\n",
       "    </body>\n",
       "    "
      ],
      "text/plain": [
       "<IPython.core.display.HTML object>"
      ]
     },
     "metadata": {},
     "output_type": "display_data"
    },
    {
     "name": "stdout",
     "output_type": "stream",
     "text": [
      "\n",
      " To accept it press enter or to annotate again enter any other string: \n"
     ]
    },
    {
     "name": "stderr",
     "output_type": "stream",
     "text": [
      "\r",
      " 24%|██████████████████████████▏                                                                                  | 24/100 [01:22<04:57,  3.92s/it]"
     ]
    },
    {
     "name": "stdout",
     "output_type": "stream",
     "text": [
      "-----> For this sample we compare the Incorrect translation with the Good translation.\n",
      "\n"
     ]
    },
    {
     "data": {
      "text/html": [
       "\n",
       "    <style>\n",
       "    mark {\n",
       "        background-color: #4CAF50;\n",
       "        color: black;\n",
       "      }\n",
       "    </style>\n",
       "    <body>\n",
       "    <h3>15381</h3>\n",
       "    <p>Source: Andere Wissenschaftler argumentieren, dass diese Pflanzen sehr giftig gewesen seien und daher wahrscheinlich kein Dinosaurier sie gefressen haben würde, obwohl heute das Faultier und andere Tiere, z. B. Papageien (die von den Dinosauriern abstammen), durchaus giftige Blätter und Früchte essen können.</p>\n",
       "    <p>Reference: Other scientists argue that these plants are very poisonous so it is unlikely that any dinosaur ate them, even though today the sloth and other animals like the parrot (a descendant of the dinosaurs) can eat poisonous leaves or fruit.</p>\n",
       "    <p>Good translation: Other scientists argue that these plants were very poisonous, and therefore probably no dinosaur would have eaten them, although today the sloth and other animals, such as parrot (which descended from the dinosaurs), can eat quite poisonous leaves and fruits.</p>\n",
       "    <p>Incorrect: Other scientists argue that these plants were very poisonous, and therefore probably no dinosaur would have eaten them, although today the <mark>lax</mark> and other animals, such as parrot (which descended from the dinosaurs), can eat quite poisonous leaves and fruits.</p>\n",
       "    <p>Phenomenon: hallucination-real-data-vs-ref-word</p>\n",
       "    </body>\n",
       "    "
      ],
      "text/plain": [
       "<IPython.core.display.HTML object>"
      ]
     },
     "metadata": {},
     "output_type": "display_data"
    },
    {
     "name": "stdout",
     "output_type": "stream",
     "text": [
      "To accept the suggested annotation click on enter. To skip this one enter skip. To exit enter exit and enter anything else to manually annotate:\n"
     ]
    },
    {
     "name": "stderr",
     "output_type": "stream",
     "text": [
      "\r",
      " 25%|███████████████████████████▎                                                                                 | 25/100 [01:24<04:09,  3.33s/it]"
     ]
    },
    {
     "name": "stdout",
     "output_type": "stream",
     "text": [
      "-----> For this sample we compare the Incorrect translation with the Good translation.\n",
      "\n"
     ]
    },
    {
     "data": {
      "text/html": [
       "\n",
       "    <style>\n",
       "    mark {\n",
       "        background-color: #4CAF50;\n",
       "        color: black;\n",
       "      }\n",
       "    </style>\n",
       "    <body>\n",
       "    <h3>25278</h3>\n",
       "    <p>Source: Les lions sont les chats les plus sociables, vivant en grands groupes appelés meutes.</p>\n",
       "    <p>Reference: Löwen sind die sozialsten Katzen. Sie leben in großen Gruppen, die Rudel genannt werden.</p>\n",
       "    <p>Good translation: Löwen sind die geselligsten Katzen, die in großen Gruppen, sogenannten Rudeln, leben.</p>\n",
       "    <p>Incorrect: Löwen sind die geselligsten Katzen, die in großen Gruppen, sogenannten <mark>Mütten</mark>, leben.</p>\n",
       "    <p>Phenomenon: hallucination-real-data-vs-ref-word</p>\n",
       "    </body>\n",
       "    "
      ],
      "text/plain": [
       "<IPython.core.display.HTML object>"
      ]
     },
     "metadata": {},
     "output_type": "display_data"
    },
    {
     "name": "stdout",
     "output_type": "stream",
     "text": [
      "To accept the suggested annotation click on enter. To skip this one enter skip. To exit enter exit and enter anything else to manually annotate:\n"
     ]
    },
    {
     "name": "stderr",
     "output_type": "stream",
     "text": [
      "\r",
      " 26%|████████████████████████████▎                                                                                | 26/100 [01:32<05:56,  4.82s/it]"
     ]
    },
    {
     "name": "stdout",
     "output_type": "stream",
     "text": [
      "-----> For this sample we compare the Incorrect translation with the Good translation.\n",
      "\n"
     ]
    },
    {
     "data": {
      "text/html": [
       "\n",
       "    <style>\n",
       "    mark {\n",
       "        background-color: #4CAF50;\n",
       "        color: black;\n",
       "      }\n",
       "    </style>\n",
       "    <body>\n",
       "    <h3>25225</h3>\n",
       "    <p>Source: La lame d'un patin à glace moderne est dotée de deux extrémités avec un creux concave situé entre les deux. Ces deux extrémités permettent une meilleure adhérence à la glace, même lorsqu'elles sont inclinées.</p>\n",
       "    <p>Reference: Die Kufe an einem modernen Schlittschuh hat eine Doppelkante mit einer konkaven Einbuchtung dazwischen. Die beiden Kanten ermöglichen einen besseren Halt auf dem Eis, selbst wenn sie gekippt werden.</p>\n",
       "    <p>Good translation: Das Blatt eines modernen Schlittschuh hat zwei Enden mit einem konkaven Loch zwischen den beiden. Diese beiden Enden ermöglichen eine bessere Haftung am Eis, auch wenn sie geneigt sind.</p>\n",
       "    <p>Incorrect: Das Blatt eines modernen <mark>Eisrades</mark> hat zwei Enden mit einem konkaven Loch zwischen den beiden. Diese beiden Enden ermöglichen eine bessere Haftung am Eis, auch wenn sie geneigt sind.</p>\n",
       "    <p>Phenomenon: hallucination-real-data-vs-ref-word</p>\n",
       "    </body>\n",
       "    "
      ],
      "text/plain": [
       "<IPython.core.display.HTML object>"
      ]
     },
     "metadata": {},
     "output_type": "display_data"
    },
    {
     "name": "stdout",
     "output_type": "stream",
     "text": [
      "To accept the suggested annotation click on enter. To skip this one enter skip. To exit enter exit and enter anything else to manually annotate:\n"
     ]
    },
    {
     "name": "stderr",
     "output_type": "stream",
     "text": [
      "\r",
      " 27%|█████████████████████████████▍                                                                               | 27/100 [01:33<04:15,  3.50s/it]"
     ]
    },
    {
     "name": "stdout",
     "output_type": "stream",
     "text": [
      "-----> For this sample we compare the Incorrect translation with the Good translation.\n",
      "\n"
     ]
    },
    {
     "data": {
      "text/html": [
       "\n",
       "    <style>\n",
       "    mark {\n",
       "        background-color: #4CAF50;\n",
       "        color: black;\n",
       "      }\n",
       "    </style>\n",
       "    <body>\n",
       "    <h3>25203</h3>\n",
       "    <p>Source: Commençons par expliquer la stratégie de l'Italie, « dauphin » principal de l'Allemagne et du Japon.</p>\n",
       "    <p>Reference: Beginnen wir mit einer Erläuterung der italienischen Pläne. Italien war in erster Linie der „kleine Bruder“ von Deutschland und Japan.</p>\n",
       "    <p>Good translation: \"\"\"Lassen Sie uns zunächst die Strategie von Italien erklären, dem wichtigsten \"\"kleine Bruder\"\" von Deutschland und Japan.\"\"\"</p>\n",
       "    <p>Incorrect: \"\"\"Lassen Sie uns zunächst die Strategie von Italien erklären, dem wichtigsten \"\"<mark>Dolphin</mark>\"\" von Deutschland und Japan.\"\"\"</p>\n",
       "    <p>Phenomenon: hallucination-real-data-vs-ref-word</p>\n",
       "    </body>\n",
       "    "
      ],
      "text/plain": [
       "<IPython.core.display.HTML object>"
      ]
     },
     "metadata": {},
     "output_type": "display_data"
    },
    {
     "name": "stdout",
     "output_type": "stream",
     "text": [
      "To accept the suggested annotation click on enter. To skip this one enter skip. To exit enter exit and enter anything else to manually annotate:\n"
     ]
    },
    {
     "name": "stderr",
     "output_type": "stream",
     "text": [
      "\r",
      " 28%|██████████████████████████████▌                                                                              | 28/100 [01:33<03:06,  2.59s/it]"
     ]
    },
    {
     "name": "stdout",
     "output_type": "stream",
     "text": [
      "-----> For this sample we compare the Incorrect translation with the Good translation.\n",
      "\n"
     ]
    },
    {
     "data": {
      "text/html": [
       "\n",
       "    <style>\n",
       "    mark {\n",
       "        background-color: #4CAF50;\n",
       "        color: black;\n",
       "      }\n",
       "    </style>\n",
       "    <body>\n",
       "    <h3>25275</h3>\n",
       "    <p>Source: Certains scientifiques pensent que le tricératops mangeait des cycadées, un type de plante qui était très courant pendant la période crétacée.</p>\n",
       "    <p>Reference: Manche Wissenschaftler denken, dass Triceratops Palmfarne fraß. Das ist eine Pflanzenart, die in der Kreidezeit verbreitet war.</p>\n",
       "    <p>Good translation: Einige Wissenschaftler glauben, dass der Triceratops Palmfarne aß, eine Art Pflanze, die während der Kreidezeit sehr häufig war.</p>\n",
       "    <p>Incorrect: Einige Wissenschaftler glauben, dass der Triceratops <mark>Cycades</mark> aß, eine Art Pflanze, die während der <mark>Kreta</mark> sehr häufig war.</p>\n",
       "    <p>Phenomenon: hallucination-real-data-vs-ref-word</p>\n",
       "    </body>\n",
       "    "
      ],
      "text/plain": [
       "<IPython.core.display.HTML object>"
      ]
     },
     "metadata": {},
     "output_type": "display_data"
    },
    {
     "name": "stdout",
     "output_type": "stream",
     "text": [
      "To accept the suggested annotation click on enter. To skip this one enter skip. To exit enter exit and enter anything else to manually annotate:\n"
     ]
    },
    {
     "name": "stderr",
     "output_type": "stream",
     "text": [
      "\r",
      " 29%|███████████████████████████████▌                                                                             | 29/100 [01:34<02:18,  1.95s/it]"
     ]
    },
    {
     "name": "stdout",
     "output_type": "stream",
     "text": [
      "-----> For this sample we compare the Incorrect translation with the Good translation.\n",
      "\n"
     ]
    },
    {
     "data": {
      "text/html": [
       "\n",
       "    <style>\n",
       "    mark {\n",
       "        background-color: #4CAF50;\n",
       "        color: black;\n",
       "      }\n",
       "    </style>\n",
       "    <body>\n",
       "    <h3>25228</h3>\n",
       "    <p>Source: Plusieurs endroits à Rotorua offrent des hangis géothermiques, tandis que d’autres hangis peuvent être échantillonnés à Christchurch, Wellington et ailleurs.</p>\n",
       "    <p>Reference: Mehrere Orte in Rotorua bieten geothermales Hangi an, während anderes Hangi in Christchurch, Wellington und anderswo gekostet werden kann.</p>\n",
       "    <p>Good translation: Mehrere Standorte in Rotorua bieten geothermische Hangi, während andere Hangi in Christchurch, Wellington und anderswo getestet werden können.</p>\n",
       "    <p>Incorrect: Mehrere Standorte in Rotorua bieten geothermische <mark>Hängematten</mark>, während andere <mark>Hängematten</mark> in Christchurch, Wellington und anderswo getestet werden können.</p>\n",
       "    <p>Phenomenon: hallucination-real-data-vs-ref-word</p>\n",
       "    </body>\n",
       "    "
      ],
      "text/plain": [
       "<IPython.core.display.HTML object>"
      ]
     },
     "metadata": {},
     "output_type": "display_data"
    },
    {
     "name": "stdout",
     "output_type": "stream",
     "text": [
      "To accept the suggested annotation click on enter. To skip this one enter skip. To exit enter exit and enter anything else to manually annotate:\n"
     ]
    },
    {
     "name": "stderr",
     "output_type": "stream",
     "text": [
      "\r",
      " 30%|████████████████████████████████▋                                                                            | 30/100 [01:34<01:43,  1.48s/it]"
     ]
    },
    {
     "name": "stdout",
     "output_type": "stream",
     "text": [
      "-----> For this sample we compare the Incorrect translation with the Good translation.\n",
      "\n"
     ]
    },
    {
     "data": {
      "text/html": [
       "\n",
       "    <style>\n",
       "    mark {\n",
       "        background-color: #4CAF50;\n",
       "        color: black;\n",
       "      }\n",
       "    </style>\n",
       "    <body>\n",
       "    <h3>19483</h3>\n",
       "    <p>Source: They have feet with scales and claws, they lay eggs, and they walk on their two back legs like a T-Rex.</p>\n",
       "    <p>Reference: Sie haben Füße mit Schuppen und Krallen, legen Eier und laufen auf beiden Hinterbeinen wie ein Tyrannosaurus rex.</p>\n",
       "    <p>Good translation: Sie haben Füße mit Schalen und Nägeln, sie legen Eier und sie gehen auf ihren beiden Hinterbeinen wie ein T-Rex.</p>\n",
       "    <p>Incorrect: Sie haben Füße mit Schalen und Nägeln, sie legen Eier und sie gehen auf ihren beiden <mark>Rückenbeinen</mark> wie ein T-Rex.</p>\n",
       "    <p>Phenomenon: hallucination-real-data-vs-ref-word</p>\n",
       "    </body>\n",
       "    "
      ],
      "text/plain": [
       "<IPython.core.display.HTML object>"
      ]
     },
     "metadata": {},
     "output_type": "display_data"
    },
    {
     "name": "stdout",
     "output_type": "stream",
     "text": [
      "To accept the suggested annotation click on enter. To skip this one enter skip. To exit enter exit and enter anything else to manually annotate:\n"
     ]
    },
    {
     "name": "stderr",
     "output_type": "stream",
     "text": [
      " 31%|█████████████████████████████████▊                                                                           | 31/100 [01:35<01:20,  1.17s/it]WARNING:logger:No change in id 25218\n"
     ]
    },
    {
     "name": "stdout",
     "output_type": "stream",
     "text": [
      "-----> For this sample we compare the Incorrect translation with the Good translation.\n",
      "\n"
     ]
    },
    {
     "data": {
      "text/html": [
       "\n",
       "    <style>\n",
       "    mark {\n",
       "        background-color: #4CAF50;\n",
       "        color: black;\n",
       "      }\n",
       "    </style>\n",
       "    <body>\n",
       "    <h3>25218</h3>\n",
       "    <p>Source: Mais après avoir perdu le guichet de son capitaine, l'Inde n'a réalisé que 36 courses et perdu sept guichets jusqu'à la fin de la manche.</p>\n",
       "    <p>Reference: Doch nach dem Verlust des Tors des Kapitäns erzielte Indien nur 36 Runden und verlor 7 Tore, womit die Innings beendet waren.</p>\n",
       "    <p>Good translation: Aber nach dem Verlust des Schalters seines Kapitäns machte Indien nur 36 Rennen und verlor bis zum Ende der Runde sieben Schalets.</p>\n",
       "    <p>Incorrect: Aber nach dem Verlust des Schalters seines Kapitäns machte Indien nur 36 Rennen und verlor bis zum Ende der Runde sieben Schalets.</p>\n",
       "    <p>Phenomenon: hallucination-real-data-vs-ref-word</p>\n",
       "    </body>\n",
       "    "
      ],
      "text/plain": [
       "<IPython.core.display.HTML object>"
      ]
     },
     "metadata": {},
     "output_type": "display_data"
    },
    {
     "name": "stdout",
     "output_type": "stream",
     "text": [
      "To accept the suggested annotation click on enter. To skip this one enter skip. To exit enter exit and enter anything else to manually annotate:\n"
     ]
    },
    {
     "name": "stderr",
     "output_type": "stream",
     "text": [
      "\r",
      " 32%|██████████████████████████████████▉                                                                          | 32/100 [01:35<01:05,  1.04it/s]"
     ]
    },
    {
     "name": "stdout",
     "output_type": "stream",
     "text": [
      "-----> For this sample we compare the Incorrect translation with the Good translation.\n",
      "\n"
     ]
    },
    {
     "data": {
      "text/html": [
       "\n",
       "    <style>\n",
       "    mark {\n",
       "        background-color: #4CAF50;\n",
       "        color: black;\n",
       "      }\n",
       "    </style>\n",
       "    <body>\n",
       "    <h3>19495</h3>\n",
       "    <p>Source: Heels should be low and wide. Sand, gravel or salt (calcium chloride) is often scattered on roads or paths to improve traction.</p>\n",
       "    <p>Reference: Die Absätze sollten niedrig und breit sein. Sand, Kies oder Salz (Calciumchlorid) werden häufig auf Straßen oder Wege gestreut, um die Bodenhaftung zu verbessern.</p>\n",
       "    <p>Good translation: Sand, Kies oder Salz (Kalziumchlorid) wird oft auf Straßen oder Pfaden verstreut, um die Traktion zu verbessern.</p>\n",
       "    <p>Incorrect: Sand, <mark>Graben</mark> oder Salz (Kalziumchlorid) wird oft auf Straßen oder Pfaden verstreut, um die Traktion zu verbessern.</p>\n",
       "    <p>Phenomenon: hallucination-real-data-vs-ref-word</p>\n",
       "    </body>\n",
       "    "
      ],
      "text/plain": [
       "<IPython.core.display.HTML object>"
      ]
     },
     "metadata": {},
     "output_type": "display_data"
    },
    {
     "name": "stdout",
     "output_type": "stream",
     "text": [
      "To accept the suggested annotation click on enter. To skip this one enter skip. To exit enter exit and enter anything else to manually annotate:\n"
     ]
    },
    {
     "name": "stderr",
     "output_type": "stream",
     "text": [
      "\r",
      " 33%|███████████████████████████████████▉                                                                         | 33/100 [01:35<00:53,  1.26it/s]"
     ]
    },
    {
     "name": "stdout",
     "output_type": "stream",
     "text": [
      "-----> For this sample we compare the Incorrect translation with the Good translation.\n",
      "\n"
     ]
    },
    {
     "data": {
      "text/html": [
       "\n",
       "    <style>\n",
       "    mark {\n",
       "        background-color: #4CAF50;\n",
       "        color: black;\n",
       "      }\n",
       "    </style>\n",
       "    <body>\n",
       "    <h3>15340</h3>\n",
       "    <p>Source: Die Tempelfeste in Kerala mit regelmäßigen Umzügen geschmückter Elefanten, Tempelorchester und anderen Festlichkeiten sind sehr interessant zu beobachten,</p>\n",
       "    <p>Reference: Kerala's temple festivals are very interesting to see, with regular procession of decorated elephants, temple orchestra and other festivities.</p>\n",
       "    <p>Good translation: The temple festivals in Kerala with regular moves of decorated elephants, temple orchestra and other festivities are very interesting to observe,</p>\n",
       "    <p>Incorrect: The temple festivals in Kerala with regular moves of decorated elephants, temple <mark>chesters</mark> and other festivities are very interesting to observe,</p>\n",
       "    <p>Phenomenon: hallucination-real-data-vs-ref-word</p>\n",
       "    </body>\n",
       "    "
      ],
      "text/plain": [
       "<IPython.core.display.HTML object>"
      ]
     },
     "metadata": {},
     "output_type": "display_data"
    },
    {
     "name": "stdout",
     "output_type": "stream",
     "text": [
      "To accept the suggested annotation click on enter. To skip this one enter skip. To exit enter exit and enter anything else to manually annotate:\n"
     ]
    },
    {
     "name": "stderr",
     "output_type": "stream",
     "text": [
      "\r",
      " 34%|█████████████████████████████████████                                                                        | 34/100 [01:36<00:45,  1.44it/s]"
     ]
    },
    {
     "name": "stdout",
     "output_type": "stream",
     "text": [
      "-----> For this sample we compare the Incorrect translation with the Good translation.\n",
      "\n"
     ]
    },
    {
     "data": {
      "text/html": [
       "\n",
       "    <style>\n",
       "    mark {\n",
       "        background-color: #4CAF50;\n",
       "        color: black;\n",
       "      }\n",
       "    </style>\n",
       "    <body>\n",
       "    <h3>35822</h3>\n",
       "    <p>Source: The pilot was identified as Squadron Leader Dilokrit Pattavee.</p>\n",
       "    <p>Reference: पायलटला स्क्वॉड्रन लीडर दिलोकृत पट्टवी म्हणून ओळखले गेले.</p>\n",
       "    <p>Good translation: पायलट स्काड्रन लीडर डिलॉक्रिट पॅटावे म्हणून ओळखले जाते.</p>\n",
       "    <p>Incorrect: पायलट <mark>डिस्काड्रन</mark> लीडर डिलॉक्रिट पॅटावे म्हणून ओळखले जाते.</p>\n",
       "    <p>Phenomenon: hallucination-real-data-vs-synonym</p>\n",
       "    </body>\n",
       "    "
      ],
      "text/plain": [
       "<IPython.core.display.HTML object>"
      ]
     },
     "metadata": {},
     "output_type": "display_data"
    },
    {
     "name": "stdout",
     "output_type": "stream",
     "text": [
      "To accept the suggested annotation click on enter. To skip this one enter skip. To exit enter exit and enter anything else to manually annotate:\n"
     ]
    },
    {
     "name": "stderr",
     "output_type": "stream",
     "text": [
      " 35%|██████████████████████████████████████▏                                                                      | 35/100 [01:36<00:39,  1.64it/s]WARNING:logger:check this - too long: 35814\n"
     ]
    },
    {
     "name": "stdout",
     "output_type": "stream",
     "text": [
      "-----> For this sample we compare the Incorrect translation with the Good translation.\n",
      "\n"
     ]
    },
    {
     "data": {
      "text/html": [
       "\n",
       "    <style>\n",
       "    mark {\n",
       "        background-color: #4CAF50;\n",
       "        color: black;\n",
       "      }\n",
       "    </style>\n",
       "    <body>\n",
       "    <h3>35814</h3>\n",
       "    <p>Source: Moreover, top judge Evangelos Kalousis is imprisoned as he found guilty of corruption and degenerate behaviour.</p>\n",
       "    <p>Reference: याउपर, सर्वोच्च न्यायाधीश एवनजेलॉस कलौसिस यांना अटक झाली कारण ते भ्रष्टाचार आणि भ्रष्ट वर्तनासाठी दोषी आढळले.</p>\n",
       "    <p>Good translation: शिवाय, सर्वोच्च न्यायाधीश इव्हान्जेलोस कालोसिस यांना भ्रष्टाचार आणि अधोगती वर्तनासाठी दोषी आढळल्याने तुरुंगात टाकले आहे.</p>\n",
       "    <p>Incorrect: <mark>तसेच, उच्च न्यायाधीश Evangelos Kalousis जबाबदारी आणि भ्रष्टाचार म्हणून दोषी पाहिले म्हणून जेल करण्यात आले</mark> आहे.</p>\n",
       "    <p>Phenomenon: hallucination-real-data-vs-synonym</p>\n",
       "    </body>\n",
       "    "
      ],
      "text/plain": [
       "<IPython.core.display.HTML object>"
      ]
     },
     "metadata": {},
     "output_type": "display_data"
    },
    {
     "name": "stdout",
     "output_type": "stream",
     "text": [
      "To accept the suggested annotation click on enter. To skip this one enter skip. To exit enter exit and enter anything else to manually annotate:\n"
     ]
    },
    {
     "name": "stderr",
     "output_type": "stream",
     "text": [
      "\r",
      " 36%|███████████████████████████████████████▏                                                                     | 36/100 [01:37<00:35,  1.79it/s]"
     ]
    },
    {
     "name": "stdout",
     "output_type": "stream",
     "text": [
      "-----> For this sample we compare the Incorrect translation with the Good translation.\n",
      "\n"
     ]
    },
    {
     "data": {
      "text/html": [
       "\n",
       "    <style>\n",
       "    mark {\n",
       "        background-color: #4CAF50;\n",
       "        color: black;\n",
       "      }\n",
       "    </style>\n",
       "    <body>\n",
       "    <h3>25312</h3>\n",
       "    <p>Source: Le Luno avait 120–160 mètres cubes de carburant à bord lorsqu’il est tombé en panne, alors que les vents violents et les vagues l’ont poussé dans le brise-lames.</p>\n",
       "    <p>Reference: \"\"\"Die \"\"Luno\"\" hatte 120-160 Kubikmeter Treibstoff an Bord, als sie in Seenot geriet und die starken Winde und Wellen sie gegen die Wellenbrecher drückten.\"\"\"</p>\n",
       "    <p>Good translation: Das Luno hatte 120-160 Kubikmeter Kraftstoff an Bord, als es abstürzte, als heftige Winde und Wellen es in die Buhne schleppten.</p>\n",
       "    <p>Incorrect: Das Luno hatte 120-160 Kubikmeter Kraftstoff an Bord, als es abstürzte, als heftige Winde und Wellen es in die <mark>Kugel</mark> schleppten.</p>\n",
       "    <p>Phenomenon: hallucination-real-data-vs-synonym</p>\n",
       "    </body>\n",
       "    "
      ],
      "text/plain": [
       "<IPython.core.display.HTML object>"
      ]
     },
     "metadata": {},
     "output_type": "display_data"
    },
    {
     "name": "stdout",
     "output_type": "stream",
     "text": [
      "To accept the suggested annotation click on enter. To skip this one enter skip. To exit enter exit and enter anything else to manually annotate:\n"
     ]
    },
    {
     "name": "stderr",
     "output_type": "stream",
     "text": [
      "\r",
      " 37%|████████████████████████████████████████▎                                                                    | 37/100 [01:37<00:32,  1.94it/s]"
     ]
    },
    {
     "name": "stdout",
     "output_type": "stream",
     "text": [
      "-----> For this sample we compare the Incorrect translation with the Good translation.\n",
      "\n"
     ]
    },
    {
     "data": {
      "text/html": [
       "\n",
       "    <style>\n",
       "    mark {\n",
       "        background-color: #4CAF50;\n",
       "        color: black;\n",
       "      }\n",
       "    </style>\n",
       "    <body>\n",
       "    <h3>25292</h3>\n",
       "    <p>Source: Chaque année, vers le mois d’octobre, près de 1,5 million d’herbivores se dirigent vers les plaines du sud, en traversant la rivière Mara, depuis les collines du nord pour les pluies.</p>\n",
       "    <p>Reference: Jedes Jahr um den Oktober herum ziehen fast 1,5 Millionen Pflanzenfresser in die südlichen Ebenen und überqueren den Fluss Mara aus den nördlichen Hügeln wegen der Regenfälle.</p>\n",
       "    <p>Good translation: Jedes Jahr, im Oktober, gehen fast 1,5 Millionen Herbivore in die südlichen Ebenen, über den Mara-Fluss, von den nördlichen Hügeln bis zum Regen.</p>\n",
       "    <p>Incorrect: Jedes Jahr, im Oktober, gehen fast 1,5 Millionen <mark>Kräuterfresser</mark> in die südlichen Ebenen, über den Mara-Fluss, von den nördlichen Hügeln bis zum Regen.</p>\n",
       "    <p>Phenomenon: hallucination-real-data-vs-synonym</p>\n",
       "    </body>\n",
       "    "
      ],
      "text/plain": [
       "<IPython.core.display.HTML object>"
      ]
     },
     "metadata": {},
     "output_type": "display_data"
    },
    {
     "name": "stdout",
     "output_type": "stream",
     "text": [
      "To accept the suggested annotation click on enter. To skip this one enter skip. To exit enter exit and enter anything else to manually annotate:\n"
     ]
    },
    {
     "name": "stderr",
     "output_type": "stream",
     "text": [
      " 38%|█████████████████████████████████████████▍                                                                   | 38/100 [01:38<00:31,  1.98it/s]WARNING:logger:check this - too long: 35834\n"
     ]
    },
    {
     "name": "stdout",
     "output_type": "stream",
     "text": [
      "-----> For this sample we compare the Incorrect translation with the Good translation.\n",
      "\n"
     ]
    },
    {
     "data": {
      "text/html": [
       "\n",
       "    <style>\n",
       "    mark {\n",
       "        background-color: #4CAF50;\n",
       "        color: black;\n",
       "      }\n",
       "    </style>\n",
       "    <body>\n",
       "    <h3>35834</h3>\n",
       "    <p>Source: The aircraft had been headed to Irkutsk and was being operated by interior troops.</p>\n",
       "    <p>Reference: विमान इर्कुत्स्कच्या दिशेने जात होते आणि अंतर्गत सैन्याकडून चालवले जात होते.</p>\n",
       "    <p>Good translation: हे विमान इर्कुत्स्ककडे निघाले होते आणि ते अंतर्गत सैन्याने चालवले होते.</p>\n",
       "    <p>Incorrect: <mark>विमान आयर्कुट्स्कमध्ये चालवले होते आणि आंतरिक सैन्यांनी ऑपरेशन केले</mark> होते.</p>\n",
       "    <p>Phenomenon: hallucination-real-data-vs-synonym</p>\n",
       "    </body>\n",
       "    "
      ],
      "text/plain": [
       "<IPython.core.display.HTML object>"
      ]
     },
     "metadata": {},
     "output_type": "display_data"
    },
    {
     "name": "stdout",
     "output_type": "stream",
     "text": [
      "To accept the suggested annotation click on enter. To skip this one enter skip. To exit enter exit and enter anything else to manually annotate:\n"
     ]
    },
    {
     "name": "stderr",
     "output_type": "stream",
     "text": [
      "\r",
      " 39%|██████████████████████████████████████████▌                                                                  | 39/100 [01:38<00:30,  2.03it/s]"
     ]
    },
    {
     "name": "stdout",
     "output_type": "stream",
     "text": [
      "-----> For this sample we compare the Incorrect translation with the Good translation.\n",
      "\n"
     ]
    },
    {
     "data": {
      "text/html": [
       "\n",
       "    <style>\n",
       "    mark {\n",
       "        background-color: #4CAF50;\n",
       "        color: black;\n",
       "      }\n",
       "    </style>\n",
       "    <body>\n",
       "    <h3>25288</h3>\n",
       "    <p>Source: Une cavalerie est une armée qui combat à cheval. La selle n'ayant pas encore été inventée, la cavalerie assyrienne se battait en montant à cru.</p>\n",
       "    <p>Reference: Eine Kavallerie ist eine Truppe, die zu Pferde kämpft. Da der Sattel noch nicht erfunden war, kämpfte die assyrische Kavallerie vom bloßen Rücken ihrer Pferde aus.</p>\n",
       "    <p>Good translation: Eine Kavallerie ist eine Armee, die auf dem Pferd kämpfte.Da das Sattel noch nicht erfunden wurde, kämpfte die assyrische Kavallerie ohne Sattel reitend.</p>\n",
       "    <p>Incorrect: Eine Kavallerie ist eine Armee, die auf dem Pferd kämpfte.Da das Sattel noch nicht erfunden wurde, kämpfte die assyrische Kavallerie <mark>auf dem Ruder</mark>.</p>\n",
       "    <p>Phenomenon: hallucination-real-data-vs-synonym</p>\n",
       "    </body>\n",
       "    "
      ],
      "text/plain": [
       "<IPython.core.display.HTML object>"
      ]
     },
     "metadata": {},
     "output_type": "display_data"
    },
    {
     "name": "stdout",
     "output_type": "stream",
     "text": [
      "To accept the suggested annotation click on enter. To skip this one enter skip. To exit enter exit and enter anything else to manually annotate:\n"
     ]
    },
    {
     "name": "stderr",
     "output_type": "stream",
     "text": [
      "\r",
      " 40%|███████████████████████████████████████████▌                                                                 | 40/100 [01:39<00:30,  2.00it/s]"
     ]
    },
    {
     "name": "stdout",
     "output_type": "stream",
     "text": [
      "-----> For this sample we compare the Incorrect translation with the Good translation.\n",
      "\n"
     ]
    },
    {
     "data": {
      "text/html": [
       "\n",
       "    <style>\n",
       "    mark {\n",
       "        background-color: #4CAF50;\n",
       "        color: black;\n",
       "      }\n",
       "    </style>\n",
       "    <body>\n",
       "    <h3>19549</h3>\n",
       "    <p>Source: Women did the cooking in the yard; stores were just open counters looking into the street. Stone was used for building houses.</p>\n",
       "    <p>Reference: Die Frauen kochten im Hof. Geschäfte bestanden einfach aus zur Straße offenen Ladentheken. Zum Hausbau wurde Stein verwendet.</p>\n",
       "    <p>Good translation: Frauen kochen im Hof; Geschäfte waren nur offene Ladentheken, die in die Straße blickten.</p>\n",
       "    <p>Incorrect: Frauen kochen im Hof; Geschäfte waren nur offene <mark>Regale</mark>, die in die Straße blickten.</p>\n",
       "    <p>Phenomenon: hallucination-real-data-vs-synonym</p>\n",
       "    </body>\n",
       "    "
      ],
      "text/plain": [
       "<IPython.core.display.HTML object>"
      ]
     },
     "metadata": {},
     "output_type": "display_data"
    },
    {
     "name": "stdout",
     "output_type": "stream",
     "text": [
      "To accept the suggested annotation click on enter. To skip this one enter skip. To exit enter exit and enter anything else to manually annotate:\n"
     ]
    },
    {
     "name": "stderr",
     "output_type": "stream",
     "text": [
      "\r",
      " 41%|████████████████████████████████████████████▋                                                                | 41/100 [01:39<00:28,  2.09it/s]"
     ]
    },
    {
     "name": "stdout",
     "output_type": "stream",
     "text": [
      "-----> For this sample we compare the Incorrect translation with the Good translation.\n",
      "\n"
     ]
    },
    {
     "data": {
      "text/html": [
       "\n",
       "    <style>\n",
       "    mark {\n",
       "        background-color: #4CAF50;\n",
       "        color: black;\n",
       "      }\n",
       "    </style>\n",
       "    <body>\n",
       "    <h3>19529</h3>\n",
       "    <p>Source: Cochamó Valley - Chile's premier climbing destination, known as the Yosemite of South America, with a variety of granite big walls and crags.</p>\n",
       "    <p>Reference: Das Cochamó-Tal – Chiles wichtigstes Kletterziel, bekannt als der Yosemite-Nationalpark von Südamerika, mit einer Vielzahl von großen Granitwänden und -klippen.</p>\n",
       "    <p>Good translation: Cochamó Valley - Chiles führendes Kletterziel, bekannt als Yosemite von Südamerika, mit einer Vielzahl von Granit großen Wänden und Felszacken.</p>\n",
       "    <p>Incorrect: Cochamó Valley - Chiles führendes Kletterziel, bekannt als Yosemite von Südamerika, mit einer Vielzahl von Granit großen Wänden und <mark>Kratzer</mark>.</p>\n",
       "    <p>Phenomenon: hallucination-real-data-vs-synonym</p>\n",
       "    </body>\n",
       "    "
      ],
      "text/plain": [
       "<IPython.core.display.HTML object>"
      ]
     },
     "metadata": {},
     "output_type": "display_data"
    },
    {
     "name": "stdout",
     "output_type": "stream",
     "text": [
      "To accept the suggested annotation click on enter. To skip this one enter skip. To exit enter exit and enter anything else to manually annotate:\n"
     ]
    },
    {
     "name": "stderr",
     "output_type": "stream",
     "text": [
      "\r",
      " 42%|█████████████████████████████████████████████▊                                                               | 42/100 [01:39<00:26,  2.19it/s]"
     ]
    },
    {
     "name": "stdout",
     "output_type": "stream",
     "text": [
      "-----> For this sample we compare the Incorrect translation with the Good translation.\n",
      "\n"
     ]
    },
    {
     "data": {
      "text/html": [
       "\n",
       "    <style>\n",
       "    mark {\n",
       "        background-color: #4CAF50;\n",
       "        color: black;\n",
       "      }\n",
       "    </style>\n",
       "    <body>\n",
       "    <h3>35807</h3>\n",
       "    <p>Source: \"The country's supreme leader, Ayatollah Ali Khamenei, has described the dependency on oil as \"\"a trap\"\" dating from before Iran's Islamic revolution in 1979 and from which the country should free itself.\"</p>\n",
       "    <p>Reference: \"देशाचे सर्वोच्च नेते अयातुल्ला अली खमेनी यांनी 1979 मध्ये इराणची इस्लामिक क्रांती होण्याआधीपासून आणि त्यापासून देशाने मुक्त व्हावे यासाठी तेलावरील अवलंबित्वाचे वर्णन \"\"ट्रॅप\"\" म्हणून केले आहे.\"</p>\n",
       "    <p>Good translation: \"देशाचे सर्वोच्च नेते, अयातुल्ला अली खामेनी यांनी तेलावरील अवलंबित्वाचे वर्णन 1979 मध्ये इराणच्या इस्लामिक क्रांतीपूर्वीपासूनचे \"\"सापळा\"\" असे केले आहे आणि ज्यातून देशाने स्वतःला मुक्त केले पाहिजे.\"</p>\n",
       "    <p>Incorrect: \"<mark>देशाच्या</mark> सर्वोच्च <mark>नेता अयातोला</mark> अली <mark>खमनेईने तेल निर्भरताला 1979 मध्ये इराणच्या इस्लामिक क्रांतिच्या पूर्वावलोकनच्या \"\"एक तलवार\"\" म्हणून वर्णित केले आहे आणि इराण</mark> स्वतःला मुक्त <mark>करणार आहे</mark>.\"</p>\n",
       "    <p>Phenomenon: hallucination-real-data-vs-synonym</p>\n",
       "    </body>\n",
       "    "
      ],
      "text/plain": [
       "<IPython.core.display.HTML object>"
      ]
     },
     "metadata": {},
     "output_type": "display_data"
    },
    {
     "name": "stdout",
     "output_type": "stream",
     "text": [
      "To accept the suggested annotation click on enter. To skip this one enter skip. To exit enter exit and enter anything else to manually annotate:\n"
     ]
    },
    {
     "name": "stderr",
     "output_type": "stream",
     "text": [
      " 43%|██████████████████████████████████████████████▊                                                              | 43/100 [01:40<00:26,  2.19it/s]WARNING:logger:check this - too long: 35826\n"
     ]
    },
    {
     "name": "stdout",
     "output_type": "stream",
     "text": [
      "-----> For this sample we compare the Incorrect translation with the Good translation.\n",
      "\n"
     ]
    },
    {
     "data": {
      "text/html": [
       "\n",
       "    <style>\n",
       "    mark {\n",
       "        background-color: #4CAF50;\n",
       "        color: black;\n",
       "      }\n",
       "    </style>\n",
       "    <body>\n",
       "    <h3>35826</h3>\n",
       "    <p>Source: On September 24, 1759, Arthur Guinness signed a 9,000 year lease for the St James' Gate Brewery in Dublin, Ireland.</p>\n",
       "    <p>Reference: २४ सप्टेंबर १७५९ रोजी, आर्थर गिनसने डब्लिन, आयर्लंडमधील सेंट जेम्सच्या गेट ब्रीवरीसाठी ९००० वर्षांच्या भाडेपट्टीवर सही केली.</p>\n",
       "    <p>Good translation: 24 सप्टेंबर 1759 रोजी आर्थर गिनीजने डब्लिन, आयर्लंड येथील सेंट जेम्स गेट ब्रुअरीसाठी 9,000 वर्षांच्या भाडेपट्टीवर स्वाक्षरी केली.</p>\n",
       "    <p>Incorrect: 24 सप्टेंबर 1759 <mark>मध्ये आर्थर गिनीसने आयर्लियाच्या डबलिनमध्ये सेंट जेम्स गेट पायरीसाठी 9,000 वर्षांची किराया लिहिली</mark>.</p>\n",
       "    <p>Phenomenon: hallucination-real-data-vs-synonym</p>\n",
       "    </body>\n",
       "    "
      ],
      "text/plain": [
       "<IPython.core.display.HTML object>"
      ]
     },
     "metadata": {},
     "output_type": "display_data"
    },
    {
     "name": "stdout",
     "output_type": "stream",
     "text": [
      "To accept the suggested annotation click on enter. To skip this one enter skip. To exit enter exit and enter anything else to manually annotate:\n"
     ]
    },
    {
     "name": "stderr",
     "output_type": "stream",
     "text": [
      "\r",
      " 44%|███████████████████████████████████████████████▉                                                             | 44/100 [01:40<00:24,  2.27it/s]"
     ]
    },
    {
     "name": "stdout",
     "output_type": "stream",
     "text": [
      "-----> For this sample we compare the Incorrect translation with the Good translation.\n",
      "\n"
     ]
    },
    {
     "data": {
      "text/html": [
       "\n",
       "    <style>\n",
       "    mark {\n",
       "        background-color: #4CAF50;\n",
       "        color: black;\n",
       "      }\n",
       "    </style>\n",
       "    <body>\n",
       "    <h3>3500</h3>\n",
       "    <p>Source: पश्चिमी परंपरा में कुरूपता पर एकाधिकार है।</p>\n",
       "    <p>Reference: Western tradition has a monopoly on ugliness.</p>\n",
       "    <p>Good translation: The Western tradition has a monopoly on ugliness.</p>\n",
       "    <p>Incorrect: This is not to say that the Western tradition has a monopoly on Niceness.</p>\n",
       "    <p>Phenomenon: xnli-addition-contradiction</p>\n",
       "    </body>\n",
       "    "
      ],
      "text/plain": [
       "<IPython.core.display.HTML object>"
      ]
     },
     "metadata": {},
     "output_type": "display_data"
    },
    {
     "name": "stdout",
     "output_type": "stream",
     "text": [
      "No automatic translations for this sample.\n",
      "Enter the incorrect translation with the < and > to show the error spans (exit to stop, skip to skip): \n",
      "a\n",
      "Enter the correct/reference translation with the < and > to show the error spans (exit to stop, skip to skip): \n",
      "a\n"
     ]
    },
    {
     "data": {
      "text/html": [
       "\n",
       "    <style>\n",
       "    mark {\n",
       "        background-color: #4CAF50;\n",
       "        color: black;\n",
       "      }\n",
       "    </style>\n",
       "    <body>\n",
       "    <h3>3500</h3>\n",
       "    <p>Source: पश्चिमी परंपरा में कुरूपता पर एकाधिकार है।</p>\n",
       "    <p>Reference: Western tradition has a monopoly on ugliness.</p>\n",
       "    <p>Good translation: The Western tradition has a monopoly on ugliness.</p>\n",
       "    <p>Incorrect: This is not to say that the Western tradition has a monopoly on Niceness.</p>\n",
       "    <p>Phenomenon: xnli-addition-contradiction</p>\n",
       "    </body>\n",
       "    "
      ],
      "text/plain": [
       "<IPython.core.display.HTML object>"
      ]
     },
     "metadata": {},
     "output_type": "display_data"
    },
    {
     "name": "stdout",
     "output_type": "stream",
     "text": [
      "\n",
      " To accept it press enter or to annotate again enter any other string: \n"
     ]
    },
    {
     "name": "stderr",
     "output_type": "stream",
     "text": [
      "\r",
      " 45%|█████████████████████████████████████████████████                                                            | 45/100 [01:46<01:45,  1.92s/it]"
     ]
    },
    {
     "name": "stdout",
     "output_type": "stream",
     "text": [
      "-----> For this sample we compare the Incorrect translation with the Good translation.\n",
      "\n"
     ]
    },
    {
     "data": {
      "text/html": [
       "\n",
       "    <style>\n",
       "    mark {\n",
       "        background-color: #4CAF50;\n",
       "        color: black;\n",
       "      }\n",
       "    </style>\n",
       "    <body>\n",
       "    <h3>33183</h3>\n",
       "    <p>Source: Hoàn toàn không có lợi ích khi trở thành thành viên của Hiệp hội Audubon Quốc gia.</p>\n",
       "    <p>Reference: There is absolutely no benefit to being a member of the National Audubon Society.</p>\n",
       "    <p>Good translation: There is absolutely no benefit in becoming a member of the National Audubon Association.</p>\n",
       "    <p>Incorrect: The most important benefit of membership in the National Audubon Society gives you nothing immediately tangible in return.</p>\n",
       "    <p>Phenomenon: xnli-addition-contradiction</p>\n",
       "    </body>\n",
       "    "
      ],
      "text/plain": [
       "<IPython.core.display.HTML object>"
      ]
     },
     "metadata": {},
     "output_type": "display_data"
    },
    {
     "name": "stdout",
     "output_type": "stream",
     "text": [
      "No automatic translations for this sample.\n",
      "Enter the incorrect translation with the < and > to show the error spans (exit to stop, skip to skip): \n",
      "a\n",
      "Enter the correct/reference translation with the < and > to show the error spans (exit to stop, skip to skip): \n",
      "a\n"
     ]
    },
    {
     "data": {
      "text/html": [
       "\n",
       "    <style>\n",
       "    mark {\n",
       "        background-color: #4CAF50;\n",
       "        color: black;\n",
       "      }\n",
       "    </style>\n",
       "    <body>\n",
       "    <h3>33183</h3>\n",
       "    <p>Source: Hoàn toàn không có lợi ích khi trở thành thành viên của Hiệp hội Audubon Quốc gia.</p>\n",
       "    <p>Reference: There is absolutely no benefit to being a member of the National Audubon Society.</p>\n",
       "    <p>Good translation: There is absolutely no benefit in becoming a member of the National Audubon Association.</p>\n",
       "    <p>Incorrect: The most important benefit of membership in the National Audubon Society gives you nothing immediately tangible in return.</p>\n",
       "    <p>Phenomenon: xnli-addition-contradiction</p>\n",
       "    </body>\n",
       "    "
      ],
      "text/plain": [
       "<IPython.core.display.HTML object>"
      ]
     },
     "metadata": {},
     "output_type": "display_data"
    },
    {
     "name": "stdout",
     "output_type": "stream",
     "text": [
      "\n",
      " To accept it press enter or to annotate again enter any other string: \n"
     ]
    },
    {
     "name": "stderr",
     "output_type": "stream",
     "text": [
      "\r",
      " 46%|██████████████████████████████████████████████████▏                                                          | 46/100 [01:48<01:57,  2.17s/it]"
     ]
    },
    {
     "name": "stdout",
     "output_type": "stream",
     "text": [
      "-----> For this sample we compare the Incorrect translation with the Good translation.\n",
      "\n"
     ]
    },
    {
     "data": {
      "text/html": [
       "\n",
       "    <style>\n",
       "    mark {\n",
       "        background-color: #4CAF50;\n",
       "        color: black;\n",
       "      }\n",
       "    </style>\n",
       "    <body>\n",
       "    <h3>10784</h3>\n",
       "    <p>Source: كودالي كيريند ليست مزينة بلوحات وزخارف.</p>\n",
       "    <p>Reference: The Kodaly kerend is not decorated with gures and motifs.</p>\n",
       "    <p>Good translation: Caudalie Kerind is not decorated with paintings and ornaments.</p>\n",
       "    <p>Incorrect: Kodaly kerend (Kodaly crescent, named after another Hungarian composer) is a splendid ensemble, its curving faaades decorated with Classical  gures and inlaid motifs.</p>\n",
       "    <p>Phenomenon: xnli-addition-contradiction</p>\n",
       "    </body>\n",
       "    "
      ],
      "text/plain": [
       "<IPython.core.display.HTML object>"
      ]
     },
     "metadata": {},
     "output_type": "display_data"
    },
    {
     "name": "stdout",
     "output_type": "stream",
     "text": [
      "No automatic translations for this sample.\n",
      "Enter the incorrect translation with the < and > to show the error spans (exit to stop, skip to skip): \n",
      "a\n",
      "Enter the correct/reference translation with the < and > to show the error spans (exit to stop, skip to skip): \n",
      "a\n"
     ]
    },
    {
     "data": {
      "text/html": [
       "\n",
       "    <style>\n",
       "    mark {\n",
       "        background-color: #4CAF50;\n",
       "        color: black;\n",
       "      }\n",
       "    </style>\n",
       "    <body>\n",
       "    <h3>10784</h3>\n",
       "    <p>Source: كودالي كيريند ليست مزينة بلوحات وزخارف.</p>\n",
       "    <p>Reference: The Kodaly kerend is not decorated with gures and motifs.</p>\n",
       "    <p>Good translation: Caudalie Kerind is not decorated with paintings and ornaments.</p>\n",
       "    <p>Incorrect: Kodaly kerend (Kodaly crescent, named after another Hungarian composer) is a splendid ensemble, its curving faaades decorated with Classical  gures and inlaid motifs.</p>\n",
       "    <p>Phenomenon: xnli-addition-contradiction</p>\n",
       "    </body>\n",
       "    "
      ],
      "text/plain": [
       "<IPython.core.display.HTML object>"
      ]
     },
     "metadata": {},
     "output_type": "display_data"
    },
    {
     "name": "stdout",
     "output_type": "stream",
     "text": [
      "\n",
      " To accept it press enter or to annotate again enter any other string: \n"
     ]
    },
    {
     "name": "stderr",
     "output_type": "stream",
     "text": [
      "\r",
      " 47%|███████████████████████████████████████████████████▏                                                         | 47/100 [01:51<01:53,  2.15s/it]"
     ]
    },
    {
     "name": "stdout",
     "output_type": "stream",
     "text": [
      "-----> For this sample we compare the Incorrect translation with the Good translation.\n",
      "\n"
     ]
    },
    {
     "data": {
      "text/html": [
       "\n",
       "    <style>\n",
       "    mark {\n",
       "        background-color: #4CAF50;\n",
       "        color: black;\n",
       "      }\n",
       "    </style>\n",
       "    <body>\n",
       "    <h3>34924</h3>\n",
       "    <p>Source: Фрейд ни в чем не виноват.</p>\n",
       "    <p>Reference: Freud is totally blameless.</p>\n",
       "    <p>Good translation: Freud is innocent.</p>\n",
       "    <p>Incorrect: Sigmund Freud is not blameless.</p>\n",
       "    <p>Phenomenon: xnli-addition-contradiction</p>\n",
       "    </body>\n",
       "    "
      ],
      "text/plain": [
       "<IPython.core.display.HTML object>"
      ]
     },
     "metadata": {},
     "output_type": "display_data"
    },
    {
     "name": "stdout",
     "output_type": "stream",
     "text": [
      "No automatic translations for this sample.\n",
      "Enter the incorrect translation with the < and > to show the error spans (exit to stop, skip to skip): \n",
      "a\n",
      "Enter the correct/reference translation with the < and > to show the error spans (exit to stop, skip to skip): \n",
      "a\n"
     ]
    },
    {
     "data": {
      "text/html": [
       "\n",
       "    <style>\n",
       "    mark {\n",
       "        background-color: #4CAF50;\n",
       "        color: black;\n",
       "      }\n",
       "    </style>\n",
       "    <body>\n",
       "    <h3>34924</h3>\n",
       "    <p>Source: Фрейд ни в чем не виноват.</p>\n",
       "    <p>Reference: Freud is totally blameless.</p>\n",
       "    <p>Good translation: Freud is innocent.</p>\n",
       "    <p>Incorrect: Sigmund Freud is not blameless.</p>\n",
       "    <p>Phenomenon: xnli-addition-contradiction</p>\n",
       "    </body>\n",
       "    "
      ],
      "text/plain": [
       "<IPython.core.display.HTML object>"
      ]
     },
     "metadata": {},
     "output_type": "display_data"
    },
    {
     "name": "stdout",
     "output_type": "stream",
     "text": [
      "\n",
      " To accept it press enter or to annotate again enter any other string: \n"
     ]
    },
    {
     "name": "stderr",
     "output_type": "stream",
     "text": [
      "\r",
      " 48%|████████████████████████████████████████████████████▎                                                        | 48/100 [01:52<01:41,  1.96s/it]"
     ]
    },
    {
     "name": "stdout",
     "output_type": "stream",
     "text": [
      "-----> For this sample we compare the Incorrect translation with the Good translation.\n",
      "\n"
     ]
    },
    {
     "data": {
      "text/html": [
       "\n",
       "    <style>\n",
       "    mark {\n",
       "        background-color: #4CAF50;\n",
       "        color: black;\n",
       "      }\n",
       "    </style>\n",
       "    <body>\n",
       "    <h3>8168</h3>\n",
       "    <p>Source: Huu ndio mwisho wa ujamhuri.</p>\n",
       "    <p>Reference: This is the ultimate Republican fallback.</p>\n",
       "    <p>Good translation: This is the end of the republic.</p>\n",
       "    <p>Incorrect: This is the worst and least effective Republican fallback.</p>\n",
       "    <p>Phenomenon: xnli-addition-contradiction</p>\n",
       "    </body>\n",
       "    "
      ],
      "text/plain": [
       "<IPython.core.display.HTML object>"
      ]
     },
     "metadata": {},
     "output_type": "display_data"
    },
    {
     "name": "stdout",
     "output_type": "stream",
     "text": [
      "No automatic translations for this sample.\n",
      "Enter the incorrect translation with the < and > to show the error spans (exit to stop, skip to skip): \n",
      "a\n",
      "Enter the correct/reference translation with the < and > to show the error spans (exit to stop, skip to skip): \n",
      "a\n"
     ]
    },
    {
     "data": {
      "text/html": [
       "\n",
       "    <style>\n",
       "    mark {\n",
       "        background-color: #4CAF50;\n",
       "        color: black;\n",
       "      }\n",
       "    </style>\n",
       "    <body>\n",
       "    <h3>8168</h3>\n",
       "    <p>Source: Huu ndio mwisho wa ujamhuri.</p>\n",
       "    <p>Reference: This is the ultimate Republican fallback.</p>\n",
       "    <p>Good translation: This is the end of the republic.</p>\n",
       "    <p>Incorrect: This is the worst and least effective Republican fallback.</p>\n",
       "    <p>Phenomenon: xnli-addition-contradiction</p>\n",
       "    </body>\n",
       "    "
      ],
      "text/plain": [
       "<IPython.core.display.HTML object>"
      ]
     },
     "metadata": {},
     "output_type": "display_data"
    },
    {
     "name": "stdout",
     "output_type": "stream",
     "text": [
      "\n",
      " To accept it press enter or to annotate again enter any other string: \n"
     ]
    },
    {
     "name": "stderr",
     "output_type": "stream",
     "text": [
      "\r",
      " 49%|█████████████████████████████████████████████████████▍                                                       | 49/100 [01:56<02:11,  2.57s/it]"
     ]
    },
    {
     "name": "stdout",
     "output_type": "stream",
     "text": [
      "-----> For this sample we compare the Incorrect translation with the Good translation.\n",
      "\n"
     ]
    },
    {
     "data": {
      "text/html": [
       "\n",
       "    <style>\n",
       "    mark {\n",
       "        background-color: #4CAF50;\n",
       "        color: black;\n",
       "      }\n",
       "    </style>\n",
       "    <body>\n",
       "    <h3>28386</h3>\n",
       "    <p>Source: Това са кораби от флота на Ямайка, отговори ѝ Негова Светлост.</p>\n",
       "    <p>Reference: They are ships of the Jamaica fleet,  his lordship answered her.</p>\n",
       "    <p>Good translation: These are ships from the Jamaican Navy, His Grace replied.</p>\n",
       "    <p>Incorrect: They are ships of the American fleet, his lordship answered her.</p>\n",
       "    <p>Phenomenon: xnli-addition-contradiction</p>\n",
       "    </body>\n",
       "    "
      ],
      "text/plain": [
       "<IPython.core.display.HTML object>"
      ]
     },
     "metadata": {},
     "output_type": "display_data"
    },
    {
     "name": "stdout",
     "output_type": "stream",
     "text": [
      "No automatic translations for this sample.\n",
      "Enter the incorrect translation with the < and > to show the error spans (exit to stop, skip to skip): \n",
      "a\n",
      "Enter the correct/reference translation with the < and > to show the error spans (exit to stop, skip to skip): \n",
      "a\n"
     ]
    },
    {
     "data": {
      "text/html": [
       "\n",
       "    <style>\n",
       "    mark {\n",
       "        background-color: #4CAF50;\n",
       "        color: black;\n",
       "      }\n",
       "    </style>\n",
       "    <body>\n",
       "    <h3>28386</h3>\n",
       "    <p>Source: Това са кораби от флота на Ямайка, отговори ѝ Негова Светлост.</p>\n",
       "    <p>Reference: They are ships of the Jamaica fleet,  his lordship answered her.</p>\n",
       "    <p>Good translation: These are ships from the Jamaican Navy, His Grace replied.</p>\n",
       "    <p>Incorrect: They are ships of the American fleet, his lordship answered her.</p>\n",
       "    <p>Phenomenon: xnli-addition-contradiction</p>\n",
       "    </body>\n",
       "    "
      ],
      "text/plain": [
       "<IPython.core.display.HTML object>"
      ]
     },
     "metadata": {},
     "output_type": "display_data"
    },
    {
     "name": "stdout",
     "output_type": "stream",
     "text": [
      "\n",
      " To accept it press enter or to annotate again enter any other string: \n"
     ]
    },
    {
     "name": "stderr",
     "output_type": "stream",
     "text": [
      "\r",
      " 50%|██████████████████████████████████████████████████████▌                                                      | 50/100 [01:58<02:04,  2.49s/it]"
     ]
    },
    {
     "name": "stdout",
     "output_type": "stream",
     "text": [
      "-----> For this sample we compare the Incorrect translation with the Good translation.\n",
      "\n"
     ]
    },
    {
     "data": {
      "text/html": [
       "\n",
       "    <style>\n",
       "    mark {\n",
       "        background-color: #4CAF50;\n",
       "        color: black;\n",
       "      }\n",
       "    </style>\n",
       "    <body>\n",
       "    <h3>36236</h3>\n",
       "    <p>Source: ทนายที่ฉลาดเฉลียว เขาอนุมัติมันแล้ว</p>\n",
       "    <p>Reference: Shrewd advocacy,  he approved it.</p>\n",
       "    <p>Good translation: A wise lawyer He approved it</p>\n",
       "    <p>Incorrect: He most certainly did not approve of the shrewd advocacy.</p>\n",
       "    <p>Phenomenon: xnli-addition-contradiction</p>\n",
       "    </body>\n",
       "    "
      ],
      "text/plain": [
       "<IPython.core.display.HTML object>"
      ]
     },
     "metadata": {},
     "output_type": "display_data"
    },
    {
     "name": "stdout",
     "output_type": "stream",
     "text": [
      "No automatic translations for this sample.\n",
      "Enter the incorrect translation with the < and > to show the error spans (exit to stop, skip to skip): \n",
      "a\n",
      "Enter the correct/reference translation with the < and > to show the error spans (exit to stop, skip to skip): \n",
      "a\n"
     ]
    },
    {
     "data": {
      "text/html": [
       "\n",
       "    <style>\n",
       "    mark {\n",
       "        background-color: #4CAF50;\n",
       "        color: black;\n",
       "      }\n",
       "    </style>\n",
       "    <body>\n",
       "    <h3>36236</h3>\n",
       "    <p>Source: ทนายที่ฉลาดเฉลียว เขาอนุมัติมันแล้ว</p>\n",
       "    <p>Reference: Shrewd advocacy,  he approved it.</p>\n",
       "    <p>Good translation: A wise lawyer He approved it</p>\n",
       "    <p>Incorrect: He most certainly did not approve of the shrewd advocacy.</p>\n",
       "    <p>Phenomenon: xnli-addition-contradiction</p>\n",
       "    </body>\n",
       "    "
      ],
      "text/plain": [
       "<IPython.core.display.HTML object>"
      ]
     },
     "metadata": {},
     "output_type": "display_data"
    },
    {
     "name": "stdout",
     "output_type": "stream",
     "text": [
      "\n",
      " To accept it press enter or to annotate again enter any other string: \n"
     ]
    },
    {
     "name": "stderr",
     "output_type": "stream",
     "text": [
      "\r",
      " 51%|███████████████████████████████████████████████████████▌                                                     | 51/100 [02:01<02:02,  2.49s/it]"
     ]
    },
    {
     "name": "stdout",
     "output_type": "stream",
     "text": [
      "-----> For this sample we compare the Incorrect translation with the Good translation.\n",
      "\n"
     ]
    },
    {
     "data": {
      "text/html": [
       "\n",
       "    <style>\n",
       "    mark {\n",
       "        background-color: #4CAF50;\n",
       "        color: black;\n",
       "      }\n",
       "    </style>\n",
       "    <body>\n",
       "    <h3>3484</h3>\n",
       "    <p>Source: लोकतांत्रिकता अंतरराष्ट्रीय भूगोल की अंतर्निहित वास्तविकता को नहीं बदलती है।</p>\n",
       "    <p>Reference: Nor does democratization change the underlying reality of international  geography.</p>\n",
       "    <p>Good translation: Democracy does not change the underlying reality of international geography.</p>\n",
       "    <p>Incorrect: Democratization plays a big role in the shifting of the reality of international geography.</p>\n",
       "    <p>Phenomenon: xnli-addition-contradiction</p>\n",
       "    </body>\n",
       "    "
      ],
      "text/plain": [
       "<IPython.core.display.HTML object>"
      ]
     },
     "metadata": {},
     "output_type": "display_data"
    },
    {
     "name": "stdout",
     "output_type": "stream",
     "text": [
      "No automatic translations for this sample.\n",
      "Enter the incorrect translation with the < and > to show the error spans (exit to stop, skip to skip): \n",
      "a\n",
      "Enter the correct/reference translation with the < and > to show the error spans (exit to stop, skip to skip): \n",
      "a\n"
     ]
    },
    {
     "data": {
      "text/html": [
       "\n",
       "    <style>\n",
       "    mark {\n",
       "        background-color: #4CAF50;\n",
       "        color: black;\n",
       "      }\n",
       "    </style>\n",
       "    <body>\n",
       "    <h3>3484</h3>\n",
       "    <p>Source: लोकतांत्रिकता अंतरराष्ट्रीय भूगोल की अंतर्निहित वास्तविकता को नहीं बदलती है।</p>\n",
       "    <p>Reference: Nor does democratization change the underlying reality of international  geography.</p>\n",
       "    <p>Good translation: Democracy does not change the underlying reality of international geography.</p>\n",
       "    <p>Incorrect: Democratization plays a big role in the shifting of the reality of international geography.</p>\n",
       "    <p>Phenomenon: xnli-addition-contradiction</p>\n",
       "    </body>\n",
       "    "
      ],
      "text/plain": [
       "<IPython.core.display.HTML object>"
      ]
     },
     "metadata": {},
     "output_type": "display_data"
    },
    {
     "name": "stdout",
     "output_type": "stream",
     "text": [
      "\n",
      " To accept it press enter or to annotate again enter any other string: \n"
     ]
    },
    {
     "name": "stderr",
     "output_type": "stream",
     "text": [
      "\r",
      " 52%|████████████████████████████████████████████████████████▋                                                    | 52/100 [02:07<02:53,  3.61s/it]"
     ]
    },
    {
     "name": "stdout",
     "output_type": "stream",
     "text": [
      "-----> For this sample we compare the Incorrect translation with the Good translation.\n",
      "\n"
     ]
    },
    {
     "data": {
      "text/html": [
       "\n",
       "    <style>\n",
       "    mark {\n",
       "        background-color: #4CAF50;\n",
       "        color: black;\n",
       "      }\n",
       "    </style>\n",
       "    <body>\n",
       "    <h3>32642</h3>\n",
       "    <p>Source: Κανένας υπάλληλος από τις Λιμενικές Αρχές δεν παρέμεινε στους επάνω ορόφους για να εκκενώσει αβοήθητους πολίτες.</p>\n",
       "    <p>Reference: None of the Port Authority employees stayed on the upper floors to evacuate helpless civilians.</p>\n",
       "    <p>Good translation: No officers from the Port Authority remained on the upper floors to evacuate helpless civilians.</p>\n",
       "    <p>Incorrect: Some Port Authority civilian employees remained on various upper floors to help civilians who were trapped and to assist in the evacuation.</p>\n",
       "    <p>Phenomenon: xnli-addition-contradiction</p>\n",
       "    </body>\n",
       "    "
      ],
      "text/plain": [
       "<IPython.core.display.HTML object>"
      ]
     },
     "metadata": {},
     "output_type": "display_data"
    },
    {
     "name": "stdout",
     "output_type": "stream",
     "text": [
      "No automatic translations for this sample.\n",
      "Enter the incorrect translation with the < and > to show the error spans (exit to stop, skip to skip): \n",
      "a\n",
      "Enter the correct/reference translation with the < and > to show the error spans (exit to stop, skip to skip): \n",
      "a\n"
     ]
    },
    {
     "data": {
      "text/html": [
       "\n",
       "    <style>\n",
       "    mark {\n",
       "        background-color: #4CAF50;\n",
       "        color: black;\n",
       "      }\n",
       "    </style>\n",
       "    <body>\n",
       "    <h3>32642</h3>\n",
       "    <p>Source: Κανένας υπάλληλος από τις Λιμενικές Αρχές δεν παρέμεινε στους επάνω ορόφους για να εκκενώσει αβοήθητους πολίτες.</p>\n",
       "    <p>Reference: None of the Port Authority employees stayed on the upper floors to evacuate helpless civilians.</p>\n",
       "    <p>Good translation: No officers from the Port Authority remained on the upper floors to evacuate helpless civilians.</p>\n",
       "    <p>Incorrect: Some Port Authority civilian employees remained on various upper floors to help civilians who were trapped and to assist in the evacuation.</p>\n",
       "    <p>Phenomenon: xnli-addition-contradiction</p>\n",
       "    </body>\n",
       "    "
      ],
      "text/plain": [
       "<IPython.core.display.HTML object>"
      ]
     },
     "metadata": {},
     "output_type": "display_data"
    },
    {
     "name": "stdout",
     "output_type": "stream",
     "text": [
      "\n",
      " To accept it press enter or to annotate again enter any other string: \n"
     ]
    },
    {
     "name": "stderr",
     "output_type": "stream",
     "text": [
      "\r",
      " 53%|█████████████████████████████████████████████████████████▊                                                   | 53/100 [02:10<02:39,  3.38s/it]"
     ]
    },
    {
     "name": "stdout",
     "output_type": "stream",
     "text": [
      "-----> For this sample we compare the Incorrect translation with the Good translation.\n",
      "\n"
     ]
    },
    {
     "data": {
      "text/html": [
       "\n",
       "    <style>\n",
       "    mark {\n",
       "        background-color: #4CAF50;\n",
       "        color: black;\n",
       "      }\n",
       "    </style>\n",
       "    <body>\n",
       "    <h3>32644</h3>\n",
       "    <p>Source: Δεν με νοιάζει ο βάτραχος και η μύγα.</p>\n",
       "    <p>Reference: I do not care for the frog and the fly.</p>\n",
       "    <p>Good translation: I do not care about the frog and the fly.</p>\n",
       "    <p>Incorrect: My favorite example remains the frog and the fly.</p>\n",
       "    <p>Phenomenon: xnli-addition-contradiction</p>\n",
       "    </body>\n",
       "    "
      ],
      "text/plain": [
       "<IPython.core.display.HTML object>"
      ]
     },
     "metadata": {},
     "output_type": "display_data"
    },
    {
     "name": "stdout",
     "output_type": "stream",
     "text": [
      "No automatic translations for this sample.\n",
      "Enter the incorrect translation with the < and > to show the error spans (exit to stop, skip to skip): \n",
      "a\n",
      "Enter the correct/reference translation with the < and > to show the error spans (exit to stop, skip to skip): \n",
      "a\n"
     ]
    },
    {
     "data": {
      "text/html": [
       "\n",
       "    <style>\n",
       "    mark {\n",
       "        background-color: #4CAF50;\n",
       "        color: black;\n",
       "      }\n",
       "    </style>\n",
       "    <body>\n",
       "    <h3>32644</h3>\n",
       "    <p>Source: Δεν με νοιάζει ο βάτραχος και η μύγα.</p>\n",
       "    <p>Reference: I do not care for the frog and the fly.</p>\n",
       "    <p>Good translation: I do not care about the frog and the fly.</p>\n",
       "    <p>Incorrect: My favorite example remains the frog and the fly.</p>\n",
       "    <p>Phenomenon: xnli-addition-contradiction</p>\n",
       "    </body>\n",
       "    "
      ],
      "text/plain": [
       "<IPython.core.display.HTML object>"
      ]
     },
     "metadata": {},
     "output_type": "display_data"
    },
    {
     "name": "stdout",
     "output_type": "stream",
     "text": [
      "\n",
      " To accept it press enter or to annotate again enter any other string: \n"
     ]
    },
    {
     "name": "stderr",
     "output_type": "stream",
     "text": [
      "\r",
      " 54%|██████████████████████████████████████████████████████████▊                                                  | 54/100 [02:18<03:36,  4.70s/it]"
     ]
    },
    {
     "name": "stdout",
     "output_type": "stream",
     "text": [
      "-----> For this sample we compare the Incorrect translation with the Good translation.\n",
      "\n"
     ]
    },
    {
     "data": {
      "text/html": [
       "\n",
       "    <style>\n",
       "    mark {\n",
       "        background-color: #4CAF50;\n",
       "        color: black;\n",
       "      }\n",
       "    </style>\n",
       "    <body>\n",
       "    <h3>7955</h3>\n",
       "    <p>Source: اس تصوراتی منطق کے منطق کو بدنام کرنے میں اسزم کے کچھ معاصر مخالفین کو مالیاتی ذمہ داری ہے.</p>\n",
       "    <p>Reference: Some contemporary opponents of theism have a financial stake in discrediting the logic of this cosmological argument.</p>\n",
       "    <p>Good translation: Some contemporary opponents of ism have a financial responsibility for discrediting the logic of this conceptual logic.</p>\n",
       "    <p>Incorrect: There are many options for attacking the logic of this cosmological argument, and contemporary opponents of theism have tried them all.</p>\n",
       "    <p>Phenomenon: xnli-addition-neutral</p>\n",
       "    </body>\n",
       "    "
      ],
      "text/plain": [
       "<IPython.core.display.HTML object>"
      ]
     },
     "metadata": {},
     "output_type": "display_data"
    },
    {
     "name": "stdout",
     "output_type": "stream",
     "text": [
      "No automatic translations for this sample.\n",
      "Enter the incorrect translation with the < and > to show the error spans (exit to stop, skip to skip): \n",
      "a\n",
      "Enter the correct/reference translation with the < and > to show the error spans (exit to stop, skip to skip): \n",
      "a\n"
     ]
    },
    {
     "data": {
      "text/html": [
       "\n",
       "    <style>\n",
       "    mark {\n",
       "        background-color: #4CAF50;\n",
       "        color: black;\n",
       "      }\n",
       "    </style>\n",
       "    <body>\n",
       "    <h3>7955</h3>\n",
       "    <p>Source: اس تصوراتی منطق کے منطق کو بدنام کرنے میں اسزم کے کچھ معاصر مخالفین کو مالیاتی ذمہ داری ہے.</p>\n",
       "    <p>Reference: Some contemporary opponents of theism have a financial stake in discrediting the logic of this cosmological argument.</p>\n",
       "    <p>Good translation: Some contemporary opponents of ism have a financial responsibility for discrediting the logic of this conceptual logic.</p>\n",
       "    <p>Incorrect: There are many options for attacking the logic of this cosmological argument, and contemporary opponents of theism have tried them all.</p>\n",
       "    <p>Phenomenon: xnli-addition-neutral</p>\n",
       "    </body>\n",
       "    "
      ],
      "text/plain": [
       "<IPython.core.display.HTML object>"
      ]
     },
     "metadata": {},
     "output_type": "display_data"
    },
    {
     "name": "stdout",
     "output_type": "stream",
     "text": [
      "\n",
      " To accept it press enter or to annotate again enter any other string: \n"
     ]
    },
    {
     "name": "stderr",
     "output_type": "stream",
     "text": [
      "\r",
      " 55%|███████████████████████████████████████████████████████████▉                                                 | 55/100 [02:20<02:56,  3.92s/it]"
     ]
    },
    {
     "name": "stdout",
     "output_type": "stream",
     "text": [
      "-----> For this sample we compare the Incorrect translation with the Good translation.\n",
      "\n"
     ]
    },
    {
     "data": {
      "text/html": [
       "\n",
       "    <style>\n",
       "    mark {\n",
       "        background-color: #4CAF50;\n",
       "        color: black;\n",
       "      }\n",
       "    </style>\n",
       "    <body>\n",
       "    <h3>3551</h3>\n",
       "    <p>Source: ऐट्टा (Atta) अकेला ही चेक रिपब्लिक गया।</p>\n",
       "    <p>Reference: Atta went to the Czech Republic alone.</p>\n",
       "    <p>Good translation: Atta went alone to the Czech Republic.</p>\n",
       "    <p>Incorrect: For Atta's travel to the Czech Republic, see ibid.</p>\n",
       "    <p>Phenomenon: xnli-addition-neutral</p>\n",
       "    </body>\n",
       "    "
      ],
      "text/plain": [
       "<IPython.core.display.HTML object>"
      ]
     },
     "metadata": {},
     "output_type": "display_data"
    },
    {
     "name": "stdout",
     "output_type": "stream",
     "text": [
      "No automatic translations for this sample.\n",
      "Enter the incorrect translation with the < and > to show the error spans (exit to stop, skip to skip): \n",
      "a\n",
      "Enter the correct/reference translation with the < and > to show the error spans (exit to stop, skip to skip): \n",
      "a\n"
     ]
    },
    {
     "data": {
      "text/html": [
       "\n",
       "    <style>\n",
       "    mark {\n",
       "        background-color: #4CAF50;\n",
       "        color: black;\n",
       "      }\n",
       "    </style>\n",
       "    <body>\n",
       "    <h3>3551</h3>\n",
       "    <p>Source: ऐट्टा (Atta) अकेला ही चेक रिपब्लिक गया।</p>\n",
       "    <p>Reference: Atta went to the Czech Republic alone.</p>\n",
       "    <p>Good translation: Atta went alone to the Czech Republic.</p>\n",
       "    <p>Incorrect: For Atta's travel to the Czech Republic, see ibid.</p>\n",
       "    <p>Phenomenon: xnli-addition-neutral</p>\n",
       "    </body>\n",
       "    "
      ],
      "text/plain": [
       "<IPython.core.display.HTML object>"
      ]
     },
     "metadata": {},
     "output_type": "display_data"
    },
    {
     "name": "stdout",
     "output_type": "stream",
     "text": [
      "\n",
      " To accept it press enter or to annotate again enter any other string: \n"
     ]
    },
    {
     "name": "stderr",
     "output_type": "stream",
     "text": [
      "\r",
      " 56%|█████████████████████████████████████████████████████████████                                                | 56/100 [02:22<02:23,  3.26s/it]"
     ]
    },
    {
     "name": "stdout",
     "output_type": "stream",
     "text": [
      "-----> For this sample we compare the Incorrect translation with the Good translation.\n",
      "\n"
     ]
    },
    {
     "data": {
      "text/html": [
       "\n",
       "    <style>\n",
       "    mark {\n",
       "        background-color: #4CAF50;\n",
       "        color: black;\n",
       "      }\n",
       "    </style>\n",
       "    <body>\n",
       "    <h3>7278</h3>\n",
       "    <p>Source: Free Library'nin Citywide Friends üyeleri 16 sayfadan oluşan haber bültenleri alır.</p>\n",
       "    <p>Reference: Members of the Citywide Friends of the Free Library receive newsletters consisting of 16 pages.</p>\n",
       "    <p>Good translation: Citywide Friends members of the Free Library receive 16 pages of newsletters.</p>\n",
       "    <p>Incorrect: As a member of the Citywide Friends of the Free Library you will receive a quarterly newsletter informing you of library events and legislative issues.</p>\n",
       "    <p>Phenomenon: xnli-addition-neutral</p>\n",
       "    </body>\n",
       "    "
      ],
      "text/plain": [
       "<IPython.core.display.HTML object>"
      ]
     },
     "metadata": {},
     "output_type": "display_data"
    },
    {
     "name": "stdout",
     "output_type": "stream",
     "text": [
      "No automatic translations for this sample.\n",
      "Enter the incorrect translation with the < and > to show the error spans (exit to stop, skip to skip): \n",
      "a\n",
      "Enter the correct/reference translation with the < and > to show the error spans (exit to stop, skip to skip): \n",
      "a\n"
     ]
    },
    {
     "data": {
      "text/html": [
       "\n",
       "    <style>\n",
       "    mark {\n",
       "        background-color: #4CAF50;\n",
       "        color: black;\n",
       "      }\n",
       "    </style>\n",
       "    <body>\n",
       "    <h3>7278</h3>\n",
       "    <p>Source: Free Library'nin Citywide Friends üyeleri 16 sayfadan oluşan haber bültenleri alır.</p>\n",
       "    <p>Reference: Members of the Citywide Friends of the Free Library receive newsletters consisting of 16 pages.</p>\n",
       "    <p>Good translation: Citywide Friends members of the Free Library receive 16 pages of newsletters.</p>\n",
       "    <p>Incorrect: As a member of the Citywide Friends of the Free Library you will receive a quarterly newsletter informing you of library events and legislative issues.</p>\n",
       "    <p>Phenomenon: xnli-addition-neutral</p>\n",
       "    </body>\n",
       "    "
      ],
      "text/plain": [
       "<IPython.core.display.HTML object>"
      ]
     },
     "metadata": {},
     "output_type": "display_data"
    },
    {
     "name": "stdout",
     "output_type": "stream",
     "text": [
      "\n",
      " To accept it press enter or to annotate again enter any other string: \n"
     ]
    },
    {
     "name": "stderr",
     "output_type": "stream",
     "text": [
      "\r",
      " 57%|██████████████████████████████████████████████████████████████▏                                              | 57/100 [02:23<01:58,  2.75s/it]"
     ]
    },
    {
     "name": "stdout",
     "output_type": "stream",
     "text": [
      "-----> For this sample we compare the Incorrect translation with the Good translation.\n",
      "\n"
     ]
    },
    {
     "data": {
      "text/html": [
       "\n",
       "    <style>\n",
       "    mark {\n",
       "        background-color: #4CAF50;\n",
       "        color: black;\n",
       "      }\n",
       "    </style>\n",
       "    <body>\n",
       "    <h3>34980</h3>\n",
       "    <p>Source: Посетители Музея естественной истории могут посмотреть фильм о Барцино-Барселоне.</p>\n",
       "    <p>Reference: Visitors at the Natural History Museum can see a film about Barcino-Barcelona.</p>\n",
       "    <p>Good translation: Visitors to the Natural History Museum can watch a film about Barcino-Barcelona.</p>\n",
       "    <p>Incorrect: Visitors can also see a 28-minute  virtual history  multimedia film about Barcino-Barcelona.</p>\n",
       "    <p>Phenomenon: xnli-addition-neutral</p>\n",
       "    </body>\n",
       "    "
      ],
      "text/plain": [
       "<IPython.core.display.HTML object>"
      ]
     },
     "metadata": {},
     "output_type": "display_data"
    },
    {
     "name": "stdout",
     "output_type": "stream",
     "text": [
      "No automatic translations for this sample.\n",
      "Enter the incorrect translation with the < and > to show the error spans (exit to stop, skip to skip): \n",
      "a\n",
      "Enter the correct/reference translation with the < and > to show the error spans (exit to stop, skip to skip): \n",
      "a\n"
     ]
    },
    {
     "data": {
      "text/html": [
       "\n",
       "    <style>\n",
       "    mark {\n",
       "        background-color: #4CAF50;\n",
       "        color: black;\n",
       "      }\n",
       "    </style>\n",
       "    <body>\n",
       "    <h3>34980</h3>\n",
       "    <p>Source: Посетители Музея естественной истории могут посмотреть фильм о Барцино-Барселоне.</p>\n",
       "    <p>Reference: Visitors at the Natural History Museum can see a film about Barcino-Barcelona.</p>\n",
       "    <p>Good translation: Visitors to the Natural History Museum can watch a film about Barcino-Barcelona.</p>\n",
       "    <p>Incorrect: Visitors can also see a 28-minute  virtual history  multimedia film about Barcino-Barcelona.</p>\n",
       "    <p>Phenomenon: xnli-addition-neutral</p>\n",
       "    </body>\n",
       "    "
      ],
      "text/plain": [
       "<IPython.core.display.HTML object>"
      ]
     },
     "metadata": {},
     "output_type": "display_data"
    },
    {
     "name": "stdout",
     "output_type": "stream",
     "text": [
      "\n",
      " To accept it press enter or to annotate again enter any other string: \n"
     ]
    },
    {
     "name": "stderr",
     "output_type": "stream",
     "text": [
      "\r",
      " 58%|███████████████████████████████████████████████████████████████▏                                             | 58/100 [02:25<01:39,  2.36s/it]"
     ]
    },
    {
     "name": "stdout",
     "output_type": "stream",
     "text": [
      "-----> For this sample we compare the Incorrect translation with the Good translation.\n",
      "\n"
     ]
    },
    {
     "data": {
      "text/html": [
       "\n",
       "    <style>\n",
       "    mark {\n",
       "        background-color: #4CAF50;\n",
       "        color: black;\n",
       "      }\n",
       "    </style>\n",
       "    <body>\n",
       "    <h3>28470</h3>\n",
       "    <p>Source: Други агенции докладваха обаждането към ОАЕ на 17-ти май.</p>\n",
       "    <p>Reference: Other agencies reported the call to the UAE on May 17.</p>\n",
       "    <p>Good translation: Other agencies reported the call to the UAE on May 17th.</p>\n",
       "    <p>Incorrect: The call to the UAE was originally reported by the CIA on May 16.</p>\n",
       "    <p>Phenomenon: xnli-addition-neutral</p>\n",
       "    </body>\n",
       "    "
      ],
      "text/plain": [
       "<IPython.core.display.HTML object>"
      ]
     },
     "metadata": {},
     "output_type": "display_data"
    },
    {
     "name": "stdout",
     "output_type": "stream",
     "text": [
      "No automatic translations for this sample.\n",
      "Enter the incorrect translation with the < and > to show the error spans (exit to stop, skip to skip): \n",
      "a\n",
      "Enter the correct/reference translation with the < and > to show the error spans (exit to stop, skip to skip): \n",
      "a\n"
     ]
    },
    {
     "data": {
      "text/html": [
       "\n",
       "    <style>\n",
       "    mark {\n",
       "        background-color: #4CAF50;\n",
       "        color: black;\n",
       "      }\n",
       "    </style>\n",
       "    <body>\n",
       "    <h3>28470</h3>\n",
       "    <p>Source: Други агенции докладваха обаждането към ОАЕ на 17-ти май.</p>\n",
       "    <p>Reference: Other agencies reported the call to the UAE on May 17.</p>\n",
       "    <p>Good translation: Other agencies reported the call to the UAE on May 17th.</p>\n",
       "    <p>Incorrect: The call to the UAE was originally reported by the CIA on May 16.</p>\n",
       "    <p>Phenomenon: xnli-addition-neutral</p>\n",
       "    </body>\n",
       "    "
      ],
      "text/plain": [
       "<IPython.core.display.HTML object>"
      ]
     },
     "metadata": {},
     "output_type": "display_data"
    },
    {
     "name": "stdout",
     "output_type": "stream",
     "text": [
      "\n",
      " To accept it press enter or to annotate again enter any other string: \n"
     ]
    },
    {
     "name": "stderr",
     "output_type": "stream",
     "text": [
      "\r",
      " 59%|████████████████████████████████████████████████████████████████▎                                            | 59/100 [02:26<01:24,  2.05s/it]"
     ]
    },
    {
     "name": "stdout",
     "output_type": "stream",
     "text": [
      "-----> For this sample we compare the Incorrect translation with the Good translation.\n",
      "\n"
     ]
    },
    {
     "data": {
      "text/html": [
       "\n",
       "    <style>\n",
       "    mark {\n",
       "        background-color: #4CAF50;\n",
       "        color: black;\n",
       "      }\n",
       "    </style>\n",
       "    <body>\n",
       "    <h3>28469</h3>\n",
       "    <p>Source: Роди се Стария съюз, съглашение между Франция и Шотландия.</p>\n",
       "    <p>Reference: The Auld Alliance, a treaty of accord between France and Scotland, was born.</p>\n",
       "    <p>Good translation: The Old Union was born, an agreement between France and Scotland.</p>\n",
       "    <p>Incorrect: The Auld Alliance between France and Scotland has been around for hundreds of years.</p>\n",
       "    <p>Phenomenon: xnli-addition-neutral</p>\n",
       "    </body>\n",
       "    "
      ],
      "text/plain": [
       "<IPython.core.display.HTML object>"
      ]
     },
     "metadata": {},
     "output_type": "display_data"
    },
    {
     "name": "stdout",
     "output_type": "stream",
     "text": [
      "No automatic translations for this sample.\n",
      "Enter the incorrect translation with the < and > to show the error spans (exit to stop, skip to skip): \n",
      "a\n",
      "Enter the correct/reference translation with the < and > to show the error spans (exit to stop, skip to skip): \n",
      "a\n"
     ]
    },
    {
     "data": {
      "text/html": [
       "\n",
       "    <style>\n",
       "    mark {\n",
       "        background-color: #4CAF50;\n",
       "        color: black;\n",
       "      }\n",
       "    </style>\n",
       "    <body>\n",
       "    <h3>28469</h3>\n",
       "    <p>Source: Роди се Стария съюз, съглашение между Франция и Шотландия.</p>\n",
       "    <p>Reference: The Auld Alliance, a treaty of accord between France and Scotland, was born.</p>\n",
       "    <p>Good translation: The Old Union was born, an agreement between France and Scotland.</p>\n",
       "    <p>Incorrect: The Auld Alliance between France and Scotland has been around for hundreds of years.</p>\n",
       "    <p>Phenomenon: xnli-addition-neutral</p>\n",
       "    </body>\n",
       "    "
      ],
      "text/plain": [
       "<IPython.core.display.HTML object>"
      ]
     },
     "metadata": {},
     "output_type": "display_data"
    },
    {
     "name": "stdout",
     "output_type": "stream",
     "text": [
      "\n",
      " To accept it press enter or to annotate again enter any other string: \n"
     ]
    },
    {
     "name": "stderr",
     "output_type": "stream",
     "text": [
      "\r",
      " 60%|█████████████████████████████████████████████████████████████████▍                                           | 60/100 [02:27<01:13,  1.84s/it]"
     ]
    },
    {
     "name": "stdout",
     "output_type": "stream",
     "text": [
      "-----> For this sample we compare the Incorrect translation with the Good translation.\n",
      "\n"
     ]
    },
    {
     "data": {
      "text/html": [
       "\n",
       "    <style>\n",
       "    mark {\n",
       "        background-color: #4CAF50;\n",
       "        color: black;\n",
       "      }\n",
       "    </style>\n",
       "    <body>\n",
       "    <h3>8241</h3>\n",
       "    <p>Source: Ninasitara  kixtu hicho hicho pia.</p>\n",
       "    <p>Reference: I'm covering the same stuff.</p>\n",
       "    <p>Good translation: I'm looking forward to the same thing.</p>\n",
       "    <p>Incorrect: I cover the same stuff as the other magazines.</p>\n",
       "    <p>Phenomenon: xnli-addition-neutral</p>\n",
       "    </body>\n",
       "    "
      ],
      "text/plain": [
       "<IPython.core.display.HTML object>"
      ]
     },
     "metadata": {},
     "output_type": "display_data"
    },
    {
     "name": "stdout",
     "output_type": "stream",
     "text": [
      "No automatic translations for this sample.\n",
      "Enter the incorrect translation with the < and > to show the error spans (exit to stop, skip to skip): \n",
      "a\n",
      "Enter the correct/reference translation with the < and > to show the error spans (exit to stop, skip to skip): \n",
      "a\n"
     ]
    },
    {
     "data": {
      "text/html": [
       "\n",
       "    <style>\n",
       "    mark {\n",
       "        background-color: #4CAF50;\n",
       "        color: black;\n",
       "      }\n",
       "    </style>\n",
       "    <body>\n",
       "    <h3>8241</h3>\n",
       "    <p>Source: Ninasitara  kixtu hicho hicho pia.</p>\n",
       "    <p>Reference: I'm covering the same stuff.</p>\n",
       "    <p>Good translation: I'm looking forward to the same thing.</p>\n",
       "    <p>Incorrect: I cover the same stuff as the other magazines.</p>\n",
       "    <p>Phenomenon: xnli-addition-neutral</p>\n",
       "    </body>\n",
       "    "
      ],
      "text/plain": [
       "<IPython.core.display.HTML object>"
      ]
     },
     "metadata": {},
     "output_type": "display_data"
    },
    {
     "name": "stdout",
     "output_type": "stream",
     "text": [
      "\n",
      " To accept it press enter or to annotate again enter any other string: \n"
     ]
    },
    {
     "name": "stderr",
     "output_type": "stream",
     "text": [
      "\r",
      " 61%|██████████████████████████████████████████████████████████████████▍                                          | 61/100 [02:29<01:07,  1.73s/it]"
     ]
    },
    {
     "name": "stdout",
     "output_type": "stream",
     "text": [
      "-----> For this sample we compare the Incorrect translation with the Good translation.\n",
      "\n"
     ]
    },
    {
     "data": {
      "text/html": [
       "\n",
       "    <style>\n",
       "    mark {\n",
       "        background-color: #4CAF50;\n",
       "        color: black;\n",
       "      }\n",
       "    </style>\n",
       "    <body>\n",
       "    <h3>7989</h3>\n",
       "    <p>Source: نیوزویک ان تمام غیرقانونی کارروائیوں کو آشکارہ کرتا ہے جو پرو رسلنگ شائقین کی دلچسپی کو برقرار رکھنے کے لئے کرتا ہے۔</p>\n",
       "    <p>Reference: Newsweek exposes the illegal actions pro wrestling takes to keep fans interested.</p>\n",
       "    <p>Good translation: Newsweek exposes all the illegal activities that Pro Wrestling does to keep fans interested.</p>\n",
       "    <p>Incorrect: Newsweek exposes how far the pro wrestling industry will go to keep fans interested.</p>\n",
       "    <p>Phenomenon: xnli-addition-neutral</p>\n",
       "    </body>\n",
       "    "
      ],
      "text/plain": [
       "<IPython.core.display.HTML object>"
      ]
     },
     "metadata": {},
     "output_type": "display_data"
    },
    {
     "name": "stdout",
     "output_type": "stream",
     "text": [
      "No automatic translations for this sample.\n",
      "Enter the incorrect translation with the < and > to show the error spans (exit to stop, skip to skip): \n",
      "a\n",
      "Enter the correct/reference translation with the < and > to show the error spans (exit to stop, skip to skip): \n",
      "a\n"
     ]
    },
    {
     "data": {
      "text/html": [
       "\n",
       "    <style>\n",
       "    mark {\n",
       "        background-color: #4CAF50;\n",
       "        color: black;\n",
       "      }\n",
       "    </style>\n",
       "    <body>\n",
       "    <h3>7989</h3>\n",
       "    <p>Source: نیوزویک ان تمام غیرقانونی کارروائیوں کو آشکارہ کرتا ہے جو پرو رسلنگ شائقین کی دلچسپی کو برقرار رکھنے کے لئے کرتا ہے۔</p>\n",
       "    <p>Reference: Newsweek exposes the illegal actions pro wrestling takes to keep fans interested.</p>\n",
       "    <p>Good translation: Newsweek exposes all the illegal activities that Pro Wrestling does to keep fans interested.</p>\n",
       "    <p>Incorrect: Newsweek exposes how far the pro wrestling industry will go to keep fans interested.</p>\n",
       "    <p>Phenomenon: xnli-addition-neutral</p>\n",
       "    </body>\n",
       "    "
      ],
      "text/plain": [
       "<IPython.core.display.HTML object>"
      ]
     },
     "metadata": {},
     "output_type": "display_data"
    },
    {
     "name": "stdout",
     "output_type": "stream",
     "text": [
      "\n",
      " To accept it press enter or to annotate again enter any other string: \n"
     ]
    },
    {
     "name": "stderr",
     "output_type": "stream",
     "text": [
      "\r",
      " 62%|███████████████████████████████████████████████████████████████████▌                                         | 62/100 [02:30<01:06,  1.75s/it]"
     ]
    },
    {
     "name": "stdout",
     "output_type": "stream",
     "text": [
      "-----> For this sample we compare the Incorrect translation with the Good translation.\n",
      "\n"
     ]
    },
    {
     "data": {
      "text/html": [
       "\n",
       "    <style>\n",
       "    mark {\n",
       "        background-color: #4CAF50;\n",
       "        color: black;\n",
       "      }\n",
       "    </style>\n",
       "    <body>\n",
       "    <h3>7931</h3>\n",
       "    <p>Source: ایسا کیسے کر سکتا ہے؟</p>\n",
       "    <p>Reference: How can one do that?</p>\n",
       "    <p>Good translation: How can that be?</p>\n",
       "    <p>Incorrect: How can one do such a bad thing?</p>\n",
       "    <p>Phenomenon: xnli-addition-neutral</p>\n",
       "    </body>\n",
       "    "
      ],
      "text/plain": [
       "<IPython.core.display.HTML object>"
      ]
     },
     "metadata": {},
     "output_type": "display_data"
    },
    {
     "name": "stdout",
     "output_type": "stream",
     "text": [
      "No automatic translations for this sample.\n",
      "Enter the incorrect translation with the < and > to show the error spans (exit to stop, skip to skip): \n",
      "a\n",
      "Enter the correct/reference translation with the < and > to show the error spans (exit to stop, skip to skip): \n",
      "a\n"
     ]
    },
    {
     "data": {
      "text/html": [
       "\n",
       "    <style>\n",
       "    mark {\n",
       "        background-color: #4CAF50;\n",
       "        color: black;\n",
       "      }\n",
       "    </style>\n",
       "    <body>\n",
       "    <h3>7931</h3>\n",
       "    <p>Source: ایسا کیسے کر سکتا ہے؟</p>\n",
       "    <p>Reference: How can one do that?</p>\n",
       "    <p>Good translation: How can that be?</p>\n",
       "    <p>Incorrect: How can one do such a bad thing?</p>\n",
       "    <p>Phenomenon: xnli-addition-neutral</p>\n",
       "    </body>\n",
       "    "
      ],
      "text/plain": [
       "<IPython.core.display.HTML object>"
      ]
     },
     "metadata": {},
     "output_type": "display_data"
    },
    {
     "name": "stdout",
     "output_type": "stream",
     "text": [
      "\n",
      " To accept it press enter or to annotate again enter any other string: \n"
     ]
    },
    {
     "name": "stderr",
     "output_type": "stream",
     "text": [
      "\r",
      " 63%|████████████████████████████████████████████████████████████████████▋                                        | 63/100 [02:32<01:01,  1.66s/it]"
     ]
    },
    {
     "name": "stdout",
     "output_type": "stream",
     "text": [
      "-----> For this sample we compare the Incorrect translation with the Good translation.\n",
      "\n"
     ]
    },
    {
     "data": {
      "text/html": [
       "\n",
       "    <style>\n",
       "    mark {\n",
       "        background-color: #4CAF50;\n",
       "        color: black;\n",
       "      }\n",
       "    </style>\n",
       "    <body>\n",
       "    <h3>16570</h3>\n",
       "    <p>Source: An dieser Stelle legt der Priester seine Hand auf das Messbuch und verschwindet.</p>\n",
       "    <p>Reference: At this point the priest places his hand on the missal and vanishes.</p>\n",
       "    <p>Good translation: At this point the priest puts his hand on the missal and disappears.</p>\n",
       "    <p>Incorrect: The moment the priest places his hand on the missal, a miracle will occur and he will disappear.</p>\n",
       "    <p>Phenomenon: xnli-addition-neutral</p>\n",
       "    </body>\n",
       "    "
      ],
      "text/plain": [
       "<IPython.core.display.HTML object>"
      ]
     },
     "metadata": {},
     "output_type": "display_data"
    },
    {
     "name": "stdout",
     "output_type": "stream",
     "text": [
      "No automatic translations for this sample.\n",
      "Enter the incorrect translation with the < and > to show the error spans (exit to stop, skip to skip): \n",
      "a\n",
      "Enter the correct/reference translation with the < and > to show the error spans (exit to stop, skip to skip): \n",
      "a\n"
     ]
    },
    {
     "data": {
      "text/html": [
       "\n",
       "    <style>\n",
       "    mark {\n",
       "        background-color: #4CAF50;\n",
       "        color: black;\n",
       "      }\n",
       "    </style>\n",
       "    <body>\n",
       "    <h3>16570</h3>\n",
       "    <p>Source: An dieser Stelle legt der Priester seine Hand auf das Messbuch und verschwindet.</p>\n",
       "    <p>Reference: At this point the priest places his hand on the missal and vanishes.</p>\n",
       "    <p>Good translation: At this point the priest puts his hand on the missal and disappears.</p>\n",
       "    <p>Incorrect: The moment the priest places his hand on the missal, a miracle will occur and he will disappear.</p>\n",
       "    <p>Phenomenon: xnli-addition-neutral</p>\n",
       "    </body>\n",
       "    "
      ],
      "text/plain": [
       "<IPython.core.display.HTML object>"
      ]
     },
     "metadata": {},
     "output_type": "display_data"
    },
    {
     "name": "stdout",
     "output_type": "stream",
     "text": [
      "\n",
      " To accept it press enter or to annotate again enter any other string: \n"
     ]
    },
    {
     "name": "stderr",
     "output_type": "stream",
     "text": [
      "\r",
      " 64%|█████████████████████████████████████████████████████████████████████▊                                       | 64/100 [02:33<00:56,  1.57s/it]"
     ]
    },
    {
     "name": "stdout",
     "output_type": "stream",
     "text": [
      "-----> For this sample we compare the Incorrect translation with the Good translation.\n",
      "\n"
     ]
    },
    {
     "data": {
      "text/html": [
       "\n",
       "    <style>\n",
       "    mark {\n",
       "        background-color: #4CAF50;\n",
       "        color: black;\n",
       "      }\n",
       "    </style>\n",
       "    <body>\n",
       "    <h3>16684</h3>\n",
       "    <p>Source: Diese Probleme würden Elfenbeinturm-Liberalisten nicht dazu veranlassen, zweimal über sie nachzudenken.</p>\n",
       "    <p>Reference: These issues would not cause ivory-tower libertarians to think twice about them.</p>\n",
       "    <p>Good translation: These problems would not cause ivory tower liberalists to think twice about them.</p>\n",
       "    <p>Incorrect: Now, these are not issues that ivory-tower libertarians would ignore.</p>\n",
       "    <p>Phenomenon: xnli-omission-contradiction</p>\n",
       "    </body>\n",
       "    "
      ],
      "text/plain": [
       "<IPython.core.display.HTML object>"
      ]
     },
     "metadata": {},
     "output_type": "display_data"
    },
    {
     "name": "stdout",
     "output_type": "stream",
     "text": [
      "No automatic translations for this sample.\n",
      "Enter the incorrect translation with the < and > to show the error spans (exit to stop, skip to skip): \n",
      "a\n",
      "Enter the correct/reference translation with the < and > to show the error spans (exit to stop, skip to skip): \n",
      "a\n"
     ]
    },
    {
     "data": {
      "text/html": [
       "\n",
       "    <style>\n",
       "    mark {\n",
       "        background-color: #4CAF50;\n",
       "        color: black;\n",
       "      }\n",
       "    </style>\n",
       "    <body>\n",
       "    <h3>16684</h3>\n",
       "    <p>Source: Diese Probleme würden Elfenbeinturm-Liberalisten nicht dazu veranlassen, zweimal über sie nachzudenken.</p>\n",
       "    <p>Reference: These issues would not cause ivory-tower libertarians to think twice about them.</p>\n",
       "    <p>Good translation: These problems would not cause ivory tower liberalists to think twice about them.</p>\n",
       "    <p>Incorrect: Now, these are not issues that ivory-tower libertarians would ignore.</p>\n",
       "    <p>Phenomenon: xnli-omission-contradiction</p>\n",
       "    </body>\n",
       "    "
      ],
      "text/plain": [
       "<IPython.core.display.HTML object>"
      ]
     },
     "metadata": {},
     "output_type": "display_data"
    },
    {
     "name": "stdout",
     "output_type": "stream",
     "text": [
      "\n",
      " To accept it press enter or to annotate again enter any other string: \n"
     ]
    },
    {
     "name": "stderr",
     "output_type": "stream",
     "text": [
      "\r",
      " 65%|██████████████████████████████████████████████████████████████████████▊                                      | 65/100 [02:35<00:51,  1.48s/it]"
     ]
    },
    {
     "name": "stdout",
     "output_type": "stream",
     "text": [
      "-----> For this sample we compare the Incorrect translation with the Good translation.\n",
      "\n"
     ]
    },
    {
     "data": {
      "text/html": [
       "\n",
       "    <style>\n",
       "    mark {\n",
       "        background-color: #4CAF50;\n",
       "        color: black;\n",
       "      }\n",
       "    </style>\n",
       "    <body>\n",
       "    <h3>32840</h3>\n",
       "    <p>Source: Οι ομιλητές που θέλουν να εντυπωσιάσουν το κοινό τους ξέρουν ότι πρέπει να γράψουν εν συντομία τα βασικά σημεία και τα γεγονότα, να τα ανακοινώσουν, να επαναλάβουν, να δραματοποιήσουν, να εξηγήσουν και να τα διανθίσουν</p>\n",
       "    <p>Reference: Speakers who want to impress their audiences know they have to telegraph key points and facts, then announce them, then repeat, dramatize, explain, and embellish.</p>\n",
       "    <p>Good translation: Speakers who want to impress their audience know that they need to write down the key points and facts, announce them, repeat them, dramatize them, explain them and embellish them.</p>\n",
       "    <p>Incorrect: Speakers who want to impress their audience should speak accurately and not repeat themselves.</p>\n",
       "    <p>Phenomenon: xnli-omission-contradiction</p>\n",
       "    </body>\n",
       "    "
      ],
      "text/plain": [
       "<IPython.core.display.HTML object>"
      ]
     },
     "metadata": {},
     "output_type": "display_data"
    },
    {
     "name": "stdout",
     "output_type": "stream",
     "text": [
      "No automatic translations for this sample.\n",
      "Enter the incorrect translation with the < and > to show the error spans (exit to stop, skip to skip): \n",
      "a\n",
      "Enter the correct/reference translation with the < and > to show the error spans (exit to stop, skip to skip): \n",
      "a\n"
     ]
    },
    {
     "data": {
      "text/html": [
       "\n",
       "    <style>\n",
       "    mark {\n",
       "        background-color: #4CAF50;\n",
       "        color: black;\n",
       "      }\n",
       "    </style>\n",
       "    <body>\n",
       "    <h3>32840</h3>\n",
       "    <p>Source: Οι ομιλητές που θέλουν να εντυπωσιάσουν το κοινό τους ξέρουν ότι πρέπει να γράψουν εν συντομία τα βασικά σημεία και τα γεγονότα, να τα ανακοινώσουν, να επαναλάβουν, να δραματοποιήσουν, να εξηγήσουν και να τα διανθίσουν</p>\n",
       "    <p>Reference: Speakers who want to impress their audiences know they have to telegraph key points and facts, then announce them, then repeat, dramatize, explain, and embellish.</p>\n",
       "    <p>Good translation: Speakers who want to impress their audience know that they need to write down the key points and facts, announce them, repeat them, dramatize them, explain them and embellish them.</p>\n",
       "    <p>Incorrect: Speakers who want to impress their audience should speak accurately and not repeat themselves.</p>\n",
       "    <p>Phenomenon: xnli-omission-contradiction</p>\n",
       "    </body>\n",
       "    "
      ],
      "text/plain": [
       "<IPython.core.display.HTML object>"
      ]
     },
     "metadata": {},
     "output_type": "display_data"
    },
    {
     "name": "stdout",
     "output_type": "stream",
     "text": [
      "\n",
      " To accept it press enter or to annotate again enter any other string: \n"
     ]
    },
    {
     "name": "stderr",
     "output_type": "stream",
     "text": [
      "\r",
      " 66%|███████████████████████████████████████████████████████████████████████▉                                     | 66/100 [02:36<00:48,  1.44s/it]"
     ]
    },
    {
     "name": "stdout",
     "output_type": "stream",
     "text": [
      "-----> For this sample we compare the Incorrect translation with the Good translation.\n",
      "\n"
     ]
    },
    {
     "data": {
      "text/html": [
       "\n",
       "    <style>\n",
       "    mark {\n",
       "        background-color: #4CAF50;\n",
       "        color: black;\n",
       "      }\n",
       "    </style>\n",
       "    <body>\n",
       "    <h3>32838</h3>\n",
       "    <p>Source: Ααα, δεν αισθάνεστε σαν ότι αυτό, αυτή είναι μια απόφαση με την οποία είστε άνετοι επειδή</p>\n",
       "    <p>Reference: uh-huh you don't feel as though that that's a decision you're comfortable with because</p>\n",
       "    <p>Good translation: Aaa, you do not feel like this, this is a decision you are comfortable with because</p>\n",
       "    <p>Incorrect: You are comfortable with that decision.</p>\n",
       "    <p>Phenomenon: xnli-omission-contradiction</p>\n",
       "    </body>\n",
       "    "
      ],
      "text/plain": [
       "<IPython.core.display.HTML object>"
      ]
     },
     "metadata": {},
     "output_type": "display_data"
    },
    {
     "name": "stdout",
     "output_type": "stream",
     "text": [
      "No automatic translations for this sample.\n",
      "Enter the incorrect translation with the < and > to show the error spans (exit to stop, skip to skip): \n",
      "a\n",
      "Enter the correct/reference translation with the < and > to show the error spans (exit to stop, skip to skip): \n",
      "\n"
     ]
    },
    {
     "data": {
      "text/html": [
       "\n",
       "    <style>\n",
       "    mark {\n",
       "        background-color: #4CAF50;\n",
       "        color: black;\n",
       "      }\n",
       "    </style>\n",
       "    <body>\n",
       "    <h3>32838</h3>\n",
       "    <p>Source: Ααα, δεν αισθάνεστε σαν ότι αυτό, αυτή είναι μια απόφαση με την οποία είστε άνετοι επειδή</p>\n",
       "    <p>Reference: uh-huh you don't feel as though that that's a decision you're comfortable with because</p>\n",
       "    <p>Good translation: Aaa, you do not feel like this, this is a decision you are comfortable with because</p>\n",
       "    <p>Incorrect: You are comfortable with that decision.</p>\n",
       "    <p>Phenomenon: xnli-omission-contradiction</p>\n",
       "    </body>\n",
       "    "
      ],
      "text/plain": [
       "<IPython.core.display.HTML object>"
      ]
     },
     "metadata": {},
     "output_type": "display_data"
    },
    {
     "name": "stdout",
     "output_type": "stream",
     "text": [
      "\n",
      " To accept it press enter or to annotate again enter any other string: a\n",
      "Enter the incorrect translation with the < and > to show the error spans (exit to stop, skip to skip): \n",
      "a\n",
      "Enter the correct/reference translation with the < and > to show the error spans (exit to stop, skip to skip): \n",
      "a\n"
     ]
    },
    {
     "data": {
      "text/html": [
       "\n",
       "    <style>\n",
       "    mark {\n",
       "        background-color: #4CAF50;\n",
       "        color: black;\n",
       "      }\n",
       "    </style>\n",
       "    <body>\n",
       "    <h3>32838</h3>\n",
       "    <p>Source: Ααα, δεν αισθάνεστε σαν ότι αυτό, αυτή είναι μια απόφαση με την οποία είστε άνετοι επειδή</p>\n",
       "    <p>Reference: uh-huh you don't feel as though that that's a decision you're comfortable with because</p>\n",
       "    <p>Good translation: Aaa, you do not feel like this, this is a decision you are comfortable with because</p>\n",
       "    <p>Incorrect: You are comfortable with that decision.</p>\n",
       "    <p>Phenomenon: xnli-omission-contradiction</p>\n",
       "    </body>\n",
       "    "
      ],
      "text/plain": [
       "<IPython.core.display.HTML object>"
      ]
     },
     "metadata": {},
     "output_type": "display_data"
    },
    {
     "name": "stdout",
     "output_type": "stream",
     "text": [
      "\n",
      " To accept it press enter or to annotate again enter any other string: \n"
     ]
    },
    {
     "name": "stderr",
     "output_type": "stream",
     "text": [
      "\r",
      " 67%|█████████████████████████████████████████████████████████████████████████                                    | 67/100 [02:45<02:00,  3.64s/it]"
     ]
    },
    {
     "name": "stdout",
     "output_type": "stream",
     "text": [
      "-----> For this sample we compare the Incorrect translation with the Good translation.\n",
      "\n"
     ]
    },
    {
     "data": {
      "text/html": [
       "\n",
       "    <style>\n",
       "    mark {\n",
       "        background-color: #4CAF50;\n",
       "        color: black;\n",
       "      }\n",
       "    </style>\n",
       "    <body>\n",
       "    <h3>8361</h3>\n",
       "    <p>Source: Mazungumzo pia yalikuwa na kumbukumbu ya kuungua kwa watu.</p>\n",
       "    <p>Reference: The conversation also contained a reference to the burning of people.</p>\n",
       "    <p>Good translation: The conversations also had memories of burning people.</p>\n",
       "    <p>Incorrect: The conversation referencing burning of people is totally wrong</p>\n",
       "    <p>Phenomenon: xnli-omission-contradiction</p>\n",
       "    </body>\n",
       "    "
      ],
      "text/plain": [
       "<IPython.core.display.HTML object>"
      ]
     },
     "metadata": {},
     "output_type": "display_data"
    },
    {
     "name": "stdout",
     "output_type": "stream",
     "text": [
      "No automatic translations for this sample.\n",
      "Enter the incorrect translation with the < and > to show the error spans (exit to stop, skip to skip): \n",
      "\n",
      "Enter the correct/reference translation with the < and > to show the error spans (exit to stop, skip to skip): \n",
      "\n"
     ]
    },
    {
     "data": {
      "text/html": [
       "\n",
       "    <style>\n",
       "    mark {\n",
       "        background-color: #4CAF50;\n",
       "        color: black;\n",
       "      }\n",
       "    </style>\n",
       "    <body>\n",
       "    <h3>8361</h3>\n",
       "    <p>Source: Mazungumzo pia yalikuwa na kumbukumbu ya kuungua kwa watu.</p>\n",
       "    <p>Reference: The conversation also contained a reference to the burning of people.</p>\n",
       "    <p>Good translation: The conversations also had memories of burning people.</p>\n",
       "    <p>Incorrect: The conversation referencing burning of people is totally wrong</p>\n",
       "    <p>Phenomenon: xnli-omission-contradiction</p>\n",
       "    </body>\n",
       "    "
      ],
      "text/plain": [
       "<IPython.core.display.HTML object>"
      ]
     },
     "metadata": {},
     "output_type": "display_data"
    },
    {
     "name": "stdout",
     "output_type": "stream",
     "text": [
      "\n",
      " To accept it press enter or to annotate again enter any other string: \n"
     ]
    },
    {
     "name": "stderr",
     "output_type": "stream",
     "text": [
      "\r",
      " 68%|██████████████████████████████████████████████████████████████████████████                                   | 68/100 [02:48<01:48,  3.40s/it]"
     ]
    },
    {
     "name": "stdout",
     "output_type": "stream",
     "text": [
      "-----> For this sample we compare the Incorrect translation with the Good translation.\n",
      "\n"
     ]
    },
    {
     "data": {
      "text/html": [
       "\n",
       "    <style>\n",
       "    mark {\n",
       "        background-color: #4CAF50;\n",
       "        color: black;\n",
       "      }\n",
       "    </style>\n",
       "    <body>\n",
       "    <h3>33273</h3>\n",
       "    <p>Source: Sigmund Freud không phải là người vô tội.</p>\n",
       "    <p>Reference: Sigmund Freud is not blameless.</p>\n",
       "    <p>Good translation: Sigmund Freud is not innocent.</p>\n",
       "    <p>Incorrect: Freud is totally blameless.</p>\n",
       "    <p>Phenomenon: xnli-omission-contradiction</p>\n",
       "    </body>\n",
       "    "
      ],
      "text/plain": [
       "<IPython.core.display.HTML object>"
      ]
     },
     "metadata": {},
     "output_type": "display_data"
    },
    {
     "name": "stdout",
     "output_type": "stream",
     "text": [
      "No automatic translations for this sample.\n",
      "Enter the incorrect translation with the < and > to show the error spans (exit to stop, skip to skip): \n",
      "\n",
      "Enter the correct/reference translation with the < and > to show the error spans (exit to stop, skip to skip): \n",
      "\n"
     ]
    },
    {
     "data": {
      "text/html": [
       "\n",
       "    <style>\n",
       "    mark {\n",
       "        background-color: #4CAF50;\n",
       "        color: black;\n",
       "      }\n",
       "    </style>\n",
       "    <body>\n",
       "    <h3>33273</h3>\n",
       "    <p>Source: Sigmund Freud không phải là người vô tội.</p>\n",
       "    <p>Reference: Sigmund Freud is not blameless.</p>\n",
       "    <p>Good translation: Sigmund Freud is not innocent.</p>\n",
       "    <p>Incorrect: Freud is totally blameless.</p>\n",
       "    <p>Phenomenon: xnli-omission-contradiction</p>\n",
       "    </body>\n",
       "    "
      ],
      "text/plain": [
       "<IPython.core.display.HTML object>"
      ]
     },
     "metadata": {},
     "output_type": "display_data"
    },
    {
     "name": "stdout",
     "output_type": "stream",
     "text": [
      "\n",
      " To accept it press enter or to annotate again enter any other string: \n"
     ]
    },
    {
     "name": "stderr",
     "output_type": "stream",
     "text": [
      "\r",
      " 69%|███████████████████████████████████████████████████████████████████████████▏                                 | 69/100 [02:49<01:28,  2.85s/it]"
     ]
    },
    {
     "name": "stdout",
     "output_type": "stream",
     "text": [
      "-----> For this sample we compare the Incorrect translation with the Good translation.\n",
      "\n"
     ]
    },
    {
     "data": {
      "text/html": [
       "\n",
       "    <style>\n",
       "    mark {\n",
       "        background-color: #4CAF50;\n",
       "        color: black;\n",
       "      }\n",
       "    </style>\n",
       "    <body>\n",
       "    <h3>36341</h3>\n",
       "    <p>Source: ใน eVect ดังที่เราจะได้เห็นในภายหลัง ชีวภาคต่าง ๆ อาจจะขยายการเติบโตอย่างยั่งยืนโดยเฉลี่ยของมิติของตนเอง</p>\n",
       "    <p>Reference: In eVect, as we shall see later, biospheres may maximize the average sustained growth of their own  dimensionality.</p>\n",
       "    <p>Good translation: In eVect, as we will see later, the biosphere may expand its own dimensionally sustained average growth.</p>\n",
       "    <p>Incorrect: Biospheres cannot control the growth of their own dimensionality.</p>\n",
       "    <p>Phenomenon: xnli-omission-contradiction</p>\n",
       "    </body>\n",
       "    "
      ],
      "text/plain": [
       "<IPython.core.display.HTML object>"
      ]
     },
     "metadata": {},
     "output_type": "display_data"
    },
    {
     "name": "stdout",
     "output_type": "stream",
     "text": [
      "No automatic translations for this sample.\n",
      "Enter the incorrect translation with the < and > to show the error spans (exit to stop, skip to skip): \n",
      "\n",
      "Enter the correct/reference translation with the < and > to show the error spans (exit to stop, skip to skip): \n",
      "\n"
     ]
    },
    {
     "data": {
      "text/html": [
       "\n",
       "    <style>\n",
       "    mark {\n",
       "        background-color: #4CAF50;\n",
       "        color: black;\n",
       "      }\n",
       "    </style>\n",
       "    <body>\n",
       "    <h3>36341</h3>\n",
       "    <p>Source: ใน eVect ดังที่เราจะได้เห็นในภายหลัง ชีวภาคต่าง ๆ อาจจะขยายการเติบโตอย่างยั่งยืนโดยเฉลี่ยของมิติของตนเอง</p>\n",
       "    <p>Reference: In eVect, as we shall see later, biospheres may maximize the average sustained growth of their own  dimensionality.</p>\n",
       "    <p>Good translation: In eVect, as we will see later, the biosphere may expand its own dimensionally sustained average growth.</p>\n",
       "    <p>Incorrect: Biospheres cannot control the growth of their own dimensionality.</p>\n",
       "    <p>Phenomenon: xnli-omission-contradiction</p>\n",
       "    </body>\n",
       "    "
      ],
      "text/plain": [
       "<IPython.core.display.HTML object>"
      ]
     },
     "metadata": {},
     "output_type": "display_data"
    },
    {
     "name": "stdout",
     "output_type": "stream",
     "text": [
      "\n",
      " To accept it press enter or to annotate again enter any other string: \n"
     ]
    },
    {
     "name": "stderr",
     "output_type": "stream",
     "text": [
      "\r",
      " 70%|████████████████████████████████████████████████████████████████████████████▎                                | 70/100 [02:51<01:17,  2.58s/it]"
     ]
    },
    {
     "name": "stdout",
     "output_type": "stream",
     "text": [
      "-----> For this sample we compare the Incorrect translation with the Good translation.\n",
      "\n"
     ]
    },
    {
     "data": {
      "text/html": [
       "\n",
       "    <style>\n",
       "    mark {\n",
       "        background-color: #4CAF50;\n",
       "        color: black;\n",
       "      }\n",
       "    </style>\n",
       "    <body>\n",
       "    <h3>10932</h3>\n",
       "    <p>Source: هل ترى ذاك الوحش الفضولي الصغير هناك؟</p>\n",
       "    <p>Reference: See that curious little beast over there?</p>\n",
       "    <p>Good translation: Do you see that curious little monster there?</p>\n",
       "    <p>Incorrect: I cannot see that curious little beast.</p>\n",
       "    <p>Phenomenon: xnli-omission-contradiction</p>\n",
       "    </body>\n",
       "    "
      ],
      "text/plain": [
       "<IPython.core.display.HTML object>"
      ]
     },
     "metadata": {},
     "output_type": "display_data"
    },
    {
     "name": "stdout",
     "output_type": "stream",
     "text": [
      "No automatic translations for this sample.\n",
      "Enter the incorrect translation with the < and > to show the error spans (exit to stop, skip to skip): \n",
      "\n",
      "Enter the correct/reference translation with the < and > to show the error spans (exit to stop, skip to skip): \n",
      "\n"
     ]
    },
    {
     "data": {
      "text/html": [
       "\n",
       "    <style>\n",
       "    mark {\n",
       "        background-color: #4CAF50;\n",
       "        color: black;\n",
       "      }\n",
       "    </style>\n",
       "    <body>\n",
       "    <h3>10932</h3>\n",
       "    <p>Source: هل ترى ذاك الوحش الفضولي الصغير هناك؟</p>\n",
       "    <p>Reference: See that curious little beast over there?</p>\n",
       "    <p>Good translation: Do you see that curious little monster there?</p>\n",
       "    <p>Incorrect: I cannot see that curious little beast.</p>\n",
       "    <p>Phenomenon: xnli-omission-contradiction</p>\n",
       "    </body>\n",
       "    "
      ],
      "text/plain": [
       "<IPython.core.display.HTML object>"
      ]
     },
     "metadata": {},
     "output_type": "display_data"
    },
    {
     "name": "stdout",
     "output_type": "stream",
     "text": [
      "\n",
      " To accept it press enter or to annotate again enter any other string: \n"
     ]
    },
    {
     "name": "stderr",
     "output_type": "stream",
     "text": [
      "\r",
      " 71%|█████████████████████████████████████████████████████████████████████████████▍                               | 71/100 [02:52<01:03,  2.20s/it]"
     ]
    },
    {
     "name": "stdout",
     "output_type": "stream",
     "text": [
      "-----> For this sample we compare the Incorrect translation with the Good translation.\n",
      "\n"
     ]
    },
    {
     "data": {
      "text/html": [
       "\n",
       "    <style>\n",
       "    mark {\n",
       "        background-color: #4CAF50;\n",
       "        color: black;\n",
       "      }\n",
       "    </style>\n",
       "    <body>\n",
       "    <h3>3613</h3>\n",
       "    <p>Source: जिस अधिकारी ने साउथ टावर को टूटते हुए देखा था, उसने तत्काल नॉर्थ टावर में ईएसयू इकाई को निकासी निर्देश के साथ यह जानकारी दी।</p>\n",
       "    <p>Reference: This officer, who had observed the South Tower collapse, reported it to ESU units in the North Tower in his evacuation instruction.</p>\n",
       "    <p>Good translation: The officer who saw the South Tower collapsing immediately gave this information along with evacuation instructions to the ESU unit in the North Tower.</p>\n",
       "    <p>Incorrect: Nobody remained in the North Tower after the South Tower collapsed.</p>\n",
       "    <p>Phenomenon: xnli-omission-contradiction</p>\n",
       "    </body>\n",
       "    "
      ],
      "text/plain": [
       "<IPython.core.display.HTML object>"
      ]
     },
     "metadata": {},
     "output_type": "display_data"
    },
    {
     "name": "stdout",
     "output_type": "stream",
     "text": [
      "No automatic translations for this sample.\n",
      "Enter the incorrect translation with the < and > to show the error spans (exit to stop, skip to skip): \n",
      "\n",
      "Enter the correct/reference translation with the < and > to show the error spans (exit to stop, skip to skip): \n",
      "\n"
     ]
    },
    {
     "data": {
      "text/html": [
       "\n",
       "    <style>\n",
       "    mark {\n",
       "        background-color: #4CAF50;\n",
       "        color: black;\n",
       "      }\n",
       "    </style>\n",
       "    <body>\n",
       "    <h3>3613</h3>\n",
       "    <p>Source: जिस अधिकारी ने साउथ टावर को टूटते हुए देखा था, उसने तत्काल नॉर्थ टावर में ईएसयू इकाई को निकासी निर्देश के साथ यह जानकारी दी।</p>\n",
       "    <p>Reference: This officer, who had observed the South Tower collapse, reported it to ESU units in the North Tower in his evacuation instruction.</p>\n",
       "    <p>Good translation: The officer who saw the South Tower collapsing immediately gave this information along with evacuation instructions to the ESU unit in the North Tower.</p>\n",
       "    <p>Incorrect: Nobody remained in the North Tower after the South Tower collapsed.</p>\n",
       "    <p>Phenomenon: xnli-omission-contradiction</p>\n",
       "    </body>\n",
       "    "
      ],
      "text/plain": [
       "<IPython.core.display.HTML object>"
      ]
     },
     "metadata": {},
     "output_type": "display_data"
    },
    {
     "name": "stdout",
     "output_type": "stream",
     "text": [
      "\n",
      " To accept it press enter or to annotate again enter any other string: \n"
     ]
    },
    {
     "name": "stderr",
     "output_type": "stream",
     "text": [
      "\r",
      " 73%|███████████████████████████████████████████████████████████████████████████████▌                             | 73/100 [02:53<00:38,  1.42s/it]"
     ]
    },
    {
     "name": "stdout",
     "output_type": "stream",
     "text": [
      "-----> For this sample we compare the Incorrect translation with the Good translation.\n",
      "\n"
     ]
    },
    {
     "data": {
      "text/html": [
       "\n",
       "    <style>\n",
       "    mark {\n",
       "        background-color: #4CAF50;\n",
       "        color: black;\n",
       "      }\n",
       "    </style>\n",
       "    <body>\n",
       "    <h3>10925</h3>\n",
       "    <p>Source: حرية من أخطاء البيانات.</p>\n",
       "    <p>Reference: Freedom from error in the data.</p>\n",
       "    <p>Good translation: Freedom from data errors.</p>\n",
       "    <p>Incorrect: Freedom from correct data.</p>\n",
       "    <p>Phenomenon: xnli-omission-contradiction</p>\n",
       "    </body>\n",
       "    "
      ],
      "text/plain": [
       "<IPython.core.display.HTML object>"
      ]
     },
     "metadata": {},
     "output_type": "display_data"
    },
    {
     "name": "stdout",
     "output_type": "stream",
     "text": [
      "No automatic translations for this sample.\n",
      "Enter the incorrect translation with the < and > to show the error spans (exit to stop, skip to skip): \n",
      "\n",
      "Enter the correct/reference translation with the < and > to show the error spans (exit to stop, skip to skip): \n",
      "\n"
     ]
    },
    {
     "data": {
      "text/html": [
       "\n",
       "    <style>\n",
       "    mark {\n",
       "        background-color: #4CAF50;\n",
       "        color: black;\n",
       "      }\n",
       "    </style>\n",
       "    <body>\n",
       "    <h3>10925</h3>\n",
       "    <p>Source: حرية من أخطاء البيانات.</p>\n",
       "    <p>Reference: Freedom from error in the data.</p>\n",
       "    <p>Good translation: Freedom from data errors.</p>\n",
       "    <p>Incorrect: Freedom from correct data.</p>\n",
       "    <p>Phenomenon: xnli-omission-contradiction</p>\n",
       "    </body>\n",
       "    "
      ],
      "text/plain": [
       "<IPython.core.display.HTML object>"
      ]
     },
     "metadata": {},
     "output_type": "display_data"
    },
    {
     "name": "stdout",
     "output_type": "stream",
     "text": [
      "\n",
      " To accept it press enter or to annotate again enter any other string: \n"
     ]
    },
    {
     "name": "stderr",
     "output_type": "stream",
     "text": [
      "\r",
      " 74%|████████████████████████████████████████████████████████████████████████████████▋                            | 74/100 [02:54<00:34,  1.31s/it]"
     ]
    },
    {
     "name": "stdout",
     "output_type": "stream",
     "text": [
      "-----> For this sample we compare the Incorrect translation with the Good translation.\n",
      "\n"
     ]
    },
    {
     "data": {
      "text/html": [
       "\n",
       "    <style>\n",
       "    mark {\n",
       "        background-color: #4CAF50;\n",
       "        color: black;\n",
       "      }\n",
       "    </style>\n",
       "    <body>\n",
       "    <h3>10521</h3>\n",
       "    <p>Source: Un gráfico visual puede ser trazado, representando su distribución de tamaño.</p>\n",
       "    <p>Reference: A visual graph can be charted, representing their size distribution.</p>\n",
       "    <p>Good translation: A visual graph can be plotted, representing its size distribution.</p>\n",
       "    <p>Incorrect: More, we can actually predict their size distribution.</p>\n",
       "    <p>Phenomenon: xnli-omission-neutral</p>\n",
       "    </body>\n",
       "    "
      ],
      "text/plain": [
       "<IPython.core.display.HTML object>"
      ]
     },
     "metadata": {},
     "output_type": "display_data"
    },
    {
     "name": "stdout",
     "output_type": "stream",
     "text": [
      "No automatic translations for this sample.\n",
      "Enter the incorrect translation with the < and > to show the error spans (exit to stop, skip to skip): \n",
      "\n",
      "Enter the correct/reference translation with the < and > to show the error spans (exit to stop, skip to skip): \n",
      "\n"
     ]
    },
    {
     "data": {
      "text/html": [
       "\n",
       "    <style>\n",
       "    mark {\n",
       "        background-color: #4CAF50;\n",
       "        color: black;\n",
       "      }\n",
       "    </style>\n",
       "    <body>\n",
       "    <h3>10521</h3>\n",
       "    <p>Source: Un gráfico visual puede ser trazado, representando su distribución de tamaño.</p>\n",
       "    <p>Reference: A visual graph can be charted, representing their size distribution.</p>\n",
       "    <p>Good translation: A visual graph can be plotted, representing its size distribution.</p>\n",
       "    <p>Incorrect: More, we can actually predict their size distribution.</p>\n",
       "    <p>Phenomenon: xnli-omission-neutral</p>\n",
       "    </body>\n",
       "    "
      ],
      "text/plain": [
       "<IPython.core.display.HTML object>"
      ]
     },
     "metadata": {},
     "output_type": "display_data"
    },
    {
     "name": "stdout",
     "output_type": "stream",
     "text": [
      "\n",
      " To accept it press enter or to annotate again enter any other string: \n"
     ]
    },
    {
     "name": "stderr",
     "output_type": "stream",
     "text": [
      "\r",
      " 75%|█████████████████████████████████████████████████████████████████████████████████▊                           | 75/100 [02:55<00:29,  1.20s/it]"
     ]
    },
    {
     "name": "stdout",
     "output_type": "stream",
     "text": [
      "-----> For this sample we compare the Incorrect translation with the Good translation.\n",
      "\n"
     ]
    },
    {
     "data": {
      "text/html": [
       "\n",
       "    <style>\n",
       "    mark {\n",
       "        background-color: #4CAF50;\n",
       "        color: black;\n",
       "      }\n",
       "    </style>\n",
       "    <body>\n",
       "    <h3>36461</h3>\n",
       "    <p>Source: Jane Dave และนักวิเคราะห์ FBI ซึ่งมีข้อมูลต่อหน่วย CIA ของบิน ลาดินได้ไปที่นิวยอร์กเมื่อ 11 มิ.ย. เพื่อพบกับตัวแทนเกี่ยวกับคดีของ Cole</p>\n",
       "    <p>Reference: Jane,Dave, and an FBI analyst who was on detail to the CIA's Bin Ladin unit went to New York on June 11 to meet with the agents about the Cole case.</p>\n",
       "    <p>Good translation: Jane Dave and an FBI analyst with information for Bin Laden's CIA unit went to New York on June 11 to meet with representatives on Cole's case.</p>\n",
       "    <p>Incorrect: The FBI analyst talked to seven agents about the Cole case.</p>\n",
       "    <p>Phenomenon: xnli-omission-neutral</p>\n",
       "    </body>\n",
       "    "
      ],
      "text/plain": [
       "<IPython.core.display.HTML object>"
      ]
     },
     "metadata": {},
     "output_type": "display_data"
    },
    {
     "name": "stdout",
     "output_type": "stream",
     "text": [
      "No automatic translations for this sample.\n",
      "Enter the incorrect translation with the < and > to show the error spans (exit to stop, skip to skip): \n",
      "\n",
      "Enter the correct/reference translation with the < and > to show the error spans (exit to stop, skip to skip): \n",
      "\n"
     ]
    },
    {
     "data": {
      "text/html": [
       "\n",
       "    <style>\n",
       "    mark {\n",
       "        background-color: #4CAF50;\n",
       "        color: black;\n",
       "      }\n",
       "    </style>\n",
       "    <body>\n",
       "    <h3>36461</h3>\n",
       "    <p>Source: Jane Dave และนักวิเคราะห์ FBI ซึ่งมีข้อมูลต่อหน่วย CIA ของบิน ลาดินได้ไปที่นิวยอร์กเมื่อ 11 มิ.ย. เพื่อพบกับตัวแทนเกี่ยวกับคดีของ Cole</p>\n",
       "    <p>Reference: Jane,Dave, and an FBI analyst who was on detail to the CIA's Bin Ladin unit went to New York on June 11 to meet with the agents about the Cole case.</p>\n",
       "    <p>Good translation: Jane Dave and an FBI analyst with information for Bin Laden's CIA unit went to New York on June 11 to meet with representatives on Cole's case.</p>\n",
       "    <p>Incorrect: The FBI analyst talked to seven agents about the Cole case.</p>\n",
       "    <p>Phenomenon: xnli-omission-neutral</p>\n",
       "    </body>\n",
       "    "
      ],
      "text/plain": [
       "<IPython.core.display.HTML object>"
      ]
     },
     "metadata": {},
     "output_type": "display_data"
    },
    {
     "name": "stdout",
     "output_type": "stream",
     "text": [
      "\n",
      " To accept it press enter or to annotate again enter any other string: \n"
     ]
    },
    {
     "name": "stderr",
     "output_type": "stream",
     "text": [
      "\r",
      " 76%|██████████████████████████████████████████████████████████████████████████████████▊                          | 76/100 [02:56<00:27,  1.15s/it]"
     ]
    },
    {
     "name": "stdout",
     "output_type": "stream",
     "text": [
      "-----> For this sample we compare the Incorrect translation with the Good translation.\n",
      "\n"
     ]
    },
    {
     "data": {
      "text/html": [
       "\n",
       "    <style>\n",
       "    mark {\n",
       "        background-color: #4CAF50;\n",
       "        color: black;\n",
       "      }\n",
       "    </style>\n",
       "    <body>\n",
       "    <h3>6678</h3>\n",
       "    <p>Source: À la fin du dix-neuvième siècle, l'illustrateur et graveur mexicain José Guadalupe Posada a commencé à dessiner des calaveras pour coïncider avec ce jour de fête.</p>\n",
       "    <p>Reference: The Mexican artist and printmaker Jose Guadalupe Posada started drawing calaveras during the late nineteenth century to coincide with this holiday.</p>\n",
       "    <p>Good translation: At the end of the nineteenth century, the Mexican illustrator and printmaker José Guadalupe Posada began drawing calaveras to coincide with this feast day.</p>\n",
       "    <p>Incorrect: Jose Guadalupe Posada started to draw skulls or calaveras when he became fascinated with the human form in the late nineteenth century,</p>\n",
       "    <p>Phenomenon: xnli-omission-neutral</p>\n",
       "    </body>\n",
       "    "
      ],
      "text/plain": [
       "<IPython.core.display.HTML object>"
      ]
     },
     "metadata": {},
     "output_type": "display_data"
    },
    {
     "name": "stdout",
     "output_type": "stream",
     "text": [
      "No automatic translations for this sample.\n",
      "Enter the incorrect translation with the < and > to show the error spans (exit to stop, skip to skip): \n",
      "\n",
      "Enter the correct/reference translation with the < and > to show the error spans (exit to stop, skip to skip): \n",
      "\n"
     ]
    },
    {
     "data": {
      "text/html": [
       "\n",
       "    <style>\n",
       "    mark {\n",
       "        background-color: #4CAF50;\n",
       "        color: black;\n",
       "      }\n",
       "    </style>\n",
       "    <body>\n",
       "    <h3>6678</h3>\n",
       "    <p>Source: À la fin du dix-neuvième siècle, l'illustrateur et graveur mexicain José Guadalupe Posada a commencé à dessiner des calaveras pour coïncider avec ce jour de fête.</p>\n",
       "    <p>Reference: The Mexican artist and printmaker Jose Guadalupe Posada started drawing calaveras during the late nineteenth century to coincide with this holiday.</p>\n",
       "    <p>Good translation: At the end of the nineteenth century, the Mexican illustrator and printmaker José Guadalupe Posada began drawing calaveras to coincide with this feast day.</p>\n",
       "    <p>Incorrect: Jose Guadalupe Posada started to draw skulls or calaveras when he became fascinated with the human form in the late nineteenth century,</p>\n",
       "    <p>Phenomenon: xnli-omission-neutral</p>\n",
       "    </body>\n",
       "    "
      ],
      "text/plain": [
       "<IPython.core.display.HTML object>"
      ]
     },
     "metadata": {},
     "output_type": "display_data"
    },
    {
     "name": "stdout",
     "output_type": "stream",
     "text": [
      "\n",
      " To accept it press enter or to annotate again enter any other string: \n"
     ]
    },
    {
     "name": "stderr",
     "output_type": "stream",
     "text": [
      "\r",
      " 77%|███████████████████████████████████████████████████████████████████████████████████▉                         | 77/100 [02:57<00:24,  1.06s/it]"
     ]
    },
    {
     "name": "stdout",
     "output_type": "stream",
     "text": [
      "-----> For this sample we compare the Incorrect translation with the Good translation.\n",
      "\n"
     ]
    },
    {
     "data": {
      "text/html": [
       "\n",
       "    <style>\n",
       "    mark {\n",
       "        background-color: #4CAF50;\n",
       "        color: black;\n",
       "      }\n",
       "    </style>\n",
       "    <body>\n",
       "    <h3>6683</h3>\n",
       "    <p>Source: Comment peut-on faire une si mauvaise chose ?</p>\n",
       "    <p>Reference: How can one do such a bad thing?</p>\n",
       "    <p>Good translation: How can you do such a bad thing?</p>\n",
       "    <p>Incorrect: How can one do that?</p>\n",
       "    <p>Phenomenon: xnli-omission-neutral</p>\n",
       "    </body>\n",
       "    "
      ],
      "text/plain": [
       "<IPython.core.display.HTML object>"
      ]
     },
     "metadata": {},
     "output_type": "display_data"
    },
    {
     "name": "stdout",
     "output_type": "stream",
     "text": [
      "No automatic translations for this sample.\n",
      "Enter the incorrect translation with the < and > to show the error spans (exit to stop, skip to skip): \n",
      "\n",
      "Enter the correct/reference translation with the < and > to show the error spans (exit to stop, skip to skip): \n",
      "\n"
     ]
    },
    {
     "data": {
      "text/html": [
       "\n",
       "    <style>\n",
       "    mark {\n",
       "        background-color: #4CAF50;\n",
       "        color: black;\n",
       "      }\n",
       "    </style>\n",
       "    <body>\n",
       "    <h3>6683</h3>\n",
       "    <p>Source: Comment peut-on faire une si mauvaise chose ?</p>\n",
       "    <p>Reference: How can one do such a bad thing?</p>\n",
       "    <p>Good translation: How can you do such a bad thing?</p>\n",
       "    <p>Incorrect: How can one do that?</p>\n",
       "    <p>Phenomenon: xnli-omission-neutral</p>\n",
       "    </body>\n",
       "    "
      ],
      "text/plain": [
       "<IPython.core.display.HTML object>"
      ]
     },
     "metadata": {},
     "output_type": "display_data"
    },
    {
     "name": "stdout",
     "output_type": "stream",
     "text": [
      "\n",
      " To accept it press enter or to annotate again enter any other string: \n"
     ]
    },
    {
     "name": "stderr",
     "output_type": "stream",
     "text": [
      "\r",
      " 78%|█████████████████████████████████████████████████████████████████████████████████████                        | 78/100 [02:58<00:22,  1.01s/it]"
     ]
    },
    {
     "name": "stdout",
     "output_type": "stream",
     "text": [
      "-----> For this sample we compare the Incorrect translation with the Good translation.\n",
      "\n"
     ]
    },
    {
     "data": {
      "text/html": [
       "\n",
       "    <style>\n",
       "    mark {\n",
       "        background-color: #4CAF50;\n",
       "        color: black;\n",
       "      }\n",
       "    </style>\n",
       "    <body>\n",
       "    <h3>16702</h3>\n",
       "    <p>Source: Um Attas Reise nach Tschechien zu sehen, siehe hier.</p>\n",
       "    <p>Reference: For Atta's travel to the Czech Republic, see ibid.</p>\n",
       "    <p>Good translation: To see Atta's trip to the Czech Republic, see here.</p>\n",
       "    <p>Incorrect: Atta went to the Czech Republic alone.</p>\n",
       "    <p>Phenomenon: xnli-omission-neutral</p>\n",
       "    </body>\n",
       "    "
      ],
      "text/plain": [
       "<IPython.core.display.HTML object>"
      ]
     },
     "metadata": {},
     "output_type": "display_data"
    },
    {
     "name": "stdout",
     "output_type": "stream",
     "text": [
      "No automatic translations for this sample.\n",
      "Enter the incorrect translation with the < and > to show the error spans (exit to stop, skip to skip): \n",
      "\n",
      "Enter the correct/reference translation with the < and > to show the error spans (exit to stop, skip to skip): \n",
      "\n"
     ]
    },
    {
     "data": {
      "text/html": [
       "\n",
       "    <style>\n",
       "    mark {\n",
       "        background-color: #4CAF50;\n",
       "        color: black;\n",
       "      }\n",
       "    </style>\n",
       "    <body>\n",
       "    <h3>16702</h3>\n",
       "    <p>Source: Um Attas Reise nach Tschechien zu sehen, siehe hier.</p>\n",
       "    <p>Reference: For Atta's travel to the Czech Republic, see ibid.</p>\n",
       "    <p>Good translation: To see Atta's trip to the Czech Republic, see here.</p>\n",
       "    <p>Incorrect: Atta went to the Czech Republic alone.</p>\n",
       "    <p>Phenomenon: xnli-omission-neutral</p>\n",
       "    </body>\n",
       "    "
      ],
      "text/plain": [
       "<IPython.core.display.HTML object>"
      ]
     },
     "metadata": {},
     "output_type": "display_data"
    },
    {
     "name": "stdout",
     "output_type": "stream",
     "text": [
      "\n",
      " To accept it press enter or to annotate again enter any other string: \n"
     ]
    },
    {
     "name": "stderr",
     "output_type": "stream",
     "text": [
      "\r",
      " 79%|██████████████████████████████████████████████████████████████████████████████████████                       | 79/100 [02:59<00:20,  1.05it/s]"
     ]
    },
    {
     "name": "stdout",
     "output_type": "stream",
     "text": [
      "-----> For this sample we compare the Incorrect translation with the Good translation.\n",
      "\n"
     ]
    },
    {
     "data": {
      "text/html": [
       "\n",
       "    <style>\n",
       "    mark {\n",
       "        background-color: #4CAF50;\n",
       "        color: black;\n",
       "      }\n",
       "    </style>\n",
       "    <body>\n",
       "    <h3>8414</h3>\n",
       "    <p>Source: Kama una  maswali zaido, tafadhali usisite kumpigia mratibu wetu wa huduma za uanachama, Chris Young, kwa nambari (800) 877-6773</p>\n",
       "    <p>Reference: In you have any further questions, please do not hesitate to call our Membership Services Coordinator, Chris Young, at (800) 877-6773.</p>\n",
       "    <p>Good translation: If you have any further questions, please do not hesitate to contact our membership services coordinator, Chris Young, at (800) 877-6773</p>\n",
       "    <p>Incorrect: Chris Young is a man who is our Membership Services Coordinator.</p>\n",
       "    <p>Phenomenon: xnli-omission-neutral</p>\n",
       "    </body>\n",
       "    "
      ],
      "text/plain": [
       "<IPython.core.display.HTML object>"
      ]
     },
     "metadata": {},
     "output_type": "display_data"
    },
    {
     "name": "stdout",
     "output_type": "stream",
     "text": [
      "No automatic translations for this sample.\n",
      "Enter the incorrect translation with the < and > to show the error spans (exit to stop, skip to skip): \n",
      "\n",
      "Enter the correct/reference translation with the < and > to show the error spans (exit to stop, skip to skip): \n",
      "\n"
     ]
    },
    {
     "data": {
      "text/html": [
       "\n",
       "    <style>\n",
       "    mark {\n",
       "        background-color: #4CAF50;\n",
       "        color: black;\n",
       "      }\n",
       "    </style>\n",
       "    <body>\n",
       "    <h3>8414</h3>\n",
       "    <p>Source: Kama una  maswali zaido, tafadhali usisite kumpigia mratibu wetu wa huduma za uanachama, Chris Young, kwa nambari (800) 877-6773</p>\n",
       "    <p>Reference: In you have any further questions, please do not hesitate to call our Membership Services Coordinator, Chris Young, at (800) 877-6773.</p>\n",
       "    <p>Good translation: If you have any further questions, please do not hesitate to contact our membership services coordinator, Chris Young, at (800) 877-6773</p>\n",
       "    <p>Incorrect: Chris Young is a man who is our Membership Services Coordinator.</p>\n",
       "    <p>Phenomenon: xnli-omission-neutral</p>\n",
       "    </body>\n",
       "    "
      ],
      "text/plain": [
       "<IPython.core.display.HTML object>"
      ]
     },
     "metadata": {},
     "output_type": "display_data"
    },
    {
     "name": "stdout",
     "output_type": "stream",
     "text": [
      "\n",
      " To accept it press enter or to annotate again enter any other string: \n"
     ]
    },
    {
     "name": "stderr",
     "output_type": "stream",
     "text": [
      "\r",
      " 80%|███████████████████████████████████████████████████████████████████████████████████████▏                     | 80/100 [03:00<00:18,  1.10it/s]"
     ]
    },
    {
     "name": "stdout",
     "output_type": "stream",
     "text": [
      "-----> For this sample we compare the Incorrect translation with the Good translation.\n",
      "\n"
     ]
    },
    {
     "data": {
      "text/html": [
       "\n",
       "    <style>\n",
       "    mark {\n",
       "        background-color: #4CAF50;\n",
       "        color: black;\n",
       "      }\n",
       "    </style>\n",
       "    <body>\n",
       "    <h3>33388</h3>\n",
       "    <p>Source: Họ được bố trí xung quanh tầng hành lang gác lửng của Tháp phía Bắc, chỉ đạo thường dân rời khỏi cầu thang A và C để sơ tán xuống thang cuốn tới phòng chờ.</p>\n",
       "    <p>Reference: They were positioned around the mezzanine lobby level of the North Tower, directing civilians leaving stairwells A and C to evacuate down an escalator to the concourse.</p>\n",
       "    <p>Good translation: They were located around the mezzanine level of the North Tower, instructing civilians to leave stairs A and C to evacuate down the escalator to the waiting room.</p>\n",
       "    <p>Incorrect: They directed dozens of civilians at the mezzanine level to take an escalator to the concourse.</p>\n",
       "    <p>Phenomenon: xnli-omission-neutral</p>\n",
       "    </body>\n",
       "    "
      ],
      "text/plain": [
       "<IPython.core.display.HTML object>"
      ]
     },
     "metadata": {},
     "output_type": "display_data"
    },
    {
     "name": "stdout",
     "output_type": "stream",
     "text": [
      "No automatic translations for this sample.\n",
      "Enter the incorrect translation with the < and > to show the error spans (exit to stop, skip to skip): \n",
      "\n",
      "Enter the correct/reference translation with the < and > to show the error spans (exit to stop, skip to skip): \n",
      "\n"
     ]
    },
    {
     "data": {
      "text/html": [
       "\n",
       "    <style>\n",
       "    mark {\n",
       "        background-color: #4CAF50;\n",
       "        color: black;\n",
       "      }\n",
       "    </style>\n",
       "    <body>\n",
       "    <h3>33388</h3>\n",
       "    <p>Source: Họ được bố trí xung quanh tầng hành lang gác lửng của Tháp phía Bắc, chỉ đạo thường dân rời khỏi cầu thang A và C để sơ tán xuống thang cuốn tới phòng chờ.</p>\n",
       "    <p>Reference: They were positioned around the mezzanine lobby level of the North Tower, directing civilians leaving stairwells A and C to evacuate down an escalator to the concourse.</p>\n",
       "    <p>Good translation: They were located around the mezzanine level of the North Tower, instructing civilians to leave stairs A and C to evacuate down the escalator to the waiting room.</p>\n",
       "    <p>Incorrect: They directed dozens of civilians at the mezzanine level to take an escalator to the concourse.</p>\n",
       "    <p>Phenomenon: xnli-omission-neutral</p>\n",
       "    </body>\n",
       "    "
      ],
      "text/plain": [
       "<IPython.core.display.HTML object>"
      ]
     },
     "metadata": {},
     "output_type": "display_data"
    },
    {
     "name": "stdout",
     "output_type": "stream",
     "text": [
      "\n",
      " To accept it press enter or to annotate again enter any other string: \n"
     ]
    },
    {
     "name": "stderr",
     "output_type": "stream",
     "text": [
      "\r",
      " 81%|████████████████████████████████████████████████████████████████████████████████████████▎                    | 81/100 [03:00<00:16,  1.12it/s]"
     ]
    },
    {
     "name": "stdout",
     "output_type": "stream",
     "text": [
      "-----> For this sample we compare the Incorrect translation with the Good translation.\n",
      "\n"
     ]
    },
    {
     "data": {
      "text/html": [
       "\n",
       "    <style>\n",
       "    mark {\n",
       "        background-color: #4CAF50;\n",
       "        color: black;\n",
       "      }\n",
       "    </style>\n",
       "    <body>\n",
       "    <h3>33375</h3>\n",
       "    <p>Source: Tổ chức Y tế Thế giới đã thông báo rằng một chiến dịch mới để xử lý bệnh lao phổi có thể cứu được 10 triệu mạng sống trong thập kỷ tới.</p>\n",
       "    <p>Reference: The World Health Organization announced that a new strategy for treating tuberculosis could save 10 million lives over the next decade.</p>\n",
       "    <p>Good translation: The World Health Organization has announced that a new campaign to tackle tuberculosis could save 10 million lives over the next decade.</p>\n",
       "    <p>Incorrect: The WHO has a strategy for treating tuberculosis that can save over ten million lives.</p>\n",
       "    <p>Phenomenon: xnli-omission-neutral</p>\n",
       "    </body>\n",
       "    "
      ],
      "text/plain": [
       "<IPython.core.display.HTML object>"
      ]
     },
     "metadata": {},
     "output_type": "display_data"
    },
    {
     "name": "stdout",
     "output_type": "stream",
     "text": [
      "No automatic translations for this sample.\n",
      "Enter the incorrect translation with the < and > to show the error spans (exit to stop, skip to skip): \n",
      "\n",
      "Enter the correct/reference translation with the < and > to show the error spans (exit to stop, skip to skip): \n",
      "\n"
     ]
    },
    {
     "data": {
      "text/html": [
       "\n",
       "    <style>\n",
       "    mark {\n",
       "        background-color: #4CAF50;\n",
       "        color: black;\n",
       "      }\n",
       "    </style>\n",
       "    <body>\n",
       "    <h3>33375</h3>\n",
       "    <p>Source: Tổ chức Y tế Thế giới đã thông báo rằng một chiến dịch mới để xử lý bệnh lao phổi có thể cứu được 10 triệu mạng sống trong thập kỷ tới.</p>\n",
       "    <p>Reference: The World Health Organization announced that a new strategy for treating tuberculosis could save 10 million lives over the next decade.</p>\n",
       "    <p>Good translation: The World Health Organization has announced that a new campaign to tackle tuberculosis could save 10 million lives over the next decade.</p>\n",
       "    <p>Incorrect: The WHO has a strategy for treating tuberculosis that can save over ten million lives.</p>\n",
       "    <p>Phenomenon: xnli-omission-neutral</p>\n",
       "    </body>\n",
       "    "
      ],
      "text/plain": [
       "<IPython.core.display.HTML object>"
      ]
     },
     "metadata": {},
     "output_type": "display_data"
    },
    {
     "name": "stdout",
     "output_type": "stream",
     "text": [
      "\n",
      " To accept it press enter or to annotate again enter any other string: \n"
     ]
    },
    {
     "name": "stderr",
     "output_type": "stream",
     "text": [
      "\r",
      " 83%|██████████████████████████████████████████████████████████████████████████████████████████▍                  | 83/100 [03:02<00:12,  1.37it/s]"
     ]
    },
    {
     "name": "stdout",
     "output_type": "stream",
     "text": [
      "-----> For this sample we compare the Incorrect translation with the Good translation.\n",
      "\n"
     ]
    },
    {
     "data": {
      "text/html": [
       "\n",
       "    <style>\n",
       "    mark {\n",
       "        background-color: #4CAF50;\n",
       "        color: black;\n",
       "      }\n",
       "    </style>\n",
       "    <body>\n",
       "    <h3>8054</h3>\n",
       "    <p>Source: اور آج ہمیں سماجی اور سیاسی انصاف کے بنیادی مثالی طور پر انسانی مساوات کو سنبھالنے کے لئے بھی بنیاد ہونا ضروری ہے.</p>\n",
       "    <p>Reference: And today we must also have grounds for taking human equality seriously as a basic ideal of social and political justice.</p>\n",
       "    <p>Good translation: And today we must also be the basis for handling human equality as the basic ideal of social and political justice.</p>\n",
       "    <p>Incorrect: Our nation is built on the grounds of social and political justice.</p>\n",
       "    <p>Phenomenon: xnli-omission-neutral</p>\n",
       "    </body>\n",
       "    "
      ],
      "text/plain": [
       "<IPython.core.display.HTML object>"
      ]
     },
     "metadata": {},
     "output_type": "display_data"
    },
    {
     "name": "stdout",
     "output_type": "stream",
     "text": [
      "No automatic translations for this sample.\n",
      "Enter the incorrect translation with the < and > to show the error spans (exit to stop, skip to skip): \n",
      "\n",
      "Enter the correct/reference translation with the < and > to show the error spans (exit to stop, skip to skip): \n",
      "\n"
     ]
    },
    {
     "data": {
      "text/html": [
       "\n",
       "    <style>\n",
       "    mark {\n",
       "        background-color: #4CAF50;\n",
       "        color: black;\n",
       "      }\n",
       "    </style>\n",
       "    <body>\n",
       "    <h3>8054</h3>\n",
       "    <p>Source: اور آج ہمیں سماجی اور سیاسی انصاف کے بنیادی مثالی طور پر انسانی مساوات کو سنبھالنے کے لئے بھی بنیاد ہونا ضروری ہے.</p>\n",
       "    <p>Reference: And today we must also have grounds for taking human equality seriously as a basic ideal of social and political justice.</p>\n",
       "    <p>Good translation: And today we must also be the basis for handling human equality as the basic ideal of social and political justice.</p>\n",
       "    <p>Incorrect: Our nation is built on the grounds of social and political justice.</p>\n",
       "    <p>Phenomenon: xnli-omission-neutral</p>\n",
       "    </body>\n",
       "    "
      ],
      "text/plain": [
       "<IPython.core.display.HTML object>"
      ]
     },
     "metadata": {},
     "output_type": "display_data"
    },
    {
     "name": "stdout",
     "output_type": "stream",
     "text": [
      "\n",
      " To accept it press enter or to annotate again enter any other string: \n"
     ]
    },
    {
     "name": "stderr",
     "output_type": "stream",
     "text": [
      "\r",
      " 84%|███████████████████████████████████████████████████████████████████████████████████████████▌                 | 84/100 [03:03<00:13,  1.22it/s]"
     ]
    },
    {
     "name": "stdout",
     "output_type": "stream",
     "text": [
      "-----> For this sample we compare the Incorrect translation with the Good translation.\n",
      "\n"
     ]
    },
    {
     "data": {
      "text/html": [
       "\n",
       "    <style>\n",
       "    mark {\n",
       "        background-color: #4CAF50;\n",
       "        color: black;\n",
       "      }\n",
       "    </style>\n",
       "    <body>\n",
       "    <h3>9654</h3>\n",
       "    <p>Source: En 2015, el Departamento de Educación de Florida anunció a la comisionada Pam Stewart la nominación de Madeline Pumariega como Canciller del Sistema Universitario de Florida.</p>\n",
       "    <p>Reference: In 2015, Florida Department of Education announced Commissioner Pam Stewart the nomination of Madeline Pumariega as Chancellor of the Florida College System.</p>\n",
       "    <p>Good translation: In 2015, Florida Department of Education Commissioner Pam Stewart announced the appointment of Madeline Pumariega as Chancellor of the Florida College System.</p>\n",
       "    <p>Incorrect: In <mark>82015</mark>, Florida Department of Education Commissioner Pam Stewart announced the appointment of Madeline Pumariega as Chancellor of the Florida College System.</p>\n",
       "    <p>Phenomenon: hallucination-number-level-1</p>\n",
       "    </body>\n",
       "    "
      ],
      "text/plain": [
       "<IPython.core.display.HTML object>"
      ]
     },
     "metadata": {},
     "output_type": "display_data"
    },
    {
     "name": "stdout",
     "output_type": "stream",
     "text": [
      "To accept the suggested annotation click on enter. To skip this one enter skip. To exit enter exit and enter anything else to manually annotate:\n"
     ]
    },
    {
     "name": "stderr",
     "output_type": "stream",
     "text": [
      "\r",
      " 85%|████████████████████████████████████████████████████████████████████████████████████████████▋                | 85/100 [03:04<00:12,  1.19it/s]"
     ]
    },
    {
     "name": "stdout",
     "output_type": "stream",
     "text": [
      "-----> For this sample we compare the Incorrect translation with the Good translation.\n",
      "\n"
     ]
    },
    {
     "data": {
      "text/html": [
       "\n",
       "    <style>\n",
       "    mark {\n",
       "        background-color: #4CAF50;\n",
       "        color: black;\n",
       "      }\n",
       "    </style>\n",
       "    <body>\n",
       "    <h3>31283</h3>\n",
       "    <p>Source: Die “tipiese” besoek behels die vlug na Orlando Internasionale Lughawe, bus-ry na ‘n hotel op die Disney perseel, spandeer ‘n week daar, sonder om die Disney perseel te verlaat en dan die terugkeer huis toe.</p>\n",
       "    <p>Reference: \"The \"\"typical\"\" visit involves flying into Orlando International Airport, busing to an on-site Disney hotel, spending about a week without leaving Disney property, and returning home.\"</p>\n",
       "    <p>Good translation: The “typical” visit involves flying to Orlando International Airport, bus-driving to a hotel on the Disney campsite, spending 7 days there, without leaving the Disney campsite and then returning home.</p>\n",
       "    <p>Incorrect: The “typical” visit involves flying to Orlando International Airport, bus-driving to a hotel on the Disney campsite, spending <mark>1 days</mark> there, without leaving the Disney campsite and then returning home.</p>\n",
       "    <p>Phenomenon: hallucination-unit-conversion-amount-matches-ref</p>\n",
       "    </body>\n",
       "    "
      ],
      "text/plain": [
       "<IPython.core.display.HTML object>"
      ]
     },
     "metadata": {},
     "output_type": "display_data"
    },
    {
     "name": "stdout",
     "output_type": "stream",
     "text": [
      "To accept the suggested annotation click on enter. To skip this one enter skip. To exit enter exit and enter anything else to manually annotate:\n"
     ]
    },
    {
     "name": "stderr",
     "output_type": "stream",
     "text": [
      "\r",
      " 86%|█████████████████████████████████████████████████████████████████████████████████████████████▋               | 86/100 [03:12<00:41,  2.99s/it]"
     ]
    },
    {
     "name": "stdout",
     "output_type": "stream",
     "text": [
      "-----> For this sample we compare the Incorrect translation with the Good translation.\n",
      "\n"
     ]
    },
    {
     "data": {
      "text/html": [
       "\n",
       "    <style>\n",
       "    mark {\n",
       "        background-color: #4CAF50;\n",
       "        color: black;\n",
       "      }\n",
       "    </style>\n",
       "    <body>\n",
       "    <h3>5114</h3>\n",
       "    <p>Source: Le préposé ne voulait pas se battre avec le gardien.</p>\n",
       "    <p>Reference: The attendant did not want to fight with the guard.</p>\n",
       "    <p>Good translation: The attendant did not want to fight with the male guard.</p>\n",
       "    <p>Incorrect: The attendant did not want to fight with the <mark>female</mark> guard.</p>\n",
       "    <p>Phenomenon: ambiguous-translation-wrong-gender-male-pro</p>\n",
       "    </body>\n",
       "    "
      ],
      "text/plain": [
       "<IPython.core.display.HTML object>"
      ]
     },
     "metadata": {},
     "output_type": "display_data"
    },
    {
     "name": "stderr",
     "output_type": "stream",
     "text": [
      "ERROR:logger:5114\n",
      " 87%|██████████████████████████████████████████████████████████████████████████████████████████████▊              | 87/100 [03:16<00:39,  3.07s/it]"
     ]
    },
    {
     "name": "stdout",
     "output_type": "stream",
     "text": [
      "-----> For this sample we compare the Incorrect translation with the Good translation.\n",
      "\n"
     ]
    },
    {
     "data": {
      "text/html": [
       "\n",
       "    <style>\n",
       "    mark {\n",
       "        background-color: #4CAF50;\n",
       "        color: black;\n",
       "      }\n",
       "    </style>\n",
       "    <body>\n",
       "    <h3>3617</h3>\n",
       "    <p>Source: वॉशिंगटन सेंटर के नियंत्रक उड़ान की तलाश कर रहे थे, लेकिन उन्हें प्राथमिक रडार रिटर्न देखने के लिए नहीं कहा गया था।</p>\n",
       "    <p>Reference: The Washington Center's controllers were looking for the flight, but they were not told to look for primary radar returns.</p>\n",
       "    <p>Good translation: Controllers at the Washington Center were looking for a flight, but were not asked to see the primary radar return.</p>\n",
       "    <p>Incorrect: The controllers were told to check the primary radar returns first.</p>\n",
       "    <p>Phenomenon: xnli-omission-contradiction</p>\n",
       "    </body>\n",
       "    "
      ],
      "text/plain": [
       "<IPython.core.display.HTML object>"
      ]
     },
     "metadata": {},
     "output_type": "display_data"
    },
    {
     "name": "stdout",
     "output_type": "stream",
     "text": [
      "No automatic translations for this sample.\n"
     ]
    },
    {
     "name": "stderr",
     "output_type": "stream",
     "text": [
      "ERROR:logger:3617\n",
      " 88%|███████████████████████████████████████████████████████████████████████████████████████████████▉             | 88/100 [03:22<00:48,  4.05s/it]"
     ]
    },
    {
     "name": "stdout",
     "output_type": "stream",
     "text": [
      "-----> For this sample we compare the Incorrect translation with the Good translation.\n",
      "\n"
     ]
    },
    {
     "data": {
      "text/html": [
       "\n",
       "    <style>\n",
       "    mark {\n",
       "        background-color: #4CAF50;\n",
       "        color: black;\n",
       "      }\n",
       "    </style>\n",
       "    <body>\n",
       "    <h3>35844</h3>\n",
       "    <p>Source: On October 7 an engine separated on takeoff, without injuries. Russia briefly grounded Il-76s after that accident.</p>\n",
       "    <p>Reference: ७ ऑक्टोबर रोजी उड्डाण करताना इंजीन निखळले, कोणतीही दुखापत झाली नाही. त्या घटनेनंतर रशियाने काही काळासाठी Il-76 ची उड्डाणे रद्द केली.</p>\n",
       "    <p>Good translation: 7 ऑक्टोबर रोजी टेकऑफवर इंजिन वेगळे झाले, कोणतीही दुखापत झाली नाही. त्या अपघातानंतर रशियाने Il-76s रद्द केली.</p>\n",
       "    <p>Incorrect: 7 ऑक्टोबर रोजी टेकऑफवर इंजिन वेगळे झाले, कोणतीही दुखापत झाली नाही. त्या अपघातानंतर रशियाने Il-76s <mark>थोडक्यात ग्राउंड केले</mark>.</p>\n",
       "    <p>Phenomenon: overly-literal-vs-synonym</p>\n",
       "    </body>\n",
       "    "
      ],
      "text/plain": [
       "<IPython.core.display.HTML object>"
      ]
     },
     "metadata": {},
     "output_type": "display_data"
    },
    {
     "name": "stderr",
     "output_type": "stream",
     "text": [
      "ERROR:logger:35844\n",
      " 89%|█████████████████████████████████████████████████████████████████████████████████████████████████            | 89/100 [03:25<00:42,  3.83s/it]"
     ]
    },
    {
     "name": "stdout",
     "output_type": "stream",
     "text": [
      "-----> For this sample we compare the Incorrect translation with the Good translation.\n",
      "\n"
     ]
    },
    {
     "data": {
      "text/html": [
       "\n",
       "    <style>\n",
       "    mark {\n",
       "        background-color: #4CAF50;\n",
       "        color: black;\n",
       "      }\n",
       "    </style>\n",
       "    <body>\n",
       "    <h3>4419</h3>\n",
       "    <p>Source: Le concierge a attendu la coiffeuse pendant un moment.</p>\n",
       "    <p>Reference: The janitor waited for the hairdresser for a while.</p>\n",
       "    <p>Good translation: The janitor waited for the female hairdresser for a while.</p>\n",
       "    <p>Incorrect: The janitor waited for the <mark>male</mark> hairdresser for a while.</p>\n",
       "    <p>Phenomenon: ambiguous-translation-wrong-gender-female-pro</p>\n",
       "    </body>\n",
       "    "
      ],
      "text/plain": [
       "<IPython.core.display.HTML object>"
      ]
     },
     "metadata": {},
     "output_type": "display_data"
    },
    {
     "name": "stdout",
     "output_type": "stream",
     "text": [
      "To accept the suggested annotation click on enter. To skip this one enter skip. To exit enter exit and enter anything else to manually annotate:exit\n"
     ]
    },
    {
     "name": "stderr",
     "output_type": "stream",
     "text": [
      " 89%|█████████████████████████████████████████████████████████████████████████████████████████████████            | 89/100 [03:30<00:26,  2.37s/it]\n"
     ]
    },
    {
     "data": {
      "text/plain": [
       "-1"
      ]
     },
     "execution_count": 4,
     "metadata": {},
     "output_type": "execute_result"
    }
   ],
   "source": [
    "# THE ACTUAL PART\n",
    "logger.setLevel(logging.INFO)\n",
    "process_phenomena(samples, manual=True, detokenize=True)\n"
   ]
  },
  {
   "cell_type": "code",
   "execution_count": 7,
   "id": "786c4324",
   "metadata": {},
   "outputs": [
    {
     "data": {
      "text/plain": [
       "151"
      ]
     },
     "execution_count": 7,
     "metadata": {},
     "output_type": "execute_result"
    }
   ],
   "source": [
    "len(annotations)"
   ]
  },
  {
   "cell_type": "code",
   "execution_count": null,
   "id": "7790fef4",
   "metadata": {},
   "outputs": [],
   "source": [
    "# After this cell there are extra stuff - no need to run"
   ]
  },
  {
   "cell_type": "code",
   "execution_count": 109,
   "id": "1bce7e87",
   "metadata": {},
   "outputs": [],
   "source": [
    "# To run normalization over the already annotated samples in coreference-based-on-commonsense\n",
    "# No need to do that for manual annotation!\n",
    "for idx in annotations:\n",
    "    sample = annotations[idx]\n",
    "    good, _, _ = ref_or_good(sample[\"reference\"], sample[\"good-translation\"], sample[\"incorrect-translation\"])\n",
    "    bad = sample['incorrect-translation']\n",
    "    change = sample['annotation']\n",
    "    try:\n",
    "        sample['annotation'] = standardize_annotation(change, good, bad)\n",
    "    except:\n",
    "        print(idx)"
   ]
  },
  {
   "cell_type": "code",
   "execution_count": 112,
   "id": "5871f01c",
   "metadata": {},
   "outputs": [],
   "source": [
    "with open(checkpoint, \"w+\") as f:\n",
    "    json.dump(annotations, f, indent=2, ensure_ascii=False)  # encode dict into JSON"
   ]
  },
  {
   "cell_type": "code",
   "execution_count": 2,
   "id": "92fc91f9",
   "metadata": {},
   "outputs": [],
   "source": [
    "# for checking if all langpairs are correct\n",
    "langpairs = set()\n",
    "for sample in dataset[\"train\"]:\n",
    "    langpairs.add(sample[\"langpair\"])"
   ]
  },
  {
   "cell_type": "code",
   "execution_count": 6,
   "id": "e5f26a66",
   "metadata": {},
   "outputs": [],
   "source": [
    "langpairs_keys = list(langpairs)"
   ]
  },
  {
   "cell_type": "code",
   "execution_count": null,
   "id": "b899069f",
   "metadata": {},
   "outputs": [],
   "source": [
    "# to count the number of samples in any phenomena\n",
    "# No need to do that for manual annotation!\n",
    "basic_lang = ['en', 'de', 'fr', 'mr', 'tr']\n",
    "for p in ['coreference-based-on-commonsense', 'lexical-overlap',\n",
    "         'xnli-addition-contradiction', 'xnli-addition-neutral',\n",
    "         'xnli-omission-contradiction', 'xnli-omission-neutral']:\n",
    "    print(\"**********************\", p)\n",
    "    l_found = dict(zip(langpairs_keys, np.zeros(len(langpairs))))\n",
    "    for sample in dataset[\"train\"]:\n",
    "        src, tgt = sample[\"langpair\"].split('-')\n",
    "        if sample['phenomena'] == p and l_found[sample[\"langpair\"]] == 0 and (src not in basic_lang or tgt not in basic_lang):\n",
    "            print(sample[\"langpair\"], \": \\n\\t\", sample['source'], \"\\n\\t\", sample['good-translation'])\n",
    "            l_found[sample[\"langpair\"]] = 1"
   ]
  }
 ],
 "metadata": {
  "kernelspec": {
   "display_name": ".env",
   "language": "python",
   "name": ".env"
  },
  "language_info": {
   "codemirror_mode": {
    "name": "ipython",
    "version": 3
   },
   "file_extension": ".py",
   "mimetype": "text/x-python",
   "name": "python",
   "nbconvert_exporter": "python",
   "pygments_lexer": "ipython3",
   "version": "3.11.3"
  }
 },
 "nbformat": 4,
 "nbformat_minor": 5
}
